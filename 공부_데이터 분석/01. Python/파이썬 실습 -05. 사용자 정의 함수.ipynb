{
 "cells": [
  {
   "cell_type": "markdown",
   "id": "b6893a10",
   "metadata": {},
   "source": [
    "# 함수 (Function)"
   ]
  },
  {
   "cell_type": "code",
   "execution_count": 154,
   "id": "dad74446",
   "metadata": {},
   "outputs": [
    {
     "name": "stdout",
     "output_type": "stream",
     "text": [
      "hahaha\n",
      "None\n"
     ]
    }
   ],
   "source": [
    "# 함수 정의 (매개변수가 없는 함수)\n",
    "def something():\n",
    "    print('hahaha')\n",
    "\n",
    "# 함수 호출 (사용)\n",
    "x = something() #hahaha #매개변수가 없으므로 인수도 없어야 한다.\n",
    "print(x)        #None"
   ]
  },
  {
   "cell_type": "code",
   "execution_count": 9,
   "id": "6db64dae",
   "metadata": {},
   "outputs": [
    {
     "name": "stdout",
     "output_type": "stream",
     "text": [
      "2 가 크다\n",
      "4 가 크다\n",
      "두 값은 같다\n",
      "None\n"
     ]
    }
   ],
   "source": [
    "# 함수 정의 (매개변수가 있는 함수)\n",
    "def mymax(a,b):\n",
    "    if a>b:\n",
    "        print(a,'가 크다')\n",
    "    elif a<b :\n",
    "        print(b,'가 크다')\n",
    "    else :\n",
    "        print('두 값은 같다')\n",
    "\n",
    "# 함수 호출 (사용)\n",
    "mymax(1,2)        #2 가 크다\n",
    "mymax(4,3)        #4 가 크다\n",
    "z = mymax(5,5)    #두 값은 같다\n",
    "print(z)          #None"
   ]
  },
  {
   "cell_type": "code",
   "execution_count": 3,
   "id": "052126d4",
   "metadata": {},
   "outputs": [
    {
     "name": "stdout",
     "output_type": "stream",
     "text": [
      "{'food': '스테이크', 'drink': '적포도주', 'dessert': '치즈케익'}\n",
      "{'food': '잔치국수', 'drink': '막걸리', 'dessert': '파전'}\n"
     ]
    }
   ],
   "source": [
    "# 함수 정의\n",
    "def restaurant(food, drink, dessert):\n",
    "    return {'food':food, 'drink':drink, 'dessert':dessert}\n",
    "\n",
    "# 함수 호출 방법\n",
    "# 1. 위치 인수를 이용한 함수의 호출\n",
    "a = restaurant('스테이크', '적포도주', '치즈케익')\n",
    "print(a) # {'food': '스테이크', 'drink': '적포도주', 'dessert': '치즈케익'}\n",
    "\n",
    "# 2. 키워드 인수를 이용한 함수의 호출\n",
    "b = restaurant(drink='막걸리', dessert='파전', food='잔치국수')\n",
    "print(b) # {'food': '잔치국수', 'drink': '막걸리', 'dessert': '파전'}\n",
    "# 키워드 인수 활용시 순서에 상관없이 호출 가능하다"
   ]
  },
  {
   "cell_type": "code",
   "execution_count": 14,
   "id": "5d402922",
   "metadata": {},
   "outputs": [
    {
     "name": "stdout",
     "output_type": "stream",
     "text": [
      "{'food': '연어초밥', 'drink': '사케', 'dessert': '아이스크림'}\n",
      "{'food': '돈까스', 'drink': '사케', 'dessert': '아이스크림'}\n"
     ]
    }
   ],
   "source": [
    "# 매개변수가 기본값을 갖고 있다면?\n",
    "def restaurant(food='연어초밥', drink='사케', dessert='아이스크림'):\n",
    "    return {'food':food, 'drink':drink, 'dessert':dessert}\n",
    "\n",
    "print(restaurant()) #{'food': '연어초밥', 'drink': '사케', 'dessert': '아이스크림'}\n",
    "print(restaurant('돈까스')) #{'food': '돈까스', 'drink': '사케', 'dessert': '아이스크림'}\n",
    "#위치인수에 의해 food에 돈까스가 들어간다.\n"
   ]
  },
  {
   "cell_type": "code",
   "execution_count": 2,
   "id": "af28a4d0",
   "metadata": {},
   "outputs": [
    {
     "name": "stdout",
     "output_type": "stream",
     "text": [
      "5000\n",
      "sales() 함수 호출 후 price 값:  1000\n"
     ]
    }
   ],
   "source": [
    "#지역변수와 전역변수\n",
    "\n",
    "price = 1000 #전역변수\n",
    "\n",
    "# 함수 정의\n",
    "def sales():\n",
    "    price = 5000 #지역변수\n",
    "    print(price)\n",
    "\n",
    "# 함수 호출\n",
    "sales() #5000\n",
    "print('sales() 함수 호출 후 price 값: ', price) #1000\n"
   ]
  },
  {
   "cell_type": "code",
   "execution_count": 17,
   "id": "c730f0f7",
   "metadata": {},
   "outputs": [
    {
     "name": "stdout",
     "output_type": "stream",
     "text": [
      "5000\n",
      "sales() 함수 호출 후 price 값:  5000\n"
     ]
    }
   ],
   "source": [
    "#지역변수와 전역변수\n",
    "\n",
    "price = 1000 #전역변수\n",
    "\n",
    "# 함수 정의\n",
    "def sales():\n",
    "    global price #전역변수를 사용하겠다는 선언\n",
    "    price = 5000 #전역변수\n",
    "    print(price)\n",
    "\n",
    "# 함수 호출\n",
    "sales()\n",
    "print('sales() 함수 호출 후 price 값: ', price) #5000"
   ]
  },
  {
   "cell_type": "code",
   "execution_count": 18,
   "id": "4eef354f",
   "metadata": {},
   "outputs": [],
   "source": [
    "# 일반 매개변수 begin, end와 기본값을 갖는 매개변수 step이 혼합된 함수\n",
    "\n",
    "# err : 기본값을 가지는 인수 뒤에 일반 인수가 올 수 없다.\n",
    "# def calcstep(begin, step=1, end):\n",
    "#     pass \n",
    "\n",
    "# 함수 정의\n",
    "def calcstep(begin, end, step=1):\n",
    "    sum = 0\n",
    "    for num in range(begin, end+1, step):\n",
    "        sum +=num\n",
    "    return sum #print({sum})이면 {55}만 출력해주고 아래 함수 호출에서는 None\n",
    "\n",
    "# 함수 호출\n",
    "print('1~10까지의 합 = ', calcstep(1,10)) #위치 인수 호출\n",
    "print('1~10까지의 합 = ', calcstep(end=10, begin=1)) #키워드 인수 호출"
   ]
  },
  {
   "cell_type": "markdown",
   "id": "d35fefd1",
   "metadata": {},
   "source": [
    "## [문제] 다음과 같은 결과를 출력하는 함수를 정의하시오.\n",
    "\n",
    "<pre>\n",
    "print_star(5)\n",
    "*\n",
    "**\n",
    "***\n",
    "****\n",
    "*****\n",
    "</pre>"
   ]
  },
  {
   "cell_type": "code",
   "execution_count": 20,
   "id": "d959c3c3",
   "metadata": {},
   "outputs": [
    {
     "name": "stdout",
     "output_type": "stream",
     "text": [
      "*\n",
      "**\n",
      "***\n",
      "****\n",
      "*****\n"
     ]
    }
   ],
   "source": [
    "# A.\n",
    "def print_star(num):\n",
    "    for i in range(1, num+1):\n",
    "        print('*'*i)\n",
    "\n",
    "# print_star(5)\n",
    "print_star(5)"
   ]
  },
  {
   "cell_type": "code",
   "execution_count": 67,
   "id": "726102ac",
   "metadata": {},
   "outputs": [
    {
     "name": "stdout",
     "output_type": "stream",
     "text": [
      "*****\n"
     ]
    }
   ],
   "source": [
    "# A.\n",
    "def print_star(num):\n",
    "    for i in range(1, num+1):\n",
    "        result = '*'*i\n",
    "    return result\n",
    "\n",
    "# print_star(5)\n",
    "print(print_star(5))"
   ]
  },
  {
   "cell_type": "markdown",
   "id": "7443b345",
   "metadata": {},
   "source": [
    "## [문제] 함수를 이용한 계산기\n",
    "<pre>\n",
    "이항사칙연산식을 매개변수로 받아 연산의 결과를 출력하는 함수를 정의하시오.\n",
    "* 함수 형식 : calculator(exp)\n",
    "* exp: 사용자로부터 입력받은 문자열 형태의 연산식\n",
    "\n",
    "[실행예시]\n",
    "계산식을 입력하세요: 10+20\n",
    "10+20=30.33\n",
    "\n",
    "계산식을 입력하세요: 10a20\n",
    "연산자 오류\n",
    "</pre>"
   ]
  },
  {
   "cell_type": "code",
   "execution_count": 14,
   "id": "867d8e5b",
   "metadata": {},
   "outputs": [
    {
     "name": "stdout",
     "output_type": "stream",
     "text": [
      "계산식을 입력하세요: 10/2\n",
      "10/2=5.00\n"
     ]
    }
   ],
   "source": [
    "# return 없는 경우\n",
    "\n",
    "exp = input('계산식을 입력하세요: ')\n",
    "\n",
    "def calculator (exp):\n",
    "    find = False # 초기화값\n",
    "    for operator in ['+','-','*','/'] :\n",
    "        if operator in exp:\n",
    "            find = True\n",
    "            if operator == '+':\n",
    "                s = exp.split(operator)\n",
    "                result = float(s[0]) + float(s[1])\n",
    "                print(f'{exp}={result:.2f}')\n",
    "            elif operator == '-':\n",
    "                s = exp.split(operator)\n",
    "                result = float(s[0]) - float(s[1])\n",
    "                print(f'{exp}={result:.2f}')\n",
    "            elif operator == '*':\n",
    "                s = exp.split(operator)\n",
    "                result = float(s[0]) * float(s[1])\n",
    "                print(f'{exp}={result:.2f}')\n",
    "            elif operator == '/':\n",
    "                s = exp.split(operator)\n",
    "                result = float(s[0]) / float(s[1])\n",
    "                print(f'{exp}={result:.2f}')\n",
    "    \n",
    "    if find == False : #find는 True\n",
    "        print('연산자 오류')\n",
    "\n",
    "calculator(exp)"
   ]
  },
  {
   "cell_type": "code",
   "execution_count": 18,
   "id": "63477edc",
   "metadata": {},
   "outputs": [
    {
     "name": "stdout",
     "output_type": "stream",
     "text": [
      "계산식을 입력하세요: 8/2\n",
      "8/2=4.00\n"
     ]
    }
   ],
   "source": [
    "# return 있는 경우\n",
    "\n",
    "exp = input('계산식을 입력하세요: ')\n",
    "\n",
    "def calculator (exp):\n",
    "    find = False # 초기화값\n",
    "    result = 0.0\n",
    "    for operator in ['+','-','*','/'] :\n",
    "        if operator in exp:\n",
    "            find = True\n",
    "            if operator == '+':\n",
    "                s = exp.split(operator)\n",
    "                result = float(s[0]) + float(s[1])\n",
    "                end = f'{exp}={result:.2f}'\n",
    "            elif operator == '-':\n",
    "                s = exp.split(operator)\n",
    "                result = float(s[0]) - float(s[1])\n",
    "                end = f'{exp}={result:.2f}'\n",
    "            elif operator == '*':\n",
    "                s = exp.split(operator)\n",
    "                result = float(s[0]) * float(s[1])\n",
    "                end = f'{exp}={result:.2f}'\n",
    "            elif operator == '/':\n",
    "                s = exp.split(operator)\n",
    "                result = float(s[0]) / float(s[1])\n",
    "                end = f'{exp}={result:.2f}'\n",
    "    \n",
    "    if find == False : #find는 True\n",
    "        end = '연산자 오류'\n",
    "    \n",
    "    return end\n",
    "\n",
    "print(calculator(exp))"
   ]
  },
  {
   "cell_type": "code",
   "execution_count": 128,
   "id": "6400881d",
   "metadata": {},
   "outputs": [
    {
     "name": "stdout",
     "output_type": "stream",
     "text": [
      "계산식을 입력하세요: 10/0\n",
      "0으로 나눌 수 없습니다.\n"
     ]
    }
   ],
   "source": [
    "# A.\n",
    "\n",
    "# 함수 정의\n",
    "def calculator (exp):\n",
    "    op_index = 0\n",
    "    operator = ' '\n",
    "    for op in ['+','-','*','/'] :\n",
    "        op_index = exp.find(op) #find() : op의 오프셋 값 리턴 (못찾으면 -1)\n",
    "        if op_index != -1:\n",
    "            operator = op\n",
    "            break\n",
    "            \n",
    "    if op_index == -1: # 들여쓰기를 한다면, 연산자 오류가 3번 나올 것\n",
    "        print('연산자 오류')\n",
    "        return # 어떤 조건에 의해 반환값 없이 return 구문을 실행하면 함수의 실행을 중단한다. \n",
    "    \n",
    "    value1 = float(exp.split(operator)[0])\n",
    "    value2 = float(exp.split(operator)[1])\n",
    "    \n",
    "    result = 0.0\n",
    "    if operator == '+':\n",
    "        result = value1 + value2\n",
    "    elif operator == '-':\n",
    "        result = value1 - value2\n",
    "    elif operator == '*':\n",
    "        result = value1 * value2\n",
    "    elif operator == '/':\n",
    "        if value2 == 0:\n",
    "            print('0으로 나눌 수 없습니다.')\n",
    "            return # 어떤 조건에 의해 반환값 없이 return 구문을 실행하면 함수의 실행을 중단한다.\n",
    "        else:\n",
    "            result = value1 / value2\n",
    "    \n",
    "    print(f'{exp}={result:.2f}')\n",
    "\n",
    "\n",
    "# 함수 실행\n",
    "exp = input('계산식을 입력하세요: ')\n",
    "calculator(exp)"
   ]
  },
  {
   "cell_type": "code",
   "execution_count": 101,
   "id": "3dc43899",
   "metadata": {},
   "outputs": [
    {
     "name": "stdout",
     "output_type": "stream",
     "text": [
      "2\n",
      "-1\n"
     ]
    }
   ],
   "source": [
    "print('10+20'.find('+')) #2\n",
    "print('10+20'.find('/')) #-1"
   ]
  },
  {
   "cell_type": "markdown",
   "id": "8903086c",
   "metadata": {},
   "source": [
    "## eval() (동적 코드 실행)\n",
    "- eval 함수는 '문자열 형태로 된 파이썬 표현식'을 매개변수로 넣으면, 그것을 평가하여 결과를 리턴\n",
    "- 이 함수를 이용하면 실시간으로 코드를 만들어 실행할 수도 있다."
   ]
  },
  {
   "cell_type": "code",
   "execution_count": 108,
   "id": "2ec0e852",
   "metadata": {},
   "outputs": [
    {
     "name": "stdout",
     "output_type": "stream",
     "text": [
      "14\n",
      "5\n",
      "서울,대전,광주,"
     ]
    }
   ],
   "source": [
    "result = eval('2+3*4')\n",
    "print(result) #14\n",
    "# 문자열 형태의 표현식'2+3*4'에 대해 연산자 우선순위를 지켜서 연산 후 결과 리턴 \n",
    "\n",
    "a = 2\n",
    "print(eval('a+3')) #5\n",
    "# 다른 변수와도 연동 가능\n",
    "\n",
    "city = eval(\"['서울', '대전', '광주']\") # 보여지기에는 리스트인데, 실제로는 문자열인 표현식 \"['서울', '대전', '광주']\"\n",
    "for c in city: # 문자열이 아닌 리스트로 인식함 ['서울', '대전', '광주']\n",
    "    print(c, end=',') # 서울,대전,광주,"
   ]
  },
  {
   "cell_type": "code",
   "execution_count": 111,
   "id": "0f591a09",
   "metadata": {},
   "outputs": [
    {
     "name": "stdout",
     "output_type": "stream",
     "text": [
      "계산식을 입력하세요: 10/5\n",
      "10/5=2.00\n"
     ]
    }
   ],
   "source": [
    "exp = input('계산식을 입력하세요: ')\n",
    "result = eval(exp)\n",
    "print(f'{exp}={result:.2f}')"
   ]
  },
  {
   "cell_type": "markdown",
   "id": "d6b25f74",
   "metadata": {},
   "source": [
    "# \\*arg와 \\**kwargs 매개변수"
   ]
  },
  {
   "cell_type": "code",
   "execution_count": 112,
   "id": "eac93987",
   "metadata": {},
   "outputs": [
    {
     "name": "stdout",
     "output_type": "stream",
     "text": [
      "결과: ()\n",
      "결과: (1,)\n",
      "결과: (1, 2, 3, 'b', 'c')\n"
     ]
    }
   ],
   "source": [
    "def test(*args) :\n",
    "    print('결과:', args) # 인수 1이 매개변수 *args에 들어가서 튜플 형태의 args로 나온다. -> 이때 튜플 형태의 args는 함수 내에 return이 없으므로 다른 곳에 할당하여 사용할 수 없다. ex) 튜플을 리스트로 바꿔서 활용하는 것 불가능.\n",
    "\n",
    "test()\n",
    "test(1) #튜플은 값이 하나일 때 항상 뒤에가 콤마로 끝나야 한다\n",
    "test(1,2,3,'b','c')"
   ]
  },
  {
   "cell_type": "code",
   "execution_count": 41,
   "id": "10704e39",
   "metadata": {},
   "outputs": [
    {
     "name": "stdout",
     "output_type": "stream",
     "text": [
      "결과: ()\n",
      "결과: (1,)\n",
      "결과: (1, 2, 3, 'b', 'c')\n",
      "결\n"
     ]
    }
   ],
   "source": [
    "# 만약 print 대신 return을 쓴다면?\n",
    "def test(*args) :\n",
    "    return f'결과: {args}' # return args하면 args만 return\n",
    "\n",
    "a = test()\n",
    "b = test(1) #튜플은 값이 하나일 때 항상 뒤에가 콤마로 끝나야 한다\n",
    "c = test(1,2,3,'b','c')\n",
    "print(a,b,c, sep='\\n')\n",
    "print(a[0])"
   ]
  },
  {
   "cell_type": "code",
   "execution_count": 53,
   "id": "52e36a98",
   "metadata": {},
   "outputs": [
    {
     "name": "stdout",
     "output_type": "stream",
     "text": [
      "결과 : ()\n",
      "결과 : (1,)\n",
      "결과 : (1, 2, 3, 'b', 'c')\n"
     ]
    }
   ],
   "source": [
    "# 만약 print 대신 return을 쓴다면?\n",
    "def test(*args) :\n",
    "    return args\n",
    "\n",
    "a = test()\n",
    "b = test(1) #튜플은 값이 하나일 때 항상 뒤에가 콤마로 끝나야 한다\n",
    "c = test(1,2,3,'b','c')\n",
    "print(f'결과 : {a}')\n",
    "print(f'결과 : {b}')\n",
    "print(f'결과 : {c}')"
   ]
  },
  {
   "cell_type": "code",
   "execution_count": 117,
   "id": "4ed00936",
   "metadata": {},
   "outputs": [
    {
     "name": "stdout",
     "output_type": "stream",
     "text": [
      "a=> 10\n",
      "b=> 20\n",
      "args=> ()\n",
      "a=> 10\n",
      "b=> 20\n",
      "args=> (30,)\n",
      "a=> 10\n",
      "b=> 20\n",
      "args=> (30, 40)\n"
     ]
    }
   ],
   "source": [
    "def myargs(a,b,*args): # 위치변수와 가변변수 혼합시 가변변수는 가급적 맨뒤에다\n",
    "    print('a=>',a)\n",
    "    print('b=>',b)\n",
    "    print('args=>',args)\n",
    "\n",
    "# myargs(10) #err\n",
    "myargs(10,20)\n",
    "myargs(10,20,30)\n",
    "myargs(10,20,30,40)"
   ]
  },
  {
   "cell_type": "code",
   "execution_count": 54,
   "id": "08524c6e",
   "metadata": {},
   "outputs": [
    {
     "name": "stdout",
     "output_type": "stream",
     "text": [
      "a=> 2\n",
      "b=> 3\n",
      "args=> (1, 2)\n"
     ]
    }
   ],
   "source": [
    "# 가변변수를 먼저 선언한 경우에는, 나머지 위치 변수는 키워드 인수로 값을 전달해야 한다.\n",
    "# 따라서 가변과 위치 매개변수를 동시에 선언할 경우에는, 가급적 위치 매개변수를 앞에 선언한다.\n",
    "\n",
    "def myargs(*args,a,b):\n",
    "    print('a=>',a)\n",
    "    print('b=>',b)\n",
    "    print('args=>',args)\n",
    "\n",
    "myargs(1,2,a=2,b=3)"
   ]
  },
  {
   "cell_type": "code",
   "execution_count": 56,
   "id": "de67232f",
   "metadata": {
    "scrolled": true
   },
   "outputs": [
    {
     "name": "stdout",
     "output_type": "stream",
     "text": [
      "5 {}\n",
      "5 {'b': 7, 'c': 3}\n"
     ]
    }
   ],
   "source": [
    "def myargs(a, **kwargs):\n",
    "    print(a, kwargs)\n",
    "#kwargs는 0개~무한개 : 0개여도 ㄱㅊ // 그러나 위치변수는 비어있으면 안된다\n",
    "myargs(5) #5 {}\n",
    "#myargs(b=7, c=3) # err : 위치변수를 지정해주지 않았으니까\n",
    "myargs(5, b=7, c=3) #5 {'b': 7, 'c': 3}"
   ]
  },
  {
   "cell_type": "code",
   "execution_count": 120,
   "id": "75a6ad58",
   "metadata": {},
   "outputs": [
    {
     "name": "stdout",
     "output_type": "stream",
     "text": [
      "1~10 합계: 55\n"
     ]
    }
   ],
   "source": [
    "def calcstep(**kwargs):\n",
    "    begin = kwargs['begin'] #딕셔너리에서 value를 불러오는 법\n",
    "    end = kwargs['end'] # 해당 키가 없을 경우에는 오류로 처리\n",
    "    step = kwargs['step']\n",
    "    \n",
    "    sum = 0\n",
    "    for n in range(begin, end+1, step):\n",
    "        sum += n\n",
    "    \n",
    "    return sum\n",
    "\n",
    "print('1~10 합계:', calcstep(begin=1, end=10, step=1))"
   ]
  },
  {
   "cell_type": "code",
   "execution_count": 74,
   "id": "48322837",
   "metadata": {},
   "outputs": [
    {
     "name": "stdout",
     "output_type": "stream",
     "text": [
      "1~10 합계: 55\n"
     ]
    }
   ],
   "source": [
    "def calcstep(step=1, **kwargs):\n",
    "    begin = kwargs['begin']\n",
    "    end = kwargs['end']\n",
    "    \n",
    "    sum = 0\n",
    "    for n in range(begin, end+1, step):\n",
    "        sum += n\n",
    "    \n",
    "    return sum\n",
    "\n",
    "print('1~10 합계:', calcstep(begin=1, end=10))"
   ]
  },
  {
   "cell_type": "markdown",
   "id": "b68944de",
   "metadata": {},
   "source": [
    "# Filter, Map, Reduce"
   ]
  },
  {
   "cell_type": "code",
   "execution_count": 136,
   "id": "3745c0dc",
   "metadata": {},
   "outputs": [
    {
     "name": "stdout",
     "output_type": "stream",
     "text": [
      "[45, 54]\n"
     ]
    }
   ],
   "source": [
    "# filter : 조건으로 걸러진 결과를 리스트로 반환\n",
    "\n",
    "def flunk(s) : # 낙제자를 필터링하는 함수\n",
    "    return s < 60 #불린\n",
    "\n",
    "score = [45,89,72,54,94]\n",
    "print(list(filter(flunk, score))) #[45, 54]\n",
    "# s<60가 True인 것만 필터링\n",
    "# filter만 하면 출력x // 리스트로 담아줘야 함"
   ]
  },
  {
   "cell_type": "code",
   "execution_count": 141,
   "id": "ae2de1da",
   "metadata": {},
   "outputs": [
    {
     "name": "stdout",
     "output_type": "stream",
     "text": [
      "낙제점수: 45\n",
      "<class 'int'>\n",
      "낙제점수: 54\n",
      "<class 'int'>\n"
     ]
    }
   ],
   "source": [
    "def flunk(s) :\n",
    "    return s < 60 \n",
    "\n",
    "score = [45,89,72,54,94]\n",
    "for s in filter(flunk, score):\n",
    "    print('낙제점수:',s) #s는 int"
   ]
  },
  {
   "cell_type": "code",
   "execution_count": 1,
   "id": "80be8ace",
   "metadata": {},
   "outputs": [
    {
     "name": "stdout",
     "output_type": "stream",
     "text": [
      "[22.5, 44.5, 36.0, 27.0, 47.0]\n"
     ]
    }
   ],
   "source": [
    "# map : 함수 처리 후에 결과를 리스트로 반환\n",
    "def half(s):\n",
    "    return s/2\n",
    "\n",
    "score = [45,89,72,54,94]\n",
    "print(list(map(half, score))) #[22.5, 44.5, 36.0, 27.0, 47.0]"
   ]
  },
  {
   "cell_type": "code",
   "execution_count": 147,
   "id": "b69d33c6",
   "metadata": {},
   "outputs": [
    {
     "name": "stdout",
     "output_type": "stream",
     "text": [
      "354\n",
      "HelloPython\n"
     ]
    }
   ],
   "source": [
    "# reduce : 집계 함수 처리 후에 결과를 하나의 값으로 반환\n",
    "# 보통 2개의 매개변수를 갖는다 (a와 b)\n",
    "# 첫 번째 인수는 누적자(accumulator)가 되고, 두 번째 인자에는 현재 값이 넘어옴.\n",
    "\n",
    "from functools import reduce\n",
    "\n",
    "def sum(a, b):\n",
    "    return a+b #누적된 값은 a, 방금 들어온 현재 값은 b\n",
    "\n",
    "score = [45,89,72,54,94]\n",
    "print(reduce(sum, score)) #354\n",
    "\n",
    "alphabet = ['H','e','l','l','o','','P','y','t','h','o','n']\n",
    "print(reduce(sum, alphabet)) #HelloPython\n",
    "# 단순한 숫자 연산 뿐만 아니라, 문자열 결합도 가능하다!"
   ]
  },
  {
   "cell_type": "code",
   "execution_count": 24,
   "id": "575bd02f",
   "metadata": {},
   "outputs": [
    {
     "name": "stdout",
     "output_type": "stream",
     "text": [
      "낙제점수: 45\n",
      "낙제점수: 54\n",
      "[45, 54]\n",
      "[22.5, 44.5, 36.0, 27.0, 47.0]\n",
      "354\n",
      "HelloPython\n"
     ]
    }
   ],
   "source": [
    "# lambda 함수 또는 lambda 표현식 : 간단한 함수의 경우, 불필요하게 사전에 함수 정의할 필요 없이, 익명의 함수로 정의 가능\n",
    "\n",
    "\n",
    "\n",
    "# 사전에 함수 정의할 필요 없다!\n",
    "# def flunk(s) :\n",
    "#     return s < 60 \n",
    "\n",
    "# 익명의 함수로 정의하자!!\n",
    "score = [45,89,72,54,94]\n",
    "for s in filter(lambda x:x<60, score): #score가 매개변수 x로 차례대로 들어온다.\n",
    "    print('낙제점수:',s)\n",
    "\n",
    "score = [45,89,72,54,94]\n",
    "print(list(filter(lambda x:x<60, score))) #[45, 54]\n",
    "\n",
    "\n",
    "\n",
    "# 사전에 함수 정의할 필요 없다!\n",
    "# def half(s):\n",
    "#     return s/2\n",
    "\n",
    "# 익명의 함수로 정의하자!!\n",
    "score = [45,89,72,54,94]\n",
    "print(list(map(lambda x:x/2, score))) #[22.5, 44.5, 36.0, 27.0, 47.0]\n",
    "\n",
    "\n",
    "\n",
    "# 사전에 함수 정의할 필요 없다!\n",
    "from functools import reduce\n",
    "\n",
    "# def sum(a, b):\n",
    "#     return a+b #누적된 값은 a, 방금 들어온 현재 값은 b\n",
    "\n",
    "# 익명의 함수로 정의하자!!\n",
    "score = [45,89,72,54,94]\n",
    "print(reduce(lambda x,y:x+y, score)) #354\n",
    "\n",
    "alphabet = ['H','e','l','l','o','','P','y','t','h','o','n']\n",
    "print(reduce(lambda x,y:x+y, alphabet)) #HelloPython\n",
    "\n"
   ]
  },
  {
   "cell_type": "markdown",
   "id": "a5e75c43",
   "metadata": {},
   "source": [
    "# Lambda"
   ]
  },
  {
   "cell_type": "code",
   "execution_count": 2,
   "id": "ff60b922",
   "metadata": {},
   "outputs": [
    {
     "name": "stdout",
     "output_type": "stream",
     "text": [
      "21\n",
      "21\n"
     ]
    }
   ],
   "source": [
    "def myfunc(x,y):\n",
    "    return x+y\n",
    "\n",
    "result = myfunc(10,11)\n",
    "print(result) #21\n",
    "\n",
    "result2 = lambda x,y : x+y\n",
    "#콜론의 왼쪽에는 매개변수, 오른쪽에는 반환해야할 수식을 적는다\n",
    "# lambda 함수를 마치 값처럼 사용할 수 있다.\n",
    "print(result2(10,11)) #21"
   ]
  },
  {
   "cell_type": "code",
   "execution_count": 3,
   "id": "f413f145",
   "metadata": {},
   "outputs": [
    {
     "data": {
      "text/plain": [
       "[1, 4, 9, 16, 25]"
      ]
     },
     "execution_count": 3,
     "metadata": {},
     "output_type": "execute_result"
    }
   ],
   "source": [
    "# a의 제곱값 구하는 함수 만들기 :\n",
    "# List Comprehension을 사용하여 풀 수도 있지만\n",
    "# map 함수 사용 가능하며, 이때 결과값은 리스트로 반환된다.\n",
    "\n",
    "a = [1,2,3,4,5]\n",
    "list(map(lambda x:x**2, a)) # [1, 4, 9, 16, 25]"
   ]
  },
  {
   "cell_type": "code",
   "execution_count": 6,
   "id": "95eee016",
   "metadata": {},
   "outputs": [
    {
     "name": "stdout",
     "output_type": "stream",
     "text": [
      "[1, 2, 3, 4, 5, 6, 7, 8, 9, 10]\n",
      "[1, 4, 3, 16, 5, 36, 7, 64, 9, 100]\n"
     ]
    },
    {
     "data": {
      "text/plain": [
       "[1, 2, 3, 4, 5, 6, 7, 8, 9, 10]"
      ]
     },
     "execution_count": 6,
     "metadata": {},
     "output_type": "execute_result"
    }
   ],
   "source": [
    "# 짝수는 제곱, 홀수는 그대로인 함수 만들기 :\n",
    "# 람다식 내에 삼항연산자 넣기 (한 문장으로 만들 수만 있으면 됨)\n",
    "\n",
    "\n",
    "k = list(range(1,11))\n",
    "print(k) #[1, 2, 3, 4, 5, 6, 7, 8, 9, 10]\n",
    "# 표준 출력에 의한 결과물\n",
    "\n",
    "# 문장에 의해 생성된 객체 값을 보여준 것이지 출력한 것이 아님\n",
    "# 함수의 마지막 문장에 의해 만들어진 결과값이 무엇인지만 보여줌\n",
    "# 파이썬에서는 out으로 명시되어 있음\n",
    "# 결과값 출력하고 싶으면 list 앞에 print()를 써야한다.\n",
    "list(map(lambda x : x**2 if x%2==0 else x, k)) # [1, 4, 3, 16, 5, 36, 7, 64, 9, 100]\n",
    "list(map(lambda x : x**2 if not x%2 else x, k)) # [1, 4, 3, 16, 5, 36, 7, 64, 9, 100]\n",
    "k #[1, 2, 3, 4, 5, 6, 7, 8, 9, 10]"
   ]
  },
  {
   "cell_type": "markdown",
   "id": "6caf07d0",
   "metadata": {},
   "source": [
    "## 값으로서의 함수"
   ]
  },
  {
   "cell_type": "code",
   "execution_count": 7,
   "id": "2036982d",
   "metadata": {},
   "outputs": [
    {
     "name": "stdout",
     "output_type": "stream",
     "text": [
      "1 2\n"
     ]
    }
   ],
   "source": [
    "# 함수를 다른 변수에 적용 가능\n",
    "def add(a,b):\n",
    "    print(a,b)\n",
    "\n",
    "plus = add # 함수를 다른 변수에 적용 가능\n",
    "# add의 메모리 정보를 가져오므로 plus함수가 add함수의 역할을 대신할 수 있다\n",
    "plus(1,2)"
   ]
  },
  {
   "cell_type": "code",
   "execution_count": 10,
   "id": "8dc60f40",
   "metadata": {},
   "outputs": [
    {
     "data": {
      "text/plain": [
       "-1"
      ]
     },
     "execution_count": 10,
     "metadata": {},
     "output_type": "execute_result"
    }
   ],
   "source": [
    "# 함수를 인자로 써서 매개변수로 전달 가능\n",
    "# 첫 번째 매개변수에 들어오는 함수 op에 따라 달라지며, 처리해야할 데이터 a,b를 뒤에 이어 적는다\n",
    "\n",
    "def calc(op,a,b): =\n",
    "    return op(a,b)\n",
    "\n",
    "calc(lambda x,y:x+y, 1,2) # 3\n",
    "calc(lambda x,y:x-y, 1,2) #-1\n",
    "# op는 lambda x,y:x+y"
   ]
  },
  {
   "cell_type": "markdown",
   "id": "81623960",
   "metadata": {},
   "source": [
    "# 내부함수 (지역함수)"
   ]
  },
  {
   "cell_type": "code",
   "execution_count": 13,
   "id": "e25e6538",
   "metadata": {},
   "outputs": [
    {
     "name": "stdout",
     "output_type": "stream",
     "text": [
      "3\n"
     ]
    }
   ],
   "source": [
    "def outer(a,b):\n",
    "    def inner(c,d):    # inner은 지역함수\n",
    "        return c+d\n",
    "    return inner(a,b)  # inner 함수의 실행 결과를 반환\n",
    "\n",
    "print(outer(1,2)) #3"
   ]
  },
  {
   "cell_type": "markdown",
   "id": "7afc8b52",
   "metadata": {},
   "source": [
    "## closure\n",
    "- student에 전달되는 saying인수는 지역변수여서 함수가 리턴하면 사라지는 것이 원칙이다.\n",
    "- 하지만 student가 만든 inner함수를 대입 받은 scit나 dima가 호출될 때 saying 문자열이 정상적으로 출력된다.\n",
    "- 즉, 지역변수가 실행될 때만 존재하고 리턴하면 사라지는 것이 정상이지만, 이 경우에는 예외가 적용된다.\n",
    "- 지역변수가 지속기간이 긴 함수에 의해 계속 사용된다면, 인터프리터는 이 변수를 없애지 않고 **클로져(closure)** 라는 특수 구조를 만들어 계속 유지한다."
   ]
  },
  {
   "cell_type": "code",
   "execution_count": 14,
   "id": "7315f3d0",
   "metadata": {},
   "outputs": [
    {
     "name": "stdout",
     "output_type": "stream",
     "text": [
      "우리는 SCIT 44기 학생들이다.\n",
      "우리는 DIMA 2기 학생들이다.\n"
     ]
    }
   ],
   "source": [
    "# closure\n",
    "\n",
    "def student(saying): #매개변수인 saying도 '로컬 변수'다. 함수 내에서 사용되니까\n",
    "    def inner(kisu): #내부함수 inner는 '로컬 함수' (student는 내부함수 아님)\n",
    "        return f'우리는 {saying} {kisu} 학생들이다.'\n",
    "    return inner # inner 함수의 (실행 결과가 아닌) 구조를 반환\n",
    "\n",
    "scit = student('SCIT') #SCIT가 saying으로 전달되고, inner함수의 구조를 반환한다\n",
    "# 따라서 scit는 inner함수의 구조를 갖게 된 것\n",
    "dima = student('DIMA')\n",
    "\n",
    "print(scit('44기')) #우리는 SCIT 44기 학생들이다.\n",
    "# 44기가 kisu로 전달되고 f''를 반환한다.\n",
    "print(dima('2기')) #우리는 DIMA 2기 학생들이다.\n",
    "\n",
    "#student 함수의 매개변수인 saying은 로컬 변수이므로, 원래는 함수가 실행되면 메모리에서 삭제된다.\n",
    "# 단순 로컬 변수로 쓰인 것이 아니라 closure로 \n",
    "# 내부 함수인 inner 함수의 구조를 가진 scit를 써도"
   ]
  },
  {
   "cell_type": "markdown",
   "id": "0e022bb9",
   "metadata": {},
   "source": [
    "## docstring\n",
    "- docstring : 함수에 대한 설명문으로 help()와 __doc__를 이용해 출력할 수 있다.\n",
    "- help()는 자세히 출력 // __doc__은 docstring만 출력\n",
    "\n",
    "- help(print)\n",
    "- help(sorted)"
   ]
  },
  {
   "cell_type": "code",
   "execution_count": 21,
   "id": "95853791",
   "metadata": {},
   "outputs": [
    {
     "name": "stdout",
     "output_type": "stream",
     "text": [
      "Help on function test in module __main__:\n",
      "\n",
      "test(anything)\n",
      "    이 함수는 연습용 함수입니다.\n",
      "\n"
     ]
    }
   ],
   "source": [
    "def test(anything):\n",
    "    '이 함수는 연습용 함수입니다.' #docstring : 함수 안에 문자 멘트를 남기는 것\n",
    "    return anything\n",
    "\n",
    "help(test)"
   ]
  }
 ],
 "metadata": {
  "kernelspec": {
   "display_name": "Python 3 (ipykernel)",
   "language": "python",
   "name": "python3"
  },
  "language_info": {
   "codemirror_mode": {
    "name": "ipython",
    "version": 3
   },
   "file_extension": ".py",
   "mimetype": "text/x-python",
   "name": "python",
   "nbconvert_exporter": "python",
   "pygments_lexer": "ipython3",
   "version": "3.9.13"
  },
  "toc": {
   "base_numbering": 1,
   "nav_menu": {},
   "number_sections": true,
   "sideBar": true,
   "skip_h1_title": false,
   "title_cell": "Table of Contents",
   "title_sidebar": "Contents",
   "toc_cell": false,
   "toc_position": {
    "height": "calc(100% - 180px)",
    "left": "10px",
    "top": "150px",
    "width": "313.75px"
   },
   "toc_section_display": true,
   "toc_window_display": true
  }
 },
 "nbformat": 4,
 "nbformat_minor": 5
}
