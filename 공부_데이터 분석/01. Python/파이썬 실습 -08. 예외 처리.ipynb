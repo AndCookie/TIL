{
 "cells": [
  {
   "cell_type": "markdown",
   "id": "2927403c",
   "metadata": {},
   "source": [
    "# 예외 (Exception)"
   ]
  },
  {
   "cell_type": "markdown",
   "id": "93b73068",
   "metadata": {},
   "source": [
    "## 예외의 종류"
   ]
  },
  {
   "cell_type": "code",
   "execution_count": 6,
   "id": "5eb00795",
   "metadata": {},
   "outputs": [],
   "source": [
    "a = [1,2,3,4,5]\n",
    "# print(a[5]) # IndexError 발생\n",
    "\n",
    "b = '123a'\n",
    "# c = int(b) # ValueError 발생\n",
    "\n",
    "# f = open('not_exist.txt', 'r') # FileNotFoundError 발생 \n",
    "\n",
    "# data = 10/0 # ZeroDivisionError 발생"
   ]
  },
  {
   "cell_type": "markdown",
   "id": "3025e728",
   "metadata": {},
   "source": [
    "## 예외의 처리"
   ]
  },
  {
   "cell_type": "code",
   "execution_count": 1,
   "id": "00f6f586",
   "metadata": {},
   "outputs": [
    {
     "name": "stdout",
     "output_type": "stream",
     "text": [
      "0으로 나눌 수 없습니다.\n",
      "division by zero\n",
      "프로그램이 끝까지 실행됨\n"
     ]
    }
   ],
   "source": [
    "try:\n",
    "    data=10/0\n",
    "except ZeroDivisionError as e:\n",
    "    print('0으로 나눌 수 없습니다.')\n",
    "    print(e) #division by zero\n",
    "    \n",
    "print('프로그램이 끝까지 실행됨')"
   ]
  },
  {
   "cell_type": "code",
   "execution_count": 11,
   "id": "9b85b5f7",
   "metadata": {},
   "outputs": [
    {
     "name": "stdout",
     "output_type": "stream",
     "text": [
      "리스트의 범위를 벗어났습니다.\n",
      "list index out of range\n",
      "프로그램이 끝까지 실행됨\n"
     ]
    }
   ],
   "source": [
    "try:\n",
    "    a = [1,2,3]\n",
    "    print(a[3])\n",
    "except IndexError as i:\n",
    "    print('리스트의 범위를 벗어났습니다.')\n",
    "    print(i) #list index out of range\n",
    "    \n",
    "print('프로그램이 끝까지 실행됨')"
   ]
  },
  {
   "cell_type": "code",
   "execution_count": 12,
   "id": "7785e4cf",
   "metadata": {},
   "outputs": [
    {
     "name": "stdout",
     "output_type": "stream",
     "text": [
      "리스트의 범위를 벗어났습니다.\n",
      "list index out of range\n",
      "프로그램이 끝까지 실행됨\n"
     ]
    }
   ],
   "source": [
    "try:\n",
    "    a = [1,2,3]\n",
    "    print(a[3])\n",
    "    data=10/0\n",
    "except ZeroDivisionError as e:\n",
    "    print('0으로 나눌 수 없습니다.')\n",
    "    print(e)\n",
    "except IndexError as i:\n",
    "    print('리스트의 범위를 벗어났습니다.')\n",
    "    print(i)\n",
    "# print(a[3])에서 이미 오류가 났으므로, data=10/0까지 가지도 못함.\n",
    "    \n",
    "print('프로그램이 끝까지 실행됨')"
   ]
  },
  {
   "cell_type": "markdown",
   "id": "92a44335",
   "metadata": {},
   "source": [
    "# Class"
   ]
  },
  {
   "cell_type": "code",
   "execution_count": 13,
   "id": "541a144a",
   "metadata": {},
   "outputs": [],
   "source": [
    "# class 안에 아무것도 안써도, 기본 생성자가 자동으로 만들어진다.\n",
    "\n",
    "class A:\n",
    "    pass\n",
    "\n",
    "a = A()"
   ]
  },
  {
   "cell_type": "code",
   "execution_count": null,
   "id": "b962ef79",
   "metadata": {},
   "outputs": [],
   "source": [
    "class A:\n",
    "    def __init___ (self):\n",
    "    pass\n",
    "\n",
    "a = A()"
   ]
  },
  {
   "cell_type": "code",
   "execution_count": 1,
   "id": "aa5ef1fa",
   "metadata": {},
   "outputs": [],
   "source": [
    "class Account :\n",
    "    \n",
    "    # init 함수란?\n",
    "    # : 생성자\n",
    "    # : Account 클래스의 속성(맴버 변수)을 특정 값으로 초기화하기 위한 함수\n",
    "    # : 맴버 변수는 self.owner, self.accNo, self.balance\n",
    "    def  __init__ (self, owner, accNo, balance):\n",
    "        self.owner = owner\n",
    "        self.accNo = accNo\n",
    "        self.balance = balance\n",
    "    \n",
    "    # Account 객체가 가지고 있는 잔고 값을 조회하는 함수\n",
    "    # 이름은 getBalance\n",
    "    # 잔고만 조회하면 되니까 매개변수는 없어도 된다. 따라서 즉 입력값 없는 함수 의 형태로 만들고자 하는데, 그래도 self는 명시해줘야 한다!\n",
    "    def getBalance(self):\n",
    "        return self.balance # 그냥 balance하면 안됨!\n",
    "    \n",
    "    # 계좌 정보 조회 함수\n",
    "    def showAccountInfo(self):\n",
    "        return f'소유주: {self.owner}, 계좌번호: {self.accNo}, 잔고: {self.balance}'\n",
    "    \n",
    "    # 입금 처리 함수\n",
    "    # 입금만 처리하면 되니까, 매개변수는 있어도 return은 없어도 된다. 따라서 입력값 있고, 출력값 없는 함수의 형태로 만들고자 한다.\n",
    "    def deposit(self, amount):\n",
    "        self.balance += amount\n",
    "        \n",
    "    # 출금 처리 함수\n",
    "    # 출금을 성공하면 결과로 True를 반환하고, 실패하면 False를 반환한다.\n",
    "    def withdraw(self, amount) :\n",
    "        result = False #초기화 #불린값\n",
    "        if self.balance >= amount:\n",
    "            self.balance -=amount\n",
    "            result = True\n",
    "        # else 필요없다. 어차피 잔고 부족하면 출금 진행 안되며 자동으로 result=False 출력되니까!\n",
    "        return result\n",
    "    \n",
    "    # 이체 처리 함수\n",
    "    # 이체를 성공하면 결과로 True를 반환하고, 실패하면 False를 반환한다.\n",
    "    # 누구에게 얼마만큼 이체\n",
    "    # target : 소유주, 계좌번호, 잔고 정보를 모두 갖고 있는 복합적인 데이터인 상대의 Account 클래스 객체\n",
    "    def transfer(self, target, amount):\n",
    "        result = False #초기화 #불린값\n",
    "        if self.balance >= amount:\n",
    "            self.balance -= amount # 또는 self.withdraw(amount)\n",
    "            target.deposit(amount)\n",
    "            result = True\n",
    "        return result\n",
    "\n",
    "# 컨트롤 엔터로 해당 클래스를 메모리에 올려놓는다."
   ]
  },
  {
   "cell_type": "code",
   "execution_count": 29,
   "id": "a0a6db8c",
   "metadata": {},
   "outputs": [
    {
     "name": "stdout",
     "output_type": "stream",
     "text": [
      "소유주: 홍길동, 계좌번호: 11-11, 잔고: 500\n",
      "소유주: 김철수, 계좌번호: 11-12, 잔고: 1000\n",
      "홍길동 -> 김철수 계좌이체\n",
      "소유주: 홍길동, 계좌번호: 11-11, 잔고: 200\n",
      "소유주: 김철수, 계좌번호: 11-12, 잔고: 1300\n",
      "홍길동 -> 김철수 계좌이체\n",
      "계좌이체 실패\n"
     ]
    }
   ],
   "source": [
    "a1 = Account('홍길동', '11-11', 500)\n",
    "print(a1.showAccountInfo())\n",
    "\n",
    "a2 = Account('김철수', '11-12', 1000) #a1으로 만들면 기존 것이 덮어씌워져 사라짐\n",
    "print(a2.showAccountInfo())\n",
    "\n",
    "print('홍길동 -> 김철수 계좌이체')\n",
    "r = a1.transfer(a2, 300)\n",
    "print(a1.showAccountInfo())\n",
    "print(a2.showAccountInfo())\n",
    "\n",
    "print('홍길동 -> 김철수 계좌이체')\n",
    "r2 = a1.transfer(a2, 100)\n",
    "if r2:\n",
    "    print('계좌이체 성공')\n",
    "    print(a1.showAccountInfo())\n",
    "    print(a2.showAccountInfo())\n",
    "else:\n",
    "    print('계좌이체 실패')"
   ]
  },
  {
   "cell_type": "markdown",
   "id": "7a354108",
   "metadata": {},
   "source": [
    "## 상속 (Inheritance)"
   ]
  },
  {
   "cell_type": "code",
   "execution_count": 16,
   "id": "46515c2e",
   "metadata": {},
   "outputs": [
    {
     "name": "stdout",
     "output_type": "stream",
     "text": [
      "저는 29살 김한별입니다.\n",
      "저는 19살 이철수입니다.\n"
     ]
    }
   ],
   "source": [
    "class Human :\n",
    "    def __init__(self, name, age):\n",
    "        self.name = name\n",
    "        self.age = age\n",
    "        \n",
    "    def intro(self):\n",
    "        print(f'저는 {self.age}살 {self.name}입니다.')\n",
    "        \n",
    "kim = Human('김한별', 29)\n",
    "kim.intro()\n",
    "\n",
    "lee = Human('이철수', 19)\n",
    "lee.intro()"
   ]
  },
  {
   "cell_type": "code",
   "execution_count": 19,
   "id": "7497cbe0",
   "metadata": {},
   "outputs": [
    {
     "name": "stdout",
     "output_type": "stream",
     "text": [
      "저는 29살 김한별입니다.\n"
     ]
    }
   ],
   "source": [
    "# 자식 class 객체를 생성하기 위해서는 ,부모 class 객체를 먼저 생성해야하므로\n",
    "# 부모 생성자를 불러와야 한다.\n",
    "\n",
    "class Student(Human):\n",
    "    def __init__(self,name,age,stdNo):\n",
    "# 부모 클래스(Human)의 생성자(init)를 호출함으로써 부모 class 객체를 먼저 생성\n",
    "        super().__init__(name, age) \n",
    "        self.stdNo = stdNo\n",
    "        \n",
    "    def study(self):\n",
    "        print('Study hard~!')\n",
    "        \n",
    "kim = Student('김한별', 29, '2023')\n",
    "kim.intro()\n",
    "\n",
    "# 학번 출력안된다."
   ]
  },
  {
   "cell_type": "code",
   "execution_count": 33,
   "id": "bc68a4f2",
   "metadata": {},
   "outputs": [
    {
     "name": "stdout",
     "output_type": "stream",
     "text": [
      "저는 29살 김한별입니다.\n",
      "학번은 2023입니다.\n"
     ]
    }
   ],
   "source": [
    "# 자식 class 객체를 생성하기 위해서는 ,부모 class 객체를 먼저 생성해야하므로\n",
    "# 부모 생성자를 불러와야 한다.\n",
    "\n",
    "class Student(Human):\n",
    "    def __init__(self,name,age,stdNo):\n",
    "# 부모 클래스(Human)의 생성자(init)를 호출함으로써 부모 class 객체를 먼저 생성\n",
    "        super().__init__(name, age) \n",
    "        self.stdNo = stdNo\n",
    "    \n",
    "# 부모 클래스에 정의된 intro함수를 재정의 (overriding)\n",
    "    # 부모의 인트로 함수를 쓰다보니 학번 알 수 없다 -> 함수 재정의하기\n",
    "    # 함수의 형태가 아닌 함수 내 처리 내용을 바꾸는 것이므로 함수명은 동일해야\n",
    "    def intro(self):\n",
    "        super().intro()\n",
    "        print(f'학번은 {self.stdNo}입니다.')\n",
    "        \n",
    "    def study(self):\n",
    "        print('Study hard~!')\n",
    "        \n",
    "kim = Student('김한별', 29, '2023')\n",
    "kim.intro()\n",
    "\n",
    "#lee = Human('이철수', 19, '2023')\n",
    "#lee.intro()"
   ]
  },
  {
   "cell_type": "code",
   "execution_count": 22,
   "id": "53dfc77a",
   "metadata": {},
   "outputs": [],
   "source": [
    "# 예외도 하나의 클래스이다.\n",
    "# exception이라는 함수를 상속받아 쓰는 것.\n",
    "\n",
    "# 위에서 만든 임금/출금 처리 함수는 사실 바람직한 것은 아니다.\n",
    "# result는 처리된 결과값을 반환해야하는 건데..\n",
    "# 따라서 오류, 즉 예외로써 처리 및 관리하고 싶다면"
   ]
  },
  {
   "cell_type": "code",
   "execution_count": 23,
   "id": "ce6fde36",
   "metadata": {},
   "outputs": [
    {
     "ename": "InvalidTransactionException",
     "evalue": "",
     "output_type": "error",
     "traceback": [
      "\u001b[1;31m---------------------------------------------------------------------------\u001b[0m",
      "\u001b[1;31mInvalidTransactionException\u001b[0m               Traceback (most recent call last)",
      "\u001b[1;32m~\\AppData\\Local\\Temp\\ipykernel_8936\\903948291.py\u001b[0m in \u001b[0;36m<module>\u001b[1;34m\u001b[0m\n\u001b[0;32m      4\u001b[0m         \u001b[0msuper\u001b[0m\u001b[1;33m(\u001b[0m\u001b[1;33m)\u001b[0m\u001b[1;33m.\u001b[0m\u001b[0m__init__\u001b[0m\u001b[1;33m(\u001b[0m\u001b[1;33m)\u001b[0m\u001b[1;33m\u001b[0m\u001b[1;33m\u001b[0m\u001b[0m\n\u001b[0;32m      5\u001b[0m \u001b[1;33m\u001b[0m\u001b[0m\n\u001b[1;32m----> 6\u001b[1;33m \u001b[1;32mraise\u001b[0m \u001b[0mInvalidTransactionException\u001b[0m\u001b[1;33m\u001b[0m\u001b[1;33m\u001b[0m\u001b[0m\n\u001b[0m",
      "\u001b[1;31mInvalidTransactionException\u001b[0m: "
     ]
    }
   ],
   "source": [
    "# 사용자 정의 예외를 만들기 위해서는, Exception이라는 클래스를 상속해서 만든다.\n",
    "class InvalidTransactionException(Exception):\n",
    "    def __init__(self):\n",
    "        super().__init__()\n",
    "\n",
    "# raise : 예외를 인위적으로 강제로 발생시키는 것\n",
    "raise InvalidTransactionException"
   ]
  },
  {
   "cell_type": "code",
   "execution_count": 24,
   "id": "c28e9bd4",
   "metadata": {},
   "outputs": [],
   "source": [
    "class Account :\n",
    "    \n",
    "    # init 함수란?\n",
    "    # : 생성자\n",
    "    # : Account 클래스의 속성(맴버 변수)을 특정 값으로 초기화하기 위한 함수\n",
    "    # : 맴버 변수는 self.owner, self.accNo, self.balance\n",
    "    def  __init__ (self, owner, accNo, balance):\n",
    "        self.owner = owner\n",
    "        self.accNo = accNo\n",
    "        self.balance = balance\n",
    "    \n",
    "    # Account 객체가 가지고 있는 잔고 값을 조회하는 함수\n",
    "    # 이름은 getBalance\n",
    "    # 잔고만 조회하면 되니까 매개변수는 없어도 된다. 따라서 즉 입력값 없는 함수 의 형태로 만들고자 하는데, 그래도 self는 명시해줘야 한다!\n",
    "    def getBalance(self):\n",
    "        return self.balance # 그냥 balance하면 안됨!\n",
    "    \n",
    "    # 계좌 정보 조회 함수\n",
    "    def showAccountInfo(self):\n",
    "        return f'소유주: {self.owner}, 계좌번호: {self.accNo}, 잔고: {self.balance}'\n",
    "    \n",
    "    # 입금 처리 함수\n",
    "    # 입금만 처리하면 되니까, 매개변수는 있어도 return은 없어도 된다. 따라서 입력값 있고, 출력값 없는 함수의 형태로 만들고자 한다.\n",
    "    def deposit(self, amount):\n",
    "        self.balance += amount\n",
    "        \n",
    "    # 출금 처리 함수\n",
    "    # 출금을 성공하면 결과로 True를 반환하고, 실패하면 False를 반환한다.\n",
    "    def withdraw(self, amount) :\n",
    "        if self.balance >= amount:\n",
    "            self.balance -=amount\n",
    "        else :\n",
    "            raise InvalidTransactionException\n",
    "    \n",
    "    # 이체 처리 함수\n",
    "    # 이체를 성공하면 결과로 True를 반환하고, 실패하면 False를 반환한다.\n",
    "    # 누구에게 얼마만큼 이체\n",
    "    # target : 소유주, 계좌번호, 잔고 정보를 모두 갖고 있는 복합적인 데이터인 상대의 Account 클래스 객체\n",
    "    def transfer(self, target, amount):\n",
    "        if self.balance >= amount:\n",
    "            self.balance -= amount # 또는 self.withdraw(amount)\n",
    "            target.deposit(amount)\n",
    "        else :\n",
    "            raise InvalidTransactionException\n",
    "\n",
    "# 컨트롤 엔터로 해당 클래스를 메모리에 올려놓는다."
   ]
  },
  {
   "cell_type": "code",
   "execution_count": 31,
   "id": "2f286a52",
   "metadata": {},
   "outputs": [
    {
     "name": "stdout",
     "output_type": "stream",
     "text": [
      "소유주: 홍길동, 계좌번호: 11-11, 잔고: 500\n",
      "소유주: 김철수, 계좌번호: 11-12, 잔고: 1000\n",
      "홍길동 -> 김철수 계좌이체\n",
      "소유주: 홍길동, 계좌번호: 11-11, 잔고: 200\n",
      "소유주: 김철수, 계좌번호: 11-12, 잔고: 1300\n",
      "홍길동 -> 김철수 계좌이체\n",
      "계좌이체 실패\n"
     ]
    }
   ],
   "source": [
    "a1 = Account('홍길동', '11-11', 500)\n",
    "print(a1.showAccountInfo())\n",
    "\n",
    "a2 = Account('김철수', '11-12', 1000) #a1으로 만들면 기존 것이 덮어씌워져 사라짐\n",
    "print(a2.showAccountInfo())\n",
    "\n",
    "print('홍길동 -> 김철수 계좌이체')\n",
    "r = a1.transfer(a2, 300)\n",
    "print(a1.showAccountInfo())\n",
    "print(a2.showAccountInfo())\n",
    "\n",
    "print('홍길동 -> 김철수 계좌이체')\n",
    "try:\n",
    "    a1.transfer(a2, 400)\n",
    "    print('계좌이체 성공')\n",
    "    print(a1.showAccountInfo())\n",
    "    print(a2.showAccountInfo())\n",
    "except InvalidTransactionException as e :\n",
    "    print('계좌이체 실패')\n",
    "\n",
    "    \n",
    "\n",
    "# <if else & return과 사용자 정의 함수 & try except의 차이>\n",
    "\n",
    "# 리턴값이 하나이므로 일괄적으로 오류 처리\n",
    "# id가 틀리던 pw가 틀리던 그냥 -> WrongException\n",
    "\n",
    "# 오류의 종류에 따라 나눠서 처리 가능\n",
    "# id가 일치하지 않음 -> InvalidIdException\n",
    "# pw가 일치하지 않음 -> PasswordMissException"
   ]
  },
  {
   "cell_type": "markdown",
   "id": "f82c766d",
   "metadata": {},
   "source": [
    "## 은닉 (Encapsulation)\n",
    "- 뜻 : 가루를 알약 캡슐 안에 넣어 안보이도록 함\n",
    "- 멤버 변수의 접근지정 범위를 private으로 만든다.\n",
    "    - 멤버 변수 이름을 __로 시작한다\n",
    "- 값을 읽고 쓸 수 있는 getter와 setter를 만들어 줘서, 함수를 사용 (읽고 쓰기)을 가능하게 한다."
   ]
  },
  {
   "cell_type": "code",
   "execution_count": 71,
   "id": "a41c0ed9",
   "metadata": {},
   "outputs": [
    {
     "name": "stdout",
     "output_type": "stream",
     "text": [
      "2023-1-29\n"
     ]
    }
   ],
   "source": [
    "class MyDate:\n",
    "    \n",
    "    def __init__ (self,year,month,day):\n",
    "        self.year = year\n",
    "        self.month = month\n",
    "        self.day = day\n",
    "        \n",
    "    def info(self):\n",
    "        return f'{self.year}-{self.month}-{self.day}'\n",
    "\n",
    "d = MyDate(2023,1,29)\n",
    "print(d.info())\n",
    "\n",
    "#2023-01-29"
   ]
  },
  {
   "cell_type": "code",
   "execution_count": 72,
   "id": "5b742dc1",
   "metadata": {},
   "outputs": [
    {
     "name": "stdout",
     "output_type": "stream",
     "text": [
      "2023-13-29\n"
     ]
    }
   ],
   "source": [
    "class MyDate:\n",
    "    \n",
    "    def __init__ (self,year,month,day):\n",
    "        self.year = year\n",
    "        self.month = month\n",
    "        self.day = day\n",
    "        \n",
    "    def info(self):\n",
    "        return f'{self.year}-{self.month}-{self.day}'\n",
    "\n",
    "d = MyDate(2023,1,29)\n",
    "d.month = 13 # 13월은 없다 : 코드상의 오류는 없지만, 논리상의 오류가 있는 것\n",
    "print(d.info())\n",
    "\n",
    "#2023-13-29"
   ]
  },
  {
   "cell_type": "code",
   "execution_count": 75,
   "id": "c75ab9c4",
   "metadata": {},
   "outputs": [
    {
     "name": "stdout",
     "output_type": "stream",
     "text": [
      "2023-1-29\n"
     ]
    }
   ],
   "source": [
    "class MyDate:\n",
    "    \n",
    "    def __init__ (self,year,month,day):\n",
    "        self.__year = year\n",
    "        self.__month = month\n",
    "        self.__day = day\n",
    "        \n",
    "    def info(self):\n",
    "        return f'{self.__year}-{self.__month}-{self.__day}'\n",
    "\n",
    "d = MyDate(2023,1,29)\n",
    "d.month = 13\n",
    "print(d.info())\n",
    "\n",
    "\n",
    "# 접근 지정자\n",
    "# 클래스 내부에서는 호출해도 되지만, 클래스 벗어나서는 호출되면 안되므로 \"private\"하게 만들어야 한다. \"public\"에서 프라이빗으로!\n",
    "\n",
    "# x public\n",
    "# _ protected\n",
    "# __ private\n",
    "\n",
    "#2023-01-29"
   ]
  },
  {
   "cell_type": "code",
   "execution_count": 76,
   "id": "8091b2ac",
   "metadata": {},
   "outputs": [
    {
     "name": "stdout",
     "output_type": "stream",
     "text": [
      "2023-11-29\n",
      "<__main__.MyDate object at 0x000002783434FF10>\n",
      "[1, 2, 3, 4, 5]\n"
     ]
    }
   ],
   "source": [
    "class MyDate:\n",
    "    \n",
    "    def __init__(self,year,month,day):\n",
    "        self.__year = year\n",
    "        self.__month = month\n",
    "        self.__day = day\n",
    "        \n",
    "    def setMonth(self,month):  #get, set 제한된 값을 쓰고 읽을때사용\n",
    "        if 1<=month<=12:\n",
    "            self.__month=month\n",
    "        else:\n",
    "            raise ValueError           \n",
    "            \n",
    "    def info(self):\n",
    "        return f'{self.__year}-{self.__month}-{self.__day}'\n",
    "    \n",
    "d = MyDate(2023,1,29)\n",
    "d.setMonth(11)\n",
    "print(d.info())\n",
    "\n",
    "d #현재 객체가 갖고 있는 값을 out창에 출력만 해줄 뿐이다\n",
    "print(d) # 0x 16진수 # <__main__.MyDate object at 0x00000278343E0F40>\n",
    "\n",
    "l = [1,2,3,4,5] # 리스트 객체를 만들어서 l에 담아준다.\n",
    "print(l)"
   ]
  },
  {
   "cell_type": "code",
   "execution_count": 78,
   "id": "cebf916c",
   "metadata": {},
   "outputs": [
    {
     "name": "stdout",
     "output_type": "stream",
     "text": [
      "2023-12-29\n",
      "2023-12-29\n"
     ]
    }
   ],
   "source": [
    "class MyDate:\n",
    "    \n",
    "    def __init__ (self,year,month,day):\n",
    "        self.__year = year\n",
    "        self.__month = month\n",
    "        self.__day = day\n",
    "        \n",
    "    def setMonth (self, month):\n",
    "        if 1 <= month <= 12:\n",
    "            self.__month = month\n",
    "        else :\n",
    "            raise ValueError\n",
    "    # str 함수 : 객체가 갖고 있는 값을 특정 포맷으로 출력할 수 있게끔한다.     \n",
    "    def __str__ (self):\n",
    "        return f'{self.__year}-{self.__month}-{self.__day}'\n",
    "    \n",
    "    def info(self):\n",
    "        return f'{self.__year}-{self.__month}-{self.__day}'\n",
    "    \n",
    "d = MyDate(2023,1,29)\n",
    "d.setMonth(12)\n",
    "print(d.info())\n",
    "\n",
    "d \n",
    "print(d) # 2023-12-29\n",
    "# str 함수 재정의하면 제대로 출력된다."
   ]
  },
  {
   "cell_type": "code",
   "execution_count": 80,
   "id": "54f0d34a",
   "metadata": {},
   "outputs": [
    {
     "name": "stdout",
     "output_type": "stream",
     "text": [
      "두 객체의 값이 같다\n"
     ]
    }
   ],
   "source": [
    "d1 = MyDate(2023,1,19)\n",
    "d2 = MyDate(2023,1,19)\n",
    "\n",
    "if d1 == d2 :\n",
    "    print('두 객체의 값이 같다')\n",
    "else :\n",
    "    print('두 객체의 값이 다르다')\n",
    "\n",
    "\n",
    "# 두 객체의 값이 다르다\n",
    "# -> 객체의 값 자체는 같지만 참조값, 즉 주소값이 다르기 때문이다!!!!!"
   ]
  },
  {
   "cell_type": "code",
   "execution_count": 79,
   "id": "8c82510a",
   "metadata": {},
   "outputs": [
    {
     "name": "stdout",
     "output_type": "stream",
     "text": [
      "2023-1-29\n",
      "2023-1-29\n"
     ]
    }
   ],
   "source": [
    "# 항등연산자\n",
    "# 참조값이 아닌 값 자체가 같은지 여부를 알고 싶다\n",
    "# -> 연산자 오버라이딩이 필요하다!!\n",
    "# 연산자마다의 함수가 정의되어 있는데, ==는 __eq__\n",
    "\n",
    "class MyDate:\n",
    "    \n",
    "    def __init__(self,year,month,day):\n",
    "        self.__year = year\n",
    "        self.__month = month\n",
    "        self.__day = day\n",
    "        \n",
    "    def setMonth(self, month):\n",
    "        if 1 <= month <= 12:\n",
    "            self.__month = month\n",
    "        else :\n",
    "            raise ValueError\n",
    "    # 비교대상인 d2가 other에 들어온다        \n",
    "    def __eq__(self, other) :\n",
    "        return self.__year == other.__year and self.__month == other.__month and self.__day == other.__day\n",
    "    \n",
    "    def __str__(self):\n",
    "        return f'{self.__year}-{self.__month}-{self.__day}'\n",
    "    \n",
    "    def info(self):\n",
    "        return f'{self.__year}-{self.__month}-{self.__day}'\n",
    "    \n",
    "d = MyDate(2023,1,29)\n",
    "d.setMonth(12)\n",
    "print(d.info())\n",
    "\n",
    "d \n",
    "print(d) # 2023-1-29\n",
    "# str 함수 재정의하면 제대로 출력된다."
   ]
  },
  {
   "cell_type": "code",
   "execution_count": null,
   "id": "c87aed9f",
   "metadata": {},
   "outputs": [],
   "source": [
    "d1 = MyDate(2023,1,19)\n",
    "d2 = MyDate(2023,1,19)\n",
    "\n",
    "if d1 == d2 :\n",
    "    print('두 객체의 값이 같다')\n",
    "else :\n",
    "    print('두 객체의 값이 다르다')\n",
    "\n",
    "# 두 객체의 값이 같다\n",
    "# -> __eq__ 해줘서 가능한 것"
   ]
  },
  {
   "cell_type": "markdown",
   "id": "c598e9a9",
   "metadata": {},
   "source": [
    "## [문제] 날짜 크기 비교하기\n",
    "\n",
    "<pre>\n",
    "두 개의 Date 객체를 '>' 연산자를 이용하여 비교시 전체 일수가 더 큰 경우 True를 반환하도로 __gt__함수를 재정의하시오.\n",
    "\n",
    "[실행예시]\n",
    "d1 = Date(2023,1,19)\n",
    "d2 = Date(2023,1,20)\n",
    "\n",
    "print(d1>d2) --> False 출력\n",
    "</pre>"
   ]
  },
  {
   "cell_type": "code",
   "execution_count": 115,
   "id": "84dccb35",
   "metadata": {},
   "outputs": [
    {
     "name": "stdout",
     "output_type": "stream",
     "text": [
      "True\n"
     ]
    }
   ],
   "source": [
    "class MyDate:\n",
    "    \n",
    "    def __init__(self,year,month,day):\n",
    "        self.__year = year\n",
    "        self.__month = month\n",
    "        self.__day = day\n",
    "        \n",
    "    def setMonth(self, month):\n",
    "        if 1 <= month <= 12:\n",
    "            self.__month = month\n",
    "        else :\n",
    "            raise ValueError\n",
    "    # 비교대상인 d2가 other에 들어온다        \n",
    "    def __gt__(self, other) :\n",
    "        return self.__day > other.__day\n",
    "\n",
    "    \n",
    "d1 = MyDate(2023,1,19)\n",
    "d2 = MyDate(2023,1,18)\n",
    "\n",
    "print(d1 > d2)"
   ]
  },
  {
   "cell_type": "code",
   "execution_count": 118,
   "id": "1042f93f",
   "metadata": {
    "scrolled": false
   },
   "outputs": [
    {
     "name": "stdout",
     "output_type": "stream",
     "text": [
      "False\n"
     ]
    }
   ],
   "source": [
    "# A.\n",
    "class MyDate:\n",
    "    \n",
    "    def __init__(self,year,month,day):\n",
    "        self.__year = year\n",
    "        self.__month = month\n",
    "        self.__day = day\n",
    "        \n",
    "    def setMonth(self, month):\n",
    "        if 1 <= month <= 12:\n",
    "            self.__month = month\n",
    "        else :\n",
    "            raise ValueError\n",
    "    # 비교대상인 d2가 other에 들어온다        \n",
    "    def __gt__(self, other) :\n",
    "        if self.__year > other.__year:\n",
    "            return True\n",
    "        elif self.__year == other.__year and self.__month > other.__month :\n",
    "            return True\n",
    "        elif self.__year == other.__year and self.__month == other.__month and self.__day > other.__day:\n",
    "            return True\n",
    "        else :\n",
    "            return False\n",
    "      \n",
    "    def __eq__(self, other) :\n",
    "        return self.__year == other.__year and self.__month == other.__month and self.__day == other.__day\n",
    "\n",
    "    def __str__(self):\n",
    "        return f'{self.__year}-{self.__month}-{self.__day}'\n",
    "    \n",
    "    def info(self):\n",
    "        return f'{self.__year}-{self.__month}-{self.__day}'\n",
    "\n",
    "        \n",
    "d1 = MyDate(2023,1,19)\n",
    "d2 = MyDate(2023,1,20)\n",
    "\n",
    "print(d1 > d2)"
   ]
  },
  {
   "cell_type": "markdown",
   "id": "a2ec1a2a",
   "metadata": {},
   "source": [
    "## [문제] 은행 프로그램 만들기"
   ]
  },
  {
   "cell_type": "code",
   "execution_count": null,
   "id": "65b70d60",
   "metadata": {},
   "outputs": [],
   "source": [
    "# VO (Value Object)\n",
    "# Account와 같은 객체를 VO(Value Object) 값을 갖는 객체라고 한다.\n",
    "\n",
    "class Account :\n",
    " \n",
    "    def  __init__ (self, owner, accNo, balance):\n",
    "        self.__owner = owner\n",
    "        self.__accNo = accNo\n",
    "        self.__balance = balance\n",
    "\n",
    "    def getBalance(self):\n",
    "        return self.__balance # 그냥 balance하면 안됨!\n",
    "    \n",
    "\n",
    "    def showAccountInfo(self):\n",
    "        return f'소유주: {self.__owner}, 계좌번호: {self.__accNo}, 잔고: {self.__balance}'\n",
    "    \n",
    "    def deposit(self, amount):\n",
    "        self.__balance += amount\n",
    "        \n",
    "    def withdraw(self, amount) :\n",
    "        if self.__balance >= amount:\n",
    "            self.__balance -=amount\n",
    "        else :\n",
    "            raise InvalidTransactionException\n",
    "    \n",
    "    def transfer(self, target, amount):\n",
    "        if self.__balance >= amount:\n",
    "            self.__balance -= amount # 또는 self.withdraw(amount)\n",
    "            target.deposit(amount)\n",
    "        else :\n",
    "            raise InvalidTransactionException\n",
    "\n",
    "     \n",
    "\n",
    "\n",
    "# BO (Business Object)\n",
    "# 뱅킹 시스템의 업무 로직을 관리하는 클래스\n",
    "# 1) 새로 생성된 Account 객체를 저장\n",
    "# 2) 등록된 Account 객체를 계좌번호로 조회\n",
    "# 3) 등록된 모든 Account 객체를 반환\n",
    "\n",
    "class BankManager:\n",
    "    # 기본 생성자 : 어차피 account 객체를 리스트라는 컬렉션에 저장할 뿐이니까\n",
    "    def __init__ (self):\n",
    "        self.__account_list = [] # Account 객체(소유주, 계좌번호, 잔고)를 저장\n",
    "        \n",
    "    # 1) 새로 생성된 Account 객체를 저장\n",
    "    def addAccount(self, a):\n",
    "        # TO_DO :새로 저장하려고 하는 계좌 객체의 계좌번호의 중복 여부를 확인 후, 중복되지 않은 계좌일 경우에만 저장한다.\n",
    "        # HINT : for문을 이용해서 account list안에 있는 애들을 뽑아오고, 리스트 내 계좌번호가 새로 들어온 계좌번호와 같은지 확인하고, 같으면 append 안하게끔\n",
    "        __account_list.append(a)\n",
    "\n",
    "    # 2) 등록된 Account 객체를 계좌번호로 조회\n",
    "    def searchAccount(self, accNo):\n",
    "        result = None\n",
    "        for a in self.__account_list: # a에는 현재 account 객체가 담겨있다.\n",
    "            if a.__accNo == accNo:\n",
    "                result = a\n",
    "                break\n",
    "        return result\n",
    "    \n",
    "    # 3) 등록된 모든 Account 객체를 반환\n",
    "    def getAllAccountList(self):\n",
    "        return self.__account_list\n",
    "        \n",
    "        \n",
    "# 은닉되어 있으므로 계좌번호 조회 불가.."
   ]
  },
  {
   "cell_type": "code",
   "execution_count": 2,
   "id": "80437493",
   "metadata": {},
   "outputs": [],
   "source": [
    "# VO (Value Object)\n",
    "class Account :\n",
    " \n",
    "    def  __init__ (self, owner, accNo, balance):\n",
    "        self.__owner = owner\n",
    "        self.__accNo = accNo\n",
    "        self.__balance = balance\n",
    "    \n",
    "    # 은닉되어있는 계좌번호를 볼 수 있게끔 getter 이용\n",
    "    def getAccNo(self):\n",
    "        return self.__accNo\n",
    "\n",
    "    def getBalance(self):\n",
    "        return self.__balance # 그냥 balance하면 안됨!\n",
    "    \n",
    "\n",
    "    def showAccountInfo(self):\n",
    "        return f'소유주: {self.__owner}, 계좌번호: {self.__accNo}, 잔고: {self.__balance}'\n",
    "    \n",
    "    def deposit(self, amount):\n",
    "        self.__balance += amount\n",
    "        \n",
    "    def withdraw(self, amount) :\n",
    "        if self.__balance >= amount:\n",
    "            self.__balance -=amount\n",
    "        else :\n",
    "            raise InvalidTransactionException\n",
    "    \n",
    "    def transfer(self, target, amount):\n",
    "        if self.__balance >= amount:\n",
    "            self.__balance -= amount # 또는 self.withdraw(amount)\n",
    "            target.deposit(amount)\n",
    "        else :\n",
    "            raise InvalidTransactionException\n",
    "\n",
    "     \n",
    "\n",
    "\n",
    "# BO (Business Object)\n",
    "# 뱅킹 시스템의 업무 로직을 관리하는 클래스\n",
    "# 1) 새로 생성된 Account 객체를 저장\n",
    "# 2) 등록된 Account 객체를 계좌번호로 조회\n",
    "# 3) 등록된 모든 Account 객체를 반환\n",
    "\n",
    "class BankManager:\n",
    "    \n",
    "    def __init__ (self):\n",
    "        self.__account_list = []\n",
    "        \n",
    "    # 1) 새로 생성된 Account 객체를 저장\n",
    "    def addAccount(self, a):\n",
    "        self.__account_list.append(a)\n",
    "\n",
    "    # 2) 등록된 Account 객체를 계좌번호로 조회\n",
    "    def searchAccount(self, accNo):\n",
    "        result = None\n",
    "        for a in self.__account_list: \n",
    "            if a.getAccNo() == accNo: ## get~~\n",
    "                result = a\n",
    "                break # 계좌번호는 중복되지 않으므로, 찾고나면 더이상 for문 안돌려도 되므로 break\n",
    "        return result\n",
    "    \n",
    "    # 3) 등록된 모든 Account 객체를 반환\n",
    "    def getAllAccountList(self):\n",
    "        return self.__account_list\n",
    "\n",
    "        \n",
    "        \n",
    "# 위의 내용을 메모장에 복붙하여 저장\n",
    "# 파일 위치 : 구글 드라이브 > 데이터 분석 > 01.Python\n",
    "# 파일명 : bank.py\n",
    "# 파일 형식 : 모든 파일\n",
    "# bank.py는 우리가 만든 모듈!! 여기 안에 VO와 BO 있다~\n",
    "\n"
   ]
  },
  {
   "cell_type": "code",
   "execution_count": 1,
   "id": "ff495f2b",
   "metadata": {},
   "outputs": [
    {
     "name": "stdout",
     "output_type": "stream",
     "text": [
      "--------------------\n",
      "Welcome to DIMA Bank\n",
      "--------------------\n",
      "1. 계좌생성\n",
      "2. 입금\n",
      "3. 출금\n",
      "4. 이체\n",
      "5. 전체 계좌정보 출력\n",
      "6. 종료\n",
      "메뉴 선택: 1\n",
      "이름: 홍길동\n",
      "계좌번호: 11-11\n",
      "잔고:500\n",
      "계좌생성 완료!\n",
      "--------------------\n",
      "Welcome to DIMA Bank\n",
      "--------------------\n",
      "1. 계좌생성\n",
      "2. 입금\n",
      "3. 출금\n",
      "4. 이체\n",
      "5. 전체 계좌정보 출력\n",
      "6. 종료\n",
      "메뉴 선택: 3\n",
      "출금 계좌번호: 11-11\n",
      "출금 금액: 600\n",
      "출금 잔고가 부족합니다\n",
      "--------------------\n",
      "Welcome to DIMA Bank\n",
      "--------------------\n",
      "1. 계좌생성\n",
      "2. 입금\n",
      "3. 출금\n",
      "4. 이체\n",
      "5. 전체 계좌정보 출력\n",
      "6. 종료\n"
     ]
    },
    {
     "ename": "KeyboardInterrupt",
     "evalue": "Interrupted by user",
     "output_type": "error",
     "traceback": [
      "\u001b[1;31m---------------------------------------------------------------------------\u001b[0m",
      "\u001b[1;31mKeyboardInterrupt\u001b[0m                         Traceback (most recent call last)",
      "\u001b[1;32m~\\AppData\\Local\\Temp\\ipykernel_11448\\1074349882.py\u001b[0m in \u001b[0;36m<module>\u001b[1;34m\u001b[0m\n\u001b[0;32m     18\u001b[0m     \u001b[0mprint_main_menu\u001b[0m\u001b[1;33m(\u001b[0m\u001b[1;33m)\u001b[0m\u001b[1;33m\u001b[0m\u001b[1;33m\u001b[0m\u001b[0m\n\u001b[0;32m     19\u001b[0m \u001b[1;31m# 메뉴가 출력될 것\u001b[0m\u001b[1;33m\u001b[0m\u001b[1;33m\u001b[0m\u001b[0m\n\u001b[1;32m---> 20\u001b[1;33m     \u001b[0mnum\u001b[0m \u001b[1;33m=\u001b[0m \u001b[0mint\u001b[0m\u001b[1;33m(\u001b[0m\u001b[0minput\u001b[0m\u001b[1;33m(\u001b[0m\u001b[1;34m'메뉴 선택: '\u001b[0m\u001b[1;33m)\u001b[0m\u001b[1;33m)\u001b[0m\u001b[1;33m\u001b[0m\u001b[1;33m\u001b[0m\u001b[0m\n\u001b[0m\u001b[0;32m     21\u001b[0m     \u001b[1;32mif\u001b[0m \u001b[0mnum\u001b[0m \u001b[1;33m==\u001b[0m \u001b[1;36m1\u001b[0m\u001b[1;33m:\u001b[0m\u001b[1;33m\u001b[0m\u001b[1;33m\u001b[0m\u001b[0m\n\u001b[0;32m     22\u001b[0m         \u001b[0mname\u001b[0m \u001b[1;33m=\u001b[0m \u001b[0minput\u001b[0m\u001b[1;33m(\u001b[0m\u001b[1;34m'이름: '\u001b[0m\u001b[1;33m)\u001b[0m\u001b[1;33m\u001b[0m\u001b[1;33m\u001b[0m\u001b[0m\n",
      "\u001b[1;32m~\\anaconda3\\lib\\site-packages\\ipykernel\\kernelbase.py\u001b[0m in \u001b[0;36mraw_input\u001b[1;34m(self, prompt)\u001b[0m\n\u001b[0;32m   1175\u001b[0m                 \u001b[1;34m\"raw_input was called, but this frontend does not support input requests.\"\u001b[0m\u001b[1;33m\u001b[0m\u001b[1;33m\u001b[0m\u001b[0m\n\u001b[0;32m   1176\u001b[0m             )\n\u001b[1;32m-> 1177\u001b[1;33m         return self._input_request(\n\u001b[0m\u001b[0;32m   1178\u001b[0m             \u001b[0mstr\u001b[0m\u001b[1;33m(\u001b[0m\u001b[0mprompt\u001b[0m\u001b[1;33m)\u001b[0m\u001b[1;33m,\u001b[0m\u001b[1;33m\u001b[0m\u001b[1;33m\u001b[0m\u001b[0m\n\u001b[0;32m   1179\u001b[0m             \u001b[0mself\u001b[0m\u001b[1;33m.\u001b[0m\u001b[0m_parent_ident\u001b[0m\u001b[1;33m[\u001b[0m\u001b[1;34m\"shell\"\u001b[0m\u001b[1;33m]\u001b[0m\u001b[1;33m,\u001b[0m\u001b[1;33m\u001b[0m\u001b[1;33m\u001b[0m\u001b[0m\n",
      "\u001b[1;32m~\\anaconda3\\lib\\site-packages\\ipykernel\\kernelbase.py\u001b[0m in \u001b[0;36m_input_request\u001b[1;34m(self, prompt, ident, parent, password)\u001b[0m\n\u001b[0;32m   1217\u001b[0m             \u001b[1;32mexcept\u001b[0m \u001b[0mKeyboardInterrupt\u001b[0m\u001b[1;33m:\u001b[0m\u001b[1;33m\u001b[0m\u001b[1;33m\u001b[0m\u001b[0m\n\u001b[0;32m   1218\u001b[0m                 \u001b[1;31m# re-raise KeyboardInterrupt, to truncate traceback\u001b[0m\u001b[1;33m\u001b[0m\u001b[1;33m\u001b[0m\u001b[0m\n\u001b[1;32m-> 1219\u001b[1;33m                 \u001b[1;32mraise\u001b[0m \u001b[0mKeyboardInterrupt\u001b[0m\u001b[1;33m(\u001b[0m\u001b[1;34m\"Interrupted by user\"\u001b[0m\u001b[1;33m)\u001b[0m \u001b[1;32mfrom\u001b[0m \u001b[1;32mNone\u001b[0m\u001b[1;33m\u001b[0m\u001b[1;33m\u001b[0m\u001b[0m\n\u001b[0m\u001b[0;32m   1220\u001b[0m             \u001b[1;32mexcept\u001b[0m \u001b[0mException\u001b[0m\u001b[1;33m:\u001b[0m\u001b[1;33m\u001b[0m\u001b[1;33m\u001b[0m\u001b[0m\n\u001b[0;32m   1221\u001b[0m                 \u001b[0mself\u001b[0m\u001b[1;33m.\u001b[0m\u001b[0mlog\u001b[0m\u001b[1;33m.\u001b[0m\u001b[0mwarning\u001b[0m\u001b[1;33m(\u001b[0m\u001b[1;34m\"Invalid Message:\"\u001b[0m\u001b[1;33m,\u001b[0m \u001b[0mexc_info\u001b[0m\u001b[1;33m=\u001b[0m\u001b[1;32mTrue\u001b[0m\u001b[1;33m)\u001b[0m\u001b[1;33m\u001b[0m\u001b[1;33m\u001b[0m\u001b[0m\n",
      "\u001b[1;31mKeyboardInterrupt\u001b[0m: Interrupted by user"
     ]
    }
   ],
   "source": [
    "from bank import Account, BankManager, InvalidTransactionException\n",
    "#import bank만 했다면, bank.Account의 형식으로 불러왔어야 할 것\n",
    "\n",
    "def print_main_menu():\n",
    "    print('--------------------')\n",
    "    print('Welcome to DIMA Bank')\n",
    "    print('--------------------')\n",
    "    print('1. 계좌생성')\n",
    "    print('2. 입금')\n",
    "    print('3. 출금')\n",
    "    print('4. 이체')\n",
    "    print('5. 전체 계좌정보 출력')\n",
    "    print('6. 종료')\n",
    "\n",
    "manager = BankManager()\n",
    "# account_list가 비어있는 상태로 초기화된다.\n",
    "while True:\n",
    "    print_main_menu()\n",
    "# 메뉴가 출력될 것\n",
    "    num = int(input('메뉴 선택: '))\n",
    "    if num == 1:\n",
    "        name = input('이름: ')\n",
    "        accNo = input('계좌번호: ')\n",
    "        balance = int(input('잔고:'))\n",
    "        a = Account(name, accNo, balance) #account객체 만들기\n",
    "        manager.addAccount(a)\n",
    "        print('계좌생성 완료!')\n",
    "    elif num == 2:\n",
    "        accNo = input('입금 계좌번호: ')\n",
    "        amount = int(input('입금 금액: '))\n",
    "        a = manager.searchAccount(accNo)\n",
    "        if a == None:\n",
    "            print('입금 계좌 오류!')\n",
    "        else :\n",
    "            a.deposit(amount)\n",
    "            print('입금 완료: ', a.showAccountInfo())\n",
    "    elif num == 3:\n",
    "        accNo = input('출금 계좌번호: ')\n",
    "        amount = int(input('출금 금액: '))\n",
    "        a = manager.searchAccount(accNo)\n",
    "        if a == None:\n",
    "            print('출금 계좌 오류!')\n",
    "        else :\n",
    "            try:\n",
    "                a.withdraw(amount)\n",
    "                print('출금 완료: ', a.showAccountInfo())\n",
    "            except InvalidTransactionException as e:\n",
    "                print(e) # str 함수에 의한 호출의 결과가 출력될 것\n",
    "    elif num == 4:\n",
    "        # 출금 계좌정보 입력 -> 입금 계좌정보 입력 ->\n",
    "        # 내 계좌에서는 출금 처리 -> 상대방 계좌에서 입금 처리\n",
    "        from_accNo = input('출금 계좌번호: ')\n",
    "        amount = int(input('이체 금액: '))\n",
    "        to_accNo = input('입금 계좌번호: ')\n",
    "        from_a = manager.searchAccount(from_accNo)\n",
    "        to_a = manager.searchAccount(to_accNo)\n",
    "        if from_a == None or to_a == None:\n",
    "            print('계좌 오류!')\n",
    "        else:\n",
    "            try:\n",
    "                from_a.transfer(to_a, amount)\n",
    "                print('이체 완료')\n",
    "                print('출금 계좌: ', from_a.showAccountInfo())\n",
    "                print('입금 계좌: ', to_a.showAccountInfo())\n",
    "            except InvalidTransactionException as e:\n",
    "                print(e)      \n",
    "    elif num == 5:\n",
    "        accList = manager.getAllAccountList()\n",
    "        for a in accList:\n",
    "            print(a.showAccountInfo())\n",
    "    elif num == 6:\n",
    "        print('뱅킹 시스템 종료')\n",
    "        break\n",
    "    else : \n",
    "        print('메뉴 선택 오류!')"
   ]
  }
 ],
 "metadata": {
  "kernelspec": {
   "display_name": "Python 3 (ipykernel)",
   "language": "python",
   "name": "python3"
  },
  "language_info": {
   "codemirror_mode": {
    "name": "ipython",
    "version": 3
   },
   "file_extension": ".py",
   "mimetype": "text/x-python",
   "name": "python",
   "nbconvert_exporter": "python",
   "pygments_lexer": "ipython3",
   "version": "3.9.13"
  },
  "toc": {
   "base_numbering": 1,
   "nav_menu": {},
   "number_sections": true,
   "sideBar": false,
   "skip_h1_title": false,
   "title_cell": "Table of Contents",
   "title_sidebar": "Contents",
   "toc_cell": false,
   "toc_position": {
    "height": "571.158px",
    "left": "25px",
    "top": "134.684px",
    "width": "313.75px"
   },
   "toc_section_display": true,
   "toc_window_display": true
  }
 },
 "nbformat": 4,
 "nbformat_minor": 5
}
