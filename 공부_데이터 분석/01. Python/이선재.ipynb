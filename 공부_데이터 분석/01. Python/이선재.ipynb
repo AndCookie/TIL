{
 "cells": [
  {
   "cell_type": "markdown",
   "id": "eb235b65",
   "metadata": {},
   "source": [
    "# 1번\n",
    "2번"
   ]
  },
  {
   "cell_type": "markdown",
   "id": "feb7649a",
   "metadata": {},
   "source": [
    "# 2번\n",
    "3번"
   ]
  },
  {
   "cell_type": "markdown",
   "id": "b8a41042",
   "metadata": {},
   "source": [
    "# 3번\n",
    "3번"
   ]
  },
  {
   "cell_type": "markdown",
   "id": "6d62cd17",
   "metadata": {},
   "source": [
    "# 4번"
   ]
  },
  {
   "cell_type": "code",
   "execution_count": 13,
   "id": "a6caf3a1",
   "metadata": {},
   "outputs": [
    {
     "name": "stdout",
     "output_type": "stream",
     "text": [
      "사각형의 폭을 입력하시오: 2\n",
      "사각형의 높이를 입력하시오: 5\n",
      "사각형의 면적: 10\n"
     ]
    }
   ],
   "source": [
    "a = int(input('사각형의 폭을 입력하시오: '))\n",
    "b = int(input('사각형의 높이를 입력하시오: '))\n",
    "result = a*b\n",
    "\n",
    "print(f'사각형의 면적: {result}')"
   ]
  },
  {
   "cell_type": "markdown",
   "id": "db5527d7",
   "metadata": {},
   "source": [
    "# 5번"
   ]
  },
  {
   "cell_type": "code",
   "execution_count": 44,
   "id": "3e8804b3",
   "metadata": {},
   "outputs": [
    {
     "name": "stdout",
     "output_type": "stream",
     "text": [
      "--DIMA2기 전자 출결 시스템--\n",
      "ID를 입력 하세요: digitalmaster\n",
      "PW를 입력 하세요: 12345678\n",
      "정상적으로 출결 되었습니다.\n"
     ]
    }
   ],
   "source": [
    "ID = 'digitalmaster'\n",
    "PW = '12345678'\n",
    "\n",
    "print('--DIMA2기 전자 출결 시스템--')\n",
    "아이디 = input('ID를 입력 하세요: ')\n",
    "비밀번호 = input('PW를 입력 하세요: ')\n",
    "\n",
    "if 아이디 == ID and 비밀번호 == PW:\n",
    "    print('정상적으로 출결 되었습니다.')\n",
    "else:\n",
    "    print('ID, PW를 확인하세요.')"
   ]
  },
  {
   "cell_type": "markdown",
   "id": "16418abb",
   "metadata": {},
   "source": [
    "# 6번"
   ]
  },
  {
   "cell_type": "code",
   "execution_count": 46,
   "id": "5578d2d7",
   "metadata": {},
   "outputs": [
    {
     "name": "stdout",
     "output_type": "stream",
     "text": [
      "성적입력 (100점단위)\n",
      "출석점수: 49\n",
      "과제점수: 100\n",
      "중간고사: 100\n",
      "기말프로젝트: 100\n",
      "94.9\n",
      "F학점\n"
     ]
    }
   ],
   "source": [
    "print('성적입력 (100점단위)')\n",
    "att = int(input('출석점수: '))\n",
    "hw = int(input('과제점수: '))\n",
    "test = int(input('중간고사: '))\n",
    "pjt = int(input('기말프로젝트: '))\n",
    "\n",
    "result = att*0.1 + hw*0.2 + test*0.4 + pjt*0.3\n",
    "print(float(result))\n",
    "point = ''\n",
    "\n",
    "if att < 50:\n",
    "    point = 'F'\n",
    "else :\n",
    "    if result >= 90:\n",
    "        point = 'A'\n",
    "    elif result >= 80:\n",
    "        point = 'B'\n",
    "    elif result >= 70:\n",
    "        point = 'C'\n",
    "    elif result >= 60:\n",
    "        point = 'D'\n",
    "    else:\n",
    "        point = 'F'\n",
    "print(f'{point}학점')"
   ]
  },
  {
   "cell_type": "markdown",
   "id": "0aed2260",
   "metadata": {},
   "source": [
    "# 7번"
   ]
  },
  {
   "cell_type": "code",
   "execution_count": 48,
   "id": "fb1ad7b8",
   "metadata": {},
   "outputs": [
    {
     "name": "stdout",
     "output_type": "stream",
     "text": [
      "숫자 입력: 42\n",
      "숫자 입력: 12\n",
      "숫자 입력: 4\n",
      "숫자 입력: 56\n",
      "숫자 입력: 32\n",
      "숫자 입력: 14\n",
      "숫자 입력: 59\n",
      "숫자 입력: 98\n",
      "숫자 입력: 52\n",
      "숫자 입력: 11\n",
      "[4, 11, 12, 14, 32, 42, 52, 56, 59, 98]\n",
      "42\n",
      "12\n"
     ]
    }
   ],
   "source": [
    "num_list = []\n",
    "\n",
    "for i in range(10):\n",
    "    num = int(input('숫자 입력: '))\n",
    "    num_list.append(num)\n",
    "print(sorted(num_list))\n",
    "\n",
    "for r in num_list:\n",
    "    if r%3==0:\n",
    "        print(r)"
   ]
  },
  {
   "cell_type": "markdown",
   "id": "fcd8874e",
   "metadata": {},
   "source": [
    "# 8번"
   ]
  },
  {
   "cell_type": "code",
   "execution_count": 7,
   "id": "381d3979",
   "metadata": {},
   "outputs": [
    {
     "name": "stdout",
     "output_type": "stream",
     "text": [
      "['서울 02 ', '경기 031 ', '강원 033 ', '충남 041 ', '충북 043 ', '경북 054 ', '경남 055 ', '전남 061 ', '전북 063']\n",
      "{'서울': '02 '} {'경기': '031'} {'강원': '033'} {'충남': '041'} {'충북': '043'} {'경북': '054'} {'경남': '055'} {'전남': '061'} {'전북': '063'} "
     ]
    }
   ],
   "source": [
    "phone = \"서울 02 ~경기 031 ~강원 033 ~충남 041 ~충북 043 ~경북 054 ~경남 055 ~전남 061 ~전북 063\"\n",
    "\n",
    "my_list = []\n",
    "my_dic = {}\n",
    "phone = phone.split('~')\n",
    "print(phone)\n",
    "\n",
    "for i in phone:\n",
    "    i.strip()\n",
    "    key = i[0:2]\n",
    "    value = i[3:6]\n",
    "    my_dic = {key: value}\n",
    "    print(my_dic, end=' ')\n",
    "    "
   ]
  },
  {
   "cell_type": "markdown",
   "id": "22168dbb",
   "metadata": {},
   "source": [
    "# 9번"
   ]
  },
  {
   "cell_type": "code",
   "execution_count": 109,
   "id": "d387fa2c",
   "metadata": {
    "scrolled": true
   },
   "outputs": [
    {
     "name": "stdout",
     "output_type": "stream",
     "text": [
      "웹 주소 입력: kr\n",
      "결과: kr 도메인이 맞습니다.\n"
     ]
    }
   ],
   "source": [
    "ad = input('웹 주소 입력: ')\n",
    "result = '맞습니다' if ad.endswith('kr') else '아닙니다'\n",
    "\n",
    "\n",
    "print(f'결과: kr 도메인이 {result}.')"
   ]
  },
  {
   "cell_type": "markdown",
   "id": "c9298ee7",
   "metadata": {},
   "source": [
    "# 10번"
   ]
  },
  {
   "cell_type": "code",
   "execution_count": 114,
   "id": "8012a38d",
   "metadata": {},
   "outputs": [
    {
     "name": "stdout",
     "output_type": "stream",
     "text": [
      "[2, 4, 6, 8, 10, 12, 14, 16, 18, 20, 22, 24, 26, 28, 30, 32, 34, 36, 38, 40, 42, 44, 46, 48, 50, 52, 54, 56, 58, 60, 62, 64, 66, 68, 70, 72, 74, 76, 78, 80, 82, 84, 86, 88, 90, 92, 94, 96, 98, 100]\n"
     ]
    }
   ],
   "source": [
    "짝수 = [ i for i in range(1,101) if i%2==0 ]\n",
    "print(짝수)"
   ]
  },
  {
   "cell_type": "markdown",
   "id": "ab1c8973",
   "metadata": {},
   "source": [
    "# 11번"
   ]
  },
  {
   "cell_type": "code",
   "execution_count": 12,
   "id": "5d6e7330",
   "metadata": {
    "scrolled": true
   },
   "outputs": [
    {
     "name": "stdout",
     "output_type": "stream",
     "text": [
      "20% 세일한 값 : [348.0, 960.0, 712.0, 1080.0, 796.0]\n"
     ]
    }
   ],
   "source": [
    "price = [435, 1200, 890, 1350, 995]\n",
    "\n",
    "print(f'20% 세일한 값 : {list(map(lambda x:x*0.8, price))}')"
   ]
  },
  {
   "cell_type": "markdown",
   "id": "b24e692e",
   "metadata": {},
   "source": [
    "# 12번"
   ]
  },
  {
   "cell_type": "code",
   "execution_count": 15,
   "id": "190b7ec6",
   "metadata": {},
   "outputs": [
    {
     "name": "stdout",
     "output_type": "stream",
     "text": [
      "값[0] : 1\n",
      "값[1] : 5\n",
      "값[2] : 10\n",
      "값[3] : 25\n",
      "값[4] : -40\n",
      "값[5] : -25\n",
      "값[6] : 100\n",
      "값[7] : 3\n",
      "값[8] : 5\n",
      "값[9] : 7\n",
      "평균 : 9.1\n",
      "평균과 10 이상 차이나는 수 : [25, -40, -25, 100]\n"
     ]
    }
   ],
   "source": [
    "sum=0\n",
    "result= [ ]\n",
    "\n",
    "for i in range(10):\n",
    "    value = int(input(f'값[{i}] : '))\n",
    "    sum += value\n",
    "    average = sum/10\n",
    "    if value-average >= 10 or average-value >= 10:\n",
    "        result.append(value)      \n",
    "print(f'평균 : {average}')\n",
    "print(f'평균과 10 이상 차이나는 수 : {result}')"
   ]
  },
  {
   "cell_type": "markdown",
   "id": "176719de",
   "metadata": {},
   "source": [
    "# 13번"
   ]
  },
  {
   "cell_type": "code",
   "execution_count": 31,
   "id": "c7a72e66",
   "metadata": {},
   "outputs": [
    {
     "name": "stdout",
     "output_type": "stream",
     "text": [
      "정렬 전 : [13, 76, 90, 55, 99, 41, 57, 73, 25, 38]\n",
      "정렬 후 : [13, 99, 90, 76, 13, 76, 90, 99]\n"
     ]
    }
   ],
   "source": [
    "old_list = [ 13, 76, 90, 55, 99, 41, 57, 73, 25, 38 ]\n",
    "new_list = [ ]\n",
    "\n",
    "print(f'정렬 전 : {old_list}')\n",
    "\n",
    "기준값=0\n",
    "for num in old_list:\n",
    "    if num > 기준값 :\n",
    "        기준값 = num\n",
    "        new_list.append(num)\n",
    "        idx = new_list.index(기준값)\n",
    "        for i in range(len(new_list)):\n",
    "            비교값 = new_list[i]\n",
    "            if num > 비교값 :\n",
    "                idx = new_list.index(비교값)\n",
    "                new_list.insert(idx+1, num)\n",
    "                break\n",
    "        else :\n",
    "            new_list.insert(idx, num)\n",
    "        \n",
    "print(f'정렬 후 : {new_list}')"
   ]
  },
  {
   "cell_type": "markdown",
   "id": "8092fb05",
   "metadata": {},
   "source": [
    "# 14번"
   ]
  },
  {
   "cell_type": "code",
   "execution_count": 16,
   "id": "afed80e4",
   "metadata": {},
   "outputs": [
    {
     "name": "stdout",
     "output_type": "stream",
     "text": [
      "연도: 2018\n",
      "월: 9\n",
      "일: 7\n",
      "1년 1월 1일 ~ 2018년 9월 7일까지는 총 736944일입니다.\n"
     ]
    }
   ],
   "source": [
    "year = int(input('연도: '))\n",
    "month = int(input('월: '))\n",
    "day = int(input('일: '))\n",
    "\n",
    "total_day=0\n",
    "\n",
    "for y in range(1,year):\n",
    "    year_date = 366 if (y%4==0 and y%100!=0) or y%400==0 or y==2 else 365\n",
    "    total_day += year_date\n",
    "\n",
    "    \n",
    "monthly_date = [31,28,31,30,31,30,31,31,30,31,30,31]\n",
    "max_days=0\n",
    "for m in range(1,month):\n",
    "    if m == 2 :\n",
    "        max_days = 29 if (year%4==0 and year%100!=0) or year==2 or year%400==0 else 28\n",
    "    else :\n",
    "        max_days = monthly_date[m-1]\n",
    "    total_day += max_days\n",
    "\n",
    "total_day+=(day-1)\n",
    "\n",
    "print(f'1년 1월 1일 ~ {year}년 {month}월 {day}일까지는 총 {total_day}일입니다.')"
   ]
  },
  {
   "cell_type": "markdown",
   "id": "7c53508c",
   "metadata": {},
   "source": [
    "# 15번"
   ]
  },
  {
   "cell_type": "code",
   "execution_count": 34,
   "id": "cd5477cf",
   "metadata": {},
   "outputs": [
    {
     "name": "stdout",
     "output_type": "stream",
     "text": [
      "[19, 5, 12, 2, 16]\n",
      "X 위치의 숫자를 맞혀보세요 : 19\n"
     ]
    },
    {
     "ename": "AttributeError",
     "evalue": "'list' object has no attribute 'find'",
     "output_type": "error",
     "traceback": [
      "\u001b[1;31m---------------------------------------------------------------------------\u001b[0m",
      "\u001b[1;31mAttributeError\u001b[0m                            Traceback (most recent call last)",
      "\u001b[1;32m~\\AppData\\Local\\Temp\\ipykernel_13168\\1900534830.py\u001b[0m in \u001b[0;36m<module>\u001b[1;34m\u001b[0m\n\u001b[0;32m     18\u001b[0m     \u001b[0mcount\u001b[0m \u001b[1;33m+=\u001b[0m \u001b[1;36m1\u001b[0m\u001b[1;33m\u001b[0m\u001b[1;33m\u001b[0m\u001b[0m\n\u001b[0;32m     19\u001b[0m     \u001b[1;32mfor\u001b[0m \u001b[0mi\u001b[0m \u001b[1;32min\u001b[0m \u001b[0mnum\u001b[0m\u001b[1;33m:\u001b[0m\u001b[1;33m\u001b[0m\u001b[1;33m\u001b[0m\u001b[0m\n\u001b[1;32m---> 20\u001b[1;33m         \u001b[0mi_index\u001b[0m \u001b[1;33m=\u001b[0m \u001b[0mnum\u001b[0m\u001b[1;33m.\u001b[0m\u001b[0mfind\u001b[0m\u001b[1;33m(\u001b[0m\u001b[0mguess\u001b[0m\u001b[1;33m)\u001b[0m\u001b[1;33m\u001b[0m\u001b[1;33m\u001b[0m\u001b[0m\n\u001b[0m\u001b[0;32m     21\u001b[0m         \u001b[1;32mif\u001b[0m \u001b[0mi_index\u001b[0m \u001b[1;33m!=\u001b[0m \u001b[1;33m-\u001b[0m\u001b[1;36m1\u001b[0m\u001b[1;33m:\u001b[0m\u001b[1;33m\u001b[0m\u001b[1;33m\u001b[0m\u001b[0m\n\u001b[0;32m     22\u001b[0m             \u001b[0mnum\u001b[0m\u001b[1;33m[\u001b[0m\u001b[0mi_index\u001b[0m\u001b[1;33m]\u001b[0m \u001b[1;33m=\u001b[0m \u001b[0mi\u001b[0m\u001b[1;33m\u001b[0m\u001b[1;33m\u001b[0m\u001b[0m\n",
      "\u001b[1;31mAttributeError\u001b[0m: 'list' object has no attribute 'find'"
     ]
    }
   ],
   "source": [
    "import random\n",
    "\n",
    "num = random.sample(range(1,21), 5)\n",
    "# print(num)\n",
    "\n",
    "count = 0\n",
    "\n",
    "while True :\n",
    "    for i in num:\n",
    "        i_index = num.index(i)\n",
    "        if i_index.get(i) != -1:\n",
    "            num[i_index] == 'X'\n",
    "        else:\n",
    "            num[i_index] == i\n",
    "    print(num[i_index], end= '|')\n",
    "    \n",
    "    guess = int(input('X 위치의 숫자를 맞혀보세요 : '))\n",
    "    count += 1\n",
    "    for i in num:\n",
    "        i_index = num.find(guess)\n",
    "        if i_index != -1:\n",
    "            num[i_index] = i\n",
    "    if i_index == -1:\n",
    "        print('없는 숫자입니다')\n",
    "    \n",
    "    if guess == num:\n",
    "        print(f'{count}번만에 맞췄습니다.')\n",
    "        break\n",
    "        "
   ]
  }
 ],
 "metadata": {
  "kernelspec": {
   "display_name": "Python 3 (ipykernel)",
   "language": "python",
   "name": "python3"
  },
  "language_info": {
   "codemirror_mode": {
    "name": "ipython",
    "version": 3
   },
   "file_extension": ".py",
   "mimetype": "text/x-python",
   "name": "python",
   "nbconvert_exporter": "python",
   "pygments_lexer": "ipython3",
   "version": "3.9.13"
  },
  "toc": {
   "base_numbering": 1,
   "nav_menu": {},
   "number_sections": true,
   "sideBar": true,
   "skip_h1_title": false,
   "title_cell": "Table of Contents",
   "title_sidebar": "Contents",
   "toc_cell": false,
   "toc_position": {
    "height": "calc(100% - 180px)",
    "left": "10px",
    "top": "150px",
    "width": "156.625px"
   },
   "toc_section_display": true,
   "toc_window_display": true
  }
 },
 "nbformat": 4,
 "nbformat_minor": 5
}
