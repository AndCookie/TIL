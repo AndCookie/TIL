{
 "cells": [
  {
   "cell_type": "code",
   "execution_count": null,
   "id": "a964c9bb",
   "metadata": {},
   "outputs": [],
   "source": [
    "# 표준 모듈 (모듈 = 라이브러리)\n",
    "# 1. import\n",
    "# 2. math\n",
    "# 3. random\n",
    "# 4. sys"
   ]
  },
  {
   "cell_type": "markdown",
   "id": "38462dfb",
   "metadata": {},
   "source": [
    "# 표준 모듈"
   ]
  },
  {
   "cell_type": "markdown",
   "id": "be243320",
   "metadata": {},
   "source": [
    "## import time"
   ]
  },
  {
   "cell_type": "code",
   "execution_count": 4,
   "id": "00403b51",
   "metadata": {},
   "outputs": [
    {
     "name": "stdout",
     "output_type": "stream",
     "text": [
      "1674010803.8860407\n",
      "Wed Jan 18 12:00:03 2023\n"
     ]
    }
   ],
   "source": [
    "import time\n",
    "\n",
    "i = time.time()\n",
    "v = time.ctime()\n",
    "\n",
    "print(i) #1674010250.0067527 : 컴퓨터상 기준일인 1970년 1월1일 0시0분부터, 지금까지의 시간을 초단위로 갖고 옴\n",
    "print(v) #Wed Jan 18 11:59:19 2023 : 현재 날짜와 시간"
   ]
  },
  {
   "cell_type": "code",
   "execution_count": 1,
   "id": "ae9301e0",
   "metadata": {},
   "outputs": [
    {
     "name": "stdout",
     "output_type": "stream",
     "text": [
      "5000000050000000\n",
      "소요시간: 6.182761907577515\n"
     ]
    }
   ],
   "source": [
    "# 1부터 1억까지 더하는데 얼마나 걸릴까?\n",
    "# 컴퓨터 성능 측정할 때 time 함수 사용 가능\n",
    "\n",
    "import time\n",
    "\n",
    "\n",
    "start = time.time() #현재의 시간을 초단위로 환산\n",
    "\n",
    "sum = 0\n",
    "for i in range(1,100000001):\n",
    "    sum+=i\n",
    "print(sum) # 합의 결과 : 5000000050000000\n",
    "\n",
    "end = time.time() #현재의 시간을 초단위로 환산\n",
    "\n",
    "\n",
    "print('소요시간:', (end-start)) #소요시간: 10.527342796325684"
   ]
  },
  {
   "cell_type": "code",
   "execution_count": 14,
   "id": "30f86199",
   "metadata": {},
   "outputs": [
    {
     "name": "stdout",
     "output_type": "stream",
     "text": [
      "time.struct_time(tm_year=2023, tm_mon=1, tm_mday=18, tm_hour=12, tm_min=27, tm_sec=51, tm_wday=2, tm_yday=18, tm_isdst=0)\n",
      "2023년 1월 18일\n"
     ]
    }
   ],
   "source": [
    "# 원하는 포멧으로 시간을 출력하기\n",
    "\n",
    "import time\n",
    "\n",
    "now = time.localtime()\n",
    "print(now)  # 년도,월,일,시,분,초, 몇째주(day of week), day of year, 썸머타임 여부 (1이면 o, 0이면 x, -1이면 unknown) 등..\n",
    "# time.struct_time(tm_year=2023, tm_mon=1, tm_mday=18, tm_hour=12, tm_min=23, tm_sec=32, tm_wday=2, tm_yday=18, tm_isdst=0)\n",
    "print(f'{now.tm_year}년 {now.tm_mon}월 {now.tm_mday}일')"
   ]
  },
  {
   "cell_type": "code",
   "execution_count": 15,
   "id": "799664e3",
   "metadata": {},
   "outputs": [
    {
     "name": "stdout",
     "output_type": "stream",
     "text": [
      "이 문장은\n",
      "2초 단위로\n",
      "출력됩니다.\n"
     ]
    }
   ],
   "source": [
    "# n초 단위로 출력하기\n",
    "\n",
    "import time\n",
    "\n",
    "print('이 문장은')\n",
    "time.sleep(2)\n",
    "print('2초 단위로')\n",
    "time.sleep(2)\n",
    "print('출력됩니다.')"
   ]
  },
  {
   "cell_type": "markdown",
   "id": "87a9f518",
   "metadata": {},
   "source": [
    "## import random"
   ]
  },
  {
   "cell_type": "code",
   "execution_count": 18,
   "id": "1deadb00",
   "metadata": {},
   "outputs": [
    {
     "name": "stdout",
     "output_type": "stream",
     "text": [
      "1\n",
      "10\n",
      "10\n",
      "10\n",
      "2\n"
     ]
    }
   ],
   "source": [
    "# random 모듈\n",
    "\n",
    "import random\n",
    "\n",
    "for i in range(5):\n",
    "    print(random.randint(1,10)) #1에서 10사이의 정수 난수를 만든다\n",
    "    # 발생시킬 때마다 매번 달라짐! seed값을 현재 시간으로 두니까"
   ]
  },
  {
   "cell_type": "code",
   "execution_count": 26,
   "id": "d6637459",
   "metadata": {},
   "outputs": [
    {
     "name": "stdout",
     "output_type": "stream",
     "text": [
      "10\n",
      "1\n",
      "7\n",
      "8\n",
      "10\n"
     ]
    }
   ],
   "source": [
    "#random.seed ()\n",
    "\n",
    "import random\n",
    "\n",
    "# random.seed(10)\n",
    "random.seed(7)\n",
    "for i in range(5):\n",
    "    print(random.randint(1,10)) \n",
    "    # 항상 동일한 결과를 보고자할 때는 seed를 특정 값으로 고정시켜주기"
   ]
  },
  {
   "cell_type": "code",
   "execution_count": 1,
   "id": "655ce827",
   "metadata": {},
   "outputs": [
    {
     "name": "stdout",
     "output_type": "stream",
     "text": [
      "['짜장면', '짬뽕', '탕수육', '군만두']\n",
      "['짬뽕', '짜장면', '군만두', '탕수육']\n"
     ]
    }
   ],
   "source": [
    "# shuffle\n",
    "\n",
    "import random\n",
    "\n",
    "food = ['짜장면', '짬뽕', '탕수육', '군만두']\n",
    "print(food) # 리스트는 순서를 고려하므로 순서대로 출력\n",
    "\n",
    "random.shuffle(food)\n",
    "print(food) # shuffle하면 매번 순서가 바뀐다."
   ]
  },
  {
   "cell_type": "code",
   "execution_count": 35,
   "id": "9fae1c80",
   "metadata": {},
   "outputs": [
    {
     "name": "stdout",
     "output_type": "stream",
     "text": [
      "탕수육\n",
      "['군만두', '짜장면']\n"
     ]
    }
   ],
   "source": [
    "# choice\n",
    "\n",
    "import random\n",
    "\n",
    "food = ['짜장면', '짬뽕', '탕수육', '군만두']\n",
    "\n",
    "print(random.choice(food)) #군만두\n",
    "print(random.sample(food,2)) #['군만두', '짬뽕']"
   ]
  },
  {
   "cell_type": "markdown",
   "id": "4f139315",
   "metadata": {},
   "source": [
    "## [문제] 로또 번호 생성기\n",
    "- 1~45 사이의 숫자 6개 뽑기\n",
    "- 단, 숫자를 뽑을 때 중복된 숫자는 사용할 수 없음\n",
    "- 결과는 오름차순으로 정렬해서 출력한다."
   ]
  },
  {
   "cell_type": "code",
   "execution_count": 146,
   "id": "7cb6e595",
   "metadata": {},
   "outputs": [
    {
     "name": "stdout",
     "output_type": "stream",
     "text": [
      "[10, 12, 23, 31, 37, 38]\n"
     ]
    }
   ],
   "source": [
    "# A1. set 활용 : 중복을 허용하지 않는 집합\n",
    "import random\n",
    "\n",
    "lotto = set()\n",
    "\n",
    "while True:\n",
    "    lotto.add(random.randint(1,45))\n",
    "    if len(lotto) == 6 :\n",
    "        break\n",
    "# print(lotto) # lotto는 집합이므로 순서 정렬 불가\n",
    "print(sorted(list(lotto)))    "
   ]
  },
  {
   "cell_type": "code",
   "execution_count": 147,
   "id": "9b270bdc",
   "metadata": {},
   "outputs": [
    {
     "name": "stdout",
     "output_type": "stream",
     "text": [
      "[3, 12, 23, 29, 32, 36]\n"
     ]
    }
   ],
   "source": [
    "# A2. list 활용\n",
    "import random\n",
    "\n",
    "lotto = []\n",
    "while True:\n",
    "    num = random.randint(1,45)\n",
    "    if num not in lotto :\n",
    "        lotto.append(num)\n",
    "    if len(lotto) == 6:\n",
    "        break\n",
    "        \n",
    "print(sorted(lotto))"
   ]
  },
  {
   "cell_type": "code",
   "execution_count": 149,
   "id": "21bcc5ec",
   "metadata": {},
   "outputs": [
    {
     "name": "stdout",
     "output_type": "stream",
     "text": [
      "[3, 6, 18, 23, 41, 45]\n"
     ]
    }
   ],
   "source": [
    "# A3. sample 활용\n",
    "import random\n",
    "\n",
    "lotto = random.sample(range(1,46), 6)\n",
    "print(sorted(lotto))"
   ]
  },
  {
   "cell_type": "markdown",
   "id": "9fded29e",
   "metadata": {},
   "source": [
    "## [문제] 숫자 맞추기 게임\n",
    "- 1~100 사이의 정수 난수를 맞추는 게임\n",
    "- 입력 값과 생성 값을 비교하여 어떤 값이 더 큰 지 힌트를 알려준다.\n",
    "- 최종적으로 생성 값을 맞추면 시도 횟수를 보여주고 프로그램을 종료한다.\n",
    "- while 조건 : 생성 값 맞추면!"
   ]
  },
  {
   "cell_type": "code",
   "execution_count": 152,
   "id": "75caacc6",
   "metadata": {},
   "outputs": [
    {
     "name": "stdout",
     "output_type": "stream",
     "text": [
      "1~100 사이의 정수를 입력하시오 : 50\n",
      "더 큰 수를 입력하세요\n",
      "1~100 사이의 정수를 입력하시오 : 70\n",
      "더 작은 수를 입력하세요\n",
      "1~100 사이의 정수를 입력하시오 : 60\n",
      "더 큰 수를 입력하세요\n",
      "1~100 사이의 정수를 입력하시오 : 65\n",
      "더 작은 수를 입력하세요\n",
      "1~100 사이의 정수를 입력하시오 : 62\n",
      "정답입니다\n",
      "시도 횟수 : 5번\n"
     ]
    }
   ],
   "source": [
    "import random\n",
    "\n",
    "pc = random.choice(range(1,100))\n",
    "i = 0\n",
    "\n",
    "while True :\n",
    "    data = int(input('1~100 사이의 정수를 입력하시오 : '))\n",
    "    if data > pc:\n",
    "        print('더 작은 수를 입력하세요')\n",
    "        i += 1\n",
    "    elif data < pc :\n",
    "        print('더 큰 수를 입력하세요')\n",
    "        i += 1\n",
    "    else :\n",
    "        print('정답입니다')\n",
    "        i += 1\n",
    "        break\n",
    "\n",
    "print(f'시도 횟수 : {i}번')"
   ]
  },
  {
   "cell_type": "code",
   "execution_count": 4,
   "id": "7962cf45",
   "metadata": {},
   "outputs": [
    {
     "name": "stdout",
     "output_type": "stream",
     "text": [
      "1~100 사이의 정수를 입력하시오 : 50\n",
      "더 작은 수를 입력하세요\n",
      "1~100 사이의 정수를 입력하시오 : 30\n",
      "더 큰 수를 입력하세요\n",
      "1~100 사이의 정수를 입력하시오 : 40\n",
      "더 작은 수를 입력하세요\n",
      "1~100 사이의 정수를 입력하시오 : 35\n",
      "더 작은 수를 입력하세요\n",
      "1~100 사이의 정수를 입력하시오 : 33\n",
      "더 큰 수를 입력하세요\n",
      "1~100 사이의 정수를 입력하시오 : 34\n",
      "6번만에 맞췄습니다.\n"
     ]
    }
   ],
   "source": [
    "# A.\n",
    "import random\n",
    "\n",
    "num = random.randint(1,100)\n",
    "count = 0\n",
    "\n",
    "while True :\n",
    "    guess = int(input('1~100 사이의 정수를 입력하시오 : '))\n",
    "    count += 1\n",
    "    if guess == num:\n",
    "        print(f'{count}번만에 맞췄습니다.')\n",
    "        break\n",
    "    elif guess > num:\n",
    "        print('더 작은 수를 입력하세요')\n",
    "    else:\n",
    "        print('더 큰 수를 입력하세요')    "
   ]
  },
  {
   "cell_type": "markdown",
   "id": "9e4c80c6",
   "metadata": {},
   "source": [
    "## sys\n",
    "<pre>\n",
    "1. 메모장에 적기\n",
    "import sys\n",
    "print('hello python')\n",
    "print(sys.argv)\n",
    "\n",
    "2. 저장\n",
    "위치 : c드라이브 / 사용자 / user\n",
    "파일 이름 : test.py\n",
    "파일 형식 : 모든 파일\n",
    "\n",
    "3. acaconda prompt 창 열기\n",
    "\n",
    "4. dir \\*py       # py형식을 갖는 모든 파일을 가져와라\n",
    "\n",
    "5. python test.py\n",
    "hello world\n",
    "['test.py']   # print(sys.argv)의 값이 없으므로 파일명만 출력\n",
    "\n",
    "6. 화살표 + user option\n",
    "hello world\n",
    "['test.py' ] \n",
    "</pre>"
   ]
  },
  {
   "cell_type": "markdown",
   "id": "fd626b82",
   "metadata": {},
   "source": [
    "<pre>\n",
    "1. 메모장에 적기\n",
    "import sys\n",
    "def calculator (exp):\n",
    "    op_index = 0\n",
    "    operator = ' '\n",
    "    for op in ['+','-','*','/'] :\n",
    "        op_index = exp.find(op)\n",
    "        if op_index != -1:\n",
    "            operator = op\n",
    "            break\n",
    "            \n",
    "    if op_index == -1:\n",
    "        print('연산자 오류')\n",
    "        return\n",
    "    \n",
    "    value1 = float(exp.split(operator)[0])\n",
    "    value2 = float(exp.split(operator)[1])\n",
    "    \n",
    "    result = 0.0\n",
    "    if operator == '+':\n",
    "        result = value1 + value2\n",
    "    elif operator == '-':\n",
    "        result = value1 - value2\n",
    "    elif operator == '*':\n",
    "        result = value1 * value2\n",
    "    elif operator == '/':\n",
    "        if value2 == 0:\n",
    "            print('0으로 나눌 수 없습니다.')\n",
    "            return\n",
    "        else:\n",
    "            result = value1 / value2\n",
    "    \n",
    "    print(f'{exp}={result:.2f}')\n",
    "\n",
    "calculator(sys.argv[1])\n",
    "\n",
    "\n",
    "2. 저장\n",
    "- 위치 : c드라이브 / 사용자 / user\n",
    "- 파일 이름 : test.py\n",
    "- 파일 형식 : 모든 파일\n",
    "\n",
    "\n",
    "3. acaconda prompt 창 열기\n",
    "\n",
    "4. python test.py 10+20 abc\n",
    "- 10+20=30.00\n",
    "# argv는 리스트의 형태\n",
    "# [0]에는 파일의 경로\n",
    "# [1]에는 10+20\n",
    "# [2]에는 abc\n",
    "</pre>"
   ]
  }
 ],
 "metadata": {
  "kernelspec": {
   "display_name": "Python 3 (ipykernel)",
   "language": "python",
   "name": "python3"
  },
  "language_info": {
   "codemirror_mode": {
    "name": "ipython",
    "version": 3
   },
   "file_extension": ".py",
   "mimetype": "text/x-python",
   "name": "python",
   "nbconvert_exporter": "python",
   "pygments_lexer": "ipython3",
   "version": "3.9.13"
  },
  "toc": {
   "base_numbering": 1,
   "nav_menu": {},
   "number_sections": true,
   "sideBar": true,
   "skip_h1_title": false,
   "title_cell": "Table of Contents",
   "title_sidebar": "Contents",
   "toc_cell": false,
   "toc_position": {
    "height": "calc(100% - 180px)",
    "left": "10px",
    "top": "150px",
    "width": "298.05px"
   },
   "toc_section_display": true,
   "toc_window_display": true
  }
 },
 "nbformat": 4,
 "nbformat_minor": 5
}
