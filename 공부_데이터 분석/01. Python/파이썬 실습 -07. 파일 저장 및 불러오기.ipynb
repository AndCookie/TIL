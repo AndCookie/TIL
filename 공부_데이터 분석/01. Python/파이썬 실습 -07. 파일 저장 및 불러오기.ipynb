{
 "cells": [
  {
   "cell_type": "markdown",
   "id": "b88dcc2f",
   "metadata": {},
   "source": [
    "# I/O (입출력)"
   ]
  },
  {
   "cell_type": "markdown",
   "id": "93c55fda",
   "metadata": {},
   "source": [
    "## File Open"
   ]
  },
  {
   "cell_type": "code",
   "execution_count": 3,
   "id": "3e490aea",
   "metadata": {},
   "outputs": [
    {
     "name": "stdout",
     "output_type": "stream",
     "text": [
      "End\n"
     ]
    }
   ],
   "source": [
    "f = open('myfile.txt', 'w')\n",
    "#파일이 없으면 새로 생성, 이미 존재하면 overwrite 덮어씌우기\n",
    "#t가 생략되어 있다 (w는 wt이다)\n",
    "f.write('Hello World')\n",
    "f.close()\n",
    "\n",
    "print('End')\n",
    "#Hello World"
   ]
  },
  {
   "cell_type": "code",
   "execution_count": 18,
   "id": "cd24946b",
   "metadata": {},
   "outputs": [
    {
     "name": "stdout",
     "output_type": "stream",
     "text": [
      "End\n"
     ]
    }
   ],
   "source": [
    "f = open('myfile2.txt', mode='w', encoding='utf-8')\n",
    "# mode='w' : 키워드 매개변수\n",
    "# endocing='utf-8' : 한국어 지원\n",
    "\n",
    "for i in range(1,11):\n",
    "    f.write('값='+str(i)+'\\n')\n",
    "# 개행\n",
    "f.close()\n",
    "\n",
    "print('End')\n",
    "#값=1값=2값=3값=4값=5값=6값=7값=8값=9값=10"
   ]
  },
  {
   "cell_type": "markdown",
   "id": "1818a5c1",
   "metadata": {},
   "source": [
    "## r 읽기 모드"
   ]
  },
  {
   "cell_type": "code",
   "execution_count": 8,
   "id": "e61ce4c2",
   "metadata": {},
   "outputs": [
    {
     "name": "stdout",
     "output_type": "stream",
     "text": [
      "End\n"
     ]
    }
   ],
   "source": [
    "song = \"\"\"Hello, it's me \n",
    "I was wondering if after all these years you'd like to meet\n",
    "To go over everything\n",
    "They say that time's supposed to heal ya\n",
    "But I ain't done much healing\n",
    "Hello, can you hear me?\n",
    "I'm in California dreaming about who we used to be\n",
    "When we were younger and free\n",
    "I've forgotten how it felt before the world fell at our feet\n",
    "There's such a difference between us\n",
    "And a million miles\n",
    "Hello from the other side\n",
    "I must've called a thousand times\n",
    "To tell you I'm sorry for everything that I've done\n",
    "But when I call, you never seem to be home\n",
    "Hello from the outside\n",
    "At least I can say that I've tried\n",
    "To tell you I'm sorry for breaking your heart\n",
    "But it don't matter, it clearly doesn't tear you apart anymore\n",
    "Hello, how are you?\n",
    "It's so typical of me to talk about myself, I'm sorry\n",
    "I hope that you're well\n",
    "Did you ever make it out of that town where nothing ever happened?\n",
    "It's no secret that the both of us are running out of time\n",
    "So hello from the other side (Other side)\n",
    "I must've called a thousand times (Thousand times)\n",
    "To tell you I'm sorry for everything that I've done\n",
    "But when I call, you never seem to be home\n",
    "Hello from the outside (Outside)\n",
    "At least I can say that I've tried (I've tried)\n",
    "To tell you I'm sorry for breaking your heart\n",
    "But it don't matter, it clearly doesn't tear you apart anymore\n",
    "Ooh-ooh, anymore\n",
    "Ooh-ooh-ooh, anymore\n",
    "Ooh-ooh, anymore\n",
    "Anymore\n",
    "Hello from the other side (Other side)\n",
    "I must've called a thousand times (Thousand times)\n",
    "To tell you I'm sorry for everything that I've done\n",
    "But when I call, you never seem to be home\n",
    "Hello from the outside (Outside)\n",
    "At least I can say that I've tried (I've tried)\n",
    "To tell you I'm sorry for breaking your heart\n",
    "But it don't matter, it clearly doesn't tear you apart anymore\"\"\"\n",
    "\n",
    "f=open('song.txt', 'w')\n",
    "f.write(song)\n",
    "f.close()\n",
    "print('End')"
   ]
  },
  {
   "cell_type": "code",
   "execution_count": 9,
   "id": "4b6980b8",
   "metadata": {},
   "outputs": [
    {
     "name": "stdout",
     "output_type": "stream",
     "text": [
      "[\"Hello, it's me \\n\", \"I was wondering if after all these years you'd like to meet\\n\", 'To go over everything\\n', \"They say that time's supposed to heal ya\\n\", \"But I ain't done much healing\\n\", 'Hello, can you hear me?\\n', \"I'm in California dreaming about who we used to be\\n\", 'When we were younger and free\\n', \"I've forgotten how it felt before the world fell at our feet\\n\", \"There's such a difference between us\\n\", 'And a million miles\\n', 'Hello from the other side\\n', \"I must've called a thousand times\\n\", \"To tell you I'm sorry for everything that I've done\\n\", 'But when I call, you never seem to be home\\n', 'Hello from the outside\\n', \"At least I can say that I've tried\\n\", \"To tell you I'm sorry for breaking your heart\\n\", \"But it don't matter, it clearly doesn't tear you apart anymore\\n\", 'Hello, how are you?\\n', \"It's so typical of me to talk about myself, I'm sorry\\n\", \"I hope that you're well\\n\", 'Did you ever make it out of that town where nothing ever happened?\\n', \"It's no secret that the both of us are running out of time\\n\", 'So hello from the other side (Other side)\\n', \"I must've called a thousand times (Thousand times)\\n\", \"To tell you I'm sorry for everything that I've done\\n\", 'But when I call, you never seem to be home\\n', 'Hello from the outside (Outside)\\n', \"At least I can say that I've tried (I've tried)\\n\", \"To tell you I'm sorry for breaking your heart\\n\", \"But it don't matter, it clearly doesn't tear you apart anymore\\n\", 'Ooh-ooh, anymore\\n', 'Ooh-ooh-ooh, anymore\\n', 'Ooh-ooh, anymore\\n', 'Anymore\\n', 'Hello from the other side (Other side)\\n', \"I must've called a thousand times (Thousand times)\\n\", \"To tell you I'm sorry for everything that I've done\\n\", 'But when I call, you never seem to be home\\n', 'Hello from the outside (Outside)\\n', \"At least I can say that I've tried (I've tried)\\n\", \"To tell you I'm sorry for breaking your heart\\n\", \"But it don't matter, it clearly doesn't tear you apart anymore\"]\n"
     ]
    }
   ],
   "source": [
    "# readlines()\n",
    "\n",
    "f=open('song.txt', 'r')\n",
    "data = f.readlines()\n",
    "f.close()\n",
    "print(data)"
   ]
  },
  {
   "cell_type": "code",
   "execution_count": 11,
   "id": "d906d451",
   "metadata": {
    "scrolled": false
   },
   "outputs": [
    {
     "name": "stdout",
     "output_type": "stream",
     "text": [
      "Hello, it's me \n",
      "I was wondering if after all these years you'd like to meet\n",
      "To go over everything\n",
      "They say that time's supposed to heal ya\n",
      "But I ain't done much healing\n",
      "Hello, can you hear me?\n",
      "I'm in California dreaming about who we used to be\n",
      "When we were younger and free\n",
      "I've forgotten how it felt before the world fell at our feet\n",
      "There's such a difference between us\n",
      "And a million miles\n",
      "Hello from the other side\n",
      "I must've called a thousand times\n",
      "To tell you I'm sorry for everything that I've done\n",
      "But when I call, you never seem to be home\n",
      "Hello from the outside\n",
      "At least I can say that I've tried\n",
      "To tell you I'm sorry for breaking your heart\n",
      "But it don't matter, it clearly doesn't tear you apart anymore\n",
      "Hello, how are you?\n",
      "It's so typical of me to talk about myself, I'm sorry\n",
      "I hope that you're well\n",
      "Did you ever make it out of that town where nothing ever happened?\n",
      "It's no secret that the both of us are running out of time\n",
      "So hello from the other side (Other side)\n",
      "I must've called a thousand times (Thousand times)\n",
      "To tell you I'm sorry for everything that I've done\n",
      "But when I call, you never seem to be home\n",
      "Hello from the outside (Outside)\n",
      "At least I can say that I've tried (I've tried)\n",
      "To tell you I'm sorry for breaking your heart\n",
      "But it don't matter, it clearly doesn't tear you apart anymore\n",
      "Ooh-ooh, anymore\n",
      "Ooh-ooh-ooh, anymore\n",
      "Ooh-ooh, anymore\n",
      "Anymore\n",
      "Hello from the other side (Other side)\n",
      "I must've called a thousand times (Thousand times)\n",
      "To tell you I'm sorry for everything that I've done\n",
      "But when I call, you never seem to be home\n",
      "Hello from the outside (Outside)\n",
      "At least I can say that I've tried (I've tried)\n",
      "To tell you I'm sorry for breaking your heart\n",
      "But it don't matter, it clearly doesn't tear you apart anymoreEnd\n"
     ]
    }
   ],
   "source": [
    "# readline()\n",
    "\n",
    "f=open('song.txt', 'r')\n",
    "while True:\n",
    "    line = f.readline()\n",
    "    if not line :\n",
    "        break\n",
    "    print(line, end='')\n",
    "    #원래 song도 줄마다 개행인데, print자체도 개행 디폴트니까 개행 두 번 된다\n",
    "f.close()\n",
    "print('End')"
   ]
  },
  {
   "cell_type": "markdown",
   "id": "4f39d532",
   "metadata": {},
   "source": [
    "## a 추가 모드"
   ]
  },
  {
   "cell_type": "code",
   "execution_count": 15,
   "id": "8ed5ffac",
   "metadata": {},
   "outputs": [
    {
     "name": "stdout",
     "output_type": "stream",
     "text": [
      "End\n"
     ]
    }
   ],
   "source": [
    "score = {'홍길동':89, '임꺽정':78, '손오공':88, '전우치':90, '저팔계':95}\n",
    "f = open('score.txt', 'w', encoding='utf-8')\n",
    "\n",
    "for name, s in score.items():\n",
    "    # 딕셔너리로부터 key와 value를 튜플의 쌍으로 받아온다.\n",
    "    f.write(f'{name}:{s}점\\n')\\\n",
    "\n",
    "f.write('---------------------------\\n')\n",
    "f.write(f'학생수: {len(score)}\\n')\n",
    "f.write(f'합계: {sum(score.values())}\\n')\n",
    "f.write(f'평균: {sum(score.values())/len(score)}\\n')\n",
    "f.close()\n",
    "print('End')"
   ]
  },
  {
   "cell_type": "code",
   "execution_count": 17,
   "id": "1b726fe7",
   "metadata": {},
   "outputs": [
    {
     "name": "stdout",
     "output_type": "stream",
     "text": [
      "End\n"
     ]
    }
   ],
   "source": [
    "# a : 추가 모드\n",
    "f = open('score.txt', 'a', encoding='utf-8') \n",
    "f.write('---------------------------\\n')\n",
    "f.close()\n",
    "print('End')"
   ]
  },
  {
   "cell_type": "markdown",
   "id": "b9515989",
   "metadata": {},
   "source": [
    "## 입출력 위치\n",
    "- 임의로 입출력 위치를 이동시킨 후 읽거나, 쓰거나.."
   ]
  },
  {
   "cell_type": "code",
   "execution_count": 19,
   "id": "78791beb",
   "metadata": {},
   "outputs": [
    {
     "name": "stdout",
     "output_type": "stream",
     "text": [
      "s me \n",
      "I was wondering if after all these years you'd like to meet\n",
      "To go over everything\n",
      "They say that time's supposed to heal ya\n",
      "But I ain't done much healing\n",
      "Hello, can you hear me?\n",
      "I'm in California dreaming about who we used to be\n",
      "When we were younger and free\n",
      "I've forgotten how it felt before the world fell at our feet\n",
      "There's such a difference between us\n",
      "And a million miles\n",
      "Hello from the other side\n",
      "I must've called a thousand times\n",
      "To tell you I'm sorry for everything that I've done\n",
      "But when I call, you never seem to be home\n",
      "Hello from the outside\n",
      "At least I can say that I've tried\n",
      "To tell you I'm sorry for breaking your heart\n",
      "But it don't matter, it clearly doesn't tear you apart anymore\n",
      "Hello, how are you?\n",
      "It's so typical of me to talk about myself, I'm sorry\n",
      "I hope that you're well\n",
      "Did you ever make it out of that town where nothing ever happened?\n",
      "It's no secret that the both of us are running out of time\n",
      "So hello from the other side (Other side)\n",
      "I must've called a thousand times (Thousand times)\n",
      "To tell you I'm sorry for everything that I've done\n",
      "But when I call, you never seem to be home\n",
      "Hello from the outside (Outside)\n",
      "At least I can say that I've tried (I've tried)\n",
      "To tell you I'm sorry for breaking your heart\n",
      "But it don't matter, it clearly doesn't tear you apart anymore\n",
      "Ooh-ooh, anymore\n",
      "Ooh-ooh-ooh, anymore\n",
      "Ooh-ooh, anymore\n",
      "Anymore\n",
      "Hello from the other side (Other side)\n",
      "I must've called a thousand times (Thousand times)\n",
      "To tell you I'm sorry for everything that I've done\n",
      "But when I call, you never seem to be home\n",
      "Hello from the outside (Outside)\n",
      "At least I can say that I've tried (I've tried)\n",
      "To tell you I'm sorry for breaking your heart\n",
      "But it don't matter, it clearly doesn't tear you apart anymore\n"
     ]
    }
   ],
   "source": [
    "f = open('song.txt', 'r')\n",
    "f.seek(10,0)\n",
    "text= f.read()\n",
    "print(text)\n",
    "f.close()"
   ]
  },
  {
   "cell_type": "markdown",
   "id": "25b85a2d",
   "metadata": {},
   "source": [
    "## 바이너리 데이터\n",
    "- jupyter notebook에 jpg 업로드 후 진행"
   ]
  },
  {
   "cell_type": "code",
   "execution_count": 20,
   "id": "9a1b4a83",
   "metadata": {},
   "outputs": [
    {
     "name": "stdout",
     "output_type": "stream",
     "text": [
      "End\n"
     ]
    }
   ],
   "source": [
    "original = open('python.jpg', 'rb')\n",
    "# 읽기모드 : r만 쓰면 디폴트가 rt이므로 rb를 명시해야 한다. // b : 이진 데이터\n",
    "target = open('copy_python.jpg', 'wb')\n",
    "data = original.read() #전체 데이터를 한 번에 읽기\n",
    "target.write(data)\n",
    "original.close()\n",
    "target.close()\n",
    "print('End')"
   ]
  },
  {
   "cell_type": "markdown",
   "id": "15ed1d2c",
   "metadata": {},
   "source": [
    "## with 활용"
   ]
  },
  {
   "cell_type": "code",
   "execution_count": 23,
   "id": "3815f25c",
   "metadata": {},
   "outputs": [
    {
     "name": "stdout",
     "output_type": "stream",
     "text": [
      "홍길동:89점\n",
      "임꺽정:78점\n",
      "손오공:88점\n",
      "전우치:90점\n",
      "저팔계:95점\n",
      "---------------------------\n",
      "학생수: 5\n",
      "합계: 440\n",
      "평균: 88.0\n",
      "---------------------------\n",
      "\n"
     ]
    }
   ],
   "source": [
    "with open('score.txt', 'r', encoding='utf-8') as f:\n",
    "    print(f.read())\n",
    "#f는 별칭 / open을 f에 담겠다\n",
    "# with쓰면 별도로 close를 하지 않아도 된다. 할당된 자원의 활용이 끝나면, 즉 함수의 실행이 끝나면, 자원을 자동으로 도로 반납하기 때문,"
   ]
  }
 ],
 "metadata": {
  "kernelspec": {
   "display_name": "Python 3 (ipykernel)",
   "language": "python",
   "name": "python3"
  },
  "language_info": {
   "codemirror_mode": {
    "name": "ipython",
    "version": 3
   },
   "file_extension": ".py",
   "mimetype": "text/x-python",
   "name": "python",
   "nbconvert_exporter": "python",
   "pygments_lexer": "ipython3",
   "version": "3.9.13"
  },
  "toc": {
   "base_numbering": 1,
   "nav_menu": {},
   "number_sections": true,
   "sideBar": true,
   "skip_h1_title": false,
   "title_cell": "Table of Contents",
   "title_sidebar": "Contents",
   "toc_cell": false,
   "toc_position": {
    "height": "calc(100% - 180px)",
    "left": "10px",
    "top": "150px",
    "width": "313.75px"
   },
   "toc_section_display": true,
   "toc_window_display": true
  }
 },
 "nbformat": 4,
 "nbformat_minor": 5
}
