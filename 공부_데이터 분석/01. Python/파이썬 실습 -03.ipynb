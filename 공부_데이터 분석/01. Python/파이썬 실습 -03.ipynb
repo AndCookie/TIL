{
 "cells": [
  {
   "cell_type": "markdown",
   "id": "c9024d9a",
   "metadata": {},
   "source": [
    "# 문자열 처리"
   ]
  },
  {
   "cell_type": "code",
   "execution_count": 4,
   "id": "7a3baad1",
   "metadata": {},
   "outputs": [
    {
     "name": "stdout",
     "output_type": "stream",
     "text": [
      "학교종이 땡땡땡\n",
      "학\n",
      "땡\n"
     ]
    }
   ],
   "source": [
    "mystr = '학교종이 땡땡땡'\n",
    "\n",
    "print(mystr)\n",
    "print(mystr[0])\n",
    "print(mystr[-1])\n",
    "\n",
    "# mystr[1] = '원' # err : 문자열 객체는 값을 변경할 수 없다!\n"
   ]
  },
  {
   "cell_type": "code",
   "execution_count": 8,
   "id": "084d94e8",
   "metadata": {},
   "outputs": [
    {
     "name": "stdout",
     "output_type": "stream",
     "text": [
      "I say \"Help\" to you\n",
      "철수\t영희\n"
     ]
    }
   ],
   "source": [
    "hello = 'I say \"Help\" to you'\n",
    "print(hello)\n",
    "\n",
    "s = '철수\\t영희'\n",
    "print(s)"
   ]
  },
  {
   "cell_type": "markdown",
   "id": "2f638b90",
   "metadata": {},
   "source": [
    "## [문제] 파일 이름 슬라이싱\n",
    "\n",
    "<pre>\n",
    "* 파일 이름 : 20230111-110324.jpg\n",
    "\n",
    "[출력 결과]\n",
    "촬영 날짜: 2023년 01월 11일\n",
    "촬영 시간: 11시 03분\n",
    "확장자: jpg\n",
    "</pre>"
   ]
  },
  {
   "cell_type": "code",
   "execution_count": 24,
   "id": "7128fd1f",
   "metadata": {},
   "outputs": [
    {
     "name": "stdout",
     "output_type": "stream",
     "text": [
      " 촬영 날짜: 2023년 01월 11일 \n",
      " \r",
      " 촬영 시간: 11시 03분 \n",
      " \r",
      " 확장자: jpg\n"
     ]
    }
   ],
   "source": [
    "file = '20230111-110324.jpg'\n",
    "\n",
    "print(f' 촬영 날짜: {file[:4]}년 {file[4:6]}월 {file[6:8]}일 \\n \\r 촬영 시간: {file[9:11]}시 {file[11:13]}분 \\n \\r 확장자: {file[-3:]}')\n"
   ]
  },
  {
   "cell_type": "code",
   "execution_count": 25,
   "id": "1e9717ef",
   "metadata": {},
   "outputs": [
    {
     "name": "stdout",
     "output_type": "stream",
     "text": [
      "촬영 날짜: 2023년 01월 11일\n",
      "촬영 시간: 11시 03분\n",
      "확장자: jpg\n"
     ]
    }
   ],
   "source": [
    "# A.\n",
    "file = '20230111-110324.jpg'\n",
    "\n",
    "print(f'촬영 날짜: {file[0:4]}년 {file[4:6]}월 {file[6:8]}일')\n",
    "print(f'촬영 시간: {file[9:11]}시 {file[11:13]}분')\n",
    "print(f'확장자: {file[-3:]}')\n",
    "\n",
    "# 확장자의 길이가 몇 개이던 간에 추출하고 싶다면 점(.)의 위치를 찾고 그 이후로 슬라이싱하면 된다.\n",
    "# file.find(\".\") :지정된 문자열의 오프셋 값 리턴, 못찾으면 -1"
   ]
  },
  {
   "cell_type": "code",
   "execution_count": 26,
   "id": "636f32e2",
   "metadata": {},
   "outputs": [
    {
     "name": "stdout",
     "output_type": "stream",
     "text": [
      "olleh\n"
     ]
    }
   ],
   "source": [
    "# 문자열 뒤집기\n",
    "str = 'hello'  #'olleh'로 출력\n",
    "print(str[::-1]) # step을 뒤에서부터 -1 씩"
   ]
  },
  {
   "cell_type": "markdown",
   "id": "62ac6c40",
   "metadata": {},
   "source": [
    "# 문자열 함수"
   ]
  },
  {
   "cell_type": "code",
   "execution_count": 27,
   "id": "90b4017f",
   "metadata": {},
   "outputs": [
    {
     "name": "stdout",
     "output_type": "stream",
     "text": [
      "9\n"
     ]
    }
   ],
   "source": [
    "# count\n",
    "s = \"\"\"생각이란 생각할수록 생각나므로\n",
    "생각하지 말아야 할 생각은 생각하지 않으려고 하는 생각이\n",
    "옳은 생각이라고 생각합니다.\"\"\"\n",
    "\n",
    "print(s.count('생각')) #해당 문장에서 생각이라는 단어가 총 9번 등장한다."
   ]
  },
  {
   "cell_type": "code",
   "execution_count": 28,
   "id": "1f04f2af",
   "metadata": {},
   "outputs": [
    {
     "name": "stdout",
     "output_type": "stream",
     "text": [
      "True\n"
     ]
    }
   ],
   "source": [
    "# in 연산자\n",
    "s = 'Python Programming'\n",
    "print('a' in s)"
   ]
  },
  {
   "cell_type": "code",
   "execution_count": 32,
   "id": "86b6ef10",
   "metadata": {},
   "outputs": [
    {
     "name": "stdout",
     "output_type": "stream",
     "text": [
      "['짜장', '짬뽕', '탕수육']\n",
      "['서울', '대전', '대구', '부산']\n"
     ]
    }
   ],
   "source": [
    "# 문자열을 분리하는 split\n",
    "s = '짜장 짬뽕 탕수육'\n",
    "print(s.split()) #공백을 구분으로 하는 것이 DEFAULT\n",
    "# 결과값은 리스트 형태로 반환한다\n",
    "\n",
    "s2 = '서울->대전->대구->부산'\n",
    "city = s2.split('->')\n",
    "print(city)"
   ]
  },
  {
   "cell_type": "code",
   "execution_count": 36,
   "id": "f1d51420",
   "metadata": {},
   "outputs": [
    {
     "name": "stdout",
     "output_type": "stream",
     "text": [
      "서울,대전,대구,부산\n"
     ]
    }
   ],
   "source": [
    "# 문자열 \"리스트\"를 결합하는 join\n",
    "city_list = ['서울', '대전', '대구', '부산']\n",
    "city_string = ','.join(city_list)\n",
    "print(city_string)"
   ]
  },
  {
   "cell_type": "code",
   "execution_count": 37,
   "id": "e3d611d1",
   "metadata": {},
   "outputs": [
    {
     "name": "stdout",
     "output_type": "stream",
     "text": [
      "대-한-민-국\n"
     ]
    }
   ],
   "source": [
    "# 문자열 \"객체\"를 결합하는 join\n",
    "# (파이썬에서는 문자열을 리스트로 관리한다! 따라서 한 글자, 한 글자를 리스트의 원소로 취급한다.)\n",
    "s = '대한민국'\n",
    "print('-'.join(s))"
   ]
  },
  {
   "cell_type": "markdown",
   "id": "16653ca6",
   "metadata": {},
   "source": [
    "# 문자열 대입"
   ]
  },
  {
   "cell_type": "code",
   "execution_count": 46,
   "id": "5a0b6922",
   "metadata": {},
   "outputs": [
    {
     "name": "stdout",
     "output_type": "stream",
     "text": [
      "08월 15일은 광복절이다.\n",
      "8월 15일은 광복절이다.\n",
      "8월 15일은 광복절이다.\n",
      "08월 15일은 광복절이다.\n"
     ]
    }
   ],
   "source": [
    "month = 8\n",
    "day = 15\n",
    "anni = '광복절'\n",
    "print('%02d월 %d일은 %s이다.' %(month, day, anni))\n",
    "print('{:02d}월 {}일은 {}이다.'.format(month, day, anni))\n",
    "print('{2:02d}월 {0}일은 {1}이다.'.format(day, anni, month))\n",
    "print(f'{month:02d}월 {day}일은 {anni}이다.') # :포맷지정"
   ]
  },
  {
   "cell_type": "markdown",
   "id": "ee552294",
   "metadata": {},
   "source": [
    "## [문제] 주민등록번호 분석하기\n",
    "<pre>\n",
    "임의의 주민등록번호를 입력받아 다음과 같이 생년과 성별을 추출하는 코드를 작성하시오.\n",
    "\n",
    "[실행예시]\n",
    "주민등록번호 : 881231-1234567\n",
    "88년생 남자\n",
    "</pre>"
   ]
  },
  {
   "cell_type": "code",
   "execution_count": 58,
   "id": "1c6c5324",
   "metadata": {},
   "outputs": [
    {
     "name": "stdout",
     "output_type": "stream",
     "text": [
      "주민등록번호: 881231-1234567\n",
      "88년생 남자\n",
      "88년생 남자\n",
      "88년생 남자\n"
     ]
    }
   ],
   "source": [
    "number = input('주민등록번호: ')\n",
    "year = number[:2]\n",
    "gender = '남자' if number[7:8] == '1' else '여자'\n",
    "\n",
    "print(f'{year}년생 {gender}' )\n",
    "print('%s년생 %s' %(year, gender))\n",
    "print('{}년생 {}'.format(year, gender))"
   ]
  },
  {
   "cell_type": "code",
   "execution_count": 60,
   "id": "d7e4c1d1",
   "metadata": {},
   "outputs": [
    {
     "name": "stdout",
     "output_type": "stream",
     "text": [
      "주민등록번호: 881231-1234567\n",
      "88년생 남자\n",
      "88년생 남자\n",
      "88년생 남자\n"
     ]
    }
   ],
   "source": [
    "# A.\n",
    "number = input('주민등록번호: ')\n",
    "year = number[:2] #문자열을 슬라이싱 한 것 #문자열 타입의 연도가 추출된 것 '88'\n",
    "gender = number[7:8] #문자열을 슬라이싱 한 것\n",
    "gender = '남자' if gender == '1' else '여자' #문자열이니까 '1'\n",
    "\n",
    "print(f'{year}년생 {gender}' )\n",
    "print('%s년생 %s' %(year, gender)) #문자열이니까 '%s'\n",
    "print('{}년생 {}'.format(year, gender))"
   ]
  },
  {
   "cell_type": "markdown",
   "id": "c5d20d60",
   "metadata": {},
   "source": [
    "## [문제] 단어 수 세기\n",
    "- 문자열 내 전체 단어가 몇 개인가?\n",
    "- 문자열 내 'like' 단어의 갯수가 몇 개인가?\n",
    "- 문자열 내 가장 많이 나오는 단어는 무엇이며 몇 회인가?\n",
    ">- 1) 힌트 : 문자열 내에 줄바꿈 ('\\n') 문자를 공백 문자로 먼저 치환한다. replace(old string, new string)\n",
    ">- 2) 힌트 : 문자열을 단어로 나눈다. split( )\n",
    ">- 3) 힌트 : 모든 단어를 소문자로 수정한다 (대소문자 구분하지 않으므로)"
   ]
  },
  {
   "cell_type": "code",
   "execution_count": 163,
   "id": "4df50b84",
   "metadata": {},
   "outputs": [
    {
     "name": "stdout",
     "output_type": "stream",
     "text": [
      "333\n",
      "1\n",
      "to\n",
      "14\n"
     ]
    }
   ],
   "source": [
    "song = \"\"\"Hello, it's me \n",
    "I was wondering if after all these years you'd like to meet\n",
    "To go over everything\n",
    "They say that time's supposed to heal ya\n",
    "But I ain't done much healing\n",
    "Hello, can you hear me?\n",
    "I'm in California dreaming about who we used to be\n",
    "When we were younger and free\n",
    "I've forgotten how it felt before the world fell at our feet\n",
    "There's such a difference between us\n",
    "And a million miles\n",
    "Hello from the other side\n",
    "I must've called a thousand times\n",
    "To tell you I'm sorry for everything that I've done\n",
    "But when I call, you never seem to be home\n",
    "Hello from the outside\n",
    "At least I can say that I've tried\n",
    "To tell you I'm sorry for breaking your heart\n",
    "But it don't matter, it clearly doesn't tear you apart anymore\n",
    "Hello, how are you?\n",
    "It's so typical of me to talk about myself, I'm sorry\n",
    "I hope that you're well\n",
    "Did you ever make it out of that town where nothing ever happened?\n",
    "It's no secret that the both of us are running out of time\n",
    "So hello from the other side (Other side)\n",
    "I must've called a thousand times (Thousand times)\n",
    "To tell you I'm sorry for everything that I've done\n",
    "But when I call, you never seem to be home\n",
    "Hello from the outside (Outside)\n",
    "At least I can say that I've tried (I've tried)\n",
    "To tell you I'm sorry for breaking your heart\n",
    "But it don't matter, it clearly doesn't tear you apart anymore\n",
    "Ooh-ooh, anymore\n",
    "Ooh-ooh-ooh, anymore\n",
    "Ooh-ooh, anymore\n",
    "Anymore\n",
    "Hello from the other side (Other side)\n",
    "I must've called a thousand times (Thousand times)\n",
    "To tell you I'm sorry for everything that I've done\n",
    "But when I call, you never seem to be home\n",
    "Hello from the outside (Outside)\n",
    "At least I can say that I've tried (I've tried)\n",
    "To tell you I'm sorry for breaking your heart\n",
    "But it don't matter, it clearly doesn't tear you apart anymore\"\"\"\n",
    "\n",
    "\n",
    "a = song.replace('\\n', ' ')\n",
    "b = a.lower() #문자열\n",
    "c = b.split() #리스트\n",
    "print(len(c))\n",
    "print(b.count('like'))\n",
    "\n",
    "max_count = 0\n",
    "for now in c:\n",
    "    now_count = c.count(now)\n",
    "    if now_count > max_count:\n",
    "        max_count=now_count\n",
    "        max_word=c[max_count+1]\n",
    "print(max_word)\n",
    "print(max_count)\n",
    "\n"
   ]
  },
  {
   "cell_type": "code",
   "execution_count": 152,
   "id": "737554bf",
   "metadata": {},
   "outputs": [
    {
     "name": "stdout",
     "output_type": "stream",
     "text": [
      "like 단어의 갯수:  1\n",
      "전체 단어의 갯수:  333\n",
      "가장 많이 나온 단어는 to이며 횟수는 14이다.\n"
     ]
    }
   ],
   "source": [
    "# A1.\n",
    "song = \"\"\"Hello, it's me \n",
    "I was wondering if after all these years you'd like to meet\n",
    "To go over everything\n",
    "They say that time's supposed to heal ya\n",
    "But I ain't done much healing\n",
    "Hello, can you hear me?\n",
    "I'm in California dreaming about who we used to be\n",
    "When we were younger and free\n",
    "I've forgotten how it felt before the world fell at our feet\n",
    "There's such a difference between us\n",
    "And a million miles\n",
    "Hello from the other side\n",
    "I must've called a thousand times\n",
    "To tell you I'm sorry for everything that I've done\n",
    "But when I call, you never seem to be home\n",
    "Hello from the outside\n",
    "At least I can say that I've tried\n",
    "To tell you I'm sorry for breaking your heart\n",
    "But it don't matter, it clearly doesn't tear you apart anymore\n",
    "Hello, how are you?\n",
    "It's so typical of me to talk about myself, I'm sorry\n",
    "I hope that you're well\n",
    "Did you ever make it out of that town where nothing ever happened?\n",
    "It's no secret that the both of us are running out of time\n",
    "So hello from the other side (Other side)\n",
    "I must've called a thousand times (Thousand times)\n",
    "To tell you I'm sorry for everything that I've done\n",
    "But when I call, you never seem to be home\n",
    "Hello from the outside (Outside)\n",
    "At least I can say that I've tried (I've tried)\n",
    "To tell you I'm sorry for breaking your heart\n",
    "But it don't matter, it clearly doesn't tear you apart anymore\n",
    "Ooh-ooh, anymore\n",
    "Ooh-ooh-ooh, anymore\n",
    "Ooh-ooh, anymore\n",
    "Anymore\n",
    "Hello from the other side (Other side)\n",
    "I must've called a thousand times (Thousand times)\n",
    "To tell you I'm sorry for everything that I've done\n",
    "But when I call, you never seem to be home\n",
    "Hello from the outside (Outside)\n",
    "At least I can say that I've tried (I've tried)\n",
    "To tell you I'm sorry for breaking your heart\n",
    "But it don't matter, it clearly doesn't tear you apart anymore\"\"\"\n",
    "\n",
    "\n",
    "song = song.lower().replace('\\n', ' ') #문자열\n",
    "print('like 단어의 갯수: ', song.count('like'))\n",
    "word_list = song.split() #리스트\n",
    "#print(word_list)\n",
    "print('전체 단어의 갯수: ', len(word_list))\n",
    "\n",
    "\n",
    "# 가장 많이 나온 단어 찾기\n",
    "max_word_count = 0 # 가장 많이 나온 단어의 횟수\n",
    "max_word = '' # 가장 많이 나온 단어\n",
    "\n",
    "for word in word_list:\n",
    "    word_count = word_list.count(word)\n",
    "    if word_count > max_word_count:\n",
    "        max_word_count=word_count\n",
    "        max_word= word\n",
    "        \n",
    "print(f'가장 많이 나온 단어는 {max_word}이며 횟수는 {max_word_count}이다.')"
   ]
  },
  {
   "cell_type": "code",
   "execution_count": 14,
   "id": "5b4168e9",
   "metadata": {},
   "outputs": [
    {
     "name": "stdout",
     "output_type": "stream",
     "text": [
      "like 단어의 갯수:  1\n",
      "전체 단어의 갯수:  333\n",
      "[('to', 14), ('you', 14), ('i', 12), ('that', 10), ('im', 8), ('it', 8), ('the', 8), ('but', 7), ('ive', 7), ('sorry', 7), ('anymore', 7), ('hello', 6), ('from', 6), ('tell', 6), ('for', 6), ('a', 5), ('everything', 4), ('say', 4), ('times', 4), ('done', 4), ('can', 4), ('be', 4), ('when', 4), ('at', 4), ('of', 4), ('hello,', 3), ('its', 3), ('other', 3), ('side', 3), ('mustve', 3), ('called', 3), ('thousand', 3), ('call,', 3), ('never', 3), ('seem', 3), ('home', 3), ('outside', 3), ('least', 3), ('tried', 3), ('breaking', 3), ('your', 3), ('heart', 3), ('dont', 3), ('matter,', 3), ('clearly', 3), ('doesnt', 3), ('tear', 3), ('apart', 3), ('me', 2), ('about', 2), ('we', 2), ('and', 2), ('how', 2), ('us', 2), ('are', 2), ('so', 2), ('ever', 2), ('out', 2), ('(other', 2), ('side)', 2), ('(thousand', 2), ('times)', 2), ('(outside)', 2), ('(ive', 2), ('tried)', 2), ('ooh-ooh,', 2), ('was', 1), ('wondering', 1), ('if', 1), ('after', 1), ('all', 1), ('these', 1), ('years', 1), ('youd', 1), ('like', 1), ('meet', 1), ('go', 1), ('over', 1), ('they', 1), ('supposed', 1), ('heal', 1), ('ya', 1), ('aint', 1), ('much', 1), ('healing', 1), ('hear', 1), ('me?', 1), ('in', 1), ('california', 1), ('dreaming', 1), ('who', 1), ('used', 1), ('were', 1), ('younger', 1), ('free', 1), ('forgotten', 1), ('felt', 1), ('before', 1), ('world', 1), ('fell', 1), ('our', 1), ('feet', 1), ('theres', 1), ('such', 1), ('difference', 1), ('between', 1), ('million', 1), ('miles', 1), ('you?', 1), ('typical', 1), ('talk', 1), ('myself,', 1), ('hope', 1), ('youre', 1), ('well', 1), ('did', 1), ('make', 1), ('town', 1), ('where', 1), ('nothing', 1), ('happened?', 1), ('no', 1), ('secret', 1), ('both', 1), ('running', 1), ('time', 1), ('ooh-ooh-ooh,', 1)]\n"
     ]
    }
   ],
   "source": [
    "# A2.\n",
    "song = \"\"\"Hello, it's me \n",
    "I was wondering if after all these years you'd like to meet\n",
    "To go over everything\n",
    "They say that time's supposed to heal ya\n",
    "But I ain't done much healing\n",
    "Hello, can you hear me?\n",
    "I'm in California dreaming about who we used to be\n",
    "When we were younger and free\n",
    "I've forgotten how it felt before the world fell at our feet\n",
    "There's such a difference between us\n",
    "And a million miles\n",
    "Hello from the other side\n",
    "I must've called a thousand times\n",
    "To tell you I'm sorry for everything that I've done\n",
    "But when I call, you never seem to be home\n",
    "Hello from the outside\n",
    "At least I can say that I've tried\n",
    "To tell you I'm sorry for breaking your heart\n",
    "But it don't matter, it clearly doesn't tear you apart anymore\n",
    "Hello, how are you?\n",
    "It's so typical of me to talk about myself, I'm sorry\n",
    "I hope that you're well\n",
    "Did you ever make it out of that town where nothing ever happened?\n",
    "It's no secret that the both of us are running out of time\n",
    "So hello from the other side (Other side)\n",
    "I must've called a thousand times (Thousand times)\n",
    "To tell you I'm sorry for everything that I've done\n",
    "But when I call, you never seem to be home\n",
    "Hello from the outside (Outside)\n",
    "At least I can say that I've tried (I've tried)\n",
    "To tell you I'm sorry for breaking your heart\n",
    "But it don't matter, it clearly doesn't tear you apart anymore\n",
    "Ooh-ooh, anymore\n",
    "Ooh-ooh-ooh, anymore\n",
    "Ooh-ooh, anymore\n",
    "Anymore\n",
    "Hello from the other side (Other side)\n",
    "I must've called a thousand times (Thousand times)\n",
    "To tell you I'm sorry for everything that I've done\n",
    "But when I call, you never seem to be home\n",
    "Hello from the outside (Outside)\n",
    "At least I can say that I've tried (I've tried)\n",
    "To tell you I'm sorry for breaking your heart\n",
    "But it don't matter, it clearly doesn't tear you apart anymore\"\"\"\n",
    "\n",
    "\n",
    "song = song.lower().replace('\\n', ' ').replace(\"'\", '') #문자열\n",
    "puck_list = [(\"i've\", \"i'm\")]\n",
    "print('like 단어의 갯수: ', song.count('like'))\n",
    "word_list = song.split() #리스트\n",
    "word_list = [w for w in word_list if w not in puck_list]\n",
    "#print(word_list)\n",
    "print('전체 단어의 갯수: ', len(word_list))\n",
    "\n",
    "# like 단어의 갯수 세는 방법\n",
    "# song.count('like') :like를 포함한 모든 단어 ex)likey\n",
    "# word_list.count('like') : like만 포함한 모든 단어\n",
    "\n",
    "# 가장 많이 나온 단어 찾기\n",
    "word_count = { }\n",
    "for word in word_list:\n",
    "    word_count[word] = word_count.get(word, 0) + 1\n",
    "print(sorted(word_count.items(), key=lambda x:x[1], reverse=True))"
   ]
  },
  {
   "cell_type": "code",
   "execution_count": 4,
   "id": "c7002b99",
   "metadata": {},
   "outputs": [
    {
     "name": "stdout",
     "output_type": "stream",
     "text": [
      "['동해물과', '백두산이', '마르고', '닳도록', '하느님이', '보우하사', '우리나라', '만세']\n"
     ]
    }
   ],
   "source": [
    "song = \"\"\"동해물과 백두산이 마르고 닳도록 ㅋㅋ\n",
    "하느님이 보우하사 우리나라 만세 ! ^^\"\"\"\n",
    "\n",
    "stop_word = ['ㅋㅋ', '!', '^^'] #불용어 규정\n",
    "word_list = song.split()\n",
    "# print(word_list)\n",
    "word_list = [w for w in word_list if w not in stop_word]\n",
    "print(word_list)"
   ]
  }
 ],
 "metadata": {
  "kernelspec": {
   "display_name": "Python 3 (ipykernel)",
   "language": "python",
   "name": "python3"
  },
  "language_info": {
   "codemirror_mode": {
    "name": "ipython",
    "version": 3
   },
   "file_extension": ".py",
   "mimetype": "text/x-python",
   "name": "python",
   "nbconvert_exporter": "python",
   "pygments_lexer": "ipython3",
   "version": "3.9.13"
  },
  "toc": {
   "base_numbering": 1,
   "nav_menu": {},
   "number_sections": true,
   "sideBar": true,
   "skip_h1_title": false,
   "title_cell": "Table of Contents",
   "title_sidebar": "Contents",
   "toc_cell": false,
   "toc_position": {
    "height": "calc(100% - 180px)",
    "left": "10px",
    "top": "150px",
    "width": "298.062px"
   },
   "toc_section_display": true,
   "toc_window_display": true
  }
 },
 "nbformat": 4,
 "nbformat_minor": 5
}
