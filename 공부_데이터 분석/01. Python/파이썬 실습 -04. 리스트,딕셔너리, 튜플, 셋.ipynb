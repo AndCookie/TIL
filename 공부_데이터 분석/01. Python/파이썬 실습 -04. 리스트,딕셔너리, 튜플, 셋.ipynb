{
 "cells": [
  {
   "cell_type": "markdown",
   "id": "7c0b40e8",
   "metadata": {},
   "source": [
    "# 리스트 (List)"
   ]
  },
  {
   "cell_type": "code",
   "execution_count": 16,
   "id": "9e4f7f90",
   "metadata": {},
   "outputs": [
    {
     "name": "stdout",
     "output_type": "stream",
     "text": [
      "[1, 2]\n",
      "[1, 2, 20, 4, 5, 6, 7]\n",
      "[1, 2, 20, 4, 5, 6, 7]\n",
      "[200, 2, 20, 4, 5, 6, 7]\n",
      "True\n",
      "False\n",
      "False\n",
      "a의 위치: 2617701614784\n",
      "b의 위치: 2617701614784\n",
      "c의 위치: 2617707053760\n",
      "[1, 2, 3, 4, 5, 6]\n",
      "[1, 2, 3, 1, 2, 3, 1, 2, 3]\n",
      "[1, 4, 5]\n"
     ]
    }
   ],
   "source": [
    "# 리스트 선언\n",
    "a = [ ]\n",
    "b = list( ) #다른 집합형 데이터(ex.set)를 리스트로 변환할 때 사용 가능\n",
    "\n",
    "# 슬라이싱\n",
    "a = [1,2,3,4,5,6,7]\n",
    "b = a[:2] #처음부터 1번째 까지 \n",
    "print(b) # [1, 2]\n",
    "\n",
    "# 얕은 복사\n",
    "b = a #a의 참조값이 b에 대입\n",
    "a[2] = 20\n",
    "print(b) #a변경시 b도 자동 변경\n",
    "# [1, 2, 20, 4, 5, 6, 7]\n",
    "\n",
    "# 깊은 복사\n",
    "c = a[:]\n",
    "c[0] = 200\n",
    "print(a) # c변경해도 a에 영향 없음  # [1, 2, 20, 4, 5, 6, 7]\n",
    "print(c) # [200, 2, 20, 4, 5, 6, 7]\n",
    "\n",
    "print(a is b) # True\n",
    "print(a is c) # False\n",
    "print(b is c) # False\n",
    "\n",
    "print('a의 위치:',id(a))\n",
    "print('b의 위치:',id(b)) # a와 b의 참조값은 같지만\n",
    "print('c의 위치:',id(c)) # c의 참조값은 다르다\n",
    "# a의 위치: 2617701614784\n",
    "# b의 위치: 2617701614784\n",
    "# c의 위치: 2617707053760\n",
    "\n",
    "# List의 연산\n",
    "a = [1,2,3]\n",
    "b = [4,5,6]\n",
    "print(a+b) #결합 [1, 2, 3, 4, 5, 6]\n",
    "print(a*3) #반복 [1, 2, 3, 1, 2, 3, 1, 2, 3]\n",
    "\n",
    "\n",
    "# List 요소 삭제\n",
    "a = [1,2,3,4,5]\n",
    "a[1:3] = [] #1부터 2까지 삭제\n",
    "print(a) # [1, 4, 5]"
   ]
  },
  {
   "cell_type": "markdown",
   "id": "f7a8a666",
   "metadata": {},
   "source": [
    "## 리스트의 함수들"
   ]
  },
  {
   "cell_type": "code",
   "execution_count": 17,
   "id": "73ead0dc",
   "metadata": {},
   "outputs": [
    {
     "name": "stdout",
     "output_type": "stream",
     "text": [
      "[1, 2, 3, 5, 5, 7]\n",
      "[7, 5, 5, 3, 2, 1]\n",
      "None\n"
     ]
    }
   ],
   "source": [
    "a = [1,5,3,5,7,2]\n",
    "\n",
    "# sort() 함수 : 정렬\n",
    "# 기본 정렬은 오름차순\n",
    "# 단, 반환값을 갖는 함수는 아니다!\n",
    "a.sort()\n",
    "print(a) #오름차순 정렬\n",
    "\n",
    "a.sort(reverse=True)\n",
    "print(a) #내림차순 정렬\n",
    "\n",
    "r = a.sort()\n",
    "print(r) #NONE"
   ]
  },
  {
   "cell_type": "code",
   "execution_count": 18,
   "id": "c21ba0d2",
   "metadata": {},
   "outputs": [
    {
     "name": "stdout",
     "output_type": "stream",
     "text": [
      "[1, 5, 3, 5, 7, 2]\n",
      "[1, 2, 3, 5, 5, 7]\n",
      "[7, 5, 5, 3, 2, 1]\n"
     ]
    }
   ],
   "source": [
    "a = [1,5,3,5,7,2]\n",
    "\n",
    "# 내장함수 sorted\n",
    "# (모든 내장함수는 .점을 찍지 않는다)\n",
    "# 반환값을 갖는 함수이다!!\n",
    "sorted(a)\n",
    "print(a) #변동없음\n",
    "\n",
    "r=sorted(a)\n",
    "print(r) #오름차순 정렬\n",
    "\n",
    "r=sorted(a, reverse=True)\n",
    "print(r) #내림차순 정렬"
   ]
  },
  {
   "cell_type": "code",
   "execution_count": 29,
   "id": "5f76b77e",
   "metadata": {},
   "outputs": [
    {
     "name": "stdout",
     "output_type": "stream",
     "text": [
      "원소 갯수: 10\n",
      "최대값: 56\n",
      "최소값: 0\n",
      "합계: 138\n"
     ]
    }
   ],
   "source": [
    "b = [1,4,6,7,9,10,43,56,2,0]\n",
    "\n",
    "#점이 없으므로 \"내장함수\"\n",
    "print('원소 갯수:', len(b))\n",
    "print('최대값:', max(b))\n",
    "print('최소값:', min(b))\n",
    "print('합계:', sum(b))"
   ]
  },
  {
   "cell_type": "code",
   "execution_count": 30,
   "id": "99863463",
   "metadata": {},
   "outputs": [
    {
     "name": "stdout",
     "output_type": "stream",
     "text": [
      "결제를 하시겠습니까? ok\n",
      "구매해주셔서 감사합니다.\n"
     ]
    }
   ],
   "source": [
    "ans = input('결제를 하시겠습니까? ')\n",
    "if ans in ['yes', 'y', 'ok', '네', '예']:\n",
    "    print('구매해주셔서 감사합니다.')\n",
    "else :\n",
    "    print('안녕히 가세요!')"
   ]
  },
  {
   "cell_type": "markdown",
   "id": "13651dcf",
   "metadata": {},
   "source": [
    "# 이중 리스트\n",
    "- 리스트의 요소로 리스트를 갖는 형태"
   ]
  },
  {
   "cell_type": "code",
   "execution_count": 50,
   "id": "0b2b3853",
   "metadata": {},
   "outputs": [
    {
     "name": "stdout",
     "output_type": "stream",
     "text": [
      "[[1, 2, 3], [4, 5, 6], [7, 8, 9]]\n",
      "[1, 2, 3]\n",
      "4\n",
      "1 2 3 \n",
      "4 5 6 \n",
      "7 8 9 \n"
     ]
    }
   ],
   "source": [
    "l = [[1,2,3],\n",
    "     [4,5,6],\n",
    "     [7,8,9]]\n",
    "# 3행 3열의 이중 리스트 생성\n",
    "print(l) # [[1, 2, 3], [4, 5, 6], [7, 8, 9]]\n",
    "print(l[0]) # 1행 : [1,2,3]\n",
    "print(l[1][0]) # 2행의 1번째 값 : 4\n",
    "\n",
    "for col in l: #행\n",
    "    for row in col: #열\n",
    "        print(row, end=' ') #열 사이는 공백\n",
    "    print() # 그 다음 행 불러올 때는 줄바꿈"
   ]
  },
  {
   "cell_type": "markdown",
   "id": "711c296c",
   "metadata": {},
   "source": [
    "## 깊은 복사\n",
    "- [:] 슬라이싱과 deepcopy()의 차이\n",
    "    - 이중 리스트 이상부터는 다른 결과를 보여준다. (tab + -)"
   ]
  },
  {
   "cell_type": "code",
   "execution_count": 3,
   "id": "d4895725",
   "metadata": {},
   "outputs": [
    {
     "name": "stdout",
     "output_type": "stream",
     "text": [
      "[[1, 2, 3], [4, 5, 6], [7, 8, 9]]\n",
      "[[1, 2, 3], [4, 5, 6], [7, 8, 9]]\n",
      "원본 리스트 주소: 2841441204544\n",
      "복사본 리스트 주소: 2841440819456\n",
      "2841440725760\n",
      "2841441480064\n"
     ]
    }
   ],
   "source": [
    "# import는 외부 모듈 (파이썬 코드의 묶음)을 불러올 때 사용하는 키워드\n",
    "import copy\n",
    "\n",
    "matrix = [[1,2,3], [4,5,6], [7,8,9]]\n",
    "# [:] 슬라이싱을 이용한 깊은 복사는 sub list에 대해서는 깊은 복사를 수행하지 않는다.\n",
    "# 반면, deepcopy() 함수는 모든 요소에 대한 깊은 복사를 수행한다.\n",
    "\n",
    "# copy_m1 = matrix[:]\n",
    "# print(matrix)\n",
    "# print(copy_m1)\n",
    "# print('원본 리스트 주소:', id(matrix))\n",
    "# print('복사본 리스트 주소:', id(copy_m1)) #주소값이 다르다\n",
    "\n",
    "# print(id(matrix[0]))\n",
    "# print(id(copy_m1[0])) #주소값이 같다.\n",
    "\n",
    "copy_m2 = copy.deepcopy(matrix)\n",
    "print(matrix)\n",
    "print(copy_m2)\n",
    "print('원본 리스트 주소:', id(matrix))\n",
    "print('복사본 리스트 주소:', id(copy_m2)) #주소값이 다르다\n",
    "\n",
    "print(id(matrix[0]))\n",
    "print(id(copy_m2[0])) #주소값이 다르다."
   ]
  },
  {
   "cell_type": "markdown",
   "id": "ff56121f",
   "metadata": {},
   "source": [
    "## [문제] 성적 총점과 평균 구하기\n",
    "<pre>\n",
    "학생 3명의 성적에 대해 각각 총점과 평균을 구하고 전체 평균을 구하라\n",
    "score = [[88,76,92,98],\n",
    "         [65,70,58,82],\n",
    "         [82,80,78,88]]\n",
    "\n",
    "[실행 예시]\n",
    "1번 학생 : 총점 : 354, 평균: 88.5\n",
    "2번 학생 : 총점 : 275, 평균: 68.75\n",
    "3번 학생 : 총점 : 328, 평균: 82.0\n",
    "전체 평균 : 79.75\n",
    "</pre>"
   ]
  },
  {
   "cell_type": "code",
   "execution_count": 79,
   "id": "e1410433",
   "metadata": {},
   "outputs": [
    {
     "name": "stdout",
     "output_type": "stream",
     "text": [
      "1번 학생 : 총점 : 354.00, 평균 : 88.50\n",
      "2번 학생 : 총점 : 275.00, 평균 : 68.75\n",
      "3번 학생 : 총점 : 328.00, 평균 : 82.00\n",
      "전체 평균 : 79.75\n"
     ]
    }
   ],
   "source": [
    "############## 질문 ################\n",
    "#deep copy했을 때와 차이?\n",
    "#슬라이싱시 깊은 복사 불가, deepcopy() 함수 이용시 깊은 복사 가능 \n",
    "\n",
    "score = [[88,76,92,98],\n",
    "         [65,70,58,82],\n",
    "         [82,80,78,88]]\n",
    "i = 0\n",
    "total=0\n",
    "\n",
    "for col in score:\n",
    "    i += 1\n",
    "    sub_total = sum(col)\n",
    "    average = sub_total/len(col)\n",
    "    print(f'{i}번 학생 : 총점 : {sub_total:.2f}, 평균 : {average:.2f}')\n",
    "    for row in col:\n",
    "        total += row\n",
    "num = len(col)*len(score)\n",
    "total_average = total/num\n",
    "print(f'전체 평균 : {total_average:.2f}')\n"
   ]
  },
  {
   "cell_type": "code",
   "execution_count": 34,
   "id": "f6bdfba7",
   "metadata": {},
   "outputs": [
    {
     "name": "stdout",
     "output_type": "stream",
     "text": [
      "1번 학생 : 총점 : 354, 평균: 88.5\n",
      "2번 학생 : 총점 : 275, 평균: 68.75\n",
      "3번 학생 : 총점 : 328, 평균: 82.0\n",
      "전체 평균 : 239.25\n"
     ]
    }
   ],
   "source": [
    "score = [[88,76,92,98],\n",
    "         [65,70,58,82],\n",
    "         [82,80,78,88]]\n",
    "\n",
    "#print(score) \n",
    "#print(score[0]) #[88, 76, 92, 98]\n",
    "#print(len(score))\n",
    "\n",
    "import copy\n",
    "copy_s = copy.deepcopy(score)\n",
    "\n",
    "index = 0\n",
    "t=0\n",
    "num = len(copy_s)\n",
    "\n",
    "\n",
    "for col in copy_s:\n",
    "    index += 1\n",
    "    s = sum(col)\n",
    "    t += sum(col)\n",
    "    for row in col:\n",
    "        m = s/4\n",
    "    print (f'{index}번 학생 : 총점 : {s}, 평균: {m}')\n",
    "    n = len(col)\n",
    "print(f'전체 평균 : {t/n}')"
   ]
  },
  {
   "cell_type": "code",
   "execution_count": 130,
   "id": "26f9f7d2",
   "metadata": {},
   "outputs": [
    {
     "name": "stdout",
     "output_type": "stream",
     "text": [
      "[(0, 'a'), (1, 'b'), (2, 'c'), (3, 'd')]\n",
      "[(1, 'a'), (2, 'b'), (3, 'c'), (4, 'd')]\n",
      "1 : a\n",
      "2 : b\n",
      "3 : c\n",
      "4 : d\n"
     ]
    }
   ],
   "source": [
    "# enumerate() 함수 사용법\n",
    "# enumerate 함수는 컬렉션의 인덱스와 원소 값을 튜플( )의 쌍으로 반환\n",
    "\n",
    "a = ['a', 'b', 'c', 'd']\n",
    "print(list(enumerate(a))) #[(0, 'a'), (1, 'b'), (2, 'c'), (3, 'd')]\n",
    "print(list(enumerate(a, start=1))) #[(1, 'a'), (2, 'b'), (3, 'c'), (4, 'd')]\n",
    "\n",
    "for i, v in enumerate(a, start=1):\n",
    "    print(i, ':', v) #1 : a // 2 : b // 3 : c // 4 : d"
   ]
  },
  {
   "cell_type": "code",
   "execution_count": 81,
   "id": "bec96d06",
   "metadata": {},
   "outputs": [
    {
     "name": "stdout",
     "output_type": "stream",
     "text": [
      "1번 학생: 총점: 354, 평균: 88.50\n",
      "2번 학생: 총점: 275, 평균: 68.75\n",
      "3번 학생: 총점: 328, 평균: 82.00\n",
      "전체 평균 : 79.75\n"
     ]
    }
   ],
   "source": [
    "# A.\n",
    "score = [[88,76,92,98],\n",
    "         [65,70,58,82],\n",
    "         [82,80,78,88]]\n",
    "\n",
    "total = 0 #전체 모든 학생의 총점을 저장\n",
    "all_subjects = 0 #전체 과목의 수\n",
    "\n",
    "for num, student in enumerate(score, start=1):\n",
    "    print (f'{num}번 학생: 총점: {sum(student)}, 평균: {sum(student)/len(student):.2f}') #.2f 소수점 2자리의 형식으로 출력 {변수(값):포맷}\n",
    "    total += sum(student)\n",
    "    all_subjects += len(student)\n",
    "print(f'전체 평균 : {total/all_subjects:.2f}')"
   ]
  },
  {
   "cell_type": "markdown",
   "id": "a585b15c",
   "metadata": {},
   "source": [
    "## [문제] 일수 계산\n",
    "<pre>\n",
    "1~12월 중 입력받은 월이 몇 일까지 있는지를 계산하는 프로그램을 작성하시오.\n",
    "[실행 예시]\n",
    "년도를 입력하세요: 2020\n",
    "월을 입력하세요: 2\n",
    "2020년 2월은 29일까지 있습니다.\n",
    "</pre>\n",
    "\n",
    "2월인 경우\n",
    "윤년/평년을 먼저 체크하고, 윤년이면 29일, 평년이면 28일로 반환\n",
    "2020년 2월은 윤년이므로 29일\n",
    "2021년 2월은 평년이므로 28일\n",
    "\n",
    "2월이 아닌 경우\n",
    "30일과 31일로 monthly_date라는 리스트로 묶기\n",
    "월을 입력하면 list로부터 하나의 값을 픽해서 반환.\n",
    "\n",
    "monthly_date = [31,28,31,30,31,30,31,31,30,31,30,31]\n",
    "총 12개의 원소\n",
    "\n",
    "month = 1\n",
    "monthly_date[(month-1)인덱스의 값]\n"
   ]
  },
  {
   "cell_type": "code",
   "execution_count": 43,
   "id": "b78e268f",
   "metadata": {},
   "outputs": [
    {
     "name": "stdout",
     "output_type": "stream",
     "text": [
      "년도를 입력하세요:2020\n",
      "월을 입력하세요:2\n",
      "2020년 2월은 29일까지 있습니다.\n"
     ]
    }
   ],
   "source": [
    "year = int(input('년도를 입력하세요:'))\n",
    "month = int(input('월을 입력하세요:'))\n",
    "monthly_date = ['31','28','31','30','31','30','31','31','30','31','30','31']\n",
    "m=0\n",
    "\n",
    "for m, d in enumerate(monthly_date, start=1):\n",
    "    m=+1\n",
    "    if m == 2 :\n",
    "        if (year%4==0 and year%100!=0) or year%400==0 :\n",
    "            d = monthly_date[m]+1\n",
    "        else :\n",
    "            d = monthly_date[m]\n",
    "    else :\n",
    "        d = monthly_date[m]\n",
    "print(f'{year}년 {month}월은 {d}일까지 있습니다.')"
   ]
  },
  {
   "cell_type": "code",
   "execution_count": 44,
   "id": "24e268a0",
   "metadata": {},
   "outputs": [
    {
     "name": "stdout",
     "output_type": "stream",
     "text": [
      "년도를 입력하세요:2020\n",
      "월을 입력하세요:2\n",
      "2020년 2월은 29일까지 있습니다.\n"
     ]
    }
   ],
   "source": [
    "# A.\n",
    "monthly_date = [31,28,31,30,31,30,31,31,30,31,30,31]\n",
    "\n",
    "year = int(input('년도를 입력하세요:'))\n",
    "month = int(input('월을 입력하세요:'))\n",
    "\n",
    "max_days=0\n",
    "\n",
    "if month == 2 :\n",
    "    max_days = 29 if (year%4==0 and year%100!=0) or year%400==0 else 28\n",
    "else :\n",
    "    max_days = monthly_date[month-1]\n",
    "print(f'{year}년 {month}월은 {max_days}일까지 있습니다.')"
   ]
  },
  {
   "cell_type": "markdown",
   "id": "239688dc",
   "metadata": {},
   "source": [
    "## [문제] 영화 예매\n",
    "<pre>\n",
    "10개 좌석만 있는 극장의 예매 프로그램 만들기\n",
    "비어있는 좌석은 0으로 표기하고 예매가 된 좌석은 1로 표기한다.\n",
    "만약 예매되어있는 좌석을 예약하려고 했을 때, 적절한 오류 메세지를 출력하고 다시 예약을 받는다.\n",
    "\n",
    "[실행 예시]\n",
    "좌석을 예약하시겠습니까? (예약:1, 종료:0) 1\n",
    "현재의 예약 상태는 다음과 같습니다.\n",
    "-----------------------\n",
    " 1 2 3 4 5 6 7 8 9 10\n",
    " -----------------------\n",
    " 0 0 0 0 0 0 0 0 0 0\n",
    "몇 번째 좌석을 예약하시겠습니까? 2\n",
    "예약되었습니다.\n",
    "\n",
    "좌석을 예약하시겠습니까? (예약:1, 종료:0) 1\n",
    "현재의 예약 상태는 다음과 같습니다.\n",
    "-----------------------\n",
    " 1 2 3 4 5 6 7 8 9 10\n",
    " -----------------------\n",
    " 0 1 0 0 0 0 0 0 0 0\n",
    "몇 번째 좌석을 예약하시겠습니까? 2\n",
    "2번 좌석은 이미 예약이 되어있습니다.\n",
    "\n",
    "좌석을 예약하시겠습니까? (예약:1, 종료:0) 0\n",
    "\n",
    ">- 힌트 : 영화의 좌석은 0으로 초기화된 10개의 리스트로 구성되어 있으며 예매시 위치의 값이 1로 바뀜.\n",
    "1인지 아닌지 체크\n",
    "</pre>"
   ]
  },
  {
   "cell_type": "code",
   "execution_count": 157,
   "id": "40369be7",
   "metadata": {},
   "outputs": [
    {
     "name": "stdout",
     "output_type": "stream",
     "text": [
      "좌석을 예약하시겠습니까? (예약:1, 종료:0) 1\n",
      "현재의 예약 상태는 다음과 같습니다. \n",
      " -----------------------------\n",
      " 1  2  3  4  5  6  7  8  9 10 \n",
      " -----------------------------\n",
      " 0  0  0  0  0  0  0  0  0  0 \n",
      "몇 번째 좌석을 예약하시겠습니까?2\n",
      "예약이 완료되었습니다\n",
      "좌석을 예약하시겠습니까? (예약:1, 종료:0) 1\n",
      "현재의 예약 상태는 다음과 같습니다. \n",
      " -----------------------------\n",
      " 1  2  3  4  5  6  7  8  9 10 \n",
      " -----------------------------\n",
      " 0  1  0  0  0  0  0  0  0  0 \n",
      "몇 번째 좌석을 예약하시겠습니까?2\n",
      "2번 좌석은 이미 예약이 되어있습니다 \n",
      " 다른 좌석을 선택하세요!\n",
      "몇 번째 좌석을 예약하시겠습니까?3\n",
      "예약이 완료되었습니다\n",
      "좌석을 예약하시겠습니까? (예약:1, 종료:0) 0\n"
     ]
    }
   ],
   "source": [
    "################## 질문 ###############\n",
    "# enumerate를 활용하면 따로 출력\n",
    "# 대신 range()를 이용해보세요\n",
    "\n",
    "\n",
    "seat = [0]*10\n",
    "\n",
    "while True:\n",
    "    start = input('좌석을 예약하시겠습니까? (예약:1, 종료:0) ')\n",
    "    if start == '0' : break\n",
    "    message = '''현재의 예약 상태는 다음과 같습니다. \\n \\r -----------------------------'''\n",
    "    print(message)\n",
    "    for i, v in enumerate(seat, start=1):\n",
    "        print(f'{i:2d}', end=' ')\n",
    "    print(f'\\n -----------------------------')\n",
    "    for i, v in enumerate(seat, start=1):\n",
    "        print(f'{v:2d}', end=' ')\n",
    "    print()\n",
    "    # range( ) 사용\n",
    "    while True :\n",
    "        reserve = int(input('몇 번째 좌석을 예약하시겠습니까?' ))\n",
    "        if seat[reserve-1] == 0 :\n",
    "            print('예약이 완료되었습니다')\n",
    "            seat[reserve-1] = 1\n",
    "            break\n",
    "        else : \n",
    "            print(f'{reserve}번 좌석은 이미 예약이 되어있습니다 \\n \\r 다른 좌석을 선택하세요!')"
   ]
  },
  {
   "cell_type": "code",
   "execution_count": 6,
   "id": "3d94408b",
   "metadata": {},
   "outputs": [
    {
     "name": "stdout",
     "output_type": "stream",
     "text": [
      "좌석을 예약하시겠습니까? (예약:1, 종료:0)0\n"
     ]
    }
   ],
   "source": [
    "seat = [0]*10\n",
    "\n",
    "while True:\n",
    "    start = int(input('좌석을 예약하시겠습니까? (예약:1, 종료:0)'))\n",
    "    if start == 0 : break\n",
    "    message = '''현재의 예약 상태는 다음과 같습니다.\n",
    "-----------------------\n",
    "1 2 3 4 5 6 7 8 9 10\n",
    "-----------------------'''\n",
    "    print(message)\n",
    "    for zero in seat:\n",
    "        print(zero, end=' ')\n",
    "        \n",
    "    reserve = int(input('몇 번째 좌석을 예약하시겠습니까? '))\n",
    "    if seat[reserve-1] == 0 :\n",
    "        seat[reserve-1] = 1\n",
    "        print(f'예약되었습니다.')\n",
    "    else :\n",
    "        print(f'{reserve}좌석은 이미 예약이 되어있습니다.')"
   ]
  },
  {
   "cell_type": "code",
   "execution_count": 13,
   "id": "a7931f97",
   "metadata": {},
   "outputs": [
    {
     "name": "stdout",
     "output_type": "stream",
     "text": [
      "좌석을 예약하시겠습니까? (예약:1, 종료:0)1\n",
      "현재의 예약 상태는 다음과 같습니다.\n",
      "-----------------------\n",
      " 1 2 3 4 5 6 7 8 9 10\n",
      "-----------------------\n",
      " 0 0 0 0 0 0 0 0 0 0\n",
      "몇 번째 좌석을 예약하시겠습니까? 1\n",
      "예약되었습니다.\n",
      "좌석을 예약하시겠습니까? (예약:1, 종료:0)1\n",
      "현재의 예약 상태는 다음과 같습니다.\n",
      "-----------------------\n",
      " 1 2 3 4 5 6 7 8 9 10\n",
      "-----------------------\n",
      " 1 0 0 0 0 0 0 0 0 0\n",
      "몇 번째 좌석을 예약하시겠습니까? 1\n",
      "1번 좌석은 이미 예약이 되어있습니다. \n",
      " 다른 좌석을 선택하세요!\n",
      "몇 번째 좌석을 예약하시겠습니까? 1\n",
      "1번 좌석은 이미 예약이 되어있습니다. \n",
      " 다른 좌석을 선택하세요!\n",
      "몇 번째 좌석을 예약하시겠습니까? 2\n",
      "예약되었습니다.\n",
      "좌석을 예약하시겠습니까? (예약:1, 종료:0)0\n"
     ]
    }
   ],
   "source": [
    "# A.\n",
    "seats = [0]*10\n",
    "\n",
    "while True:\n",
    "    isContinue = int(input('좌석을 예약하시겠습니까? (예약:1, 종료:0)'))\n",
    "    if not isContinue : break\n",
    "    message = '''현재의 예약 상태는 다음과 같습니다.\n",
    "-----------------------\n",
    " 1 2 3 4 5 6 7 8 9 10\n",
    "-----------------------'''\n",
    "    print(message)\n",
    "    for s in seats:\n",
    "        print(f'{s:2d}', end='')\n",
    "    print()\n",
    "    \n",
    "    while True:\n",
    "        reserve = int(input('몇 번째 좌석을 예약하시겠습니까? '))\n",
    "        if seats[reserve-1] == 1 :\n",
    "            print(f'{reserve}번 좌석은 이미 예약이 되어있습니다. \\n 다른 좌석을 선택하세요!')\n",
    "        else :\n",
    "            print(f'예약되었습니다.')\n",
    "            seats[reserve-1] = 1\n",
    "            break"
   ]
  },
  {
   "cell_type": "code",
   "execution_count": 15,
   "id": "79d5a5a7",
   "metadata": {},
   "outputs": [
    {
     "data": {
      "text/plain": [
       "'   ABC    '"
      ]
     },
     "execution_count": 15,
     "metadata": {},
     "output_type": "execute_result"
    }
   ],
   "source": [
    "S = 'ABC'\n",
    "S.center(10)"
   ]
  },
  {
   "cell_type": "markdown",
   "id": "d8230121",
   "metadata": {},
   "source": [
    "# 딕셔너리 (Dictionary)"
   ]
  },
  {
   "cell_type": "code",
   "execution_count": 5,
   "id": "d802d63a",
   "metadata": {},
   "outputs": [
    {
     "name": "stdout",
     "output_type": "stream",
     "text": [
      "합계 324\n",
      "평균 81.0\n",
      "최고점 89\n",
      "최하점 67\n"
     ]
    }
   ],
   "source": [
    "score = {'홍길동':89, '임꺽정':88, '손오공':80, '전우치':67}\n",
    "# print('합계', sum(score)) # type err : key값의 합계인데 문자열은 sum 함수 사용 불가\n",
    "print('합계', sum(score.values()))\n",
    "print('평균', sum(score.values()) / len(score)) #len(score) : 딕셔너리 객체의 원소의 개수\n",
    "# print('최고점', max(score)) #key값 중 max는 홍길동\n",
    "print('최고점', max(score.values()))\n",
    "print('최하점', min(score.values()))"
   ]
  },
  {
   "cell_type": "code",
   "execution_count": 10,
   "id": "ef7b4a0e",
   "metadata": {},
   "outputs": [
    {
     "name": "stdout",
     "output_type": "stream",
     "text": [
      "None\n",
      "0\n",
      "{'홍길동': 89, '임꺽정': 88, '손오공': 80, '전우치': 67, '김철수': 100}\n"
     ]
    }
   ],
   "source": [
    "# 특정 키에 맵핑된 값을 가져오기\n",
    "\n",
    "# print(score['김철수']) # err : 김철수라는 키 값이 없으므로\n",
    "print(score.get('김철수')) # NONE : 김철수라는 키 값이 없다면 'NONE'으로 반환\n",
    "print(score.get('김철수', 0)) # 0 : 김철수라는 키 값이 없다면 '0'으로 반환\n",
    "\n",
    "\n",
    "# 새로운 키 추가\n",
    "score['김철수'] = 100\n",
    "print(score)\n",
    "\n"
   ]
  },
  {
   "cell_type": "code",
   "execution_count": 75,
   "id": "4cf87816",
   "metadata": {},
   "outputs": [
    {
     "data": {
      "text/plain": [
       "[('김철수', 100), ('홍길동', 89), ('임꺽정', 88), ('손오공', 80), ('전우치', 67)]"
      ]
     },
     "execution_count": 75,
     "metadata": {},
     "output_type": "execute_result"
    }
   ],
   "source": [
    "# sorted(score) # 키 값을 오름차순 정렬\n",
    "# sorted(score, reverse=True) # 키 값을 내림차순 정렬\n",
    "\n",
    "# sorted(score.values()) # 벨류 값을 오름차순으로 정렬\n",
    "\n",
    "\n",
    "sorted(score.items(), key=lambda x:x[1]) #키와 값을 튜플의 형태로\n",
    "# lambda : 함수 안의 함수를 또다른 매개변수로\n",
    "# x는 (key,value) 튜플. x[1]은 value\n",
    "# x[1] 값인 성적을 기준으로 오름차순\n",
    "sorted(score.items(), key=lambda x:x[1], reverse=True)\n",
    "# x[1] 값인 성적을 기준으로 내림차순\n"
   ]
  },
  {
   "cell_type": "markdown",
   "id": "5c9280a5",
   "metadata": {},
   "source": [
    "## [문제] 단어 빈도수 구하기\n",
    "- song 문장 안에 포함된 각 단어의 빈도수를 구하여 dictionary 형태로 결과를 출력하시오.\n",
    "- 단어는 key가 되고, 빈도수는 value가 된다."
   ]
  },
  {
   "cell_type": "code",
   "execution_count": 33,
   "id": "e7d3abd1",
   "metadata": {},
   "outputs": [
    {
     "name": "stdout",
     "output_type": "stream",
     "text": [
      "[('to', 14), ('you', 14), ('i', 12), ('that', 10), (\"i'm\", 8), ('it', 8), ('the', 8), ('but', 7), (\"i've\", 7), ('sorry', 7), ('anymore', 7), ('hello', 6), ('from', 6), ('tell', 6), ('for', 6), ('a', 5), ('everything', 4), ('say', 4), ('done', 4), ('can', 4), ('be', 4), ('when', 4), ('at', 4), ('of', 4), ('hello,', 3), (\"it's\", 3), ('other', 3), ('side', 3), (\"must've\", 3), ('called', 3), ('thousand', 3), ('times', 3), ('call,', 3), ('never', 3), ('seem', 3), ('home', 3), ('outside', 3), ('least', 3), ('tried', 3), ('breaking', 3), ('your', 3), ('heart', 3), (\"don't\", 3), ('matter,', 3), ('clearly', 3), (\"doesn't\", 3), ('tear', 3), ('apart', 3), ('me', 2), ('about', 2), ('we', 2), ('and', 2), ('how', 2), ('us', 2), ('are', 2), ('so', 2), ('ever', 2), ('out', 2), ('(other', 2), ('side)', 2), ('(thousand', 2), ('times)', 2), ('(outside)', 2), (\"(i've\", 2), ('tried)', 2), ('ooh-ooh,', 2), ('was', 1), ('wondering', 1), ('if', 1), ('after', 1), ('all', 1), ('these', 1), ('years', 1), (\"you'd\", 1), ('like', 1), ('meet', 1), ('go', 1), ('over', 1), ('they', 1), (\"time's\", 1), ('supposed', 1), ('heal', 1), ('ya', 1), (\"ain't\", 1), ('much', 1), ('healing', 1), ('hear', 1), ('me?', 1), ('in', 1), ('california', 1), ('dreaming', 1), ('who', 1), ('used', 1), ('were', 1), ('younger', 1), ('free', 1), ('forgotten', 1), ('felt', 1), ('before', 1), ('world', 1), ('fell', 1), ('our', 1), ('feet', 1), (\"there's\", 1), ('such', 1), ('difference', 1), ('between', 1), ('million', 1), ('miles', 1), ('you?', 1), ('typical', 1), ('talk', 1), ('myself,', 1), ('hope', 1), (\"you're\", 1), ('well', 1), ('did', 1), ('make', 1), ('town', 1), ('where', 1), ('nothing', 1), ('happened?', 1), ('no', 1), ('secret', 1), ('both', 1), ('running', 1), ('time', 1), ('ooh-ooh-ooh,', 1)]\n"
     ]
    }
   ],
   "source": [
    "# A1.\n",
    "song = \"\"\"Hello, it's me \n",
    "I was wondering if after all these years you'd like to meet\n",
    "To go over everything\n",
    "They say that time's supposed to heal ya\n",
    "But I ain't done much healing\n",
    "Hello, can you hear me?\n",
    "I'm in California dreaming about who we used to be\n",
    "When we were younger and free\n",
    "I've forgotten how it felt before the world fell at our feet\n",
    "There's such a difference between us\n",
    "And a million miles\n",
    "Hello from the other side\n",
    "I must've called a thousand times\n",
    "To tell you I'm sorry for everything that I've done\n",
    "But when I call, you never seem to be home\n",
    "Hello from the outside\n",
    "At least I can say that I've tried\n",
    "To tell you I'm sorry for breaking your heart\n",
    "But it don't matter, it clearly doesn't tear you apart anymore\n",
    "Hello, how are you?\n",
    "It's so typical of me to talk about myself, I'm sorry\n",
    "I hope that you're well\n",
    "Did you ever make it out of that town where nothing ever happened?\n",
    "It's no secret that the both of us are running out of time\n",
    "So hello from the other side (Other side)\n",
    "I must've called a thousand times (Thousand times)\n",
    "To tell you I'm sorry for everything that I've done\n",
    "But when I call, you never seem to be home\n",
    "Hello from the outside (Outside)\n",
    "At least I can say that I've tried (I've tried)\n",
    "To tell you I'm sorry for breaking your heart\n",
    "But it don't matter, it clearly doesn't tear you apart anymore\n",
    "Ooh-ooh, anymore\n",
    "Ooh-ooh-ooh, anymore\n",
    "Ooh-ooh, anymore\n",
    "Anymore\n",
    "Hello from the other side (Other side)\n",
    "I must've called a thousand times (Thousand times)\n",
    "To tell you I'm sorry for everything that I've done\n",
    "But when I call, you never seem to be home\n",
    "Hello from the outside (Outside)\n",
    "At least I can say that I've tried (I've tried)\n",
    "To tell you I'm sorry for breaking your heart\n",
    "But it don't matter, it clearly doesn't tear you apart anymore\"\"\"\n",
    "\n",
    "\n",
    "word_list = song.replace('\\n', ' ').lower().split() #리스트\n",
    "my_dic = {}\n",
    "# my_dic = dict()\n",
    "# print(my_dic)\n",
    "\n",
    "for word in word_list:\n",
    "    my_dic[word] = word_list.count(word)\n",
    "\n",
    "print(sorted(my_dic.items(), key=lambda x:x[1], reverse=True))\n"
   ]
  },
  {
   "cell_type": "code",
   "execution_count": 34,
   "id": "c395f85b",
   "metadata": {},
   "outputs": [
    {
     "name": "stdout",
     "output_type": "stream",
     "text": [
      "[('to', 14), ('you', 14), ('i', 12), ('that', 10), (\"i'm\", 8), ('it', 8), ('the', 8), ('but', 7), (\"i've\", 7), ('sorry', 7), ('anymore', 7), ('hello', 6), ('from', 6), ('tell', 6), ('for', 6), ('a', 5), ('everything', 4), ('say', 4), ('done', 4), ('can', 4), ('be', 4), ('when', 4), ('at', 4), ('of', 4), ('hello,', 3), (\"it's\", 3), ('other', 3), ('side', 3), (\"must've\", 3), ('called', 3), ('thousand', 3), ('times', 3), ('call,', 3), ('never', 3), ('seem', 3), ('home', 3), ('outside', 3), ('least', 3), ('tried', 3), ('breaking', 3), ('your', 3), ('heart', 3), (\"don't\", 3), ('matter,', 3), ('clearly', 3), (\"doesn't\", 3), ('tear', 3), ('apart', 3), ('me', 2), ('about', 2), ('we', 2), ('and', 2), ('how', 2), ('us', 2), ('are', 2), ('so', 2), ('ever', 2), ('out', 2), ('(other', 2), ('side)', 2), ('(thousand', 2), ('times)', 2), ('(outside)', 2), (\"(i've\", 2), ('tried)', 2), ('ooh-ooh,', 2), ('was', 1), ('wondering', 1), ('if', 1), ('after', 1), ('all', 1), ('these', 1), ('years', 1), (\"you'd\", 1), ('like', 1), ('meet', 1), ('go', 1), ('over', 1), ('they', 1), (\"time's\", 1), ('supposed', 1), ('heal', 1), ('ya', 1), (\"ain't\", 1), ('much', 1), ('healing', 1), ('hear', 1), ('me?', 1), ('in', 1), ('california', 1), ('dreaming', 1), ('who', 1), ('used', 1), ('were', 1), ('younger', 1), ('free', 1), ('forgotten', 1), ('felt', 1), ('before', 1), ('world', 1), ('fell', 1), ('our', 1), ('feet', 1), (\"there's\", 1), ('such', 1), ('difference', 1), ('between', 1), ('million', 1), ('miles', 1), ('you?', 1), ('typical', 1), ('talk', 1), ('myself,', 1), ('hope', 1), (\"you're\", 1), ('well', 1), ('did', 1), ('make', 1), ('town', 1), ('where', 1), ('nothing', 1), ('happened?', 1), ('no', 1), ('secret', 1), ('both', 1), ('running', 1), ('time', 1), ('ooh-ooh-ooh,', 1)]\n"
     ]
    }
   ],
   "source": [
    "# A2.\n",
    "song = \"\"\"Hello, it's me \n",
    "I was wondering if after all these years you'd like to meet\n",
    "To go over everything\n",
    "They say that time's supposed to heal ya\n",
    "But I ain't done much healing\n",
    "Hello, can you hear me?\n",
    "I'm in California dreaming about who we used to be\n",
    "When we were younger and free\n",
    "I've forgotten how it felt before the world fell at our feet\n",
    "There's such a difference between us\n",
    "And a million miles\n",
    "Hello from the other side\n",
    "I must've called a thousand times\n",
    "To tell you I'm sorry for everything that I've done\n",
    "But when I call, you never seem to be home\n",
    "Hello from the outside\n",
    "At least I can say that I've tried\n",
    "To tell you I'm sorry for breaking your heart\n",
    "But it don't matter, it clearly doesn't tear you apart anymore\n",
    "Hello, how are you?\n",
    "It's so typical of me to talk about myself, I'm sorry\n",
    "I hope that you're well\n",
    "Did you ever make it out of that town where nothing ever happened?\n",
    "It's no secret that the both of us are running out of time\n",
    "So hello from the other side (Other side)\n",
    "I must've called a thousand times (Thousand times)\n",
    "To tell you I'm sorry for everything that I've done\n",
    "But when I call, you never seem to be home\n",
    "Hello from the outside (Outside)\n",
    "At least I can say that I've tried (I've tried)\n",
    "To tell you I'm sorry for breaking your heart\n",
    "But it don't matter, it clearly doesn't tear you apart anymore\n",
    "Ooh-ooh, anymore\n",
    "Ooh-ooh-ooh, anymore\n",
    "Ooh-ooh, anymore\n",
    "Anymore\n",
    "Hello from the other side (Other side)\n",
    "I must've called a thousand times (Thousand times)\n",
    "To tell you I'm sorry for everything that I've done\n",
    "But when I call, you never seem to be home\n",
    "Hello from the outside (Outside)\n",
    "At least I can say that I've tried (I've tried)\n",
    "To tell you I'm sorry for breaking your heart\n",
    "But it don't matter, it clearly doesn't tear you apart anymore\"\"\"\n",
    "\n",
    "\n",
    "word_list = song.replace('\\n', ' ').lower().split() #리스트\n",
    "my_dic = {}\n",
    "# my_dic = dict()\n",
    "# print(my_dic)\n",
    "\n",
    "for word in word_list:\n",
    "    my_dic[word] = my_dic.get(word, 0) + 1 #you가 처음 들어갔으면 없는 키니까 NONE대신 0. 거기에다가 1 더해주는 것.\n",
    "\n",
    "print(sorted(my_dic.items(), key=lambda x:x[1], reverse=True))"
   ]
  },
  {
   "cell_type": "markdown",
   "id": "8babe7b3",
   "metadata": {},
   "source": [
    "# 튜플 (Tuple)"
   ]
  },
  {
   "cell_type": "code",
   "execution_count": 51,
   "id": "8e587123",
   "metadata": {},
   "outputs": [
    {
     "name": "stdout",
     "output_type": "stream",
     "text": [
      "<class 'int'>\n",
      "<class 'tuple'>\n",
      "<class 'tuple'>\n",
      "(1, 1, 2, 3)\n"
     ]
    }
   ],
   "source": [
    "t1 = () #t1=tuple() # 튜플 변수 선언법\n",
    "t2 = (1) #tuple로 인식되지 않는다.\n",
    "t3 = (1,) #원소가 하나일 때는 뒤에 콤마를 넣어줘야 tuple로 인식된다.\n",
    "t4 = 1,2,3 #값만 나열해도 tuple로 인식된다.\n",
    "\n",
    "print(type(t2)) #<class 'int'> : 튜플이 아닌 정수\n",
    "print(type(t3)) #<class 'tuple'> : 튜플\n",
    "print(type(t4)) #<class 'tuple'> : 튜플\n",
    "\n",
    "\n",
    "# 인덱싱과 슬라이싱이 가능하지만 immutable하므로 값 변경 불가\n",
    "t3[0] #불가\n",
    "t4[:2]\n",
    "#t4[2] = 10 #err\n",
    "\n",
    "# 결합 가능\n",
    "print(t3+t4)"
   ]
  },
  {
   "cell_type": "markdown",
   "id": "e500bfe8",
   "metadata": {},
   "source": [
    "# 셋 (Set)"
   ]
  },
  {
   "cell_type": "code",
   "execution_count": 1,
   "id": "0117ab50",
   "metadata": {},
   "outputs": [
    {
     "name": "stdout",
     "output_type": "stream",
     "text": [
      "{'y', 'o', 'l', ' ', 'h', 'n', 'e', 't', 'H', 'P'}\n"
     ]
    }
   ],
   "source": [
    "print(set('Hello Python'))\n",
    "# 파이썬은 문자 하나하나를 리스트로 관리\n",
    "# set은 순서X, 중복X"
   ]
  },
  {
   "cell_type": "code",
   "execution_count": 11,
   "id": "5f01ce13",
   "metadata": {
    "scrolled": true
   },
   "outputs": [
    {
     "name": "stdout",
     "output_type": "stream",
     "text": [
      "합집합: {1, 2, 3, 4, 5, 6, 7, 8}\n",
      "교집합: {5, 6}\n",
      "차집합: {1, 2, 3, 4}\n"
     ]
    }
   ],
   "source": [
    "a = {1,2,3,4,5,6}\n",
    "b = {5,6,7,8}\n",
    "\n",
    "print('합집합:', a.union(b))\n",
    "print('교집합:', a.intersection(b))\n",
    "print('차집합:', a.difference(b))"
   ]
  },
  {
   "cell_type": "markdown",
   "id": "8d1022c5",
   "metadata": {},
   "source": [
    "# Comprehension"
   ]
  },
  {
   "cell_type": "code",
   "execution_count": 67,
   "id": "0f7031b6",
   "metadata": {},
   "outputs": [
    {
     "name": "stdout",
     "output_type": "stream",
     "text": [
      "[3, 9, 6, 18, 12, 30, 165, 102, 195, 21]\n",
      "[2, 6, 4, 10, 34]\n",
      "[2, 4, 6, 8, 10, 12, 14, 16, 18, 3, 6, 9, 12, 15, 18, 21, 24, 27, 4, 8, 12, 16, 20, 24, 28, 32, 36, 5, 10, 15, 20, 25, 30, 35, 40, 45, 6, 12, 18, 24, 30, 36, 42, 48, 54, 7, 14, 21, 28, 35, 42, 49, 56, 63, 8, 16, 24, 32, 40, 48, 56, 64, 72, 9, 18, 27, 36, 45, 54, 63, 72, 81]\n",
      "[[0, 0, 0, 0, 0, 0, 0], [0, 0, 0, 0, 0, 0, 0], [0, 0, 0, 0, 0, 0, 0], [0, 0, 0, 0, 0, 0, 0]] "
     ]
    }
   ],
   "source": [
    "tmp = [1,3,2,6,4,10,55,34,65,7]\n",
    "\n",
    "# 각각의 3의 배수\n",
    "a = [ i*3 for i in tmp ]\n",
    "print(a) #[3, 9, 6, 18, 12, 30, 165, 102, 195, 21]\n",
    "\n",
    "# 2의 배수 값만\n",
    "b = [ i for i in tmp if not i%2]\n",
    "print(b) # 2의 배수 값만 #[2, 6, 4, 10, 34]\n",
    "\n",
    "\n",
    "\n",
    "# for문 2개 쓰기 : 이중 for문, 중첩 for문\n",
    "\n",
    "# 구구단 연산 결과만\n",
    "c = [ x*y for x in range (2,10) for y in range(1,10) ]\n",
    "print(c)\n",
    "\n",
    "# 0으로 초기화된 4행 7열의 이중 리스트 생성\n",
    "double_list = [[0,0,0,0,0,0,0],\n",
    "               [0,0,0,0,0,0,0],\n",
    "               [0,0,0,0,0,0,0],\n",
    "               [0,0,0,0,0,0,0]]\n",
    "double_list2 = [ [ 0 for row in range(7) ] for col in range(4) ]\n",
    "print(double_list2) #[[0, 0, 0, 0, 0, 0, 0], [0, 0, 0, 0, 0, 0, 0], [0, 0, 0, 0, 0, 0, 0], [0, 0, 0, 0, 0, 0, 0]]\n",
    "# range(4) : end값이 4 => 0,1,2,3"
   ]
  },
  {
   "cell_type": "code",
   "execution_count": 69,
   "id": "0c3bc76a",
   "metadata": {},
   "outputs": [
    {
     "name": "stdout",
     "output_type": "stream",
     "text": [
      "{'hello,': 3, \"it's\": 3, 'me': 2, 'i': 12, 'was': 1, 'wondering': 1, 'if': 1, 'after': 1, 'all': 1, 'these': 1, 'years': 1, \"you'd\": 1, 'like': 1, 'to': 14, 'meet': 1, 'go': 1, 'over': 1, 'everything': 4, 'they': 1, 'say': 4, 'that': 10, \"time's\": 1, 'supposed': 1, 'heal': 1, 'ya': 1, 'but': 7, \"ain't\": 1, 'done': 4, 'much': 1, 'healing': 1, 'can': 4, 'you': 14, 'hear': 1, 'me?': 1, \"i'm\": 8, 'in': 1, 'california': 1, 'dreaming': 1, 'about': 2, 'who': 1, 'we': 2, 'used': 1, 'be': 4, 'when': 4, 'were': 1, 'younger': 1, 'and': 2, 'free': 1, \"i've\": 7, 'forgotten': 1, 'how': 2, 'it': 8, 'felt': 1, 'before': 1, 'the': 8, 'world': 1, 'fell': 1, 'at': 4, 'our': 1, 'feet': 1, \"there's\": 1, 'such': 1, 'a': 5, 'difference': 1, 'between': 1, 'us': 2, 'million': 1, 'miles': 1, 'hello': 6, 'from': 6, 'other': 3, 'side': 3, \"must've\": 3, 'called': 3, 'thousand': 3, 'times': 3, 'tell': 6, 'sorry': 7, 'for': 6, 'call,': 3, 'never': 3, 'seem': 3, 'home': 3, 'outside': 3, 'least': 3, 'tried': 3, 'breaking': 3, 'your': 3, 'heart': 3, \"don't\": 3, 'matter,': 3, 'clearly': 3, \"doesn't\": 3, 'tear': 3, 'apart': 3, 'anymore': 7, 'are': 2, 'you?': 1, 'so': 2, 'typical': 1, 'of': 4, 'talk': 1, 'myself,': 1, 'hope': 1, \"you're\": 1, 'well': 1, 'did': 1, 'ever': 2, 'make': 1, 'out': 2, 'town': 1, 'where': 1, 'nothing': 1, 'happened?': 1, 'no': 1, 'secret': 1, 'both': 1, 'running': 1, 'time': 1, '(other': 2, 'side)': 2, '(thousand': 2, 'times)': 2, '(outside)': 2, \"(i've\": 2, 'tried)': 2, 'ooh-ooh,': 2, 'ooh-ooh-ooh,': 1}\n"
     ]
    }
   ],
   "source": [
    "song = \"\"\"Hello, it's me \n",
    "I was wondering if after all these years you'd like to meet\n",
    "To go over everything\n",
    "They say that time's supposed to heal ya\n",
    "But I ain't done much healing\n",
    "Hello, can you hear me?\n",
    "I'm in California dreaming about who we used to be\n",
    "When we were younger and free\n",
    "I've forgotten how it felt before the world fell at our feet\n",
    "There's such a difference between us\n",
    "And a million miles\n",
    "Hello from the other side\n",
    "I must've called a thousand times\n",
    "To tell you I'm sorry for everything that I've done\n",
    "But when I call, you never seem to be home\n",
    "Hello from the outside\n",
    "At least I can say that I've tried\n",
    "To tell you I'm sorry for breaking your heart\n",
    "But it don't matter, it clearly doesn't tear you apart anymore\n",
    "Hello, how are you?\n",
    "It's so typical of me to talk about myself, I'm sorry\n",
    "I hope that you're well\n",
    "Did you ever make it out of that town where nothing ever happened?\n",
    "It's no secret that the both of us are running out of time\n",
    "So hello from the other side (Other side)\n",
    "I must've called a thousand times (Thousand times)\n",
    "To tell you I'm sorry for everything that I've done\n",
    "But when I call, you never seem to be home\n",
    "Hello from the outside (Outside)\n",
    "At least I can say that I've tried (I've tried)\n",
    "To tell you I'm sorry for breaking your heart\n",
    "But it don't matter, it clearly doesn't tear you apart anymore\n",
    "Ooh-ooh, anymore\n",
    "Ooh-ooh-ooh, anymore\n",
    "Ooh-ooh, anymore\n",
    "Anymore\n",
    "Hello from the other side (Other side)\n",
    "I must've called a thousand times (Thousand times)\n",
    "To tell you I'm sorry for everything that I've done\n",
    "But when I call, you never seem to be home\n",
    "Hello from the outside (Outside)\n",
    "At least I can say that I've tried (I've tried)\n",
    "To tell you I'm sorry for breaking your heart\n",
    "But it don't matter, it clearly doesn't tear you apart anymore\"\"\"\n",
    "\n",
    "word_list = song.replace('\\n', ' ').lower().split() #리스트\n",
    "my_dic = { word : word_list.count(word) for word in word_list }\n",
    "print(my_dic)\n"
   ]
  },
  {
   "cell_type": "markdown",
   "id": "e65de8fd",
   "metadata": {},
   "source": [
    "## [문제] 1~100까지 1씩 증가하는 데이터를 발생하여, 3의 배수이거나 5의 배수인 데이터만 리스트에 포함시킨 후 출력"
   ]
  },
  {
   "cell_type": "code",
   "execution_count": 73,
   "id": "881f815a",
   "metadata": {},
   "outputs": [
    {
     "name": "stdout",
     "output_type": "stream",
     "text": [
      "[3, 5, 6, 9, 10, 12, 15, 18, 20, 21, 24, 25, 27, 30, 33, 35, 36, 39, 40, 42, 45, 48, 50, 51, 54, 55, 57, 60, 63, 65, 66, 69, 70, 72, 75, 78, 80, 81, 84, 85, 87, 90, 93, 95, 96, 99, 100]\n"
     ]
    }
   ],
   "source": [
    "result = [ data for data in range (1,101) if data%3==0 or data%5==0]\n",
    "print(result)"
   ]
  },
  {
   "cell_type": "code",
   "execution_count": 72,
   "id": "c262f25a",
   "metadata": {},
   "outputs": [
    {
     "name": "stdout",
     "output_type": "stream",
     "text": [
      "[3, 5, 6, 9, 10, 12, 15, 18, 20, 21, 24, 25, 27, 30, 33, 35, 36, 39, 40, 42, 45, 48, 50, 51, 54, 55, 57, 60, 63, 65, 66, 69, 70, 72, 75, 78, 80, 81, 84, 85, 87, 90, 93, 95, 96, 99, 100]\n"
     ]
    }
   ],
   "source": [
    "result = [ data for data in range (1,101) if not data%3 or not data%5]\n",
    "print(result)"
   ]
  },
  {
   "cell_type": "markdown",
   "id": "e3de4a90",
   "metadata": {},
   "source": [
    "# zip()"
   ]
  },
  {
   "cell_type": "code",
   "execution_count": 13,
   "id": "304cc9f8",
   "metadata": {},
   "outputs": [
    {
     "name": "stdout",
     "output_type": "stream",
     "text": [
      "[(1, 10), (2, 20), (3, 30), (4, 40), (5, 50)]\n",
      "[111, 222, 333, 444]\n"
     ]
    }
   ],
   "source": [
    "data1 = [1,2,3,4,5]\n",
    "data2 = [10,20,30,40,50]\n",
    "data3 = [100,200,300,400]\n",
    "\n",
    "result1 = [x for x in zip(data1, data2)]\n",
    "print(result1)\n",
    "# x = [(1,10), (2,20), (3,30), (4,40), (5,50)]\n",
    "\n",
    "result2 = [sum(x) for x in zip(data1, data2, data3)]\n",
    "print(result2)\n",
    "# x = [(1,10,100), (2,20,200), (3,30,300), (4,40,400)]"
   ]
  },
  {
   "cell_type": "code",
   "execution_count": 12,
   "id": "4663d931",
   "metadata": {},
   "outputs": [
    {
     "name": "stdout",
     "output_type": "stream",
     "text": [
      "<zip object at 0x00000194375A8F00>\n",
      "월요일 메뉴: 갈비탕\n",
      "화요일 메뉴: 순대국\n",
      "수요일 메뉴: 칼국수\n",
      "목요일 메뉴: 삼겹살\n"
     ]
    }
   ],
   "source": [
    "yoil = ['월', '화', '수', '목', '금', '토', '일']\n",
    "food = ['갈비탕', '순대국', '칼국수', '삼겹살']\n",
    "menu = zip(yoil, food)\n",
    "# menu = ('월', '갈비탕'), ('화', '순대국'), ('수', '칼국수'), ('목', '삼겹살')\n",
    "\n",
    "for y, f in menu:\n",
    "    print(f'{y}요일 메뉴: {f}')"
   ]
  },
  {
   "cell_type": "code",
   "execution_count": 11,
   "id": "ba54e6d8",
   "metadata": {},
   "outputs": [
    {
     "name": "stdout",
     "output_type": "stream",
     "text": [
      "{'월': '갈비탕', '화': '순대국', '수': '칼국수', '목': '삼겹살'}\n"
     ]
    }
   ],
   "source": [
    "d = dict(zip(yoil, food))\n",
    "print(d)\n",
    "# {'월': '갈비탕', '화': '순대국', '수': '칼국수', '목': '삼겹살'}"
   ]
  },
  {
   "cell_type": "markdown",
   "id": "61986687",
   "metadata": {},
   "source": [
    "# enumerate()"
   ]
  },
  {
   "cell_type": "code",
   "execution_count": 22,
   "id": "1abc0688",
   "metadata": {},
   "outputs": [
    {
     "name": "stdout",
     "output_type": "stream",
     "text": [
      "[(0, '월'), (1, '화'), (2, '수'), (3, '목'), (4, '금'), (5, '토'), (6, '일')]\n",
      "[(1, '월'), (2, '화'), (3, '수'), (4, '목'), (5, '금'), (6, '토'), (7, '일')]\n",
      "0 월\n",
      "1 화\n",
      "2 수\n",
      "3 목\n",
      "4 금\n",
      "5 토\n",
      "6 일\n"
     ]
    }
   ],
   "source": [
    "yoil = ['월', '화', '수', '목', '금', '토', '일']\n",
    "print(list(enumerate(yoil)))\n",
    "# [(0, '월'), (1, '화'), (2, '수'), (3, '목'), (4, '금'), (5, '토'), (6, '일')]\n",
    "print(list(enumerate(yoil, start=1)))\n",
    "#[(1, '월'), (2, '화'), (3, '수'), (4, '목'), (5, '금'), (6, '토'), (7, '일')]\n",
    "\n",
    "####\n",
    "for k, v in enumerate(yoil) :\n",
    "    print(k, v)   \n",
    "for k, v in list(enumerate(yoil)) :\n",
    "    print(k, v)"
   ]
  },
  {
   "cell_type": "code",
   "execution_count": 24,
   "id": "3ea42ea2",
   "metadata": {},
   "outputs": [
    {
     "name": "stdout",
     "output_type": "stream",
     "text": [
      "{'빨강': 0, '주황': 1, '노랑': 2, '초록': 3, '파랑': 4}\n"
     ]
    }
   ],
   "source": [
    "# 색상에 맵핑된 숫자 값을 대입\n",
    "color = ['빨강', '주황', '노랑', '초록', '파랑']\n",
    "mapping = { v:i for i,v in enumerate(color) }\n",
    "# dictionary comprehension 생성\n",
    "# enumerate(color) = (0,'빨강'), (1, '주황')\n",
    "print(mapping)\n",
    "# mapping = {'빨강': 0, '주황': 1, '노랑': 2, '초록': 3, '파랑': 4}"
   ]
  },
  {
   "cell_type": "markdown",
   "id": "88e2bbd9",
   "metadata": {},
   "source": [
    "## [문제] 리스트 x와 y를 이용하여 z와 같은 결과가 나오도록 하시오.\n",
    "<pre>\n",
    "x = [[1,2,3], [4,5,6]]\n",
    "y = [[11,12,13], [14,15,16]]\n",
    "z = [[12,14,16], [18,20,22]]\n",
    ">-힌트 : list comprehension과 zip() 이용\n",
    "\n",
    "\n",
    "</pre>"
   ]
  },
  {
   "cell_type": "code",
   "execution_count": 56,
   "id": "e1aed01c",
   "metadata": {},
   "outputs": [
    {
     "name": "stdout",
     "output_type": "stream",
     "text": [
      "[[12, 14, 16], [18, 20, 22]]\n"
     ]
    }
   ],
   "source": [
    "# A.\n",
    "x = [[1,2,3], [4,5,6]]\n",
    "y = [[11,12,13], [14,15,16]]\n",
    "\n",
    "# print(list(zip(x,y)))\n",
    "# [([1, 2, 3], [11, 12, 13]), ([4, 5, 6], [14, 15, 16])]\n",
    "\n",
    "z = [ [ sum(c) for c in zip(a,b) ] for a,b in zip(x,y)]\n",
    "# zip(x,y) = ([1,2,3], [11,12,13]), ([4,5,6], [14,15,16])\n",
    "# zip(a,b) = ([(1,11), (2,12), (3,13)], [(4,14), (5,15), (6,16)])\n",
    "# sum(c) = ([12, 14, 16], [18, 20, 22])\n",
    "print(z)"
   ]
  }
 ],
 "metadata": {
  "kernelspec": {
   "display_name": "Python 3 (ipykernel)",
   "language": "python",
   "name": "python3"
  },
  "language_info": {
   "codemirror_mode": {
    "name": "ipython",
    "version": 3
   },
   "file_extension": ".py",
   "mimetype": "text/x-python",
   "name": "python",
   "nbconvert_exporter": "python",
   "pygments_lexer": "ipython3",
   "version": "3.9.13"
  },
  "toc": {
   "base_numbering": 1,
   "nav_menu": {},
   "number_sections": true,
   "sideBar": true,
   "skip_h1_title": false,
   "title_cell": "Table of Contents",
   "title_sidebar": "Contents",
   "toc_cell": false,
   "toc_position": {
    "height": "calc(100% - 180px)",
    "left": "10px",
    "top": "150px",
    "width": "298.053px"
   },
   "toc_section_display": true,
   "toc_window_display": true
  }
 },
 "nbformat": 4,
 "nbformat_minor": 5
}
