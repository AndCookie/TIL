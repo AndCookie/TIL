{
 "cells": [
  {
   "cell_type": "markdown",
   "id": "735954e9",
   "metadata": {},
   "source": [
    "# 제어문"
   ]
  },
  {
   "cell_type": "code",
   "execution_count": 26,
   "id": "a260dc22",
   "metadata": {},
   "outputs": [
    {
     "name": "stdout",
     "output_type": "stream",
     "text": [
      "점수 입력: 70.2\n",
      "재시험\n"
     ]
    }
   ],
   "source": [
    "score = float(input('점수 입력: ')) # float는 실수 : 만약 정수 int로 변환한다면 70.2점은 70점으로 반환됨.\n",
    "if score >= 90:\n",
    "    print('합격')\n",
    "elif 70 <= score < 90:\n",
    "    print('재시험')\n",
    "else :\n",
    "    print('탈락')"
   ]
  },
  {
   "cell_type": "code",
   "execution_count": 1,
   "id": "7454db4c",
   "metadata": {},
   "outputs": [
    {
     "name": "stdout",
     "output_type": "stream",
     "text": [
      "문자열이 비어있습니다.\n"
     ]
    }
   ],
   "source": [
    "# notEmptyString = 'test' #문자열이 비어있지 않으므로 True로 인식된다.\n",
    "notEmptyString = '' #문자열이 비어있으므로 False로 인식된다.\n",
    "\n",
    "if notEmptyString:\n",
    "    print('문자열이 비어있지 않습니다.')\n",
    "else:\n",
    "    print('문자열이 비어있습니다.')"
   ]
  },
  {
   "cell_type": "code",
   "execution_count": 11,
   "id": "eaeec352",
   "metadata": {},
   "outputs": [
    {
     "name": "stdout",
     "output_type": "stream",
     "text": [
      "홀수\n"
     ]
    }
   ],
   "source": [
    "#i = 10\n",
    "i = 11\n",
    "\n",
    "if i%2 == 0:\n",
    "    print('짝수')\n",
    "else:\n",
    "    print('홀수')"
   ]
  },
  {
   "cell_type": "code",
   "execution_count": 12,
   "id": "44d9ba86",
   "metadata": {},
   "outputs": [
    {
     "name": "stdout",
     "output_type": "stream",
     "text": [
      "짝수\n"
     ]
    }
   ],
   "source": [
    "i = 10\n",
    "\n",
    "if not i%2:\n",
    "# i%2의 값이 0이면 문자열이 비어있으므로, False로 인식되기 때문에\n",
    "# not을 붙여 True로 반전\n",
    "    print('짝수')\n",
    "else:\n",
    "    print('홀수')"
   ]
  },
  {
   "cell_type": "markdown",
   "id": "1afa174b",
   "metadata": {},
   "source": [
    "## [문제] 배수\n",
    "정수 하나를 입력받아 5의 배수인지 조사하여 그 결과를 출력하라."
   ]
  },
  {
   "cell_type": "code",
   "execution_count": 4,
   "id": "2a9a1529",
   "metadata": {},
   "outputs": [
    {
     "name": "stdout",
     "output_type": "stream",
     "text": [
      "정수 입력: 10\n",
      "5의 배수입니다\n"
     ]
    }
   ],
   "source": [
    "number = int(input('정수 입력: '))\n",
    "\n",
    "if number%5 == 0 :\n",
    "    print('5의 배수입니다')\n",
    "else :\n",
    "    print('5의 배수가 아닙니다')"
   ]
  },
  {
   "cell_type": "code",
   "execution_count": 28,
   "id": "44e510fe",
   "metadata": {},
   "outputs": [
    {
     "name": "stdout",
     "output_type": "stream",
     "text": [
      "정수 입력: 23\n",
      "5의 배수가 아닙니다\n"
     ]
    }
   ],
   "source": [
    "number = int(input('정수 입력: '))\n",
    "\n",
    "if not number%5:\n",
    "    print('5의 배수')\n",
    "else :\n",
    "    print('5의 배수가 아닙니다')\n"
   ]
  },
  {
   "cell_type": "markdown",
   "id": "f68ec827",
   "metadata": {},
   "source": [
    "## [문제] 화폐단위 계산\n",
    "<pre>\n",
    "사용자로부터 금액을 입력 받아 화폐의 개수를 출력하는 프로그램을 작성하시오.\n",
    "조건) 화폐의 종류 : 만원, 천원, 백원, 십원 (일원 단위는 절사)\n",
    "\n",
    "[실행 예]\n",
    "금액을 입력하세요 : 45630\n",
    "만원: 4개\n",
    "천원: 5개\n",
    "백원: 6개\n",
    "십원: 3개\n",
    "</pre>"
   ]
  },
  {
   "cell_type": "code",
   "execution_count": 52,
   "id": "bafad681",
   "metadata": {},
   "outputs": [
    {
     "name": "stdout",
     "output_type": "stream",
     "text": [
      "금액을 입력하세요: 45680\n",
      "만원: 4 개\n",
      "천원: 5 개\n",
      "백원: 6 개\n",
      "십원: 8 개\n"
     ]
    }
   ],
   "source": [
    "# A1.\n",
    "money = int(input('금액을 입력하세요: '))\n",
    "\n",
    "만원 = money // 10000\n",
    "천원 = (money - 만원*10000) // 1000\n",
    "백원 = (money - 만원*10000 - 천원*1000) // 100\n",
    "십원 = (money - 만원*10000 - 천원*1000 -백원*100) // 10\n",
    "\n",
    "print('만원:', 만원, '개')\n",
    "print('천원:', 천원, '개')\n",
    "print('백원:', 백원, '개')\n",
    "print('십원:', 십원, '개')"
   ]
  },
  {
   "cell_type": "code",
   "execution_count": 10,
   "id": "aec61010",
   "metadata": {},
   "outputs": [
    {
     "name": "stdout",
     "output_type": "stream",
     "text": [
      "금액을 입력하세요: 45680\n",
      "만원: 4 개\n",
      "천원: 5 개\n",
      "백원: 6 개\n",
      "십원: 8 개\n"
     ]
    }
   ],
   "source": [
    "# A2.\n",
    "money = int(input('금액을 입력하세요: '))\n",
    "\n",
    "만원 = money // 10000\n",
    "천원 = (money%10000) // 1000\n",
    "백원 = (money%1000) // 100\n",
    "십원 = (money%100) // 10\n",
    "\n",
    "print('만원:', 만원, '개')\n",
    "print('천원:', 천원, '개')\n",
    "print('백원:', 백원, '개')\n",
    "print('십원:', 십원, '개')"
   ]
  },
  {
   "cell_type": "code",
   "execution_count": 57,
   "id": "882a6a36",
   "metadata": {},
   "outputs": [
    {
     "name": "stdout",
     "output_type": "stream",
     "text": [
      "금액을 입력하세요: 45680\n",
      "만원: 4 개\n",
      "천원: 5 개\n",
      "백원: 6 개\n"
     ]
    }
   ],
   "source": [
    "number = int(input('금액을 입력하세요: '))\n",
    "\n",
    "if number >= 10000 :\n",
    "    print('만원:', number//10000,'개')\n",
    "if 1000 <= number-(number//10000)*10000 < 10000 :\n",
    "    print('천원:', (number-(number//10000)*10000)//1000,'개')\n",
    "if 100 <= number-(number//10000)*10000-((number-(number//10000)*10000)//1000)*1000 < 1000 :\n",
    "    print('백원:', (number-(number//10000)*10000-((number-(number//10000)*10000)//1000)*1000)//100,'개')\n",
    "else : \n",
    "    print('십원:', (number-(number//10000)*10000-(number//1000)*1000-(number//100)*100)//10,'개')\n",
    "    \n",
    "    "
   ]
  },
  {
   "cell_type": "markdown",
   "id": "db91ed1c",
   "metadata": {},
   "source": [
    "# 삼항 연산자"
   ]
  },
  {
   "cell_type": "code",
   "execution_count": 3,
   "id": "51bd88ad",
   "metadata": {},
   "outputs": [
    {
     "name": "stdout",
     "output_type": "stream",
     "text": [
      "a와 b는 같지 않다\n"
     ]
    }
   ],
   "source": [
    "a = 10\n",
    "b = 20\n",
    "result = 'a와 b는 같지 않다' if a !=b else 'a와 b는 같다.'\n",
    "# True면 if의 왼쪽에 있는 문장이 실행\n",
    "# False면 if의 오른쪽에 있는 문장이 실행\n",
    "print(result)\n",
    "\n",
    "# 삼항 연산자는 한 줄에 쓰는 것이므로 콜론(:) 필요 없습니다."
   ]
  },
  {
   "cell_type": "markdown",
   "id": "1bec54da",
   "metadata": {},
   "source": [
    "## [문제] 대도시 여부 판단\n",
    "\n",
    "<pre>\n",
    "[판단조건]\n",
    "수도이면서 인구가 100만 이상인 도시\n",
    "또는, 부자가 200만 이상인 도시\n",
    "\n",
    "[실행예시]\n",
    "수도입니까? (수도:1 수도아님:0) 1\n",
    "인구(단위:만) 150\n",
    "부자의 수(단위:만) 50\n",
    "대도시 여부: True\n",
    "\n",
    "수도입니까? (수도:1 수도아님:0) 0\n",
    "인구(단위:만) 90\n",
    "부자의 수(단위:만) 210\n",
    "대도시 여부: True"
   ]
  },
  {
   "cell_type": "code",
   "execution_count": 17,
   "id": "bb03f75c",
   "metadata": {},
   "outputs": [
    {
     "name": "stdout",
     "output_type": "stream",
     "text": [
      "수도입니까? (수도:1 수도아님:0) 1\n",
      "인구 (단위:만) 150\n",
      "부자의 수 (단위:만) 20\n",
      "대도시 여부: True\n"
     ]
    }
   ],
   "source": [
    "a = int(input('수도입니까? (수도:1 수도아님:0) '))\n",
    "b = int(input('인구 (단위:만) '))\n",
    "c = int(input('부자의 수 (단위:만) '))\n",
    "\n",
    "result = 'True' if (a==1 and b>=100) or c>=200 else 'False'\n",
    "print('대도시 여부:', result)"
   ]
  },
  {
   "cell_type": "code",
   "execution_count": 4,
   "id": "f6ce69ed",
   "metadata": {},
   "outputs": [
    {
     "name": "stdout",
     "output_type": "stream",
     "text": [
      "수도입니까? (수도:1 수도아님:0)0\n",
      "인구 (단위:만)90\n",
      "부자의 수 (단위:만)210\n",
      "대도시 여부: True\n"
     ]
    }
   ],
   "source": [
    "# A.\n",
    "isCapital = input('수도입니까? (수도:1 수도아님:0)')\n",
    "citizens = int(input('인구 (단위:만)'))\n",
    "riches = int(input('부자의 수 (단위:만)'))\n",
    "\n",
    "# int 값을 넣지 않았으므로 1은 숫자가 아닌 문자열!\n",
    "result = True if (isCapital == '1' and citizens >= 100) or riches>=200 else False\n",
    "print('대도시 여부:', result)"
   ]
  },
  {
   "cell_type": "markdown",
   "id": "e476d2cc",
   "metadata": {},
   "source": [
    "## [문제] 시간제 임금 계산\n",
    "<pre>\n",
    "근무한 시간을 입력받아 다음과 같은 규칙에 맞게 임금을 계산하시오.\n",
    "- 8시간까지는 시간당 9,800원이고, 8시간 초과분에 대해서는 1.5배를 지급한다.\n",
    "\n",
    "[실행예시]\n",
    "시간을 입력하세요 : 25\n",
    "입금은 328300원 입니다."
   ]
  },
  {
   "cell_type": "code",
   "execution_count": 5,
   "id": "d0c74083",
   "metadata": {},
   "outputs": [
    {
     "name": "stdout",
     "output_type": "stream",
     "text": [
      "시간을 입력하세요 : 25\n",
      "임금은  328300.0 원 입니다.\n"
     ]
    }
   ],
   "source": [
    "# A1.\n",
    "base_pay = 9800\n",
    "hour = int(input('시간을 입력하세요 : '))\n",
    "pay = 0 # 계산된 임금을 저장할 변수, 초기값인 0으로 세팅하는 것\n",
    "\n",
    "if hour > 8:\n",
    "    pay = 8*base_pay + (hour-8)*base_pay*1.5\n",
    "else:\n",
    "    pay = hour*base_pay\n",
    "\n",
    "print('임금은 ', pay, '원 입니다.')\n",
    "# 1.5를 곱했으므로 정수보다 큰 범위인 '실수'로 결과값이 자동 변환된다."
   ]
  },
  {
   "cell_type": "code",
   "execution_count": 6,
   "id": "7c3bf621",
   "metadata": {},
   "outputs": [
    {
     "name": "stdout",
     "output_type": "stream",
     "text": [
      "시간을 입력하세요 : 25\n",
      "임금은 328,300.00원 입니다.\n"
     ]
    }
   ],
   "source": [
    "# A2.\n",
    "base_pay = 9800\n",
    "hour = int(input('시간을 입력하세요 : '))\n",
    "pay = 8*base_pay + (hour-8)*base_pay*1.5 if hour > 8 else hour*base_pay\n",
    "\n",
    "print(f'임금은 {pay:,.2f}원 입니다.')\n",
    "# formated string\n",
    "# { 변수 : 형식 } 안에 동적으로 받아와서 문자열을 받아온다.\n",
    "# 형식 , : 천 단위\n",
    "# 형식 .0f : 소수점 이하 0자리까지 (실수라는 것에는 변함 없으나 출력만 0자리까지)"
   ]
  },
  {
   "cell_type": "markdown",
   "id": "f2612fe0",
   "metadata": {},
   "source": [
    "# 반복문"
   ]
  },
  {
   "cell_type": "code",
   "execution_count": 35,
   "id": "0fc2cea0",
   "metadata": {},
   "outputs": [
    {
     "name": "stdout",
     "output_type": "stream",
     "text": [
      "1 2 3 4 5 End\n"
     ]
    }
   ],
   "source": [
    "c = 1 #초기화 값 1로 설정\n",
    "while c <= 5:\n",
    "    print(c, end=' ')\n",
    "    c += 1 #c=c+1\n",
    "    \n",
    "print('End')"
   ]
  },
  {
   "cell_type": "code",
   "execution_count": 36,
   "id": "3bc71d12",
   "metadata": {},
   "outputs": [
    {
     "name": "stdout",
     "output_type": "stream",
     "text": [
      "55\n"
     ]
    }
   ],
   "source": [
    "sum = 0 #초기화 값 0으로 설정\n",
    "for i in range(1,11): #1부터 10까지 1의 간격으로\n",
    "    sum += i #sum=sum+i\n",
    "\n",
    "print(sum)"
   ]
  },
  {
   "cell_type": "code",
   "execution_count": 1,
   "id": "5c2453ec",
   "metadata": {},
   "outputs": [
    {
     "name": "stdout",
     "output_type": "stream",
     "text": [
      "영어 단어를 입력하세요(종료:q)ff\n",
      "FF\n",
      "영어 단어를 입력하세요(종료:q)q\n",
      "Q\n",
      "End\n"
     ]
    }
   ],
   "source": [
    "while True :\n",
    "    s = input('영어 단어를 입력하세요(종료:q)') #s는 현재 spring 즉, 문자열\n",
    "    if s == 'q' : break\n",
    "    print(s.upper()) #upper() : 문자열을 대문자로 변경\n",
    "print('End')"
   ]
  },
  {
   "cell_type": "code",
   "execution_count": 39,
   "id": "b574edbf",
   "metadata": {},
   "outputs": [
    {
     "name": "stdout",
     "output_type": "stream",
     "text": [
      "2500\n"
     ]
    }
   ],
   "source": [
    "# 1~100 사이 홀수값의 합\n",
    "\n",
    "sum = 0\n",
    "for i in range(1,101):\n",
    "    if not i%2: continue #짝수면 continue 즉, 이하 문장을 건너뛰고 다음으로 넘어감\n",
    "    sum += i #sum=sum+i  #결국, 홀수의 값만 더한다.\n",
    "\n",
    "print(sum)"
   ]
  },
  {
   "cell_type": "code",
   "execution_count": 43,
   "id": "2c5b9852",
   "metadata": {},
   "outputs": [
    {
     "name": "stdout",
     "output_type": "stream",
     "text": [
      "a,b,c,d,e,f,\b\n"
     ]
    }
   ],
   "source": [
    "# 파이썬에서는 문자열을 List (집합형 데이터) 객체로 관리한다.\n",
    "# 'abcdef' => ['a', 'b', 'c', 'd', 'e', 'f']\n",
    "\n",
    "for s in 'abcdef' :\n",
    "    print (s, end=',')\n",
    "print('\\b') #마지막 출력시 backspace 1회하므로 마지막 ,는 삭제된다.\n",
    "\n",
    "#for s in 'abcdef' :\n",
    "    #print (s)"
   ]
  },
  {
   "cell_type": "code",
   "execution_count": 4,
   "id": "0bd91f87",
   "metadata": {},
   "outputs": [
    {
     "name": "stdout",
     "output_type": "stream",
     "text": [
      "The sum is 55\n"
     ]
    }
   ],
   "source": [
    "n =10; sum=0; i=1\n",
    "while i <= n:\n",
    "    sum += i\n",
    "    i +=1 #update counter\n",
    "print(\"The sum is\", sum)"
   ]
  },
  {
   "cell_type": "code",
   "execution_count": 2,
   "id": "4aa0f0f4",
   "metadata": {},
   "outputs": [
    {
     "name": "stdout",
     "output_type": "stream",
     "text": [
      "The sum is 25\n"
     ]
    }
   ],
   "source": [
    "n =10; sum=0; i=0\n",
    "while i < n:\n",
    "    i += 1\n",
    "    if i%2 == 0:\n",
    "        continue\n",
    "    sum += i\n",
    "else : print(\"The sum is\", sum)"
   ]
  },
  {
   "cell_type": "code",
   "execution_count": 6,
   "id": "9c880675",
   "metadata": {},
   "outputs": [
    {
     "name": "stdout",
     "output_type": "stream",
     "text": [
      "[2, 4, 6, 8, 10, 12, 14, 16, 18, 3, 6, 9, 12, 15, 18, 21, 24, 27, 4, 8, 12, 16, 20, 24, 28, 32, 36, 5, 10, 15, 20, 25, 30, 35, 40, 45, 6, 12, 18, 24, 30, 36, 42, 48, 54, 7, 14, 21, 28, 35, 42, 49, 56, 63, 8, 16, 24, 32, 40, 48, 56, 64, 72, 9, 18, 27, 36, 45, 54, 63, 72, 81]\n"
     ]
    }
   ],
   "source": [
    "result = [x*y for x in range (2,10) for y in range (1,10)]\n",
    "print(result)"
   ]
  },
  {
   "cell_type": "code",
   "execution_count": 16,
   "id": "8bb47ed1",
   "metadata": {},
   "outputs": [
    {
     "name": "stdout",
     "output_type": "stream",
     "text": [
      "--- 2단 ---\n",
      "2 x 1 = 2\n",
      "2 x 2 = 4\n",
      "2 x 3 = 6\n",
      "2 x 4 = 8\n",
      "2 x 5 = 10\n",
      "2 x 6 = 12\n",
      "2 x 7 = 14\n",
      "2 x 8 = 16\n",
      "2 x 9 = 18\n",
      "--- 3단 ---\n",
      "3 x 1 = 3\n",
      "3 x 2 = 6\n",
      "3 x 3 = 9\n",
      "3 x 4 = 12\n",
      "3 x 5 = 15\n",
      "3 x 6 = 18\n",
      "3 x 7 = 21\n",
      "3 x 8 = 24\n",
      "3 x 9 = 27\n",
      "--- 4단 ---\n",
      "4 x 1 = 4\n",
      "4 x 2 = 8\n",
      "4 x 3 = 12\n",
      "4 x 4 = 16\n",
      "4 x 5 = 20\n",
      "4 x 6 = 24\n",
      "4 x 7 = 28\n",
      "4 x 8 = 32\n",
      "4 x 9 = 36\n",
      "--- 5단 ---\n",
      "5 x 1 = 5\n",
      "5 x 2 = 10\n",
      "5 x 3 = 15\n",
      "5 x 4 = 20\n",
      "5 x 5 = 25\n",
      "5 x 6 = 30\n",
      "5 x 7 = 35\n",
      "5 x 8 = 40\n",
      "5 x 9 = 45\n",
      "--- 6단 ---\n",
      "6 x 1 = 6\n",
      "6 x 2 = 12\n",
      "6 x 3 = 18\n",
      "6 x 4 = 24\n",
      "6 x 5 = 30\n",
      "6 x 6 = 36\n",
      "6 x 7 = 42\n",
      "6 x 8 = 48\n",
      "6 x 9 = 54\n",
      "--- 7단 ---\n",
      "7 x 1 = 7\n",
      "7 x 2 = 14\n",
      "7 x 3 = 21\n",
      "7 x 4 = 28\n",
      "7 x 5 = 35\n",
      "7 x 6 = 42\n",
      "7 x 7 = 49\n",
      "7 x 8 = 56\n",
      "7 x 9 = 63\n",
      "--- 8단 ---\n",
      "8 x 1 = 8\n",
      "8 x 2 = 16\n",
      "8 x 3 = 24\n",
      "8 x 4 = 32\n",
      "8 x 5 = 40\n",
      "8 x 6 = 48\n",
      "8 x 7 = 56\n",
      "8 x 8 = 64\n",
      "8 x 9 = 72\n",
      "--- 9단 ---\n",
      "9 x 1 = 9\n",
      "9 x 2 = 18\n",
      "9 x 3 = 27\n",
      "9 x 4 = 36\n",
      "9 x 5 = 45\n",
      "9 x 6 = 54\n",
      "9 x 7 = 63\n",
      "9 x 8 = 72\n",
      "9 x 9 = 81\n"
     ]
    }
   ],
   "source": [
    "# 구구단 만들기 (중첩 반복문)\n",
    "for dan in range (2,10):\n",
    "    print(f'--- {dan}단 ---')\n",
    "    for num in range (1,10):\n",
    "        #print(dan, '*', num, '=', dan*num)\n",
    "        print(f'{dan} x {num} = {dan*num}')"
   ]
  },
  {
   "cell_type": "code",
   "execution_count": 18,
   "id": "0388170f",
   "metadata": {},
   "outputs": [
    {
     "name": "stdout",
     "output_type": "stream",
     "text": [
      "[3]\n",
      "[3, 6]\n",
      "[3, 6, 9]\n",
      "[3, 6, 9, 12]\n"
     ]
    }
   ],
   "source": [
    "a = [1, 2, 3, 4] #a는 List 객체, 집합형 데이터\n",
    "result = []\n",
    "\n",
    "for i in a:\n",
    "    result.append(i*3) #append()는 리스트 객체에 요소 값을 추가하는 함수\n",
    "    print(result) #들여쓰기 하면 : for 실행될 때 마다 print"
   ]
  },
  {
   "cell_type": "code",
   "execution_count": 19,
   "id": "feb7b580",
   "metadata": {},
   "outputs": [
    {
     "name": "stdout",
     "output_type": "stream",
     "text": [
      "[3, 6, 9, 12]\n"
     ]
    }
   ],
   "source": [
    "a = [1, 2, 3, 4] #a는 List 객체, 집합형 데이터\n",
    "result = []\n",
    "\n",
    "for i in a:\n",
    "    result.append(i*3) #append()는 리스트 객체에 요소 값을 추가하는 함수 \n",
    "print(result) #들여쓰기 안하면 : for문 다 끝난 후에 print"
   ]
  },
  {
   "cell_type": "code",
   "execution_count": 20,
   "id": "961de30a",
   "metadata": {},
   "outputs": [
    {
     "name": "stdout",
     "output_type": "stream",
     "text": [
      "[3, 6, 9, 12]\n"
     ]
    }
   ],
   "source": [
    "# List Comprehension\n",
    "\n",
    "a = [1, 2, 3, 4] #a는 List 객체, 집합형 데이터\n",
    "result = [ i*3 for i in a]\n",
    "# 1번 : for i in a\n",
    "# 2번 : i*3\n",
    "print(result) "
   ]
  },
  {
   "cell_type": "code",
   "execution_count": 23,
   "id": "f97544a0",
   "metadata": {},
   "outputs": [
    {
     "name": "stdout",
     "output_type": "stream",
     "text": [
      "[6, 12]\n"
     ]
    }
   ],
   "source": [
    "# List Comprehension with if\n",
    "\n",
    "a = [1, 2, 3, 4]\n",
    "result = [ i*3 for i in a if i%2 == 0]\n",
    "# 1번 : for i in a\n",
    "# 2-1번 : if i%2==0\n",
    "# 3-1번 : i*3\n",
    "# 2-2번 : if i%2!=0\n",
    "# 3-2번 : 실행하지 않음\n",
    "print(result) "
   ]
  },
  {
   "cell_type": "code",
   "execution_count": 22,
   "id": "869b1cb2",
   "metadata": {},
   "outputs": [
    {
     "name": "stdout",
     "output_type": "stream",
     "text": [
      "[0, 6, 0, 12]\n"
     ]
    }
   ],
   "source": [
    "# List Comprehension with if ~ else\n",
    "\n",
    "a = [1, 2, 3, 4]\n",
    "result = [ i*3 if i%2 == 0 else 0 for i in a]\n",
    "# 1번 : for i in a\n",
    "# 2-1번 : if i%2==0\n",
    "# 3-1번 : i*3\n",
    "# 2-2번 : if i%2!=0\n",
    "# 3-2번 : 0\n",
    "print(result) "
   ]
  },
  {
   "cell_type": "markdown",
   "id": "317bbe75",
   "metadata": {},
   "source": [
    "## for ~ else 문\n",
    "- while ~ else / for ~ else : 반복문이 break 등으로 중간에 빠져나오지 않고 끝까지 실행됐을 경우에만, else문이 실행된다."
   ]
  },
  {
   "cell_type": "code",
   "execution_count": 11,
   "id": "d231a0eb",
   "metadata": {},
   "outputs": [
    {
     "name": "stdout",
     "output_type": "stream",
     "text": [
      "검색 단어를 입력하세요: java\n",
      "검색 결과: java\n"
     ]
    }
   ],
   "source": [
    "key_word = input('검색 단어를 입력하세요: ')\n",
    "word_list = ['java', 'python', 'c++', 'pascal']\n",
    "\n",
    "for w in word_list:\n",
    "    if key_word == w:\n",
    "        print('검색 결과:', w)\n",
    "        break\n",
    "    # print('검색 결과가 없습니다.') # aa 입력시 '검색 결과가 없습니다.' 가 4번 반복\n",
    "# print('검색 결과가 없습니다.') # java 입력시 '검색 결과가 없습니다.' 가 마지막\n",
    "else: print('검색 결과가 없습니다.')"
   ]
  },
  {
   "cell_type": "code",
   "execution_count": 9,
   "id": "c6b8c6be",
   "metadata": {},
   "outputs": [
    {
     "name": "stdout",
     "output_type": "stream",
     "text": [
      "검색 단어를 입력하세요: ff\n",
      "검색 결과가 없습니다.\n"
     ]
    }
   ],
   "source": [
    "key_word = input('검색 단어를 입력하세요: ')\n",
    "word_list = ['java', 'python', 'c++', 'pascal']\n",
    "\n",
    "for w in word_list:\n",
    "    if w == key_word :\n",
    "        print('검색 결과:', key_word)\n",
    "        break\n",
    "else: print('검색 결과가 없습니다.')"
   ]
  },
  {
   "cell_type": "markdown",
   "id": "206f9e98",
   "metadata": {},
   "source": [
    "## [문제] 합계 구하기\n",
    "<pre>\n",
    "정수를 입력받아 1부터 입력받은 정수까지의 합을 구하여 출력한다.\n",
    "단, 반복문은 while을 이용할 것\n",
    "\n",
    "[실행 예시]\n",
    "정수를 입력하시오: 5\n",
    "1~5까지의 합 : 15\n",
    "</pre>"
   ]
  },
  {
   "cell_type": "code",
   "execution_count": 12,
   "id": "4ac006fd",
   "metadata": {},
   "outputs": [
    {
     "name": "stdout",
     "output_type": "stream",
     "text": [
      "정수를 입력하시오: 5\n",
      "15\n"
     ]
    }
   ],
   "source": [
    "count = 0; sum = 0\n",
    "num = int(input('정수를 입력하시오: '))\n",
    "\n",
    "while count < num:\n",
    "    count += 1 #count=count+1\n",
    "    sum += count #sum=sum+count\n",
    "else: print(sum)"
   ]
  },
  {
   "cell_type": "code",
   "execution_count": 5,
   "id": "0ba0a78a",
   "metadata": {},
   "outputs": [
    {
     "name": "stdout",
     "output_type": "stream",
     "text": [
      "정수 입력: 100\n",
      "1 ~100까지의 합: 5050\n"
     ]
    }
   ],
   "source": [
    "# A.\n",
    "sum = 0 #전체 합계를 저장\n",
    "count = 0 #반복 횟수\n",
    "num = int(input('정수 입력: '))\n",
    "\n",
    "while count < num:\n",
    "    count += 1 #count=count+1\n",
    "    sum += count #sum=sum+count\n",
    "print(f'1 ~{num}까지의 합: {sum}')"
   ]
  },
  {
   "cell_type": "markdown",
   "id": "4c4c8ccd",
   "metadata": {},
   "source": [
    "## [문제] 윤년 판단\n",
    "- 연도를 입력받아 윤년인지 판단하는 프로그램을 작성하시오.\n",
    "\n",
    "<pre>\n",
    "프로그램은 반복적으로 수행되며, 0을 입력 받으면 프로그램을 종료한다.\n",
    "윤년 조건 :\n",
    "- 4로 나누어 떨어지고, 100으로 나누어 떨어지지 않는 해\n",
    "- 또는 400으로 나누어 떨어지는 해\n",
    "[실행예시]\n",
    "연도를 입력하세요(종료:0) 2020\n",
    "2020년도는 윤년입니다.\n",
    "\n",
    "연도를 입력하세요(종료:0) 2021\n",
    "2021년도는 평년입니다.\n",
    "</pre>"
   ]
  },
  {
   "cell_type": "code",
   "execution_count": 1,
   "id": "2c5156a5",
   "metadata": {},
   "outputs": [
    {
     "name": "stdout",
     "output_type": "stream",
     "text": [
      "연도를 입력하세요(종료:0) 2022\n",
      "2022 년도는 평년입니다.\n",
      "연도를 입력하세요(종료:0) 2020\n",
      "2020 년도는 윤년입니다.\n",
      "연도를 입력하세요(종료:0) 2021\n",
      "2021 년도는 평년입니다.\n",
      "연도를 입력하세요(종료:0) 0\n"
     ]
    }
   ],
   "source": [
    "while True:\n",
    "    year=int(input('연도를 입력하세요(종료:0) '))\n",
    "    if year == 0 : break\n",
    "    elif (year%4==0 and year%100!=0) or year%400==0 :\n",
    "        print(f'{year} 년도는 윤년입니다.')\n",
    "    else :\n",
    "         print(f'{year} 년도는 평년입니다.')"
   ]
  },
  {
   "cell_type": "code",
   "execution_count": 1,
   "id": "6fcbc416",
   "metadata": {},
   "outputs": [],
   "source": [
    "# while True:\n",
    "#     a=int(input('연도를 입력하세요(종료:0) '))\n",
    "#     if (a%4==0 and a%100!=0) or a%400==0 :\n",
    "#         print(f'{a} 년도는 윤년입니다.')\n",
    "#     elif a == 0 : break\n",
    "#     else :\n",
    "#          print(f'{a} 년도는 평년입니다.')\n",
    "\n",
    "# 이렇게 하면 a==0이 if 조건문1에 걸려서 break되지 못하고 윤년으로 출력함."
   ]
  },
  {
   "cell_type": "code",
   "execution_count": 4,
   "id": "35bd5107",
   "metadata": {},
   "outputs": [
    {
     "name": "stdout",
     "output_type": "stream",
     "text": [
      "연도를 입력하세요(종료:0) 2022\n",
      "2022 년도는 평년입니다.\n",
      "연도를 입력하세요(종료:0) 2021\n",
      "2021 년도는 평년입니다.\n",
      "연도를 입력하세요(종료:0) 0\n"
     ]
    }
   ],
   "source": [
    "# A. 삼항연산자 활용 방식\n",
    "while True:\n",
    "    year=int(input('연도를 입력하세요(종료:0) '))\n",
    "    if year == 0 : break\n",
    "    leap_year = '윤년' if (year%4==0 and year%100!=0) or year%400==0 else '평년'\n",
    "    print(f'{year} 년도는 {leap_year}입니다.')  "
   ]
  },
  {
   "cell_type": "markdown",
   "id": "08f93c22",
   "metadata": {},
   "source": [
    "## [문제] BMI 측정 프로그램\n",
    "\n",
    "<pre>\n",
    "키와 몸무게를 입력받아 BMI 측정 결과를 출력하는 프로그램을 작성하시오.\n",
    "\n",
    "[실행 예시]\n",
    "키를 입력하세요(cm): 170\n",
    "몸무게를 입력하세요(kg): 85\n",
    "당신의 BMI는 비만 1단계 입니다.\n",
    "\n",
    "[BMI 계산식]\n",
    "BMI = 몸무게(kg) / 키(m)의 제곱\n",
    "18.5 미만 : 저체중\n",
    "18.5 ~ 22.9 : 정상체중\n",
    "23 ~29.9 : 비만 1단계\n",
    "29.9 초과 : 비만 2단계\n",
    "</pre>"
   ]
  },
  {
   "cell_type": "code",
   "execution_count": 21,
   "id": "4e662a25",
   "metadata": {},
   "outputs": [
    {
     "name": "stdout",
     "output_type": "stream",
     "text": [
      "키를 입력하세요(cm): 170\n",
      "몸무게를 입력하세(kg)): 85\n",
      "비만 2단계\n"
     ]
    }
   ],
   "source": [
    "height = float(input('키를 입력하세요(cm): '))\n",
    "weight = float(input('몸무게를 입력하세요(kg)): '))\n",
    "BMI = weight/((height/100)**2)\n",
    "\n",
    "if BMI < 18.5:\n",
    "    print('저체중')\n",
    "elif 18.5 <= BMI < 22.9:\n",
    "    print('정상체중')\n",
    "elif 22.9 <= BMI < 22.9:\n",
    "    print('비만 1단계')\n",
    "else : print('비만 2단계')"
   ]
  },
  {
   "cell_type": "code",
   "execution_count": 19,
   "id": "ce6b1225",
   "metadata": {},
   "outputs": [
    {
     "name": "stdout",
     "output_type": "stream",
     "text": [
      "키를 입력하세요(cm): 170\n",
      "몸무게를 입력하세(kg)): 85\n",
      "당신의 BMI는 비만 2단계 입니다.\n"
     ]
    }
   ],
   "source": [
    "height = int(input('키를 입력하세요(cm): '))\n",
    "weight = int(input('몸무게를 입력하세(kg)): '))\n",
    "\n",
    "bmi = weight / ((height/100)**2)\n",
    "level = ''\n",
    "\n",
    "if BMI < 18.5:\n",
    "    level = '저체중'\n",
    "elif 18.5 <= BMI < 22.9:\n",
    "    level = '정상체중'\n",
    "elif 22.9 <= BMI < 29.9:\n",
    "    level = '비만 1단계'\n",
    "else : level = '비만 2단계'\n",
    "\n",
    "print(f'당신의 BMI는 {level} 입니다.')"
   ]
  }
 ],
 "metadata": {
  "kernelspec": {
   "display_name": "Python 3 (ipykernel)",
   "language": "python",
   "name": "python3"
  },
  "language_info": {
   "codemirror_mode": {
    "name": "ipython",
    "version": 3
   },
   "file_extension": ".py",
   "mimetype": "text/x-python",
   "name": "python",
   "nbconvert_exporter": "python",
   "pygments_lexer": "ipython3",
   "version": "3.9.13"
  },
  "toc": {
   "base_numbering": 1,
   "nav_menu": {},
   "number_sections": true,
   "sideBar": true,
   "skip_h1_title": false,
   "title_cell": "Table of Contents",
   "title_sidebar": "Contents",
   "toc_cell": false,
   "toc_position": {
    "height": "533.6px",
    "left": "21px",
    "top": "132.6px",
    "width": "298.056px"
   },
   "toc_section_display": true,
   "toc_window_display": true
  }
 },
 "nbformat": 4,
 "nbformat_minor": 5
}
