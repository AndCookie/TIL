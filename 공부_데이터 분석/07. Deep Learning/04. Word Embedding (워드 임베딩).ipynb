{
 "cells": [
  {
   "cell_type": "markdown",
   "id": "327d7621",
   "metadata": {},
   "source": [
    "- 각 단어를 인공 신경망 학습을 통해 벡터화하는 방법\n",
    "    - 텍스트를 컴퓨터가 이해하고, 효율적으로 처리하게 하기 위해 텍스트를 적절히 숫자로 변환시키는 작업"
   ]
  },
  {
   "cell_type": "markdown",
   "id": "06b61817",
   "metadata": {},
   "source": [
    "# 워드 임베딩 (Word Embedding)\n",
    "< 정의 >\n",
    "- 단어를 벡터로 표현하는 방법\n",
    "- 단어를 밀집 표현으로 변환"
   ]
  },
  {
   "cell_type": "markdown",
   "id": "cc7b42ca",
   "metadata": {},
   "source": [
    "## 희소 표현 (Sparse Representation)\n",
    "< 정의 >\n",
    "- 벡터 또는 행렬(matrix)의 값이 대부분이 0으로 표현되는 것\n",
    "\n",
    "< 문제점 >\n",
    "- 1. 공간적 낭비\n",
    "    - 단어의 개수가 늘어나면 벡터의 차원이 한없이 커짐\n",
    "- 2. 단어의 의미를 표현하지 못함\n",
    "    \n",
    "< 예시 >\n",
    "- 원-핫 벡터\n",
    "- DTM\n",
    "    - 특정 문서에 여러 단어가 다수 등장하였으나, 다른 많은 문서에서는 해당 특정 문서에 등장했던 단어들이 전부 등장하지 않는다면 역시나 행렬의 많은 값이 0이 되면서 공간적 낭비를 발생시킴"
   ]
  },
  {
   "cell_type": "markdown",
   "id": "b53eb877",
   "metadata": {},
   "source": [
    "## 밀집 표현 (Dense Representation)"
   ]
  },
  {
   "cell_type": "code",
   "execution_count": null,
   "id": "19dc182e",
   "metadata": {},
   "outputs": [],
   "source": []
  },
  {
   "cell_type": "code",
   "execution_count": null,
   "id": "d03946d9",
   "metadata": {},
   "outputs": [],
   "source": []
  }
 ],
 "metadata": {
  "kernelspec": {
   "display_name": "Python 3 (ipykernel)",
   "language": "python",
   "name": "python3"
  },
  "language_info": {
   "codemirror_mode": {
    "name": "ipython",
    "version": 3
   },
   "file_extension": ".py",
   "mimetype": "text/x-python",
   "name": "python",
   "nbconvert_exporter": "python",
   "pygments_lexer": "ipython3",
   "version": "3.9.13"
  },
  "toc": {
   "base_numbering": 1,
   "nav_menu": {},
   "number_sections": true,
   "sideBar": true,
   "skip_h1_title": false,
   "title_cell": "Table of Contents",
   "title_sidebar": "Contents",
   "toc_cell": false,
   "toc_position": {},
   "toc_section_display": true,
   "toc_window_display": false
  }
 },
 "nbformat": 4,
 "nbformat_minor": 5
}
