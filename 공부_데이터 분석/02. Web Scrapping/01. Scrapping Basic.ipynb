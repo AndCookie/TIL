{
 "cells": [
  {
   "cell_type": "markdown",
   "id": "85978c34",
   "metadata": {},
   "source": [
    "# request 패키지"
   ]
  },
  {
   "cell_type": "code",
   "execution_count": 4,
   "id": "56fd3d73",
   "metadata": {},
   "outputs": [
    {
     "name": "stdout",
     "output_type": "stream",
     "text": [
      "200\n"
     ]
    }
   ],
   "source": [
    "import requests\n",
    "# 파이썬의 기본 모듈이므로 별도로 설치하지 않아도 됨\n",
    "\n",
    "# import란?\n",
    "# 외부의 모듈을 가져와 사용할 때는 import 명령어를 사용한다\n",
    "# 모듈에 포함된 함수 호출시 함수명 앞에 모듈명을 붙인다\n",
    "# 만약 특정 함수나 클래스만 import하고자 할 때는 from을 사용한한다\n",
    "\n",
    "# get 방식으로 요청\n",
    "# response = requests.get(url, params, **kwargs)\n",
    "response = requests.get('http://www.naver.com')\n",
    "# response는 임의의 변수일 뿐\n",
    "# request 패키지 중 get이라는 함수를 사용한 것\n",
    "print(response.status_code) #200\n",
    "# 응답에 대한 코드 확인 : 200 : 정상 접속"
   ]
  },
  {
   "cell_type": "code",
   "execution_count": 8,
   "id": "8239ac05",
   "metadata": {},
   "outputs": [],
   "source": [
    "# print(response.text)\n",
    "# 원하는 데이터 추출시 슬라이스를 활용할 수 있지만, beautifulsoup 활용을 추천."
   ]
  },
  {
   "cell_type": "markdown",
   "id": "a7ea8ffa",
   "metadata": {},
   "source": [
    "- 특정 URL에 접속하여 결과물을 파일로 저장"
   ]
  },
  {
   "cell_type": "code",
   "execution_count": 6,
   "id": "d1f801ce",
   "metadata": {},
   "outputs": [
    {
     "name": "stdout",
     "output_type": "stream",
     "text": [
      "상태코드:  200\n",
      "저장 완료!\n"
     ]
    }
   ],
   "source": [
    "# https://www.google.com/search?q=python\n",
    "\n",
    "URL = 'https://www.google.com/search'\n",
    "param = {'q':'python'}\n",
    "\n",
    "response = requests.get(URL, param)\n",
    "response.raise_for_status() # 200이 아니면 오류를 내고 프로그램 실행을 종료\n",
    "\n",
    "print('상태코드: ', response.status_code)\n",
    "result = response.text\n",
    "# .text는 서버의 html 문서를 출력하는 것\n",
    "# .content는 이미지 수집\n",
    "\n",
    "# with절을 활용하여 파일을 열었다면, 별도의 close 할 필요 없음.\n",
    "# 파일객체 = open(파일이름, 파일열기모드)\n",
    "with open('mygoogle.html', 'w', encoding='utf-8') as f:\n",
    "    f.write(result)\n",
    "\n",
    "print('저장 완료!')\n",
    "# 구글은 디자인 요소와 관련된 style sheet를 별도의 파일로 만들고 링크만 걸어두었기 때문에, 결과가 조금은 다르게 나오는 것"
   ]
  },
  {
   "cell_type": "markdown",
   "id": "b5b370e6",
   "metadata": {},
   "source": [
    "## 로봇이 아님을 나타내기 위해서 user-agent라는 값을 header에 넣어서 보내기\n",
    "- user-agent 헤더 값을 포함하여 요청하면, 브라우저를 통해 요청하는 것으로 인식되어 봇의 접근 차단을 피할 수 있다.\n",
    "- 브라우저 별 user-agent 값 얻기\n",
    "    - F12를 눌러 개발자 모드로 진입 -> console -> navigator.userAgent 입력 -> user-agent 값 확인"
   ]
  },
  {
   "cell_type": "code",
   "execution_count": 11,
   "id": "2bc8369e",
   "metadata": {},
   "outputs": [],
   "source": [
    "URL = 'https://www.google.com/search'\n",
    "param = {'q':'python'}\n",
    "\n",
    "# 로봇이 아님을 나타내기 위해서 user-agent라는 값을 header에 넣어서 보냄\n",
    "headers = {'user-agent':'Mozilla/5.0 (Windows NT 10.0; Win64; x64) AppleWebKit/537.36 (KHTML, like Gecko) Chrome/108.0.0.0 Whale/3.18.154.13 Safari/537.36'}\n",
    "\n",
    "response = requests.get(URL, param, headers=headers)\n",
    "# URL과 param은 위치인수\n",
    "# header는 키워드 매개변수\n",
    "result = response.text\n",
    "# print(result)"
   ]
  },
  {
   "cell_type": "markdown",
   "id": "4bf7c2af",
   "metadata": {},
   "source": [
    "## [실습] 네이버 실시간 인기 검색어 추출"
   ]
  },
  {
   "cell_type": "code",
   "execution_count": 19,
   "id": "2df2f51f",
   "metadata": {},
   "outputs": [],
   "source": [
    "import requests\n",
    "\n",
    "URL = 'https://datalab.naver.com'\n",
    "# https : s는 secure : 보안 프로토콜을 의미한다.\n",
    "response = requests.get(URL)\n",
    "html_text = response.text\n",
    "# print(html_text)"
   ]
  },
  {
   "cell_type": "code",
   "execution_count": 21,
   "id": "66e9d912",
   "metadata": {
    "scrolled": true
   },
   "outputs": [
    {
     "name": "stdout",
     "output_type": "stream",
     "text": [
      "잠옷\n"
     ]
    }
   ],
   "source": [
    "# '잠옷'이라는 키워드 추출하기\n",
    "\n",
    "# F12 후 select an element로 잠옷 부분 클릭하여 태그 위치로 이동\n",
    "# 상위태그인 em태그를 오른쪽 마우스 클릭 후 copy element\n",
    "# 해당태그인 span태그를 오른쪽 마우스 클릭 후 copy element\n",
    "\n",
    "temp = html_text.split('<em class=\"num\">1</em>')[1]\n",
    "# 구분자를 기준으로 앞뒤로 두 개의 덩어리로 나뉘어질 것\n",
    "temp = temp.split('<span class=\"title\">')[1]\n",
    "temp = temp.split('</span>')[0]\n",
    "print(temp)"
   ]
  },
  {
   "cell_type": "code",
   "execution_count": null,
   "id": "b86f4af3",
   "metadata": {},
   "outputs": [],
   "source": [
    "# 데이터 찾기\n",
    "find (tag='p' attr='class' value='red')\n",
    "find (tag='p' attr='id' value='red')"
   ]
  }
 ],
 "metadata": {
  "kernelspec": {
   "display_name": "Python 3 (ipykernel)",
   "language": "python",
   "name": "python3"
  },
  "language_info": {
   "codemirror_mode": {
    "name": "ipython",
    "version": 3
   },
   "file_extension": ".py",
   "mimetype": "text/x-python",
   "name": "python",
   "nbconvert_exporter": "python",
   "pygments_lexer": "ipython3",
   "version": "3.9.13"
  },
  "toc": {
   "base_numbering": 1,
   "nav_menu": {},
   "number_sections": true,
   "sideBar": true,
   "skip_h1_title": false,
   "title_cell": "Table of Contents",
   "title_sidebar": "Contents",
   "toc_cell": false,
   "toc_position": {
    "height": "calc(100% - 180px)",
    "left": "10px",
    "top": "150px",
    "width": "341.292px"
   },
   "toc_section_display": true,
   "toc_window_display": true
  }
 },
 "nbformat": 4,
 "nbformat_minor": 5
}
