{
 "cells": [
  {
   "cell_type": "markdown",
   "id": "987a8fe0",
   "metadata": {},
   "source": [
    "# 정규식 사용 vs 비사용"
   ]
  },
  {
   "cell_type": "markdown",
   "id": "3ccfa4ae",
   "metadata": {},
   "source": [
    "## 주민등록번호 암호화\n",
    "<pre>\n",
    "data = '''\n",
    "park 800904-1234567\n",
    "kim 841204-1015334\n",
    "'''\n",
    "\n",
    "[실행 예시]\n",
    "park 800904-*******\n",
    "kim 841204-*******\n",
    "</pre>"
   ]
  },
  {
   "cell_type": "code",
   "execution_count": 9,
   "id": "59624fdb",
   "metadata": {},
   "outputs": [
    {
     "name": "stdout",
     "output_type": "stream",
     "text": [
      "\n",
      "park 800904-*******\n",
      "kim 841204-*******\n",
      "\n"
     ]
    }
   ],
   "source": [
    "# 정규식 비사용\n",
    "\n",
    "data = '''\n",
    "park 800904-1234567\n",
    "kim 841204-1015334\n",
    "'''\n",
    "\n",
    "result = []\n",
    "\n",
    "for line in data.split('\\n'): # line은 park 800904-1234567 / kim 841204-1015334\n",
    "    word_result = []\n",
    "    for word in line.split(): # word는 park / 800904-1234567\n",
    "        if len(word) == 14 and word[:6].isdigit() and word[7:].isdigit():\n",
    "            # 총 14자 & 앞의 6자(생년월일)는 숫자 & 뒤의 7자도 숫자\n",
    "            word = word[:6] + '-' + '*******'\n",
    "        word_result.append(word) # ['park', '800904-*******'] ['kim', '841204-*******']\n",
    "    result.append(' '.join(word_result)) # join : 리스트를 구분자를 기준으로 결합하여 문자열로 반환\n",
    "print('\\n'.join(result))"
   ]
  },
  {
   "cell_type": "code",
   "execution_count": 10,
   "id": "316a8617",
   "metadata": {
    "scrolled": true
   },
   "outputs": [
    {
     "name": "stdout",
     "output_type": "stream",
     "text": [
      "\n",
      "park 800904-*******\n",
      "kim 841204-*******\n",
      "\n"
     ]
    }
   ],
   "source": [
    "# 정규식 사용\n",
    "\n",
    "import re\n",
    "# 정규표현식 관련 모듈은 re\n",
    "\n",
    "data = '''\n",
    "park 800904-1234567\n",
    "kim 841204-1015334\n",
    "'''\n",
    "\n",
    "# 정규 표현식의 패턴을 만들기\n",
    "pat = re.compile('(\\d{6})[-]\\d{7}')\n",
    "# compile은 괄호 안의 패턴과 일치하는 문자열을 찾아 특정 형식으로 바꾸겠다는 것\n",
    "# \\d는 숫자를 의미\n",
    "# {}는 숫자의 갯수를 의미\n",
    "# []는 문자 class : 포함되어야할 문자를 넣기\n",
    "# ()은 그룹핑 : 첫번째 그룹으로 만들겠다~\n",
    "print(pat.sub('\\g<1>-*******', data))\n",
    "# sub는 문자열 대체 함수 : 첫번째 그룹에 있는 값을 그대로 쓰고, 나머지는 *"
   ]
  },
  {
   "cell_type": "markdown",
   "id": "b2c4ab2b",
   "metadata": {},
   "source": [
    "# 문자열 검색"
   ]
  },
  {
   "cell_type": "markdown",
   "id": "132ee824",
   "metadata": {},
   "source": [
    "## sj"
   ]
  },
  {
   "cell_type": "markdown",
   "id": "408d2eef",
   "metadata": {},
   "source": [
    "### [ ]  ' '"
   ]
  },
  {
   "cell_type": "code",
   "execution_count": 19,
   "id": "2ce24cec",
   "metadata": {
    "scrolled": false
   },
   "outputs": [
    {
     "name": "stdout",
     "output_type": "stream",
     "text": [
      "<re.Match object; span=(0, 3), match='abd'>\n",
      "<re.Match object; span=(0, 3), match='acd'>\n",
      "<re.Match object; span=(0, 4), match='abcd'>\n",
      "<re.Match object; span=(0, 4), match='ab c'>\n",
      "<re.Match object; span=(0, 4), match='ab c'>\n"
     ]
    }
   ],
   "source": [
    "import re\n",
    "\n",
    "# [ ]\n",
    "p = re.compile('a[bc]d')\n",
    "# a 또는 b 또는 c의 포함 여부\n",
    "m = p.match('abd') # 매치 YES\n",
    "print(m) # abd\n",
    "m = p.match('acd') # 매치 YES\n",
    "print(m) # acd\n",
    "\n",
    "\n",
    "# ' '\n",
    "p = re.compile('abcd')\n",
    "# abc의 포함 여부\n",
    "m = p.match('bcd') # 매치 NO\n",
    "m = p.match('abcd') # 매치 YES\n",
    "print(m) # abcd\n",
    "\n",
    "\n",
    "\n",
    "# 알파벳 또는 숫자의 포함 여부\n",
    "p = re.compile('[a-zA-Z0-9]')\n",
    "p = re.compile('[\\w]')\n",
    "\n",
    "# 알파벳과 숫자의 미포함 여부\n",
    "p = re.compile('[^a-zA-Z0-9]')\n",
    "p = re.compile('[W]')\n",
    "\n",
    "# 숫자\n",
    "p = re.compile('[0-9]')\n",
    "p = re.compile('[\\d]')\n",
    "p = re.compile('[^0-9]')\n",
    "p = re.compile('[\\D]')\n",
    "\n",
    "# 공백\n",
    "p = re.compile('[\\s]')\n",
    "p = re.compile('[\\S]')\n",
    "\n",
    "p = re.compile('ab[\\s]c')\n",
    "m = p.match('abc') # 매치 NO\n",
    "m = p.match('ab c') # 매치 YES\n",
    "print(m) #ab c\n",
    "m = p.match('ab cdef') # 매치 YES\n",
    "print(m) #ab c"
   ]
  },
  {
   "cell_type": "markdown",
   "id": "9976b2b0",
   "metadata": {},
   "source": [
    "### dot (.)"
   ]
  },
  {
   "cell_type": "code",
   "execution_count": 13,
   "id": "6cc0feaf",
   "metadata": {
    "scrolled": true
   },
   "outputs": [
    {
     "name": "stdout",
     "output_type": "stream",
     "text": [
      "<re.Match object; span=(0, 4), match='ab가c'>\n",
      "<re.Match object; span=(0, 5), match='ab가나c'>\n"
     ]
    }
   ],
   "source": [
    "# dot(.)\n",
    "\n",
    "# ab로 시작하여 c로 끝나되, 그 사이에 어떤 문자든 하나가 올 수 있으나 공백 제외\n",
    "p = re.compile('ab.c')\n",
    "m = p.match('ab\\nc') # 매치 NO\n",
    "m = p.match('ab가c') # 매치 YES\n",
    "print(m) # ab가c\n",
    "\n",
    "p = re.compile('ab.{2}c')\n",
    "m = p.match('ab가나c') # 매치 YES\n",
    "print(m) # ab가나c"
   ]
  },
  {
   "cell_type": "markdown",
   "id": "3c5a599b",
   "metadata": {},
   "source": [
    "### 반복 : *  +  {m,n}"
   ]
  },
  {
   "cell_type": "code",
   "execution_count": 14,
   "id": "e62e0433",
   "metadata": {
    "scrolled": true
   },
   "outputs": [
    {
     "name": "stdout",
     "output_type": "stream",
     "text": [
      "<re.Match object; span=(0, 2), match='ct'>\n",
      "<re.Match object; span=(0, 3), match='cat'>\n",
      "<re.Match object; span=(0, 6), match='caaaat'>\n",
      "<re.Match object; span=(0, 3), match='cat'>\n",
      "<re.Match object; span=(0, 6), match='caaaat'>\n"
     ]
    }
   ],
   "source": [
    "# 반복(*)\n",
    "p = re.compile('ca*t')\n",
    "# 기본적으로 c와t를 포함하며, *앞의 a는 0번~무한번 반복될 수 있다.\n",
    "m = p.match('ct') # 매치 YES\n",
    "print(m) # ct\n",
    "m = p.match('cat') # 매치 YES\n",
    "print(m) # cat\n",
    "m = p.match('caaaat') # 매치 YES\n",
    "print(m) # caaaat\n",
    "\n",
    "# 반복(+)\n",
    "p = re.compile('ca+t')\n",
    "# 기본적으로 c와t를 포함하며, +앞의 a는 1번~무한번 반복될 수 있다.\n",
    "m = p.match('ct') # 매치 NO\n",
    "m = p.match('cat') # 매치 YES\n",
    "print(m) # cat\n",
    "m = p.match('caaaat') # 매치 YES\n",
    "print(m) # caaaat\n",
    "\n",
    "# 반복 횟수 지정 ({m,n})\n",
    "p = re.compile('ca{7}t')\n",
    "p = re.compile('ca{2,}t')\n",
    "p = re.compile('ca{,5}t')\n",
    "p = re.compile('ca{2,5}t')\n",
    "# 기본적으로 c와t를 포함하며, {}앞의 a는 7번 이상 반복된다.\n",
    "# 기본적으로 c와t를 포함하며, {}앞의 a는 2번 이상 반복된다.\n",
    "# 기본적으로 c와t를 포함하며, {}앞의 a는 5번 이하 반복된다.\n",
    "# 기본적으로 c와t를 포함하며, {}앞의 a는 2번 이상, 5번 이하 반복된다."
   ]
  },
  {
   "cell_type": "markdown",
   "id": "64c342a7",
   "metadata": {},
   "source": [
    "### ?  $  ^"
   ]
  },
  {
   "cell_type": "code",
   "execution_count": 10,
   "id": "55565a3a",
   "metadata": {},
   "outputs": [
    {
     "name": "stdout",
     "output_type": "stream",
     "text": [
      "<re.Match object; span=(0, 2), match='ct'>\n",
      "<re.Match object; span=(0, 3), match='cat'>\n",
      "<re.Match object; span=(0, 3), match='cat'>\n",
      "None\n",
      "<re.Match object; span=(0, 3), match='cat'>\n",
      "<re.Match object; span=(0, 3), match='cat'>\n"
     ]
    }
   ],
   "source": [
    "# ?\n",
    "p = re.compile('ca?t')\n",
    "# ?앞의 a는 하나 있거나 없다.\n",
    "m = p.match('ct') # 매치 YES\n",
    "print(m) # ct\n",
    "m = p.match('cat') # 매치 YES\n",
    "print(m) # cat\n",
    "m = p.match('caaaat') # 매치 NO\n",
    "\n",
    "# $\n",
    "p = re.compile('cat$')\n",
    "# $앞의 cat로 끝난다. (여러 줄의 문자열이라면 마지막 줄만 적용된다)\n",
    "m = p.match('ct') # 매치 NO\n",
    "m = p.match('cat') # 매치 YES\n",
    "print(m) # cat\n",
    "m = p.match('catdog') # 매치 NO\n",
    "m = p.match('dogcat') # 매치 NO (처음에 일치 안하면 none이므로)\n",
    "m = p.search('dogcat') # 서치 YES\n",
    "print(m) # cat\n",
    "\n",
    "# ^\n",
    "p = re.compile('^cat')\n",
    "# ^뒤의 cat로 시작한다.\n",
    "m = p.match('ct') # 매치 NO\n",
    "m = p.match('cat') # 매치 YES\n",
    "print(m) # cat\n",
    "m = p.match('caaaat') # 매치 NO\n",
    "m = p.match('catdog') # 매치 YES\n",
    "print(m) # cat"
   ]
  },
  {
   "cell_type": "markdown",
   "id": "038a37db",
   "metadata": {},
   "source": [
    "## t"
   ]
  },
  {
   "cell_type": "code",
   "execution_count": 12,
   "id": "7e10d1df",
   "metadata": {},
   "outputs": [],
   "source": [
    "import re\n",
    "\n",
    "p = re.compile('[a-z]+')\n",
    "# 알파벳 한 번 이상 반복되면 일치\n",
    "# 소문자 알파벳으로 되어있나"
   ]
  },
  {
   "cell_type": "markdown",
   "id": "7d75a1fd",
   "metadata": {},
   "source": [
    "### match()\n",
    "- 문자열의 처음부터 정규식과 매치되는 지를 조사"
   ]
  },
  {
   "cell_type": "code",
   "execution_count": 14,
   "id": "637e97d0",
   "metadata": {},
   "outputs": [
    {
     "name": "stdout",
     "output_type": "stream",
     "text": [
      "<re.Match object; span=(0, 6), match='python'>\n",
      "python\n",
      "None\n",
      "<re.Match object; span=(0, 3), match='pyt'>\n",
      "pyt\n",
      "None\n"
     ]
    }
   ],
   "source": [
    "m1 = p.match('python')\n",
    "print(m1)\n",
    "# <re.Match object; span=(0, 6), match='python'>\n",
    "# 0에서부터 6까지 전부 다 매치된다.\n",
    "print(m1.group())\n",
    "# 일치되는 문자열을 반환한다\n",
    "# python\n",
    "\n",
    "m2 = p.match('Python')\n",
    "print(m2)\n",
    "# None # P가 대문자이므로 매치 X\n",
    "# print(m2.group()) # err\n",
    "\n",
    "m3 = p.match('pytHon')\n",
    "print(m3)\n",
    "# <re.Match object; span=(0, 3), match='pyt'>\n",
    "# 0에서부터 2까지 전부 다 매치된다.\n",
    "print(m3.group())\n",
    "\n",
    "m4 = p.match('3 python')\n",
    "print(m4)\n",
    "# None # 숫자 3으로 시작하므로 매치 X\n",
    "# print(m4.group()) # err"
   ]
  },
  {
   "cell_type": "markdown",
   "id": "1830d491",
   "metadata": {},
   "source": [
    "### search()\n",
    "- 문자열의 처음부터 검색하는 것이 아니라 문자열 전체를 검색한다."
   ]
  },
  {
   "cell_type": "code",
   "execution_count": 17,
   "id": "db0d87a9",
   "metadata": {},
   "outputs": [
    {
     "name": "stdout",
     "output_type": "stream",
     "text": [
      "<re.Match object; span=(2, 8), match='python'>\n",
      "python\n"
     ]
    }
   ],
   "source": [
    "m = p.search('3 python')\n",
    "print(m)\n",
    "# <re.Match object; span=(2, 8), match='python'>\n",
    "print(m.group())"
   ]
  },
  {
   "cell_type": "markdown",
   "id": "a38c8a1e",
   "metadata": {},
   "source": [
    "### [문제] 전화번호 추출하기\n",
    "다음의 전화번호 데이터에서 전화번호만 추출하는 정규표현식을 작성하시오."
   ]
  },
  {
   "cell_type": "code",
   "execution_count": 36,
   "id": "9e76b84b",
   "metadata": {
    "scrolled": true
   },
   "outputs": [
    {
     "name": "stdout",
     "output_type": "stream",
     "text": [
      "010-1234-5678\n",
      "02.555.3333\n"
     ]
    }
   ],
   "source": [
    "import re\n",
    "\n",
    "phone = ['홍길동:010-1234-5678', '우리집, 02.555.3333']\n",
    "\n",
    "for p in phone:\n",
    "    s = re.compile('\\d{2,3}[-.]\\d{3,4}[-.]\\d{4}')\n",
    "    w = s.search(p)\n",
    "    # w = s.findall(p)\n",
    "    # w = s.finditer(p)\n",
    "    print(w.group())"
   ]
  },
  {
   "cell_type": "code",
   "execution_count": 33,
   "id": "68d177e4",
   "metadata": {},
   "outputs": [
    {
     "name": "stdout",
     "output_type": "stream",
     "text": [
      "010-1234-5678\n",
      "02.555.3333\n"
     ]
    }
   ],
   "source": [
    "# A.\n",
    "# 컴파일과 서치의 동시수행\n",
    "import re\n",
    "\n",
    "phone = ['홍길동:010-1234-5678', '우리집, 02.555.3333']\n",
    "\n",
    "for p in phone:\n",
    "    m = re.search('\\d{2,3}[-.]\\d{3,4}[-.]\\d{4}', p)\n",
    "    print(m.group())"
   ]
  },
  {
   "cell_type": "markdown",
   "id": "8d6b5aaa",
   "metadata": {},
   "source": [
    "### findall()"
   ]
  },
  {
   "cell_type": "code",
   "execution_count": 44,
   "id": "ac536150",
   "metadata": {},
   "outputs": [
    {
     "name": "stdout",
     "output_type": "stream",
     "text": [
      "['life', 'is', 'too', 'short']\n"
     ]
    }
   ],
   "source": [
    "import re\n",
    "\n",
    "p = re.compile('[a-z]+')\n",
    "result = p.findall('life is too short')\n",
    "print(result)"
   ]
  },
  {
   "cell_type": "markdown",
   "id": "9872a673",
   "metadata": {},
   "source": [
    "# 컴파일 옵션"
   ]
  },
  {
   "cell_type": "markdown",
   "id": "1dde0d2a",
   "metadata": {},
   "source": [
    "## DOTALL\n",
    "- dot(.) 메타문자가 줄바꿈 문자(\\n)을 포함하여 모든 문자와 매치한다"
   ]
  },
  {
   "cell_type": "code",
   "execution_count": 45,
   "id": "046ba865",
   "metadata": {},
   "outputs": [
    {
     "name": "stdout",
     "output_type": "stream",
     "text": [
      "None\n"
     ]
    }
   ],
   "source": [
    "import re\n",
    "\n",
    "m = re.match('a.b', 'a\\nb')\n",
    "print(m) # NONE\n",
    "\n",
    "# m = re.compile('a.b')\n",
    "# s = m.match('a\\nb')\n",
    "# print(s) # NONE"
   ]
  },
  {
   "cell_type": "code",
   "execution_count": 46,
   "id": "61a331cb",
   "metadata": {
    "scrolled": true
   },
   "outputs": [
    {
     "name": "stdout",
     "output_type": "stream",
     "text": [
      "<re.Match object; span=(0, 3), match='a\\nb'>\n"
     ]
    }
   ],
   "source": [
    "p = re.compile('a.b', re.DOTALL)\n",
    "m = p.match('a\\nb')\n",
    "print(m) # <re.Match object; span=(0, 3), match='a\\nb'>"
   ]
  },
  {
   "cell_type": "code",
   "execution_count": 49,
   "id": "cc3d6f83",
   "metadata": {
    "scrolled": false
   },
   "outputs": [
    {
     "name": "stdout",
     "output_type": "stream",
     "text": [
      "<re.Match object; span=(0, 12), match='hello\\npython'>\n"
     ]
    }
   ],
   "source": [
    "s = '''hello\n",
    "python'''\n",
    "\n",
    "p = re.compile('hello.python', re.DOTALL)\n",
    "m = p.match(s)\n",
    "print(m) # <re.Match object; span=(0, 12), match='hello\\npython'>"
   ]
  },
  {
   "cell_type": "markdown",
   "id": "b0ba063c",
   "metadata": {},
   "source": [
    "## IGNORECASE\n",
    "- 대소문자와 관계 없이 매치한다"
   ]
  },
  {
   "cell_type": "code",
   "execution_count": 50,
   "id": "bb7642e4",
   "metadata": {},
   "outputs": [
    {
     "name": "stdout",
     "output_type": "stream",
     "text": [
      "<re.Match object; span=(0, 6), match='Python'>\n"
     ]
    }
   ],
   "source": [
    "p = re.compile('[a-z]+', re.IGNORECASE)\n",
    "m = p.match('Python')\n",
    "print(m) # <re.Match object; span=(0, 6), match='Python'>"
   ]
  },
  {
   "cell_type": "markdown",
   "id": "96be8499",
   "metadata": {},
   "source": [
    "## MULTILINE\n",
    "\n",
    "<pre>\n",
    "^, $ 메타문자를 문자열의 각 줄마다 적용한다\n",
    "- ^ : 문자열의 처음\n",
    "- $ : 문자열의 마지막\n",
    "</pre>"
   ]
  },
  {
   "cell_type": "code",
   "execution_count": 56,
   "id": "73663dee",
   "metadata": {
    "scrolled": true
   },
   "outputs": [
    {
     "name": "stdout",
     "output_type": "stream",
     "text": [
      "['python one']\n"
     ]
    }
   ],
   "source": [
    "p = re.compile('^python\\s\\w+')\n",
    "# python이라는 단어로 시작, 공백 문자 하나, 문자 또는 숫자가 하나 이상 반복\n",
    "\n",
    "text = '''python one\n",
    "life is too short\n",
    "python two\n",
    "you need python\n",
    "python three'''\n",
    "\n",
    "m = p.findall(text)\n",
    "print(m) # ['python one']"
   ]
  },
  {
   "cell_type": "code",
   "execution_count": 24,
   "id": "9f912872",
   "metadata": {
    "scrolled": false
   },
   "outputs": [
    {
     "name": "stdout",
     "output_type": "stream",
     "text": [
      "['python one', 'python two', 'python three']\n"
     ]
    }
   ],
   "source": [
    "p = re.compile('^python\\s\\w+', re.MULTILINE)\n",
    "# python이라는 단어로 시작, 공백 문자 하나, 문자 또는 숫자가 하나 이상 반복\n",
    "\n",
    "text = '''python one\n",
    "life is too short\n",
    "python two\n",
    "you need python\n",
    "python three'''\n",
    "\n",
    "m = p.findall(text)\n",
    "print(m) # ['python one', 'python two', 'python three']"
   ]
  },
  {
   "cell_type": "markdown",
   "id": "c41f0684",
   "metadata": {},
   "source": [
    "# 백슬래시 문제"
   ]
  },
  {
   "cell_type": "code",
   "execution_count": 59,
   "id": "85a0a23a",
   "metadata": {},
   "outputs": [
    {
     "name": "stdout",
     "output_type": "stream",
     "text": [
      "None\n"
     ]
    }
   ],
   "source": [
    "# 역슬래시 2번 : X\n",
    "\n",
    "import re\n",
    "\n",
    "p = re.compile('\\\\section')\n",
    "m = p.search('What is \\section and example?')\n",
    "print(m) # None"
   ]
  },
  {
   "cell_type": "code",
   "execution_count": 60,
   "id": "48eb1be7",
   "metadata": {
    "scrolled": true
   },
   "outputs": [
    {
     "name": "stdout",
     "output_type": "stream",
     "text": [
      "<re.Match object; span=(8, 16), match='\\\\section'>\n"
     ]
    }
   ],
   "source": [
    "# 역슬래시 4번 : O\n",
    "\n",
    "import re\n",
    "\n",
    "p = re.compile('\\\\\\\\section')\n",
    "m = p.search('What is \\section and example?')\n",
    "print(m) # <re.Match object; span=(8, 16), match='\\\\section'>"
   ]
  },
  {
   "cell_type": "code",
   "execution_count": 63,
   "id": "84556d4e",
   "metadata": {},
   "outputs": [
    {
     "name": "stdout",
     "output_type": "stream",
     "text": [
      "<re.Match object; span=(8, 16), match='\\\\section'>\n"
     ]
    }
   ],
   "source": [
    "# r과 역슬래시 2번 : O\n",
    "\n",
    "import re\n",
    "\n",
    "p = re.compile(r'\\\\section')\n",
    "m = p.search('What is \\section and example?')\n",
    "print(m) # <re.Match object; span=(8, 16), match='\\\\section'>"
   ]
  },
  {
   "cell_type": "markdown",
   "id": "54273082",
   "metadata": {},
   "source": [
    "# 메타문자"
   ]
  },
  {
   "cell_type": "markdown",
   "id": "2c712a49",
   "metadata": {},
   "source": [
    "## |\n",
    "- or의 의미"
   ]
  },
  {
   "cell_type": "code",
   "execution_count": 27,
   "id": "808830fb",
   "metadata": {},
   "outputs": [
    {
     "name": "stdout",
     "output_type": "stream",
     "text": [
      "<re.Match object; span=(0, 4), match='Crow'>\n",
      "<re.Match object; span=(0, 5), match='Servo'>\n"
     ]
    }
   ],
   "source": [
    "p = re.compile('Crow|Servo')\n",
    "m1 = p.match('CrowServo')\n",
    "print(m1) # <re.Match object; span=(0, 4), match='Crow'>\n",
    "\n",
    "m2 = p.match('ServoCrow')\n",
    "print(m2) # <re.Match object; span=(0, 5), match='Servo'>"
   ]
  },
  {
   "cell_type": "markdown",
   "id": "b49ea66b",
   "metadata": {},
   "source": [
    "## \\b\n",
    "- 앞뒤가 공백으로 된 단어와 일치 \n",
    "- Raw String 문자(r)을 붙여줘야 함\n",
    "- cf) \\s는 공백 포함 여부를 검사 // \\b는 공백 구분 여부를 검사"
   ]
  },
  {
   "cell_type": "code",
   "execution_count": 1,
   "id": "6c65646d",
   "metadata": {
    "scrolled": true
   },
   "outputs": [
    {
     "name": "stdout",
     "output_type": "stream",
     "text": [
      "<re.Match object; span=(3, 8), match='class'>\n",
      "None\n",
      "None\n"
     ]
    }
   ],
   "source": [
    "import re\n",
    "p = re.compile(r'\\bclass\\b')\n",
    "# 양쪽에 \\b를 써야한다\n",
    "\n",
    "print(p.search('no class at all'))\n",
    "# <re.Match object; span=(3, 8), match='class'>\n",
    "print(p.search('the declassified algorithm')) # None\n",
    "print(p.search('one subclass is'))\n",
    "# None"
   ]
  },
  {
   "cell_type": "markdown",
   "id": "df42a5e9",
   "metadata": {},
   "source": [
    "- \\b와 \\s의 차이"
   ]
  },
  {
   "cell_type": "code",
   "execution_count": 2,
   "id": "9b7a1ac5",
   "metadata": {
    "scrolled": true
   },
   "outputs": [
    {
     "name": "stdout",
     "output_type": "stream",
     "text": [
      "<re.Match object; span=(4, 7), match='abc'>\n"
     ]
    }
   ],
   "source": [
    "import re\n",
    "\n",
    "# 공백을 포함하지 않고 매치 결과 반환\n",
    "m = re.search(r'[a-zA-Z]\\w*\\b', '123 abc 123')\n",
    "# 알파벳이 있고, 문자가 0~무한번 반복, 공백으로 구분\n",
    "print(m) # <re.Match object; span=(4, 7), match='abc'>"
   ]
  },
  {
   "cell_type": "code",
   "execution_count": 3,
   "id": "9c694eb3",
   "metadata": {},
   "outputs": [
    {
     "name": "stdout",
     "output_type": "stream",
     "text": [
      "<re.Match object; span=(4, 8), match='abc '>\n"
     ]
    }
   ],
   "source": [
    "import re\n",
    "\n",
    "# 공백을 포함해서 매치 결과 반환\n",
    "m = re.search(r'[a-zA-Z]\\w*\\s', '123 abc 123')\n",
    "# 알파벳이 있고, 문자가 0~무한번 반복, 공백 포함\n",
    "print(m) # <re.Match object; span=(4, 8), match='abc '>"
   ]
  },
  {
   "cell_type": "markdown",
   "id": "19f39644",
   "metadata": {},
   "source": [
    "## \\\n",
    "- 정규표현식에서 사용하는 문자 그대로 표현하려면 앞에 \\를 붙임"
   ]
  },
  {
   "cell_type": "code",
   "execution_count": 9,
   "id": "4e0d003a",
   "metadata": {},
   "outputs": [
    {
     "name": "stdout",
     "output_type": "stream",
     "text": [
      "<re.Match object; span=(4, 9), match='안녕하세요'>\n"
     ]
    }
   ],
   "source": [
    "m = re.search('안녕하세요?', '여러분 안녕하세요?')\n",
    "# ?는 있거나 없거나\n",
    "print(m) # <re.Match object; span=(4, 9), match='안녕하세요'>"
   ]
  },
  {
   "cell_type": "code",
   "execution_count": 13,
   "id": "4687b761",
   "metadata": {
    "scrolled": true
   },
   "outputs": [
    {
     "name": "stdout",
     "output_type": "stream",
     "text": [
      "<re.Match object; span=(4, 10), match='안녕하세요?'>\n"
     ]
    }
   ],
   "source": [
    "m = re.search('안녕하세요\\?', '여러분 안녕하세요?')\n",
    "print(m) # <re.Match object; span=(4, 10), match='안녕하세요?'>"
   ]
  },
  {
   "cell_type": "markdown",
   "id": "de50537e",
   "metadata": {},
   "source": [
    "# 그룹핑"
   ]
  },
  {
   "cell_type": "code",
   "execution_count": 3,
   "id": "1ecf0372",
   "metadata": {
    "scrolled": true
   },
   "outputs": [
    {
     "name": "stdout",
     "output_type": "stream",
     "text": [
      "<re.Match object; span=(0, 9), match='ABCABCABC'>\n",
      "ABCABCABC\n",
      "ABC\n"
     ]
    }
   ],
   "source": [
    "import re\n",
    "\n",
    "p = re.compile('(ABC)+')\n",
    "# ABC가 하나의 그룹으로 묶였고, ABC가 한 번 이상 반복되면 일치\n",
    "m = p.search('ABCABCABC OK?')\n",
    "\n",
    "print(m) # <re.Match object; span=(0, 9), match='ABCABCABC'>\n",
    "print(m.group(0)) # ABCABCABC # 일치된 전체 문자열 반환\n",
    "print(m.group(1)) # ABC # 첫 번째 그룹에 해당하는 문자열 반환"
   ]
  },
  {
   "cell_type": "code",
   "execution_count": 19,
   "id": "adf39706",
   "metadata": {},
   "outputs": [
    {
     "name": "stdout",
     "output_type": "stream",
     "text": [
      "<re.Match object; span=(0, 18), match='park 010-1234-5678'>\n",
      "park 010-1234-5678\n",
      "park\n",
      "010-1234-5678\n"
     ]
    }
   ],
   "source": [
    "p = re.compile('(\\w+)\\s+(\\d+[-]\\d+[-]\\d+)')\n",
    "# (숫자 또는 문자가 하나 이상 반복되는 그룹), 공백이 하나 이상, (숫자가 하나 이상, -, 숫자가 하나 이상, -, 숫자가 하나 이상인 그룹)\n",
    "m = p.search('park 010-1234-5678')\n",
    "print(m) # re.Match object; span=(0, 18), match='park 010-1234-5678'>\n",
    "print(m.group(0)) # park 010-1234-5678\n",
    "print(m.group(1)) # 이름만 # park\n",
    "print(m.group(2)) # 전화번호만 # 010-1234-5678"
   ]
  },
  {
   "cell_type": "code",
   "execution_count": 29,
   "id": "756ce013",
   "metadata": {
    "scrolled": true
   },
   "outputs": [
    {
     "name": "stdout",
     "output_type": "stream",
     "text": [
      "<re.Match object; span=(0, 18), match='park 010-1234-5678'>\n",
      "park 010-1234-5678\n",
      "park\n",
      "010-1234-5678\n",
      "010\n"
     ]
    }
   ],
   "source": [
    "# 그룹이 중첩된 경우에는 바깥쪽부터 시작하여 안쪽으로 들어갈수록 인덱스가 증가\n",
    "p = re.compile('(\\w+)\\s+((\\d+)[-]\\d+[-]\\d+)')\n",
    "m = p.search('park 010-1234-5678')\n",
    "\n",
    "print(m)\n",
    "print(m.group(0)) # park 010-1234-5678\n",
    "print(m.group(1)) # 이름만 # park\n",
    "print(m.group(2)) # 전화번호만 # 010-1234-5678\n",
    "print(m.group(3)) # 국번번호만 # 010\n",
    "# 이름이 group1\n",
    "# 번호가 group2\n",
    "# 국번번호가 group3"
   ]
  },
  {
   "cell_type": "markdown",
   "id": "5612d4eb",
   "metadata": {},
   "source": [
    "## \\번호를 이용한 그룹 재참조"
   ]
  },
  {
   "cell_type": "code",
   "execution_count": 32,
   "id": "de125fc2",
   "metadata": {},
   "outputs": [
    {
     "name": "stdout",
     "output_type": "stream",
     "text": [
      "abab\n",
      "a\n",
      "b\n"
     ]
    }
   ],
   "source": [
    "m = re.match(r'(a)(b)\\1\\2', 'abab')\n",
    "# 그룹핑된 문자열 a와 문자열 b의 일치 여부를 찾는 것\n",
    "# 그룹을 다시 재참조하였으므로 \\1는 a를 가리키고, \\2는 b를 가리킨다.\n",
    "# <re.Match object; span=(0, 4), match='abab'>\n",
    "print(m.group())\n",
    "print(m.group(1))\n",
    "print(m.group(2))"
   ]
  },
  {
   "cell_type": "code",
   "execution_count": 40,
   "id": "a83352f2",
   "metadata": {},
   "outputs": [
    {
     "name": "stdout",
     "output_type": "stream",
     "text": [
      "the the\n"
     ]
    }
   ],
   "source": [
    "# 2개의 동일한 단어를 연속적으로 사용해야 일치\n",
    "# 똑같은 문자열이 두 번 사용되는 것 찾기\n",
    "\n",
    "p = re.compile(r'(\\b\\w+)\\s+\\1')\n",
    "# (단어의 앞뒤가 공백이면서 숫자 또는 문자가 한 번 이상 반복된 것의 그룹), 공백이 하나 이상, (1번 그룹)\n",
    "# \\b는 단어 앞뒤로 공백이 있는 지를 찾는 것 (공백으로 구분된 단어를 찾는 것)\n",
    "# \\s는 공백이 있는 지를 찾는 것\n",
    "p.search('Paris in the the spring')\n",
    "# <re.Match object; span=(9, 16), match='the the'>\n",
    "print(p.search('Paris in the the spring').group())\n",
    "# 'the the'"
   ]
  },
  {
   "cell_type": "code",
   "execution_count": 44,
   "id": "d3fbb91d",
   "metadata": {},
   "outputs": [
    {
     "name": "stdout",
     "output_type": "stream",
     "text": [
      "park\n"
     ]
    }
   ],
   "source": [
    "# 그룹핑에 이름 붙이기\n",
    "# (?P<그룹 이름>정규표현식)\n",
    "\n",
    "p = re.compile('(?P<name>\\w+)\\s+((\\d+)[-]\\d+[-]\\d+)')\n",
    "m = p.search('park 010-1234-5678')\n",
    "print(m.group('name')) # park"
   ]
  },
  {
   "cell_type": "markdown",
   "id": "8283351d",
   "metadata": {},
   "source": [
    "# 전방탐색 / 후방탐색 (조건부 탐색)"
   ]
  },
  {
   "cell_type": "markdown",
   "id": "4c6a447c",
   "metadata": {},
   "source": [
    "## 긍정 전방 탐색"
   ]
  },
  {
   "cell_type": "code",
   "execution_count": 36,
   "id": "2ee43460",
   "metadata": {},
   "outputs": [
    {
     "name": "stdout",
     "output_type": "stream",
     "text": [
      "http\n"
     ]
    }
   ],
   "source": [
    "import re\n",
    "\n",
    "p = re.compile('.+(?=:)')\n",
    "# 역슬래시 제외한 모든 문자열이 한 번 이상 반복\n",
    "# 표현식 1의 문자열 .+의 뒤와 표현식 2의 문자열 :이 매치된다면, 표현식 1을 매치 결과로 반환한다.\n",
    "# protocol의 값만 추출할 때 사용 가능\n",
    "\n",
    "m = p.search('http://www.naver.com')\n",
    "print(m.group()) # http"
   ]
  },
  {
   "cell_type": "markdown",
   "id": "37e46295",
   "metadata": {},
   "source": [
    "## 부정 전방 탐색"
   ]
  },
  {
   "cell_type": "code",
   "execution_count": 39,
   "id": "546b016b",
   "metadata": {},
   "outputs": [
    {
     "name": "stdout",
     "output_type": "stream",
     "text": [
      "python.exe\n",
      "sysinfo.cf\n"
     ]
    }
   ],
   "source": [
    "import re\n",
    "\n",
    "# 파일 이름의 확장자 중 bat 파일만 제외하고 추출하기\n",
    "file_names = ['autoexec.bat', 'python.exe', 'sysinfo.cf']\n",
    "\n",
    "p = re.compile('.+[.](?!bat).+')\n",
    "# 역슬래시 제외한 모든 문자열이 한 번 이상 반복되다가\n",
    "# 표현식 1의 문자열 .+의 뒤와 표현식 2의 문자열 bat와 매치되지 않으면, 표현식 1을 매치 결과로 반환한다.\n",
    "# 역슬래시 제외한 모든 문자열이 한 번 이상 반복\n",
    "\n",
    "for file in file_names:\n",
    "    m = p.search(file)\n",
    "    if m :\n",
    "        print(m.group())\n",
    "        \n",
    "# python.exe\n",
    "# sysinfo.cf"
   ]
  },
  {
   "cell_type": "markdown",
   "id": "523db4ce",
   "metadata": {},
   "source": [
    "## 긍정 후방 탐색"
   ]
  },
  {
   "cell_type": "code",
   "execution_count": 40,
   "id": "d6827cf1",
   "metadata": {},
   "outputs": [
    {
     "name": "stdout",
     "output_type": "stream",
     "text": [
      "23.45\n"
     ]
    }
   ],
   "source": [
    "import re\n",
    "\n",
    "p = re.compile('(?<=\\$)[0-9]+[.][0-9]+')\n",
    "# 숫자가 하나 이상, . , 숫자가 하나 이상\n",
    "# 표현식 2인 [0-9]+[.][0-9]+ 앞이 표현식 1의 문자열 \\$와 매치하면, 표현식 2를 매치 결과로 반환한다.\n",
    "m = p.search('ABC01: $23.45')\n",
    "print(m.group()) # 23.45"
   ]
  },
  {
   "cell_type": "markdown",
   "id": "fd138e36",
   "metadata": {},
   "source": [
    "## 부정 후방 탐색"
   ]
  },
  {
   "cell_type": "code",
   "execution_count": null,
   "id": "0a03a443",
   "metadata": {},
   "outputs": [],
   "source": []
  },
  {
   "cell_type": "markdown",
   "id": "d5a60f2b",
   "metadata": {},
   "source": [
    "# 문자열 바꾸기"
   ]
  },
  {
   "cell_type": "code",
   "execution_count": 48,
   "id": "98d028f4",
   "metadata": {},
   "outputs": [
    {
     "name": "stdout",
     "output_type": "stream",
     "text": [
      "colour socks and red shoes\n"
     ]
    }
   ],
   "source": [
    "p = re.compile('blue|white|red')\n",
    "s = p.sub('colour', 'blue socks and red shoes', count=1)\n",
    "# count=1 # 제일 먼저 발견된 것 하나만 바꾸겠다\n",
    "print(s)"
   ]
  },
  {
   "cell_type": "markdown",
   "id": "774d97cd",
   "metadata": {},
   "source": [
    "# 한글 찾기 / 한글 제거"
   ]
  },
  {
   "cell_type": "code",
   "execution_count": 42,
   "id": "1c22c7ff",
   "metadata": {
    "scrolled": true
   },
   "outputs": [
    {
     "name": "stdout",
     "output_type": "stream",
     "text": [
      "['한글이에요', '안녕하세요']\n"
     ]
    }
   ],
   "source": [
    "s = '한글이에요. good morning. 안녕하세요'\n",
    "m = re.findall('[ㄱ-힣]+', s)\n",
    "print(m)\n",
    "# ['한글이에요', '안녕하세요']"
   ]
  },
  {
   "cell_type": "code",
   "execution_count": 46,
   "id": "f97a86e9",
   "metadata": {},
   "outputs": [
    {
     "name": "stdout",
     "output_type": "stream",
     "text": [
      "['. good morning. ']\n"
     ]
    }
   ],
   "source": [
    "s = '한글이에요. good morning. 안녕하세요'\n",
    "m = re.findall('[^ㄱ-힣]+', s)\n",
    "print(m)\n",
    "# ['. good morning. ']"
   ]
  },
  {
   "cell_type": "code",
   "execution_count": 47,
   "id": "1a3ec046",
   "metadata": {},
   "outputs": [
    {
     "name": "stdout",
     "output_type": "stream",
     "text": [
      "['good', 'morning']\n"
     ]
    }
   ],
   "source": [
    "s = '한글이에요. good morning. 안녕하세요'\n",
    "m = re.findall('[^ㄱ-힣.\\s]+', s)\n",
    "# 한글, ., 공백 모두 제외\n",
    "print(m)\n",
    "# ['good', 'morning']"
   ]
  }
 ],
 "metadata": {
  "kernelspec": {
   "display_name": "Python 3 (ipykernel)",
   "language": "python",
   "name": "python3"
  },
  "language_info": {
   "codemirror_mode": {
    "name": "ipython",
    "version": 3
   },
   "file_extension": ".py",
   "mimetype": "text/x-python",
   "name": "python",
   "nbconvert_exporter": "python",
   "pygments_lexer": "ipython3",
   "version": "3.9.13"
  },
  "toc": {
   "base_numbering": 1,
   "nav_menu": {},
   "number_sections": true,
   "sideBar": true,
   "skip_h1_title": false,
   "title_cell": "Table of Contents",
   "title_sidebar": "Contents",
   "toc_cell": false,
   "toc_position": {
    "height": "calc(100% - 180px)",
    "left": "10px",
    "top": "150px",
    "width": "341.3px"
   },
   "toc_section_display": true,
   "toc_window_display": true
  }
 },
 "nbformat": 4,
 "nbformat_minor": 5
}
