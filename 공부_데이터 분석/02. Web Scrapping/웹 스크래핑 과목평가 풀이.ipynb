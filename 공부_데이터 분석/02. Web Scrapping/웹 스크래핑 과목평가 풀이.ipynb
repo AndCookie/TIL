{
 "cells": [
  {
   "cell_type": "markdown",
   "id": "16f65e6f",
   "metadata": {},
   "source": [
    "# 네이버 날씨 정보 스크래핑 하기"
   ]
  },
  {
   "cell_type": "code",
   "execution_count": null,
   "id": "dad15e11",
   "metadata": {},
   "outputs": [],
   "source": [
    "import datetime\n",
    "from bs4 import BeautifulSoup as bs\n",
    "import requests as req\n",
    "\n",
    "res = req.get(\"https://search.naver.com/search.naver?query=날씨\")\n",
    "html = res.text\n",
    "soup = bs(html, \"html.parser\")\n",
    "\n",
    "location = soup.find(\"div\", {\"class\": \"title_area _area_panel\"}).find('h2', {'class':'title'}).text\n",
    "weather = soup.find(\"div\", attrs={'class':'weather_main'}).text\n",
    "temperature = soup.find(\"div\", attrs={'class':'temperature_text'}).text\n",
    "lowest = soup.find('span',{'class':'lowest'}).text\n",
    "highest = soup.find('span', {'class':'highest'}).text\n",
    "dust = soup.find('li',{'class':'item_today level2'}).text\n",
    "\n",
    "while True:\n",
    "    print()\n",
    "    print(\"=\" * 30)\n",
    "    print(\"날씨 확인 프로그램\")\n",
    "    print(\"=\" * 30)\n",
    "    print(\"접속 시간:\", datetime.datetime.now())\n",
    "    print(\"접속 위치:\", location.lstrip())\n",
    "    print(\"-\" * 30)\n",
    "    print(\"1. 현재 날씨 및 온도 확인\")\n",
    "    print(\"2. 최저/최고 온도 확인\")\n",
    "    print(\"3. 미세먼지 확인\")\n",
    "    print(\"0. 종료\")\n",
    "    print(\"-\" * 30)\n",
    "    try:\n",
    "        sel = int(input(\"번호를 입력하세요.\"))\n",
    "        print()\n",
    "        if sel == 0:\n",
    "            print(\"프로그램을 종료합니다.\")\n",
    "            break\n",
    "        elif sel == 1:\n",
    "            print(\"=\" * 30)\n",
    "            print(\"현재 날씨 확인\")\n",
    "            print(\"=\" * 30)\n",
    "            print(\"-\" * 30)\n",
    "            print(weather,'/',temperature)\n",
    "            print(\"-\" * 30)\n",
    "        elif sel == 2:\n",
    "            print(\"=\" * 30)\n",
    "            print(\"최저/최고 기온 확인\")\n",
    "            print(\"=\" * 30)\n",
    "            print(\"-\" * 30)\n",
    "            print(\"최저 기온:\", lowest[4:])\n",
    "            print(\"최고 기온:\", highest[4:])\n",
    "            print(\"-\" * 30)\n",
    "        elif sel == 3:\n",
    "            print(\"=\" * 30)\n",
    "            print(\"미세먼지 확인\")\n",
    "            print(\"=\" * 30)\n",
    "            print(\"-\" * 30)\n",
    "            print(dust.strip()[5:])\n",
    "        else:\n",
    "            print(\"다시 입력해주세요.\")\n",
    "    except:\n",
    "        print(\"오류 발생.\")\n",
    "\n"
   ]
  },
  {
   "cell_type": "markdown",
   "id": "bd8db57f",
   "metadata": {},
   "source": [
    "# 네이버에서 bts이미지를 검색한 후 나온 결과 중 5개의 이미지를 저장하기"
   ]
  },
  {
   "cell_type": "code",
   "execution_count": null,
   "id": "239683e4",
   "metadata": {},
   "outputs": [],
   "source": [
    "import os\n",
    "import time\n",
    "\n",
    "import requests\n",
    "from bs4 import BeautifulSoup\n",
    "\n",
    "from webdriver_manager.chrome import ChromeDriverManager\n",
    "from selenium.webdriver.chrome.service import Service\n",
    "from selenium.webdriver import Chrome, ChromeOptions\n",
    "\n",
    "url ='https://search.naver.com/search.naver?where=image&sm=tab_jum&query=bts'\n",
    "headers = {'User-Agent' : 'Mozilla/5.0 (Windows NT 10.0; Win64; x64) AppleWebKit/537.36 (KHTML, like Gecko) Chrome/96.0.4664.45 Safari/537.36'}\n",
    "\n",
    "driver = Chrome(service=Service(ChromeDriverManager().install()), options=ChromeOptions())\n",
    "driver.get(url)\n",
    "time.sleep(1)\n",
    "\n",
    "soup = BeautifulSoup(driver.page_source)\n",
    "bts_imgs = soup.find_all('img', attrs={'class' : '_image _listImage'})\n",
    "\n",
    "print('그림의 개수 :', len(bts_imgs)) # 첫 화면에 보이는 이미지의 개수=> 더 많음\n",
    "\n",
    "# 이미지 저장할 폴더 생성\n",
    "img_dir = './bts_img/'\n",
    "\n",
    "if not os.path.exists(img_dir) : # 디렉토리가 없으면 생성\n",
    "    os.makedirs(img_dir) \n",
    "    print('폴더 생성')\n",
    "else : \n",
    "    print('폴더가 존재함')\n",
    "    \n",
    "for i, image in enumerate(bts_imgs) :\n",
    "    img_url = image['src']\n",
    "    \n",
    "    if(not img_url.startswith('http')) : continue\n",
    "    \n",
    "    img_src = requests.get(img_url, headers=headers)\n",
    "    img_src.raise_for_status()\n",
    "    \n",
    "    with open(img_dir + 'bts_{}.jpg'.format(i), 'wb') as f:\n",
    "        print(img_url)\n",
    "        f.write(img_src.content)\n",
    "        if i >= 10 : break;\n",
    "        \n",
    "print('BTS 사진 저장 완료')    "
   ]
  },
  {
   "cell_type": "markdown",
   "id": "618531bf",
   "metadata": {},
   "source": [
    "# 멜론 사이트 최신곡 검색"
   ]
  },
  {
   "cell_type": "code",
   "execution_count": null,
   "id": "7b84440d",
   "metadata": {},
   "outputs": [],
   "source": [
    "import requests\n",
    "from bs4 import BeautifulSoup\n",
    "import pandas as pd\n",
    "import numpy as np\n",
    "\n",
    "url = 'https://www.melon.com/new/index.htm'\n",
    "headers = {'User-Agent' : 'Mozilla/5.0 (Windows NT 10.0; Win64; x64) AppleWebKit/537.36 (KHTML, like Gecko) Chrome/96.0.4664.45 Safari/537.36'}\n",
    "response = requests.get(url, headers=headers)\n",
    "bs = BeautifulSoup(response.text, 'html.parser')\n",
    "\n",
    "song_list = bs.find_all(\"tr\")\n",
    "titles = []\n",
    "singers = []\n",
    "albums = []\n",
    "count = 0\n",
    "for rank, song in enumerate(song_list, 1):\n",
    "    # class = \"wrap_song_info\" 속성을 갖는 테그가 2개여서 find_all로 검색\n",
    "    song_info = song.find_all('div',attrs={'class':'wrap_song_info'})\n",
    "    #print(len(song_info))\n",
    "    if not song_info: # song_info 값이 None인 경우 skip (노래 정보를 갖고 있는 tr 태그가 아닌경우)\n",
    "        continue\n",
    "    \n",
    "    count += 1\n",
    "    if count > 10: break\n",
    "        \n",
    "    titles.append(song_info[0].find('div',attrs={'class':'ellipsis rank01'}).find('a').text)\n",
    "    singers.append(song_info[0].find('div',attrs={'class':'ellipsis rank02'}).find('a').text)\n",
    "    albums.append(song_info[1].find('div',attrs={'class':'ellipsis rank03'}).find('a').text)\n",
    "    \n",
    "music_rank_df = pd.DataFrame({'곡목':titles, '가수':singers, '앨범':albums}, index=np.arange(1,11))\n",
    "music_rank_df"
   ]
  },
  {
   "cell_type": "markdown",
   "id": "e0b2d02d",
   "metadata": {},
   "source": [
    "# 대문자 시작 단어 찾기"
   ]
  },
  {
   "cell_type": "code",
   "execution_count": null,
   "id": "ebfa83f0",
   "metadata": {},
   "outputs": [],
   "source": [
    "import re\n",
    "\n",
    "s = 'Edit the Expression & Text to see matches. Roll over matches or the expression for details. PCRE & JavaScript flavors of RegEx are supported. Validate your expression with Tests mode.'\n",
    "\n",
    "m = re.findall('[A-Z]\\w+', s)\n",
    "print(m)"
   ]
  },
  {
   "cell_type": "markdown",
   "id": "be1123b8",
   "metadata": {},
   "source": [
    "# 이메일 주소 추출하기"
   ]
  },
  {
   "cell_type": "code",
   "execution_count": null,
   "id": "54d795b8",
   "metadata": {},
   "outputs": [],
   "source": [
    "import re\n",
    "\n",
    "s = 'Ryan has sent an invoice email to john.d@yahoo.com by using his email id ryan.arjun@gmail.com and he also shared a copy to his boss rosy.gray@amazon.co.uk on the cc part.'\n",
    "\n",
    "p = re.compile('[a-zA-Z]\\w*[.]?\\w*@[a-zA-Z]\\w*[.]\\w+[.]?\\w*')\n",
    "m = p.findall(s)\n",
    "print(m)"
   ]
  }
 ],
 "metadata": {
  "kernelspec": {
   "display_name": "Python 3 (ipykernel)",
   "language": "python",
   "name": "python3"
  },
  "language_info": {
   "codemirror_mode": {
    "name": "ipython",
    "version": 3
   },
   "file_extension": ".py",
   "mimetype": "text/x-python",
   "name": "python",
   "nbconvert_exporter": "python",
   "pygments_lexer": "ipython3",
   "version": "3.9.13"
  },
  "toc": {
   "base_numbering": 1,
   "nav_menu": {},
   "number_sections": true,
   "sideBar": true,
   "skip_h1_title": false,
   "title_cell": "Table of Contents",
   "title_sidebar": "Contents",
   "toc_cell": false,
   "toc_position": {},
   "toc_section_display": true,
   "toc_window_display": false
  }
 },
 "nbformat": 4,
 "nbformat_minor": 5
}
