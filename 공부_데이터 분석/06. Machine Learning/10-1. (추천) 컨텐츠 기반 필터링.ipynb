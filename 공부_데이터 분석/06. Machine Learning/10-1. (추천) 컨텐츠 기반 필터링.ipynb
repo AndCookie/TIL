{
 "cells": [
  {
   "cell_type": "code",
   "execution_count": null,
   "id": "4ffa622a",
   "metadata": {},
   "outputs": [],
   "source": [
    "# 장르 속성을 이용한 영화 컨텐츠 기반 필터링"
   ]
  },
  {
   "cell_type": "markdown",
   "id": "68101139",
   "metadata": {},
   "source": [
    "# 데이터 로드 및 확인\n",
    "- imdb 닷컴에 영화 관련 데이터 조회 가능 (예산, 평점, 시놉시스, 장르 등)\n",
    "- genres / keywords는 리스트 안의 딕셔너리 객체로 되어있으므로 전처리 후 키워드 값만 남겨두어야한다."
   ]
  },
  {
   "cell_type": "code",
   "execution_count": 1,
   "id": "7d2da787",
   "metadata": {},
   "outputs": [
    {
     "name": "stdout",
     "output_type": "stream",
     "text": [
      "(4803, 20)\n"
     ]
    },
    {
     "data": {
      "text/html": [
       "<div>\n",
       "<style scoped>\n",
       "    .dataframe tbody tr th:only-of-type {\n",
       "        vertical-align: middle;\n",
       "    }\n",
       "\n",
       "    .dataframe tbody tr th {\n",
       "        vertical-align: top;\n",
       "    }\n",
       "\n",
       "    .dataframe thead th {\n",
       "        text-align: right;\n",
       "    }\n",
       "</style>\n",
       "<table border=\"1\" class=\"dataframe\">\n",
       "  <thead>\n",
       "    <tr style=\"text-align: right;\">\n",
       "      <th></th>\n",
       "      <th>budget</th>\n",
       "      <th>genres</th>\n",
       "      <th>homepage</th>\n",
       "      <th>id</th>\n",
       "      <th>keywords</th>\n",
       "      <th>original_language</th>\n",
       "      <th>original_title</th>\n",
       "      <th>overview</th>\n",
       "      <th>popularity</th>\n",
       "      <th>production_companies</th>\n",
       "      <th>production_countries</th>\n",
       "      <th>release_date</th>\n",
       "      <th>revenue</th>\n",
       "      <th>runtime</th>\n",
       "      <th>spoken_languages</th>\n",
       "      <th>status</th>\n",
       "      <th>tagline</th>\n",
       "      <th>title</th>\n",
       "      <th>vote_average</th>\n",
       "      <th>vote_count</th>\n",
       "    </tr>\n",
       "  </thead>\n",
       "  <tbody>\n",
       "    <tr>\n",
       "      <th>0</th>\n",
       "      <td>237000000</td>\n",
       "      <td>[{\"id\": 28, \"name\": \"Action\"}, {\"id\": 12, \"nam...</td>\n",
       "      <td>http://www.avatarmovie.com/</td>\n",
       "      <td>19995</td>\n",
       "      <td>[{\"id\": 1463, \"name\": \"culture clash\"}, {\"id\":...</td>\n",
       "      <td>en</td>\n",
       "      <td>Avatar</td>\n",
       "      <td>In the 22nd century, a paraplegic Marine is di...</td>\n",
       "      <td>150.437577</td>\n",
       "      <td>[{\"name\": \"Ingenious Film Partners\", \"id\": 289...</td>\n",
       "      <td>[{\"iso_3166_1\": \"US\", \"name\": \"United States o...</td>\n",
       "      <td>2009-12-10</td>\n",
       "      <td>2787965087</td>\n",
       "      <td>162.0</td>\n",
       "      <td>[{\"iso_639_1\": \"en\", \"name\": \"English\"}, {\"iso...</td>\n",
       "      <td>Released</td>\n",
       "      <td>Enter the World of Pandora.</td>\n",
       "      <td>Avatar</td>\n",
       "      <td>7.2</td>\n",
       "      <td>11800</td>\n",
       "    </tr>\n",
       "  </tbody>\n",
       "</table>\n",
       "</div>"
      ],
      "text/plain": [
       "      budget                                             genres  \\\n",
       "0  237000000  [{\"id\": 28, \"name\": \"Action\"}, {\"id\": 12, \"nam...   \n",
       "\n",
       "                      homepage     id  \\\n",
       "0  http://www.avatarmovie.com/  19995   \n",
       "\n",
       "                                            keywords original_language  \\\n",
       "0  [{\"id\": 1463, \"name\": \"culture clash\"}, {\"id\":...                en   \n",
       "\n",
       "  original_title                                           overview  \\\n",
       "0         Avatar  In the 22nd century, a paraplegic Marine is di...   \n",
       "\n",
       "   popularity                               production_companies  \\\n",
       "0  150.437577  [{\"name\": \"Ingenious Film Partners\", \"id\": 289...   \n",
       "\n",
       "                                production_countries release_date     revenue  \\\n",
       "0  [{\"iso_3166_1\": \"US\", \"name\": \"United States o...   2009-12-10  2787965087   \n",
       "\n",
       "   runtime                                   spoken_languages    status  \\\n",
       "0    162.0  [{\"iso_639_1\": \"en\", \"name\": \"English\"}, {\"iso...  Released   \n",
       "\n",
       "                       tagline   title  vote_average  vote_count  \n",
       "0  Enter the World of Pandora.  Avatar           7.2       11800  "
      ]
     },
     "execution_count": 1,
     "metadata": {},
     "output_type": "execute_result"
    }
   ],
   "source": [
    "import pandas as pd\n",
    "import numpy as np\n",
    "import warnings\n",
    "\n",
    "warnings.filterwarnings('ignore')\n",
    "movies = pd.read_csv('tmdb_5000_movies.csv')\n",
    "print(movies.shape)\n",
    "movies.head(1)"
   ]
  },
  {
   "cell_type": "markdown",
   "id": "33e89933",
   "metadata": {},
   "source": [
    "# 장르 속성을 이용한 영화 콘텐츠 기반 필터링"
   ]
  },
  {
   "cell_type": "code",
   "execution_count": 2,
   "id": "5f03de34",
   "metadata": {},
   "outputs": [],
   "source": [
    "# 장르 유사성으로 추천하는 알고리즘"
   ]
  },
  {
   "cell_type": "markdown",
   "id": "82c9aeb1",
   "metadata": {},
   "source": [
    "## 분석에 사용할 주요 컬럼 추출\n",
    "- id, title, genres, vote_average(평균 평점), vote_count(평점 투표수), popularity(영화 인기도), keyword, overview(영화 개요)"
   ]
  },
  {
   "cell_type": "code",
   "execution_count": 3,
   "id": "2ea13862",
   "metadata": {},
   "outputs": [
    {
     "data": {
      "text/plain": [
       "Index(['budget', 'genres', 'homepage', 'id', 'keywords', 'original_language',\n",
       "       'original_title', 'overview', 'popularity', 'production_companies',\n",
       "       'production_countries', 'release_date', 'revenue', 'runtime',\n",
       "       'spoken_languages', 'status', 'tagline', 'title', 'vote_average',\n",
       "       'vote_count'],\n",
       "      dtype='object')"
      ]
     },
     "execution_count": 3,
     "metadata": {},
     "output_type": "execute_result"
    }
   ],
   "source": [
    "movies.columns"
   ]
  },
  {
   "cell_type": "code",
   "execution_count": 4,
   "id": "bab34ad8",
   "metadata": {},
   "outputs": [
    {
     "data": {
      "text/html": [
       "<div>\n",
       "<style scoped>\n",
       "    .dataframe tbody tr th:only-of-type {\n",
       "        vertical-align: middle;\n",
       "    }\n",
       "\n",
       "    .dataframe tbody tr th {\n",
       "        vertical-align: top;\n",
       "    }\n",
       "\n",
       "    .dataframe thead th {\n",
       "        text-align: right;\n",
       "    }\n",
       "</style>\n",
       "<table border=\"1\" class=\"dataframe\">\n",
       "  <thead>\n",
       "    <tr style=\"text-align: right;\">\n",
       "      <th></th>\n",
       "      <th>id</th>\n",
       "      <th>title</th>\n",
       "      <th>genres</th>\n",
       "      <th>vote_average</th>\n",
       "      <th>vote_count</th>\n",
       "      <th>popularity</th>\n",
       "      <th>keywords</th>\n",
       "      <th>overview</th>\n",
       "    </tr>\n",
       "  </thead>\n",
       "  <tbody>\n",
       "    <tr>\n",
       "      <th>0</th>\n",
       "      <td>19995</td>\n",
       "      <td>Avatar</td>\n",
       "      <td>[{\"id\": 28, \"name\": \"Action\"}, {\"id\": 12, \"nam...</td>\n",
       "      <td>7.2</td>\n",
       "      <td>11800</td>\n",
       "      <td>150.437577</td>\n",
       "      <td>[{\"id\": 1463, \"name\": \"culture clash\"}, {\"id\":...</td>\n",
       "      <td>In the 22nd century, a paraplegic Marine is di...</td>\n",
       "    </tr>\n",
       "  </tbody>\n",
       "</table>\n",
       "</div>"
      ],
      "text/plain": [
       "      id   title                                             genres  \\\n",
       "0  19995  Avatar  [{\"id\": 28, \"name\": \"Action\"}, {\"id\": 12, \"nam...   \n",
       "\n",
       "   vote_average  vote_count  popularity  \\\n",
       "0           7.2       11800  150.437577   \n",
       "\n",
       "                                            keywords  \\\n",
       "0  [{\"id\": 1463, \"name\": \"culture clash\"}, {\"id\":...   \n",
       "\n",
       "                                            overview  \n",
       "0  In the 22nd century, a paraplegic Marine is di...  "
      ]
     },
     "execution_count": 4,
     "metadata": {},
     "output_type": "execute_result"
    }
   ],
   "source": [
    "movies_df = movies[['id', 'title', 'genres', 'vote_average', 'vote_count', 'popularity', 'keywords', 'overview']]\n",
    "movies_df.columns\n",
    "movies_df.head(1)"
   ]
  },
  {
   "cell_type": "code",
   "execution_count": 5,
   "id": "bec7cc1c",
   "metadata": {
    "scrolled": true
   },
   "outputs": [
    {
     "name": "stdout",
     "output_type": "stream",
     "text": [
      "<class 'pandas.core.frame.DataFrame'>\n",
      "RangeIndex: 4803 entries, 0 to 4802\n",
      "Data columns (total 2 columns):\n",
      " #   Column    Non-Null Count  Dtype \n",
      "---  ------    --------------  ----- \n",
      " 0   genres    4803 non-null   object\n",
      " 1   keywords  4803 non-null   object\n",
      "dtypes: object(2)\n",
      "memory usage: 75.2+ KB\n"
     ]
    }
   ],
   "source": [
    "movies_df[['genres', 'keywords']].info()"
   ]
  },
  {
   "cell_type": "code",
   "execution_count": 6,
   "id": "1dab3c43",
   "metadata": {},
   "outputs": [
    {
     "data": {
      "text/html": [
       "<div>\n",
       "<style scoped>\n",
       "    .dataframe tbody tr th:only-of-type {\n",
       "        vertical-align: middle;\n",
       "    }\n",
       "\n",
       "    .dataframe tbody tr th {\n",
       "        vertical-align: top;\n",
       "    }\n",
       "\n",
       "    .dataframe thead th {\n",
       "        text-align: right;\n",
       "    }\n",
       "</style>\n",
       "<table border=\"1\" class=\"dataframe\">\n",
       "  <thead>\n",
       "    <tr style=\"text-align: right;\">\n",
       "      <th></th>\n",
       "      <th>genres</th>\n",
       "      <th>keywords</th>\n",
       "    </tr>\n",
       "  </thead>\n",
       "  <tbody>\n",
       "    <tr>\n",
       "      <th>0</th>\n",
       "      <td>[{\"id\": 28, \"name\": \"Action\"}, {\"id\": 12, \"nam...</td>\n",
       "      <td>[{\"id\": 1463, \"name\": \"culture clash\"}, {\"id\":...</td>\n",
       "    </tr>\n",
       "  </tbody>\n",
       "</table>\n",
       "</div>"
      ],
      "text/plain": [
       "                                              genres  \\\n",
       "0  [{\"id\": 28, \"name\": \"Action\"}, {\"id\": 12, \"nam...   \n",
       "\n",
       "                                            keywords  \n",
       "0  [{\"id\": 1463, \"name\": \"culture clash\"}, {\"id\":...  "
      ]
     },
     "execution_count": 6,
     "metadata": {},
     "output_type": "execute_result"
    }
   ],
   "source": [
    "movies_df[['genres', 'keywords']][:1]"
   ]
  },
  {
   "cell_type": "code",
   "execution_count": 7,
   "id": "1663f5d5",
   "metadata": {
    "scrolled": false
   },
   "outputs": [
    {
     "data": {
      "text/plain": [
       "'[{\"id\": 28, \"name\": \"Action\"}, {\"id\": 12, \"name\": \"Adventure\"}, {\"id\": 14, \"name\": \"Fantasy\"}, {\"id\": 878, \"name\": \"Science Fiction\"}]'"
      ]
     },
     "execution_count": 7,
     "metadata": {},
     "output_type": "execute_result"
    }
   ],
   "source": [
    "movies_df['genres'].values[0]"
   ]
  },
  {
   "cell_type": "markdown",
   "id": "567e8f1a",
   "metadata": {},
   "source": [
    "## 컬럼 값을 List 객체로 변환하기"
   ]
  },
  {
   "cell_type": "markdown",
   "id": "56ee4302",
   "metadata": {},
   "source": [
    "### eval()와 literal_eval()의 차이\n",
    "- 공통점 : 일종의 evaluate 평가 함수\n",
    "- 차이점 :\n",
    "    - eval() : 문자형태로 되어있는 표현식을 실행하는 함수 / 문자 형태로 되어있는 데이터를 곧바로 연산 (괄호 해석) 및 함수나 객체 실행하는 강력하고 위험한 함수\n",
    "    - literal_eval() : 파이썬에서 제공하는 기본 데이터 타입 정도만 변환해주는 용도로 사용 가능한 덜 강력한 함수"
   ]
  },
  {
   "cell_type": "code",
   "execution_count": 8,
   "id": "d47251e1",
   "metadata": {},
   "outputs": [
    {
     "data": {
      "text/plain": [
       "15"
      ]
     },
     "execution_count": 8,
     "metadata": {},
     "output_type": "execute_result"
    }
   ],
   "source": [
    "eval('1+2+(3+3)*2')"
   ]
  },
  {
   "cell_type": "markdown",
   "id": "58a39f81",
   "metadata": {},
   "source": [
    "### 컬럼 값을 문자열 -> List 객체로 변환하기"
   ]
  },
  {
   "cell_type": "code",
   "execution_count": 9,
   "id": "1e31f792",
   "metadata": {},
   "outputs": [],
   "source": [
    "# 파이썬의 literal_eval() 함수를 통해 'genre'컬럼과 'keywords' 컬럼의 값을 List 객체로 변환하기\n",
    "from ast import literal_eval\n",
    "\n",
    "movies_df['genres'] = movies_df['genres'].apply(literal_eval)\n",
    "movies_df['keywords'] = movies_df['keywords'].apply(literal_eval)\n",
    "\n",
    "# 장르 컬럼의 값을 하나씩 가져와서 literal_eval에 적용하여 문자열 -> 리스트 객체로 바꾸기"
   ]
  },
  {
   "cell_type": "code",
   "execution_count": 10,
   "id": "58bf7bf5",
   "metadata": {},
   "outputs": [
    {
     "data": {
      "text/plain": [
       "[{'id': 28, 'name': 'Action'},\n",
       " {'id': 12, 'name': 'Adventure'},\n",
       " {'id': 14, 'name': 'Fantasy'},\n",
       " {'id': 878, 'name': 'Science Fiction'}]"
      ]
     },
     "execution_count": 10,
     "metadata": {},
     "output_type": "execute_result"
    }
   ],
   "source": [
    "movies_df['genres'].values[0]"
   ]
  },
  {
   "cell_type": "markdown",
   "id": "20f5d433",
   "metadata": {},
   "source": [
    "### 특정 키의 값만 원소로 추출 및 리스트로 생성"
   ]
  },
  {
   "cell_type": "code",
   "execution_count": 11,
   "id": "622e02a6",
   "metadata": {},
   "outputs": [],
   "source": [
    "movies_df['genres'] = movies_df['genres'].apply(lambda x : [ v['name'] for v in x ])\n",
    "movies_df['keywords'] = movies_df['keywords'].apply(lambda x : [ v['name'] for v in x ])\n",
    "# list comprehension [ ] : 리스트의 형태로 리턴\n",
    "# x : 리스트 전부 다 # movies_df['genres'].values[0]\n",
    "# v : 딕셔너리 하나씩 # {'id': 28, 'name': 'Action'}\n",
    "# v['name'] : name 키의 value"
   ]
  },
  {
   "cell_type": "code",
   "execution_count": 12,
   "id": "57793d17",
   "metadata": {
    "scrolled": true
   },
   "outputs": [
    {
     "data": {
      "text/html": [
       "<div>\n",
       "<style scoped>\n",
       "    .dataframe tbody tr th:only-of-type {\n",
       "        vertical-align: middle;\n",
       "    }\n",
       "\n",
       "    .dataframe tbody tr th {\n",
       "        vertical-align: top;\n",
       "    }\n",
       "\n",
       "    .dataframe thead th {\n",
       "        text-align: right;\n",
       "    }\n",
       "</style>\n",
       "<table border=\"1\" class=\"dataframe\">\n",
       "  <thead>\n",
       "    <tr style=\"text-align: right;\">\n",
       "      <th></th>\n",
       "      <th>genres</th>\n",
       "      <th>keywords</th>\n",
       "    </tr>\n",
       "  </thead>\n",
       "  <tbody>\n",
       "    <tr>\n",
       "      <th>0</th>\n",
       "      <td>[Action, Adventure, Fantasy, Science Fiction]</td>\n",
       "      <td>[culture clash, future, space war, space colon...</td>\n",
       "    </tr>\n",
       "  </tbody>\n",
       "</table>\n",
       "</div>"
      ],
      "text/plain": [
       "                                          genres  \\\n",
       "0  [Action, Adventure, Fantasy, Science Fiction]   \n",
       "\n",
       "                                            keywords  \n",
       "0  [culture clash, future, space war, space colon...  "
      ]
     },
     "execution_count": 12,
     "metadata": {},
     "output_type": "execute_result"
    }
   ],
   "source": [
    "movies_df[['genres', 'keywords']][:1]"
   ]
  },
  {
   "cell_type": "code",
   "execution_count": null,
   "id": "9a7c8762",
   "metadata": {},
   "outputs": [],
   "source": []
  },
  {
   "cell_type": "markdown",
   "id": "89e34248",
   "metadata": {},
   "source": [
    "# 장르 콘텐츠 유사도 측정\n",
    "- 1. 문자열로 변환된 'genres' 컬럼은 카운트 기반으로 피처 벡터화 변환 (사이킷런의 CountVectorizer 라는 클래스 이용)\n",
    "    - bow : bag of word / 문장을 전부 단어화 시키고 가방에 넣은 후, 가방에서 단어를 하나씩 꺼내서 카운팅 및 유사도 측정\n",
    "- 2. 'genre' 문자열 -> 피처 백터화 행렬로 변환된 데이터셋을 코사인 유사도를 통해 비교\n",
    "- 3. 장르 유사도 (코사인 유사도)가 높은 영화 중에 평점이 높은 순으로 정렬하여 영화를 추천"
   ]
  },
  {
   "cell_type": "markdown",
   "id": "002c4acf",
   "metadata": {},
   "source": [
    "**[참고] CounterVectorizer 사용법**\n",
    "- 텍스트에서 단위별 출현 횟수를 카운팅하여 수치 벡터화한다."
   ]
  },
  {
   "cell_type": "code",
   "execution_count": 13,
   "id": "03f7f71b",
   "metadata": {},
   "outputs": [],
   "source": [
    "# 장르별로 일련번호를 매긴다\n",
    "# [Action, Adventure, Fantasy, Science Fiction]\n",
    "# 각 영화별로 해당 장르가 몇 번씩 들어가있는 지 카운트"
   ]
  },
  {
   "cell_type": "code",
   "execution_count": 14,
   "id": "eb9c23a2",
   "metadata": {
    "scrolled": true
   },
   "outputs": [
    {
     "name": "stdout",
     "output_type": "stream",
     "text": [
      "{'첫번째': 2, '문서': 1, '테스트': 3, '두번째': 0}\n",
      "[[1 0 1 2]]\n"
     ]
    }
   ],
   "source": [
    "from sklearn.feature_extraction.text import CountVectorizer\n",
    "\n",
    "vectorizer = CountVectorizer(ngram_range=(1,1))\n",
    "# vectorizer = CountVectorizer(ngram_range=(1,2))\n",
    "# ngram_range :모델의 단어 순서를 보강하기 위한 범위 (범위 최소값, 범위 최대값)\n",
    "# ex) (1,1) : 단어를 1개씩 피처로 추출 (start=1, end=1) -> 공백으로 끊어 사전 생성\n",
    "# ex) (1,2) : 토큰화된 (끊어진) 단어를 1개씩, 그리고 순서대로 2개씩 묶어서 피처로 추출 -> 한글에 적합 : '첫번째', '문서', '테스트', '첫번째 문서', '문서 테스트', '두번째', '두번째 문서'\n",
    "# ex) 자연어처리 : 영어는 공백 단위로 구분하여 자연어 처리가 용이하지만, 한글은 조사 및 띄어쓰기에 따라 의미가 달라지므로 자연어 처리가 까다롭다.\n",
    "\n",
    "vectorizer.fit(['첫번째 문서 테스트', '두번째 문서 테스트'])\n",
    "# 4개의 어휘를 학습한 CountVectorizer을 생성\n",
    "print(vectorizer.vocabulary_)\n",
    "# 중복되지 않은 고유한 unique 단어에 인덱스 부여\n",
    "\n",
    "counts = vectorizer.transform(['직접 첫번째 테스트 두번째 테스트'])\n",
    "# 문자열 목록을 가져와서 미리 학습해놓은 사전을 기반으로 단어의 빈도수를 카운트\n",
    "print(counts.toarray())\n",
    "# 학습된 인덱스에 따라 단어 수를 카운트"
   ]
  },
  {
   "cell_type": "code",
   "execution_count": 29,
   "id": "1fb60667",
   "metadata": {},
   "outputs": [
    {
     "name": "stdout",
     "output_type": "stream",
     "text": [
      "(4803, 276)\n",
      "[[1 1 0 0 0 0 0 0 0 0 0 0 0 0 0 0 1 0 0 0 0 0 0 0 1 0 0 0 0 0 0 0 0 0 0 0\n",
      "  0 0 0 0 0 0 0 0 0 0 0 0 0 0 0 0 0 0 0 0 0 0 0 0 0 0 0 0 0 0 0 0 0 0 0 0\n",
      "  0 0 0 0 0 0 0 0 0 0 0 0 0 0 0 0 0 0 0 0 0 0 0 0 0 0 0 0 0 0 0 0 0 0 0 0\n",
      "  0 0 0 0 0 0 0 0 0 0 0 0 0 0 0 0 1 0 0 0 0 0 0 0 0 0 0 1 0 0 1 0 0 0 0 0\n",
      "  0 0 0 0 0 0 0 0 0 0 0 0 0 0 0 0 0 0 0 0 0 0 0 0 0 0 0 0 0 0 0 0 0 0 0 0\n",
      "  0 0 0 0 0 0 0 0 0 0 0 0 0 0 0 0 0 0 0 0 0 0 0 0 0 0 0 0 0 0 0 0 0 0 0 0\n",
      "  0 0 0 0 0 0 0 0 0 0 0 0 0 0 0 0 1 1 0 0 0 0 0 0 0 0 0 0 0 0 0 0 0 0 0 0\n",
      "  0 0 0 0 0 0 0 0 0 0 0 0 0 0 0 0 0 0 0 0 0 0 0 0]]\n"
     ]
    }
   ],
   "source": [
    "movies_df['genres_text'] = movies_df['genres'].apply(lambda x : (' ').join(x))\n",
    "# x : genres 컬럼이 갖고 있는 리스트 객체가 넘어옴\n",
    "# (' ').join(x) : 공백을 기준으로 하나의 문장으로 합칠 것\n",
    "movies_df['genres_text'].head()\n",
    "# 0    Action Adventure Fantasy Science Fiction\n",
    "\n",
    "\n",
    "count_vect = CountVectorizer(min_df=0, ngram_range=(1,2))\n",
    "# min_df : 전체 문서 내에서 빈도수가 낮은 단어를 제외하기 위한 파라미터\n",
    "# min_df=0 : 0번 이하로 나타나는 단어는 제외 -> 즉, 모든 단어를 추출하겠다.\n",
    "# min_df=2 : 전체 문서 내에서 2번 이하로 나타나는 단어는 추출에서 제외\n",
    "# ngram_range :모델의 단어 순서를 보강하기 위한 범위 (범위 최소값, 범위 최대값)\n",
    "# ngram_range=(1,1) : 단어를 1개씩 피처로 추출 (start=1, end=1) -> 공백으로 끊어 사전 생성\n",
    "# ngram_range=(1,2) : 토큰화된 (끊어진) 단어를 1개씩, 그리고 순서대로 2개씩 묶어서 피처로 추출 -> 한글에 적합\n",
    "\n",
    "\n",
    "genre_mat = count_vect.fit_transform(movies_df['genres_text'])\n",
    "# fit과 transform을 동시에 : 'genres_text' 컬럼 내 모든 텍스트를 학습하여 사전을 만들어 낸 후, // 첫 번째 영화에 대한 빈도수, 두 번째 영화에 대한 빈도수.. 등 'genres_text' 컬럼 내 각 행의 빈도수를 추출\n",
    "print(genre_mat.shape) # (4803, 276)\n",
    "# 4803: 영화의 개수 // 276: CountVectorizer에 의해 생성된 단어 사전의 목록 개수\n",
    "print(genre_mat.toarray()[:1]) # 276개의 장르 중 9개"
   ]
  },
  {
   "cell_type": "code",
   "execution_count": 16,
   "id": "94aa4f44",
   "metadata": {},
   "outputs": [
    {
     "name": "stdout",
     "output_type": "stream",
     "text": [
      "(4803, 4803)\n",
      "[[1.         0.59628479 0.4472136  ... 0.         0.         0.        ]\n",
      " [0.59628479 1.         0.4        ... 0.         0.         0.        ]\n",
      " [0.4472136  0.4        1.         ... 0.         0.         0.        ]]\n"
     ]
    }
   ],
   "source": [
    "# 영화 장르와 영화 장르간의 코싸인 유사도 만들기\n",
    "# 코싸인 유사도가 높다 = 장르의 유사도가 높다\n",
    "from sklearn.metrics.pairwise import cosine_similarity\n",
    "\n",
    "genre_sim = cosine_similarity(genre_mat, genre_mat)\n",
    "print(genre_sim.shape)\n",
    "# (4803, 4803) : 대각행렬은 자기자신에 대한 유사도이므로 \"1\"이고, 대각행렬을 기준으로 좌우대칭되는 행렬이 형성된다\n",
    "print(genre_sim[:3])\n",
    "# 첫 & 두 번째 영화에 대한 유사도 : 0.60\n",
    "# 첫 & 세 번째 영화에 대한 유사도 : 0.45\n",
    "# 유사도가 클수록, 상호 간의 영화는 '장르'에 있어서 유사도가 높다."
   ]
  },
  {
   "cell_type": "code",
   "execution_count": 17,
   "id": "ec35ec57",
   "metadata": {
    "scrolled": true
   },
   "outputs": [
    {
     "name": "stdout",
     "output_type": "stream",
     "text": [
      "[[   0 3494  813 ... 3038 3037 2401]]\n"
     ]
    }
   ],
   "source": [
    "# 첫 번째 영화와 유사도가 높은 n개의 인덱스 값을 뽑아내기\n",
    "# argsort : 정렬한 후에, 정렬 전의 original 위치값을 찾아내는 함수\n",
    "genre_sim_sorted_idx = genre_sim.argsort()[:,::-1]\n",
    "print(genre_sim_sorted_idx[:1])\n",
    "# [:,::-1] : 내림차순\n",
    "# [:1] : top_n의 idx 조회 : 첫 번째 영화와 장르 유사도가 높은 영화의 movie_df 상에서의 idx 값\n",
    "# 0 : 자기 자신과 장르 유사도가 가장 높다\n",
    "# 3494 : 첫 번째 영화와 장르 유사도가 가장 높은 영화는 3494번째 영화\n",
    "# -> 즉, 자기 자신을 나타내는 0번 레코드를 제외하면 3494번쨰 영화가 장르 기준으로 가장 유사도가 높은 영화이다."
   ]
  },
  {
   "cell_type": "markdown",
   "id": "ac819111",
   "metadata": {},
   "source": [
    "# 장르 콘텐츠 필터링을 이용한 영화 추천 "
   ]
  },
  {
   "cell_type": "code",
   "execution_count": 18,
   "id": "a1542c39",
   "metadata": {},
   "outputs": [],
   "source": [
    "# movie_df에 idx를 넣으면 어떤 영화인 지 알 수 있음\n",
    "def fin_sim_movie(df, sorted_ind, title_name, top_n=10):\n",
    "# df : 영화 정보를 가지고 있는 DataFrame\n",
    "# sorted_ind : 코싸인 유사도가 높은 순서대로 정렬된 영화의 inx 값\n",
    "# title_name : 추천 기준이 되는 영화 제목 (해당 영화를 기준으로 장르 유사도가 높은 영화를 추천받게 되는 알고리즘을 만드는 것)\n",
    "# top_n : 추천 영화수 (유사도가 높은 상위 n개만 추천)\n",
    "    target_movie = df[df['title']==title_name]\n",
    "    title_index = target_movie.index.values # index의 value 가져오기\n",
    "    similar_indexes = sorted_ind[title_index, :(top_n)]\n",
    "    # sorted_ind 인자로 입력된 genre_sim_sorted_idx 객체에서 유사도가 높은 top_n개의 영화 inx를 추출하는 것\n",
    "    # 행 : title_index, 열 : top n개까지\n",
    "    # 해당 영화와 유사도가 높은 top n개 슬라이싱하여 추출하기\n",
    "    # print(similar_indexes)\n",
    "    similar_indexes = similar_indexes.reshape(-1)\n",
    "    # reshape, squeeze, flatten 등의 함수를 통해 2차원 -> 1차원으로 차원 축소\n",
    "    \n",
    "    return df.iloc[similar_indexes]"
   ]
  },
  {
   "cell_type": "code",
   "execution_count": 19,
   "id": "c7db119d",
   "metadata": {
    "scrolled": false
   },
   "outputs": [
    {
     "data": {
      "text/html": [
       "<div>\n",
       "<style scoped>\n",
       "    .dataframe tbody tr th:only-of-type {\n",
       "        vertical-align: middle;\n",
       "    }\n",
       "\n",
       "    .dataframe tbody tr th {\n",
       "        vertical-align: top;\n",
       "    }\n",
       "\n",
       "    .dataframe thead th {\n",
       "        text-align: right;\n",
       "    }\n",
       "</style>\n",
       "<table border=\"1\" class=\"dataframe\">\n",
       "  <thead>\n",
       "    <tr style=\"text-align: right;\">\n",
       "      <th></th>\n",
       "      <th>title</th>\n",
       "      <th>vote_average</th>\n",
       "    </tr>\n",
       "  </thead>\n",
       "  <tbody>\n",
       "    <tr>\n",
       "      <th>2731</th>\n",
       "      <td>The Godfather: Part II</td>\n",
       "      <td>8.3</td>\n",
       "    </tr>\n",
       "    <tr>\n",
       "      <th>1243</th>\n",
       "      <td>Mean Streets</td>\n",
       "      <td>7.2</td>\n",
       "    </tr>\n",
       "    <tr>\n",
       "      <th>3636</th>\n",
       "      <td>Light Sleeper</td>\n",
       "      <td>5.7</td>\n",
       "    </tr>\n",
       "    <tr>\n",
       "      <th>1946</th>\n",
       "      <td>The Bad Lieutenant: Port of Call - New Orleans</td>\n",
       "      <td>6.0</td>\n",
       "    </tr>\n",
       "    <tr>\n",
       "      <th>2640</th>\n",
       "      <td>Things to Do in Denver When You're Dead</td>\n",
       "      <td>6.7</td>\n",
       "    </tr>\n",
       "    <tr>\n",
       "      <th>4065</th>\n",
       "      <td>Mi America</td>\n",
       "      <td>0.0</td>\n",
       "    </tr>\n",
       "    <tr>\n",
       "      <th>1847</th>\n",
       "      <td>GoodFellas</td>\n",
       "      <td>8.2</td>\n",
       "    </tr>\n",
       "    <tr>\n",
       "      <th>4217</th>\n",
       "      <td>Kids</td>\n",
       "      <td>6.8</td>\n",
       "    </tr>\n",
       "    <tr>\n",
       "      <th>883</th>\n",
       "      <td>Catch Me If You Can</td>\n",
       "      <td>7.7</td>\n",
       "    </tr>\n",
       "    <tr>\n",
       "      <th>3866</th>\n",
       "      <td>City of God</td>\n",
       "      <td>8.1</td>\n",
       "    </tr>\n",
       "  </tbody>\n",
       "</table>\n",
       "</div>"
      ],
      "text/plain": [
       "                                               title  vote_average\n",
       "2731                          The Godfather: Part II           8.3\n",
       "1243                                    Mean Streets           7.2\n",
       "3636                                   Light Sleeper           5.7\n",
       "1946  The Bad Lieutenant: Port of Call - New Orleans           6.0\n",
       "2640         Things to Do in Denver When You're Dead           6.7\n",
       "4065                                      Mi America           0.0\n",
       "1847                                      GoodFellas           8.2\n",
       "4217                                            Kids           6.8\n",
       "883                              Catch Me If You Can           7.7\n",
       "3866                                     City of God           8.1"
      ]
     },
     "execution_count": 19,
     "metadata": {},
     "output_type": "execute_result"
    }
   ],
   "source": [
    "sim_movies = fin_sim_movie(movies_df, genre_sim_sorted_idx, 'The Godfather', 10)\n",
    "# 갓파더와 장르상 유사도가 높은 영화 top 10개의 인덱스에 따른 영화 정보\n",
    "# 2731 : 갓파더 자신\n",
    "sim_movies[['title', 'vote_average']]"
   ]
  },
  {
   "cell_type": "markdown",
   "id": "75366dad",
   "metadata": {},
   "source": [
    "# 장르 유사도 & 영화 평점 필터링"
   ]
  },
  {
   "cell_type": "markdown",
   "id": "9be60cec",
   "metadata": {},
   "source": [
    "- 좀 더 많은 후보군을 선정한 뒤에 **영화의 평점에 따라 필터링**하는 방식으로 변경 필요\n",
    "    - 설명 : 장르의 유사도로만 상위 10개 영화 추천하지 말고, 평점(낮은건 빼고, 높은 것 위주로 추천. 단, 투표 인원수(신뢰할만한 많은 투표수)도 고려하기)이 높은 상위 10개 영화 추천해주기\n",
    "    - 방법 : 장르가 유사한 영화에 대해 좀 더 많은 후보군을 만들어둔 후, 평점 높고 투표 인원수도 높은 것을 다시 추려서 10개를 추천해주면 더 의미 있을 것"
   ]
  },
  {
   "cell_type": "markdown",
   "id": "9db1d48a",
   "metadata": {},
   "source": [
    "## 가중평점 컬럼 만들기"
   ]
  },
  {
   "cell_type": "markdown",
   "id": "04e988f0",
   "metadata": {},
   "source": [
    "- \"가중 평점 방식\" : 왜곡된 평점 데이터를 피하기 위해 평점에 평가 횟수를 반영한 가중 평점 방식 적용 필요 (IMDB에서 평점을 메기는 방식) \n",
    "        - 가중평점(Weighted Rating) = (v/(v+m)) * R + (m/(v+m)) * C\n",
    "            - v : 개별 영화에 평점을 투표한 횟수\n",
    "            - m : 평점을 부여하기 위한 최소 투표 횟수 (전체 투표 횟수에서 상위 60%에 해당하는 횟수를 기준으로 정함 <임의값>)\n",
    "            - R : 개별 영화에 대한 평균 평점\n",
    "            - C :전체 영화에 대한 평균 평점"
   ]
  },
  {
   "cell_type": "code",
   "execution_count": 20,
   "id": "dfb25990",
   "metadata": {},
   "outputs": [
    {
     "data": {
      "text/html": [
       "<div>\n",
       "<style scoped>\n",
       "    .dataframe tbody tr th:only-of-type {\n",
       "        vertical-align: middle;\n",
       "    }\n",
       "\n",
       "    .dataframe tbody tr th {\n",
       "        vertical-align: top;\n",
       "    }\n",
       "\n",
       "    .dataframe thead th {\n",
       "        text-align: right;\n",
       "    }\n",
       "</style>\n",
       "<table border=\"1\" class=\"dataframe\">\n",
       "  <thead>\n",
       "    <tr style=\"text-align: right;\">\n",
       "      <th></th>\n",
       "      <th>title</th>\n",
       "      <th>vote_average</th>\n",
       "      <th>vote_count</th>\n",
       "    </tr>\n",
       "  </thead>\n",
       "  <tbody>\n",
       "    <tr>\n",
       "      <th>3519</th>\n",
       "      <td>Stiff Upper Lips</td>\n",
       "      <td>10.0</td>\n",
       "      <td>1</td>\n",
       "    </tr>\n",
       "    <tr>\n",
       "      <th>4247</th>\n",
       "      <td>Me You and Five Bucks</td>\n",
       "      <td>10.0</td>\n",
       "      <td>2</td>\n",
       "    </tr>\n",
       "    <tr>\n",
       "      <th>4045</th>\n",
       "      <td>Dancer, Texas Pop. 81</td>\n",
       "      <td>10.0</td>\n",
       "      <td>1</td>\n",
       "    </tr>\n",
       "    <tr>\n",
       "      <th>4662</th>\n",
       "      <td>Little Big Top</td>\n",
       "      <td>10.0</td>\n",
       "      <td>1</td>\n",
       "    </tr>\n",
       "    <tr>\n",
       "      <th>3992</th>\n",
       "      <td>Sardaarji</td>\n",
       "      <td>9.5</td>\n",
       "      <td>2</td>\n",
       "    </tr>\n",
       "    <tr>\n",
       "      <th>2386</th>\n",
       "      <td>One Man's Hero</td>\n",
       "      <td>9.3</td>\n",
       "      <td>2</td>\n",
       "    </tr>\n",
       "    <tr>\n",
       "      <th>2970</th>\n",
       "      <td>There Goes My Baby</td>\n",
       "      <td>8.5</td>\n",
       "      <td>2</td>\n",
       "    </tr>\n",
       "    <tr>\n",
       "      <th>1881</th>\n",
       "      <td>The Shawshank Redemption</td>\n",
       "      <td>8.5</td>\n",
       "      <td>8205</td>\n",
       "    </tr>\n",
       "    <tr>\n",
       "      <th>2796</th>\n",
       "      <td>The Prisoner of Zenda</td>\n",
       "      <td>8.4</td>\n",
       "      <td>11</td>\n",
       "    </tr>\n",
       "    <tr>\n",
       "      <th>3337</th>\n",
       "      <td>The Godfather</td>\n",
       "      <td>8.4</td>\n",
       "      <td>5893</td>\n",
       "    </tr>\n",
       "  </tbody>\n",
       "</table>\n",
       "</div>"
      ],
      "text/plain": [
       "                         title  vote_average  vote_count\n",
       "3519          Stiff Upper Lips          10.0           1\n",
       "4247     Me You and Five Bucks          10.0           2\n",
       "4045     Dancer, Texas Pop. 81          10.0           1\n",
       "4662            Little Big Top          10.0           1\n",
       "3992                 Sardaarji           9.5           2\n",
       "2386            One Man's Hero           9.3           2\n",
       "2970        There Goes My Baby           8.5           2\n",
       "1881  The Shawshank Redemption           8.5        8205\n",
       "2796     The Prisoner of Zenda           8.4          11\n",
       "3337             The Godfather           8.4        5893"
      ]
     },
     "execution_count": 20,
     "metadata": {},
     "output_type": "execute_result"
    }
   ],
   "source": [
    "movies_df[['title', 'vote_average', 'vote_count']].sort_values('vote_average', ascending=False)[:10]"
   ]
  },
  {
   "cell_type": "code",
   "execution_count": 21,
   "id": "cb1f1597",
   "metadata": {},
   "outputs": [
    {
     "name": "stdout",
     "output_type": "stream",
     "text": [
      "C: 6.092, m: 370.200\n"
     ]
    }
   ],
   "source": [
    "# m : 평점을 부여하기 위한 최소 투표 횟수 (전체 투표 횟수에서 상위 60%에 해당하는 횟수를 기준으로 정함 <임의값>)\n",
    "# C :전체 영화에 대한 평균 평점\n",
    "\n",
    "C = movies_df['vote_average'].mean()\n",
    "m = movies_df['vote_count'].quantile(0.6) # 60분위에 해당하는 값 가져옴\n",
    "print(f'C: {C:.3f}, m: {m:.3f}')"
   ]
  },
  {
   "cell_type": "code",
   "execution_count": 22,
   "id": "1d3dee61",
   "metadata": {},
   "outputs": [],
   "source": [
    "# v : 개별 영화에 평점을 투표한 횟수\n",
    "# R : 개별 영화에 대한 평균 평점\n",
    "\n",
    "def weighted_vote_average(data):\n",
    "    v = data['vote_count']\n",
    "    R = data['vote_average']\n",
    "    \n",
    "    return (v/(v+m)) * R + (m/(v+m)) * C\n",
    "\n",
    "# 가중 평점을 저장할 새로운 컬럼 만들기\n",
    "movies_df['weighted_vote'] = movies_df.apply(weighted_vote_average, axis=1)\n",
    "# axis=1 : 가중평점(weighted_vote_average)의 값들이 행 기준으로 들어갈 것"
   ]
  },
  {
   "cell_type": "code",
   "execution_count": 23,
   "id": "cdccc255",
   "metadata": {},
   "outputs": [
    {
     "data": {
      "text/html": [
       "<div>\n",
       "<style scoped>\n",
       "    .dataframe tbody tr th:only-of-type {\n",
       "        vertical-align: middle;\n",
       "    }\n",
       "\n",
       "    .dataframe tbody tr th {\n",
       "        vertical-align: top;\n",
       "    }\n",
       "\n",
       "    .dataframe thead th {\n",
       "        text-align: right;\n",
       "    }\n",
       "</style>\n",
       "<table border=\"1\" class=\"dataframe\">\n",
       "  <thead>\n",
       "    <tr style=\"text-align: right;\">\n",
       "      <th></th>\n",
       "      <th>title</th>\n",
       "      <th>vote_average</th>\n",
       "      <th>weighted_vote</th>\n",
       "      <th>vote_count</th>\n",
       "    </tr>\n",
       "  </thead>\n",
       "  <tbody>\n",
       "    <tr>\n",
       "      <th>1881</th>\n",
       "      <td>The Shawshank Redemption</td>\n",
       "      <td>8.5</td>\n",
       "      <td>8.396052</td>\n",
       "      <td>8205</td>\n",
       "    </tr>\n",
       "    <tr>\n",
       "      <th>3337</th>\n",
       "      <td>The Godfather</td>\n",
       "      <td>8.4</td>\n",
       "      <td>8.263591</td>\n",
       "      <td>5893</td>\n",
       "    </tr>\n",
       "    <tr>\n",
       "      <th>662</th>\n",
       "      <td>Fight Club</td>\n",
       "      <td>8.3</td>\n",
       "      <td>8.216455</td>\n",
       "      <td>9413</td>\n",
       "    </tr>\n",
       "    <tr>\n",
       "      <th>3232</th>\n",
       "      <td>Pulp Fiction</td>\n",
       "      <td>8.3</td>\n",
       "      <td>8.207102</td>\n",
       "      <td>8428</td>\n",
       "    </tr>\n",
       "    <tr>\n",
       "      <th>65</th>\n",
       "      <td>The Dark Knight</td>\n",
       "      <td>8.2</td>\n",
       "      <td>8.136930</td>\n",
       "      <td>12002</td>\n",
       "    </tr>\n",
       "    <tr>\n",
       "      <th>1818</th>\n",
       "      <td>Schindler's List</td>\n",
       "      <td>8.3</td>\n",
       "      <td>8.126069</td>\n",
       "      <td>4329</td>\n",
       "    </tr>\n",
       "    <tr>\n",
       "      <th>3865</th>\n",
       "      <td>Whiplash</td>\n",
       "      <td>8.3</td>\n",
       "      <td>8.123248</td>\n",
       "      <td>4254</td>\n",
       "    </tr>\n",
       "    <tr>\n",
       "      <th>809</th>\n",
       "      <td>Forrest Gump</td>\n",
       "      <td>8.2</td>\n",
       "      <td>8.105954</td>\n",
       "      <td>7927</td>\n",
       "    </tr>\n",
       "    <tr>\n",
       "      <th>2294</th>\n",
       "      <td>Spirited Away</td>\n",
       "      <td>8.3</td>\n",
       "      <td>8.105867</td>\n",
       "      <td>3840</td>\n",
       "    </tr>\n",
       "    <tr>\n",
       "      <th>2731</th>\n",
       "      <td>The Godfather: Part II</td>\n",
       "      <td>8.3</td>\n",
       "      <td>8.079586</td>\n",
       "      <td>3338</td>\n",
       "    </tr>\n",
       "  </tbody>\n",
       "</table>\n",
       "</div>"
      ],
      "text/plain": [
       "                         title  vote_average  weighted_vote  vote_count\n",
       "1881  The Shawshank Redemption           8.5       8.396052        8205\n",
       "3337             The Godfather           8.4       8.263591        5893\n",
       "662                 Fight Club           8.3       8.216455        9413\n",
       "3232              Pulp Fiction           8.3       8.207102        8428\n",
       "65             The Dark Knight           8.2       8.136930       12002\n",
       "1818          Schindler's List           8.3       8.126069        4329\n",
       "3865                  Whiplash           8.3       8.123248        4254\n",
       "809               Forrest Gump           8.2       8.105954        7927\n",
       "2294             Spirited Away           8.3       8.105867        3840\n",
       "2731    The Godfather: Part II           8.3       8.079586        3338"
      ]
     },
     "execution_count": 23,
     "metadata": {},
     "output_type": "execute_result"
    }
   ],
   "source": [
    "# weighted_vote를 기준으로 상위 10개 높은 것 조회하기\n",
    "movies_df[['title', 'vote_average', 'weighted_vote', 'vote_count']].sort_values('weighted_vote', ascending=False)[:10]"
   ]
  },
  {
   "cell_type": "markdown",
   "id": "81c200d0",
   "metadata": {},
   "source": [
    "## 장르 & 가중평점"
   ]
  },
  {
   "cell_type": "code",
   "execution_count": 24,
   "id": "6a3de317",
   "metadata": {},
   "outputs": [],
   "source": [
    "# 기존의 fin_sim_movie 함수 수정하기\n",
    "\n",
    "def fin_sim_movie(df, sorted_ind, title_name, top_n=10):\n",
    "# df : 영화 정보를 가지고 있는 DataFrame\n",
    "# sorted_ind : 코싸인 유사도가 높은 순서대로 정렬된 영화의 inx 값\n",
    "# title_name : 추천 기준이 되는 영화 제목 (해당 영화를 기준으로 장르 유사도가 높은 영화를 추천받게 되는 알고리즘을 만드는 것)\n",
    "# top_n : 추천 영화수 (유사도가 높은 상위 n개만 추천)\n",
    "    target_movie = df[df['title']==title_name]\n",
    "    title_index = target_movie.index.values # index의 value 가져오기\n",
    "    \n",
    "    ### top_n의 2배에 해당하는 장르 유사성이 높은 index 추출\n",
    "    similar_indexes = sorted_ind[title_index, :(top_n*2)]\n",
    "    # sorted_ind 인자로 입력된 genre_sim_sorted_idx 객체에서 유사도가 높은 top_n개의 영화 inx를 추출하는 것\n",
    "    # 행 : title_index, 열 : top n*2개까지 : \"후보군을 늘리기 위해 2배 추출\"\n",
    "    # 해당 영화와 유사도가 높은 top n*2개 슬라이싱하여 추출하기\n",
    "    # print(similar_indexes)\n",
    "    similar_indexes = similar_indexes.reshape(-1)\n",
    "    # reshape, squeeze, flatten 등의 함수를 통해 2차원 -> 1차원으로 차원 축소\n",
    "    \n",
    "    ### 기준이 되는 영화 (본인)은 제외\n",
    "    similar_indexes = similar_indexes[similar_indexes != title_index]\n",
    "    \n",
    "    # movie_df에 idx를 넣으면 어떤 영화인 지 알 수 있음\n",
    "    return df.iloc[similar_indexes].sort_values('weighted_vote', ascending=False)[:top_n] # 가중평점이 높은 순서대로 정렬하여 top n개 추출"
   ]
  },
  {
   "cell_type": "code",
   "execution_count": 25,
   "id": "260a5e8a",
   "metadata": {},
   "outputs": [
    {
     "data": {
      "text/html": [
       "<div>\n",
       "<style scoped>\n",
       "    .dataframe tbody tr th:only-of-type {\n",
       "        vertical-align: middle;\n",
       "    }\n",
       "\n",
       "    .dataframe tbody tr th {\n",
       "        vertical-align: top;\n",
       "    }\n",
       "\n",
       "    .dataframe thead th {\n",
       "        text-align: right;\n",
       "    }\n",
       "</style>\n",
       "<table border=\"1\" class=\"dataframe\">\n",
       "  <thead>\n",
       "    <tr style=\"text-align: right;\">\n",
       "      <th></th>\n",
       "      <th>title</th>\n",
       "      <th>vote_average</th>\n",
       "      <th>weighted_vote</th>\n",
       "    </tr>\n",
       "  </thead>\n",
       "  <tbody>\n",
       "    <tr>\n",
       "      <th>2731</th>\n",
       "      <td>The Godfather: Part II</td>\n",
       "      <td>8.3</td>\n",
       "      <td>8.079586</td>\n",
       "    </tr>\n",
       "    <tr>\n",
       "      <th>1847</th>\n",
       "      <td>GoodFellas</td>\n",
       "      <td>8.2</td>\n",
       "      <td>7.976937</td>\n",
       "    </tr>\n",
       "    <tr>\n",
       "      <th>3866</th>\n",
       "      <td>City of God</td>\n",
       "      <td>8.1</td>\n",
       "      <td>7.759693</td>\n",
       "    </tr>\n",
       "    <tr>\n",
       "      <th>1663</th>\n",
       "      <td>Once Upon a Time in America</td>\n",
       "      <td>8.2</td>\n",
       "      <td>7.657811</td>\n",
       "    </tr>\n",
       "    <tr>\n",
       "      <th>883</th>\n",
       "      <td>Catch Me If You Can</td>\n",
       "      <td>7.7</td>\n",
       "      <td>7.557097</td>\n",
       "    </tr>\n",
       "    <tr>\n",
       "      <th>281</th>\n",
       "      <td>American Gangster</td>\n",
       "      <td>7.4</td>\n",
       "      <td>7.141396</td>\n",
       "    </tr>\n",
       "    <tr>\n",
       "      <th>4041</th>\n",
       "      <td>This Is England</td>\n",
       "      <td>7.4</td>\n",
       "      <td>6.739664</td>\n",
       "    </tr>\n",
       "    <tr>\n",
       "      <th>1149</th>\n",
       "      <td>American Hustle</td>\n",
       "      <td>6.8</td>\n",
       "      <td>6.717525</td>\n",
       "    </tr>\n",
       "    <tr>\n",
       "      <th>1243</th>\n",
       "      <td>Mean Streets</td>\n",
       "      <td>7.2</td>\n",
       "      <td>6.626569</td>\n",
       "    </tr>\n",
       "    <tr>\n",
       "      <th>2839</th>\n",
       "      <td>Rounders</td>\n",
       "      <td>6.9</td>\n",
       "      <td>6.530427</td>\n",
       "    </tr>\n",
       "  </tbody>\n",
       "</table>\n",
       "</div>"
      ],
      "text/plain": [
       "                            title  vote_average  weighted_vote\n",
       "2731       The Godfather: Part II           8.3       8.079586\n",
       "1847                   GoodFellas           8.2       7.976937\n",
       "3866                  City of God           8.1       7.759693\n",
       "1663  Once Upon a Time in America           8.2       7.657811\n",
       "883           Catch Me If You Can           7.7       7.557097\n",
       "281             American Gangster           7.4       7.141396\n",
       "4041              This Is England           7.4       6.739664\n",
       "1149              American Hustle           6.8       6.717525\n",
       "1243                 Mean Streets           7.2       6.626569\n",
       "2839                     Rounders           6.9       6.530427"
      ]
     },
     "execution_count": 25,
     "metadata": {},
     "output_type": "execute_result"
    }
   ],
   "source": [
    "sim_movies = fin_sim_movie(movies_df, genre_sim_sorted_idx, 'The Godfather', 10)\n",
    "# 갓파더와 장르상 유사도가 높은 영화 중 가중평균가 높은 top 10개의 인덱스에 따른 영화 정보\n",
    "sim_movies[['title', 'vote_average', 'weighted_vote']]"
   ]
  }
 ],
 "metadata": {
  "kernelspec": {
   "display_name": "Python 3 (ipykernel)",
   "language": "python",
   "name": "python3"
  },
  "language_info": {
   "codemirror_mode": {
    "name": "ipython",
    "version": 3
   },
   "file_extension": ".py",
   "mimetype": "text/x-python",
   "name": "python",
   "nbconvert_exporter": "python",
   "pygments_lexer": "ipython3",
   "version": "3.9.13"
  },
  "toc": {
   "base_numbering": 1,
   "nav_menu": {},
   "number_sections": true,
   "sideBar": true,
   "skip_h1_title": false,
   "title_cell": "Table of Contents",
   "title_sidebar": "Contents",
   "toc_cell": false,
   "toc_position": {
    "height": "calc(100% - 180px)",
    "left": "10px",
    "top": "150px",
    "width": "292.556px"
   },
   "toc_section_display": true,
   "toc_window_display": true
  }
 },
 "nbformat": 4,
 "nbformat_minor": 5
}
