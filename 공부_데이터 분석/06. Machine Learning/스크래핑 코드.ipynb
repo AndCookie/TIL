{
 "cells": [
  {
   "cell_type": "code",
   "execution_count": null,
   "id": "02b84eab",
   "metadata": {},
   "outputs": [],
   "source": [
    "!pip install requests_html\n",
    "!pip install rake_nltk"
   ]
  },
  {
   "cell_type": "code",
   "execution_count": 4,
   "id": "0860d2ae",
   "metadata": {},
   "outputs": [],
   "source": [
    "from requests_html import HTMLSession\n",
    "from rake_nltk import Rake\n"
   ]
  },
  {
   "cell_type": "code",
   "execution_count": 13,
   "id": "4e760cb1",
   "metadata": {},
   "outputs": [
    {
     "name": "stdout",
     "output_type": "stream",
     "text": [
      "[(3194.75, '이거 최근에 한통 사서 써보고 너무 좋아서 쟁인거예요 .. 이거는 내평생 쓸 패드다 싶을정도로 완전 매력있고 거의 산뜻촉촉 마스크팩같은 아이 .. 에센스가 이렇게나 많이 들어있다는게 놀랍고 피부가 건조할때 얹어놓으면 당김도 없고 피부가 에센스를 사악 가져가는데 이거 안써본 사람 없게 해주세요 .. 늦게라도 입문하셔서 다들 써봤으면 좋겠어요 저 다른 패드 쓸 게 넘 많은데 요즘같은 계절에 얘만 쓰고 있어요'), (1664.1666666666667, '제 피부는 각질이 잘생기는 피부라서 매일 각질제거 성분이있는 제품으로 닦토를하는데 매일 닦토를해서 피부에 자극이 심해서 모공요철이 심해지더라구요 그래서 닦토를 해도 자극없고 진정에좋고 각질제거에도 좋은 제품이 없을까 생각하고 있었는데 뽐니님 영상을 보고 닦토로 사용해도 된다고 해서 구입했어요 그런데 진짜 구입하길 너무 잘한듯싶어요'), (327.41666666666663, '이거 쟁여놓았는데도 점점 줄어들면서 없어져가는게 왤케 마음 아픈가요 .. 진짜루 이런 할인이벤트 많이 해주세요 ..!'), (255.16666666666666, '닦토를해도 패드가 너무 부드러워서 자극하나도 없고 진정효과 너무좋고 그리고 화장도 너무잘먹어요 진짜 완벽한 패드에요'), (217.0, '522명 5점 136명 4점 33명 3점 8명 2점 1명 1점 스토어pick판매자가 직접 선정한 베스트 리뷰입니다'), (168.5, '패드케이스 진짜루 한번도 안써본 사람은 있어도 한번만 써본 사람은 없다는 말이 딱이에요'), (62.0, '150원 사용자 총 평점 총 5점 중 4'), (48.0, '앞으로도 계속 재구매할거에요 ~♡ 이전 스토어pick 보기현재페이지1'), (40.5, '상품리뷰 상품을 구매하신 분들이 작성하신 리뷰입니다'), (33.2, '리뷰 작성시 아래 금액만큼 포인트가 적립됩니다'), (32.666666666666664, '비디오 수2 평점5 aaa4 **** 22'), (27.5, '5다음 스토어pick 보기 로딩 중'), (18.0, '700개 평점 비율 1'), (16.666666666666668, '평점5 gyal ***** 22'), (15.7, '150원 한달사용 텍스트 리뷰'), (9.0, '9점 전체 리뷰수1'), (8.5, '50원 한달사용 포토'), (6.2, '텍스트 리뷰'), (5.2, '동영상 리뷰'), (5.2, '동영상 리뷰'), (5.0, '50원 포토'), (4.0, '쇼핑live 이벤트'), (4.0, '!♡ 사진'), (3.6666666666666665, '22'), (1.0, '증정'), (1.0, '쇼핑백'), (1.0, '본품2개'), (1.0, '3종디럭스'), (1.0, '25'), (1.0, '12'), (1.0, '12')]\n"
     ]
    }
   ],
   "source": [
    "def extract_text():\n",
    "    s = HTMLSession()\n",
    "    url = 'https://shopping.naver.com/beauty/stores/1000009763/products/7243224860?NaPm=ct%3Dlew5qdxj%7Cci%3Dshoppingwindow%7Ctr%3Dswl%7Chk%3D87394d60ff065f76f64310d4b7efb88171d80b40%7Ctrx%3D#REVIEW'\n",
    "    response = s.get(url)\n",
    "    return response.html.find('div#REVIEW',first=True).text\n",
    "\n",
    "r= Rake()\n",
    "r.extract_keywords_from_text(extract_text())\n",
    "print(r.get_ranked_phrases_with_scores())"
   ]
  },
  {
   "cell_type": "code",
   "execution_count": 6,
   "id": "57214356",
   "metadata": {},
   "outputs": [
    {
     "data": {
      "text/plain": [
       "<function __main__.extract_text()>"
      ]
     },
     "execution_count": 6,
     "metadata": {},
     "output_type": "execute_result"
    }
   ],
   "source": []
  }
 ],
 "metadata": {
  "kernelspec": {
   "display_name": "Python 3 (ipykernel)",
   "language": "python",
   "name": "python3"
  },
  "language_info": {
   "codemirror_mode": {
    "name": "ipython",
    "version": 3
   },
   "file_extension": ".py",
   "mimetype": "text/x-python",
   "name": "python",
   "nbconvert_exporter": "python",
   "pygments_lexer": "ipython3",
   "version": "3.9.13"
  },
  "toc": {
   "base_numbering": 1,
   "nav_menu": {},
   "number_sections": true,
   "sideBar": true,
   "skip_h1_title": false,
   "title_cell": "Table of Contents",
   "title_sidebar": "Contents",
   "toc_cell": false,
   "toc_position": {},
   "toc_section_display": true,
   "toc_window_display": false
  }
 },
 "nbformat": 4,
 "nbformat_minor": 5
}
