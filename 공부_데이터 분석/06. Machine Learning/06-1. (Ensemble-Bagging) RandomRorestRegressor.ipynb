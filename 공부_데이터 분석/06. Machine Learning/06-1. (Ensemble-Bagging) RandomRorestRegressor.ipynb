{
 "cells": [
  {
   "cell_type": "markdown",
   "id": "7ac5f263",
   "metadata": {},
   "source": [
    "# 보스턴 집값 예측"
   ]
  },
  {
   "cell_type": "markdown",
   "id": "357134cf",
   "metadata": {},
   "source": [
    "## 패키지 로딩"
   ]
  },
  {
   "cell_type": "code",
   "execution_count": 6,
   "id": "8152caf3",
   "metadata": {},
   "outputs": [],
   "source": [
    "# 경고 메세지 뜨지 않게 하는 법\n",
    "import warnings\n",
    "warnings.filterwarnings(action='ignore') # action='default' : 원상복귀됨"
   ]
  },
  {
   "cell_type": "code",
   "execution_count": 5,
   "id": "1183c980",
   "metadata": {},
   "outputs": [],
   "source": [
    "from sklearn.datasets import load_boston\n",
    "from sklearn.model_selection import train_test_split\n",
    "from sklearn.ensemble import RandomForestRegressor\n",
    "# 랜덤포레스트\n",
    "from sklearn.preprocessing import StandardScaler\n",
    "from sklearn.metrics import mean_squared_error, r2_score # 모델 평가지표\n",
    "\n",
    "import pandas as pd\n",
    "import numpy as np"
   ]
  },
  {
   "cell_type": "markdown",
   "id": "b5f1a137",
   "metadata": {},
   "source": [
    "## 데이터 로드 및 확인"
   ]
  },
  {
   "cell_type": "code",
   "execution_count": 7,
   "id": "d0905e9a",
   "metadata": {},
   "outputs": [],
   "source": [
    "x, y = load_boston(return_X_y=True)"
   ]
  },
  {
   "cell_type": "markdown",
   "id": "3ab337e4",
   "metadata": {},
   "source": [
    "## 학습/평가용 데이터 분할"
   ]
  },
  {
   "cell_type": "code",
   "execution_count": 12,
   "id": "1d2c66f9",
   "metadata": {},
   "outputs": [
    {
     "data": {
      "text/plain": [
       "((354, 13), (152, 13), (354,), (152,))"
      ]
     },
     "execution_count": 12,
     "metadata": {},
     "output_type": "execute_result"
    }
   ],
   "source": [
    "scaled_data = StandardScaler().fit_transform(x)\n",
    "x_train, x_test, y_train, y_test = train_test_split(scaled_data, y,\n",
    "                                                    test_size=0.3, \n",
    "                                                    random_state=10)\n",
    "x_train.shape, x_test.shape, y_train.shape, y_test.shape"
   ]
  },
  {
   "cell_type": "markdown",
   "id": "8959d1c1",
   "metadata": {},
   "source": [
    "## 모델 생성, 학습, 예측, 검증"
   ]
  },
  {
   "cell_type": "code",
   "execution_count": 18,
   "id": "b6b0ca1f",
   "metadata": {},
   "outputs": [
    {
     "name": "stdout",
     "output_type": "stream",
     "text": [
      "n_estimators: 20개\n",
      "MSE: 12.050\n",
      "RMSE: 3.471\n",
      "R2 Score: 0.877\n"
     ]
    }
   ],
   "source": [
    "# 모델 생성\n",
    "# n_estimators : 생성할 tree의 개수\n",
    "n_estimators = 20\n",
    "model = RandomForestRegressor(n_estimators=n_estimators, random_state=0)\n",
    "\n",
    "# 모델 학습\n",
    "model.fit(x_train, y_train)\n",
    "\n",
    "# 예측\n",
    "y_hat = model.predict(x_test)\n",
    "\n",
    "# 모델 검증\n",
    "print(f'n_estimators: {n_estimators}개')\n",
    "print(f'MSE: {mean_squared_error(y_test, y_hat):.3f}')\n",
    "print(f'RMSE: {np.sqrt(mean_squared_error(y_test, y_hat)):.3f}')\n",
    "print(f'R2 Score: {r2_score(y_test, y_hat):.3f}')\n",
    "# R2 Score : LinearRegression에서는 R2 Score가 0.7이었다.\n",
    "# RandomForest가 더 좋은 예측 결과를 보여준다."
   ]
  },
  {
   "cell_type": "markdown",
   "id": "f8a107e1",
   "metadata": {},
   "source": [
    "## 하이퍼 파라미터 튜닝"
   ]
  },
  {
   "cell_type": "code",
   "execution_count": 26,
   "id": "a2e89dae",
   "metadata": {
    "scrolled": true
   },
   "outputs": [
    {
     "name": "stdout",
     "output_type": "stream",
     "text": [
      "best params: {'bootstrap': False, 'max_features': 4, 'n_estimators': 10}\n"
     ]
    }
   ],
   "source": [
    "from sklearn.model_selection import GridSearchCV\n",
    "\n",
    "\n",
    "params = [ {'n_estimators': [3,10,20,30,40,50],\n",
    "           'max_features': [2,4,6,8]},\n",
    "           {'n_estimators': [3,10],\n",
    "           'max_features': [2,3,4],\n",
    "           'bootstrap': [False]} ]\n",
    "# max_features : 의사결정나무의 최적의 노드 분할을 위해 사용하는 피처의 수(default : None)\n",
    "# bootstrap : True면 복원 추출 / False면 비복원 추출\n",
    "model = RandomForestRegressor()\n",
    "gs = GridSearchCV(model, params, cv=5, scoring='r2')\n",
    "# cv : 폴드의 갯수 (DEFAULT는 5회)\n",
    "# scoring : 평가지표의 이름을 리스트로 전달\n",
    "gs.fit(x_train, y_train)\n",
    "print('best params:', gs.best_params_)\n",
    "# gs.best_params_ : 최적의 파라미터 조합 결과 반환"
   ]
  },
  {
   "cell_type": "markdown",
   "id": "cee7a070",
   "metadata": {},
   "source": [
    "## 튜닝 후 모델 검증"
   ]
  },
  {
   "cell_type": "code",
   "execution_count": 27,
   "id": "3cfae133",
   "metadata": {},
   "outputs": [
    {
     "name": "stdout",
     "output_type": "stream",
     "text": [
      "best params: {'bootstrap': False, 'max_features': 4, 'n_estimators': 10}\n",
      "MSE: 9.993\n",
      "RMSE: 3.161\n",
      "R2 Score: 0.898\n"
     ]
    }
   ],
   "source": [
    "y_hat = gs.best_estimator_.predict(x_test)\n",
    "# best_estimator_ : 최적의 결과를 보여주는 파라미터 조합으로 만들어진 분류 모형\n",
    "\n",
    "# 모델 검증\n",
    "print('best params:', gs.best_params_)\n",
    "print(f'MSE: {mean_squared_error(y_test, y_hat):.3f}')\n",
    "print(f'RMSE: {np.sqrt(mean_squared_error(y_test, y_hat)):.3f}')\n",
    "print(f'R2 Score: {r2_score(y_test, y_hat):.3f}')"
   ]
  }
 ],
 "metadata": {
  "kernelspec": {
   "display_name": "Python 3 (ipykernel)",
   "language": "python",
   "name": "python3"
  },
  "language_info": {
   "codemirror_mode": {
    "name": "ipython",
    "version": 3
   },
   "file_extension": ".py",
   "mimetype": "text/x-python",
   "name": "python",
   "nbconvert_exporter": "python",
   "pygments_lexer": "ipython3",
   "version": "3.9.13"
  },
  "toc": {
   "base_numbering": 1,
   "nav_menu": {},
   "number_sections": true,
   "sideBar": true,
   "skip_h1_title": false,
   "title_cell": "Table of Contents",
   "title_sidebar": "Contents",
   "toc_cell": false,
   "toc_position": {
    "height": "499.619px",
    "left": "44px",
    "top": "133px",
    "width": "292.56px"
   },
   "toc_section_display": true,
   "toc_window_display": true
  }
 },
 "nbformat": 4,
 "nbformat_minor": 5
}
