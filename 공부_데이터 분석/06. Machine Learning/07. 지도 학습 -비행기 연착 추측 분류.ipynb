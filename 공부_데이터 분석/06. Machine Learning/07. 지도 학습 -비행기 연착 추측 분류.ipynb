{
 "cells": [
  {
   "cell_type": "markdown",
   "id": "ca2d2b16",
   "metadata": {},
   "source": [
    "# 비행기 연착 추측 분류\n",
    "- 분류 분석"
   ]
  },
  {
   "cell_type": "code",
   "execution_count": null,
   "id": "e5116102",
   "metadata": {},
   "outputs": [],
   "source": [
    "# 1. 비행정보 + 출발 공항정보\n",
    "# 2. 비행정보 + 출발 공항정보 + 도착 공항정보\n",
    "# 3. 컬럼 선택\n",
    "# 4. 결측치 포함한 행 삭제\n",
    "# 5. 컬럼 타입 변경\n",
    "# 6. 명목형 변수 라벨 인코딩"
   ]
  },
  {
   "cell_type": "markdown",
   "id": "307125bc",
   "metadata": {},
   "source": [
    "## 패키지 로딩"
   ]
  },
  {
   "cell_type": "code",
   "execution_count": 109,
   "id": "124718d6",
   "metadata": {},
   "outputs": [],
   "source": [
    "import numpy as np\n",
    "import pandas as pd"
   ]
  },
  {
   "cell_type": "markdown",
   "id": "4b193ca9",
   "metadata": {},
   "source": [
    "## 데이터 로드"
   ]
  },
  {
   "cell_type": "code",
   "execution_count": 110,
   "id": "3b5adf7c",
   "metadata": {
    "scrolled": true
   },
   "outputs": [
    {
     "data": {
      "text/html": [
       "<div>\n",
       "<style scoped>\n",
       "    .dataframe tbody tr th:only-of-type {\n",
       "        vertical-align: middle;\n",
       "    }\n",
       "\n",
       "    .dataframe tbody tr th {\n",
       "        vertical-align: top;\n",
       "    }\n",
       "\n",
       "    .dataframe thead th {\n",
       "        text-align: right;\n",
       "    }\n",
       "</style>\n",
       "<table border=\"1\" class=\"dataframe\">\n",
       "  <thead>\n",
       "    <tr style=\"text-align: right;\">\n",
       "      <th></th>\n",
       "      <th>airport_id</th>\n",
       "      <th>city</th>\n",
       "      <th>state</th>\n",
       "      <th>name</th>\n",
       "    </tr>\n",
       "  </thead>\n",
       "  <tbody>\n",
       "    <tr>\n",
       "      <th>0</th>\n",
       "      <td>10165</td>\n",
       "      <td>Adak Island</td>\n",
       "      <td>AK</td>\n",
       "      <td>Adak</td>\n",
       "    </tr>\n",
       "    <tr>\n",
       "      <th>1</th>\n",
       "      <td>10299</td>\n",
       "      <td>Anchorage</td>\n",
       "      <td>AK</td>\n",
       "      <td>Ted Stevens Anchorage International</td>\n",
       "    </tr>\n",
       "    <tr>\n",
       "      <th>2</th>\n",
       "      <td>10304</td>\n",
       "      <td>Aniak</td>\n",
       "      <td>AK</td>\n",
       "      <td>Aniak Airport</td>\n",
       "    </tr>\n",
       "    <tr>\n",
       "      <th>3</th>\n",
       "      <td>10754</td>\n",
       "      <td>Barrow</td>\n",
       "      <td>AK</td>\n",
       "      <td>Wiley Post/Will Rogers Memorial</td>\n",
       "    </tr>\n",
       "    <tr>\n",
       "      <th>4</th>\n",
       "      <td>10551</td>\n",
       "      <td>Bethel</td>\n",
       "      <td>AK</td>\n",
       "      <td>Bethel Airport</td>\n",
       "    </tr>\n",
       "  </tbody>\n",
       "</table>\n",
       "</div>"
      ],
      "text/plain": [
       "   airport_id         city state                                  name\n",
       "0       10165  Adak Island    AK                                  Adak\n",
       "1       10299    Anchorage    AK   Ted Stevens Anchorage International\n",
       "2       10304        Aniak    AK                         Aniak Airport\n",
       "3       10754       Barrow    AK       Wiley Post/Will Rogers Memorial\n",
       "4       10551       Bethel    AK                        Bethel Airport"
      ]
     },
     "execution_count": 110,
     "metadata": {},
     "output_type": "execute_result"
    }
   ],
   "source": [
    "airport_origin = pd.read_csv('Airport Codes Dataset.csv')\n",
    "airport_origin.shape # (365,4)\n",
    "airport_origin.head()"
   ]
  },
  {
   "cell_type": "code",
   "execution_count": 111,
   "id": "346fde20",
   "metadata": {},
   "outputs": [
    {
     "data": {
      "text/html": [
       "<div>\n",
       "<style scoped>\n",
       "    .dataframe tbody tr th:only-of-type {\n",
       "        vertical-align: middle;\n",
       "    }\n",
       "\n",
       "    .dataframe tbody tr th {\n",
       "        vertical-align: top;\n",
       "    }\n",
       "\n",
       "    .dataframe thead th {\n",
       "        text-align: right;\n",
       "    }\n",
       "</style>\n",
       "<table border=\"1\" class=\"dataframe\">\n",
       "  <thead>\n",
       "    <tr style=\"text-align: right;\">\n",
       "      <th></th>\n",
       "      <th>Year</th>\n",
       "      <th>Quarter</th>\n",
       "      <th>Month</th>\n",
       "      <th>DayofMonth</th>\n",
       "      <th>DayOfWeek</th>\n",
       "      <th>Carrier</th>\n",
       "      <th>OriginAirportID</th>\n",
       "      <th>DestAirportID</th>\n",
       "      <th>CRSDepTime</th>\n",
       "      <th>DepTimeBlk</th>\n",
       "      <th>DepDelay</th>\n",
       "      <th>DepDel15</th>\n",
       "      <th>CRSArrTime</th>\n",
       "      <th>ArrTimeBlk</th>\n",
       "      <th>ArrDelay</th>\n",
       "      <th>ArrDel15</th>\n",
       "      <th>Cancelled</th>\n",
       "      <th>Diverted</th>\n",
       "    </tr>\n",
       "  </thead>\n",
       "  <tbody>\n",
       "    <tr>\n",
       "      <th>0</th>\n",
       "      <td>2011</td>\n",
       "      <td>4</td>\n",
       "      <td>10</td>\n",
       "      <td>6</td>\n",
       "      <td>4</td>\n",
       "      <td>WN</td>\n",
       "      <td>13495</td>\n",
       "      <td>12191</td>\n",
       "      <td>1435</td>\n",
       "      <td>1400-1459</td>\n",
       "      <td>2.0</td>\n",
       "      <td>0.0</td>\n",
       "      <td>1550</td>\n",
       "      <td>1500-1559</td>\n",
       "      <td>-6.0</td>\n",
       "      <td>0.0</td>\n",
       "      <td>0</td>\n",
       "      <td>0</td>\n",
       "    </tr>\n",
       "    <tr>\n",
       "      <th>1</th>\n",
       "      <td>2011</td>\n",
       "      <td>4</td>\n",
       "      <td>10</td>\n",
       "      <td>6</td>\n",
       "      <td>4</td>\n",
       "      <td>WN</td>\n",
       "      <td>13495</td>\n",
       "      <td>12191</td>\n",
       "      <td>1330</td>\n",
       "      <td>1300-1359</td>\n",
       "      <td>-4.0</td>\n",
       "      <td>0.0</td>\n",
       "      <td>1445</td>\n",
       "      <td>1400-1459</td>\n",
       "      <td>-12.0</td>\n",
       "      <td>0.0</td>\n",
       "      <td>0</td>\n",
       "      <td>0</td>\n",
       "    </tr>\n",
       "    <tr>\n",
       "      <th>2</th>\n",
       "      <td>2011</td>\n",
       "      <td>4</td>\n",
       "      <td>10</td>\n",
       "      <td>6</td>\n",
       "      <td>4</td>\n",
       "      <td>WN</td>\n",
       "      <td>13495</td>\n",
       "      <td>12191</td>\n",
       "      <td>1030</td>\n",
       "      <td>1000-1059</td>\n",
       "      <td>-2.0</td>\n",
       "      <td>0.0</td>\n",
       "      <td>1145</td>\n",
       "      <td>1100-1159</td>\n",
       "      <td>-14.0</td>\n",
       "      <td>0.0</td>\n",
       "      <td>0</td>\n",
       "      <td>0</td>\n",
       "    </tr>\n",
       "    <tr>\n",
       "      <th>3</th>\n",
       "      <td>2011</td>\n",
       "      <td>4</td>\n",
       "      <td>10</td>\n",
       "      <td>6</td>\n",
       "      <td>4</td>\n",
       "      <td>WN</td>\n",
       "      <td>13495</td>\n",
       "      <td>12889</td>\n",
       "      <td>1900</td>\n",
       "      <td>1900-1959</td>\n",
       "      <td>0.0</td>\n",
       "      <td>0.0</td>\n",
       "      <td>2055</td>\n",
       "      <td>2000-2059</td>\n",
       "      <td>-6.0</td>\n",
       "      <td>0.0</td>\n",
       "      <td>0</td>\n",
       "      <td>0</td>\n",
       "    </tr>\n",
       "    <tr>\n",
       "      <th>4</th>\n",
       "      <td>2011</td>\n",
       "      <td>4</td>\n",
       "      <td>10</td>\n",
       "      <td>6</td>\n",
       "      <td>4</td>\n",
       "      <td>WN</td>\n",
       "      <td>13495</td>\n",
       "      <td>12889</td>\n",
       "      <td>1340</td>\n",
       "      <td>1300-1359</td>\n",
       "      <td>-1.0</td>\n",
       "      <td>0.0</td>\n",
       "      <td>1530</td>\n",
       "      <td>1500-1559</td>\n",
       "      <td>2.0</td>\n",
       "      <td>0.0</td>\n",
       "      <td>0</td>\n",
       "      <td>0</td>\n",
       "    </tr>\n",
       "  </tbody>\n",
       "</table>\n",
       "</div>"
      ],
      "text/plain": [
       "   Year  Quarter  Month  DayofMonth  DayOfWeek Carrier  OriginAirportID  \\\n",
       "0  2011        4     10           6          4      WN            13495   \n",
       "1  2011        4     10           6          4      WN            13495   \n",
       "2  2011        4     10           6          4      WN            13495   \n",
       "3  2011        4     10           6          4      WN            13495   \n",
       "4  2011        4     10           6          4      WN            13495   \n",
       "\n",
       "   DestAirportID  CRSDepTime DepTimeBlk  DepDelay  DepDel15  CRSArrTime  \\\n",
       "0          12191        1435  1400-1459       2.0       0.0        1550   \n",
       "1          12191        1330  1300-1359      -4.0       0.0        1445   \n",
       "2          12191        1030  1000-1059      -2.0       0.0        1145   \n",
       "3          12889        1900  1900-1959       0.0       0.0        2055   \n",
       "4          12889        1340  1300-1359      -1.0       0.0        1530   \n",
       "\n",
       "  ArrTimeBlk  ArrDelay  ArrDel15  Cancelled  Diverted  \n",
       "0  1500-1559      -6.0       0.0          0         0  \n",
       "1  1400-1459     -12.0       0.0          0         0  \n",
       "2  1100-1159     -14.0       0.0          0         0  \n",
       "3  2000-2059      -6.0       0.0          0         0  \n",
       "4  1500-1559       2.0       0.0          0         0  "
      ]
     },
     "execution_count": 111,
     "metadata": {},
     "output_type": "execute_result"
    }
   ],
   "source": [
    "flight_origin = pd.read_csv('Flight on-time performance.csv')\n",
    "flight_origin.shape # (504397,18)\n",
    "flight_origin.head()"
   ]
  },
  {
   "cell_type": "code",
   "execution_count": 115,
   "id": "a803ad00",
   "metadata": {},
   "outputs": [
    {
     "name": "stdout",
     "output_type": "stream",
     "text": [
      "<class 'pandas.core.frame.DataFrame'>\n",
      "RangeIndex: 365 entries, 0 to 364\n",
      "Data columns (total 4 columns):\n",
      " #   Column      Non-Null Count  Dtype \n",
      "---  ------      --------------  ----- \n",
      " 0   airport_id  365 non-null    int64 \n",
      " 1   city        365 non-null    object\n",
      " 2   state       365 non-null    object\n",
      " 3   name        365 non-null    object\n",
      "dtypes: int64(1), object(3)\n",
      "memory usage: 11.5+ KB\n",
      "<class 'pandas.core.frame.DataFrame'>\n",
      "RangeIndex: 365 entries, 0 to 364\n",
      "Data columns (total 4 columns):\n",
      " #   Column      Non-Null Count  Dtype \n",
      "---  ------      --------------  ----- \n",
      " 0   airport_id  365 non-null    int64 \n",
      " 1   city        365 non-null    object\n",
      " 2   state       365 non-null    object\n",
      " 3   name        365 non-null    object\n",
      "dtypes: int64(1), object(3)\n",
      "memory usage: 11.5+ KB\n",
      "<class 'pandas.core.frame.DataFrame'>\n",
      "RangeIndex: 504397 entries, 0 to 504396\n",
      "Data columns (total 18 columns):\n",
      " #   Column           Non-Null Count   Dtype  \n",
      "---  ------           --------------   -----  \n",
      " 0   Year             504397 non-null  int64  \n",
      " 1   Quarter          504397 non-null  int64  \n",
      " 2   Month            504397 non-null  int64  \n",
      " 3   DayofMonth       504397 non-null  int64  \n",
      " 4   DayOfWeek        504397 non-null  int64  \n",
      " 5   Carrier          504397 non-null  object \n",
      " 6   OriginAirportID  504397 non-null  int64  \n",
      " 7   DestAirportID    504397 non-null  int64  \n",
      " 8   CRSDepTime       504397 non-null  int64  \n",
      " 9   DepTimeBlk       504397 non-null  object \n",
      " 10  DepDelay         500700 non-null  float64\n",
      " 11  DepDel15         500700 non-null  float64\n",
      " 12  CRSArrTime       504397 non-null  int64  \n",
      " 13  ArrTimeBlk       504397 non-null  object \n",
      " 14  ArrDelay         499680 non-null  float64\n",
      " 15  ArrDel15         499680 non-null  float64\n",
      " 16  Cancelled        504397 non-null  int64  \n",
      " 17  Diverted         504397 non-null  int64  \n",
      "dtypes: float64(4), int64(11), object(3)\n",
      "memory usage: 69.3+ MB\n"
     ]
    }
   ],
   "source": [
    "# 카피본 떠놓고 시작하기\n",
    "airport1 = airport_origin.copy()\n",
    "airport1.info()\n",
    "\n",
    "airport2 = airport_origin.copy()\n",
    "airport2.info()\n",
    "\n",
    "flight = flight_origin.copy()\n",
    "flight.info()"
   ]
  },
  {
   "cell_type": "markdown",
   "id": "51be0f22",
   "metadata": {},
   "source": [
    "## 데이터 전처리 1"
   ]
  },
  {
   "cell_type": "code",
   "execution_count": 116,
   "id": "20f24cde",
   "metadata": {},
   "outputs": [
    {
     "data": {
      "text/plain": [
       "Year                  0\n",
       "Quarter               0\n",
       "Month                 0\n",
       "DayofMonth            0\n",
       "DayOfWeek             0\n",
       "Carrier               0\n",
       "OriginAirportID       0\n",
       "DestAirportID         0\n",
       "CRSDepTime            0\n",
       "DepTimeBlk            0\n",
       "DepDelay           3697\n",
       "DepDel15           3697\n",
       "CRSArrTime            0\n",
       "ArrTimeBlk            0\n",
       "ArrDelay           4717\n",
       "ArrDel15           4717\n",
       "Cancelled             0\n",
       "Diverted              0\n",
       "dtype: int64"
      ]
     },
     "execution_count": 116,
     "metadata": {},
     "output_type": "execute_result"
    }
   ],
   "source": [
    "# 1-1. 결측치 포함한 행 삭제\n",
    "airport1.isna().sum()\n",
    "flight.isna().sum()\n",
    "# flight[flight['DepDelay'].isna()]"
   ]
  },
  {
   "cell_type": "code",
   "execution_count": 117,
   "id": "6ebbadf6",
   "metadata": {
    "scrolled": true
   },
   "outputs": [
    {
     "data": {
      "text/plain": [
       "Year               0\n",
       "Quarter            0\n",
       "Month              0\n",
       "DayofMonth         0\n",
       "DayOfWeek          0\n",
       "Carrier            0\n",
       "OriginAirportID    0\n",
       "DestAirportID      0\n",
       "CRSDepTime         0\n",
       "DepTimeBlk         0\n",
       "DepDelay           0\n",
       "DepDel15           0\n",
       "CRSArrTime         0\n",
       "ArrTimeBlk         0\n",
       "ArrDelay           0\n",
       "ArrDel15           0\n",
       "Cancelled          0\n",
       "Diverted           0\n",
       "dtype: int64"
      ]
     },
     "execution_count": 117,
     "metadata": {},
     "output_type": "execute_result"
    }
   ],
   "source": [
    "flight.dropna(inplace=True)\n",
    "# df_flight_cleared = flight.dropna()\n",
    "flight.isna().sum()"
   ]
  },
  {
   "cell_type": "markdown",
   "id": "c2446766",
   "metadata": {},
   "source": [
    "## 데이터 전처리 2"
   ]
  },
  {
   "cell_type": "code",
   "execution_count": 118,
   "id": "dce91289",
   "metadata": {},
   "outputs": [
    {
     "data": {
      "text/plain": [
       "Index(['airport_id', 'Ori-city', 'Ori-state', 'Ori-airport'], dtype='object')"
      ]
     },
     "execution_count": 118,
     "metadata": {},
     "output_type": "execute_result"
    }
   ],
   "source": [
    "# 2-1. 출발 공항정보 만들기\n",
    "airport1.columns = ['airport_id', 'Ori-city', 'Ori-state', 'Ori-airport']\n",
    "# airport1 = airport1.rename(columns={'city':'Ori-city', 'state':'Ori-state', 'name':'Ori-airport'})\n",
    "airport1.columns\n",
    "# airport1.head()"
   ]
  },
  {
   "cell_type": "code",
   "execution_count": 119,
   "id": "848a4ef6",
   "metadata": {
    "scrolled": false
   },
   "outputs": [
    {
     "data": {
      "text/html": [
       "<div>\n",
       "<style scoped>\n",
       "    .dataframe tbody tr th:only-of-type {\n",
       "        vertical-align: middle;\n",
       "    }\n",
       "\n",
       "    .dataframe tbody tr th {\n",
       "        vertical-align: top;\n",
       "    }\n",
       "\n",
       "    .dataframe thead th {\n",
       "        text-align: right;\n",
       "    }\n",
       "</style>\n",
       "<table border=\"1\" class=\"dataframe\">\n",
       "  <thead>\n",
       "    <tr style=\"text-align: right;\">\n",
       "      <th></th>\n",
       "      <th>Year</th>\n",
       "      <th>Quarter</th>\n",
       "      <th>Month</th>\n",
       "      <th>DayofMonth</th>\n",
       "      <th>DayOfWeek</th>\n",
       "      <th>Carrier</th>\n",
       "      <th>OriginAirportID</th>\n",
       "      <th>DestAirportID</th>\n",
       "      <th>CRSDepTime</th>\n",
       "      <th>DepTimeBlk</th>\n",
       "      <th>...</th>\n",
       "      <th>CRSArrTime</th>\n",
       "      <th>ArrTimeBlk</th>\n",
       "      <th>ArrDelay</th>\n",
       "      <th>ArrDel15</th>\n",
       "      <th>Cancelled</th>\n",
       "      <th>Diverted</th>\n",
       "      <th>airport_id</th>\n",
       "      <th>Ori-city</th>\n",
       "      <th>Ori-state</th>\n",
       "      <th>Ori-airport</th>\n",
       "    </tr>\n",
       "  </thead>\n",
       "  <tbody>\n",
       "    <tr>\n",
       "      <th>0</th>\n",
       "      <td>2011</td>\n",
       "      <td>4</td>\n",
       "      <td>10</td>\n",
       "      <td>6</td>\n",
       "      <td>4</td>\n",
       "      <td>WN</td>\n",
       "      <td>13495</td>\n",
       "      <td>12191</td>\n",
       "      <td>1435</td>\n",
       "      <td>1400-1459</td>\n",
       "      <td>...</td>\n",
       "      <td>1550</td>\n",
       "      <td>1500-1559</td>\n",
       "      <td>-6.0</td>\n",
       "      <td>0.0</td>\n",
       "      <td>0</td>\n",
       "      <td>0</td>\n",
       "      <td>13495</td>\n",
       "      <td>New Orleans</td>\n",
       "      <td>LA</td>\n",
       "      <td>Louis Armstrong New Orleans International</td>\n",
       "    </tr>\n",
       "    <tr>\n",
       "      <th>1</th>\n",
       "      <td>2011</td>\n",
       "      <td>4</td>\n",
       "      <td>10</td>\n",
       "      <td>6</td>\n",
       "      <td>4</td>\n",
       "      <td>WN</td>\n",
       "      <td>13495</td>\n",
       "      <td>12191</td>\n",
       "      <td>1330</td>\n",
       "      <td>1300-1359</td>\n",
       "      <td>...</td>\n",
       "      <td>1445</td>\n",
       "      <td>1400-1459</td>\n",
       "      <td>-12.0</td>\n",
       "      <td>0.0</td>\n",
       "      <td>0</td>\n",
       "      <td>0</td>\n",
       "      <td>13495</td>\n",
       "      <td>New Orleans</td>\n",
       "      <td>LA</td>\n",
       "      <td>Louis Armstrong New Orleans International</td>\n",
       "    </tr>\n",
       "    <tr>\n",
       "      <th>2</th>\n",
       "      <td>2011</td>\n",
       "      <td>4</td>\n",
       "      <td>10</td>\n",
       "      <td>6</td>\n",
       "      <td>4</td>\n",
       "      <td>WN</td>\n",
       "      <td>13495</td>\n",
       "      <td>12191</td>\n",
       "      <td>1030</td>\n",
       "      <td>1000-1059</td>\n",
       "      <td>...</td>\n",
       "      <td>1145</td>\n",
       "      <td>1100-1159</td>\n",
       "      <td>-14.0</td>\n",
       "      <td>0.0</td>\n",
       "      <td>0</td>\n",
       "      <td>0</td>\n",
       "      <td>13495</td>\n",
       "      <td>New Orleans</td>\n",
       "      <td>LA</td>\n",
       "      <td>Louis Armstrong New Orleans International</td>\n",
       "    </tr>\n",
       "    <tr>\n",
       "      <th>3</th>\n",
       "      <td>2011</td>\n",
       "      <td>4</td>\n",
       "      <td>10</td>\n",
       "      <td>6</td>\n",
       "      <td>4</td>\n",
       "      <td>WN</td>\n",
       "      <td>13495</td>\n",
       "      <td>12889</td>\n",
       "      <td>1900</td>\n",
       "      <td>1900-1959</td>\n",
       "      <td>...</td>\n",
       "      <td>2055</td>\n",
       "      <td>2000-2059</td>\n",
       "      <td>-6.0</td>\n",
       "      <td>0.0</td>\n",
       "      <td>0</td>\n",
       "      <td>0</td>\n",
       "      <td>13495</td>\n",
       "      <td>New Orleans</td>\n",
       "      <td>LA</td>\n",
       "      <td>Louis Armstrong New Orleans International</td>\n",
       "    </tr>\n",
       "    <tr>\n",
       "      <th>4</th>\n",
       "      <td>2011</td>\n",
       "      <td>4</td>\n",
       "      <td>10</td>\n",
       "      <td>6</td>\n",
       "      <td>4</td>\n",
       "      <td>WN</td>\n",
       "      <td>13495</td>\n",
       "      <td>12889</td>\n",
       "      <td>1340</td>\n",
       "      <td>1300-1359</td>\n",
       "      <td>...</td>\n",
       "      <td>1530</td>\n",
       "      <td>1500-1559</td>\n",
       "      <td>2.0</td>\n",
       "      <td>0.0</td>\n",
       "      <td>0</td>\n",
       "      <td>0</td>\n",
       "      <td>13495</td>\n",
       "      <td>New Orleans</td>\n",
       "      <td>LA</td>\n",
       "      <td>Louis Armstrong New Orleans International</td>\n",
       "    </tr>\n",
       "  </tbody>\n",
       "</table>\n",
       "<p>5 rows × 22 columns</p>\n",
       "</div>"
      ],
      "text/plain": [
       "   Year  Quarter  Month  DayofMonth  DayOfWeek Carrier  OriginAirportID  \\\n",
       "0  2011        4     10           6          4      WN            13495   \n",
       "1  2011        4     10           6          4      WN            13495   \n",
       "2  2011        4     10           6          4      WN            13495   \n",
       "3  2011        4     10           6          4      WN            13495   \n",
       "4  2011        4     10           6          4      WN            13495   \n",
       "\n",
       "   DestAirportID  CRSDepTime DepTimeBlk  ...  CRSArrTime  ArrTimeBlk  \\\n",
       "0          12191        1435  1400-1459  ...        1550   1500-1559   \n",
       "1          12191        1330  1300-1359  ...        1445   1400-1459   \n",
       "2          12191        1030  1000-1059  ...        1145   1100-1159   \n",
       "3          12889        1900  1900-1959  ...        2055   2000-2059   \n",
       "4          12889        1340  1300-1359  ...        1530   1500-1559   \n",
       "\n",
       "   ArrDelay ArrDel15  Cancelled  Diverted  airport_id     Ori-city  Ori-state  \\\n",
       "0      -6.0      0.0          0         0       13495  New Orleans         LA   \n",
       "1     -12.0      0.0          0         0       13495  New Orleans         LA   \n",
       "2     -14.0      0.0          0         0       13495  New Orleans         LA   \n",
       "3      -6.0      0.0          0         0       13495  New Orleans         LA   \n",
       "4       2.0      0.0          0         0       13495  New Orleans         LA   \n",
       "\n",
       "                                  Ori-airport  \n",
       "0   Louis Armstrong New Orleans International  \n",
       "1   Louis Armstrong New Orleans International  \n",
       "2   Louis Armstrong New Orleans International  \n",
       "3   Louis Armstrong New Orleans International  \n",
       "4   Louis Armstrong New Orleans International  \n",
       "\n",
       "[5 rows x 22 columns]"
      ]
     },
     "metadata": {},
     "output_type": "display_data"
    },
    {
     "data": {
      "text/plain": [
       "(499680, 22)"
      ]
     },
     "execution_count": 119,
     "metadata": {},
     "output_type": "execute_result"
    }
   ],
   "source": [
    "# 2-2. 비행정보 + 출발 공항정보 병합하기\n",
    "merged_df1 = pd.merge(flight, airport1, left_on='OriginAirportID', right_on='airport_id', how='left')\n",
    "# 공통키만 가지고 조인하므로 inner join\n",
    "# left : 왼쪽의 flight를 기준으로 left inner join\n",
    "display(merged_df1.head())\n",
    "merged_df1.shape # (499680, 22)"
   ]
  },
  {
   "cell_type": "code",
   "execution_count": 120,
   "id": "1ac4968f",
   "metadata": {},
   "outputs": [
    {
     "data": {
      "text/plain": [
       "Index(['Year', 'Quarter', 'Month', 'DayofMonth', 'DayOfWeek', 'Carrier',\n",
       "       'OriginAirportID', 'DestAirportID', 'CRSDepTime', 'DepTimeBlk',\n",
       "       'DepDelay', 'DepDel15', 'CRSArrTime', 'ArrTimeBlk', 'ArrDelay',\n",
       "       'ArrDel15', 'Cancelled', 'Diverted', 'Ori-city', 'Ori-state',\n",
       "       'Ori-airport'],\n",
       "      dtype='object')"
      ]
     },
     "execution_count": 120,
     "metadata": {},
     "output_type": "execute_result"
    }
   ],
   "source": [
    "# 2-3. airport_id 컬럼 삭제\n",
    "merged_df1.drop('airport_id', axis=1, inplace=True)\n",
    "merged_df1.columns"
   ]
  },
  {
   "cell_type": "markdown",
   "id": "e3e527df",
   "metadata": {},
   "source": [
    "## 데이터 전처리 3"
   ]
  },
  {
   "cell_type": "code",
   "execution_count": 121,
   "id": "a24ec48d",
   "metadata": {
    "scrolled": true
   },
   "outputs": [
    {
     "data": {
      "text/plain": [
       "Index(['airport_id', 'Dest-city', 'Dest-state', 'Dest-airport'], dtype='object')"
      ]
     },
     "execution_count": 121,
     "metadata": {},
     "output_type": "execute_result"
    }
   ],
   "source": [
    "# 3-1. 도착 공항정보 만들기\n",
    "airport2.columns = ['airport_id', 'Dest-city', 'Dest-state', 'Dest-airport']\n",
    "# airport2 = airport2.rename(columns={'city':'Dest-city', 'state':'Dest-state', 'name':'Dest-airport'})\n",
    "airport2.columns\n",
    "# airport2.head()"
   ]
  },
  {
   "cell_type": "code",
   "execution_count": 122,
   "id": "0a039d56",
   "metadata": {
    "scrolled": true
   },
   "outputs": [
    {
     "data": {
      "text/html": [
       "<div>\n",
       "<style scoped>\n",
       "    .dataframe tbody tr th:only-of-type {\n",
       "        vertical-align: middle;\n",
       "    }\n",
       "\n",
       "    .dataframe tbody tr th {\n",
       "        vertical-align: top;\n",
       "    }\n",
       "\n",
       "    .dataframe thead th {\n",
       "        text-align: right;\n",
       "    }\n",
       "</style>\n",
       "<table border=\"1\" class=\"dataframe\">\n",
       "  <thead>\n",
       "    <tr style=\"text-align: right;\">\n",
       "      <th></th>\n",
       "      <th>Year</th>\n",
       "      <th>Quarter</th>\n",
       "      <th>Month</th>\n",
       "      <th>DayofMonth</th>\n",
       "      <th>DayOfWeek</th>\n",
       "      <th>Carrier</th>\n",
       "      <th>OriginAirportID</th>\n",
       "      <th>DestAirportID</th>\n",
       "      <th>CRSDepTime</th>\n",
       "      <th>DepTimeBlk</th>\n",
       "      <th>...</th>\n",
       "      <th>ArrDel15</th>\n",
       "      <th>Cancelled</th>\n",
       "      <th>Diverted</th>\n",
       "      <th>Ori-city</th>\n",
       "      <th>Ori-state</th>\n",
       "      <th>Ori-airport</th>\n",
       "      <th>airport_id</th>\n",
       "      <th>Dest-city</th>\n",
       "      <th>Dest-state</th>\n",
       "      <th>Dest-airport</th>\n",
       "    </tr>\n",
       "  </thead>\n",
       "  <tbody>\n",
       "    <tr>\n",
       "      <th>0</th>\n",
       "      <td>2011</td>\n",
       "      <td>4</td>\n",
       "      <td>10</td>\n",
       "      <td>6</td>\n",
       "      <td>4</td>\n",
       "      <td>WN</td>\n",
       "      <td>13495</td>\n",
       "      <td>12191</td>\n",
       "      <td>1435</td>\n",
       "      <td>1400-1459</td>\n",
       "      <td>...</td>\n",
       "      <td>0.0</td>\n",
       "      <td>0</td>\n",
       "      <td>0</td>\n",
       "      <td>New Orleans</td>\n",
       "      <td>LA</td>\n",
       "      <td>Louis Armstrong New Orleans International</td>\n",
       "      <td>13495</td>\n",
       "      <td>New Orleans</td>\n",
       "      <td>LA</td>\n",
       "      <td>Louis Armstrong New Orleans International</td>\n",
       "    </tr>\n",
       "    <tr>\n",
       "      <th>1</th>\n",
       "      <td>2011</td>\n",
       "      <td>4</td>\n",
       "      <td>10</td>\n",
       "      <td>6</td>\n",
       "      <td>4</td>\n",
       "      <td>WN</td>\n",
       "      <td>13495</td>\n",
       "      <td>12191</td>\n",
       "      <td>1330</td>\n",
       "      <td>1300-1359</td>\n",
       "      <td>...</td>\n",
       "      <td>0.0</td>\n",
       "      <td>0</td>\n",
       "      <td>0</td>\n",
       "      <td>New Orleans</td>\n",
       "      <td>LA</td>\n",
       "      <td>Louis Armstrong New Orleans International</td>\n",
       "      <td>13495</td>\n",
       "      <td>New Orleans</td>\n",
       "      <td>LA</td>\n",
       "      <td>Louis Armstrong New Orleans International</td>\n",
       "    </tr>\n",
       "    <tr>\n",
       "      <th>2</th>\n",
       "      <td>2011</td>\n",
       "      <td>4</td>\n",
       "      <td>10</td>\n",
       "      <td>6</td>\n",
       "      <td>4</td>\n",
       "      <td>WN</td>\n",
       "      <td>13495</td>\n",
       "      <td>12191</td>\n",
       "      <td>1030</td>\n",
       "      <td>1000-1059</td>\n",
       "      <td>...</td>\n",
       "      <td>0.0</td>\n",
       "      <td>0</td>\n",
       "      <td>0</td>\n",
       "      <td>New Orleans</td>\n",
       "      <td>LA</td>\n",
       "      <td>Louis Armstrong New Orleans International</td>\n",
       "      <td>13495</td>\n",
       "      <td>New Orleans</td>\n",
       "      <td>LA</td>\n",
       "      <td>Louis Armstrong New Orleans International</td>\n",
       "    </tr>\n",
       "    <tr>\n",
       "      <th>3</th>\n",
       "      <td>2011</td>\n",
       "      <td>4</td>\n",
       "      <td>10</td>\n",
       "      <td>6</td>\n",
       "      <td>4</td>\n",
       "      <td>WN</td>\n",
       "      <td>13495</td>\n",
       "      <td>12889</td>\n",
       "      <td>1900</td>\n",
       "      <td>1900-1959</td>\n",
       "      <td>...</td>\n",
       "      <td>0.0</td>\n",
       "      <td>0</td>\n",
       "      <td>0</td>\n",
       "      <td>New Orleans</td>\n",
       "      <td>LA</td>\n",
       "      <td>Louis Armstrong New Orleans International</td>\n",
       "      <td>13495</td>\n",
       "      <td>New Orleans</td>\n",
       "      <td>LA</td>\n",
       "      <td>Louis Armstrong New Orleans International</td>\n",
       "    </tr>\n",
       "    <tr>\n",
       "      <th>4</th>\n",
       "      <td>2011</td>\n",
       "      <td>4</td>\n",
       "      <td>10</td>\n",
       "      <td>6</td>\n",
       "      <td>4</td>\n",
       "      <td>WN</td>\n",
       "      <td>13495</td>\n",
       "      <td>12889</td>\n",
       "      <td>1340</td>\n",
       "      <td>1300-1359</td>\n",
       "      <td>...</td>\n",
       "      <td>0.0</td>\n",
       "      <td>0</td>\n",
       "      <td>0</td>\n",
       "      <td>New Orleans</td>\n",
       "      <td>LA</td>\n",
       "      <td>Louis Armstrong New Orleans International</td>\n",
       "      <td>13495</td>\n",
       "      <td>New Orleans</td>\n",
       "      <td>LA</td>\n",
       "      <td>Louis Armstrong New Orleans International</td>\n",
       "    </tr>\n",
       "  </tbody>\n",
       "</table>\n",
       "<p>5 rows × 25 columns</p>\n",
       "</div>"
      ],
      "text/plain": [
       "   Year  Quarter  Month  DayofMonth  DayOfWeek Carrier  OriginAirportID  \\\n",
       "0  2011        4     10           6          4      WN            13495   \n",
       "1  2011        4     10           6          4      WN            13495   \n",
       "2  2011        4     10           6          4      WN            13495   \n",
       "3  2011        4     10           6          4      WN            13495   \n",
       "4  2011        4     10           6          4      WN            13495   \n",
       "\n",
       "   DestAirportID  CRSDepTime DepTimeBlk  ...  ArrDel15  Cancelled  Diverted  \\\n",
       "0          12191        1435  1400-1459  ...       0.0          0         0   \n",
       "1          12191        1330  1300-1359  ...       0.0          0         0   \n",
       "2          12191        1030  1000-1059  ...       0.0          0         0   \n",
       "3          12889        1900  1900-1959  ...       0.0          0         0   \n",
       "4          12889        1340  1300-1359  ...       0.0          0         0   \n",
       "\n",
       "      Ori-city  Ori-state                                 Ori-airport  \\\n",
       "0  New Orleans         LA   Louis Armstrong New Orleans International   \n",
       "1  New Orleans         LA   Louis Armstrong New Orleans International   \n",
       "2  New Orleans         LA   Louis Armstrong New Orleans International   \n",
       "3  New Orleans         LA   Louis Armstrong New Orleans International   \n",
       "4  New Orleans         LA   Louis Armstrong New Orleans International   \n",
       "\n",
       "   airport_id    Dest-city Dest-state  \\\n",
       "0       13495  New Orleans         LA   \n",
       "1       13495  New Orleans         LA   \n",
       "2       13495  New Orleans         LA   \n",
       "3       13495  New Orleans         LA   \n",
       "4       13495  New Orleans         LA   \n",
       "\n",
       "                                 Dest-airport  \n",
       "0   Louis Armstrong New Orleans International  \n",
       "1   Louis Armstrong New Orleans International  \n",
       "2   Louis Armstrong New Orleans International  \n",
       "3   Louis Armstrong New Orleans International  \n",
       "4   Louis Armstrong New Orleans International  \n",
       "\n",
       "[5 rows x 25 columns]"
      ]
     },
     "metadata": {},
     "output_type": "display_data"
    },
    {
     "data": {
      "text/plain": [
       "(499680, 25)"
      ]
     },
     "execution_count": 122,
     "metadata": {},
     "output_type": "execute_result"
    }
   ],
   "source": [
    "# 3-2. 비행정보 + 출발 공항정보 + 도착 공항정보 병합하기\n",
    "merged_df2 = pd.merge(merged_df1, airport2, left_on='OriginAirportID', right_on='airport_id', how='left')\n",
    "display(merged_df2.head())\n",
    "merged_df2.shape # (499680, 25)"
   ]
  },
  {
   "cell_type": "code",
   "execution_count": 123,
   "id": "2d5920eb",
   "metadata": {},
   "outputs": [
    {
     "data": {
      "text/plain": [
       "Index(['Year', 'Quarter', 'Month', 'DayofMonth', 'DayOfWeek', 'Carrier',\n",
       "       'OriginAirportID', 'DestAirportID', 'CRSDepTime', 'DepTimeBlk',\n",
       "       'DepDelay', 'DepDel15', 'CRSArrTime', 'ArrTimeBlk', 'ArrDelay',\n",
       "       'ArrDel15', 'Cancelled', 'Diverted', 'Ori-city', 'Ori-state',\n",
       "       'Ori-airport', 'Dest-city', 'Dest-state', 'Dest-airport'],\n",
       "      dtype='object')"
      ]
     },
     "execution_count": 123,
     "metadata": {},
     "output_type": "execute_result"
    }
   ],
   "source": [
    "# 3-3. airport_id 컬럼 삭제\n",
    "merged_df2.drop('airport_id', axis=1, inplace=True)\n",
    "merged_df2.columns"
   ]
  },
  {
   "cell_type": "markdown",
   "id": "f9f990af",
   "metadata": {},
   "source": [
    "## 데이터 전처리 4"
   ]
  },
  {
   "cell_type": "code",
   "execution_count": 124,
   "id": "78c1b10c",
   "metadata": {
    "scrolled": true
   },
   "outputs": [
    {
     "name": "stdout",
     "output_type": "stream",
     "text": [
      "<class 'pandas.core.frame.DataFrame'>\n",
      "Int64Index: 499680 entries, 0 to 499679\n",
      "Data columns (total 14 columns):\n",
      " #   Column        Non-Null Count   Dtype  \n",
      "---  ------        --------------   -----  \n",
      " 0   DayOfWeek     499680 non-null  int64  \n",
      " 1   Carrier       499680 non-null  object \n",
      " 2   DepTimeBlk    499680 non-null  object \n",
      " 3   DepDelay      499680 non-null  float64\n",
      " 4   DepDel15      499680 non-null  float64\n",
      " 5   ArrTimeBlk    499680 non-null  object \n",
      " 6   ArrDelay      499680 non-null  float64\n",
      " 7   ArrDel15      499680 non-null  float64\n",
      " 8   Ori-city      499680 non-null  object \n",
      " 9   Ori-state     499680 non-null  object \n",
      " 10  Ori-airport   499680 non-null  object \n",
      " 11  Dest-city     499680 non-null  object \n",
      " 12  Dest-state    499680 non-null  object \n",
      " 13  Dest-airport  499680 non-null  object \n",
      "dtypes: float64(4), int64(1), object(9)\n",
      "memory usage: 57.2+ MB\n"
     ]
    }
   ],
   "source": [
    "# 4. 14개 컬럼 선택\n",
    "df_flight_info = merged_df2[['DayOfWeek', 'Carrier', 'DepTimeBlk', 'DepDelay', 'DepDel15', 'ArrTimeBlk', 'ArrDelay', 'ArrDel15', 'Ori-city', 'Ori-state', 'Ori-airport', 'Dest-city', 'Dest-state', 'Dest-airport']]\n",
    "df_flight_info.info()"
   ]
  },
  {
   "cell_type": "markdown",
   "id": "151ebf67",
   "metadata": {},
   "source": [
    "## 데이터 전처리 5"
   ]
  },
  {
   "cell_type": "code",
   "execution_count": 134,
   "id": "dc14cea4",
   "metadata": {},
   "outputs": [
    {
     "name": "stdout",
     "output_type": "stream",
     "text": [
      "컬럼명 :Carrier        , 유니크값 : 16\n",
      "컬럼명 :DepTimeBlk     , 유니크값 : 19\n",
      "컬럼명 :ArrTimeBlk     , 유니크값 : 19\n",
      "컬럼명 :Ori-city       , 유니크값 : 268\n",
      "컬럼명 :Ori-state      , 유니크값 : 53\n",
      "컬럼명 :Ori-airport    , 유니크값 : 279\n",
      "컬럼명 :Dest-city      , 유니크값 : 268\n",
      "컬럼명 :Dest-state     , 유니크값 : 53\n",
      "컬럼명 :Dest-airport   , 유니크값 : 279\n"
     ]
    }
   ],
   "source": [
    "for col in [col for col in df_flight_info.columns if df_flight_info[col].dtype == 'object']: # list comprehension : 데이터 타입이 object인 column들만!\n",
    "    print(f'컬럼명 :{col:15s}, 유니크값 : {len(df_flight_info[col].unique())}')\n",
    "    # (-) 왼쪽 정렬로 (15s)15자리의 string 문자 간격으로\n",
    "    # unique() : 각 컬럼별 유니크 값을 numpy의 다차원 배열로 갖고 온다."
   ]
  },
  {
   "cell_type": "code",
   "execution_count": 135,
   "id": "784b9595",
   "metadata": {},
   "outputs": [
    {
     "name": "stderr",
     "output_type": "stream",
     "text": [
      "C:\\Users\\user\\AppData\\Local\\Temp\\ipykernel_13304\\2842582857.py:6: SettingWithCopyWarning: \n",
      "A value is trying to be set on a copy of a slice from a DataFrame.\n",
      "Try using .loc[row_indexer,col_indexer] = value instead\n",
      "\n",
      "See the caveats in the documentation: https://pandas.pydata.org/pandas-docs/stable/user_guide/indexing.html#returning-a-view-versus-a-copy\n",
      "  df_flight_info[col]=encoder.fit_transform(df_flight_info[col])\n"
     ]
    }
   ],
   "source": [
    "# 5. 명목형 변수 : 라벨 인코딩\n",
    "from sklearn.preprocessing import LabelEncoder\n",
    "encoder = LabelEncoder()\n",
    "\n",
    "for col in [col for col in df_flight_info.columns if df_flight_info[col].dtype == 'object']:\n",
    "    df_flight_info[col]=encoder.fit_transform(df_flight_info[col])"
   ]
  },
  {
   "cell_type": "code",
   "execution_count": 136,
   "id": "a32d0506",
   "metadata": {
    "scrolled": false
   },
   "outputs": [
    {
     "name": "stdout",
     "output_type": "stream",
     "text": [
      "<class 'pandas.core.frame.DataFrame'>\n",
      "Int64Index: 499680 entries, 0 to 499679\n",
      "Data columns (total 14 columns):\n",
      " #   Column        Non-Null Count   Dtype  \n",
      "---  ------        --------------   -----  \n",
      " 0   DayOfWeek     499680 non-null  int64  \n",
      " 1   Carrier       499680 non-null  int32  \n",
      " 2   DepTimeBlk    499680 non-null  int32  \n",
      " 3   DepDelay      499680 non-null  float64\n",
      " 4   DepDel15      499680 non-null  float64\n",
      " 5   ArrTimeBlk    499680 non-null  int32  \n",
      " 6   ArrDelay      499680 non-null  float64\n",
      " 7   ArrDel15      499680 non-null  float64\n",
      " 8   Ori-city      499680 non-null  int32  \n",
      " 9   Ori-state     499680 non-null  int32  \n",
      " 10  Ori-airport   499680 non-null  int32  \n",
      " 11  Dest-city     499680 non-null  int32  \n",
      " 12  Dest-state    499680 non-null  int32  \n",
      " 13  Dest-airport  499680 non-null  int32  \n",
      "dtypes: float64(4), int32(9), int64(1)\n",
      "memory usage: 40.0 MB\n"
     ]
    }
   ],
   "source": [
    "df_flight_info.info()"
   ]
  },
  {
   "cell_type": "markdown",
   "id": "a267bdbe",
   "metadata": {},
   "source": [
    "## 데이터 준비"
   ]
  },
  {
   "cell_type": "code",
   "execution_count": 137,
   "id": "d877ab34",
   "metadata": {
    "scrolled": true
   },
   "outputs": [
    {
     "name": "stdout",
     "output_type": "stream",
     "text": [
      "0.0    431461\n",
      "1.0     68219\n",
      "Name: ArrDel15, dtype: int64\n"
     ]
    }
   ],
   "source": [
    "x = df_flight_info.drop('ArrDel15', axis=1)\n",
    "# x = df_flight_info.iloc[:, 1:]\n",
    "y = df_flight_info['ArrDel15']\n",
    "print(y.value_counts()) # y의 유니크값 분포 보기"
   ]
  },
  {
   "cell_type": "code",
   "execution_count": null,
   "id": "e504130c",
   "metadata": {},
   "outputs": [],
   "source": [
    "# df3['ArrDel15'] = df3['ArrDel15'].astype(int)\n",
    "# df3['ArrDel15'].info()"
   ]
  },
  {
   "cell_type": "markdown",
   "id": "aa97b660",
   "metadata": {},
   "source": [
    "## 학습/평가용 데이터 분할"
   ]
  },
  {
   "cell_type": "code",
   "execution_count": 138,
   "id": "0b6735d1",
   "metadata": {},
   "outputs": [
    {
     "data": {
      "text/plain": [
       "((399744, 13), (399744,), (99936, 13), (99936,))"
      ]
     },
     "execution_count": 138,
     "metadata": {},
     "output_type": "execute_result"
    }
   ],
   "source": [
    "from sklearn.model_selection import train_test_split\n",
    "x_train, x_test, y_train, y_test = train_test_split(x, y,\n",
    "                                                    train_size=0.8,\n",
    "                                                    stratify=y) # 랜덤 X\n",
    "# stratify=y : 두 클래스 0와 1를 train/test에 동일한 비율로 넣어주기 위함\n",
    "x_train.shape, y_train.shape, x_test.shape, y_test.shape"
   ]
  },
  {
   "cell_type": "markdown",
   "id": "5c3a39c4",
   "metadata": {},
   "source": [
    "## 모델 생성 및 학습"
   ]
  },
  {
   "cell_type": "code",
   "execution_count": 139,
   "id": "c8de833d",
   "metadata": {},
   "outputs": [
    {
     "data": {
      "text/plain": [
       "RandomForestClassifier()"
      ]
     },
     "execution_count": 139,
     "metadata": {},
     "output_type": "execute_result"
    }
   ],
   "source": [
    "from sklearn.ensemble import RandomForestClassifier\n",
    "\n",
    "model = RandomForestClassifier()\n",
    "model.fit(x_train, y_train)"
   ]
  },
  {
   "cell_type": "markdown",
   "id": "604f859a",
   "metadata": {},
   "source": [
    "## 예측 및 모델 평가"
   ]
  },
  {
   "cell_type": "code",
   "execution_count": 143,
   "id": "f337c617",
   "metadata": {
    "scrolled": true
   },
   "outputs": [
    {
     "name": "stdout",
     "output_type": "stream",
     "text": [
      "분류 정확도: 1.000\n",
      "[[86292     0]\n",
      " [    0 13644]]\n"
     ]
    }
   ],
   "source": [
    "# 예측\n",
    "y_hat = model.predict(x_test)\n",
    "\n",
    "# 모델 평가\n",
    "from sklearn.metrics import accuracy_score, confusion_matrix\n",
    "print(f'분류 정확도: {accuracy_score(y_test, y_hat):.3f}')\n",
    "print(confusion_matrix(y_test, y_hat))"
   ]
  },
  {
   "cell_type": "markdown",
   "id": "d3f23375",
   "metadata": {},
   "source": [
    "## Feature Importance"
   ]
  },
  {
   "cell_type": "code",
   "execution_count": 146,
   "id": "1c06f4ee",
   "metadata": {},
   "outputs": [
    {
     "data": {
      "text/html": [
       "<div>\n",
       "<style scoped>\n",
       "    .dataframe tbody tr th:only-of-type {\n",
       "        vertical-align: middle;\n",
       "    }\n",
       "\n",
       "    .dataframe tbody tr th {\n",
       "        vertical-align: top;\n",
       "    }\n",
       "\n",
       "    .dataframe thead th {\n",
       "        text-align: right;\n",
       "    }\n",
       "</style>\n",
       "<table border=\"1\" class=\"dataframe\">\n",
       "  <thead>\n",
       "    <tr style=\"text-align: right;\">\n",
       "      <th></th>\n",
       "      <th>importance</th>\n",
       "    </tr>\n",
       "  </thead>\n",
       "  <tbody>\n",
       "    <tr>\n",
       "      <th>ArrDelay</th>\n",
       "      <td>0.647003</td>\n",
       "    </tr>\n",
       "    <tr>\n",
       "      <th>DepDelay</th>\n",
       "      <td>0.178629</td>\n",
       "    </tr>\n",
       "    <tr>\n",
       "      <th>DepDel15</th>\n",
       "      <td>0.164814</td>\n",
       "    </tr>\n",
       "    <tr>\n",
       "      <th>DepTimeBlk</th>\n",
       "      <td>0.002308</td>\n",
       "    </tr>\n",
       "    <tr>\n",
       "      <th>Carrier</th>\n",
       "      <td>0.001931</td>\n",
       "    </tr>\n",
       "    <tr>\n",
       "      <th>ArrTimeBlk</th>\n",
       "      <td>0.001820</td>\n",
       "    </tr>\n",
       "    <tr>\n",
       "      <th>DayOfWeek</th>\n",
       "      <td>0.000891</td>\n",
       "    </tr>\n",
       "    <tr>\n",
       "      <th>Ori-state</th>\n",
       "      <td>0.000452</td>\n",
       "    </tr>\n",
       "    <tr>\n",
       "      <th>Dest-airport</th>\n",
       "      <td>0.000449</td>\n",
       "    </tr>\n",
       "    <tr>\n",
       "      <th>Ori-airport</th>\n",
       "      <td>0.000434</td>\n",
       "    </tr>\n",
       "    <tr>\n",
       "      <th>Ori-city</th>\n",
       "      <td>0.000433</td>\n",
       "    </tr>\n",
       "    <tr>\n",
       "      <th>Dest-city</th>\n",
       "      <td>0.000430</td>\n",
       "    </tr>\n",
       "    <tr>\n",
       "      <th>Dest-state</th>\n",
       "      <td>0.000406</td>\n",
       "    </tr>\n",
       "  </tbody>\n",
       "</table>\n",
       "</div>"
      ],
      "text/plain": [
       "              importance\n",
       "ArrDelay        0.647003\n",
       "DepDelay        0.178629\n",
       "DepDel15        0.164814\n",
       "DepTimeBlk      0.002308\n",
       "Carrier         0.001931\n",
       "ArrTimeBlk      0.001820\n",
       "DayOfWeek       0.000891\n",
       "Ori-state       0.000452\n",
       "Dest-airport    0.000449\n",
       "Ori-airport     0.000434\n",
       "Ori-city        0.000433\n",
       "Dest-city       0.000430\n",
       "Dest-state      0.000406"
      ]
     },
     "execution_count": 146,
     "metadata": {},
     "output_type": "execute_result"
    }
   ],
   "source": [
    "# 도착 지연 여부 판단시 주요 파라미터가 무엇이었는지 확인하기\n",
    "\n",
    "importance = { k:v for k, v in zip(x.columns, model.feature_importances_)}\n",
    "df_importance = pd.DataFrame(pd.Series(importance), columns=['importance'])\n",
    "df_importance = df_importance.sort_values('importance',  ascending=False)\n",
    "df_importance\n",
    "# 중요도 기준 내림차순으로 정렬\n",
    "# 도착 지연 여부 판단시 가장 중요한 feature는 ArrDelay"
   ]
  },
  {
   "cell_type": "code",
   "execution_count": null,
   "id": "5f480228",
   "metadata": {},
   "outputs": [],
   "source": []
  }
 ],
 "metadata": {
  "kernelspec": {
   "display_name": "Python 3 (ipykernel)",
   "language": "python",
   "name": "python3"
  },
  "language_info": {
   "codemirror_mode": {
    "name": "ipython",
    "version": 3
   },
   "file_extension": ".py",
   "mimetype": "text/x-python",
   "name": "python",
   "nbconvert_exporter": "python",
   "pygments_lexer": "ipython3",
   "version": "3.9.13"
  },
  "toc": {
   "base_numbering": 1,
   "nav_menu": {},
   "number_sections": true,
   "sideBar": true,
   "skip_h1_title": false,
   "title_cell": "Table of Contents",
   "title_sidebar": "Contents",
   "toc_cell": false,
   "toc_position": {
    "height": "calc(100% - 180px)",
    "left": "10px",
    "top": "150px",
    "width": "292.56px"
   },
   "toc_section_display": true,
   "toc_window_display": true
  }
 },
 "nbformat": 4,
 "nbformat_minor": 5
}
