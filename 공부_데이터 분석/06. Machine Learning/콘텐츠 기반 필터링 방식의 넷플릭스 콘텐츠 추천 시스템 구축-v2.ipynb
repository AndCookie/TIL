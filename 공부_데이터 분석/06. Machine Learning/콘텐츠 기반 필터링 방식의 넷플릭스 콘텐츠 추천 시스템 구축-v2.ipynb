{
 "cells": [
  {
   "cell_type": "markdown",
   "id": "6946c05e",
   "metadata": {},
   "source": [
    "**넷플릭스 데이터를 활용한 추천 시스템 개발**\n",
    "- netflix_titles.csv 데이터를 활용하여 주요 데이터 시각화 및 추천 시스템을 개발하시오\n",
    "- 각 마크다운 셀의 내용을 참고하여 코드를 작성한다.\n",
    "- <font color='red'><b>빨간색</b></font>으로 표기된 영역은 이미 작성되어 있는 코드로 그대로 활용하면 된다."
   ]
  },
  {
   "cell_type": "markdown",
   "id": "768f8c4c",
   "metadata": {},
   "source": [
    "- 추천 10개를 요청하면 제목, 장르, 줄거리별 유사도가 높은 콘텐츠를 각각 10개씩 가져와 유사도가 높은 순으로 정렬하여 상위 10개를 보여주는 방식"
   ]
  },
  {
   "cell_type": "markdown",
   "id": "45441074",
   "metadata": {},
   "source": [
    "# 데이터 로딩"
   ]
  },
  {
   "cell_type": "code",
   "execution_count": 1,
   "id": "44e7155a",
   "metadata": {},
   "outputs": [
    {
     "name": "stdout",
     "output_type": "stream",
     "text": [
      "(7787, 12)\n"
     ]
    },
    {
     "data": {
      "text/html": [
       "<div>\n",
       "<style scoped>\n",
       "    .dataframe tbody tr th:only-of-type {\n",
       "        vertical-align: middle;\n",
       "    }\n",
       "\n",
       "    .dataframe tbody tr th {\n",
       "        vertical-align: top;\n",
       "    }\n",
       "\n",
       "    .dataframe thead th {\n",
       "        text-align: right;\n",
       "    }\n",
       "</style>\n",
       "<table border=\"1\" class=\"dataframe\">\n",
       "  <thead>\n",
       "    <tr style=\"text-align: right;\">\n",
       "      <th></th>\n",
       "      <th>show_id</th>\n",
       "      <th>type</th>\n",
       "      <th>title</th>\n",
       "      <th>director</th>\n",
       "      <th>cast</th>\n",
       "      <th>country</th>\n",
       "      <th>date_added</th>\n",
       "      <th>release_year</th>\n",
       "      <th>rating</th>\n",
       "      <th>duration</th>\n",
       "      <th>listed_in</th>\n",
       "      <th>description</th>\n",
       "    </tr>\n",
       "  </thead>\n",
       "  <tbody>\n",
       "    <tr>\n",
       "      <th>0</th>\n",
       "      <td>s1</td>\n",
       "      <td>TV Show</td>\n",
       "      <td>3%</td>\n",
       "      <td>NaN</td>\n",
       "      <td>João Miguel, Bianca Comparato, Michel Gomes, R...</td>\n",
       "      <td>Brazil</td>\n",
       "      <td>August 14, 2020</td>\n",
       "      <td>2020</td>\n",
       "      <td>TV-MA</td>\n",
       "      <td>4 Seasons</td>\n",
       "      <td>International TV Shows, TV Dramas, TV Sci-Fi &amp;...</td>\n",
       "      <td>In a future where the elite inhabit an island ...</td>\n",
       "    </tr>\n",
       "    <tr>\n",
       "      <th>1</th>\n",
       "      <td>s2</td>\n",
       "      <td>Movie</td>\n",
       "      <td>7:19</td>\n",
       "      <td>Jorge Michel Grau</td>\n",
       "      <td>Demián Bichir, Héctor Bonilla, Oscar Serrano, ...</td>\n",
       "      <td>Mexico</td>\n",
       "      <td>December 23, 2016</td>\n",
       "      <td>2016</td>\n",
       "      <td>TV-MA</td>\n",
       "      <td>93 min</td>\n",
       "      <td>Dramas, International Movies</td>\n",
       "      <td>After a devastating earthquake hits Mexico Cit...</td>\n",
       "    </tr>\n",
       "    <tr>\n",
       "      <th>2</th>\n",
       "      <td>s3</td>\n",
       "      <td>Movie</td>\n",
       "      <td>23:59</td>\n",
       "      <td>Gilbert Chan</td>\n",
       "      <td>Tedd Chan, Stella Chung, Henley Hii, Lawrence ...</td>\n",
       "      <td>Singapore</td>\n",
       "      <td>December 20, 2018</td>\n",
       "      <td>2011</td>\n",
       "      <td>R</td>\n",
       "      <td>78 min</td>\n",
       "      <td>Horror Movies, International Movies</td>\n",
       "      <td>When an army recruit is found dead, his fellow...</td>\n",
       "    </tr>\n",
       "    <tr>\n",
       "      <th>3</th>\n",
       "      <td>s4</td>\n",
       "      <td>Movie</td>\n",
       "      <td>9</td>\n",
       "      <td>Shane Acker</td>\n",
       "      <td>Elijah Wood, John C. Reilly, Jennifer Connelly...</td>\n",
       "      <td>United States</td>\n",
       "      <td>November 16, 2017</td>\n",
       "      <td>2009</td>\n",
       "      <td>PG-13</td>\n",
       "      <td>80 min</td>\n",
       "      <td>Action &amp; Adventure, Independent Movies, Sci-Fi...</td>\n",
       "      <td>In a postapocalyptic world, rag-doll robots hi...</td>\n",
       "    </tr>\n",
       "    <tr>\n",
       "      <th>4</th>\n",
       "      <td>s5</td>\n",
       "      <td>Movie</td>\n",
       "      <td>21</td>\n",
       "      <td>Robert Luketic</td>\n",
       "      <td>Jim Sturgess, Kevin Spacey, Kate Bosworth, Aar...</td>\n",
       "      <td>United States</td>\n",
       "      <td>January 1, 2020</td>\n",
       "      <td>2008</td>\n",
       "      <td>PG-13</td>\n",
       "      <td>123 min</td>\n",
       "      <td>Dramas</td>\n",
       "      <td>A brilliant group of students become card-coun...</td>\n",
       "    </tr>\n",
       "  </tbody>\n",
       "</table>\n",
       "</div>"
      ],
      "text/plain": [
       "  show_id     type  title           director  \\\n",
       "0      s1  TV Show     3%                NaN   \n",
       "1      s2    Movie   7:19  Jorge Michel Grau   \n",
       "2      s3    Movie  23:59       Gilbert Chan   \n",
       "3      s4    Movie      9        Shane Acker   \n",
       "4      s5    Movie     21     Robert Luketic   \n",
       "\n",
       "                                                cast        country  \\\n",
       "0  João Miguel, Bianca Comparato, Michel Gomes, R...         Brazil   \n",
       "1  Demián Bichir, Héctor Bonilla, Oscar Serrano, ...         Mexico   \n",
       "2  Tedd Chan, Stella Chung, Henley Hii, Lawrence ...      Singapore   \n",
       "3  Elijah Wood, John C. Reilly, Jennifer Connelly...  United States   \n",
       "4  Jim Sturgess, Kevin Spacey, Kate Bosworth, Aar...  United States   \n",
       "\n",
       "          date_added  release_year rating   duration  \\\n",
       "0    August 14, 2020          2020  TV-MA  4 Seasons   \n",
       "1  December 23, 2016          2016  TV-MA     93 min   \n",
       "2  December 20, 2018          2011      R     78 min   \n",
       "3  November 16, 2017          2009  PG-13     80 min   \n",
       "4    January 1, 2020          2008  PG-13    123 min   \n",
       "\n",
       "                                           listed_in  \\\n",
       "0  International TV Shows, TV Dramas, TV Sci-Fi &...   \n",
       "1                       Dramas, International Movies   \n",
       "2                Horror Movies, International Movies   \n",
       "3  Action & Adventure, Independent Movies, Sci-Fi...   \n",
       "4                                             Dramas   \n",
       "\n",
       "                                         description  \n",
       "0  In a future where the elite inhabit an island ...  \n",
       "1  After a devastating earthquake hits Mexico Cit...  \n",
       "2  When an army recruit is found dead, his fellow...  \n",
       "3  In a postapocalyptic world, rag-doll robots hi...  \n",
       "4  A brilliant group of students become card-coun...  "
      ]
     },
     "execution_count": 1,
     "metadata": {},
     "output_type": "execute_result"
    }
   ],
   "source": [
    "import pandas as pd\n",
    "\n",
    "netflix = pd.read_csv('netflix_titles.csv')\n",
    "print(netflix.shape)\n",
    "netflix.head(5)"
   ]
  },
  {
   "cell_type": "markdown",
   "id": "6d7c2520",
   "metadata": {},
   "source": [
    "# 주요 데이터 시각화"
   ]
  },
  {
   "cell_type": "code",
   "execution_count": 2,
   "id": "a3598b48",
   "metadata": {},
   "outputs": [],
   "source": [
    "import matplotlib.pyplot as plt\n",
    "import seaborn as sns"
   ]
  },
  {
   "cell_type": "markdown",
   "id": "f0ff083a",
   "metadata": {},
   "source": [
    "## TV Show vs Movies (콘텐츠 타입) 막대 그래프"
   ]
  },
  {
   "cell_type": "code",
   "execution_count": 3,
   "id": "564649df",
   "metadata": {},
   "outputs": [
    {
     "data": {
      "text/plain": [
       "Movie      5377\n",
       "TV Show    2410\n",
       "Name: type, dtype: int64"
      ]
     },
     "execution_count": 3,
     "metadata": {},
     "output_type": "execute_result"
    }
   ],
   "source": [
    "netflix['type'].value_counts()"
   ]
  },
  {
   "cell_type": "code",
   "execution_count": 4,
   "id": "a2fcc143",
   "metadata": {},
   "outputs": [
    {
     "data": {
      "image/png": "[encoded data removed]",
      "text/plain": [
       "<Figure size 720x504 with 1 Axes>"
      ]
     },
     "metadata": {
      "needs_background": "light"
     },
     "output_type": "display_data"
    }
   ],
   "source": [
    "plt.figure(figsize=(10,7))\n",
    "sns.set(style=\"darkgrid\")\n",
    "ax = sns.countplot(x=\"type\", data=netflix)\n",
    "plt.show()"
   ]
  },
  {
   "cell_type": "markdown",
   "id": "142daff0",
   "metadata": {},
   "source": [
    "## 제작 국가별 수평 막대 그래프\n",
    "- 결측 값 확인 및 결측 값 레코드 삭제\n",
    "- 2개 이상의 제작국가 값을 가지고 있는 레코드는 ‘,’를 기준으로 분류하여 카운팅 한다.\n",
    "- 상위 10개국에 대한 막대그래프를 그린다."
   ]
  },
  {
   "cell_type": "code",
   "execution_count": 5,
   "id": "02d6dae8",
   "metadata": {},
   "outputs": [
    {
     "data": {
      "text/plain": [
       "507"
      ]
     },
     "execution_count": 5,
     "metadata": {},
     "output_type": "execute_result"
    }
   ],
   "source": [
    "netflix['country'].isna().sum()"
   ]
  },
  {
   "cell_type": "code",
   "execution_count": 6,
   "id": "ece58470",
   "metadata": {},
   "outputs": [
    {
     "data": {
      "text/plain": [
       "(7280, 12)"
      ]
     },
     "execution_count": 6,
     "metadata": {},
     "output_type": "execute_result"
    }
   ],
   "source": [
    "n = netflix.dropna(subset=['country'])\n",
    "n.shape"
   ]
  },
  {
   "cell_type": "code",
   "execution_count": 7,
   "id": "34af37fe",
   "metadata": {},
   "outputs": [],
   "source": [
    "import numpy as np\n",
    "\n",
    "country_count_dic = {}\n",
    "for record in n['country']:\n",
    "    for country in record.split(','):\n",
    "        country_count_dic[country.strip()] = country_count_dic.get(country.strip(), 0) + 1\n",
    "\n",
    "data = {'Country':list(country_count_dic.keys()),\n",
    "        'Count':list(country_count_dic.values())}\n",
    "country_df = pd.DataFrame(data)\n",
    "country_df_10 = country_df.sort_values('Count', ascending=False).head(10)\n",
    "\n",
    "# country_df_10 = country_df[country_df.columns[:10]]\n",
    "country_df_10.index = np.arange(country_df_10.shape[0])"
   ]
  },
  {
   "cell_type": "code",
   "execution_count": 8,
   "id": "41de6b52",
   "metadata": {
    "scrolled": false
   },
   "outputs": [
    {
     "data": {
      "image/png": "[encoded data removed]",
      "text/plain": [
       "<Figure size 864x720 with 1 Axes>"
      ]
     },
     "metadata": {},
     "output_type": "display_data"
    }
   ],
   "source": [
    "plt.figure(figsize=(12,10))\n",
    "sns.set(style=\"darkgrid\")\n",
    "ax = sns.barplot(y=\"Country\", x='Count', data=country_df_10, palette=\"Set2\", orient='h')\n",
    "plt.show()"
   ]
  },
  {
   "cell_type": "markdown",
   "id": "618c8fe1",
   "metadata": {},
   "source": [
    "# 제목, 장르, 요약내용 특성 값을 기반으로 한 콘텐츠 기반 필터링 추천"
   ]
  },
  {
   "cell_type": "markdown",
   "id": "61336c16",
   "metadata": {},
   "source": [
    "## 데이터 전처리"
   ]
  },
  {
   "cell_type": "markdown",
   "id": "d63ba2dc",
   "metadata": {},
   "source": [
    "### 추천 알고리즘 분석과 관련한 컬럼만 추출\n",
    "- 추출 대상 컬럼: 'show_id', 'title', 'listed_in', 'description'    "
   ]
  },
  {
   "cell_type": "code",
   "execution_count": 9,
   "id": "a0747ba0",
   "metadata": {},
   "outputs": [
    {
     "data": {
      "text/html": [
       "<div>\n",
       "<style scoped>\n",
       "    .dataframe tbody tr th:only-of-type {\n",
       "        vertical-align: middle;\n",
       "    }\n",
       "\n",
       "    .dataframe tbody tr th {\n",
       "        vertical-align: top;\n",
       "    }\n",
       "\n",
       "    .dataframe thead th {\n",
       "        text-align: right;\n",
       "    }\n",
       "</style>\n",
       "<table border=\"1\" class=\"dataframe\">\n",
       "  <thead>\n",
       "    <tr style=\"text-align: right;\">\n",
       "      <th></th>\n",
       "      <th>show_id</th>\n",
       "      <th>title</th>\n",
       "      <th>listed_in</th>\n",
       "      <th>description</th>\n",
       "    </tr>\n",
       "  </thead>\n",
       "  <tbody>\n",
       "    <tr>\n",
       "      <th>0</th>\n",
       "      <td>s1</td>\n",
       "      <td>3%</td>\n",
       "      <td>International TV Shows, TV Dramas, TV Sci-Fi &amp;...</td>\n",
       "      <td>In a future where the elite inhabit an island ...</td>\n",
       "    </tr>\n",
       "    <tr>\n",
       "      <th>1</th>\n",
       "      <td>s2</td>\n",
       "      <td>7:19</td>\n",
       "      <td>Dramas, International Movies</td>\n",
       "      <td>After a devastating earthquake hits Mexico Cit...</td>\n",
       "    </tr>\n",
       "    <tr>\n",
       "      <th>2</th>\n",
       "      <td>s3</td>\n",
       "      <td>23:59</td>\n",
       "      <td>Horror Movies, International Movies</td>\n",
       "      <td>When an army recruit is found dead, his fellow...</td>\n",
       "    </tr>\n",
       "    <tr>\n",
       "      <th>3</th>\n",
       "      <td>s4</td>\n",
       "      <td>9</td>\n",
       "      <td>Action &amp; Adventure, Independent Movies, Sci-Fi...</td>\n",
       "      <td>In a postapocalyptic world, rag-doll robots hi...</td>\n",
       "    </tr>\n",
       "    <tr>\n",
       "      <th>4</th>\n",
       "      <td>s5</td>\n",
       "      <td>21</td>\n",
       "      <td>Dramas</td>\n",
       "      <td>A brilliant group of students become card-coun...</td>\n",
       "    </tr>\n",
       "  </tbody>\n",
       "</table>\n",
       "</div>"
      ],
      "text/plain": [
       "  show_id  title                                          listed_in  \\\n",
       "0      s1     3%  International TV Shows, TV Dramas, TV Sci-Fi &...   \n",
       "1      s2   7:19                       Dramas, International Movies   \n",
       "2      s3  23:59                Horror Movies, International Movies   \n",
       "3      s4      9  Action & Adventure, Independent Movies, Sci-Fi...   \n",
       "4      s5     21                                             Dramas   \n",
       "\n",
       "                                         description  \n",
       "0  In a future where the elite inhabit an island ...  \n",
       "1  After a devastating earthquake hits Mexico Cit...  \n",
       "2  When an army recruit is found dead, his fellow...  \n",
       "3  In a postapocalyptic world, rag-doll robots hi...  \n",
       "4  A brilliant group of students become card-coun...  "
      ]
     },
     "execution_count": 9,
     "metadata": {},
     "output_type": "execute_result"
    }
   ],
   "source": [
    "netflix_df = netflix[['show_id', 'title', 'listed_in', 'description']]\n",
    "netflix_df.head()"
   ]
  },
  {
   "cell_type": "markdown",
   "id": "24423a25",
   "metadata": {},
   "source": [
    "### <font color='red'> 형태소 분석 - 1 </font>\n",
    "- title, listed_in, description 컬럼에 있는 텍스트 데이터의 모든 단어를 소문자로 변경\n",
    "- nltk (Natural Language Tookit)을 활용하여 단어를 토큰\n",
    "- <font color='red'><b>[주의]</b></font>: 위 코드에서 분석에 필요한 컬럼만 추출해서 만든 DataFrame 객체의 변수 이름을 **netflix_df**로 한다."
   ]
  },
  {
   "cell_type": "code",
   "execution_count": 10,
   "id": "ed4b9777",
   "metadata": {},
   "outputs": [],
   "source": [
    "# 파이썬 경고 메세지 출력 안하\n",
    "import warnings\n",
    "warnings.filterwarnings(action='ignore')"
   ]
  },
  {
   "cell_type": "code",
   "execution_count": 11,
   "id": "f0ab0ddb",
   "metadata": {
    "scrolled": true
   },
   "outputs": [
    {
     "name": "stderr",
     "output_type": "stream",
     "text": [
      "[nltk_data] Downloading package stopwords to\n",
      "[nltk_data]     C:\\Users\\spiri\\AppData\\Roaming\\nltk_data...\n",
      "[nltk_data]   Package stopwords is already up-to-date!\n",
      "[nltk_data] Downloading package punkt to\n",
      "[nltk_data]     C:\\Users\\spiri\\AppData\\Roaming\\nltk_data...\n",
      "[nltk_data]   Package punkt is already up-to-date!\n"
     ]
    },
    {
     "data": {
      "text/plain": [
       "True"
      ]
     },
     "execution_count": 11,
     "metadata": {},
     "output_type": "execute_result"
    }
   ],
   "source": [
    "import nltk\n",
    "nltk.download('stopwords') # 구두점 사전 다운로드\n",
    "nltk.download('punkt') # 불용어 사전 다운로드"
   ]
  },
  {
   "cell_type": "code",
   "execution_count": 12,
   "id": "9cf9f620",
   "metadata": {},
   "outputs": [],
   "source": [
    "from nltk.tokenize import word_tokenize\n",
    "\n",
    "netflix_df['title_list'] = netflix_df['title'].str.lower()\n",
    "netflix_df['listed_in'] = netflix_df['listed_in'].str.lower()\n",
    "netflix_df['description'] = netflix_df['description'].str.lower()\n",
    "\n",
    "netflix_df['title_list'] = netflix_df['title_list'].apply(word_tokenize)\n",
    "netflix_df['listed_in'] = netflix_df['listed_in'].apply(word_tokenize)\n",
    "netflix_df['description'] = netflix_df['description'].apply(word_tokenize)"
   ]
  },
  {
   "cell_type": "code",
   "execution_count": 13,
   "id": "3cf2b35f",
   "metadata": {},
   "outputs": [
    {
     "data": {
      "text/html": [
       "<div>\n",
       "<style scoped>\n",
       "    .dataframe tbody tr th:only-of-type {\n",
       "        vertical-align: middle;\n",
       "    }\n",
       "\n",
       "    .dataframe tbody tr th {\n",
       "        vertical-align: top;\n",
       "    }\n",
       "\n",
       "    .dataframe thead th {\n",
       "        text-align: right;\n",
       "    }\n",
       "</style>\n",
       "<table border=\"1\" class=\"dataframe\">\n",
       "  <thead>\n",
       "    <tr style=\"text-align: right;\">\n",
       "      <th></th>\n",
       "      <th>show_id</th>\n",
       "      <th>title</th>\n",
       "      <th>listed_in</th>\n",
       "      <th>description</th>\n",
       "      <th>title_list</th>\n",
       "    </tr>\n",
       "  </thead>\n",
       "  <tbody>\n",
       "    <tr>\n",
       "      <th>0</th>\n",
       "      <td>s1</td>\n",
       "      <td>3%</td>\n",
       "      <td>[international, tv, shows, ,, tv, dramas, ,, t...</td>\n",
       "      <td>[in, a, future, where, the, elite, inhabit, an...</td>\n",
       "      <td>[3, %]</td>\n",
       "    </tr>\n",
       "    <tr>\n",
       "      <th>1</th>\n",
       "      <td>s2</td>\n",
       "      <td>7:19</td>\n",
       "      <td>[dramas, ,, international, movies]</td>\n",
       "      <td>[after, a, devastating, earthquake, hits, mexi...</td>\n",
       "      <td>[7:19]</td>\n",
       "    </tr>\n",
       "    <tr>\n",
       "      <th>2</th>\n",
       "      <td>s3</td>\n",
       "      <td>23:59</td>\n",
       "      <td>[horror, movies, ,, international, movies]</td>\n",
       "      <td>[when, an, army, recruit, is, found, dead, ,, ...</td>\n",
       "      <td>[23:59]</td>\n",
       "    </tr>\n",
       "    <tr>\n",
       "      <th>3</th>\n",
       "      <td>s4</td>\n",
       "      <td>9</td>\n",
       "      <td>[action, &amp;, adventure, ,, independent, movies,...</td>\n",
       "      <td>[in, a, postapocalyptic, world, ,, rag-doll, r...</td>\n",
       "      <td>[9]</td>\n",
       "    </tr>\n",
       "    <tr>\n",
       "      <th>4</th>\n",
       "      <td>s5</td>\n",
       "      <td>21</td>\n",
       "      <td>[dramas]</td>\n",
       "      <td>[a, brilliant, group, of, students, become, ca...</td>\n",
       "      <td>[21]</td>\n",
       "    </tr>\n",
       "  </tbody>\n",
       "</table>\n",
       "</div>"
      ],
      "text/plain": [
       "  show_id  title                                          listed_in  \\\n",
       "0      s1     3%  [international, tv, shows, ,, tv, dramas, ,, t...   \n",
       "1      s2   7:19                 [dramas, ,, international, movies]   \n",
       "2      s3  23:59         [horror, movies, ,, international, movies]   \n",
       "3      s4      9  [action, &, adventure, ,, independent, movies,...   \n",
       "4      s5     21                                           [dramas]   \n",
       "\n",
       "                                         description title_list  \n",
       "0  [in, a, future, where, the, elite, inhabit, an...     [3, %]  \n",
       "1  [after, a, devastating, earthquake, hits, mexi...     [7:19]  \n",
       "2  [when, an, army, recruit, is, found, dead, ,, ...    [23:59]  \n",
       "3  [in, a, postapocalyptic, world, ,, rag-doll, r...        [9]  \n",
       "4  [a, brilliant, group, of, students, become, ca...       [21]  "
      ]
     },
     "execution_count": 13,
     "metadata": {},
     "output_type": "execute_result"
    }
   ],
   "source": [
    "netflix_df.head()"
   ]
  },
  {
   "cell_type": "markdown",
   "id": "dbb5b902",
   "metadata": {},
   "source": [
    "### <font color='red'> 형태소 분석 - 2 </font>\n",
    "- 단어별로 토큰 된 title_list, listed_in, description 컬럼 데이터 중 nltk 라이브러리의 stopwords 패키지를 활용하여 불용어를 제거한다."
   ]
  },
  {
   "cell_type": "code",
   "execution_count": 14,
   "id": "d8d55f38",
   "metadata": {},
   "outputs": [],
   "source": [
    "from nltk.corpus import stopwords\n",
    "from string import punctuation\n",
    "\n",
    "list_stopwords = set(stopwords.words('english') + list(punctuation))\n",
    "netflix_df['title_list'] = netflix_df['title_list'].apply(lambda x: [word for word in x if word not in list_stopwords])\n",
    "netflix_df['listed_in'] = netflix_df['listed_in'].apply(lambda x: [word for word in x if word not in list_stopwords])\n",
    "netflix_df['description'] = netflix_df['description'].apply(lambda x: [word for word in x if word not in list_stopwords])"
   ]
  },
  {
   "cell_type": "code",
   "execution_count": 15,
   "id": "7e17688d",
   "metadata": {},
   "outputs": [
    {
     "data": {
      "text/html": [
       "<div>\n",
       "<style scoped>\n",
       "    .dataframe tbody tr th:only-of-type {\n",
       "        vertical-align: middle;\n",
       "    }\n",
       "\n",
       "    .dataframe tbody tr th {\n",
       "        vertical-align: top;\n",
       "    }\n",
       "\n",
       "    .dataframe thead th {\n",
       "        text-align: right;\n",
       "    }\n",
       "</style>\n",
       "<table border=\"1\" class=\"dataframe\">\n",
       "  <thead>\n",
       "    <tr style=\"text-align: right;\">\n",
       "      <th></th>\n",
       "      <th>show_id</th>\n",
       "      <th>title</th>\n",
       "      <th>listed_in</th>\n",
       "      <th>description</th>\n",
       "      <th>title_list</th>\n",
       "    </tr>\n",
       "  </thead>\n",
       "  <tbody>\n",
       "    <tr>\n",
       "      <th>0</th>\n",
       "      <td>s1</td>\n",
       "      <td>3%</td>\n",
       "      <td>[international, tv, shows, tv, dramas, tv, sci...</td>\n",
       "      <td>[future, elite, inhabit, island, paradise, far...</td>\n",
       "      <td>[3]</td>\n",
       "    </tr>\n",
       "    <tr>\n",
       "      <th>1</th>\n",
       "      <td>s2</td>\n",
       "      <td>7:19</td>\n",
       "      <td>[dramas, international, movies]</td>\n",
       "      <td>[devastating, earthquake, hits, mexico, city, ...</td>\n",
       "      <td>[7:19]</td>\n",
       "    </tr>\n",
       "    <tr>\n",
       "      <th>2</th>\n",
       "      <td>s3</td>\n",
       "      <td>23:59</td>\n",
       "      <td>[horror, movies, international, movies]</td>\n",
       "      <td>[army, recruit, found, dead, fellow, soldiers,...</td>\n",
       "      <td>[23:59]</td>\n",
       "    </tr>\n",
       "    <tr>\n",
       "      <th>3</th>\n",
       "      <td>s4</td>\n",
       "      <td>9</td>\n",
       "      <td>[action, adventure, independent, movies, sci-f...</td>\n",
       "      <td>[postapocalyptic, world, rag-doll, robots, hid...</td>\n",
       "      <td>[9]</td>\n",
       "    </tr>\n",
       "    <tr>\n",
       "      <th>4</th>\n",
       "      <td>s5</td>\n",
       "      <td>21</td>\n",
       "      <td>[dramas]</td>\n",
       "      <td>[brilliant, group, students, become, card-coun...</td>\n",
       "      <td>[21]</td>\n",
       "    </tr>\n",
       "  </tbody>\n",
       "</table>\n",
       "</div>"
      ],
      "text/plain": [
       "  show_id  title                                          listed_in  \\\n",
       "0      s1     3%  [international, tv, shows, tv, dramas, tv, sci...   \n",
       "1      s2   7:19                    [dramas, international, movies]   \n",
       "2      s3  23:59            [horror, movies, international, movies]   \n",
       "3      s4      9  [action, adventure, independent, movies, sci-f...   \n",
       "4      s5     21                                           [dramas]   \n",
       "\n",
       "                                         description title_list  \n",
       "0  [future, elite, inhabit, island, paradise, far...        [3]  \n",
       "1  [devastating, earthquake, hits, mexico, city, ...     [7:19]  \n",
       "2  [army, recruit, found, dead, fellow, soldiers,...    [23:59]  \n",
       "3  [postapocalyptic, world, rag-doll, robots, hid...        [9]  \n",
       "4  [brilliant, group, students, become, card-coun...       [21]  "
      ]
     },
     "execution_count": 15,
     "metadata": {},
     "output_type": "execute_result"
    }
   ],
   "source": [
    "netflix_df.head()"
   ]
  },
  {
   "cell_type": "markdown",
   "id": "3dbd3e38",
   "metadata": {},
   "source": [
    "### <font color='red'> 형태소 분석 - 3 </font>\n",
    "- description 컬럼 데이터에 포함된 구두점을 제거한다."
   ]
  },
  {
   "cell_type": "code",
   "execution_count": 16,
   "id": "9e59025f",
   "metadata": {},
   "outputs": [
    {
     "data": {
      "text/plain": [
       "'!\"#$%&\\'()*+,-./:;<=>?@[\\\\]^_`{|}~'"
      ]
     },
     "execution_count": 16,
     "metadata": {},
     "output_type": "execute_result"
    }
   ],
   "source": [
    "import string\n",
    "\n",
    "string.punctuation"
   ]
  },
  {
   "cell_type": "code",
   "execution_count": 17,
   "id": "3fc6cd84",
   "metadata": {},
   "outputs": [],
   "source": [
    "netflix_df['title_list'] = netflix_df['title_list'].apply(lambda x : [word.translate(str.maketrans('', '', string.punctuation)) for word in x])\n",
    "netflix_df['listed_in'] = netflix_df['listed_in'].apply(lambda x : [word.translate(str.maketrans('', '', string.punctuation)) for word in x])\n",
    "netflix_df['description'] = netflix_df['description'].apply(lambda x : [word.translate(str.maketrans('', '', string.punctuation)) for word in x])"
   ]
  },
  {
   "cell_type": "markdown",
   "id": "b0198b0e",
   "metadata": {},
   "source": [
    "### 형태소 분석 - 4\n",
    "- title_list, listed_in, description 컬럼 데이터에 포함된 중복 단어를 제거한다. **(set() 함수 이용)**"
   ]
  },
  {
   "cell_type": "code",
   "execution_count": 18,
   "id": "f4f117b7",
   "metadata": {},
   "outputs": [],
   "source": [
    "netflix_df['title_list'] = netflix_df['title_list'].apply(lambda x : list(set(x)))\n",
    "netflix_df['listed_in'] = netflix_df['listed_in'].apply(lambda x : list(set(x)))\n",
    "netflix_df['description'] = netflix_df['description'].apply(lambda x : list(set(x)))"
   ]
  },
  {
   "cell_type": "markdown",
   "id": "56195460",
   "metadata": {},
   "source": [
    "# 콘텐츠 유사도 측정"
   ]
  },
  {
   "cell_type": "markdown",
   "id": "60df53ad",
   "metadata": {},
   "source": [
    "## 피처 벡터화\n",
    "- title_list, listed_in, description 컬럼의 각 단어를 공백문자로 구분되는 문자열로 변환하여 카운트 기반으로 피처 벡터화 한다.**(CountVectorizer 이용)**\n",
    "- title_list, listed_in, description 각 컬럼의 피처 벡터화한 결과를 **matrix_netflix_vocab = []** 리스트에 저장한다."
   ]
  },
  {
   "cell_type": "code",
   "execution_count": 19,
   "id": "396646f2",
   "metadata": {},
   "outputs": [],
   "source": [
    "netflix_df['title_literal'] = netflix_df['title_list'].apply(lambda x : (' ').join(x))\n",
    "netflix_df['listed_in_literal'] = netflix_df['listed_in'].apply(lambda x : (' ').join(x))\n",
    "netflix_df['description_literal'] = netflix_df['description'].apply(lambda x : (' ').join(x))"
   ]
  },
  {
   "cell_type": "code",
   "execution_count": 20,
   "id": "4dac31e8",
   "metadata": {},
   "outputs": [],
   "source": [
    "from sklearn.feature_extraction.text import CountVectorizer\n",
    "\n",
    "matrix_netflix_vocab = []\n",
    "count_vect = CountVectorizer(min_df=0, ngram_range=(1,1))\n",
    "col_list = ['title_literal', 'listed_in_literal', 'description_literal']\n",
    "for col in col_list:\n",
    "    matrix = count_vect.fit_transform(netflix_df[col])\n",
    "    matrix_netflix_vocab.append(matrix)"
   ]
  },
  {
   "cell_type": "code",
   "execution_count": 21,
   "id": "d9fb7f7d",
   "metadata": {},
   "outputs": [
    {
     "data": {
      "text/plain": [
       "(7787, 8163)"
      ]
     },
     "execution_count": 21,
     "metadata": {},
     "output_type": "execute_result"
    }
   ],
   "source": [
    "matrix_netflix_vocab[0].shape"
   ]
  },
  {
   "cell_type": "code",
   "execution_count": 22,
   "id": "0a6207df",
   "metadata": {},
   "outputs": [
    {
     "data": {
      "text/plain": [
       "(7787, 45)"
      ]
     },
     "execution_count": 22,
     "metadata": {},
     "output_type": "execute_result"
    }
   ],
   "source": [
    "matrix_netflix_vocab[1].shape"
   ]
  },
  {
   "cell_type": "markdown",
   "id": "af501997",
   "metadata": {},
   "source": [
    "## 코사인 유사도\n",
    "- title_list, listed_in, description 각 컬럼에 대해 피처 백터화 한 값을 이용하여 각각의 코사인 유사도를 산출하여 **matrix_netflix_sim = []** 리스트에 저장한다."
   ]
  },
  {
   "cell_type": "code",
   "execution_count": 23,
   "id": "cc219de8",
   "metadata": {},
   "outputs": [],
   "source": [
    "from sklearn.metrics.pairwise import cosine_similarity\n",
    "\n",
    "matrix_netflix_sim = [] \n",
    "for mat in matrix_netflix_vocab:\n",
    "    sim = cosine_similarity(mat, mat)\n",
    "    matrix_netflix_sim.append(sim)"
   ]
  },
  {
   "cell_type": "code",
   "execution_count": 24,
   "id": "94631d11",
   "metadata": {},
   "outputs": [
    {
     "data": {
      "text/plain": [
       "7787"
      ]
     },
     "execution_count": 24,
     "metadata": {},
     "output_type": "execute_result"
    }
   ],
   "source": [
    "len(matrix_netflix_sim[0][0,:])"
   ]
  },
  {
   "cell_type": "code",
   "execution_count": 25,
   "id": "a0b758fa",
   "metadata": {},
   "outputs": [
    {
     "data": {
      "text/plain": [
       "(0.0, 0.9999999999999999)"
      ]
     },
     "execution_count": 25,
     "metadata": {},
     "output_type": "execute_result"
    }
   ],
   "source": [
    "matrix_netflix_sim[2][0,:].min(), matrix_netflix_sim[2][0,:].max()"
   ]
  },
  {
   "cell_type": "markdown",
   "id": "621230d4",
   "metadata": {},
   "source": [
    "- title_list, listed_in, description에 대해 각각 유사도가 높은 순으로 정렬한 콘텐츠의 인덱스를 **netflix_sim_sorted_ind = []** 리스트에 저장한다."
   ]
  },
  {
   "cell_type": "code",
   "execution_count": 26,
   "id": "491546db",
   "metadata": {},
   "outputs": [],
   "source": [
    "netflix_sim_sorted_ind = []\n",
    "# netflix_sim_sorted = [] \n",
    "for sim in matrix_netflix_sim:\n",
    "    sim_sorted_ind = sim.argsort()[:, ::-1]\n",
    "#     sim_sorted = np.sort(sim)[:, ::-1]\n",
    "    netflix_sim_sorted_ind.append(sim_sorted_ind)\n",
    "#     netflix_sim_sorted.append(sim_sorted)    "
   ]
  },
  {
   "cell_type": "markdown",
   "id": "9c62bdd6",
   "metadata": {},
   "source": [
    "# 유사도 필터링을 이용한 넷플릭스 콘텐츠 추천"
   ]
  },
  {
   "cell_type": "markdown",
   "id": "d693e76d",
   "metadata": {},
   "source": [
    "- 추천 기준이 되는 콘텐츠의 제목으로 해당 콘텐츠 레코드를 추출한다.\n",
    "- 추출된 콘텐츠의 인덱스 (netflix_df 데이터 프레임에서의 레코드 위치)를 추출한다.\n",
    "- 해당 인덱스로 sorted_ind_list 인자로 입력된 genre_sim_sorted_ind 객체에서 각 컬럼별 유사도 순으로 top_n 개의 index를 추출한 후 리스트에 저장한다.\n",
    "- 함수 매개변수\n",
    "    - df: 넷플릭스 콘텐츠 정보 DataFrame\n",
    "    - sorted_ind_list: title_list, listed_in, description에 대해 각각 유사도가 높은 순으로 정렬한 콘텐츠의 인덱스 행렬을 저장한 리스트\n",
    "    - title_name: 추천 기준이 되는 콘텐츠 제목 (해당 콘텐츠와 장르 유사도가 높은 콘텐츠를 추천)\n",
    "    - top_n: 추천 콘텐츠 건수"
   ]
  },
  {
   "cell_type": "code",
   "execution_count": 87,
   "id": "29518b1c",
   "metadata": {},
   "outputs": [],
   "source": [
    "def find_sim_netflix(df, sorted_ind_list, title_name, top_n=10):\n",
    "    target_contents = df[df['title'] == title_name]\n",
    "    target_index = target_contents.index.values\n",
    "    similar_indexes_list = []\n",
    "    cos_val_list = []\n",
    "    for sorted_ind, cos_sim in zip(sorted_ind_list, matrix_netflix_sim):\n",
    "        similar_indexes = sorted_ind[target_index, :(top_n)]\n",
    "        cos_value = cos_sim[target_index, similar_indexes]\n",
    "        similar_indexes_list.append(similar_indexes)\n",
    "        cos_val_list.append(cos_value)\n",
    "        \n",
    "#     recomm_contents_dic = { i:v for index, cos_val in zip(similar_indexes_list, cos_val_list) for i,v in zip(list(index), list(cos_val))}\n",
    "    \n",
    "#     return recomm_contents_dic\n",
    "    return similar_indexes_list, cos_val_list\n",
    "    #return df.iloc[np.array(similar_indexes_list).flatten()]"
   ]
  },
  {
   "cell_type": "code",
   "execution_count": 88,
   "id": "70217d19",
   "metadata": {},
   "outputs": [],
   "source": [
    "# '응답하라 1988' 과 제목, 장르, 줄거리가 유사한 콘텐츠를 각각 10개씩 추천\n",
    "similar_netflix = find_sim_netflix(netflix_df, netflix_sim_sorted_ind, 'Reply 1988',10)"
   ]
  },
  {
   "cell_type": "code",
   "execution_count": 89,
   "id": "be27c1aa",
   "metadata": {},
   "outputs": [
    {
     "data": {
      "text/plain": [
       "((3, 1, 10), (3, 1, 10))"
      ]
     },
     "execution_count": 89,
     "metadata": {},
     "output_type": "execute_result"
    }
   ],
   "source": [
    "index = np.array(similar_netflix[0])\n",
    "cos = np.array(similar_netflix[1])\n",
    "index.shape, cos.shape"
   ]
  },
  {
   "cell_type": "code",
   "execution_count": 92,
   "id": "4b77135d",
   "metadata": {},
   "outputs": [
    {
     "name": "stdout",
     "output_type": "stream",
     "text": [
      "[14 19 10 11 12 13 15 16 17 18]\n",
      "[7486 5273 2695 3265 4349  544 4350 4353 4354 2714]\n"
     ]
    }
   ],
   "source": [
    "cos = cos.flatten()\n",
    "index = index.flatten()\n",
    "sorted_idx = cos.argsort()[::-1][:10]\n",
    "print(sorted_idx)\n",
    "sim_index = index[sorted_idx]\n",
    "print(sim_index)"
   ]
  },
  {
   "cell_type": "code",
   "execution_count": 82,
   "id": "7657496c",
   "metadata": {},
   "outputs": [
    {
     "data": {
      "text/plain": [
       "array([1.        , 1.        , 1.        , 1.        , 1.        ,\n",
       "       1.        , 1.        , 1.        , 1.        , 1.        ,\n",
       "       1.        , 1.        , 0.5       , 0.5       , 0.27602622,\n",
       "       0.21483446, 0.20701967, 0.20701967, 0.20701967, 0.20701967,\n",
       "       0.2       , 0.19364917, 0.19364917, 0.        , 0.        ,\n",
       "       0.        , 0.        , 0.        , 0.        , 0.        ])"
      ]
     },
     "execution_count": 82,
     "metadata": {},
     "output_type": "execute_result"
    }
   ],
   "source": [
    "np.sort(cos.flatten())[::-1]"
   ]
  },
  {
   "cell_type": "code",
   "execution_count": 48,
   "id": "3b90e21a",
   "metadata": {},
   "outputs": [
    {
     "name": "stdout",
     "output_type": "stream",
     "text": [
      "[[1.  0.5 0.5 0.  0.  0.  0.  0.  0.  0. ]]\n",
      "[[1. 1. 1. 1. 1. 1. 1. 1. 1. 1.]]\n",
      "[[1.         0.27602622 0.21483446 0.20701967 0.20701967 0.20701967\n",
      "  0.20701967 0.2        0.19364917 0.19364917]]\n"
     ]
    }
   ],
   "source": [
    "print(similar_netflix[1][0])\n",
    "print(similar_netflix[1][1])\n",
    "print(similar_netflix[1][2])"
   ]
  },
  {
   "cell_type": "code",
   "execution_count": 93,
   "id": "ab36b414",
   "metadata": {},
   "outputs": [
    {
     "data": {
      "text/html": [
       "<div>\n",
       "<style scoped>\n",
       "    .dataframe tbody tr th:only-of-type {\n",
       "        vertical-align: middle;\n",
       "    }\n",
       "\n",
       "    .dataframe tbody tr th {\n",
       "        vertical-align: top;\n",
       "    }\n",
       "\n",
       "    .dataframe thead th {\n",
       "        text-align: right;\n",
       "    }\n",
       "</style>\n",
       "<table border=\"1\" class=\"dataframe\">\n",
       "  <thead>\n",
       "    <tr style=\"text-align: right;\">\n",
       "      <th></th>\n",
       "      <th>title</th>\n",
       "    </tr>\n",
       "  </thead>\n",
       "  <tbody>\n",
       "    <tr>\n",
       "      <th>544</th>\n",
       "      <td>Another Miss Oh</td>\n",
       "    </tr>\n",
       "    <tr>\n",
       "      <th>2695</th>\n",
       "      <td>Hello, My Twenties!</td>\n",
       "    </tr>\n",
       "    <tr>\n",
       "      <th>2714</th>\n",
       "      <td>Hi Bye, Mama!</td>\n",
       "    </tr>\n",
       "    <tr>\n",
       "      <th>3265</th>\n",
       "      <td>K-POP Extreme Survival</td>\n",
       "    </tr>\n",
       "    <tr>\n",
       "      <th>4349</th>\n",
       "      <td>My Runway</td>\n",
       "    </tr>\n",
       "    <tr>\n",
       "      <th>4350</th>\n",
       "      <td>My Sassy Girl</td>\n",
       "    </tr>\n",
       "    <tr>\n",
       "      <th>4353</th>\n",
       "      <td>My Secret Romance</td>\n",
       "    </tr>\n",
       "    <tr>\n",
       "      <th>4354</th>\n",
       "      <td>My Shy Boss</td>\n",
       "    </tr>\n",
       "    <tr>\n",
       "      <th>5273</th>\n",
       "      <td>Rookie Historian Goo Hae-Ryung</td>\n",
       "    </tr>\n",
       "    <tr>\n",
       "      <th>7486</th>\n",
       "      <td>Was It Love?</td>\n",
       "    </tr>\n",
       "  </tbody>\n",
       "</table>\n",
       "</div>"
      ],
      "text/plain": [
       "                               title\n",
       "544                  Another Miss Oh\n",
       "2695             Hello, My Twenties!\n",
       "2714                   Hi Bye, Mama!\n",
       "3265          K-POP Extreme Survival\n",
       "4349                       My Runway\n",
       "4350                   My Sassy Girl\n",
       "4353               My Secret Romance\n",
       "4354                     My Shy Boss\n",
       "5273  Rookie Historian Goo Hae-Ryung\n",
       "7486                    Was It Love?"
      ]
     },
     "execution_count": 93,
     "metadata": {},
     "output_type": "execute_result"
    }
   ],
   "source": [
    "netflix_df.iloc[sim_index][['title']].sort_values('title')"
   ]
  }
 ],
 "metadata": {
  "kernelspec": {
   "display_name": "Python 3 (ipykernel)",
   "language": "python",
   "name": "python3"
  },
  "language_info": {
   "codemirror_mode": {
    "name": "ipython",
    "version": 3
   },
   "file_extension": ".py",
   "mimetype": "text/x-python",
   "name": "python",
   "nbconvert_exporter": "python",
   "pygments_lexer": "ipython3",
   "version": "3.9.13"
  },
  "toc": {
   "base_numbering": 1,
   "nav_menu": {},
   "number_sections": true,
   "sideBar": true,
   "skip_h1_title": false,
   "title_cell": "Table of Contents",
   "title_sidebar": "Contents",
   "toc_cell": false,
   "toc_position": {
    "height": "calc(100% - 180px)",
    "left": "10px",
    "top": "150px",
    "width": "307.188px"
   },
   "toc_section_display": true,
   "toc_window_display": true
  }
 },
 "nbformat": 4,
 "nbformat_minor": 5
}
