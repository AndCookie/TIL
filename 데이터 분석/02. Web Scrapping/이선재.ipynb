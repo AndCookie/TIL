{
 "cells": [
  {
   "cell_type": "markdown",
   "id": "a7de88fc",
   "metadata": {},
   "source": [
    "# 1"
   ]
  },
  {
   "cell_type": "code",
   "execution_count": 153,
   "id": "2e3ee57c",
   "metadata": {},
   "outputs": [
    {
     "name": "stdout",
     "output_type": "stream",
     "text": [
      "==============================\n",
      "날씨 확인 프로그램\n",
      "==============================\n",
      "접속 시간: 2023-02-01 16:25:59\n",
      "접속 위치: 강남구 삼성1동\n",
      "------------------------------\n",
      "1. 현재 날씨 및 온도 확인\n",
      "2. 최저/최고 온도 확인\n",
      "3. 미세먼지 확인\n",
      "0. 종료\n",
      "------------------------------\n",
      "번호를 입력하세요.1\n",
      "============================== \n",
      "현재 날씨 확인\n",
      "==============================\n",
      "------------------------------ \n",
      " 맑음  /  현재 온도2.8° \n",
      "------------------------------\n",
      "\n",
      "==============================\n",
      "날씨 확인 프로그램\n",
      "==============================\n",
      "접속 시간: 2023-02-01 16:26:00\n",
      "접속 위치: 강남구 삼성1동\n",
      "------------------------------\n",
      "1. 현재 날씨 및 온도 확인\n",
      "2. 최저/최고 온도 확인\n",
      "3. 미세먼지 확인\n",
      "0. 종료\n",
      "------------------------------\n",
      "번호를 입력하세요.0\n"
     ]
    }
   ],
   "source": [
    "import requests\n",
    "from bs4 import BeautifulSoup\n",
    "from datetime import datetime\n",
    "import time\n",
    "\n",
    "URL = 'https://search.naver.com/search.naver'\n",
    "params = {'query':'날씨'}\n",
    "\n",
    "response = requests.get(URL, params)\n",
    "response.raise_for_status()\n",
    "\n",
    "soup = BeautifulSoup(response.text, 'html.parser')\n",
    "\n",
    "message1 = \"\"\"==============================\n",
    "날씨 확인 프로그램\n",
    "==============================\"\"\"\n",
    "message2 = \"\"\"------------------------------\n",
    "1. 현재 날씨 및 온도 확인\n",
    "2. 최저/최고 온도 확인\n",
    "3. 미세먼지 확인\n",
    "0. 종료\n",
    "------------------------------\"\"\"\n",
    "sep1 = '=============================='\n",
    "sep2 = '------------------------------'\n",
    "\n",
    "\n",
    "while True:\n",
    "    ts = time.localtime()\n",
    "    now = datetime(ts.tm_year, ts.tm_mon, ts.tm_mday, ts.tm_hour, ts.tm_min, ts.tm_sec)\n",
    "    location = soup.find('h2', attrs={'class':'title'})\n",
    "    \n",
    "    print(message1)\n",
    "    print(f'접속 시간: {now}')\n",
    "    print(f'접속 위치: {location.get_text()}')\n",
    "    print(message2)\n",
    "    \n",
    "    choice = int(input('번호를 입력하세요.'))\n",
    "    if choice == 0:\n",
    "        break\n",
    "        \n",
    "    if choice == 1:\n",
    "        print(f'{sep1} \\n현재 날씨 확인\\n{sep1}')\n",
    "        weather = soup.find('div', attrs={'class':'weather_main'}).get_text()\n",
    "        temp = soup.find('div', attrs={'class':'temperature_text'}).get_text()\n",
    "        print(f'{sep2} \\n{weather} / {temp}\\n{sep2}\\n')\n",
    "    elif choice == 2 :\n",
    "        print(f'{sep1} \\n최저/최고 온도 확인\\n{sep1}')\n",
    "        high = soup.find('span', attrs={'class':'lowest'}).get_text()\n",
    "        low = soup.find('span', attrs={'class':'highest'}).get_text()\n",
    "        print(f'{sep2} \\n최고 기온: {high[4:]}\\n최저 기온: {low[4:]}\\n{sep2}\\n')\n",
    "    elif choice == 3:\n",
    "        print(f'{sep1} \\n미세먼지 확인\\n{sep1}')\n",
    "        dust = soup.select_one('#main_pack > section.sc_new.cs_weather_new._cs_weather > div._tab_flicking > div.content_wrap > div.open > div:nth-child(1) > div > div.weather_info > div > div.report_card_wrap > ul > li:nth-child(1) > a > span').get_text()\n",
    "        print(f'{sep2} \\n{dust}\\n{sep2}\\n')\n",
    "        "
   ]
  },
  {
   "cell_type": "markdown",
   "id": "de9d296a",
   "metadata": {},
   "source": [
    "# 2\n",
    "- 네이버에서 bts이미지를 검색한 후 나온 결과 중 5개의 이미지를 저장하기 (25점)\n",
    "\n",
    "• 다음의 처리 단계는 Selenium을 이용한다.\n",
    "(1) 네이버 홈페이지 요청\n",
    "(2) 검색 필드에 ‘bts’ 검색어 입력 후 검색\n",
    "(3) 이미지 검색결과 선택\n",
    "(4) 최초 검색된 bts 이미지 5장 저장\n"
   ]
  },
  {
   "cell_type": "code",
   "execution_count": 166,
   "id": "12e3b6df",
   "metadata": {},
   "outputs": [
    {
     "name": "stdout",
     "output_type": "stream",
     "text": [
      "그림 저장 완료! \n",
      "Temp의 bts 폴더를 확인하세요\n"
     ]
    }
   ],
   "source": [
    "from selenium import webdriver\n",
    "from webdriver_manager.chrome import ChromeDriverManager\n",
    "from selenium.webdriver.chrome.service import Service\n",
    "from selenium.webdriver.common.by import By\n",
    "from selenium.webdriver.common.keys import Keys\n",
    "import time\n",
    "\n",
    "SCROLL_PAUSE_TIME = 1 # 페이지가 로드될 때까지 기다리는 시간\n",
    "SEARCH_KEYWORD = 'bts'\n",
    "IMAGE_EXTRACT_NUM = 5\n",
    "\n",
    "########################### 네이버 접속 ###########################\n",
    "driver = webdriver.Chrome(service=Service(ChromeDriverManager().install()), options=webdriver.ChromeOptions())\n",
    "driver.get('https://www.naver.com')\n",
    "\n",
    "\n",
    "###########################   검색   ###########################\n",
    "element = driver.find_element(by=By.ID, value='query')\n",
    "element.send_keys(SEARCH_KEYWORD)\n",
    "element.submit()\n",
    "\n",
    "\n",
    "################# 이미지 검색결과 페이지로 이동 #################\n",
    "driver.find_element(by=By.LINK_TEXT, value='이미지').click()\n",
    "time.sleep(SCROLL_PAUSE_TIME) # 페이지가 로그될 때까지 기다림\n",
    "\n",
    "\n",
    "################# 최초 검색된 bts 이미지 추출 #################\n",
    "imgs = driver.find_elements(By.CSS_SELECTOR, '#main_pack > section.sc_new.sp_nimage._prs_img._imageSearchPC > div > div.photo_group._listGrid > div.photo_tile._grid > div')\n",
    "\n",
    "# print('이미지 개수: ', len(imgs)) #50개\n",
    "\n",
    "img_src_list = []\n",
    "\n",
    "img_cnt = 0\n",
    "for cnt, img in enumerate(imgs, start=1):\n",
    "    img.click()\n",
    "    img_a = driver.find_element(By.CSS_SELECTOR, '#main_pack > section.sc_new.sp_nimage._prs_img._imageSearchPC > div > div.viewer_group._viewerRoot > div > div > div.viewer_flick > div.api_pcpg_wrap > div > div > div.image_area._queryImage > div.image._imageBox > img')\n",
    "    img_src = img_a.get_attribute('src')\n",
    "\n",
    "    if not img_src.startswith('http'):\n",
    "        continue\n",
    "    \n",
    "    img_cnt += 1\n",
    "#     print(f'[{img_cnt}]: {img_src}')\n",
    "    img_src_list.append(img_src)\n",
    "    \n",
    "    if img_cnt == IMAGE_EXTRACT_NUM:break\n",
    "\n",
    "\n",
    "        \n",
    "#################### 검색 이미지 파일로 저장 ####################        \n",
    "import requests\n",
    "import os\n",
    "\n",
    "# c드라이브 > temp 폴더를 루트 디렉토리로 잡아 이미지를 저장\n",
    "path = 'c:/Temp/'\n",
    "# 시간을 원하는 형식으로 출력\n",
    "ts = time.localtime() # time stamp\n",
    "now = f'{ts.tm_year}.{ts.tm_mon}.{ts.tm_mday}.{ts.tm_hour}.{ts.tm_min}.{ts.tm_sec}'\n",
    "directory = SEARCH_KEYWORD+'/'+now+'/' # python이라는 중간폴더 만든 것\n",
    "# c:/Temp/python/2023.01.31.14.55.23/\n",
    "os.chdir(path) #change directory 명령어를 수행하는 함수 # c:/Temp로 디렉토리를 변경하라\n",
    "\n",
    "if not os.path.exists(directory):\n",
    "    os.makedirs(directory)\n",
    "\n",
    "    \n",
    "file_no = 1\n",
    "os.chdir(path+directory)\n",
    "\n",
    "\n",
    "for url in img_src_list:\n",
    "    extension = url.split('.')[-1] \n",
    "    if extension in ['jpg', 'JPG', 'jpeg', 'JPEG', 'png', 'PNG', 'gif', 'GIF']:\n",
    "        ext = '.'+extension\n",
    "    else:\n",
    "        ext = '.jpg'\n",
    "    file_name = str(file_no) + '-'+ SEARCH_KEYWORD + ext\n",
    "\n",
    "    res = requests.get(url)\n",
    "    with open (file_name, 'wb') as f:\n",
    "        # 디렉토리 정해놨으므로 파일 경로 없이 파일 이름만 명시해도 된다\n",
    "        f.write(res.content) \n",
    "    file_no +=1\n",
    "\n",
    "driver.close()\n",
    "print(f'그림 저장 완료! \\nTemp의 bts 폴더를 확인하세요')"
   ]
  },
  {
   "cell_type": "markdown",
   "id": "b81a8972",
   "metadata": {},
   "source": [
    "# 3\n",
    "- 멜론 사이트 최신곡 검색 (25점)\n",
    "\n",
    "• 다음 URL을 이용하여 멜론 사이트에서 국내 최신곡 10위까지의 정보(노래제목, 가수, 앨범)를 출력하시오.\n",
    "\n",
    "• URL : https://www.melon.com/new/index.htm\n"
   ]
  },
  {
   "cell_type": "code",
   "execution_count": 240,
   "id": "4da0db0f",
   "metadata": {},
   "outputs": [
    {
     "name": "stdout",
     "output_type": "stream",
     "text": [
      "순위 \t\t곡목 \t\t\t\t가수 \t\t\t\t앨범 \n",
      "\n",
      "1 \t 애모                     \t 민수현, 신명근, 정다한, 춘길, 황영웅                   \t 불타는 트롯맨 디너쇼 미션 PART 1\n",
      "2 \t Fuck Around (Feat. Gist) \t NSW yoon                                 \t In My Mood\n",
      "3 \t 하나뿐인 운명처럼              \t MZ수채학 (잠골버스2기)                           \t 하나뿐인 운명처럼\n",
      "4 \t 걱정 붙들어 매               \t 정미애                                      \t 걱정 붙들어 매\n",
      "5 \t 마음에 닿기를                \t 노르웨이 숲                                   \t 마음에 닿기를\n",
      "6 \t PULL UP                \t VIVIZ (비비지)                              \t The 3rd Mini Album 'VarioUS'\n",
      "7 \t Trust Yourself         \t Balming Tiger                            \t Trust Yourself\n",
      "8 \t Love is very difficult \t Pa!nter                                  \t Love is very difficult\n",
      "9 \t Passing Tourists       \t Azikazin Magic World                     \t Passing Tourists\n",
      "10 \t 눈 빛 (snow light)       \t 홍대광                                      \t 눈 빛 (snow light)\n"
     ]
    }
   ],
   "source": [
    "from selenium import webdriver\n",
    "from webdriver_manager.chrome import ChromeDriverManager\n",
    "from selenium.webdriver.chrome.service import Service\n",
    "from selenium.webdriver.common.by import By\n",
    "from selenium.webdriver.common.keys import Keys\n",
    "import time\n",
    "\n",
    "SCROLL_PAUSE_TIME = 1 # 페이지가 로드될 때까지 기다리는 시간\n",
    "IMAGE_EXTRACT_NUM = 5\n",
    "\n",
    "########################### 멜론 접속 ###########################\n",
    "driver = webdriver.Chrome(service=Service(ChromeDriverManager().install()), options=webdriver.ChromeOptions())\n",
    "driver.get('https://www.melon.com/new/index.htm')\n",
    "\n",
    "\n",
    "########################### 정보 확인 ###########################\n",
    "from bs4 import BeautifulSoup\n",
    "bs = BeautifulSoup(driver.page_source, 'html.parser')\n",
    "\n",
    "\n",
    "######################## 10위 정보 추출 ########################\n",
    "rank = bs.find_all('span', attrs={'class':'rank'})\n",
    "title = bs.find_all('div', attrs={'class':'ellipsis rank01'})\n",
    "artist = bs.find_all('span', attrs={'class':'checkEllipsis'})\n",
    "album = bs.find_all('div', attrs={'class':'ellipsis rank03'})\n",
    "\n",
    "print('순위', '\\t\\t곡목', '\\t\\t\\t\\t가수', '\\t\\t\\t\\t앨범', '\\n')\n",
    "\n",
    "for i, r in enumerate(rank):\n",
    "    rank_no = r.get_text()\n",
    "    if rank_no == 'NO':\n",
    "        continue\n",
    "    else:\n",
    "        rank_no = int(rank_no)\n",
    "        if rank_no <= 10:\n",
    "#             print('%-3d %-25s %20s %30s' %(rank_no, title[i-1].get_text().strip(), artist[i-1].get_text().strip(), album[i-1].get_text().strip()))\n",
    "            print(f'{rank_no} \\t {title[i-1].get_text().strip():22s} \\t {artist[i-1].get_text().strip():40s} \\t {album[i-1].get_text().strip()}')"
   ]
  },
  {
   "cell_type": "markdown",
   "id": "a520a6f5",
   "metadata": {},
   "source": [
    "# 4\n",
    "- 4. 대문자 시작 단어 찾기 (10점)\n",
    "\n",
    "• 다음 문자열에서 정규 표현식을 이용하여 대문자로 시작하는 단어를 찾아 출력하시오.\n",
    "\n",
    "s = 'Edit the Expression & Text to see matches. Roll over matches or the expression for details. PCRE & JavaScript flavors of RegEx are supported. Validate your expression with Tests mode.'\n",
    "\n",
    "- 출력결과: ['Edit', 'Expression', 'Text', 'Roll', 'PCRE', 'JavaScript', 'RegEx', 'Validate', 'Tests']"
   ]
  },
  {
   "cell_type": "code",
   "execution_count": 57,
   "id": "98219d79",
   "metadata": {},
   "outputs": [
    {
     "name": "stdout",
     "output_type": "stream",
     "text": [
      "출력결과: ['Edit', 'Expression', 'Text', 'Roll', 'PCRE', 'JavaScript', 'RegEx', 'Validate', 'Tests']\n"
     ]
    }
   ],
   "source": [
    "import re\n",
    "\n",
    "s = 'Edit the Expression & Text to see matches. Roll over matches or the expression for details. PCRE & JavaScript flavors of RegEx are supported. Validate your expression with Tests mode.'\n",
    "\n",
    "p = re.compile(r'\\b[A-Z]\\w+\\b')\n",
    "result = p.findall(s)\n",
    "print(f'출력결과: {result}')"
   ]
  },
  {
   "cell_type": "markdown",
   "id": "ec957d79",
   "metadata": {},
   "source": [
    "# 5\n",
    "\n",
    "- 5. 이메일 주소 추출하기 (10점)\n",
    "\n",
    "• 다음 문자열에서 정규 표현식을 이용하여 이메일 주소를 찾아 출력하시오.\n",
    "\n",
    "s = 'Ryan has sent an invoice email to john.d@yahoo.com by using his email id ryan.arjun@gmail.com and he also shared a copy to his boss rosy.gray@amazon.co.uk on the cc part.'\n",
    "\n",
    "- 출력결과: ['john.d@yahoo.com', 'ryan.arjun@gmail.com', 'rosy.gray@amazon.co.uk']"
   ]
  },
  {
   "cell_type": "code",
   "execution_count": 58,
   "id": "d0f99a08",
   "metadata": {},
   "outputs": [
    {
     "name": "stdout",
     "output_type": "stream",
     "text": [
      "출력결과: ['john.d@yahoo.com', 'ryan.arjun@gmail.com', 'rosy.gray@amazon.co.uk']\n"
     ]
    }
   ],
   "source": [
    "import re\n",
    "\n",
    "s = 'Ryan has sent an invoice email to john.d@yahoo.com by using his email id ryan.arjun@gmail.com and he also shared a copy to his boss rosy.gray@amazon.co.uk on the cc part.'\n",
    "\n",
    "p = re.compile(r'\\b[\\w.]+[@][\\w.]+\\b')\n",
    "result = p.findall(s)\n",
    "print(f'출력결과: {result}')"
   ]
  }
 ],
 "metadata": {
  "kernelspec": {
   "display_name": "Python 3 (ipykernel)",
   "language": "python",
   "name": "python3"
  },
  "language_info": {
   "codemirror_mode": {
    "name": "ipython",
    "version": 3
   },
   "file_extension": ".py",
   "mimetype": "text/x-python",
   "name": "python",
   "nbconvert_exporter": "python",
   "pygments_lexer": "ipython3",
   "version": "3.9.13"
  },
  "toc": {
   "base_numbering": 1,
   "nav_menu": {},
   "number_sections": true,
   "sideBar": true,
   "skip_h1_title": false,
   "title_cell": "Table of Contents",
   "title_sidebar": "Contents",
   "toc_cell": false,
   "toc_position": {
    "height": "calc(100% - 180px)",
    "left": "10px",
    "top": "150px",
    "width": "323.355px"
   },
   "toc_section_display": true,
   "toc_window_display": false
  }
 },
 "nbformat": 4,
 "nbformat_minor": 5
}
