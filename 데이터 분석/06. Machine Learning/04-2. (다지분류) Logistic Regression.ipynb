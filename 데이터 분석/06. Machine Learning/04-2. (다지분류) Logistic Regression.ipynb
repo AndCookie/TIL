{
 "cells": [
  {
   "cell_type": "markdown",
   "id": "ca7d2226",
   "metadata": {},
   "source": [
    "# 붓꽃 종류 판별\n",
    "- iris setosa / iri versicolor / iris virginica\n",
    "- petal: 꽃잎의 길이와 넓이\n",
    "- sepal : 꽃받침의 길이와 넓이"
   ]
  },
  {
   "cell_type": "markdown",
   "id": "74892ea0",
   "metadata": {},
   "source": [
    "## 패키지 로딩"
   ]
  },
  {
   "cell_type": "code",
   "execution_count": 1,
   "id": "b280b21e",
   "metadata": {},
   "outputs": [],
   "source": [
    "from sklearn.datasets import load_iris\n",
    "from sklearn.linear_model import LogisticRegression # 로지스틱 모델\n",
    "from sklearn.model_selection import train_test_split\n",
    "from sklearn.metrics import accuracy_score, confusion_matrix, precision_score, f1_score, classification_report, roc_auc_score # 분류 모델 성능 측정용 평가지표\n",
    "\n",
    "import numpy as np\n",
    "import pandas as pd"
   ]
  },
  {
   "cell_type": "markdown",
   "id": "f4949843",
   "metadata": {},
   "source": [
    "## 데이터 로드 및 확인"
   ]
  },
  {
   "cell_type": "code",
   "execution_count": 2,
   "id": "e375105d",
   "metadata": {},
   "outputs": [
    {
     "name": "stdout",
     "output_type": "stream",
     "text": [
      "(150, 4)\n"
     ]
    },
    {
     "data": {
      "text/plain": [
       "0    50\n",
       "1    50\n",
       "2    50\n",
       "Name: class, dtype: int64"
      ]
     },
     "execution_count": 2,
     "metadata": {},
     "output_type": "execute_result"
    }
   ],
   "source": [
    "iris = load_iris()\n",
    "x = iris.data\n",
    "y = iris.target\n",
    "\n",
    "print(x.shape) # (150, 4)\n",
    "df = pd.DataFrame(x, columns=iris.feature_names)\n",
    "df['class'] = y\n",
    "df.head()\n",
    "df['class'].value_counts() # 3개의 품종이 각각 50개씩 1:1:1의 비율로 있다"
   ]
  },
  {
   "cell_type": "markdown",
   "id": "b15a583e",
   "metadata": {},
   "source": [
    "## 학습 데이터와 평가 데이터 분리"
   ]
  },
  {
   "cell_type": "code",
   "execution_count": 3,
   "id": "af8188b1",
   "metadata": {},
   "outputs": [],
   "source": [
    "x_train, x_test, y_train, y_test = train_test_split(x, y, train_size=0.8,\n",
    "                                                    stratify=y)\n",
    "# stratify=y : 분류마다 1:1:1 비율에 따라 추출해야하므로 분류데이터에서는 무조건 사용해야함\n",
    "# 랜덤하게 데이터를 가져오다보니 아래의 학습 결과는 다를 수 있음"
   ]
  },
  {
   "cell_type": "code",
   "execution_count": 4,
   "id": "25c27569",
   "metadata": {},
   "outputs": [
    {
     "name": "stdout",
     "output_type": "stream",
     "text": [
      "y의 클래스별 데이터 수:  [50 50 50]\n",
      "y_train의 클래스별 데이터 수:  [40 40 40]\n",
      "y_test의 클래스별 데이터 수:  [10 10 10]\n"
     ]
    }
   ],
   "source": [
    "# 품종에 대한 데이터가 잘 들어갔는 지 확인하기\n",
    "print('y의 클래스별 데이터 수: ', np.bincount(y))\n",
    "print('y_train의 클래스별 데이터 수: ', np.bincount(y_train))\n",
    "print('y_test의 클래스별 데이터 수: ', np.bincount(y_test))\n",
    "\n",
    "# np.bincount(데이터명) : 데이터별 빈도수를 계산함 : value_counts()와 유사함\n",
    "# 8:2로 나누었기 때문에 train은 150*8/10=120개 / test는 150*2/10=30개\n",
    "# 따라서 40개씩 / 10개씩 골고루 들어간 것"
   ]
  },
  {
   "cell_type": "markdown",
   "id": "3c6ee87b",
   "metadata": {},
   "source": [
    "## 모델 생성\n",
    "- 다항분류를 위한 옵션\n",
    "    - multi_class : 다중클래스분류 문제의 상황에서 어떤 접근방식을 취할 지 결정\n",
    "        - 'ovr' (one-versus-rest): 이진분류기인 sigmoid 함수를 이용한 결과 예측 (solver='liblinear'는 one-versus-rest 방식으로 제한되므로 사용 불가)\n",
    "        - 'multinominal' : 각 클래스에 대한 softmax(확률분포를 구하는 함수)의 확률값으로 다중분류 수행\n",
    "- 참고 : 이전에 이진분류를 위한 solver별 옵션을 학습했었음"
   ]
  },
  {
   "cell_type": "code",
   "execution_count": 5,
   "id": "133d9fb2",
   "metadata": {},
   "outputs": [
    {
     "data": {
      "text/plain": [
       "LogisticRegression(max_iter=2000, multi_class='ovr')"
      ]
     },
     "execution_count": 5,
     "metadata": {},
     "output_type": "execute_result"
    }
   ],
   "source": [
    "# 다진분류 문제를 이진분류 문제로 치환하여 해결\n",
    "model = LogisticRegression(multi_class='ovr', max_iter=2000)\n",
    "model.fit(x_train, y_train)\n",
    "# solver를 따로 명시하지 않았으므로 DEFAULT인 liblinear가 자동 적용된다"
   ]
  },
  {
   "cell_type": "markdown",
   "id": "a5d87b28",
   "metadata": {},
   "source": [
    "## 모델 예측"
   ]
  },
  {
   "cell_type": "code",
   "execution_count": 6,
   "id": "cf15ff08",
   "metadata": {},
   "outputs": [],
   "source": [
    "np.set_printoptions(suppress=True, precision=3)"
   ]
  },
  {
   "cell_type": "code",
   "execution_count": 7,
   "id": "29ba0580",
   "metadata": {},
   "outputs": [
    {
     "name": "stdout",
     "output_type": "stream",
     "text": [
      "[[0.002 0.599 0.399]\n",
      " [0.97  0.03  0.   ]\n",
      " [0.001 0.165 0.835]\n",
      " [0.838 0.162 0.   ]\n",
      " [0.074 0.918 0.008]\n",
      " [0.001 0.605 0.394]\n",
      " [0.    0.18  0.82 ]\n",
      " [0.    0.318 0.682]\n",
      " [0.007 0.679 0.314]\n",
      " [0.897 0.103 0.   ]\n",
      " [0.171 0.825 0.004]\n",
      " [0.031 0.907 0.062]\n",
      " [0.771 0.229 0.   ]\n",
      " [0.001 0.13  0.87 ]\n",
      " [0.023 0.919 0.058]\n",
      " [0.794 0.206 0.   ]\n",
      " [0.595 0.405 0.   ]\n",
      " [0.019 0.681 0.3  ]\n",
      " [0.056 0.835 0.109]\n",
      " [0.962 0.038 0.   ]\n",
      " [0.001 0.267 0.732]\n",
      " [0.94  0.06  0.   ]\n",
      " [0.001 0.446 0.554]\n",
      " [0.003 0.766 0.23 ]\n",
      " [0.    0.285 0.714]\n",
      " [0.    0.176 0.824]\n",
      " [0.005 0.331 0.664]\n",
      " [0.889 0.111 0.   ]\n",
      " [0.859 0.141 0.   ]\n",
      " [0.003 0.431 0.566]]\n"
     ]
    }
   ],
   "source": [
    "y_hat = model.predict(x_test)\n",
    "prob = model.predict_proba(x_test) # 각 클래스에 대한 확률값\n",
    "print(prob)\n",
    "\n",
    "\n",
    "# [0.001 0.361 0.638]\n",
    "# 첫 번째 품종에 대한 회귀선을 그엇을 때, 첫 번째 품종일 확률 = 0.001\n",
    "# 두 번째 품종에 대한 회귀선을 그엇을 때, 두 번째 품종일 확률 = 0.361\n",
    "# 세 번째 품종에 대한 회귀선을 그엇을 때, 세 번째 품종일 확률 = 0.638\n",
    "# -> 3번째 품종"
   ]
  },
  {
   "cell_type": "code",
   "execution_count": 8,
   "id": "d77724c4",
   "metadata": {},
   "outputs": [
    {
     "data": {
      "text/html": [
       "<div>\n",
       "<style scoped>\n",
       "    .dataframe tbody tr th:only-of-type {\n",
       "        vertical-align: middle;\n",
       "    }\n",
       "\n",
       "    .dataframe tbody tr th {\n",
       "        vertical-align: top;\n",
       "    }\n",
       "\n",
       "    .dataframe thead th {\n",
       "        text-align: right;\n",
       "    }\n",
       "</style>\n",
       "<table border=\"1\" class=\"dataframe\">\n",
       "  <thead>\n",
       "    <tr style=\"text-align: right;\">\n",
       "      <th></th>\n",
       "      <th>class-0</th>\n",
       "      <th>class-1</th>\n",
       "      <th>class-2</th>\n",
       "      <th>result</th>\n",
       "    </tr>\n",
       "  </thead>\n",
       "  <tbody>\n",
       "    <tr>\n",
       "      <th>0</th>\n",
       "      <td>0.001566</td>\n",
       "      <td>0.599201</td>\n",
       "      <td>0.399232</td>\n",
       "      <td>1</td>\n",
       "    </tr>\n",
       "    <tr>\n",
       "      <th>1</th>\n",
       "      <td>0.970294</td>\n",
       "      <td>0.029705</td>\n",
       "      <td>0.000001</td>\n",
       "      <td>0</td>\n",
       "    </tr>\n",
       "    <tr>\n",
       "      <th>2</th>\n",
       "      <td>0.000524</td>\n",
       "      <td>0.164607</td>\n",
       "      <td>0.834869</td>\n",
       "      <td>2</td>\n",
       "    </tr>\n",
       "    <tr>\n",
       "      <th>3</th>\n",
       "      <td>0.837761</td>\n",
       "      <td>0.162237</td>\n",
       "      <td>0.000001</td>\n",
       "      <td>0</td>\n",
       "    </tr>\n",
       "    <tr>\n",
       "      <th>4</th>\n",
       "      <td>0.074070</td>\n",
       "      <td>0.918260</td>\n",
       "      <td>0.007670</td>\n",
       "      <td>1</td>\n",
       "    </tr>\n",
       "  </tbody>\n",
       "</table>\n",
       "</div>"
      ],
      "text/plain": [
       "    class-0   class-1   class-2  result\n",
       "0  0.001566  0.599201  0.399232       1\n",
       "1  0.970294  0.029705  0.000001       0\n",
       "2  0.000524  0.164607  0.834869       2\n",
       "3  0.837761  0.162237  0.000001       0\n",
       "4  0.074070  0.918260  0.007670       1"
      ]
     },
     "execution_count": 8,
     "metadata": {},
     "output_type": "execute_result"
    }
   ],
   "source": [
    "df = pd.DataFrame(prob[:5], columns=['class-0', 'class-1', 'class-2'])\n",
    "df['result'] = np.argmax(prob[:5], axis=1)\n",
    "# 행 기준으로 가장 큰 값의 index(0,1,2) 데이터가 담긴 새로운 열 result 생성\n",
    "df"
   ]
  },
  {
   "cell_type": "markdown",
   "id": "052f92ba",
   "metadata": {},
   "source": [
    "## 모델 평가"
   ]
  },
  {
   "cell_type": "code",
   "execution_count": 9,
   "id": "85102331",
   "metadata": {},
   "outputs": [
    {
     "name": "stdout",
     "output_type": "stream",
     "text": [
      "Accuracy: 0.867\n",
      "AUC: 0.972\n",
      "[[10  0  0]\n",
      " [ 0  8  2]\n",
      " [ 0  2  8]]\n"
     ]
    }
   ],
   "source": [
    "print(f'Accuracy: {accuracy_score(y_test, y_hat):.3f}')\n",
    "print(f'AUC: {roc_auc_score(y_test, prob, multi_class=\"ovr\"):.3f}')\n",
    "# prob, multi_class='ovr' : 이진분류에서는 positive인 1번째 열값을 슬라이싱 했었는데, 다진분류에서는 어떤 것이 postivie인 지 모르기 때문\n",
    "\n",
    "cf = confusion_matrix(y_test, y_hat)\n",
    "print(cf)\n",
    "# AUC: 0.982 : Good\n",
    "# [10  0  0] : 첫 번째 품종 10개 다 맞춘 것\n",
    "# [ 0  9  1] : 두 번째 품종 9개 맞추고 1개 틀린 것\n",
    "# [ 0  0 10] : 세 번째 품종 10개 다 맞춘 것"
   ]
  },
  {
   "cell_type": "code",
   "execution_count": 14,
   "id": "716e97f4",
   "metadata": {
    "scrolled": true
   },
   "outputs": [
    {
     "name": "stdout",
     "output_type": "stream",
     "text": [
      "Precision: 0.867\n",
      "              precision    recall  f1-score   support\n",
      "\n",
      "           0       1.00      1.00      1.00        10\n",
      "           1       0.80      0.80      0.80        10\n",
      "           2       0.80      0.80      0.80        10\n",
      "\n",
      "    accuracy                           0.87        30\n",
      "   macro avg       0.87      0.87      0.87        30\n",
      "weighted avg       0.87      0.87      0.87        30\n",
      "\n"
     ]
    }
   ],
   "source": [
    "# 다중 클래스 분류시, average 속성에 집계 방식을 지정 (micro, macro, weight)\n",
    "precision = precision_score(y_test, y_hat, average='micro')\n",
    "print(f'Precision: {precision:.3f}')\n",
    "# micro에서는 결국에 각 클래스 별 평가지표의 평균이므로 모든 metric 값 (Accuracy=Precision=Recall=Micro F1) 이 동일하게 나타난다.\n",
    "\n",
    "\n",
    "# 한 번에 조회하기\n",
    "report = classification_report(y_test, y_hat)\n",
    "print(report)"
   ]
  },
  {
   "cell_type": "markdown",
   "id": "c3730cda",
   "metadata": {},
   "source": [
    "## 다중 클래스 혼동행렬 시각화"
   ]
  },
  {
   "cell_type": "code",
   "execution_count": 17,
   "id": "c9ba46ed",
   "metadata": {
    "scrolled": true
   },
   "outputs": [
    {
     "data": {
      "image/png": "[encoded data removed]",
      "text/plain": [
       "<Figure size 600x600 with 2 Axes>"
      ]
     },
     "metadata": {},
     "output_type": "display_data"
    }
   ],
   "source": [
    "# 혼동행렬 시각화 하기: seaborn의 heatmap\n",
    "\n",
    "import seaborn as sns\n",
    "import matplotlib.pyplot as plt\n",
    "\n",
    "plt.figure(figsize=(6,6))\n",
    "sns.heatmap(cf, annot=True, fmt='.3f', linewidths=0.5, square=True)\n",
    "# heatmap : 교차표를 시각화하는 seaborn 함수\n",
    "# cf = confusion_matrix(y_test, y_hat)\n",
    "# annot = annotation\n",
    "# fmt = 교차표 내에 들어가는 데이터에 대한 포맷팅 지정 (실수, 정수)\n",
    "plt.ylabel('Actual label')\n",
    "plt.xlabel('Predicted label')\n",
    "# sklearn의 confusion_matrix 사용시 -> 행 : 실제 / 열 : 예측\n",
    "plt.title(f'Accuracy Score : {accuracy_score(y_test, y_hat):.3f}', size=18)\n",
    "plt.show()\n"
   ]
  },
  {
   "cell_type": "markdown",
   "id": "7f6fea49",
   "metadata": {},
   "source": [
    "## 하이퍼 파라미터 튜닝\n",
    "- hyper-parameter-tunning\n",
    "- 머신러닝에서는 전달하는 다양한 파라미터 (multi_class, solver, max_iter 등)에 따라 모델의 성능이 달라진다. 따라서 매번 파라미터 값을 바꿔가며 모델의 성능을 개선시키게 될 텐데, 여러 파라메터 조합의 경우의 수가 너무 많을 경우 시간 소요가 크다.\n",
    "- 자동으로 최적의 조합을 찾아내는 것을 제공하는 함수 : GridSearchCV"
   ]
  },
  {
   "cell_type": "code",
   "execution_count": 22,
   "id": "a65b0098",
   "metadata": {
    "scrolled": true
   },
   "outputs": [
    {
     "name": "stdout",
     "output_type": "stream",
     "text": [
      "최적 파라미터:  {'C': 10, 'multi_class': 'ovr', 'penalty': 'l1', 'solver': 'liblinear'}\n",
      "최적 정확도:  0.9833333333333332\n"
     ]
    },
    {
     "name": "stderr",
     "output_type": "stream",
     "text": [
      "C:\\Users\\user\\anaconda3\\lib\\site-packages\\sklearn\\model_selection\\_validation.py:372: FitFailedWarning: \n",
      "490 fits failed out of a total of 700.\n",
      "The score on these train-test partitions for these parameters will be set to nan.\n",
      "If these failures are not expected, you can try to debug them by setting error_score='raise'.\n",
      "\n",
      "Below are more details about the failures:\n",
      "--------------------------------------------------------------------------------\n",
      "70 fits failed with the following error:\n",
      "Traceback (most recent call last):\n",
      "  File \"C:\\Users\\user\\anaconda3\\lib\\site-packages\\sklearn\\model_selection\\_validation.py\", line 680, in _fit_and_score\n",
      "    estimator.fit(X_train, y_train, **fit_params)\n",
      "  File \"C:\\Users\\user\\anaconda3\\lib\\site-packages\\sklearn\\linear_model\\_logistic.py\", line 1461, in fit\n",
      "    solver = _check_solver(self.solver, self.penalty, self.dual)\n",
      "  File \"C:\\Users\\user\\anaconda3\\lib\\site-packages\\sklearn\\linear_model\\_logistic.py\", line 447, in _check_solver\n",
      "    raise ValueError(\n",
      "ValueError: Solver newton-cg supports only 'l2' or 'none' penalties, got l1 penalty.\n",
      "\n",
      "--------------------------------------------------------------------------------\n",
      "70 fits failed with the following error:\n",
      "Traceback (most recent call last):\n",
      "  File \"C:\\Users\\user\\anaconda3\\lib\\site-packages\\sklearn\\model_selection\\_validation.py\", line 680, in _fit_and_score\n",
      "    estimator.fit(X_train, y_train, **fit_params)\n",
      "  File \"C:\\Users\\user\\anaconda3\\lib\\site-packages\\sklearn\\linear_model\\_logistic.py\", line 1461, in fit\n",
      "    solver = _check_solver(self.solver, self.penalty, self.dual)\n",
      "  File \"C:\\Users\\user\\anaconda3\\lib\\site-packages\\sklearn\\linear_model\\_logistic.py\", line 447, in _check_solver\n",
      "    raise ValueError(\n",
      "ValueError: Solver lbfgs supports only 'l2' or 'none' penalties, got l1 penalty.\n",
      "\n",
      "--------------------------------------------------------------------------------\n",
      "70 fits failed with the following error:\n",
      "Traceback (most recent call last):\n",
      "  File \"C:\\Users\\user\\anaconda3\\lib\\site-packages\\sklearn\\model_selection\\_validation.py\", line 680, in _fit_and_score\n",
      "    estimator.fit(X_train, y_train, **fit_params)\n",
      "  File \"C:\\Users\\user\\anaconda3\\lib\\site-packages\\sklearn\\linear_model\\_logistic.py\", line 1461, in fit\n",
      "    solver = _check_solver(self.solver, self.penalty, self.dual)\n",
      "  File \"C:\\Users\\user\\anaconda3\\lib\\site-packages\\sklearn\\linear_model\\_logistic.py\", line 447, in _check_solver\n",
      "    raise ValueError(\n",
      "ValueError: Solver sag supports only 'l2' or 'none' penalties, got l1 penalty.\n",
      "\n",
      "--------------------------------------------------------------------------------\n",
      "245 fits failed with the following error:\n",
      "Traceback (most recent call last):\n",
      "  File \"C:\\Users\\user\\anaconda3\\lib\\site-packages\\sklearn\\model_selection\\_validation.py\", line 680, in _fit_and_score\n",
      "    estimator.fit(X_train, y_train, **fit_params)\n",
      "  File \"C:\\Users\\user\\anaconda3\\lib\\site-packages\\sklearn\\linear_model\\_logistic.py\", line 1519, in fit\n",
      "    multi_class = _check_multi_class(self.multi_class, solver, len(self.classes_))\n",
      "  File \"C:\\Users\\user\\anaconda3\\lib\\site-packages\\sklearn\\linear_model\\_logistic.py\", line 478, in _check_multi_class\n",
      "    raise ValueError(\n",
      "ValueError: multi_class should be 'multinomial', 'ovr' or 'auto'. Got multinominal.\n",
      "\n",
      "--------------------------------------------------------------------------------\n",
      "5 fits failed with the following error:\n",
      "Traceback (most recent call last):\n",
      "  File \"C:\\Users\\user\\anaconda3\\lib\\site-packages\\sklearn\\model_selection\\_validation.py\", line 680, in _fit_and_score\n",
      "    estimator.fit(X_train, y_train, **fit_params)\n",
      "  File \"C:\\Users\\user\\anaconda3\\lib\\site-packages\\sklearn\\linear_model\\_logistic.py\", line 1589, in fit\n",
      "    fold_coefs_ = Parallel(\n",
      "  File \"C:\\Users\\user\\anaconda3\\lib\\site-packages\\joblib\\parallel.py\", line 1043, in __call__\n",
      "    if self.dispatch_one_batch(iterator):\n",
      "  File \"C:\\Users\\user\\anaconda3\\lib\\site-packages\\joblib\\parallel.py\", line 861, in dispatch_one_batch\n",
      "    self._dispatch(tasks)\n",
      "  File \"C:\\Users\\user\\anaconda3\\lib\\site-packages\\joblib\\parallel.py\", line 779, in _dispatch\n",
      "    job = self._backend.apply_async(batch, callback=cb)\n",
      "  File \"C:\\Users\\user\\anaconda3\\lib\\site-packages\\joblib\\_parallel_backends.py\", line 208, in apply_async\n",
      "    result = ImmediateResult(func)\n",
      "  File \"C:\\Users\\user\\anaconda3\\lib\\site-packages\\joblib\\_parallel_backends.py\", line 572, in __init__\n",
      "    self.results = batch()\n",
      "  File \"C:\\Users\\user\\anaconda3\\lib\\site-packages\\joblib\\parallel.py\", line 262, in __call__\n",
      "    return [func(*args, **kwargs)\n",
      "  File \"C:\\Users\\user\\anaconda3\\lib\\site-packages\\joblib\\parallel.py\", line 262, in <listcomp>\n",
      "    return [func(*args, **kwargs)\n",
      "  File \"C:\\Users\\user\\anaconda3\\lib\\site-packages\\sklearn\\utils\\fixes.py\", line 216, in __call__\n",
      "    return self.function(*args, **kwargs)\n",
      "  File \"C:\\Users\\user\\anaconda3\\lib\\site-packages\\sklearn\\linear_model\\_logistic.py\", line 856, in _logistic_regression_path\n",
      "    beta = 1.0 / C\n",
      "ZeroDivisionError: float division by zero\n",
      "\n",
      "--------------------------------------------------------------------------------\n",
      "10 fits failed with the following error:\n",
      "Traceback (most recent call last):\n",
      "  File \"C:\\Users\\user\\anaconda3\\lib\\site-packages\\sklearn\\model_selection\\_validation.py\", line 680, in _fit_and_score\n",
      "    estimator.fit(X_train, y_train, **fit_params)\n",
      "  File \"C:\\Users\\user\\anaconda3\\lib\\site-packages\\sklearn\\linear_model\\_logistic.py\", line 1528, in fit\n",
      "    self.coef_, self.intercept_, n_iter_ = _fit_liblinear(\n",
      "  File \"C:\\Users\\user\\anaconda3\\lib\\site-packages\\sklearn\\svm\\_base.py\", line 1186, in _fit_liblinear\n",
      "    raw_coef_, n_iter_ = liblinear.train_wrap(\n",
      "  File \"sklearn\\svm\\_liblinear.pyx\", line 52, in sklearn.svm._liblinear.train_wrap\n",
      "ValueError: b'C <= 0'\n",
      "\n",
      "--------------------------------------------------------------------------------\n",
      "5 fits failed with the following error:\n",
      "Traceback (most recent call last):\n",
      "  File \"C:\\Users\\user\\anaconda3\\lib\\site-packages\\sklearn\\model_selection\\_validation.py\", line 680, in _fit_and_score\n",
      "    estimator.fit(X_train, y_train, **fit_params)\n",
      "  File \"C:\\Users\\user\\anaconda3\\lib\\site-packages\\sklearn\\linear_model\\_logistic.py\", line 1589, in fit\n",
      "    fold_coefs_ = Parallel(\n",
      "  File \"C:\\Users\\user\\anaconda3\\lib\\site-packages\\joblib\\parallel.py\", line 1043, in __call__\n",
      "    if self.dispatch_one_batch(iterator):\n",
      "  File \"C:\\Users\\user\\anaconda3\\lib\\site-packages\\joblib\\parallel.py\", line 861, in dispatch_one_batch\n",
      "    self._dispatch(tasks)\n",
      "  File \"C:\\Users\\user\\anaconda3\\lib\\site-packages\\joblib\\parallel.py\", line 779, in _dispatch\n",
      "    job = self._backend.apply_async(batch, callback=cb)\n",
      "  File \"C:\\Users\\user\\anaconda3\\lib\\site-packages\\joblib\\_parallel_backends.py\", line 208, in apply_async\n",
      "    result = ImmediateResult(func)\n",
      "  File \"C:\\Users\\user\\anaconda3\\lib\\site-packages\\joblib\\_parallel_backends.py\", line 572, in __init__\n",
      "    self.results = batch()\n",
      "  File \"C:\\Users\\user\\anaconda3\\lib\\site-packages\\joblib\\parallel.py\", line 262, in __call__\n",
      "    return [func(*args, **kwargs)\n",
      "  File \"C:\\Users\\user\\anaconda3\\lib\\site-packages\\joblib\\parallel.py\", line 262, in <listcomp>\n",
      "    return [func(*args, **kwargs)\n",
      "  File \"C:\\Users\\user\\anaconda3\\lib\\site-packages\\sklearn\\utils\\fixes.py\", line 216, in __call__\n",
      "    return self.function(*args, **kwargs)\n",
      "  File \"C:\\Users\\user\\anaconda3\\lib\\site-packages\\sklearn\\linear_model\\_logistic.py\", line 822, in _logistic_regression_path\n",
      "    args = (X, target, 1.0 / C, sample_weight)\n",
      "ZeroDivisionError: float division by zero\n",
      "\n",
      "--------------------------------------------------------------------------------\n",
      "5 fits failed with the following error:\n",
      "Traceback (most recent call last):\n",
      "  File \"C:\\Users\\user\\anaconda3\\lib\\site-packages\\sklearn\\model_selection\\_validation.py\", line 680, in _fit_and_score\n",
      "    estimator.fit(X_train, y_train, **fit_params)\n",
      "  File \"C:\\Users\\user\\anaconda3\\lib\\site-packages\\sklearn\\linear_model\\_logistic.py\", line 1589, in fit\n",
      "    fold_coefs_ = Parallel(\n",
      "  File \"C:\\Users\\user\\anaconda3\\lib\\site-packages\\joblib\\parallel.py\", line 1043, in __call__\n",
      "    if self.dispatch_one_batch(iterator):\n",
      "  File \"C:\\Users\\user\\anaconda3\\lib\\site-packages\\joblib\\parallel.py\", line 861, in dispatch_one_batch\n",
      "    self._dispatch(tasks)\n",
      "  File \"C:\\Users\\user\\anaconda3\\lib\\site-packages\\joblib\\parallel.py\", line 779, in _dispatch\n",
      "    job = self._backend.apply_async(batch, callback=cb)\n",
      "  File \"C:\\Users\\user\\anaconda3\\lib\\site-packages\\joblib\\_parallel_backends.py\", line 208, in apply_async\n",
      "    result = ImmediateResult(func)\n",
      "  File \"C:\\Users\\user\\anaconda3\\lib\\site-packages\\joblib\\_parallel_backends.py\", line 572, in __init__\n",
      "    self.results = batch()\n",
      "  File \"C:\\Users\\user\\anaconda3\\lib\\site-packages\\joblib\\parallel.py\", line 262, in __call__\n",
      "    return [func(*args, **kwargs)\n",
      "  File \"C:\\Users\\user\\anaconda3\\lib\\site-packages\\joblib\\parallel.py\", line 262, in <listcomp>\n",
      "    return [func(*args, **kwargs)\n",
      "  File \"C:\\Users\\user\\anaconda3\\lib\\site-packages\\sklearn\\utils\\fixes.py\", line 216, in __call__\n",
      "    return self.function(*args, **kwargs)\n",
      "  File \"C:\\Users\\user\\anaconda3\\lib\\site-packages\\sklearn\\linear_model\\_logistic.py\", line 811, in _logistic_regression_path\n",
      "    args=(X, target, 1.0 / C, sample_weight),\n",
      "ZeroDivisionError: float division by zero\n",
      "\n",
      "--------------------------------------------------------------------------------\n",
      "10 fits failed with the following error:\n",
      "Traceback (most recent call last):\n",
      "  File \"C:\\Users\\user\\anaconda3\\lib\\site-packages\\sklearn\\model_selection\\_validation.py\", line 680, in _fit_and_score\n",
      "    estimator.fit(X_train, y_train, **fit_params)\n",
      "  File \"C:\\Users\\user\\anaconda3\\lib\\site-packages\\sklearn\\linear_model\\_logistic.py\", line 1589, in fit\n",
      "    fold_coefs_ = Parallel(\n",
      "  File \"C:\\Users\\user\\anaconda3\\lib\\site-packages\\joblib\\parallel.py\", line 1043, in __call__\n",
      "    if self.dispatch_one_batch(iterator):\n",
      "  File \"C:\\Users\\user\\anaconda3\\lib\\site-packages\\joblib\\parallel.py\", line 861, in dispatch_one_batch\n",
      "    self._dispatch(tasks)\n",
      "  File \"C:\\Users\\user\\anaconda3\\lib\\site-packages\\joblib\\parallel.py\", line 779, in _dispatch\n",
      "    job = self._backend.apply_async(batch, callback=cb)\n",
      "  File \"C:\\Users\\user\\anaconda3\\lib\\site-packages\\joblib\\_parallel_backends.py\", line 208, in apply_async\n",
      "    result = ImmediateResult(func)\n",
      "  File \"C:\\Users\\user\\anaconda3\\lib\\site-packages\\joblib\\_parallel_backends.py\", line 572, in __init__\n",
      "    self.results = batch()\n",
      "  File \"C:\\Users\\user\\anaconda3\\lib\\site-packages\\joblib\\parallel.py\", line 262, in __call__\n",
      "    return [func(*args, **kwargs)\n",
      "  File \"C:\\Users\\user\\anaconda3\\lib\\site-packages\\joblib\\parallel.py\", line 262, in <listcomp>\n",
      "    return [func(*args, **kwargs)\n",
      "  File \"C:\\Users\\user\\anaconda3\\lib\\site-packages\\sklearn\\utils\\fixes.py\", line 216, in __call__\n",
      "    return self.function(*args, **kwargs)\n",
      "  File \"C:\\Users\\user\\anaconda3\\lib\\site-packages\\sklearn\\linear_model\\_logistic.py\", line 858, in _logistic_regression_path\n",
      "    alpha = 1.0 / C\n",
      "ZeroDivisionError: float division by zero\n",
      "\n",
      "  warnings.warn(some_fits_failed_message, FitFailedWarning)\n",
      "C:\\Users\\user\\anaconda3\\lib\\site-packages\\sklearn\\model_selection\\_search.py:969: UserWarning: One or more of the test scores are non-finite: [  nan   nan   nan 0.333 0.333 0.792 0.792 0.792 0.75  0.667   nan   nan\n",
      "   nan   nan   nan   nan   nan   nan   nan   nan   nan   nan   nan   nan\n",
      "   nan   nan   nan   nan   nan   nan   nan   nan   nan   nan   nan   nan\n",
      "   nan   nan   nan   nan   nan   nan   nan 0.958 0.95  0.958 0.958 0.95\n",
      " 0.95  0.942   nan   nan   nan   nan   nan   nan   nan   nan   nan   nan\n",
      "   nan   nan   nan 0.958 0.95  0.958 0.958 0.95  0.95  0.942   nan   nan\n",
      "   nan   nan   nan   nan   nan   nan   nan   nan   nan   nan   nan 0.958\n",
      " 0.967 0.967 0.967 0.958 0.958 0.95    nan   nan   nan   nan   nan   nan\n",
      "   nan   nan   nan   nan   nan   nan   nan 0.975 0.967 0.967 0.967 0.967\n",
      " 0.95  0.958   nan   nan   nan   nan   nan   nan   nan   nan   nan   nan\n",
      "   nan   nan   nan 0.967 0.983 0.967 0.967 0.958 0.958 0.967   nan   nan\n",
      "   nan   nan   nan   nan   nan   nan   nan   nan]\n",
      "  warnings.warn(\n"
     ]
    }
   ],
   "source": [
    "from sklearn.model_selection import GridSearchCV\n",
    "# 교차검증까지 수행\n",
    "# 전달하고자 하는 parameter들을 key와 value의 쌍으로 매핑\n",
    "\n",
    "model = LogisticRegression()\n",
    "params = {'C': [0.01, 0,1, 1, 3, 5, 10],\n",
    "         'penalty': ['l1', 'l2'],\n",
    "         'solver': ['newton-cg', 'lbfgs', 'sag', 'saga', 'liblinear'],\n",
    "         'multi_class' : ['ovr', 'multinominal']}\n",
    "# c : 규제 강도의 역수 (낮을수록 셈)를 지정하는 key 값 // cf) alpha는 규제 강도\n",
    "# penalty : 규제의 종류를 지정하는 key 값\n",
    "# solver : 분류 알고리즘의 종류\n",
    "\n",
    "gs = GridSearchCV(model, params, cv=5, scoring='accuracy', n_jobs=-1)\n",
    "# cv : 교차검증 횟수 (DEFAULT는 5회)\n",
    "# scoring : 평가지표의 이름을 리스트로 전달\n",
    "# n_jobs : 하이퍼 파라미터 튜닝시 사용하는 코어의 개수 (DEFAULT : 1) \n",
    "# n_jobs = -1 : 모든 코어 사용\n",
    "# 예전처럼 싱글코어가 아닌 여러 개의 threshold를 동시 실행 가능하므로 개수 지정\n",
    "gs.fit(x_train, y_train)\n",
    "print('최적 파라미터: ', gs.best_params_)\n",
    "# gs.best_params_ : 최적의 파라미터 조합 결과 반환\n",
    "print('최적 정확도: ', gs.best_score_)\n",
    "# gs.best_score_ : 최적의 평가지표 결과 반환\n",
    "\n",
    "\n",
    "# 각 solver 별로 지원되는 규제의 종류가 다른데, 모든 조합을 실행해보라고 했기 때문에 아래의 경고 메세지가 뜨는 것"
   ]
  },
  {
   "cell_type": "markdown",
   "id": "b9eb3a36",
   "metadata": {},
   "source": [
    "## 최적 파라미터를 이용한 모델 평가"
   ]
  },
  {
   "cell_type": "code",
   "execution_count": 28,
   "id": "d619349f",
   "metadata": {},
   "outputs": [
    {
     "name": "stdout",
     "output_type": "stream",
     "text": [
      "Accuracy: 0.967\n",
      "AUC: 0.980\n"
     ]
    }
   ],
   "source": [
    "y_hat = gs.best_estimator_.predict(x_test)\n",
    "# best_estimator_ : 최적의 결과를 보여주는 파라미터 조합으로 만들어진 분류모형\n",
    "print(f'Accuracy: {accuracy_score(y_test, y_hat):.3f}')\n",
    "# y_hat : gridsearch를 통해 만들어낸 최적 파라미터 조합의 분류 모형\n",
    "print(f'AUC: {roc_auc_score(y_test, gs.best_estimator_.predict_proba(x_test), multi_class=\"ovr\"):.3f}')\n",
    "# gs.best_estimator_.predict_proba(x_test) : positive로 예측한 확률값"
   ]
  }
 ],
 "metadata": {
  "kernelspec": {
   "display_name": "Python 3 (ipykernel)",
   "language": "python",
   "name": "python3"
  },
  "language_info": {
   "codemirror_mode": {
    "name": "ipython",
    "version": 3
   },
   "file_extension": ".py",
   "mimetype": "text/x-python",
   "name": "python",
   "nbconvert_exporter": "python",
   "pygments_lexer": "ipython3",
   "version": "3.9.13"
  },
  "toc": {
   "base_numbering": 1,
   "nav_menu": {},
   "number_sections": true,
   "sideBar": true,
   "skip_h1_title": false,
   "title_cell": "Table of Contents",
   "title_sidebar": "Contents",
   "toc_cell": false,
   "toc_position": {
    "height": "calc(100% - 180px)",
    "left": "10px",
    "top": "150px",
    "width": "292.556px"
   },
   "toc_section_display": true,
   "toc_window_display": true
  }
 },
 "nbformat": 4,
 "nbformat_minor": 5
}
