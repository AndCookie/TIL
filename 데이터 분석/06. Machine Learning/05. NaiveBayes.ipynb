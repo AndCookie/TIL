{
 "cells": [
  {
   "cell_type": "markdown",
   "id": "34d7cd0d",
   "metadata": {},
   "source": [
    "# 붓꽃 분류\n",
    "- 통계적 분류기 : 주어진 데이터가 특정 클래스에 속하는 지를 조건부 확률을 통해서 예측\n",
    "- 베이즈 이론의 조건부 확률을 기반으로 만들어진 분류 모델 알고리즘\n",
    "    - 참고) 로지스틱 회귀분석 : 선형회귀 모델을 기반으로 분류에 사용될 수 있도록 변형한 분류 모델\n",
    "- 일종의 경험을 쌓는 이론(선행 -> 후행 발생) : 새로운 경험이 추가될수록 해당 모델의 정밀도가 높아짐\n",
    "- 텍스트 데이터처럼 희소하면서 고차원인 경우 높은 정확도와 빠른 처리속도 제공\n",
    "    - 각각의 단어를 벡터화 시켜서 처리하는데, 벡터의 크기는 크지만 한 단어가 갖는 값은 아주 작다 (10줄 문장 내 포함된 단어가 50개라고 했을 때 출현횟수를 벡터화 시키면 몇 번 안된다 -> 희소행렬)\n",
    "- 적용 분야 : 스팸메일 분류, 문서(주제) 분류, 컴퓨터 네트워크 침입자 분류\n",
    "        - ex) 서버는 접속이라는 매 이벤트마다 로그데이터라는 텍스트 데이터를 남겨둔다. 이때 정상 로그와 비정상 로그 간의 텍스트 차이를 분류하여 침입 감지 및 사전 차단하는 알고리즘을 머신러닝으로 개발한 사례가 있다."
   ]
  },
  {
   "cell_type": "markdown",
   "id": "1886ffb0",
   "metadata": {},
   "source": [
    "## 패키지 로딩"
   ]
  },
  {
   "cell_type": "code",
   "execution_count": 1,
   "id": "b760c900",
   "metadata": {},
   "outputs": [],
   "source": [
    "from sklearn.datasets import load_iris\n",
    "from sklearn.naive_bayes import GaussianNB\n",
    "# 독립변수가 연속형이므로 가우시안 나이브 베이즈 사용\n",
    "from sklearn.model_selection import train_test_split\n",
    "from sklearn.metrics import accuracy_score, confusion_matrix # 분류 모델 성능 측정용 평가지표"
   ]
  },
  {
   "cell_type": "markdown",
   "id": "bdf5f183",
   "metadata": {},
   "source": [
    "## 데이터 로드 및 분할"
   ]
  },
  {
   "cell_type": "code",
   "execution_count": 4,
   "id": "13f81eef",
   "metadata": {
    "scrolled": true
   },
   "outputs": [
    {
     "data": {
      "text/plain": [
       "((105, 4), (105,), (45, 4), (45,))"
      ]
     },
     "execution_count": 4,
     "metadata": {},
     "output_type": "execute_result"
    }
   ],
   "source": [
    "x, y = load_iris(return_X_y=True)\n",
    "# returen_X_y=True : 독립변수와 종속변수의 값을 나눠서 한 번에 가져옴\n",
    "\n",
    "x_train, x_test, y_train, y_test = train_test_split(x, y,\n",
    "                                                    test_size=0.3,\n",
    "                                                    stratify=y,\n",
    "                                                    random_state=123) # 랜덤 X\n",
    "x_train.shape, y_train.shape, x_test.shape, y_test.shape"
   ]
  },
  {
   "cell_type": "markdown",
   "id": "051c4d42",
   "metadata": {},
   "source": [
    "## 모델 생성 "
   ]
  },
  {
   "cell_type": "code",
   "execution_count": 5,
   "id": "135cfe1b",
   "metadata": {
    "scrolled": true
   },
   "outputs": [
    {
     "data": {
      "text/plain": [
       "GaussianNB()"
      ]
     },
     "execution_count": 5,
     "metadata": {},
     "output_type": "execute_result"
    }
   ],
   "source": [
    "# GaussianNB : 설명변수가 연속형인 경우 사용하는 모델\n",
    "model = GaussianNB()\n",
    "model.fit(x_train, y_train)"
   ]
  },
  {
   "cell_type": "markdown",
   "id": "dfa4a27f",
   "metadata": {},
   "source": [
    "## 모델 평가"
   ]
  },
  {
   "cell_type": "code",
   "execution_count": 6,
   "id": "120211c4",
   "metadata": {},
   "outputs": [
    {
     "data": {
      "text/plain": [
       "0.9777777777777777"
      ]
     },
     "execution_count": 6,
     "metadata": {},
     "output_type": "execute_result"
    }
   ],
   "source": [
    "y_hat = model.predict(x_test)\n",
    "acc = accuracy_score(y_test, y_hat)\n",
    "acc # 정확도 0.977777"
   ]
  },
  {
   "cell_type": "code",
   "execution_count": 7,
   "id": "e2c0145a",
   "metadata": {
    "scrolled": true
   },
   "outputs": [
    {
     "data": {
      "text/plain": [
       "array([[15,  0,  0],\n",
       "       [ 0, 14,  1],\n",
       "       [ 0,  0, 15]], dtype=int64)"
      ]
     },
     "execution_count": 7,
     "metadata": {},
     "output_type": "execute_result"
    }
   ],
   "source": [
    "cm = confusion_matrix(y_test, y_hat)\n",
    "cm # 혼동 행렬"
   ]
  },
  {
   "cell_type": "markdown",
   "id": "e178c624",
   "metadata": {},
   "source": [
    "# 버섯 분류"
   ]
  },
  {
   "cell_type": "code",
   "execution_count": null,
   "id": "d22e8ecf",
   "metadata": {},
   "outputs": [],
   "source": [
    "# 독버섯과 식용버섯에 대한 데이터\n",
    "# type : edible, poisonous : 이진분류\n",
    "# 멀티노미얼 나이브 베이즈 : 모든 특성, 즉 설명변수들이 범주형이므로\n",
    "\n",
    "# 원핫인코딩시 너무 많은 컬럼이 생겨버린다.. (이미 있는 컬럼 21개 * 컬럼별 unique한 요소)\n",
    "# 라벨링\n",
    "# unique / 결측치 확인"
   ]
  },
  {
   "cell_type": "markdown",
   "id": "7b6c615f",
   "metadata": {},
   "source": [
    "## 패키지 로딩"
   ]
  },
  {
   "cell_type": "code",
   "execution_count": null,
   "id": "4d4e2430",
   "metadata": {},
   "outputs": [],
   "source": [
    "from sklearn.naive_bayes import MultinomialNB\n",
    "# 독립변수가 범주형이므로 멀티노미얼 나이브 베이즈 사용\n",
    "from sklearn.model_selection import train_test_split\n",
    "from sklearn.metrics import accuracy_score, confusion_matrix, precision_score, recall_score, roc_auc_score # 분류 모델 성능 측정용 평가지표\n",
    "\n",
    "import numpy as np\n",
    "import pandas as pd"
   ]
  },
  {
   "cell_type": "markdown",
   "id": "e77b2e41",
   "metadata": {},
   "source": [
    "## 데이터 로드 및 확인"
   ]
  },
  {
   "cell_type": "code",
   "execution_count": 8,
   "id": "5f44df43",
   "metadata": {
    "scrolled": true
   },
   "outputs": [
    {
     "data": {
      "text/html": [
       "<div>\n",
       "<style scoped>\n",
       "    .dataframe tbody tr th:only-of-type {\n",
       "        vertical-align: middle;\n",
       "    }\n",
       "\n",
       "    .dataframe tbody tr th {\n",
       "        vertical-align: top;\n",
       "    }\n",
       "\n",
       "    .dataframe thead th {\n",
       "        text-align: right;\n",
       "    }\n",
       "</style>\n",
       "<table border=\"1\" class=\"dataframe\">\n",
       "  <thead>\n",
       "    <tr style=\"text-align: right;\">\n",
       "      <th></th>\n",
       "      <th>type</th>\n",
       "      <th>cap_shape</th>\n",
       "      <th>cap_surface</th>\n",
       "      <th>cap_color</th>\n",
       "      <th>bruises</th>\n",
       "      <th>odor</th>\n",
       "      <th>gill_attachment</th>\n",
       "      <th>gill_spacing</th>\n",
       "      <th>gill_size</th>\n",
       "      <th>gill_color</th>\n",
       "      <th>...</th>\n",
       "      <th>stalk_surface_below_ring</th>\n",
       "      <th>stalk_color_above_ring</th>\n",
       "      <th>stalk_color_below_ring</th>\n",
       "      <th>veil_type</th>\n",
       "      <th>veil_color</th>\n",
       "      <th>ring_number</th>\n",
       "      <th>ring_type</th>\n",
       "      <th>spore_print_color</th>\n",
       "      <th>population</th>\n",
       "      <th>habitat</th>\n",
       "    </tr>\n",
       "  </thead>\n",
       "  <tbody>\n",
       "    <tr>\n",
       "      <th>0</th>\n",
       "      <td>poisonous</td>\n",
       "      <td>convex</td>\n",
       "      <td>smooth</td>\n",
       "      <td>brown</td>\n",
       "      <td>yes</td>\n",
       "      <td>pungent</td>\n",
       "      <td>free</td>\n",
       "      <td>close</td>\n",
       "      <td>narrow</td>\n",
       "      <td>black</td>\n",
       "      <td>...</td>\n",
       "      <td>smooth</td>\n",
       "      <td>white</td>\n",
       "      <td>white</td>\n",
       "      <td>partial</td>\n",
       "      <td>white</td>\n",
       "      <td>one</td>\n",
       "      <td>pendant</td>\n",
       "      <td>black</td>\n",
       "      <td>scattered</td>\n",
       "      <td>urban</td>\n",
       "    </tr>\n",
       "    <tr>\n",
       "      <th>1</th>\n",
       "      <td>edible</td>\n",
       "      <td>convex</td>\n",
       "      <td>smooth</td>\n",
       "      <td>yellow</td>\n",
       "      <td>yes</td>\n",
       "      <td>almond</td>\n",
       "      <td>free</td>\n",
       "      <td>close</td>\n",
       "      <td>broad</td>\n",
       "      <td>black</td>\n",
       "      <td>...</td>\n",
       "      <td>smooth</td>\n",
       "      <td>white</td>\n",
       "      <td>white</td>\n",
       "      <td>partial</td>\n",
       "      <td>white</td>\n",
       "      <td>one</td>\n",
       "      <td>pendant</td>\n",
       "      <td>brown</td>\n",
       "      <td>numerous</td>\n",
       "      <td>grasses</td>\n",
       "    </tr>\n",
       "    <tr>\n",
       "      <th>2</th>\n",
       "      <td>edible</td>\n",
       "      <td>bell</td>\n",
       "      <td>smooth</td>\n",
       "      <td>white</td>\n",
       "      <td>yes</td>\n",
       "      <td>anise</td>\n",
       "      <td>free</td>\n",
       "      <td>close</td>\n",
       "      <td>broad</td>\n",
       "      <td>brown</td>\n",
       "      <td>...</td>\n",
       "      <td>smooth</td>\n",
       "      <td>white</td>\n",
       "      <td>white</td>\n",
       "      <td>partial</td>\n",
       "      <td>white</td>\n",
       "      <td>one</td>\n",
       "      <td>pendant</td>\n",
       "      <td>brown</td>\n",
       "      <td>numerous</td>\n",
       "      <td>meadows</td>\n",
       "    </tr>\n",
       "    <tr>\n",
       "      <th>3</th>\n",
       "      <td>poisonous</td>\n",
       "      <td>convex</td>\n",
       "      <td>scaly</td>\n",
       "      <td>white</td>\n",
       "      <td>yes</td>\n",
       "      <td>pungent</td>\n",
       "      <td>free</td>\n",
       "      <td>close</td>\n",
       "      <td>narrow</td>\n",
       "      <td>brown</td>\n",
       "      <td>...</td>\n",
       "      <td>smooth</td>\n",
       "      <td>white</td>\n",
       "      <td>white</td>\n",
       "      <td>partial</td>\n",
       "      <td>white</td>\n",
       "      <td>one</td>\n",
       "      <td>pendant</td>\n",
       "      <td>black</td>\n",
       "      <td>scattered</td>\n",
       "      <td>urban</td>\n",
       "    </tr>\n",
       "    <tr>\n",
       "      <th>4</th>\n",
       "      <td>edible</td>\n",
       "      <td>convex</td>\n",
       "      <td>smooth</td>\n",
       "      <td>gray</td>\n",
       "      <td>no</td>\n",
       "      <td>none</td>\n",
       "      <td>free</td>\n",
       "      <td>crowded</td>\n",
       "      <td>broad</td>\n",
       "      <td>black</td>\n",
       "      <td>...</td>\n",
       "      <td>smooth</td>\n",
       "      <td>white</td>\n",
       "      <td>white</td>\n",
       "      <td>partial</td>\n",
       "      <td>white</td>\n",
       "      <td>one</td>\n",
       "      <td>evanescent</td>\n",
       "      <td>brown</td>\n",
       "      <td>abundant</td>\n",
       "      <td>grasses</td>\n",
       "    </tr>\n",
       "  </tbody>\n",
       "</table>\n",
       "<p>5 rows × 23 columns</p>\n",
       "</div>"
      ],
      "text/plain": [
       "        type cap_shape cap_surface cap_color bruises     odor gill_attachment  \\\n",
       "0  poisonous    convex      smooth     brown     yes  pungent            free   \n",
       "1     edible    convex      smooth    yellow     yes   almond            free   \n",
       "2     edible      bell      smooth     white     yes    anise            free   \n",
       "3  poisonous    convex       scaly     white     yes  pungent            free   \n",
       "4     edible    convex      smooth      gray      no     none            free   \n",
       "\n",
       "  gill_spacing gill_size gill_color  ... stalk_surface_below_ring  \\\n",
       "0        close    narrow      black  ...                   smooth   \n",
       "1        close     broad      black  ...                   smooth   \n",
       "2        close     broad      brown  ...                   smooth   \n",
       "3        close    narrow      brown  ...                   smooth   \n",
       "4      crowded     broad      black  ...                   smooth   \n",
       "\n",
       "  stalk_color_above_ring stalk_color_below_ring veil_type veil_color  \\\n",
       "0                  white                  white   partial      white   \n",
       "1                  white                  white   partial      white   \n",
       "2                  white                  white   partial      white   \n",
       "3                  white                  white   partial      white   \n",
       "4                  white                  white   partial      white   \n",
       "\n",
       "  ring_number   ring_type spore_print_color population  habitat  \n",
       "0         one     pendant             black  scattered    urban  \n",
       "1         one     pendant             brown   numerous  grasses  \n",
       "2         one     pendant             brown   numerous  meadows  \n",
       "3         one     pendant             black  scattered    urban  \n",
       "4         one  evanescent             brown   abundant  grasses  \n",
       "\n",
       "[5 rows x 23 columns]"
      ]
     },
     "execution_count": 8,
     "metadata": {},
     "output_type": "execute_result"
    }
   ],
   "source": [
    "import numpy as np\n",
    "import pandas as pd\n",
    "\n",
    "mushroom_origin = pd.read_csv('mushrooms.csv')\n",
    "mushroom_origin.head()"
   ]
  },
  {
   "cell_type": "code",
   "execution_count": 56,
   "id": "2bfcf8c4",
   "metadata": {
    "scrolled": true
   },
   "outputs": [
    {
     "name": "stdout",
     "output_type": "stream",
     "text": [
      "<class 'pandas.core.frame.DataFrame'>\n",
      "RangeIndex: 8124 entries, 0 to 8123\n",
      "Data columns (total 23 columns):\n",
      " #   Column                    Non-Null Count  Dtype \n",
      "---  ------                    --------------  ----- \n",
      " 0   type                      8124 non-null   object\n",
      " 1   cap_shape                 8124 non-null   object\n",
      " 2   cap_surface               8124 non-null   object\n",
      " 3   cap_color                 8124 non-null   object\n",
      " 4   bruises                   8124 non-null   object\n",
      " 5   odor                      8124 non-null   object\n",
      " 6   gill_attachment           8124 non-null   object\n",
      " 7   gill_spacing              8124 non-null   object\n",
      " 8   gill_size                 8124 non-null   object\n",
      " 9   gill_color                8124 non-null   object\n",
      " 10  stalk_shape               8124 non-null   object\n",
      " 11  stalk_root                8124 non-null   object\n",
      " 12  stalk_surface_above_ring  8124 non-null   object\n",
      " 13  stalk_surface_below_ring  8124 non-null   object\n",
      " 14  stalk_color_above_ring    8124 non-null   object\n",
      " 15  stalk_color_below_ring    8124 non-null   object\n",
      " 16  veil_type                 8124 non-null   object\n",
      " 17  veil_color                8124 non-null   object\n",
      " 18  ring_number               8124 non-null   object\n",
      " 19  ring_type                 8124 non-null   object\n",
      " 20  spore_print_color         8124 non-null   object\n",
      " 21  population                8124 non-null   object\n",
      " 22  habitat                   8124 non-null   object\n",
      "dtypes: object(23)\n",
      "memory usage: 1.4+ MB\n"
     ]
    }
   ],
   "source": [
    "# 카피본 떠놓고 시작하기\n",
    "mushroom = mushroom_origin.copy()\n",
    "mushroom.info()"
   ]
  },
  {
   "cell_type": "markdown",
   "id": "f1c4ec9e",
   "metadata": {},
   "source": [
    "## 데이터 전처리\n",
    "- for문을 이용한 라벨링\n",
    "- 컬럼의 값 & unique 값 가져오기 / 딕셔너리로 맵핑 정보"
   ]
  },
  {
   "cell_type": "code",
   "execution_count": 57,
   "id": "110afe49",
   "metadata": {
    "scrolled": false
   },
   "outputs": [
    {
     "name": "stdout",
     "output_type": "stream",
     "text": [
      "edible       4208\n",
      "poisonous    3916\n",
      "Name: type, dtype: int64\n"
     ]
    }
   ],
   "source": [
    "x = mushroom.drop('type', axis=1)\n",
    "# x = mushroom.iloc[:, 1:]\n",
    "y = mushroom['type']\n",
    "print(y.value_counts()) # y의 유니크값 분포 보기"
   ]
  },
  {
   "cell_type": "code",
   "execution_count": 58,
   "id": "bfd658e0",
   "metadata": {},
   "outputs": [],
   "source": [
    "# sklearn : 라벨 인코딩\n",
    "from sklearn.preprocessing import LabelEncoder\n",
    "\n",
    "for col in x.columns:\n",
    "    labels = LabelEncoder().fit_transform(x[col])\n",
    "    x[col]=labels"
   ]
  },
  {
   "cell_type": "code",
   "execution_count": 59,
   "id": "1aba8f01",
   "metadata": {
    "scrolled": true
   },
   "outputs": [
    {
     "data": {
      "text/html": [
       "<div>\n",
       "<style scoped>\n",
       "    .dataframe tbody tr th:only-of-type {\n",
       "        vertical-align: middle;\n",
       "    }\n",
       "\n",
       "    .dataframe tbody tr th {\n",
       "        vertical-align: top;\n",
       "    }\n",
       "\n",
       "    .dataframe thead th {\n",
       "        text-align: right;\n",
       "    }\n",
       "</style>\n",
       "<table border=\"1\" class=\"dataframe\">\n",
       "  <thead>\n",
       "    <tr style=\"text-align: right;\">\n",
       "      <th></th>\n",
       "      <th>cap_shape</th>\n",
       "      <th>cap_surface</th>\n",
       "      <th>cap_color</th>\n",
       "      <th>bruises</th>\n",
       "      <th>odor</th>\n",
       "      <th>gill_attachment</th>\n",
       "      <th>gill_spacing</th>\n",
       "      <th>gill_size</th>\n",
       "      <th>gill_color</th>\n",
       "      <th>stalk_shape</th>\n",
       "      <th>...</th>\n",
       "      <th>stalk_surface_below_ring</th>\n",
       "      <th>stalk_color_above_ring</th>\n",
       "      <th>stalk_color_below_ring</th>\n",
       "      <th>veil_type</th>\n",
       "      <th>veil_color</th>\n",
       "      <th>ring_number</th>\n",
       "      <th>ring_type</th>\n",
       "      <th>spore_print_color</th>\n",
       "      <th>population</th>\n",
       "      <th>habitat</th>\n",
       "    </tr>\n",
       "  </thead>\n",
       "  <tbody>\n",
       "    <tr>\n",
       "      <th>0</th>\n",
       "      <td>2</td>\n",
       "      <td>3</td>\n",
       "      <td>0</td>\n",
       "      <td>1</td>\n",
       "      <td>7</td>\n",
       "      <td>1</td>\n",
       "      <td>0</td>\n",
       "      <td>1</td>\n",
       "      <td>0</td>\n",
       "      <td>0</td>\n",
       "      <td>...</td>\n",
       "      <td>3</td>\n",
       "      <td>7</td>\n",
       "      <td>7</td>\n",
       "      <td>0</td>\n",
       "      <td>2</td>\n",
       "      <td>1</td>\n",
       "      <td>4</td>\n",
       "      <td>0</td>\n",
       "      <td>3</td>\n",
       "      <td>4</td>\n",
       "    </tr>\n",
       "    <tr>\n",
       "      <th>1</th>\n",
       "      <td>2</td>\n",
       "      <td>3</td>\n",
       "      <td>9</td>\n",
       "      <td>1</td>\n",
       "      <td>0</td>\n",
       "      <td>1</td>\n",
       "      <td>0</td>\n",
       "      <td>0</td>\n",
       "      <td>0</td>\n",
       "      <td>0</td>\n",
       "      <td>...</td>\n",
       "      <td>3</td>\n",
       "      <td>7</td>\n",
       "      <td>7</td>\n",
       "      <td>0</td>\n",
       "      <td>2</td>\n",
       "      <td>1</td>\n",
       "      <td>4</td>\n",
       "      <td>1</td>\n",
       "      <td>2</td>\n",
       "      <td>0</td>\n",
       "    </tr>\n",
       "    <tr>\n",
       "      <th>2</th>\n",
       "      <td>0</td>\n",
       "      <td>3</td>\n",
       "      <td>8</td>\n",
       "      <td>1</td>\n",
       "      <td>1</td>\n",
       "      <td>1</td>\n",
       "      <td>0</td>\n",
       "      <td>0</td>\n",
       "      <td>1</td>\n",
       "      <td>0</td>\n",
       "      <td>...</td>\n",
       "      <td>3</td>\n",
       "      <td>7</td>\n",
       "      <td>7</td>\n",
       "      <td>0</td>\n",
       "      <td>2</td>\n",
       "      <td>1</td>\n",
       "      <td>4</td>\n",
       "      <td>1</td>\n",
       "      <td>2</td>\n",
       "      <td>2</td>\n",
       "    </tr>\n",
       "    <tr>\n",
       "      <th>3</th>\n",
       "      <td>2</td>\n",
       "      <td>2</td>\n",
       "      <td>8</td>\n",
       "      <td>1</td>\n",
       "      <td>7</td>\n",
       "      <td>1</td>\n",
       "      <td>0</td>\n",
       "      <td>1</td>\n",
       "      <td>1</td>\n",
       "      <td>0</td>\n",
       "      <td>...</td>\n",
       "      <td>3</td>\n",
       "      <td>7</td>\n",
       "      <td>7</td>\n",
       "      <td>0</td>\n",
       "      <td>2</td>\n",
       "      <td>1</td>\n",
       "      <td>4</td>\n",
       "      <td>0</td>\n",
       "      <td>3</td>\n",
       "      <td>4</td>\n",
       "    </tr>\n",
       "    <tr>\n",
       "      <th>4</th>\n",
       "      <td>2</td>\n",
       "      <td>3</td>\n",
       "      <td>3</td>\n",
       "      <td>0</td>\n",
       "      <td>6</td>\n",
       "      <td>1</td>\n",
       "      <td>1</td>\n",
       "      <td>0</td>\n",
       "      <td>0</td>\n",
       "      <td>1</td>\n",
       "      <td>...</td>\n",
       "      <td>3</td>\n",
       "      <td>7</td>\n",
       "      <td>7</td>\n",
       "      <td>0</td>\n",
       "      <td>2</td>\n",
       "      <td>1</td>\n",
       "      <td>0</td>\n",
       "      <td>1</td>\n",
       "      <td>0</td>\n",
       "      <td>0</td>\n",
       "    </tr>\n",
       "  </tbody>\n",
       "</table>\n",
       "<p>5 rows × 22 columns</p>\n",
       "</div>"
      ],
      "text/plain": [
       "   cap_shape  cap_surface  cap_color  bruises  odor  gill_attachment  \\\n",
       "0          2            3          0        1     7                1   \n",
       "1          2            3          9        1     0                1   \n",
       "2          0            3          8        1     1                1   \n",
       "3          2            2          8        1     7                1   \n",
       "4          2            3          3        0     6                1   \n",
       "\n",
       "   gill_spacing  gill_size  gill_color  stalk_shape  ...  \\\n",
       "0             0          1           0            0  ...   \n",
       "1             0          0           0            0  ...   \n",
       "2             0          0           1            0  ...   \n",
       "3             0          1           1            0  ...   \n",
       "4             1          0           0            1  ...   \n",
       "\n",
       "   stalk_surface_below_ring  stalk_color_above_ring  stalk_color_below_ring  \\\n",
       "0                         3                       7                       7   \n",
       "1                         3                       7                       7   \n",
       "2                         3                       7                       7   \n",
       "3                         3                       7                       7   \n",
       "4                         3                       7                       7   \n",
       "\n",
       "   veil_type  veil_color  ring_number  ring_type  spore_print_color  \\\n",
       "0          0           2            1          4                  0   \n",
       "1          0           2            1          4                  1   \n",
       "2          0           2            1          4                  1   \n",
       "3          0           2            1          4                  0   \n",
       "4          0           2            1          0                  1   \n",
       "\n",
       "   population  habitat  \n",
       "0           3        4  \n",
       "1           2        0  \n",
       "2           2        2  \n",
       "3           3        4  \n",
       "4           0        0  \n",
       "\n",
       "[5 rows x 22 columns]"
      ]
     },
     "execution_count": 59,
     "metadata": {},
     "output_type": "execute_result"
    }
   ],
   "source": [
    "x.head()"
   ]
  },
  {
   "cell_type": "markdown",
   "id": "ebfcefc1",
   "metadata": {},
   "source": [
    "## 학습/평가용 데이터 분할"
   ]
  },
  {
   "cell_type": "code",
   "execution_count": 60,
   "id": "2d64bcdd",
   "metadata": {
    "scrolled": false
   },
   "outputs": [
    {
     "data": {
      "text/plain": [
       "((6499, 22), (6499,), (1625, 22), (1625,))"
      ]
     },
     "execution_count": 60,
     "metadata": {},
     "output_type": "execute_result"
    }
   ],
   "source": [
    "from sklearn.model_selection import train_test_split\n",
    "x_train, x_test, y_train, y_test = train_test_split(x, y,\n",
    "                                                    train_size=0.8,\n",
    "                                                    stratify=y,\n",
    "                                                    random_state=125) # 랜덤 X\n",
    "# y.value_counts()\n",
    "# stratify=y : 두 클래스 edible와 poisonous를 train/test에 동일한 비율로 넣어주기 위함\n",
    "x_train.shape, y_train.shape, x_test.shape, y_test.shape"
   ]
  },
  {
   "cell_type": "markdown",
   "id": "4aba9d37",
   "metadata": {},
   "source": [
    "## 모델 생성"
   ]
  },
  {
   "cell_type": "code",
   "execution_count": 61,
   "id": "f715bef2",
   "metadata": {
    "scrolled": false
   },
   "outputs": [
    {
     "data": {
      "text/plain": [
       "MultinomialNB()"
      ]
     },
     "execution_count": 61,
     "metadata": {},
     "output_type": "execute_result"
    }
   ],
   "source": [
    "from sklearn.naive_bayes import MultinomialNB\n",
    "# MultinomialNB : 설명변수가 범주형이므로 멀티노미얼 나이브 베이즈 사용\n",
    "\n",
    "model = MultinomialNB()\n",
    "model.fit(x_train, y_train)"
   ]
  },
  {
   "cell_type": "markdown",
   "id": "d2159ae1",
   "metadata": {},
   "source": [
    "## 예측"
   ]
  },
  {
   "cell_type": "code",
   "execution_count": 63,
   "id": "abc1e204",
   "metadata": {},
   "outputs": [
    {
     "name": "stdout",
     "output_type": "stream",
     "text": [
      "실제 값:  ['edible' 'edible' 'poisonous' 'poisonous' 'edible']\n",
      "예측 값:  ['edible' 'edible' 'edible' 'poisonous' 'edible']\n"
     ]
    }
   ],
   "source": [
    "y_hat = model.predict(x_test)\n",
    "print('실제 값: ', y_test[:5].values)\n",
    "print('예측 값: ', y_hat[:5])"
   ]
  },
  {
   "cell_type": "markdown",
   "id": "6393d90d",
   "metadata": {},
   "source": [
    "## 모델 평가"
   ]
  },
  {
   "cell_type": "code",
   "execution_count": 64,
   "id": "ddf479f9",
   "metadata": {},
   "outputs": [
    {
     "data": {
      "text/plain": [
       "array([[727, 115],\n",
       "       [164, 619]], dtype=int64)"
      ]
     },
     "execution_count": 64,
     "metadata": {},
     "output_type": "execute_result"
    }
   ],
   "source": [
    "cm = confusion_matrix(y_test, y_hat)\n",
    "cm # 혼동 행렬"
   ]
  },
  {
   "cell_type": "markdown",
   "id": "99dd246b",
   "metadata": {},
   "source": [
    "<pre>\n",
    "                             Predict\n",
    "----------------------------------------------------------\n",
    "                  edible        |      poisonous       (알파벳 순서로 정렬)\n",
    "----------------------------------------------------------\n",
    "   |    |                       |\n",
    "A  |  e |          727          |         115\n",
    "C  |    |                       |\n",
    "T  |------------------------------------------------------  \n",
    "U  |    |                       |\n",
    "A  |  p |          164          |         619\n",
    "L  |    |                       |\n",
    "----------------------------------------------------------\n",
    "</pre>"
   ]
  },
  {
   "cell_type": "code",
   "execution_count": null,
   "id": "b52bea1a",
   "metadata": {},
   "outputs": [],
   "source": [
    "np.set_printoptions(suppress=True, precision=2)\n",
    "# 정밀도를 소수점 세 자리까지 보여줌"
   ]
  },
  {
   "cell_type": "code",
   "execution_count": 68,
   "id": "f881a1f5",
   "metadata": {},
   "outputs": [
    {
     "data": {
      "text/plain": [
       "array(['edible', 'poisonous'], dtype='<U9')"
      ]
     },
     "execution_count": 68,
     "metadata": {},
     "output_type": "execute_result"
    }
   ],
   "source": [
    "# 모델의 클래스 확인하기\n",
    "model.classes_"
   ]
  },
  {
   "cell_type": "code",
   "execution_count": 70,
   "id": "8db8e4f7",
   "metadata": {},
   "outputs": [
    {
     "name": "stdout",
     "output_type": "stream",
     "text": [
      "정확도: 0.828\n",
      "정밀도: 0.843\n",
      "재현율: 0.843\n",
      "AUC:0.893\n"
     ]
    }
   ],
   "source": [
    "from sklearn.metrics import accuracy_score, confusion_matrix, precision_score, recall_score, f1_score, classification_report, roc_auc_score # 분류 모델 성능 측정용 평가지표\n",
    "\n",
    "print(f'정확도: {accuracy_score(y_test, y_hat):.3f}') # (TN+TP) / (전체)\n",
    "print(f'정밀도: {precision_score(y_test, y_hat, pos_label=\"poisonous\"):.3f}') # TP / (FP+TP)\n",
    "print(f'재현율: {precision_score(y_test, y_hat, pos_label=\"poisonous\"):.3f}') # TP / (FN+TP)\n",
    "# pos_label='poisonous' : label로 사용할 class명을 명시해줘야 한다\n",
    "# pos_label=1 is not a valid label. It should be one of ['edible', 'poisonous']\n",
    "# y는 0과 1이 아닌 edible과 poisonous라는 문자열로 되어있으므로 오류 발생\n",
    "\n",
    "# roc_auc_score\n",
    "print(f'AUC:{roc_auc_score(y_test, model.predict_proba(x_test)[:, 1]):.3f}')"
   ]
  },
  {
   "cell_type": "code",
   "execution_count": 48,
   "id": "7d4136f5",
   "metadata": {},
   "outputs": [
    {
     "name": "stdout",
     "output_type": "stream",
     "text": [
      "              precision    recall  f1-score   support\n",
      "\n",
      "           0       0.81      0.86      0.83      1263\n",
      "           1       0.84      0.78      0.81      1175\n",
      "\n",
      "    accuracy                           0.82      2438\n",
      "   macro avg       0.82      0.82      0.82      2438\n",
      "weighted avg       0.82      0.82      0.82      2438\n",
      "\n"
     ]
    }
   ],
   "source": [
    "# 한 번에 조회하기\n",
    "report = classification_report(y_test, y_hat)\n",
    "print(report)"
   ]
  }
 ],
 "metadata": {
  "kernelspec": {
   "display_name": "Python 3 (ipykernel)",
   "language": "python",
   "name": "python3"
  },
  "language_info": {
   "codemirror_mode": {
    "name": "ipython",
    "version": 3
   },
   "file_extension": ".py",
   "mimetype": "text/x-python",
   "name": "python",
   "nbconvert_exporter": "python",
   "pygments_lexer": "ipython3",
   "version": "3.9.13"
  },
  "toc": {
   "base_numbering": 1,
   "nav_menu": {},
   "number_sections": true,
   "sideBar": true,
   "skip_h1_title": false,
   "title_cell": "Table of Contents",
   "title_sidebar": "Contents",
   "toc_cell": false,
   "toc_position": {
    "height": "499.619px",
    "left": "59px",
    "top": "133px",
    "width": "292.56px"
   },
   "toc_section_display": true,
   "toc_window_display": true
  }
 },
 "nbformat": 4,
 "nbformat_minor": 5
}
