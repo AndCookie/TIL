{
 "cells": [
  {
   "cell_type": "markdown",
   "id": "6946c05e",
   "metadata": {},
   "source": [
    "<font size=5> **[넷플릭스 데이터를 활용한 추천 시스템 개발]** </font>\n",
    "- netflix_titles.csv 데이터를 활용하여 주요 데이터 시각화 및 추천 시스템을 개발하시오\n",
    "- 각 마크다운 셀의 내용을 참고하여 비어있는 코드 셀에 코드를 작성합니다.\n",
    "- 제시된 아웃풋은 참고이며 반드시 동일할 필요는 없습니다.\n",
    "- <font color='red'><b>빨간색</b></font>으로 표기된 영역은 이미 작성되어 있는 코드로 그대로 활용하시면 됩니다."
   ]
  },
  {
   "cell_type": "markdown",
   "id": "45441074",
   "metadata": {},
   "source": [
    "# 데이터 로딩"
   ]
  },
  {
   "cell_type": "code",
   "execution_count": 209,
   "id": "44e7155a",
   "metadata": {
    "scrolled": false
   },
   "outputs": [],
   "source": [
    "import pandas as pd\n",
    "import numpy as np\n",
    "\n",
    "netflix_original = pd.read_csv('./netflix_titles.csv')"
   ]
  },
  {
   "cell_type": "code",
   "execution_count": 210,
   "id": "754f7de4",
   "metadata": {},
   "outputs": [
    {
     "data": {
      "text/plain": [
       "Index(['show_id', 'type', 'title', 'director', 'cast', 'country', 'date_added',\n",
       "       'release_year', 'rating', 'duration', 'listed_in', 'description'],\n",
       "      dtype='object')"
      ]
     },
     "execution_count": 210,
     "metadata": {},
     "output_type": "execute_result"
    }
   ],
   "source": [
    "netflix = netflix_original.copy()\n",
    "netflix.shape # (7787, 12)\n",
    "netflix.columns # ['show_id', 'type', 'title', 'director', 'cast', 'country', 'date_added','release_year', 'rating', 'duration', 'listed_in', 'description']"
   ]
  },
  {
   "cell_type": "markdown",
   "id": "6d7c2520",
   "metadata": {},
   "source": [
    "# 주요 데이터 시각화"
   ]
  },
  {
   "attachments": {
    "TV%20show%20vs%20Movies%20%EB%A7%89%EB%8C%80%EA%B7%B8%EB%9E%98%ED%94%84.png": {
     "image/png": "[encoded data removed]"
    }
   },
   "cell_type": "markdown",
   "id": "f0ff083a",
   "metadata": {},
   "source": [
    "## TV Show vs Movies (콘텐츠 타입) 막대 그래프\n",
    "[예시]\n",
    "![TV%20show%20vs%20Movies%20%EB%A7%89%EB%8C%80%EA%B7%B8%EB%9E%98%ED%94%84.png](attachment:TV%20show%20vs%20Movies%20%EB%A7%89%EB%8C%80%EA%B7%B8%EB%9E%98%ED%94%84.png)"
   ]
  },
  {
   "cell_type": "code",
   "execution_count": 211,
   "id": "815aae0d",
   "metadata": {
    "scrolled": true
   },
   "outputs": [
    {
     "name": "stdout",
     "output_type": "stream",
     "text": [
      "<class 'pandas.core.series.Series'>\n",
      "RangeIndex: 7787 entries, 0 to 7786\n",
      "Series name: type\n",
      "Non-Null Count  Dtype \n",
      "--------------  ----- \n",
      "7787 non-null   object\n",
      "dtypes: object(1)\n",
      "memory usage: 61.0+ KB\n"
     ]
    }
   ],
   "source": [
    "netflix['type'].info()"
   ]
  },
  {
   "cell_type": "code",
   "execution_count": 212,
   "id": "a2fcc143",
   "metadata": {
    "scrolled": true
   },
   "outputs": [
    {
     "data": {
      "text/plain": [
       "Movie      5377\n",
       "TV Show    2410\n",
       "Name: type, dtype: int64"
      ]
     },
     "execution_count": 212,
     "metadata": {},
     "output_type": "execute_result"
    }
   ],
   "source": [
    "netflix['type'].value_counts()"
   ]
  },
  {
   "cell_type": "code",
   "execution_count": 213,
   "id": "b6c78a1c",
   "metadata": {},
   "outputs": [
    {
     "data": {
      "image/png": "[encoded data removed]",
      "text/plain": [
       "<Figure size 640x480 with 1 Axes>"
      ]
     },
     "metadata": {},
     "output_type": "display_data"
    }
   ],
   "source": [
    "# 막대그래프 그리기\n",
    "import matplotlib.pyplot as plt\n",
    "import seaborn as sns\n",
    "\n",
    "sns.countplot(data=netflix, x='type')\n",
    "plt.grid(True) # 격자\n",
    "plt.show()"
   ]
  },
  {
   "cell_type": "markdown",
   "id": "142daff0",
   "metadata": {},
   "source": [
    "## 제작 국가별 수평 막대 그래프\n",
    "- 결측 값 확인 및 결측 값을 포함한 레코드 삭제\n",
    "- 2개 이상의 제작국가 값을 가지고 있는 레코드는 ‘,’를 기준으로 분류하여 카운팅 한다.\n",
    "- 상위 10개국에 대한 막대그래프를 그린다."
   ]
  },
  {
   "cell_type": "markdown",
   "id": "8b61ce4a",
   "metadata": {},
   "source": [
    "### 국가 컬럼 내 결측 값 확인 및 결측 값을 포함한 레코드 삭제"
   ]
  },
  {
   "cell_type": "code",
   "execution_count": 214,
   "id": "08d28472",
   "metadata": {
    "scrolled": false
   },
   "outputs": [
    {
     "data": {
      "text/plain": [
       "507"
      ]
     },
     "execution_count": 214,
     "metadata": {},
     "output_type": "execute_result"
    }
   ],
   "source": [
    "netflix['country'].isna().sum() # 507개의 결측값"
   ]
  },
  {
   "cell_type": "code",
   "execution_count": 215,
   "id": "284c1fe8",
   "metadata": {},
   "outputs": [
    {
     "data": {
      "text/plain": [
       "(7787, 12)"
      ]
     },
     "execution_count": 215,
     "metadata": {},
     "output_type": "execute_result"
    }
   ],
   "source": [
    "netflix.shape"
   ]
  },
  {
   "cell_type": "code",
   "execution_count": 216,
   "id": "775dc16a",
   "metadata": {
    "scrolled": true
   },
   "outputs": [
    {
     "data": {
      "text/plain": [
       "(7280, 12)"
      ]
     },
     "execution_count": 216,
     "metadata": {},
     "output_type": "execute_result"
    }
   ],
   "source": [
    "netflix = netflix[netflix['country'].isna()==False]\n",
    "netflix.shape"
   ]
  },
  {
   "cell_type": "markdown",
   "id": "73345869",
   "metadata": {},
   "source": [
    "### 2개 이상의 제작국가 값을 가지고 있는 레코드는 ‘,’를 기준으로 분류하여 카운팅"
   ]
  },
  {
   "cell_type": "code",
   "execution_count": 217,
   "id": "c4b934e5",
   "metadata": {
    "scrolled": true
   },
   "outputs": [
    {
     "data": {
      "text/plain": [
       "국가명          \n",
       "UnitedStates     3297\n",
       "India             990\n",
       "UnitedKingdom     723\n",
       "Canada            412\n",
       "France            349\n",
       "Japan             287\n",
       "Spain             215\n",
       "SouthKorea        212\n",
       "Germany           199\n",
       "Mexico            154\n",
       "dtype: int64"
      ]
     },
     "execution_count": 217,
     "metadata": {},
     "output_type": "execute_result"
    }
   ],
   "source": [
    "new_list = []\n",
    "for country in np.array(netflix['country']):\n",
    "    country.split(',')\n",
    "    new_list.append(country)\n",
    "    \n",
    "n = ','.join(new_list).replace(' ','').split(',')\n",
    "df_ct = pd.DataFrame(np.array(n), columns=['국가명'])\n",
    "df_ct.value_counts()[:10]"
   ]
  },
  {
   "cell_type": "code",
   "execution_count": 218,
   "id": "3ab82fbf",
   "metadata": {},
   "outputs": [
    {
     "data": {
      "text/html": [
       "<div>\n",
       "<style scoped>\n",
       "    .dataframe tbody tr th:only-of-type {\n",
       "        vertical-align: middle;\n",
       "    }\n",
       "\n",
       "    .dataframe tbody tr th {\n",
       "        vertical-align: top;\n",
       "    }\n",
       "\n",
       "    .dataframe thead th {\n",
       "        text-align: right;\n",
       "    }\n",
       "</style>\n",
       "<table border=\"1\" class=\"dataframe\">\n",
       "  <thead>\n",
       "    <tr style=\"text-align: right;\">\n",
       "      <th></th>\n",
       "      <th>국가명</th>\n",
       "      <th>빈도수</th>\n",
       "    </tr>\n",
       "  </thead>\n",
       "  <tbody>\n",
       "    <tr>\n",
       "      <th>0</th>\n",
       "      <td>UnitedStates</td>\n",
       "      <td>3297</td>\n",
       "    </tr>\n",
       "    <tr>\n",
       "      <th>1</th>\n",
       "      <td>India</td>\n",
       "      <td>990</td>\n",
       "    </tr>\n",
       "    <tr>\n",
       "      <th>2</th>\n",
       "      <td>UnitedKingdom</td>\n",
       "      <td>723</td>\n",
       "    </tr>\n",
       "    <tr>\n",
       "      <th>3</th>\n",
       "      <td>Canada</td>\n",
       "      <td>412</td>\n",
       "    </tr>\n",
       "    <tr>\n",
       "      <th>4</th>\n",
       "      <td>France</td>\n",
       "      <td>349</td>\n",
       "    </tr>\n",
       "    <tr>\n",
       "      <th>5</th>\n",
       "      <td>Japan</td>\n",
       "      <td>287</td>\n",
       "    </tr>\n",
       "    <tr>\n",
       "      <th>6</th>\n",
       "      <td>Spain</td>\n",
       "      <td>215</td>\n",
       "    </tr>\n",
       "    <tr>\n",
       "      <th>7</th>\n",
       "      <td>SouthKorea</td>\n",
       "      <td>212</td>\n",
       "    </tr>\n",
       "    <tr>\n",
       "      <th>8</th>\n",
       "      <td>Germany</td>\n",
       "      <td>199</td>\n",
       "    </tr>\n",
       "    <tr>\n",
       "      <th>9</th>\n",
       "      <td>Mexico</td>\n",
       "      <td>154</td>\n",
       "    </tr>\n",
       "  </tbody>\n",
       "</table>\n",
       "</div>"
      ],
      "text/plain": [
       "             국가명   빈도수\n",
       "0   UnitedStates  3297\n",
       "1          India   990\n",
       "2  UnitedKingdom   723\n",
       "3         Canada   412\n",
       "4         France   349\n",
       "5          Japan   287\n",
       "6          Spain   215\n",
       "7     SouthKorea   212\n",
       "8        Germany   199\n",
       "9         Mexico   154"
      ]
     },
     "execution_count": 218,
     "metadata": {},
     "output_type": "execute_result"
    }
   ],
   "source": [
    "top_n = pd.DataFrame(df_ct.value_counts()[:10], columns=['빈도수'])\n",
    "top_n.reset_index('국가명', inplace=True)\n",
    "top_n"
   ]
  },
  {
   "attachments": {
    "image.png": {
     "image/png": "[encoded data removed]"
    }
   },
   "cell_type": "markdown",
   "id": "f0e3273c",
   "metadata": {},
   "source": [
    "### 상위 10개국에 대한 막대그래프를 그린다.\n",
    "![image.png](attachment:image.png)"
   ]
  },
  {
   "cell_type": "code",
   "execution_count": 219,
   "id": "002f0d4c",
   "metadata": {},
   "outputs": [
    {
     "data": {
      "image/png": "[encoded data removed]",
      "text/plain": [
       "<Figure size 640x480 with 1 Axes>"
      ]
     },
     "metadata": {},
     "output_type": "display_data"
    }
   ],
   "source": [
    "# 막대그래프 그리기\n",
    "import matplotlib.pyplot as plt\n",
    "import seaborn as sns\n",
    "\n",
    "# sns.barplot() : plt.bar()과 유사\n",
    "sns.barplot(data=top_n, x='빈도수', y='국가명')\n",
    "plt.grid(True) # 격자\n",
    "plt.xlabel('Count')\n",
    "plt.ylabel('Country')\n",
    "plt.show()"
   ]
  },
  {
   "cell_type": "markdown",
   "id": "618c8fe1",
   "metadata": {},
   "source": [
    "# 제목, 장르, 요약내용 특성 값을 기반으로 한 콘텐츠 기반 필터링 추천"
   ]
  },
  {
   "cell_type": "markdown",
   "id": "61336c16",
   "metadata": {},
   "source": [
    "## 데이터 전처리"
   ]
  },
  {
   "cell_type": "markdown",
   "id": "d63ba2dc",
   "metadata": {},
   "source": [
    "### 추천 알고리즘 분석과 관련한 컬럼만 추출\n",
    "- 추출 대상 컬럼: 'show_id', 'title', 'listed_in', 'description'    "
   ]
  },
  {
   "attachments": {
    "image.png": {
     "image/png": "[encoded data removed]"
    }
   },
   "cell_type": "markdown",
   "id": "ca13bfe6",
   "metadata": {},
   "source": [
    "- 처리결과\n",
    "![image.png](attachment:image.png)"
   ]
  },
  {
   "cell_type": "code",
   "execution_count": 220,
   "id": "da40435b",
   "metadata": {
    "scrolled": true
   },
   "outputs": [
    {
     "data": {
      "text/plain": [
       "Index(['show_id', 'type', 'title', 'director', 'cast', 'country', 'date_added',\n",
       "       'release_year', 'rating', 'duration', 'listed_in', 'description'],\n",
       "      dtype='object')"
      ]
     },
     "execution_count": 220,
     "metadata": {},
     "output_type": "execute_result"
    }
   ],
   "source": [
    "netflix.columns"
   ]
  },
  {
   "cell_type": "code",
   "execution_count": 221,
   "id": "81b2b487",
   "metadata": {},
   "outputs": [
    {
     "data": {
      "text/html": [
       "<div>\n",
       "<style scoped>\n",
       "    .dataframe tbody tr th:only-of-type {\n",
       "        vertical-align: middle;\n",
       "    }\n",
       "\n",
       "    .dataframe tbody tr th {\n",
       "        vertical-align: top;\n",
       "    }\n",
       "\n",
       "    .dataframe thead th {\n",
       "        text-align: right;\n",
       "    }\n",
       "</style>\n",
       "<table border=\"1\" class=\"dataframe\">\n",
       "  <thead>\n",
       "    <tr style=\"text-align: right;\">\n",
       "      <th></th>\n",
       "      <th>show_id</th>\n",
       "      <th>title</th>\n",
       "      <th>listed_in</th>\n",
       "      <th>description</th>\n",
       "    </tr>\n",
       "  </thead>\n",
       "  <tbody>\n",
       "    <tr>\n",
       "      <th>0</th>\n",
       "      <td>s1</td>\n",
       "      <td>3%</td>\n",
       "      <td>International TV Shows, TV Dramas, TV Sci-Fi &amp;...</td>\n",
       "      <td>In a future where the elite inhabit an island ...</td>\n",
       "    </tr>\n",
       "    <tr>\n",
       "      <th>1</th>\n",
       "      <td>s2</td>\n",
       "      <td>7:19</td>\n",
       "      <td>Dramas, International Movies</td>\n",
       "      <td>After a devastating earthquake hits Mexico Cit...</td>\n",
       "    </tr>\n",
       "    <tr>\n",
       "      <th>2</th>\n",
       "      <td>s3</td>\n",
       "      <td>23:59</td>\n",
       "      <td>Horror Movies, International Movies</td>\n",
       "      <td>When an army recruit is found dead, his fellow...</td>\n",
       "    </tr>\n",
       "    <tr>\n",
       "      <th>3</th>\n",
       "      <td>s4</td>\n",
       "      <td>9</td>\n",
       "      <td>Action &amp; Adventure, Independent Movies, Sci-Fi...</td>\n",
       "      <td>In a postapocalyptic world, rag-doll robots hi...</td>\n",
       "    </tr>\n",
       "    <tr>\n",
       "      <th>4</th>\n",
       "      <td>s5</td>\n",
       "      <td>21</td>\n",
       "      <td>Dramas</td>\n",
       "      <td>A brilliant group of students become card-coun...</td>\n",
       "    </tr>\n",
       "  </tbody>\n",
       "</table>\n",
       "</div>"
      ],
      "text/plain": [
       "  show_id  title                                          listed_in  \\\n",
       "0      s1     3%  International TV Shows, TV Dramas, TV Sci-Fi &...   \n",
       "1      s2   7:19                       Dramas, International Movies   \n",
       "2      s3  23:59                Horror Movies, International Movies   \n",
       "3      s4      9  Action & Adventure, Independent Movies, Sci-Fi...   \n",
       "4      s5     21                                             Dramas   \n",
       "\n",
       "                                         description  \n",
       "0  In a future where the elite inhabit an island ...  \n",
       "1  After a devastating earthquake hits Mexico Cit...  \n",
       "2  When an army recruit is found dead, his fellow...  \n",
       "3  In a postapocalyptic world, rag-doll robots hi...  \n",
       "4  A brilliant group of students become card-coun...  "
      ]
     },
     "execution_count": 221,
     "metadata": {},
     "output_type": "execute_result"
    }
   ],
   "source": [
    "netflix_df = netflix[['show_id', 'title', 'listed_in', 'description']]\n",
    "netflix_df.columns\n",
    "netflix_df.head()"
   ]
  },
  {
   "cell_type": "markdown",
   "id": "24423a25",
   "metadata": {},
   "source": [
    "### 형태소 분석 - 1\n",
    "- title, listed_in, description 컬럼에 있는 텍스트 데이터의 모든 단어를 소문자로 변경\n",
    "    - title 컬럼에 대한 형태소 분석 결과는 새로운 컬럼인 'title_list'로 생성\n",
    "- nltk (Natural Language Tookit)의 word_tokenize 함수를 활용하여 단어를 공백문자를 기준으로 분할한다\n",
    "- <font color='red'><b>[주의]</b></font>: 위 코드에서 분석에 필요한 컬럼만 추출해서 만든 DataFrame 객체의 변수 이름을 **netflix_df**로 한다."
   ]
  },
  {
   "cell_type": "code",
   "execution_count": 222,
   "id": "ed4b9777",
   "metadata": {
    "scrolled": false
   },
   "outputs": [
    {
     "name": "stderr",
     "output_type": "stream",
     "text": [
      "[nltk_data] Downloading package stopwords to\n",
      "[nltk_data]     C:\\Users\\user\\AppData\\Roaming\\nltk_data...\n",
      "[nltk_data]   Package stopwords is already up-to-date!\n",
      "[nltk_data] Downloading package punkt to\n",
      "[nltk_data]     C:\\Users\\user\\AppData\\Roaming\\nltk_data...\n",
      "[nltk_data]   Package punkt is already up-to-date!\n"
     ]
    },
    {
     "data": {
      "text/plain": [
       "True"
      ]
     },
     "execution_count": 222,
     "metadata": {},
     "output_type": "execute_result"
    }
   ],
   "source": [
    "# 파이썬 경고 메세지 출력 안하기\n",
    "import warnings\n",
    "warnings.filterwarnings(action='ignore')\n",
    "\n",
    "import nltk\n",
    "# 구두점: 글의 여러 가지 경계를 구분하기 위해 사용되는 반점(,), 온점(.), 물음표(?), 쌍점( : ), 쌍반점(;), 줄표(--), 붙임표(-) 등의 부호\n",
    "# 불용어: 문장을 분석하는데 큰 의미가 없는 문자열\n",
    "nltk.download('stopwords') # 구두점 사전 다운로드\n",
    "nltk.download('punkt') # 불용어 사전 다운로드"
   ]
  },
  {
   "cell_type": "code",
   "execution_count": 223,
   "id": "9cf9f620",
   "metadata": {},
   "outputs": [],
   "source": [
    "# word_tokenize 함수: 문장을 공백 문자를 기준으로 분리한다\n",
    "from nltk.tokenize import word_tokenize\n",
    "\n",
    "# title, listed_in, description 컬럼 소문자 변경 및 분할 코드 작성"
   ]
  },
  {
   "attachments": {
    "image.png": {
     "image/png": "[encoded data removed]"
    }
   },
   "cell_type": "markdown",
   "id": "23d0ecb0",
   "metadata": {},
   "source": [
    "- 처리결과\n",
    "![image.png](attachment:image.png)"
   ]
  },
  {
   "cell_type": "code",
   "execution_count": 224,
   "id": "cccdb570",
   "metadata": {},
   "outputs": [],
   "source": [
    "# title, listed_in, description 컬럼에 있는 텍스트 데이터의 모든 단어를 소문자로 변경\n",
    "# title 컬럼에 대한 형태소 분석 결과는 새로운 컬럼인 'title_list'로 생성\n",
    "# nltk (Natural Language Tookit)의 word_tokenize 함수를 활용하여 단어를 공백문자를 기준으로 분할한다"
   ]
  },
  {
   "cell_type": "code",
   "execution_count": 225,
   "id": "31ec04d6",
   "metadata": {
    "scrolled": false
   },
   "outputs": [],
   "source": [
    "netflix_df['title'] = [title.lower() for title in netflix_df['title']]\n",
    "netflix_df['listed_in'] = [title.lower() for title in netflix_df['listed_in']]\n",
    "netflix_df['description'] = [title.lower() for title in netflix_df['description']]"
   ]
  },
  {
   "cell_type": "code",
   "execution_count": 226,
   "id": "de136b1b",
   "metadata": {
    "scrolled": true
   },
   "outputs": [
    {
     "data": {
      "text/html": [
       "<div>\n",
       "<style scoped>\n",
       "    .dataframe tbody tr th:only-of-type {\n",
       "        vertical-align: middle;\n",
       "    }\n",
       "\n",
       "    .dataframe tbody tr th {\n",
       "        vertical-align: top;\n",
       "    }\n",
       "\n",
       "    .dataframe thead th {\n",
       "        text-align: right;\n",
       "    }\n",
       "</style>\n",
       "<table border=\"1\" class=\"dataframe\">\n",
       "  <thead>\n",
       "    <tr style=\"text-align: right;\">\n",
       "      <th></th>\n",
       "      <th>show_id</th>\n",
       "      <th>title</th>\n",
       "      <th>listed_in</th>\n",
       "      <th>description</th>\n",
       "      <th>title_list</th>\n",
       "    </tr>\n",
       "  </thead>\n",
       "  <tbody>\n",
       "    <tr>\n",
       "      <th>0</th>\n",
       "      <td>s1</td>\n",
       "      <td>3%</td>\n",
       "      <td>[international, tv, shows, ,, tv, dramas, ,, t...</td>\n",
       "      <td>[in, a, future, where, the, elite, inhabit, an...</td>\n",
       "      <td>[3, %]</td>\n",
       "    </tr>\n",
       "    <tr>\n",
       "      <th>1</th>\n",
       "      <td>s2</td>\n",
       "      <td>7:19</td>\n",
       "      <td>[dramas, ,, international, movies]</td>\n",
       "      <td>[after, a, devastating, earthquake, hits, mexi...</td>\n",
       "      <td>[7:19]</td>\n",
       "    </tr>\n",
       "    <tr>\n",
       "      <th>2</th>\n",
       "      <td>s3</td>\n",
       "      <td>23:59</td>\n",
       "      <td>[horror, movies, ,, international, movies]</td>\n",
       "      <td>[when, an, army, recruit, is, found, dead, ,, ...</td>\n",
       "      <td>[23:59]</td>\n",
       "    </tr>\n",
       "    <tr>\n",
       "      <th>3</th>\n",
       "      <td>s4</td>\n",
       "      <td>9</td>\n",
       "      <td>[action, &amp;, adventure, ,, independent, movies,...</td>\n",
       "      <td>[in, a, postapocalyptic, world, ,, rag-doll, r...</td>\n",
       "      <td>[9]</td>\n",
       "    </tr>\n",
       "    <tr>\n",
       "      <th>4</th>\n",
       "      <td>s5</td>\n",
       "      <td>21</td>\n",
       "      <td>[dramas]</td>\n",
       "      <td>[a, brilliant, group, of, students, become, ca...</td>\n",
       "      <td>[21]</td>\n",
       "    </tr>\n",
       "  </tbody>\n",
       "</table>\n",
       "</div>"
      ],
      "text/plain": [
       "  show_id  title                                          listed_in  \\\n",
       "0      s1     3%  [international, tv, shows, ,, tv, dramas, ,, t...   \n",
       "1      s2   7:19                 [dramas, ,, international, movies]   \n",
       "2      s3  23:59         [horror, movies, ,, international, movies]   \n",
       "3      s4      9  [action, &, adventure, ,, independent, movies,...   \n",
       "4      s5     21                                           [dramas]   \n",
       "\n",
       "                                         description title_list  \n",
       "0  [in, a, future, where, the, elite, inhabit, an...     [3, %]  \n",
       "1  [after, a, devastating, earthquake, hits, mexi...     [7:19]  \n",
       "2  [when, an, army, recruit, is, found, dead, ,, ...    [23:59]  \n",
       "3  [in, a, postapocalyptic, world, ,, rag-doll, r...        [9]  \n",
       "4  [a, brilliant, group, of, students, become, ca...       [21]  "
      ]
     },
     "execution_count": 226,
     "metadata": {},
     "output_type": "execute_result"
    }
   ],
   "source": [
    "netflix_df['title_list'] = netflix_df.apply(lambda row: nltk.word_tokenize(row['title']), axis=1)\n",
    "netflix_df['listed_in'] = netflix_df.apply(lambda row: nltk.word_tokenize(row['listed_in']), axis=1)\n",
    "netflix_df['description'] = netflix_df.apply(lambda row: nltk.word_tokenize(row['description']), axis=1)\n",
    "netflix_df.head()"
   ]
  },
  {
   "cell_type": "markdown",
   "id": "dbb5b902",
   "metadata": {},
   "source": [
    "### 형태소 분석 - 2\n",
    "- 단어별로 토큰 된 title_list, listed_in, description 컬럼 데이터 중 nltk 라이브러리의 stopwords 패키지를 활용하여 불용어(관사, 조사, 전치사 등 단어로서 의미가 없는 단어)를 제거한다."
   ]
  },
  {
   "cell_type": "code",
   "execution_count": 227,
   "id": "d8d55f38",
   "metadata": {},
   "outputs": [],
   "source": [
    "from nltk.corpus import stopwords\n",
    "from string import punctuation\n",
    "\n",
    "# list_stopwords: 구두점 및 불용어 목록\n",
    "list_stopwords = set(stopwords.words('english') + list(punctuation))\n",
    "# list_stopwords\n",
    "# title, listed_in, description 컬럼 데이터에서 구두점 및 불용어 단어를 제거 코드 작성"
   ]
  },
  {
   "attachments": {
    "image.png": {
     "image/png": "[encoded data removed]"
    }
   },
   "cell_type": "markdown",
   "id": "6f22b1a3",
   "metadata": {},
   "source": [
    "- 처리결과\n",
    "![image.png](attachment:image.png)"
   ]
  },
  {
   "cell_type": "code",
   "execution_count": 228,
   "id": "2d46a29a",
   "metadata": {},
   "outputs": [
    {
     "data": {
      "text/html": [
       "<div>\n",
       "<style scoped>\n",
       "    .dataframe tbody tr th:only-of-type {\n",
       "        vertical-align: middle;\n",
       "    }\n",
       "\n",
       "    .dataframe tbody tr th {\n",
       "        vertical-align: top;\n",
       "    }\n",
       "\n",
       "    .dataframe thead th {\n",
       "        text-align: right;\n",
       "    }\n",
       "</style>\n",
       "<table border=\"1\" class=\"dataframe\">\n",
       "  <thead>\n",
       "    <tr style=\"text-align: right;\">\n",
       "      <th></th>\n",
       "      <th>show_id</th>\n",
       "      <th>title</th>\n",
       "      <th>listed_in</th>\n",
       "      <th>description</th>\n",
       "      <th>title_list</th>\n",
       "    </tr>\n",
       "  </thead>\n",
       "  <tbody>\n",
       "    <tr>\n",
       "      <th>0</th>\n",
       "      <td>s1</td>\n",
       "      <td>3%</td>\n",
       "      <td>[international, tv, shows, tv, dramas, tv, sci...</td>\n",
       "      <td>[future, elite, inhabit, island, paradise, far...</td>\n",
       "      <td>[3]</td>\n",
       "    </tr>\n",
       "    <tr>\n",
       "      <th>1</th>\n",
       "      <td>s2</td>\n",
       "      <td>7:19</td>\n",
       "      <td>[dramas, international, movies]</td>\n",
       "      <td>[devastating, earthquake, hits, mexico, city, ...</td>\n",
       "      <td>[7:19]</td>\n",
       "    </tr>\n",
       "    <tr>\n",
       "      <th>2</th>\n",
       "      <td>s3</td>\n",
       "      <td>23:59</td>\n",
       "      <td>[horror, movies, international, movies]</td>\n",
       "      <td>[army, recruit, found, dead, fellow, soldiers,...</td>\n",
       "      <td>[23:59]</td>\n",
       "    </tr>\n",
       "    <tr>\n",
       "      <th>3</th>\n",
       "      <td>s4</td>\n",
       "      <td>9</td>\n",
       "      <td>[action, adventure, independent, movies, sci-f...</td>\n",
       "      <td>[postapocalyptic, world, rag-doll, robots, hid...</td>\n",
       "      <td>[9]</td>\n",
       "    </tr>\n",
       "    <tr>\n",
       "      <th>4</th>\n",
       "      <td>s5</td>\n",
       "      <td>21</td>\n",
       "      <td>[dramas]</td>\n",
       "      <td>[brilliant, group, students, become, card-coun...</td>\n",
       "      <td>[21]</td>\n",
       "    </tr>\n",
       "  </tbody>\n",
       "</table>\n",
       "</div>"
      ],
      "text/plain": [
       "  show_id  title                                          listed_in  \\\n",
       "0      s1     3%  [international, tv, shows, tv, dramas, tv, sci...   \n",
       "1      s2   7:19                    [dramas, international, movies]   \n",
       "2      s3  23:59            [horror, movies, international, movies]   \n",
       "3      s4      9  [action, adventure, independent, movies, sci-f...   \n",
       "4      s5     21                                           [dramas]   \n",
       "\n",
       "                                         description title_list  \n",
       "0  [future, elite, inhabit, island, paradise, far...        [3]  \n",
       "1  [devastating, earthquake, hits, mexico, city, ...     [7:19]  \n",
       "2  [army, recruit, found, dead, fellow, soldiers,...    [23:59]  \n",
       "3  [postapocalyptic, world, rag-doll, robots, hid...        [9]  \n",
       "4  [brilliant, group, students, become, card-coun...       [21]  "
      ]
     },
     "execution_count": 228,
     "metadata": {},
     "output_type": "execute_result"
    }
   ],
   "source": [
    "netflix_df['title_list'] = [ [ w for w in l if w not in list(list_stopwords)] for l in netflix_df['title_list'] ]\n",
    "netflix_df['listed_in'] = [ [ w for w in l if w not in list(list_stopwords)] for l in netflix_df['listed_in'] ]\n",
    "netflix_df['description'] = [ [ w for w in l if w not in list(list_stopwords)] for l in netflix_df['description'] ]\n",
    "netflix_df.head()"
   ]
  },
  {
   "cell_type": "markdown",
   "id": "3dbd3e38",
   "metadata": {},
   "source": [
    "### <font color='red'> 형태소 분석 - 3 </font>\n",
    "- description 컬럼 데이터에 포함된 구두점을 제거한다.\n",
    "- 구두점: 글의 여러 가지 경계를 구분하기 위해 사용되는 반점(,), 온점(.), 물음표(?), 쌍점( : ), 쌍반점(;), 줄표(--), 붙임표(-) 등의 부호"
   ]
  },
  {
   "cell_type": "code",
   "execution_count": 229,
   "id": "9e59025f",
   "metadata": {
    "scrolled": true
   },
   "outputs": [
    {
     "data": {
      "text/plain": [
       "'!\"#$%&\\'()*+,-./:;<=>?@[\\\\]^_`{|}~'"
      ]
     },
     "execution_count": 229,
     "metadata": {},
     "output_type": "execute_result"
    }
   ],
   "source": [
    "import string\n",
    "\n",
    "# 구두점 목록\n",
    "string.punctuation"
   ]
  },
  {
   "cell_type": "code",
   "execution_count": 230,
   "id": "3fc6cd84",
   "metadata": {
    "scrolled": true
   },
   "outputs": [
    {
     "data": {
      "text/plain": [
       "0       [future, elite, inhabit, island, paradise, far...\n",
       "1       [devastating, earthquake, hits, mexico, city, ...\n",
       "2       [army, recruit, found, dead, fellow, soldiers,...\n",
       "3       [postapocalyptic, world, ragdoll, robots, hide...\n",
       "4       [brilliant, group, students, become, cardcount...\n",
       "                              ...                        \n",
       "7781    [dragged, civilian, life, former, superhero, m...\n",
       "7782    [lebanon, s, civil, war, deprives, zozo, famil...\n",
       "7783    [scrappy, poor, boy, worms, way, tycoon, s, dy...\n",
       "7785    [dessert, wizard, adriano, zumbo, looks, next,...\n",
       "7786    [documentary, delves, mystique, behind, bluesr...\n",
       "Name: description, Length: 7280, dtype: object"
      ]
     },
     "execution_count": 230,
     "metadata": {},
     "output_type": "execute_result"
    }
   ],
   "source": [
    "import string\n",
    "\n",
    "netflix_df['description'] = netflix_df['description'].apply(lambda x : [word.translate(str.maketrans('', '', string.punctuation)) for word in x])\n",
    "netflix_df['description'] "
   ]
  },
  {
   "cell_type": "markdown",
   "id": "b0198b0e",
   "metadata": {},
   "source": [
    "### 형태소 분석 - 4\n",
    "- title_list, listed_in, description 컬럼 데이터에 포함된 중복 단어를 제거한다. **(set() 함수 이용)**"
   ]
  },
  {
   "cell_type": "code",
   "execution_count": 231,
   "id": "2dc782e5",
   "metadata": {
    "scrolled": true
   },
   "outputs": [
    {
     "data": {
      "text/html": [
       "<div>\n",
       "<style scoped>\n",
       "    .dataframe tbody tr th:only-of-type {\n",
       "        vertical-align: middle;\n",
       "    }\n",
       "\n",
       "    .dataframe tbody tr th {\n",
       "        vertical-align: top;\n",
       "    }\n",
       "\n",
       "    .dataframe thead th {\n",
       "        text-align: right;\n",
       "    }\n",
       "</style>\n",
       "<table border=\"1\" class=\"dataframe\">\n",
       "  <thead>\n",
       "    <tr style=\"text-align: right;\">\n",
       "      <th></th>\n",
       "      <th>show_id</th>\n",
       "      <th>title</th>\n",
       "      <th>listed_in</th>\n",
       "      <th>description</th>\n",
       "      <th>title_list</th>\n",
       "    </tr>\n",
       "  </thead>\n",
       "  <tbody>\n",
       "    <tr>\n",
       "      <th>0</th>\n",
       "      <td>s1</td>\n",
       "      <td>3%</td>\n",
       "      <td>{tv, international, dramas, fantasy, sci-fi, s...</td>\n",
       "      <td>{chance, join, saved, elite, paradise, squalor...</td>\n",
       "      <td>{3}</td>\n",
       "    </tr>\n",
       "    <tr>\n",
       "      <th>1</th>\n",
       "      <td>s2</td>\n",
       "      <td>7:19</td>\n",
       "      <td>{dramas, movies, international}</td>\n",
       "      <td>{life, hits, desperately, alive, trying, earth...</td>\n",
       "      <td>{7:19}</td>\n",
       "    </tr>\n",
       "    <tr>\n",
       "      <th>2</th>\n",
       "      <td>s3</td>\n",
       "      <td>23:59</td>\n",
       "      <td>{movies, horror, international}</td>\n",
       "      <td>{soldiers, camp, fellow, found, forced, dead, ...</td>\n",
       "      <td>{23:59}</td>\n",
       "    </tr>\n",
       "    <tr>\n",
       "      <th>3</th>\n",
       "      <td>s4</td>\n",
       "      <td>9</td>\n",
       "      <td>{action, movies, fantasy, sci-fi, independent,...</td>\n",
       "      <td>{newcomer, ragdoll, machines, exterminate, gro...</td>\n",
       "      <td>{9}</td>\n",
       "    </tr>\n",
       "    <tr>\n",
       "      <th>4</th>\n",
       "      <td>s5</td>\n",
       "      <td>21</td>\n",
       "      <td>{dramas}</td>\n",
       "      <td>{brilliant, millions, playing, intent, group, ...</td>\n",
       "      <td>{21}</td>\n",
       "    </tr>\n",
       "  </tbody>\n",
       "</table>\n",
       "</div>"
      ],
      "text/plain": [
       "  show_id  title                                          listed_in  \\\n",
       "0      s1     3%  {tv, international, dramas, fantasy, sci-fi, s...   \n",
       "1      s2   7:19                    {dramas, movies, international}   \n",
       "2      s3  23:59                    {movies, horror, international}   \n",
       "3      s4      9  {action, movies, fantasy, sci-fi, independent,...   \n",
       "4      s5     21                                           {dramas}   \n",
       "\n",
       "                                         description title_list  \n",
       "0  {chance, join, saved, elite, paradise, squalor...        {3}  \n",
       "1  {life, hits, desperately, alive, trying, earth...     {7:19}  \n",
       "2  {soldiers, camp, fellow, found, forced, dead, ...    {23:59}  \n",
       "3  {newcomer, ragdoll, machines, exterminate, gro...        {9}  \n",
       "4  {brilliant, millions, playing, intent, group, ...       {21}  "
      ]
     },
     "execution_count": 231,
     "metadata": {},
     "output_type": "execute_result"
    }
   ],
   "source": [
    "netflix_df['title_list'] = [ set(l) for l in netflix_df['title_list'] ]\n",
    "netflix_df['title_list']\n",
    "netflix_df['listed_in'] = [ set(l) for l in netflix_df['listed_in'] ]\n",
    "netflix_df['listed_in']\n",
    "netflix_df['description'] = [ set(l) for l in netflix_df['description'] ]\n",
    "netflix_df['description']\n",
    "netflix_df.head()"
   ]
  },
  {
   "cell_type": "markdown",
   "id": "56195460",
   "metadata": {},
   "source": [
    "# 콘텐츠 유사도 측정"
   ]
  },
  {
   "cell_type": "markdown",
   "id": "60df53ad",
   "metadata": {},
   "source": [
    "## 피처 벡터화\n",
    "- title_list, listed_in, description 컬럼의 각 단어를 공백문자로 구분되는 문자열로 변환하여 카운트 기반으로 피처 벡터화 한다.**(CountVectorizer 이용)**\n",
    "- title_list, listed_in, description 각 컬럼의 피처 벡터화한 결과를 **matrix_netflix_vocab = []** 리스트에 저장한다."
   ]
  },
  {
   "cell_type": "code",
   "execution_count": 232,
   "id": "f5f9c6c5",
   "metadata": {},
   "outputs": [],
   "source": [
    "netflix_df['title_list'] = netflix_df['title_list'].apply(lambda x : (' ').join(x))\n",
    "netflix_df['listed_in'] = netflix_df['listed_in'].apply(lambda x : (' ').join(x))\n",
    "netflix_df['description'] = netflix_df['description'].apply(lambda x : (' ').join(x))"
   ]
  },
  {
   "cell_type": "code",
   "execution_count": 233,
   "id": "4f274e11",
   "metadata": {
    "scrolled": false
   },
   "outputs": [
    {
     "data": {
      "text/plain": [
       "0         tv international dramas fantasy sci-fi shows\n",
       "1                          dramas movies international\n",
       "2                          movies horror international\n",
       "3    action movies fantasy sci-fi independent adven...\n",
       "4                                               dramas\n",
       "Name: listed_in, dtype: object"
      ]
     },
     "execution_count": 233,
     "metadata": {},
     "output_type": "execute_result"
    }
   ],
   "source": [
    "netflix_df['listed_in'].head()"
   ]
  },
  {
   "cell_type": "code",
   "execution_count": 234,
   "id": "1bd0093f",
   "metadata": {},
   "outputs": [],
   "source": [
    "matrix_netflix_vocab = []"
   ]
  },
  {
   "cell_type": "code",
   "execution_count": 235,
   "id": "b6677c05",
   "metadata": {
    "scrolled": true
   },
   "outputs": [
    {
     "name": "stdout",
     "output_type": "stream",
     "text": [
      "(7280, 7735)\n"
     ]
    }
   ],
   "source": [
    "from sklearn.feature_extraction.text import CountVectorizer\n",
    "count_vect = CountVectorizer(min_df=0, ngram_range=(1,1))\n",
    "\n",
    "country_mat1 = count_vect.fit_transform(netflix_df['title_list'])\n",
    "count_vect.vocabulary_\n",
    "print(country_mat1.shape) # (7280, 7735)\n",
    "matrix_netflix_vocab.append(country_mat1)"
   ]
  },
  {
   "cell_type": "code",
   "execution_count": 236,
   "id": "b9174a7d",
   "metadata": {},
   "outputs": [
    {
     "name": "stdout",
     "output_type": "stream",
     "text": [
      "(7280, 45)\n"
     ]
    }
   ],
   "source": [
    "from sklearn.feature_extraction.text import CountVectorizer\n",
    "count_vect = CountVectorizer(min_df=0, ngram_range=(1,1))\n",
    "\n",
    "country_mat2 = count_vect.fit_transform(netflix_df['listed_in'])\n",
    "count_vect.vocabulary_\n",
    "print(country_mat2.shape) # (7280, 45)\n",
    "matrix_netflix_vocab.append(country_mat2)"
   ]
  },
  {
   "cell_type": "code",
   "execution_count": 237,
   "id": "9bf6502c",
   "metadata": {
    "scrolled": false
   },
   "outputs": [
    {
     "name": "stdout",
     "output_type": "stream",
     "text": [
      "(7280, 18545)\n"
     ]
    }
   ],
   "source": [
    "from sklearn.feature_extraction.text import CountVectorizer\n",
    "count_vect = CountVectorizer(min_df=0, ngram_range=(1,1))\n",
    "\n",
    "country_mat3 = count_vect.fit_transform(netflix_df['description'])\n",
    "count_vect.vocabulary_\n",
    "print(country_mat3.shape) # (7280, 18545)\n",
    "matrix_netflix_vocab.append(country_mat3)"
   ]
  },
  {
   "cell_type": "code",
   "execution_count": 238,
   "id": "3bde3f16",
   "metadata": {},
   "outputs": [
    {
     "data": {
      "text/plain": [
       "3"
      ]
     },
     "execution_count": 238,
     "metadata": {},
     "output_type": "execute_result"
    }
   ],
   "source": [
    "len(matrix_netflix_vocab)"
   ]
  },
  {
   "cell_type": "markdown",
   "id": "af501997",
   "metadata": {},
   "source": [
    "## 코사인 유사도\n",
    "- title_list, listed_in, description 각 컬럼에 대해 피처 백터화 한 값을 이용하여 각각의 코사인 유사도를 산출하여 **matrix_netflix_sim = []** 리스트에 저장한다."
   ]
  },
  {
   "cell_type": "code",
   "execution_count": 239,
   "id": "cc219de8",
   "metadata": {},
   "outputs": [
    {
     "data": {
      "text/plain": [
       "3"
      ]
     },
     "execution_count": 239,
     "metadata": {},
     "output_type": "execute_result"
    }
   ],
   "source": [
    "from sklearn.metrics.pairwise import cosine_similarity\n",
    "matrix_netflix_sim = []\n",
    "\n",
    "for i in range(len(matrix_netflix_vocab)):\n",
    "    matrix_netflix_sim.append(cosine_similarity(matrix_netflix_vocab[i], matrix_netflix_vocab[i]))\n",
    "    \n",
    "len(matrix_netflix_sim)"
   ]
  },
  {
   "cell_type": "markdown",
   "id": "621230d4",
   "metadata": {},
   "source": [
    "- title_list, listed_in, description에 대해 각각 유사도가 높은 순으로 정렬한 콘텐츠의 인덱스를 **netflix_sim_sorted_ind = []** 리스트에 저장한다."
   ]
  },
  {
   "cell_type": "code",
   "execution_count": 240,
   "id": "90b106ab",
   "metadata": {},
   "outputs": [
    {
     "data": {
      "text/plain": [
       "3"
      ]
     },
     "execution_count": 240,
     "metadata": {},
     "output_type": "execute_result"
    }
   ],
   "source": [
    "netflix_sim_sorted_ind = []\n",
    "\n",
    "for i in range(len(matrix_netflix_sim)):\n",
    "    netflix_sim_sorted_ind.append(matrix_netflix_sim[i].argsort()[:,::-1])\n",
    "    \n",
    "len(netflix_sim_sorted_ind)    "
   ]
  },
  {
   "cell_type": "markdown",
   "id": "9c62bdd6",
   "metadata": {},
   "source": [
    "# 유사도 필터링을 이용한 넷플릭스 콘텐츠 추천"
   ]
  },
  {
   "cell_type": "markdown",
   "id": "d693e76d",
   "metadata": {},
   "source": [
    "- 추천 기준이 되는 콘텐츠의 제목으로 해당 콘텐츠 레코드를 추출한다.\n",
    "- 추출된 콘텐츠의 인덱스 (netflix_df 데이터 프레임에서의 레코드 위치)를 추출한다.\n",
    "- 해당 인덱스로 sorted_ind_list 인자로 입력된 netflix_sim_sorted_ind 객체에서 각 컬럼별 유사도 순으로 top_n 개의 index를 추출한 후 리스트에 저장한다.\n",
    "- find_sim_netflix 함수 매개변수\n",
    "    - df: 넷플릭스 콘텐츠 정보 DataFrame\n",
    "    - sorted_ind_list: title_list, listed_in, description에 대해 각각 유사도가 높은 순으로 정렬한 콘텐츠의 인덱스 행렬을 저장한 리스트\n",
    "    - title_name: 추천 기준이 되는 콘텐츠 제목 (해당 콘텐츠와 장르 유사도가 높은 콘텐츠를 추천)\n",
    "    - top_n: 추천 콘텐츠 건수"
   ]
  },
  {
   "cell_type": "code",
   "execution_count": 241,
   "id": "29518b1c",
   "metadata": {},
   "outputs": [],
   "source": [
    "# 완성된 함수가 아니며, 위 마크다운 셀의 내용을 참고하여 함수 안의 코드를 완성한다.\n",
    "\n",
    "def find_sim_netflix(df, sorted_ind_list, title_name, top_n=10):\n",
    "    # 각 컬럼별 유사도 순으로 top_n 개의 index를 추출한 행렬을 저장할 리스트\n",
    "    similar_indexes_list = []\n",
    "        \n",
    "    for idx in range(len(sorted_ind_list)):\n",
    "        target_movie = df[df['title']==title_name.lower()]\n",
    "        title_index = target_movie.index.values # index의 value 가져오기\n",
    "        similar_indexes = sorted_ind_list[idx][title_index, :(top_n)]\n",
    "#         similar_indexes = similar_indexes.reshape(-1)\n",
    "#         print(similar_indexes)\n",
    "    # 각 컬럼별 유사도 순으로 top_n 개의 index를 추출한 행렬을 저장할 리스트\n",
    "        similar_indexes_list.append(similar_indexes)\n",
    "#     print(similar_indexes_list)\n",
    "    \n",
    "    # 데이터 프레임의 인덱스 값으로 사용하기 위해 1차원 데이터로 변환한다.\n",
    "    return df.iloc[np.array(similar_indexes_list).flatten()]"
   ]
  },
  {
   "cell_type": "code",
   "execution_count": 242,
   "id": "70217d19",
   "metadata": {},
   "outputs": [],
   "source": [
    "# '응답하라 1988' 과 제목, 장르, 줄거리가 유사한 콘텐츠를 각각 10개씩 추천\n",
    "similar_netflix = find_sim_netflix(netflix_df, netflix_sim_sorted_ind, 'Reply 1988',10)"
   ]
  },
  {
   "cell_type": "code",
   "execution_count": 243,
   "id": "d4cf5a3e",
   "metadata": {},
   "outputs": [
    {
     "data": {
      "text/html": [
       "<div>\n",
       "<style scoped>\n",
       "    .dataframe tbody tr th:only-of-type {\n",
       "        vertical-align: middle;\n",
       "    }\n",
       "\n",
       "    .dataframe tbody tr th {\n",
       "        vertical-align: top;\n",
       "    }\n",
       "\n",
       "    .dataframe thead th {\n",
       "        text-align: right;\n",
       "    }\n",
       "</style>\n",
       "<table border=\"1\" class=\"dataframe\">\n",
       "  <thead>\n",
       "    <tr style=\"text-align: right;\">\n",
       "      <th></th>\n",
       "      <th>title</th>\n",
       "    </tr>\n",
       "  </thead>\n",
       "  <tbody>\n",
       "    <tr>\n",
       "      <th>5539</th>\n",
       "      <td>shanghai</td>\n",
       "    </tr>\n",
       "    <tr>\n",
       "      <th>5540</th>\n",
       "      <td>shanghai fortress</td>\n",
       "    </tr>\n",
       "    <tr>\n",
       "      <th>7786</th>\n",
       "      <td>zz top: that little ol' band from texas</td>\n",
       "    </tr>\n",
       "    <tr>\n",
       "      <th>2606</th>\n",
       "      <td>happy 300 days</td>\n",
       "    </tr>\n",
       "    <tr>\n",
       "      <th>2594</th>\n",
       "      <td>handsome: a netflix mystery movie</td>\n",
       "    </tr>\n",
       "    <tr>\n",
       "      <th>2596</th>\n",
       "      <td>hangman</td>\n",
       "    </tr>\n",
       "    <tr>\n",
       "      <th>2597</th>\n",
       "      <td>hank: five years from the brink</td>\n",
       "    </tr>\n",
       "    <tr>\n",
       "      <th>2598</th>\n",
       "      <td>hannah gadsby: douglas</td>\n",
       "    </tr>\n",
       "    <tr>\n",
       "      <th>2599</th>\n",
       "      <td>hannah gadsby: nanette</td>\n",
       "    </tr>\n",
       "    <tr>\n",
       "      <th>2600</th>\n",
       "      <td>hannibal</td>\n",
       "    </tr>\n",
       "    <tr>\n",
       "      <th>2673</th>\n",
       "      <td>headwinds</td>\n",
       "    </tr>\n",
       "    <tr>\n",
       "      <th>2986</th>\n",
       "      <td>india</td>\n",
       "    </tr>\n",
       "    <tr>\n",
       "      <th>2915</th>\n",
       "      <td>i lost my body</td>\n",
       "    </tr>\n",
       "    <tr>\n",
       "      <th>5051</th>\n",
       "      <td>rabun</td>\n",
       "    </tr>\n",
       "    <tr>\n",
       "      <th>2925</th>\n",
       "      <td>i'm no longer here</td>\n",
       "    </tr>\n",
       "    <tr>\n",
       "      <th>5039</th>\n",
       "      <td>quién te cantará</td>\n",
       "    </tr>\n",
       "    <tr>\n",
       "      <th>7296</th>\n",
       "      <td>udaan</td>\n",
       "    </tr>\n",
       "    <tr>\n",
       "      <th>2943</th>\n",
       "      <td>iii smoking barrels</td>\n",
       "    </tr>\n",
       "    <tr>\n",
       "      <th>2951</th>\n",
       "      <td>imago</td>\n",
       "    </tr>\n",
       "    <tr>\n",
       "      <th>7310</th>\n",
       "      <td>umrika</td>\n",
       "    </tr>\n",
       "    <tr>\n",
       "      <th>5539</th>\n",
       "      <td>shanghai</td>\n",
       "    </tr>\n",
       "    <tr>\n",
       "      <th>4372</th>\n",
       "      <td>mystic pizza</td>\n",
       "    </tr>\n",
       "    <tr>\n",
       "      <th>6291</th>\n",
       "      <td>the devil all the time</td>\n",
       "    </tr>\n",
       "    <tr>\n",
       "      <th>6082</th>\n",
       "      <td>the andy griffith show</td>\n",
       "    </tr>\n",
       "    <tr>\n",
       "      <th>2349</th>\n",
       "      <td>gangaajal</td>\n",
       "    </tr>\n",
       "    <tr>\n",
       "      <th>1148</th>\n",
       "      <td>burnistoun</td>\n",
       "    </tr>\n",
       "    <tr>\n",
       "      <th>7119</th>\n",
       "      <td>to wong foo, thanks for everything! julie newmar</td>\n",
       "    </tr>\n",
       "    <tr>\n",
       "      <th>1215</th>\n",
       "      <td>care of kancharapalem</td>\n",
       "    </tr>\n",
       "    <tr>\n",
       "      <th>798</th>\n",
       "      <td>because we're heading out</td>\n",
       "    </tr>\n",
       "    <tr>\n",
       "      <th>7017</th>\n",
       "      <td>the world we make</td>\n",
       "    </tr>\n",
       "  </tbody>\n",
       "</table>\n",
       "</div>"
      ],
      "text/plain": [
       "                                                 title\n",
       "5539                                          shanghai\n",
       "5540                                 shanghai fortress\n",
       "7786           zz top: that little ol' band from texas\n",
       "2606                                    happy 300 days\n",
       "2594                 handsome: a netflix mystery movie\n",
       "2596                                           hangman\n",
       "2597                   hank: five years from the brink\n",
       "2598                            hannah gadsby: douglas\n",
       "2599                            hannah gadsby: nanette\n",
       "2600                                          hannibal\n",
       "2673                                         headwinds\n",
       "2986                                             india\n",
       "2915                                    i lost my body\n",
       "5051                                             rabun\n",
       "2925                                i'm no longer here\n",
       "5039                                  quién te cantará\n",
       "7296                                             udaan\n",
       "2943                               iii smoking barrels\n",
       "2951                                             imago\n",
       "7310                                            umrika\n",
       "5539                                          shanghai\n",
       "4372                                      mystic pizza\n",
       "6291                            the devil all the time\n",
       "6082                            the andy griffith show\n",
       "2349                                         gangaajal\n",
       "1148                                        burnistoun\n",
       "7119  to wong foo, thanks for everything! julie newmar\n",
       "1215                             care of kancharapalem\n",
       "798                          because we're heading out\n",
       "7017                                 the world we make"
      ]
     },
     "execution_count": 243,
     "metadata": {},
     "output_type": "execute_result"
    }
   ],
   "source": [
    "# 출력결과는 총 30개로 '응답하라 1988'과 제목, 장르, 줄거리가 유사한 콘텐츠 각각 10개씩을 포함하고 있다. \n",
    "similar_netflix[['title']]"
   ]
  },
  {
   "cell_type": "code",
   "execution_count": null,
   "id": "ae9920aa",
   "metadata": {},
   "outputs": [],
   "source": []
  }
 ],
 "metadata": {
  "kernelspec": {
   "display_name": "Python 3 (ipykernel)",
   "language": "python",
   "name": "python3"
  },
  "language_info": {
   "codemirror_mode": {
    "name": "ipython",
    "version": 3
   },
   "file_extension": ".py",
   "mimetype": "text/x-python",
   "name": "python",
   "nbconvert_exporter": "python",
   "pygments_lexer": "ipython3",
   "version": "3.9.13"
  },
  "toc": {
   "base_numbering": 1,
   "nav_menu": {},
   "number_sections": true,
   "sideBar": true,
   "skip_h1_title": false,
   "title_cell": "Table of Contents",
   "title_sidebar": "Contents",
   "toc_cell": false,
   "toc_position": {
    "height": "499.619px",
    "left": "29px",
    "top": "134.524px",
    "width": "384px"
   },
   "toc_section_display": true,
   "toc_window_display": true
  }
 },
 "nbformat": 4,
 "nbformat_minor": 5
}
