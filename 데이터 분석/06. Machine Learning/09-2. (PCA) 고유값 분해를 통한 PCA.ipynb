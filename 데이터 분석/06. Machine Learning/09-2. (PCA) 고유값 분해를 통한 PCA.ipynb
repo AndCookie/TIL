{
 "cells": [
  {
   "cell_type": "markdown",
   "id": "e2469ae5",
   "metadata": {},
   "source": [
    "# 공분산 행렬 구하기"
   ]
  },
  {
   "cell_type": "code",
   "execution_count": 2,
   "id": "c72c940c",
   "metadata": {},
   "outputs": [],
   "source": [
    "import numpy as np\n",
    "\n",
    "np.set_printoptions(precision=2, suppress=True)"
   ]
  },
  {
   "cell_type": "code",
   "execution_count": 3,
   "id": "bc38868d",
   "metadata": {
    "scrolled": true
   },
   "outputs": [
    {
     "name": "stdout",
     "output_type": "stream",
     "text": [
      "[[177.7  68.1  91.8]\n",
      " [168.   60.2  89.3]\n",
      " [165.3  49.1  84.9]\n",
      " [159.1  42.   86.3]\n",
      " [176.4  73.3  93.8]\n",
      " [176.   57.2  92.5]\n",
      " [170.   59.8  89.8]\n",
      " [164.6  51.6  88.5]\n",
      " [174.4  70.2  91.7]\n",
      " [174.8  58.8  91.6]]\n",
      "------------------------------\n",
      "키 컬럼 분산:  38.74900000000002\n",
      "[[  7.07   9.07   1.78]\n",
      " [ -2.63   1.17  -0.72]\n",
      " [ -5.33  -9.93  -5.12]\n",
      " [-11.53 -17.03  -3.72]\n",
      " [  5.77  14.27   3.78]\n",
      " [  5.37  -1.83   2.48]\n",
      " [ -0.63   0.77  -0.22]\n",
      " [ -6.03  -7.43  -1.52]\n",
      " [  3.77  11.17   1.68]\n",
      " [  4.17  -0.23   1.58]]\n",
      "------------------------------\n",
      "공분산 행렬\n",
      "[[38.75 52.03 15.78]\n",
      " [52.03 95.54 23.16]\n",
      " [15.78 23.16  7.98]]\n"
     ]
    }
   ],
   "source": [
    "x = [[177.7, 68.1, 91.8], [168, 60.2, 89.3], [165.3, 49.1, 84.9], [159.1, 42, 86.3], [176.4, 73.3, 93.8],\n",
    "     [176, 57.2, 92.5], [170, 59.8, 89.8], [164.6, 51.6, 88.5], [174.4, 70.2, 91.7], [174.8, 58.8, 91.6]]\n",
    "\n",
    "X = np.array(x)\n",
    "print(X)\n",
    "print('-'*30)\n",
    "# 키 / 몸무게 / 가슴둘레\n",
    "print('키 컬럼 분산: ', np.var(X[:,0], ddof=1)) # 표분분산\n",
    "\n",
    "# 데이터 분포의 중심을 중심축으로 이동시키기 위해 행렬의 각 열들의 평균값을 0으로 맞춰준다. (모든 관측값에서 평균값을 빼기)\n",
    "X = X - np.mean(X, axis=0)\n",
    "print(X)\n",
    "print('-'*30)\n",
    "\n",
    "print('공분산 행렬')\n",
    "cov = X.T@X / (len(X)-1)\n",
    "# cov = (X.T.dot(X)) / (len(X)-1)\n",
    "print(cov)\n",
    "# 변수가 3개이므로 변수 간 공분산 값으로 이루어진 3x3 행렬\n",
    "# 대각선 : 자기 자신의 분산"
   ]
  },
  {
   "cell_type": "markdown",
   "id": "7fb60bdd",
   "metadata": {},
   "source": [
    "# np.cov 함수와 결과 비교"
   ]
  },
  {
   "cell_type": "code",
   "execution_count": 4,
   "id": "7f4f881f",
   "metadata": {},
   "outputs": [
    {
     "name": "stdout",
     "output_type": "stream",
     "text": [
      "['Covariance Matrix']\n",
      "[[38.75 52.03 15.78]\n",
      " [52.03 95.54 23.16]\n",
      " [15.78 23.16  7.98]]\n"
     ]
    }
   ],
   "source": [
    "# np.cov() : numpy에서 제공하는 공분산 함수\n",
    "print(['Covariance Matrix'])\n",
    "cm = np.cov(X, rowvar=False)\n",
    "# X : 위의 행렬 데이터\n",
    "# rowvar : 행이 변수입니까? (DEFUALT : True)\n",
    "# True : 행은 변수 / 열은 각 변수의 관측값 # False : 행은 관측값 / 열은 변수\n",
    "# 현재 행렬 A는 열이 변수이고 각 행이 관측치이므로 rowvar=False\n",
    "print(cm)"
   ]
  },
  {
   "cell_type": "markdown",
   "id": "7189ec95",
   "metadata": {},
   "source": [
    "# 고유값, 고유벡터 행렬 구하기"
   ]
  },
  {
   "cell_type": "code",
   "execution_count": 6,
   "id": "5d83689c",
   "metadata": {},
   "outputs": [
    {
     "name": "stdout",
     "output_type": "stream",
     "text": [
      "고유값 (λ) :  [132.7    8.31   1.27]\n",
      "------------------------------\n",
      "고유벡터 행렬 (V)\n",
      "[[-0.5  -0.8  -0.32]\n",
      " [-0.84  0.54 -0.05]\n",
      " [-0.22 -0.24  0.94]]\n",
      "------------------------------\n",
      "고유값 대각행렬 (∧)\n",
      "[[132.7    0.     0.  ]\n",
      " [  0.     8.31   0.  ]\n",
      " [  0.     0.     1.27]]\n",
      "------------------------------\n",
      "첫 번째 고유벡터와 두 번째 고유벡터와의 내적\n",
      "0.0\n"
     ]
    }
   ],
   "source": [
    "# linalg.eig() : 선형대수학이라는 패키지에 있는 eig 함수 : 괄호에 공분산을 넣어주면 고유값과 고유벡터를 튜플의 형식으로 반환해준다\n",
    "eigenvalue, eigenvector = np.linalg.eig(cov)\n",
    "\n",
    "print('고유값 (λ) : ', eigenvalue)\n",
    "print('-'*30)\n",
    "\n",
    "print('고유벡터 행렬 (V)')\n",
    "print(eigenvector)\n",
    "print('-'*30)\n",
    "# 각 열벡터 : 각 고유값에 해당하는 고유벡터\n",
    "# ex) 고유값 132.7로 만들어진 고유벡터 [-0.5 -0.84 -0.22]\n",
    "\n",
    "print('고유값 대각행렬 (∧)')\n",
    "eig_matrix = np.identity(3)*eigenvalue\n",
    "print(eig_matrix)\n",
    "print('-'*30)\n",
    "# 고유값이 큰 순서대로 자동 정렬됨\n",
    "\n",
    "print('첫 번째 고유벡터와 두 번째 고유벡터와의 내적')\n",
    "c = eigenvector[:,0].T.dot(eigenvector[:,1])\n",
    "print(np.round(c)) # 소수점 이하 세 자리에서 반올림\n",
    "# 두 벡터가 서로 직교하면 내적값이 0이 된다.\n",
    "# PC2는 PC1과 직교하는 벡터가 된다.\n",
    "\n",
    "# ++ 설명)\n",
    "# 분산이 가장 큰 벡터 : 첫 번째 주성분 : PC1\n",
    "# 위와 직교하는 벡터 : 두 번째 주성분 : PC2\n",
    "# 직교하는 두 성분을 내적하면 0이 나온다."
   ]
  },
  {
   "cell_type": "code",
   "execution_count": 26,
   "id": "ccbe7c58",
   "metadata": {},
   "outputs": [
    {
     "name": "stdout",
     "output_type": "stream",
     "text": [
      "고유값 분해를 통한 공분산 행렬 계산\n",
      "[[38.75 52.03 15.78]\n",
      " [52.03 95.54 23.16]\n",
      " [15.78 23.16  7.98]]\n",
      "------------------------------\n",
      "[[38.75 52.03 15.78]\n",
      " [52.03 95.54 23.16]\n",
      " [15.78 23.16  7.98]]\n"
     ]
    }
   ],
   "source": [
    "print('고유값 분해를 통한 공분산 행렬 계산')\n",
    "A = eigenvector@eig_matrix@np.linalg.inv(eigenvector)\n",
    "# A = V * λ * V의 역행렬\n",
    "# inverter : 역행렬 함수\n",
    "print(A)\n",
    "print('-'*30)\n",
    "print(cov)\n",
    "\n",
    "# 두 결과값이 동일한 것을 확인할 수 있다"
   ]
  },
  {
   "cell_type": "markdown",
   "id": "fc3caad1",
   "metadata": {},
   "source": [
    "# 첫 번째 주성분(PC1) 구하기"
   ]
  },
  {
   "cell_type": "code",
   "execution_count": 30,
   "id": "dde6eedc",
   "metadata": {
    "scrolled": false
   },
   "outputs": [
    {
     "name": "stdout",
     "output_type": "stream",
     "text": [
      "[-11.53   0.49  12.11  20.85 -15.67  -1.7   -0.28   9.57 -11.61  -2.24]\n"
     ]
    }
   ],
   "source": [
    "pc1 = eigenvector[:,0].T@X.T\n",
    "# X.T : X는 열이 독립변수, 행이 관측치이므로 전치시켜주는 것\n",
    "print(pc1)\n",
    "\n",
    "# 10명의 신체 데이터의 고유값이 가장 큰 것의 고유벡터"
   ]
  },
  {
   "cell_type": "markdown",
   "id": "5cd4c7d5",
   "metadata": {},
   "source": [
    "# 공분산을 이용한 주성분 분석"
   ]
  },
  {
   "cell_type": "code",
   "execution_count": 33,
   "id": "d90dfa45",
   "metadata": {},
   "outputs": [
    {
     "name": "stdout",
     "output_type": "stream",
     "text": [
      "PCA를 이용한 차원 축소\n",
      "고유벡터 VT - 주성분 두 개 선택\n",
      "[[-0.5  -0.84 -0.22]\n",
      " [-0.8   0.54 -0.24]]\n",
      "고유벡터 VT와 원데이터 XT의 내적\n",
      "[[-11.53  -1.18]\n",
      " [  0.49   2.92]\n",
      " [ 12.11   0.13]\n",
      " [ 20.85   0.91]\n",
      " [-15.67   2.2 ]\n",
      " [ -1.7   -5.91]\n",
      " [ -0.28   0.98]\n",
      " [  9.57   1.17]\n",
      " [-11.61   2.64]\n",
      " [ -2.24  -3.86]]\n"
     ]
    }
   ],
   "source": [
    "print('PCA를 이용한 차원 축소')\n",
    "# 3차원 -> 2차원 (독립변수가 3개였으니까 3차원)\n",
    "# 1개의 차원을 축소했을 때, 변량을 어느 정도 보존하는지 확인하기\n",
    "\n",
    "VT = np.array([eigenvector[:,0],eigenvector[:,1]])\n",
    "# 첫 번째 주성분과 두 번째 주성분 = 고유값이 가장 큰 두 개\n",
    "# VT : V를 Transpose 한 것 : 열 백터 -> 행 벡터\n",
    "print('고유벡터 VT - 주성분 두 개 선택')\n",
    "print(VT)\n",
    "\n",
    "print('고유벡터 VT와 원데이터 XT의 내적')\n",
    "# 고유벡터VT와 원데이터 X와의 내적\n",
    "Z = VT@X.T\n",
    "print(Z.T)\n",
    "\n",
    "# [첫 번째 주성분에 따른 값, 두 번째 주성분에 따른 값]\n",
    "# [-11.53  -1.18] : 원점을 기준으로 -11.53만큼, -1.18만큼 떨어져있다\n",
    "# 해당 출력값으로 시각화하는 것"
   ]
  },
  {
   "cell_type": "markdown",
   "id": "6e82c5f1",
   "metadata": {},
   "source": [
    "# PCA 클래스와 결과 비교"
   ]
  },
  {
   "cell_type": "code",
   "execution_count": 38,
   "id": "cf09a179",
   "metadata": {
    "scrolled": true
   },
   "outputs": [
    {
     "name": "stdout",
     "output_type": "stream",
     "text": [
      "(10, 2)\n",
      "[[-11.53   1.18]\n",
      " [  0.49  -2.92]\n",
      " [ 12.11  -0.13]\n",
      " [ 20.85  -0.91]\n",
      " [-15.67  -2.2 ]\n",
      " [ -1.7    5.91]\n",
      " [ -0.28  -0.98]\n",
      " [  9.57  -1.17]\n",
      " [-11.61  -2.64]\n",
      " [ -2.24   3.86]]\n"
     ]
    }
   ],
   "source": [
    "from sklearn.decomposition import PCA\n",
    "model = PCA(n_components=2)\n",
    "# n_components : 축소하고자 하는 차원의 개수\n",
    "pca = model.fit_transform(X)\n",
    "# fit_transform : 위의 모든 연산이 포함되어 있음 : 바로 두 개의 주성분이 반환됨\n",
    "print(pca.shape)\n",
    "print(pca)"
   ]
  },
  {
   "cell_type": "markdown",
   "id": "9fd86dbd",
   "metadata": {},
   "source": [
    "# PCA가 차지하는 분산 비율 구하기"
   ]
  },
  {
   "cell_type": "code",
   "execution_count": 41,
   "id": "7bcb4d6d",
   "metadata": {},
   "outputs": [
    {
     "name": "stdout",
     "output_type": "stream",
     "text": [
      "[0.93 0.06]\n",
      "분산 합 : 0.99\n",
      "0.9910760305908326\n"
     ]
    }
   ],
   "source": [
    "# 분산의 설명력\n",
    "print(model.explained_variance_ratio_)\n",
    "# 0.93 : 첫 번째 주성분으로 축소했을 때의 분산의 설명력 : 원데이터의 93퍼센트를 설명할 수 있다 (차원을 한 개 축소하여 3차원 -> 2차원)\n",
    "# 0.06 : 두 번째 주성분으로 축소했을 때의 분산의 설명력 : 원데이터의 6퍼센트를 설명할 수 있다 (차원을 한 개 축소하여 3차원 -> 2차원)\n",
    "# 0.99 : 첫 & 두 번째 주성분으로 축소했을 때의 분산의 설명력 : 원데이터의 99퍼센트를 설명할 수 있다 (차원을 두 개 축소하여 3차원 -> 1차원 됐을 때의 분산의 설명력)\n",
    "\n",
    "print(f'분산 합 : {np.sum(model.explained_variance_ratio_):.2f}')\n",
    "ratio = (eigenvalue[0]+eigenvalue[1]) / np.sum(eigenvalue)\n",
    "print(ratio)\n",
    "\n",
    "# PC1의 설명력 = L1 / (L1+L2+L3) = 고유값1 / 고유값1+2+3\n",
    "# 분산의 설명력은 고유값으로 해석된다!!"
   ]
  },
  {
   "cell_type": "code",
   "execution_count": 42,
   "id": "9689b321",
   "metadata": {},
   "outputs": [
    {
     "data": {
      "text/plain": [
       "array([[-0.5 , -0.84, -0.22],\n",
       "       [ 0.8 , -0.54,  0.24]])"
      ]
     },
     "execution_count": 42,
     "metadata": {},
     "output_type": "execute_result"
    }
   ],
   "source": [
    "# 고유벡터 행렬\n",
    "model.components_"
   ]
  },
  {
   "cell_type": "code",
   "execution_count": 43,
   "id": "fa98526b",
   "metadata": {},
   "outputs": [
    {
     "data": {
      "text/plain": [
       "array([132.7 ,   8.31])"
      ]
     },
     "execution_count": 43,
     "metadata": {},
     "output_type": "execute_result"
    }
   ],
   "source": [
    "# 고유값\n",
    "model.explained_variance_\n",
    "# 첫 번째 주성분에 대한 고유값, 두 번째 주성분에 대한 고유값"
   ]
  }
 ],
 "metadata": {
  "kernelspec": {
   "display_name": "Python 3 (ipykernel)",
   "language": "python",
   "name": "python3"
  },
  "language_info": {
   "codemirror_mode": {
    "name": "ipython",
    "version": 3
   },
   "file_extension": ".py",
   "mimetype": "text/x-python",
   "name": "python",
   "nbconvert_exporter": "python",
   "pygments_lexer": "ipython3",
   "version": "3.9.13"
  },
  "toc": {
   "base_numbering": 1,
   "nav_menu": {},
   "number_sections": true,
   "sideBar": true,
   "skip_h1_title": false,
   "title_cell": "Table of Contents",
   "title_sidebar": "Contents",
   "toc_cell": false,
   "toc_position": {
    "height": "calc(100% - 180px)",
    "left": "10px",
    "top": "150px",
    "width": "292.56px"
   },
   "toc_section_display": true,
   "toc_window_display": true
  }
 },
 "nbformat": 4,
 "nbformat_minor": 5
}
