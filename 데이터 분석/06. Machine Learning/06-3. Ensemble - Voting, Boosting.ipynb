{
 "cells": [
  {
   "cell_type": "markdown",
   "id": "5c36dce6",
   "metadata": {},
   "source": [
    "- voting : 같은 데이터셋, 다른 분류기 // 2가지 종류\n",
    "- bagging : 다른 데이터셋, 같은 분류기\n",
    "- boosting :"
   ]
  },
  {
   "cell_type": "markdown",
   "id": "18d6d1b4",
   "metadata": {},
   "source": [
    "# VotingRegression (보팅 회귀)\n",
    "- 여러 회귀모형 알고리즘을 결합하고 그것의 평균 예측 값을 반환"
   ]
  },
  {
   "cell_type": "markdown",
   "id": "5b073b97",
   "metadata": {},
   "source": [
    "## 패키지 로딩"
   ]
  },
  {
   "cell_type": "code",
   "execution_count": 2,
   "id": "71d88c44",
   "metadata": {},
   "outputs": [],
   "source": [
    "import warnings\n",
    "warnings.filterwarnings(action='ignore')"
   ]
  },
  {
   "cell_type": "code",
   "execution_count": 1,
   "id": "b5fb864e",
   "metadata": {},
   "outputs": [],
   "source": [
    "from sklearn.datasets import load_boston\n",
    "from sklearn.linear_model import Lasso, Ridge, LinearRegression\n",
    "# Lasso : L1 규제가 적용된 회귀 모형 # Ridge : L2 규제가 적용된 회귀 모형\n",
    "from sklearn.ensemble import VotingRegressor\n",
    "from sklearn.model_selection import train_test_split\n",
    "from sklearn.metrics import mean_squared_error, r2_score\n",
    "\n",
    "import numpy as np\n",
    "import pandas as pd"
   ]
  },
  {
   "cell_type": "markdown",
   "id": "92bbdaf8",
   "metadata": {},
   "source": [
    "## 데이터 로딩 및 분할"
   ]
  },
  {
   "cell_type": "code",
   "execution_count": 7,
   "id": "c13628e0",
   "metadata": {},
   "outputs": [
    {
     "data": {
      "text/plain": [
       "((354, 13), (152, 13), (354,), (152,))"
      ]
     },
     "execution_count": 7,
     "metadata": {},
     "output_type": "execute_result"
    }
   ],
   "source": [
    "x, y = load_boston(return_X_y=True)\n",
    "\n",
    "x_train, x_test, y_train, y_test = train_test_split(x, y,\n",
    "                                                    train_size=0.7, \n",
    "                                                    random_state=0)\n",
    "x_train.shape, x_test.shape, y_train.shape, y_test.shape"
   ]
  },
  {
   "cell_type": "markdown",
   "id": "8aa80c0e",
   "metadata": {},
   "source": [
    "## 모델 생성 및 평가"
   ]
  },
  {
   "cell_type": "code",
   "execution_count": 9,
   "id": "a2563e80",
   "metadata": {
    "scrolled": true
   },
   "outputs": [
    {
     "name": "stdout",
     "output_type": "stream",
     "text": [
      "결정계수: 0.666\n",
      "RMSE: 5.274\n"
     ]
    }
   ],
   "source": [
    "# 세 가지의 회귀 모형 모두 생성하기\n",
    "lasso = Lasso(alpha=0.5) # 중요하지 않은 가중치를 0으로하여 삭제\n",
    "ridge = Ridge(alpha=1)\n",
    "linear = LinearRegression()\n",
    "\n",
    "# 보팅 모델 생성\n",
    "vo_r = VotingRegressor(estimators=[('Lasso', lasso), ('Ridge', ridge), ('Linear', linear)])\n",
    "# 튜플의 형태로 전달\n",
    "\n",
    "# 모델 학습\n",
    "vo_r.fit(x_train, y_train)\n",
    "\n",
    "# 모델 검증\n",
    "r_square = vo_r.score(x_test, y_test)\n",
    "print(f'결정계수: {r_square:.3f}')\n",
    "\n",
    "# 예측\n",
    "y_hat = vo_r.predict(x_test)\n",
    "\n",
    "# 모델 평가\n",
    "rmse = np.sqrt(mean_squared_error(y_test, y_hat))\n",
    "print(f'RMSE: {rmse:.3f}')"
   ]
  },
  {
   "cell_type": "markdown",
   "id": "b90dc34f",
   "metadata": {},
   "source": [
    "# VotingClassifier (보팅 분류)"
   ]
  },
  {
   "cell_type": "markdown",
   "id": "e0b324f9",
   "metadata": {},
   "source": [
    "## 패키지 로딩"
   ]
  },
  {
   "cell_type": "code",
   "execution_count": 11,
   "id": "d14b8b26",
   "metadata": {},
   "outputs": [],
   "source": [
    "from sklearn.datasets import load_breast_cancer\n",
    "from sklearn.linear_model import LogisticRegression\n",
    "from sklearn.neighbors import KNeighborsClassifier # KNN\n",
    "from sklearn.ensemble import VotingClassifier\n",
    "from sklearn.model_selection import train_test_split\n",
    "from sklearn.metrics import accuracy_score, roc_auc_score # 분류 모델 성능 측정용 평가지표\n",
    "\n",
    "import numpy as np\n",
    "import pandas as pd"
   ]
  },
  {
   "cell_type": "markdown",
   "id": "5651c309",
   "metadata": {},
   "source": [
    "## 데이터 로딩 및 분할"
   ]
  },
  {
   "cell_type": "code",
   "execution_count": 12,
   "id": "fe836187",
   "metadata": {},
   "outputs": [
    {
     "data": {
      "text/plain": [
       "((398, 30), (171, 30), (398,), (171,))"
      ]
     },
     "execution_count": 12,
     "metadata": {},
     "output_type": "execute_result"
    }
   ],
   "source": [
    "x, y = load_breast_cancer(return_X_y=True)\n",
    "\n",
    "x_train, x_test, y_train, y_test = train_test_split(x, y,\n",
    "                                                    train_size=0.7, \n",
    "                                                    random_state=0)\n",
    "x_train.shape, x_test.shape, y_train.shape, y_test.shape"
   ]
  },
  {
   "cell_type": "markdown",
   "id": "ca15a7bd",
   "metadata": {},
   "source": [
    "## 모델 생성 및 검증"
   ]
  },
  {
   "cell_type": "code",
   "execution_count": 18,
   "id": "3e15040c",
   "metadata": {},
   "outputs": [
    {
     "name": "stdout",
     "output_type": "stream",
     "text": [
      "정확도: 0.965\n",
      "AUC:0.994\n"
     ]
    }
   ],
   "source": [
    "# 두 가지의 분류 모형 모두 생성하기\n",
    "logistic = LogisticRegression(max_iter=3000)\n",
    "knn = KNeighborsClassifier()\n",
    "\n",
    "# 보팅 모델 생성\n",
    "vo_c = VotingClassifier(estimators=[('Logistic', logistic), ('KNN', knn)], voting='soft')\n",
    "# voting : 하드보팅은 'hard', 소프트보팅은 'soft' 값 전달 (DEFAULT는 hard)\n",
    "# VotingRegression은 회귀분석이라 분류기들의 평균 예측값을 반환하므로 voting 지정 불가\n",
    "# VotingClasssifier은 분류분석이라 0 또는 1을 반환하므로 투표 방식을 지정 가능\n",
    "\n",
    "\n",
    "# 모델 학습\n",
    "vo_c.fit(x_train, y_train)\n",
    "\n",
    "# 예측\n",
    "y_hat = vo_c.predict(x_test)\n",
    "\n",
    "# 모델 평가\n",
    "print(f'정확도: {accuracy_score(y_test, y_hat):.3f}')\n",
    "print(f'AUC: {roc_auc_score(y_test, vo_c.predict_proba(x_test)[:,1]):.3f}')"
   ]
  },
  {
   "cell_type": "markdown",
   "id": "70120f22",
   "metadata": {},
   "source": [
    "# GradientBoostingClassifier (부스팅 분류)"
   ]
  },
  {
   "cell_type": "markdown",
   "id": "70375524",
   "metadata": {},
   "source": [
    "## 패키지 로딩"
   ]
  },
  {
   "cell_type": "code",
   "execution_count": 19,
   "id": "0fbd6839",
   "metadata": {},
   "outputs": [],
   "source": [
    "from sklearn.datasets import load_breast_cancer\n",
    "from sklearn.ensemble import GradientBoostingClassifier\n",
    "from sklearn.model_selection import train_test_split\n",
    "from sklearn.metrics import accuracy_score, roc_auc_score # 분류 모델 성능 측정용 평가지표\n",
    "\n",
    "import numpy as np\n",
    "import pandas as pd"
   ]
  },
  {
   "cell_type": "markdown",
   "id": "f8d13493",
   "metadata": {},
   "source": [
    "## 데이터 로딩 및 분할"
   ]
  },
  {
   "cell_type": "code",
   "execution_count": 20,
   "id": "31ae353e",
   "metadata": {
    "scrolled": true
   },
   "outputs": [
    {
     "data": {
      "text/plain": [
       "((398, 30), (171, 30), (398,), (171,))"
      ]
     },
     "execution_count": 20,
     "metadata": {},
     "output_type": "execute_result"
    }
   ],
   "source": [
    "x, y = load_breast_cancer(return_X_y=True)\n",
    "\n",
    "x_train, x_test, y_train, y_test = train_test_split(x, y,\n",
    "                                                    train_size=0.7, \n",
    "                                                    random_state=0)\n",
    "x_train.shape, x_test.shape, y_train.shape, y_test.shape"
   ]
  },
  {
   "cell_type": "markdown",
   "id": "95598e22",
   "metadata": {},
   "source": [
    "## 모델 생성 및 평가\n",
    "- GradientBoostingClassifier\n",
    "     - 랜덤 포레스트와 같이 의사결정나무 모델을 부스팅 방법으로 활용하는 모델\n",
    "     - 이전 예측기가 만든 잔여오차(residual error)에 새로운 예측기를 학습시킴"
   ]
  },
  {
   "cell_type": "code",
   "execution_count": 23,
   "id": "998dd760",
   "metadata": {},
   "outputs": [
    {
     "name": "stdout",
     "output_type": "stream",
     "text": [
      "정확도: 0.965\n",
      "AUC: 0.997\n"
     ]
    }
   ],
   "source": [
    "# 모델 생성\n",
    "gb_c = GradientBoostingClassifier()\n",
    "\n",
    "# 모델 학습\n",
    "gb_c.fit(x_train, y_train)\n",
    "\n",
    "# 예측\n",
    "y_hat = gb_c.predict(x_test)\n",
    "\n",
    "# 모델 평가\n",
    "print(f'정확도: {accuracy_score(y_test, y_hat):.3f}')\n",
    "print(f'AUC: {roc_auc_score(y_test, gb_c.predict_proba(x_test)[:,1]):.3f}')"
   ]
  },
  {
   "cell_type": "markdown",
   "id": "0bc0e877",
   "metadata": {},
   "source": [
    "## 하이퍼 파라미터 튜닝"
   ]
  },
  {
   "cell_type": "code",
   "execution_count": 27,
   "id": "0f0c4200",
   "metadata": {},
   "outputs": [
    {
     "data": {
      "text/plain": [
       "GridSearchCV(estimator=GradientBoostingClassifier(), n_jobs=-1,\n",
       "             param_grid={'max_depth': [6, 8, 10, 12],\n",
       "                         'min_samples_leaf': [3, 5, 7, 19],\n",
       "                         'min_samples_split': [3, 5, 7, 10],\n",
       "                         'n_estimators': [100, 200]},\n",
       "             scoring='accuracy')"
      ]
     },
     "execution_count": 27,
     "metadata": {},
     "output_type": "execute_result"
    }
   ],
   "source": [
    "from sklearn.model_selection import GridSearchCV\n",
    "\n",
    "gbc_params = {'n_estimators': [100,200],\n",
    "              'max_depth': [6,8,10,12], # 나무의 깊이\n",
    "              'min_samples_leaf' : [3,5,7,19], # 잎노드의 최소 샘플 수\n",
    "              'min_samples_split' : [3,5,7,10] # 잎노드 분할시 최소 샘플 수\n",
    "              }\n",
    "# gb_c = GradientBoostingClassifier()\n",
    "gbc_gs = GridSearchCV(gb_c, gbc_params, scoring='accuracy', n_jobs=-1)\n",
    "gbc_gs.fit(x_train, y_train)"
   ]
  },
  {
   "cell_type": "code",
   "execution_count": 28,
   "id": "8fef810d",
   "metadata": {},
   "outputs": [
    {
     "name": "stdout",
     "output_type": "stream",
     "text": [
      "최적 파라미터: {'max_depth': 12, 'min_samples_leaf': 7, 'min_samples_split': 10, 'n_estimators': 200}\n",
      "예측 정확도: 0.9623417721518986\n"
     ]
    }
   ],
   "source": [
    "print('최적 파라미터:', gbc_gs.best_params_)\n",
    "# best_params_ : 최적의 파라미터 조합 결과 반환\n",
    "print('예측 정확도:', gbc_gs.best_score_)"
   ]
  },
  {
   "cell_type": "code",
   "execution_count": null,
   "id": "efd1f66f",
   "metadata": {},
   "outputs": [],
   "source": [
    "# r2_score : 현실에서는 0.5를 넘기가 어렵기 때문에, 0.3, 0.4만 나와도 유용하다고 간주한다. 모호하기 때문!\n",
    "# ex. 행복 만족도 조사시 여러가지 독립변수 입력값의 개인차가 심하므로"
   ]
  },
  {
   "cell_type": "markdown",
   "id": "69ab4464",
   "metadata": {},
   "source": [
    "# GradientBoostingRegressor (부스팅 회귀)"
   ]
  },
  {
   "cell_type": "markdown",
   "id": "9f2511da",
   "metadata": {},
   "source": [
    "## 패키지 로딩"
   ]
  },
  {
   "cell_type": "code",
   "execution_count": 29,
   "id": "c51ce955",
   "metadata": {},
   "outputs": [],
   "source": [
    "from sklearn.datasets import load_diabetes\n",
    "from sklearn.ensemble import GradientBoostingRegressor\n",
    "from sklearn.model_selection import train_test_split\n",
    "from sklearn.metrics import mean_squared_error\n",
    "\n",
    "import numpy as np\n",
    "import pandas as pd"
   ]
  },
  {
   "cell_type": "markdown",
   "id": "8dd38c21",
   "metadata": {},
   "source": [
    "## 데이터 로딩 및 분할"
   ]
  },
  {
   "cell_type": "code",
   "execution_count": 30,
   "id": "aa6345fb",
   "metadata": {},
   "outputs": [
    {
     "data": {
      "text/plain": [
       "((309, 10), (133, 10), (309,), (133,))"
      ]
     },
     "execution_count": 30,
     "metadata": {},
     "output_type": "execute_result"
    }
   ],
   "source": [
    "x, y = load_diabetes(return_X_y=True)\n",
    "\n",
    "x_train, x_test, y_train, y_test = train_test_split(x, y,\n",
    "                                                    train_size=0.7, \n",
    "                                                    random_state=0)\n",
    "x_train.shape, x_test.shape, y_train.shape, y_test.shape"
   ]
  },
  {
   "cell_type": "markdown",
   "id": "5a3cd676",
   "metadata": {},
   "source": [
    "## 모델 생성 및 평가"
   ]
  },
  {
   "cell_type": "code",
   "execution_count": 32,
   "id": "e77a1400",
   "metadata": {},
   "outputs": [
    {
     "data": {
      "text/plain": [
       "GradientBoostingRegressor(max_depth=6, n_estimators=120)"
      ]
     },
     "execution_count": 32,
     "metadata": {},
     "output_type": "execute_result"
    }
   ],
   "source": [
    "# 모델 생성\n",
    "gb_r = GradientBoostingRegressor(n_estimators=120, max_depth=6)\n",
    "\n",
    "# 모델 학습\n",
    "gb_r.fit(x_train, y_train)"
   ]
  },
  {
   "cell_type": "code",
   "execution_count": 34,
   "id": "d9a20d4f",
   "metadata": {},
   "outputs": [
    {
     "name": "stdout",
     "output_type": "stream",
     "text": [
      "결정계수: 0.216\n",
      "RMSE: 63.250\n"
     ]
    }
   ],
   "source": [
    "# 예측\n",
    "y_hat = gb_r.predict(x_test)\n",
    "\n",
    "# 모델 평가\n",
    "r_square = gb_r.score(x_test, y_test)\n",
    "print(f'결정계수: {r_square:.3f}')\n",
    "rmse = np.sqrt(mean_squared_error(y_test, y_hat))\n",
    "print(f'RMSE: {rmse:.3f}')"
   ]
  }
 ],
 "metadata": {
  "kernelspec": {
   "display_name": "Python 3 (ipykernel)",
   "language": "python",
   "name": "python3"
  },
  "language_info": {
   "codemirror_mode": {
    "name": "ipython",
    "version": 3
   },
   "file_extension": ".py",
   "mimetype": "text/x-python",
   "name": "python",
   "nbconvert_exporter": "python",
   "pygments_lexer": "ipython3",
   "version": "3.9.13"
  },
  "toc": {
   "base_numbering": 1,
   "nav_menu": {},
   "number_sections": true,
   "sideBar": true,
   "skip_h1_title": false,
   "title_cell": "Table of Contents",
   "title_sidebar": "Contents",
   "toc_cell": false,
   "toc_position": {
    "height": "calc(100% - 180px)",
    "left": "10px",
    "top": "150px",
    "width": "292.56px"
   },
   "toc_section_display": true,
   "toc_window_display": true
  }
 },
 "nbformat": 4,
 "nbformat_minor": 5
}
