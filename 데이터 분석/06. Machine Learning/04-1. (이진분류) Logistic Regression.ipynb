{
 "cells": [
  {
   "cell_type": "markdown",
   "id": "7fc66d19",
   "metadata": {},
   "source": [
    "# 유방암 판별 예측"
   ]
  },
  {
   "cell_type": "markdown",
   "id": "707fc607",
   "metadata": {},
   "source": [
    "## 패키지 로딩 "
   ]
  },
  {
   "cell_type": "code",
   "execution_count": 27,
   "id": "b332feda",
   "metadata": {},
   "outputs": [],
   "source": [
    "from sklearn.datasets import load_breast_cancer # 데이터\n",
    "from sklearn.linear_model import LogisticRegression # 로지스틱 모델\n",
    "from sklearn.preprocessing import StandardScaler # 전처리 : 스케일링\n",
    "from sklearn.metrics import accuracy_score, precision_score, recall_score, roc_curve, roc_auc_score, confusion_matrix, plot_roc_curve\n",
    "# 성능 평가 roc_curve : 커브 그리기 / roc_auc_score : 면적 구하기 / confusion_matrix : 혼동행렬 / plot_roc_curve : 커브 그래프 그리기\n",
    "from sklearn.model_selection import train_test_split # 학습/평가용 분할\n",
    "\n",
    "import numpy as np\n",
    "import pandas as pd"
   ]
  },
  {
   "cell_type": "markdown",
   "id": "c2b8d10c",
   "metadata": {},
   "source": [
    "## 데이터 로드 및 확인"
   ]
  },
  {
   "cell_type": "code",
   "execution_count": 5,
   "id": "21e6da12",
   "metadata": {
    "scrolled": true
   },
   "outputs": [
    {
     "name": "stdout",
     "output_type": "stream",
     "text": [
      "1    357\n",
      "0    212\n",
      "Name: class, dtype: int64\n"
     ]
    }
   ],
   "source": [
    "breast = load_breast_cancer()\n",
    "# print(breast.DESCR)\n",
    "df = pd.DataFrame(breast.data, columns=breast.feature_names)\n",
    "df['class'] = breast.target\n",
    "df.head()\n",
    "print(df['class'].value_counts())\n",
    "# 0 악성종양 (암) / 1 양성종양 (암이 아님)"
   ]
  },
  {
   "cell_type": "markdown",
   "id": "be227ea2",
   "metadata": {},
   "source": [
    "## 데이터 준비"
   ]
  },
  {
   "cell_type": "code",
   "execution_count": 6,
   "id": "fcb5f7be",
   "metadata": {},
   "outputs": [
    {
     "data": {
      "text/plain": [
       "((569, 30), (569,))"
      ]
     },
     "execution_count": 6,
     "metadata": {},
     "output_type": "execute_result"
    }
   ],
   "source": [
    "x = breast.data\n",
    "y = breast.target\n",
    "x.shape, y.shape"
   ]
  },
  {
   "cell_type": "markdown",
   "id": "fc2e4150",
   "metadata": {},
   "source": [
    "## 데이터 스케일링"
   ]
  },
  {
   "cell_type": "code",
   "execution_count": 8,
   "id": "b9306856",
   "metadata": {},
   "outputs": [],
   "source": [
    "scaled_x = StandardScaler().fit_transform(x)"
   ]
  },
  {
   "cell_type": "markdown",
   "id": "d523b5c6",
   "metadata": {},
   "source": [
    "## 학습 데이터와 평가 데이터 분리"
   ]
  },
  {
   "cell_type": "code",
   "execution_count": 10,
   "id": "cff5c096",
   "metadata": {
    "scrolled": true
   },
   "outputs": [
    {
     "data": {
      "text/plain": [
       "((398, 30), (398,), (171, 30), (171,))"
      ]
     },
     "execution_count": 10,
     "metadata": {},
     "output_type": "execute_result"
    }
   ],
   "source": [
    "x_train, x_test, y_train, y_test = train_test_split(scaled_x, y, test_size=0.3, stratify=y) # 랜덤하게 데이터를 가져오다보니 아래의 학습 결과는 다를 수 있음\n",
    "\n",
    "x_train.shape, y_train.shape, x_test.shape, y_test.shape"
   ]
  },
  {
   "cell_type": "markdown",
   "id": "e83a23b9",
   "metadata": {},
   "source": [
    "## 모델 생성\n",
    "- 회귀계수 최적화 옵션\n",
    "\n",
    "    - 1. solver: 최적화 문제에 사용될 알고리즘 (어떤 알고리즘으로 수행할 것인지 종류를 기재)\n",
    "        - 'lbfgs' : solver 기본값 / CPU 코어 수가 많다면 최적화를 병렬로 수행.\n",
    "        - 'liblinear' : 국소 최적화(local minimum) 문제가 있고, 병렬 최적화를 수행할 수 없다.\n",
    "            - 국소 최적화 문제 : 다차원 변수의 함수의 경우 종모양이 아니라 곡선의 형태인데, loss가 최저인 global minimum가 아닌 local minimum에 빠져버려 더이상 최적의 weight를 찾지 못하는 것\n",
    "            - 병렬 최적화 수행 불가 : 멀티코어를 활용하지 못함. (1. 예전에 PC의 코어가 하나였을 때는 C분할을 통해 유한한 시간을 잘게 쪼개었다. ex) 첫 작업 1초 실행하고 내려와. 그 다음 작업 1초 실행하고 내려와. -> 1초를 무한히 작게 쪼개면, 마치 동시에 실행되는 것처럼 보임) (2. 현재는 코어가 8-10개 들어가있어 동시다발적으로 실행 가능 - 멀티태스킹)\n",
    "        - 'sag', 'saga' : 확률적 경사하강법을 기반으로 한 알고리즘으로 대용량 데이터에 적합\n",
    "            - 일반 경사하강법 : 매번 오차함수를 적용하므로 w 업데이트 시간이 오래 걸림\n",
    "            - 확률적 경사하강법 : 데이터를 랜덤 샘플링하여 w를 어떻게 업데이트할 지 정함\n",
    "        - 'newton-cg' : 멀티클래스 분류 모델에 사용\n",
    "    - 2. solver에 따른 규제 지원 사항\n",
    "        - newton-cg, lbfgs, sag : L2\n",
    "        - liblinear, saga : L1, L2\n",
    "        - C : 규제 강도의 역수 (선형모델에서는 alpha 값을 사용했고, LogisticRegression과 같이 분류 모델에서는 C를 사용한다. alpha값이 클수록, C값이 작을수록 모델이 단순해진다.)\n",
    "    - 3. max_iter : solver가 수렴하는데 필요한 반복 횟수 (default: 100)\n",
    "        - solver가 수렴 : 최적의 w를 찾는 것\n",
    "        - 최적의 w를 찾기 전에 iteration이 먼저 끝나면 max_iter 값을 크게 수정해야함."
   ]
  },
  {
   "cell_type": "code",
   "execution_count": 12,
   "id": "f345e27f",
   "metadata": {
    "scrolled": true
   },
   "outputs": [
    {
     "name": "stdout",
     "output_type": "stream",
     "text": [
      "추정계수(가중치): [[-0.37848305 -0.59158682 -0.35563138 -0.40632574 -0.37049187  0.27015107\n",
      "  -0.69226035 -0.9319424   0.39466735  0.14133819 -1.36282504  0.11555166\n",
      "  -0.69904692 -0.86444872 -0.14719793  0.68649018  0.25928556 -0.3811895\n",
      "   0.22516549  0.41348484 -0.92401571 -0.99211783 -0.70200376 -0.81027399\n",
      "  -0.82871442 -0.05674246 -0.65716554 -0.77375151 -0.79940687 -0.4576026 ]]\n",
      "절편:  [0.0382254]\n"
     ]
    }
   ],
   "source": [
    "model = LogisticRegression()\n",
    "model.fit(x_train, y_train)\n",
    "\n",
    "print('추정계수(가중치): ', model.coef_)\n",
    "print('절편: ', model.intercept_)"
   ]
  },
  {
   "cell_type": "markdown",
   "id": "60980cb7",
   "metadata": {},
   "source": [
    "## 모델 예측"
   ]
  },
  {
   "cell_type": "code",
   "execution_count": 13,
   "id": "acd6da96",
   "metadata": {
    "scrolled": true
   },
   "outputs": [
    {
     "name": "stdout",
     "output_type": "stream",
     "text": [
      "예측값:  [0 1 0 1 1 1 0 1 1 1 1 1 0 1 0 0 1 0 0 1]\n",
      "실제값:  [1 1 0 1 1 1 0 1 1 1 1 1 0 1 0 0 1 0 0 1]\n"
     ]
    }
   ],
   "source": [
    "y_hat = model.predict(x_test)\n",
    "print('예측값: ', y_hat[:20])\n",
    "print('실제값: ', y_test[:20])"
   ]
  },
  {
   "cell_type": "markdown",
   "id": "716c0539",
   "metadata": {},
   "source": [
    "## Confusion Matrix (혼동행렬 함수)\n",
    "- 행을 true값 (실제상황) / 열을 predict값 (예측상황)으로 이용\n",
    "    - 기존 교안에서는 행과 열이 반대였음\n",
    "- 양성과 음성의 구분은 별도의 레이블을 지정하지 않으면 레이블 값의 정렬된 순서로 사용한다.\n",
    "    - label값(y값)이 0과 1로 정렬되어있을 때, 0을 negative 음성종양으로 1을 positive 양성종양으로 쓴다. (원래는 0 악성종양 (암) / 1 양성종양 (암이 아님))\n",
    "    \n",
    "<pre>\n",
    "                             Predict\n",
    "----------------------------------------------------------\n",
    "             N (0 음성종양)     |     P (1 양성종양)\n",
    "----------------------------------------------------------\n",
    "   |    |                       |\n",
    "   |  N |          TN           |         FP\n",
    "T  |    |                       |\n",
    "R  |------------------------------------------------------  \n",
    "U  |    |                       |\n",
    "E  |  P |          FN           |         TP\n",
    "   |    |                       |\n",
    "----------------------------------------------------------\n",
    "\n",
    "</pre>"
   ]
  },
  {
   "cell_type": "code",
   "execution_count": 15,
   "id": "07e0cb9f",
   "metadata": {},
   "outputs": [
    {
     "name": "stdout",
     "output_type": "stream",
     "text": [
      "[[ 62   2]\n",
      " [  2 105]]\n"
     ]
    }
   ],
   "source": [
    "matrix = confusion_matrix(y_test, y_hat)\n",
    "print(matrix)"
   ]
  },
  {
   "cell_type": "markdown",
   "id": "f899a50f",
   "metadata": {},
   "source": [
    "## 평가지표"
   ]
  },
  {
   "cell_type": "code",
   "execution_count": 24,
   "id": "dc6060c9",
   "metadata": {},
   "outputs": [],
   "source": [
    "np.set_printoptions(suppress=True, precision=2)\n",
    "# 정밀도를 소수점 세 자리까지 보여줌"
   ]
  },
  {
   "cell_type": "code",
   "execution_count": 28,
   "id": "dafe0a0f",
   "metadata": {
    "scrolled": true
   },
   "outputs": [
    {
     "name": "stdout",
     "output_type": "stream",
     "text": [
      "정확도: 0.977\n",
      "정밀도: 0.981\n",
      "재현율: 0.981\n",
      "AUC:0.995\n"
     ]
    }
   ],
   "source": [
    "accuracy = accuracy_score(y_test, y_hat)\n",
    "print(f'정확도: {accuracy:.3f}') # (62+105) / (62+2+2+105) # (TN+TP) / (전체)\n",
    "precision = precision_score(y_test, y_hat)\n",
    "print(f'정밀도: {precision:.3f}') # (105) / (2+105) # TP / (FP+TP)\n",
    "recall = recall_score(y_test, y_hat)\n",
    "print(f'재현율: {precision:.3f}') # (105) / (2+105) # TP / (FN+TP)\n",
    "\n",
    "\n",
    "# roc_auc_score\n",
    "pred_proba_positive = model.predict_proba(x_test)[:, 1] # 모든 행의 1열\n",
    "# print(pred_proba_positive)\n",
    "# negative로 예측할 확률 0.51, positive로 예측할 확률 0.49 => 0으로 예측한 것\n",
    "# 확률분포의 값이 큰 것을 최종 예측 결과로 내는 것\n",
    "# [:, 1] : 모든 행의 1열 (positive만 슬라이싱한 것)\n",
    "\n",
    "auc = roc_auc_score(y_test, pred_proba_positive)\n",
    "print(f'AUC:{auc:.3f}')\n",
    "# 첫 번째 매개변수 : y_test : 실제값을 전달하는 것은 동일\n",
    "# 두 번째 매개변수 : y_hat(예측값)이 아닌 positive로 예측한 확률값을 전달\n",
    "# positive로 예측한 확률값 / 예측하고자하는 x값을 전달하면 확률값을 보여준다.\n",
    "\n",
    "# AUC:0.995 : 1에 가까우므로 좌측 상단 꼭짓점을 가득채운 직사각형 모형의 커브 곡선이 생길 것"
   ]
  },
  {
   "cell_type": "code",
   "execution_count": 31,
   "id": "538350bb",
   "metadata": {},
   "outputs": [
    {
     "name": "stderr",
     "output_type": "stream",
     "text": [
      "C:\\Users\\user\\anaconda3\\lib\\site-packages\\sklearn\\utils\\deprecation.py:87: FutureWarning: Function plot_roc_curve is deprecated; Function :func:`plot_roc_curve` is deprecated in 1.0 and will be removed in 1.2. Use one of the class methods: :meth:`sklearn.metric.RocCurveDisplay.from_predictions` or :meth:`sklearn.metric.RocCurveDisplay.from_estimator`.\n",
      "  warnings.warn(msg, category=FutureWarning)\n"
     ]
    },
    {
     "data": {
      "image/png": "[encoded data removed]",
      "text/plain": [
       "<Figure size 640x480 with 1 Axes>"
      ]
     },
     "metadata": {},
     "output_type": "display_data"
    }
   ],
   "source": [
    "# from sklearn.metrics import plot_roc_curve # 커브 그래프 그리기\n",
    "import matplotlib.pyplot as plt\n",
    "\n",
    "plot_roc_curve(model, x_test, y_test)\n",
    "plt.show()\n",
    "# 거의 직사각형에 가까운 그림이 그려짐"
   ]
  },
  {
   "cell_type": "markdown",
   "id": "c615b24d",
   "metadata": {},
   "source": [
    "## solver별 성능 평가 및 비교하기"
   ]
  },
  {
   "cell_type": "code",
   "execution_count": 36,
   "id": "d70d71f3",
   "metadata": {},
   "outputs": [
    {
     "name": "stdout",
     "output_type": "stream",
     "text": [
      "solver : lbfgs, accuracy : 0.977, auc : 0.995\n",
      "solver : liblinear, accuracy : 0.977, auc : 0.995\n",
      "solver : newton-cg, accuracy : 0.977, auc : 0.995\n",
      "solver : sag, accuracy : 0.977, auc : 0.995\n",
      "solver : saga, accuracy : 0.977, auc : 0.995\n"
     ]
    }
   ],
   "source": [
    "solvers=['lbfgs','liblinear','newton-cg','sag','saga']\n",
    "\n",
    "for solver in solvers:\n",
    "    model=LogisticRegression(solver=solver, max_iter=600) # DEFAULT는 100이지만 600번 학습하도록 함\n",
    "    model.fit(x_train, y_train)\n",
    "    y_hat=model.predict(x_test)\n",
    "    \n",
    "    print(f'solver : {solver}, accuracy : {accuracy_score(y_test, y_hat):.3f}, auc : {roc_auc_score(y_test,pred_proba_positive):.3f}')"
   ]
  },
  {
   "cell_type": "markdown",
   "id": "0ffc641b",
   "metadata": {},
   "source": [
    "## 예측 확률\n",
    "- 각 레코드(사례)별 개별 클래스 예측 확률값 반환\n",
    "- 분류 임계값: 0.5 (넘으면 1, 넘지 못하면 0)"
   ]
  },
  {
   "cell_type": "code",
   "execution_count": 37,
   "id": "a61bc696",
   "metadata": {},
   "outputs": [
    {
     "data": {
      "text/html": [
       "<div>\n",
       "<style scoped>\n",
       "    .dataframe tbody tr th:only-of-type {\n",
       "        vertical-align: middle;\n",
       "    }\n",
       "\n",
       "    .dataframe tbody tr th {\n",
       "        vertical-align: top;\n",
       "    }\n",
       "\n",
       "    .dataframe thead th {\n",
       "        text-align: right;\n",
       "    }\n",
       "</style>\n",
       "<table border=\"1\" class=\"dataframe\">\n",
       "  <thead>\n",
       "    <tr style=\"text-align: right;\">\n",
       "      <th></th>\n",
       "      <th>negative(0)</th>\n",
       "      <th>positive(1)</th>\n",
       "    </tr>\n",
       "  </thead>\n",
       "  <tbody>\n",
       "    <tr>\n",
       "      <th>0</th>\n",
       "      <td>0.509202</td>\n",
       "      <td>0.490798</td>\n",
       "    </tr>\n",
       "    <tr>\n",
       "      <th>1</th>\n",
       "      <td>0.000132</td>\n",
       "      <td>0.999868</td>\n",
       "    </tr>\n",
       "    <tr>\n",
       "      <th>2</th>\n",
       "      <td>0.559416</td>\n",
       "      <td>0.440584</td>\n",
       "    </tr>\n",
       "    <tr>\n",
       "      <th>3</th>\n",
       "      <td>0.016178</td>\n",
       "      <td>0.983822</td>\n",
       "    </tr>\n",
       "    <tr>\n",
       "      <th>4</th>\n",
       "      <td>0.000813</td>\n",
       "      <td>0.999187</td>\n",
       "    </tr>\n",
       "    <tr>\n",
       "      <th>5</th>\n",
       "      <td>0.033360</td>\n",
       "      <td>0.966640</td>\n",
       "    </tr>\n",
       "    <tr>\n",
       "      <th>6</th>\n",
       "      <td>0.985935</td>\n",
       "      <td>0.014065</td>\n",
       "    </tr>\n",
       "    <tr>\n",
       "      <th>7</th>\n",
       "      <td>0.000208</td>\n",
       "      <td>0.999792</td>\n",
       "    </tr>\n",
       "    <tr>\n",
       "      <th>8</th>\n",
       "      <td>0.000002</td>\n",
       "      <td>0.999998</td>\n",
       "    </tr>\n",
       "    <tr>\n",
       "      <th>9</th>\n",
       "      <td>0.052615</td>\n",
       "      <td>0.947385</td>\n",
       "    </tr>\n",
       "  </tbody>\n",
       "</table>\n",
       "</div>"
      ],
      "text/plain": [
       "   negative(0)  positive(1)\n",
       "0     0.509202     0.490798\n",
       "1     0.000132     0.999868\n",
       "2     0.559416     0.440584\n",
       "3     0.016178     0.983822\n",
       "4     0.000813     0.999187\n",
       "5     0.033360     0.966640\n",
       "6     0.985935     0.014065\n",
       "7     0.000208     0.999792\n",
       "8     0.000002     0.999998\n",
       "9     0.052615     0.947385"
      ]
     },
     "execution_count": 37,
     "metadata": {},
     "output_type": "execute_result"
    }
   ],
   "source": [
    "prob = model.predict_proba(x_test)\n",
    "prob_df = pd.DataFrame(prob[:10], columns=['negative(0)', 'positive(1)'])\n",
    "prob_df\n",
    "# 두 개 확률의 합은 1\n",
    "# 첫 번째 레코드 : 0을 선택할 확률 0.509202 / 1을 선택할 확률 0.490798 -> 0선택"
   ]
  },
  {
   "cell_type": "markdown",
   "id": "0849ee9a",
   "metadata": {},
   "source": [
    "# 대출 가능여부 예측\n",
    "- 0 negative 대출 불가능 / 1 positive 대출 가능"
   ]
  },
  {
   "cell_type": "markdown",
   "id": "769e7fc8",
   "metadata": {},
   "source": [
    "## 패키지 로딩"
   ]
  },
  {
   "cell_type": "code",
   "execution_count": 65,
   "id": "8683a26f",
   "metadata": {},
   "outputs": [],
   "source": [
    "from sklearn.linear_model import LogisticRegression # 로지스틱 모델\n",
    "from sklearn.preprocessing import StandardScaler # 전처리 : 스케일링\n",
    "from sklearn.metrics import accuracy_score, precision_score, recall_score, roc_curve, roc_auc_score, confusion_matrix, plot_roc_curve\n",
    "# 성능 평가 roc_curve : 커브 그리기 / roc_auc_score : 면적 구하기 / confusion_matrix : 혼동행렬 / plot_roc_curve : 커브 그래프 그리기\n",
    "from sklearn.model_selection import train_test_split # 학습/평가용 분할\n",
    "\n",
    "import numpy as np\n",
    "import pandas as pd\n",
    "import matplotlib.pyplot as plt"
   ]
  },
  {
   "cell_type": "markdown",
   "id": "872cfb1d",
   "metadata": {},
   "source": [
    "## 데이터 로드 및 확인"
   ]
  },
  {
   "cell_type": "code",
   "execution_count": 67,
   "id": "702fca5d",
   "metadata": {
    "scrolled": true
   },
   "outputs": [
    {
     "data": {
      "text/html": [
       "<div>\n",
       "<style scoped>\n",
       "    .dataframe tbody tr th:only-of-type {\n",
       "        vertical-align: middle;\n",
       "    }\n",
       "\n",
       "    .dataframe tbody tr th {\n",
       "        vertical-align: top;\n",
       "    }\n",
       "\n",
       "    .dataframe thead th {\n",
       "        text-align: right;\n",
       "    }\n",
       "</style>\n",
       "<table border=\"1\" class=\"dataframe\">\n",
       "  <thead>\n",
       "    <tr style=\"text-align: right;\">\n",
       "      <th></th>\n",
       "      <th>ID</th>\n",
       "      <th>Age</th>\n",
       "      <th>Experience</th>\n",
       "      <th>Income</th>\n",
       "      <th>ZIP Code</th>\n",
       "      <th>Family</th>\n",
       "      <th>CCAvg</th>\n",
       "      <th>Education</th>\n",
       "      <th>Mortgage</th>\n",
       "      <th>Personal Loan</th>\n",
       "      <th>Securities Account</th>\n",
       "      <th>CD Account</th>\n",
       "      <th>Online</th>\n",
       "      <th>CreditCard</th>\n",
       "    </tr>\n",
       "  </thead>\n",
       "  <tbody>\n",
       "    <tr>\n",
       "      <th>0</th>\n",
       "      <td>1</td>\n",
       "      <td>25</td>\n",
       "      <td>1</td>\n",
       "      <td>49</td>\n",
       "      <td>91107</td>\n",
       "      <td>4</td>\n",
       "      <td>1.6</td>\n",
       "      <td>1</td>\n",
       "      <td>0</td>\n",
       "      <td>0</td>\n",
       "      <td>1</td>\n",
       "      <td>0</td>\n",
       "      <td>0</td>\n",
       "      <td>0</td>\n",
       "    </tr>\n",
       "    <tr>\n",
       "      <th>1</th>\n",
       "      <td>2</td>\n",
       "      <td>45</td>\n",
       "      <td>19</td>\n",
       "      <td>34</td>\n",
       "      <td>90089</td>\n",
       "      <td>3</td>\n",
       "      <td>1.5</td>\n",
       "      <td>1</td>\n",
       "      <td>0</td>\n",
       "      <td>0</td>\n",
       "      <td>1</td>\n",
       "      <td>0</td>\n",
       "      <td>0</td>\n",
       "      <td>0</td>\n",
       "    </tr>\n",
       "    <tr>\n",
       "      <th>2</th>\n",
       "      <td>3</td>\n",
       "      <td>39</td>\n",
       "      <td>15</td>\n",
       "      <td>11</td>\n",
       "      <td>94720</td>\n",
       "      <td>1</td>\n",
       "      <td>1.0</td>\n",
       "      <td>1</td>\n",
       "      <td>0</td>\n",
       "      <td>0</td>\n",
       "      <td>0</td>\n",
       "      <td>0</td>\n",
       "      <td>0</td>\n",
       "      <td>0</td>\n",
       "    </tr>\n",
       "    <tr>\n",
       "      <th>3</th>\n",
       "      <td>4</td>\n",
       "      <td>35</td>\n",
       "      <td>9</td>\n",
       "      <td>100</td>\n",
       "      <td>94112</td>\n",
       "      <td>1</td>\n",
       "      <td>2.7</td>\n",
       "      <td>2</td>\n",
       "      <td>0</td>\n",
       "      <td>0</td>\n",
       "      <td>0</td>\n",
       "      <td>0</td>\n",
       "      <td>0</td>\n",
       "      <td>0</td>\n",
       "    </tr>\n",
       "    <tr>\n",
       "      <th>4</th>\n",
       "      <td>5</td>\n",
       "      <td>35</td>\n",
       "      <td>8</td>\n",
       "      <td>45</td>\n",
       "      <td>91330</td>\n",
       "      <td>4</td>\n",
       "      <td>1.0</td>\n",
       "      <td>2</td>\n",
       "      <td>0</td>\n",
       "      <td>0</td>\n",
       "      <td>0</td>\n",
       "      <td>0</td>\n",
       "      <td>0</td>\n",
       "      <td>1</td>\n",
       "    </tr>\n",
       "  </tbody>\n",
       "</table>\n",
       "</div>"
      ],
      "text/plain": [
       "   ID  Age  Experience  Income  ZIP Code  Family  CCAvg  Education  Mortgage  \\\n",
       "0   1   25           1      49     91107       4    1.6          1         0   \n",
       "1   2   45          19      34     90089       3    1.5          1         0   \n",
       "2   3   39          15      11     94720       1    1.0          1         0   \n",
       "3   4   35           9     100     94112       1    2.7          2         0   \n",
       "4   5   35           8      45     91330       4    1.0          2         0   \n",
       "\n",
       "   Personal Loan  Securities Account  CD Account  Online  CreditCard  \n",
       "0              0                   1           0       0           0  \n",
       "1              0                   1           0       0           0  \n",
       "2              0                   0           0       0           0  \n",
       "3              0                   0           0       0           0  \n",
       "4              0                   0           0       0           1  "
      ]
     },
     "execution_count": 67,
     "metadata": {},
     "output_type": "execute_result"
    }
   ],
   "source": [
    "import numpy as np\n",
    "import pandas as pd\n",
    "\n",
    "loan_origin = pd.read_csv('Personal_Loan.csv')\n",
    "loan_origin.head()"
   ]
  },
  {
   "cell_type": "code",
   "execution_count": 69,
   "id": "714ad4db",
   "metadata": {},
   "outputs": [
    {
     "data": {
      "text/plain": [
       "(5000, 14)"
      ]
     },
     "execution_count": 69,
     "metadata": {},
     "output_type": "execute_result"
    }
   ],
   "source": [
    "loan_origin.shape"
   ]
  },
  {
   "cell_type": "code",
   "execution_count": 70,
   "id": "aaf5082b",
   "metadata": {
    "scrolled": true
   },
   "outputs": [
    {
     "name": "stdout",
     "output_type": "stream",
     "text": [
      "<class 'pandas.core.frame.DataFrame'>\n",
      "RangeIndex: 5000 entries, 0 to 4999\n",
      "Data columns (total 14 columns):\n",
      " #   Column              Non-Null Count  Dtype  \n",
      "---  ------              --------------  -----  \n",
      " 0   ID                  5000 non-null   int64  \n",
      " 1   Age                 5000 non-null   int64  \n",
      " 2   Experience          5000 non-null   int64  \n",
      " 3   Income              5000 non-null   int64  \n",
      " 4   ZIP Code            5000 non-null   int64  \n",
      " 5   Family              5000 non-null   int64  \n",
      " 6   CCAvg               5000 non-null   float64\n",
      " 7   Education           5000 non-null   int64  \n",
      " 8   Mortgage            5000 non-null   int64  \n",
      " 9   Personal Loan       5000 non-null   int64  \n",
      " 10  Securities Account  5000 non-null   int64  \n",
      " 11  CD Account          5000 non-null   int64  \n",
      " 12  Online              5000 non-null   int64  \n",
      " 13  CreditCard          5000 non-null   int64  \n",
      "dtypes: float64(1), int64(13)\n",
      "memory usage: 547.0 KB\n"
     ]
    }
   ],
   "source": [
    "loan_origin.info()\n",
    "# RangeIndex : 전체 레코드의 개수 5000개\n",
    "# Non-Null Count : 5000 non-null이므로 결측치 없음\n",
    "# Dtype : 모두 숫자형 : int와 float"
   ]
  },
  {
   "cell_type": "markdown",
   "id": "8485f85c",
   "metadata": {},
   "source": [
    "## 데이터 전처리\n",
    "- 불필요한 컬럼 삭제 : ID, Zip Code"
   ]
  },
  {
   "cell_type": "code",
   "execution_count": 71,
   "id": "088eaeca",
   "metadata": {
    "scrolled": false
   },
   "outputs": [
    {
     "data": {
      "text/html": [
       "<div>\n",
       "<style scoped>\n",
       "    .dataframe tbody tr th:only-of-type {\n",
       "        vertical-align: middle;\n",
       "    }\n",
       "\n",
       "    .dataframe tbody tr th {\n",
       "        vertical-align: top;\n",
       "    }\n",
       "\n",
       "    .dataframe thead th {\n",
       "        text-align: right;\n",
       "    }\n",
       "</style>\n",
       "<table border=\"1\" class=\"dataframe\">\n",
       "  <thead>\n",
       "    <tr style=\"text-align: right;\">\n",
       "      <th></th>\n",
       "      <th>Age</th>\n",
       "      <th>Experience</th>\n",
       "      <th>Income</th>\n",
       "      <th>Family</th>\n",
       "      <th>CCAvg</th>\n",
       "      <th>Education</th>\n",
       "      <th>Mortgage</th>\n",
       "      <th>Personal Loan</th>\n",
       "      <th>Securities Account</th>\n",
       "      <th>CD Account</th>\n",
       "      <th>Online</th>\n",
       "      <th>CreditCard</th>\n",
       "    </tr>\n",
       "  </thead>\n",
       "  <tbody>\n",
       "    <tr>\n",
       "      <th>0</th>\n",
       "      <td>25</td>\n",
       "      <td>1</td>\n",
       "      <td>49</td>\n",
       "      <td>4</td>\n",
       "      <td>1.6</td>\n",
       "      <td>1</td>\n",
       "      <td>0</td>\n",
       "      <td>0</td>\n",
       "      <td>1</td>\n",
       "      <td>0</td>\n",
       "      <td>0</td>\n",
       "      <td>0</td>\n",
       "    </tr>\n",
       "    <tr>\n",
       "      <th>1</th>\n",
       "      <td>45</td>\n",
       "      <td>19</td>\n",
       "      <td>34</td>\n",
       "      <td>3</td>\n",
       "      <td>1.5</td>\n",
       "      <td>1</td>\n",
       "      <td>0</td>\n",
       "      <td>0</td>\n",
       "      <td>1</td>\n",
       "      <td>0</td>\n",
       "      <td>0</td>\n",
       "      <td>0</td>\n",
       "    </tr>\n",
       "    <tr>\n",
       "      <th>2</th>\n",
       "      <td>39</td>\n",
       "      <td>15</td>\n",
       "      <td>11</td>\n",
       "      <td>1</td>\n",
       "      <td>1.0</td>\n",
       "      <td>1</td>\n",
       "      <td>0</td>\n",
       "      <td>0</td>\n",
       "      <td>0</td>\n",
       "      <td>0</td>\n",
       "      <td>0</td>\n",
       "      <td>0</td>\n",
       "    </tr>\n",
       "    <tr>\n",
       "      <th>3</th>\n",
       "      <td>35</td>\n",
       "      <td>9</td>\n",
       "      <td>100</td>\n",
       "      <td>1</td>\n",
       "      <td>2.7</td>\n",
       "      <td>2</td>\n",
       "      <td>0</td>\n",
       "      <td>0</td>\n",
       "      <td>0</td>\n",
       "      <td>0</td>\n",
       "      <td>0</td>\n",
       "      <td>0</td>\n",
       "    </tr>\n",
       "    <tr>\n",
       "      <th>4</th>\n",
       "      <td>35</td>\n",
       "      <td>8</td>\n",
       "      <td>45</td>\n",
       "      <td>4</td>\n",
       "      <td>1.0</td>\n",
       "      <td>2</td>\n",
       "      <td>0</td>\n",
       "      <td>0</td>\n",
       "      <td>0</td>\n",
       "      <td>0</td>\n",
       "      <td>0</td>\n",
       "      <td>1</td>\n",
       "    </tr>\n",
       "  </tbody>\n",
       "</table>\n",
       "</div>"
      ],
      "text/plain": [
       "   Age  Experience  Income  Family  CCAvg  Education  Mortgage  Personal Loan  \\\n",
       "0   25           1      49       4    1.6          1         0              0   \n",
       "1   45          19      34       3    1.5          1         0              0   \n",
       "2   39          15      11       1    1.0          1         0              0   \n",
       "3   35           9     100       1    2.7          2         0              0   \n",
       "4   35           8      45       4    1.0          2         0              0   \n",
       "\n",
       "   Securities Account  CD Account  Online  CreditCard  \n",
       "0                   1           0       0           0  \n",
       "1                   1           0       0           0  \n",
       "2                   0           0       0           0  \n",
       "3                   0           0       0           0  \n",
       "4                   0           0       0           1  "
      ]
     },
     "execution_count": 71,
     "metadata": {},
     "output_type": "execute_result"
    }
   ],
   "source": [
    "# 카피본 떠놓고 시작하기\n",
    "loan = loan_origin.copy()\n",
    "loan.drop(['ID', 'ZIP Code'], axis=1, inplace=True)\n",
    "loan.head()"
   ]
  },
  {
   "cell_type": "markdown",
   "id": "37c605df",
   "metadata": {},
   "source": [
    "## 데이터 준비 (독립변수와 종속변수 분리)\n",
    "- 종속변수 : 'Personal Loan'\n",
    "- 독립변수 : 나머지"
   ]
  },
  {
   "cell_type": "code",
   "execution_count": 72,
   "id": "a5be508e",
   "metadata": {},
   "outputs": [
    {
     "name": "stdout",
     "output_type": "stream",
     "text": [
      "0    4520\n",
      "1     480\n",
      "Name: Personal Loan, dtype: int64\n"
     ]
    }
   ],
   "source": [
    "x = loan.drop('Personal Loan', axis=1)\n",
    "y = loan['Personal Loan']\n",
    "print(y.value_counts()) # y의 유니크값 분포 보기"
   ]
  },
  {
   "cell_type": "markdown",
   "id": "0e1c2185",
   "metadata": {},
   "source": [
    "## 학습 / 평가용 데이터 분할"
   ]
  },
  {
   "cell_type": "code",
   "execution_count": 87,
   "id": "7d327d7a",
   "metadata": {},
   "outputs": [
    {
     "data": {
      "text/plain": [
       "((3500, 11), (3500,), (1500, 11), (1500,))"
      ]
     },
     "execution_count": 87,
     "metadata": {},
     "output_type": "execute_result"
    }
   ],
   "source": [
    "from sklearn.model_selection import train_test_split # 학습/평가용 분할\n",
    "\n",
    "x_train, x_test, y_train, y_test = train_test_split(x, y,\n",
    "                                                    test_size=0.3,\n",
    "                                                    stratify=y)\n",
    "# stratify=y : 분류마다 1:1 비율에 따라 추출해야하므로 분류데이터에서는 무조건사용해야함\n",
    "# 랜덤하게 데이터를 가져오다보니 아래의 학습 결과는 다를 수 있음\n",
    "x_train.shape, y_train.shape, x_test.shape, y_test.shape"
   ]
  },
  {
   "cell_type": "markdown",
   "id": "c0ce2611",
   "metadata": {},
   "source": [
    "## 모델 생성 및 학습\n",
    "**로지스틱 회귀계수의 해석**\n",
    "- 로지스틱 모델에서는 분류의 기준이 확률값으로 만들어지다보니 선형회귀식을 시그모이드함수로 만들기 위해 y값을 odds에 log함수를 취해 변환하여 만들었다.\n",
    "- 따라서 로지스틱 회귀계수에서 지수변환 (exp()을 각각의 가중치에 취함)을 해주면 다시 odds비가 나오므로 각 가중치가 의미하는 바를 명확히 알 수 있다.\n",
    "- odd비 = 성공 확률 / 실패 확률\n",
    "- 대출여부에 영향을 미치는 A 변수(ex. 교육수준)의 오즈비가 1보다 큰 경우, 대출 승인 확률이 높다는 의미\n",
    "- 만약 오즈비가 1이라면 대출 거부 확률과 대출 승인 확률이 비슷하다는 의미\n",
    "- 만약 오즈비가 5라면 대출 거부 확률보다 대출 승인 확률이 5배 높다는 의미"
   ]
  },
  {
   "cell_type": "code",
   "execution_count": 88,
   "id": "12dc597b",
   "metadata": {
    "scrolled": true
   },
   "outputs": [
    {
     "name": "stdout",
     "output_type": "stream",
     "text": [
      "추정계수(가중치):  [-0.04  0.05  0.05  0.71  0.13  1.72  0.   -0.42  3.07 -0.66 -0.78]\n",
      "                         가중치      Odds비\n",
      "Age                -0.039484   0.961286\n",
      "Experience          0.053316   1.054763\n",
      "Income              0.054253   1.055752\n",
      "Family              0.709582   2.033142\n",
      "CCAvg               0.133849   1.143220\n",
      "Education           1.721383   5.592258\n",
      "Mortgage            0.000366   1.000366\n",
      "Securities Account -0.416448   0.659385\n",
      "CD Account          3.074974  21.649315\n",
      "Online             -0.661919   0.515860\n",
      "CreditCard         -0.777025   0.459772\n",
      "절편:  [-12.61]\n"
     ]
    }
   ],
   "source": [
    "from sklearn.linear_model import LogisticRegression # 로지스틱 모델\n",
    "\n",
    "model = LogisticRegression(max_iter=2000) # max_iter=2000 : 반복학습 횟수\n",
    "model.fit(x_train, y_train)\n",
    "\n",
    "coef = model.coef_.squeeze(axis=0)\n",
    "print('추정계수(가중치): ', coef) # 각 컬럼(독립변수)마다의 가중치\n",
    "# suqeeze : 2차원 행렬 (1,13) -> 1차원 벡터 (13,) : 행 축을 없애야하므로 axis=0\n",
    "\n",
    "# 현재 종속변수 y는 확률분포 값이므로 (-int, inf) 지수변환을 하면 odds비가 나옴.\n",
    "# 성공 = 대출 승인 / 실패 = 대출 거부\n",
    "# 각 feature마다 대출 승인 받는데에 있어서 대출승인/대출거부 비율이 얼마나 영향을 미치는지 알 수 있다.\n",
    "odds_rate = np.exp(model.coef_).squeeze(axis=0) # 가중치에 지수함수 씌운 것 \n",
    "coef_df = pd.DataFrame({'가중치': coef, 'Odds비':odds_rate}, index=x.columns)\n",
    "print(coef_df)\n",
    "\n",
    "# odds비가 1보다 큰 경우에는 대출 승인 확률이 높다는 의미\n",
    "# odds비가 5인 경우에는 대출 승인 확률이 대출 거부 확률의 5배라는 의미\n",
    "# Age 0.91170 : 나이가 커질수록 대출 거절 확률이 높다.\n",
    "# Education 5.815160 :교육수준이 커질수록 대출 승인 확률이 높다.\n",
    "\n",
    "print('절편: ', model.intercept_)"
   ]
  },
  {
   "cell_type": "markdown",
   "id": "146f9a98",
   "metadata": {},
   "source": [
    "## 모델 예측"
   ]
  },
  {
   "cell_type": "code",
   "execution_count": 89,
   "id": "8236eb87",
   "metadata": {
    "scrolled": true
   },
   "outputs": [
    {
     "name": "stdout",
     "output_type": "stream",
     "text": [
      "예측값:  [0 0 0 0 0 0 0 0 0 0 0 0 0 0 0 0 0 0 0 0]\n",
      "실제값:  [0 0 0 0 0 0 0 0 0 0 0 0 0 0 0 1 0 0 0 0]\n"
     ]
    }
   ],
   "source": [
    "y_hat = model.predict(x_test)\n",
    "print('예측값: ', y_hat[:20])\n",
    "print('실제값: ', y_test.values[:20]) # values : Series -> 값만 출력하기 위함"
   ]
  },
  {
   "cell_type": "markdown",
   "id": "1806e8d9",
   "metadata": {},
   "source": [
    "## 모델 성능 측정 및 평가"
   ]
  },
  {
   "cell_type": "code",
   "execution_count": 93,
   "id": "e1a45b37",
   "metadata": {},
   "outputs": [
    {
     "data": {
      "text/html": [
       "<div>\n",
       "<style scoped>\n",
       "    .dataframe tbody tr th:only-of-type {\n",
       "        vertical-align: middle;\n",
       "    }\n",
       "\n",
       "    .dataframe tbody tr th {\n",
       "        vertical-align: top;\n",
       "    }\n",
       "\n",
       "    .dataframe thead tr th {\n",
       "        text-align: left;\n",
       "    }\n",
       "</style>\n",
       "<table border=\"1\" class=\"dataframe\">\n",
       "  <thead>\n",
       "    <tr>\n",
       "      <th></th>\n",
       "      <th></th>\n",
       "      <th colspan=\"2\" halign=\"left\">predict</th>\n",
       "    </tr>\n",
       "    <tr>\n",
       "      <th></th>\n",
       "      <th></th>\n",
       "      <th>대출 불허(0)</th>\n",
       "      <th>대출 승인(1)</th>\n",
       "    </tr>\n",
       "  </thead>\n",
       "  <tbody>\n",
       "    <tr>\n",
       "      <th rowspan=\"2\" valign=\"top\">actual</th>\n",
       "      <th>대출 불허(0)</th>\n",
       "      <td>1334</td>\n",
       "      <td>22</td>\n",
       "    </tr>\n",
       "    <tr>\n",
       "      <th>대출 승인(1)</th>\n",
       "      <td>48</td>\n",
       "      <td>96</td>\n",
       "    </tr>\n",
       "  </tbody>\n",
       "</table>\n",
       "</div>"
      ],
      "text/plain": [
       "                 predict         \n",
       "                대출 불허(0) 대출 승인(1)\n",
       "actual 대출 불허(0)     1334       22\n",
       "       대출 승인(1)       48       96"
      ]
     },
     "metadata": {},
     "output_type": "display_data"
    }
   ],
   "source": [
    "cf = confusion_matrix(y_test, y_hat)\n",
    "cf_df = pd.DataFrame(cf, columns=[['predict', 'predict'],['대출 불허(0)', '대출 승인(1)']], index=[['actual', 'actual'],['대출 불허(0)', '대출 승인(1)']])\n",
    "# 이중 리스트를 이용한 멀티 인덱스 지정\n",
    "display(cf_df)\n",
    "\n",
    "# Confusion Matrix (혼동행렬 함수)\n",
    "# 양성과 음성의 구분은 별도의 레이블을 지정하지 않으면 레이블 값의 정렬된 순서로 사용한다.\n",
    "# label값(y값)이 0과 1으로 정렬되어있으므로, 0을 negative 대출 불가능으로 1을 positive 대출 가능으로 쓴다. (원래도 0 neg 대출 불가능 / 1 pos 대출 가능)"
   ]
  },
  {
   "cell_type": "code",
   "execution_count": 53,
   "id": "39c046ad",
   "metadata": {},
   "outputs": [],
   "source": [
    "from sklearn.metrics import accuracy_score, precision_score, recall_score, roc_curve, roc_auc_score, confusion_matrix, plot_roc_curve\n",
    "# 성능 평가 roc_curve : 커브 그리기 / roc_auc_score : 면적 구하기 / confusion_matrix : 혼동행렬 / plot_roc_curve : 커브 그래프 그리기\n",
    "np.set_printoptions(suppress=True, precision=2)\n",
    "# 정밀도를 소수점 세 자리까지 보여줌\n"
   ]
  },
  {
   "cell_type": "code",
   "execution_count": null,
   "id": "a10ba6ac",
   "metadata": {},
   "outputs": [],
   "source": [
    "print(f'정확도: {accuracy_score(y_test, y_hat):.3f}') # (TN+TP) / (전체)\n",
    "print(f'정밀도: {precision_score(y_test, y_hat):.3f}') # TP / (FP+TP)"
   ]
  },
  {
   "cell_type": "code",
   "execution_count": 95,
   "id": "113e475c",
   "metadata": {},
   "outputs": [
    {
     "data": {
      "image/png": "[encoded data removed]",
      "text/plain": [
       "<Figure size 640x480 with 1 Axes>"
      ]
     },
     "metadata": {},
     "output_type": "display_data"
    }
   ],
   "source": [
    "# 시각화\n",
    "import matplotlib.pyplot as plt\n",
    "\n",
    "fpr, tpr, thresholds = roc_curve(y_test, model.predict_proba(x_test)[:, 1])\n",
    "# roc_curve : 임계값에 따른 거짓양성률, 참양성률을 반환\n",
    "# model.predict_proba(x_test)[:, 1] # 모든 행의 1열 (positive만 슬라이싱한 것)\n",
    "# y_hat(예측값)이 아닌 positive로 예측한 확률값을 전달\n",
    "plt.plot(fpr, tpr)\n",
    "plt.xlabel('False Positive Rate')\n",
    "plt.ylabel('True Positive Rate')\n",
    "plt.show()"
   ]
  },
  {
   "cell_type": "code",
   "execution_count": 96,
   "id": "c9fe5198",
   "metadata": {
    "scrolled": true
   },
   "outputs": [
    {
     "name": "stdout",
     "output_type": "stream",
     "text": [
      "AUC:0.957\n"
     ]
    }
   ],
   "source": [
    "# 수치 확인 : roc_auc_score\n",
    "auc = roc_auc_score(y_test, model.predict_proba(x_test)[:, 1])\n",
    "print(f'AUC:{auc:.3f}')\n",
    "# 첫 번째 매개변수 : y_test : 실제값을 전달하는 것은 동일\n",
    "# 두 번째 매개변수 :  : y_hat(예측값)이 아닌 positive로 예측한 확률값을 전달\n",
    "\n",
    "# AUC:0.957 : 1에 가까우므로 좌측 상단 꼭짓점을 가득채운 직사각형 모형의 커브 곡선이 생긴 것"
   ]
  },
  {
   "cell_type": "markdown",
   "id": "485eb3c3",
   "metadata": {},
   "source": [
    "## 교차검증"
   ]
  },
  {
   "cell_type": "code",
   "execution_count": 105,
   "id": "8d83b24f",
   "metadata": {},
   "outputs": [
    {
     "data": {
      "text/plain": [
       "dict_keys(['explained_variance', 'r2', 'max_error', 'neg_median_absolute_error', 'neg_mean_absolute_error', 'neg_mean_absolute_percentage_error', 'neg_mean_squared_error', 'neg_mean_squared_log_error', 'neg_root_mean_squared_error', 'neg_mean_poisson_deviance', 'neg_mean_gamma_deviance', 'accuracy', 'top_k_accuracy', 'roc_auc', 'roc_auc_ovr', 'roc_auc_ovo', 'roc_auc_ovr_weighted', 'roc_auc_ovo_weighted', 'balanced_accuracy', 'average_precision', 'neg_log_loss', 'neg_brier_score', 'adjusted_rand_score', 'rand_score', 'homogeneity_score', 'completeness_score', 'v_measure_score', 'mutual_info_score', 'adjusted_mutual_info_score', 'normalized_mutual_info_score', 'fowlkes_mallows_score', 'precision', 'precision_macro', 'precision_micro', 'precision_samples', 'precision_weighted', 'recall', 'recall_macro', 'recall_micro', 'recall_samples', 'recall_weighted', 'f1', 'f1_macro', 'f1_micro', 'f1_samples', 'f1_weighted', 'jaccard', 'jaccard_macro', 'jaccard_micro', 'jaccard_samples', 'jaccard_weighted'])"
      ]
     },
     "execution_count": 105,
     "metadata": {},
     "output_type": "execute_result"
    }
   ],
   "source": [
    "# 평가지표 종류 알아보기\n",
    "import sklearn\n",
    "sklearn.metrics.SCORERS.keys()"
   ]
  },
  {
   "cell_type": "code",
   "execution_count": 109,
   "id": "d7b5decc",
   "metadata": {
    "scrolled": false
   },
   "outputs": [
    {
     "name": "stdout",
     "output_type": "stream",
     "text": [
      "평가지표:  fit_time\n",
      "평균값: 0.45\n",
      "------------------------------\n",
      "평가지표:  score_time\n",
      "평균값: 0.00\n",
      "------------------------------\n",
      "평가지표:  test_accuracy\n",
      "평균값: 0.95\n",
      "------------------------------\n",
      "평가지표:  test_precision\n",
      "평균값: 0.81\n",
      "------------------------------\n",
      "평가지표:  test_roc_auc\n",
      "평균값: 0.96\n",
      "------------------------------\n"
     ]
    }
   ],
   "source": [
    "# 분류문제니까 StratifiedKFold 써도 되고, 간단하게 cross_validate 써도 됨\n",
    "from sklearn.model_selection import cross_val_score, cross_validate\n",
    "\n",
    "# cross_validate() : cross_val_score()와 유사\n",
    "# 차이점1 : 매 검증마다 소요된 학습 시간과 검증 시간을 딕셔너리로 반환한다.\n",
    "# 차이점2 : 여러가지 평가지표를 리스트 형태로 전달 가능 (회귀모델의 평가지표에 MAE, RMSE, R스퀘어가 있듯이, 분류모델의 평가지표에는 정확도, 정밀도, AUC, F1 등이 있다)\n",
    "\n",
    "model = LogisticRegression(max_iter=2000) # max_iter=2000 : 반복학습 횟수\n",
    "model.fit(x_train, y_train)\n",
    "\n",
    "scores = cross_validate(model, x, y, cv=10, scoring=['accuracy', 'precision', 'roc_auc'])\n",
    "# cv : 교차검증 횟수 (DEFAULT는 5회)\n",
    "# scoring : 평가지표의 이름을 리스트로 전달\n",
    "# accuracy 정확도 / precision 정밀도 / roc_auc\n",
    "# 결과가 딕셔너리 형태로 넘어온다.\n",
    "\n",
    "\n",
    "for key, val in scores.items():\n",
    "    # 딕셔너리 객체로 반환된 result를 items 함수를 통해 key와 value를 모두 받기\n",
    "    print('평가지표: ', key)\n",
    "    print(f'평균값: {np.mean(val):.2f}')\n",
    "    # 교차검증마다의 평가지표가 아닌 전체 평가지표의 평균만 알면 되니까\n",
    "    print('-'*30)\n",
    "\n",
    "# fit_time : 학습시간\n",
    "# score_time : 검증시간\n",
    "# 나머지 : 1에 가까울 수록 좋다."
   ]
  },
  {
   "cell_type": "code",
   "execution_count": null,
   "id": "fb6d9e4b",
   "metadata": {},
   "outputs": [],
   "source": [
    "# self) StratifiedKFold 쓴다면?"
   ]
  },
  {
   "cell_type": "code",
   "execution_count": 104,
   "id": "91d059b2",
   "metadata": {},
   "outputs": [],
   "source": [
    "from sklearn.model_selection import KFold, StratifiedKFold # 교차검증\n",
    "from sklearn.model_selection import train_test_split, cross_val_score, cross_validate # cross_val_score, cross_validate : 교차검증 함수\n",
    "from sklearn.tree import DecisionTreeClassifier # 분류 문제를 해결하기 위한 모델 객체 (Linear Regression과 비슷한 것)\n",
    "from sklearn.metrics import accuracy_score # 분류 모델 성능 측정용 : 분류 문제 관련한 모형들에 대한 검증 방법 중 하나가 얼마나 분류를 잘 했는지를 보는 것임"
   ]
  },
  {
   "cell_type": "code",
   "execution_count": 100,
   "id": "9416e8e3",
   "metadata": {},
   "outputs": [
    {
     "name": "stdout",
     "output_type": "stream",
     "text": [
      "1번째 검증 데이터 세트\n",
      "Train:  [1000 1001 1002 ... 4997 4998 4999]\n",
      "Test:  [  0   1   2   3   4   5   6   7   8   9  10  11  12  13  14  15  16  17\n",
      "  18  19  20  21  22  23  24  25  26  27  28  29  30  31  32  33  34  35\n",
      "  36  37  38  39  40  41  42  43  44  45  46  47  48  49  50  51  52  53\n",
      "  54  55  56  57  58  59  60  61  62  63  64  65  66  67  68  69  70  71\n",
      "  72  73  74  75  76  77  78  79  80  81  82  83  84  85  86  87  88  89\n",
      "  90  91  92  93  94  95  96  97  98  99 100 101 102 103 104 105 106 107\n",
      " 108 109 110 111 112 113 114 115 116 117 118 119 120 121 122 123 124 125\n",
      " 126 127 128 129 130 131 132 133 134 135 136 137 138 139 140 141 142 143\n",
      " 144 145 146 147 148 149 150 151 152 153 154 155 156 157 158 159 160 161\n",
      " 162 163 164 165 166 167 168 169 170 171 172 173 174 175 176 177 178 179\n",
      " 180 181 182 183 184 185 186 187 188 189 190 191 192 193 194 195 196 197\n",
      " 198 199 200 201 202 203 204 205 206 207 208 209 210 211 212 213 214 215\n",
      " 216 217 218 219 220 221 222 223 224 225 226 227 228 229 230 231 232 233\n",
      " 234 235 236 237 238 239 240 241 242 243 244 245 246 247 248 249 250 251\n",
      " 252 253 254 255 256 257 258 259 260 261 262 263 264 265 266 267 268 269\n",
      " 270 271 272 273 274 275 276 277 278 279 280 281 282 283 284 285 286 287\n",
      " 288 289 290 291 292 293 294 295 296 297 298 299 300 301 302 303 304 305\n",
      " 306 307 308 309 310 311 312 313 314 315 316 317 318 319 320 321 322 323\n",
      " 324 325 326 327 328 329 330 331 332 333 334 335 336 337 338 339 340 341\n",
      " 342 343 344 345 346 347 348 349 350 351 352 353 354 355 356 357 358 359\n",
      " 360 361 362 363 364 365 366 367 368 369 370 371 372 373 374 375 376 377\n",
      " 378 379 380 381 382 383 384 385 386 387 388 389 390 391 392 393 394 395\n",
      " 396 397 398 399 400 401 402 403 404 405 406 407 408 409 410 411 412 413\n",
      " 414 415 416 417 418 419 420 421 422 423 424 425 426 427 428 429 430 431\n",
      " 432 433 434 435 436 437 438 439 440 441 442 443 444 445 446 447 448 449\n",
      " 450 451 452 453 454 455 456 457 458 459 460 461 462 463 464 465 466 467\n",
      " 468 469 470 471 472 473 474 475 476 477 478 479 480 481 482 483 484 485\n",
      " 486 487 488 489 490 491 492 493 494 495 496 497 498 499 500 501 502 503\n",
      " 504 505 506 507 508 509 510 511 512 513 514 515 516 517 518 519 520 521\n",
      " 522 523 524 525 526 527 528 529 530 531 532 533 534 535 536 537 538 539\n",
      " 540 541 542 543 544 545 546 547 548 549 550 551 552 553 554 555 556 557\n",
      " 558 559 560 561 562 563 564 565 566 567 568 569 570 571 572 573 574 575\n",
      " 576 577 578 579 580 581 582 583 584 585 586 587 588 589 590 591 592 593\n",
      " 594 595 596 597 598 599 600 601 602 603 604 605 606 607 608 609 610 611\n",
      " 612 613 614 615 616 617 618 619 620 621 622 623 624 625 626 627 628 629\n",
      " 630 631 632 633 634 635 636 637 638 639 640 641 642 643 644 645 646 647\n",
      " 648 649 650 651 652 653 654 655 656 657 658 659 660 661 662 663 664 665\n",
      " 666 667 668 669 670 671 672 673 674 675 676 677 678 679 680 681 682 683\n",
      " 684 685 686 687 688 689 690 691 692 693 694 695 696 697 698 699 700 701\n",
      " 702 703 704 705 706 707 708 709 710 711 712 713 714 715 716 717 718 719\n",
      " 720 721 722 723 724 725 726 727 728 729 730 731 732 733 734 735 736 737\n",
      " 738 739 740 741 742 743 744 745 746 747 748 749 750 751 752 753 754 755\n",
      " 756 757 758 759 760 761 762 763 764 765 766 767 768 769 770 771 772 773\n",
      " 774 775 776 777 778 779 780 781 782 783 784 785 786 787 788 789 790 791\n",
      " 792 793 794 795 796 797 798 799 800 801 802 803 804 805 806 807 808 809\n",
      " 810 811 812 813 814 815 816 817 818 819 820 821 822 823 824 825 826 827\n",
      " 828 829 830 831 832 833 834 835 836 837 838 839 840 841 842 843 844 845\n",
      " 846 847 848 849 850 851 852 853 854 855 856 857 858 859 860 861 862 863\n",
      " 864 865 866 867 868 869 870 871 872 873 874 875 876 877 878 879 880 881\n",
      " 882 883 884 885 886 887 888 889 890 891 892 893 894 895 896 897 898 899\n",
      " 900 901 902 903 904 905 906 907 908 909 910 911 912 913 914 915 916 917\n",
      " 918 919 920 921 922 923 924 925 926 927 928 929 930 931 932 933 934 935\n",
      " 936 937 938 939 940 941 942 943 944 945 946 947 948 949 950 951 952 953\n",
      " 954 955 956 957 958 959 960 961 962 963 964 965 966 967 968 969 970 971\n",
      " 972 973 974 975 976 977 978 979 980 981 982 983 984 985 986 987 988 989\n",
      " 990 991 992 993 994 995 996 997 998 999]\n"
     ]
    },
    {
     "ename": "KeyError",
     "evalue": "\"None of [Int64Index([1000, 1001, 1002, 1003, 1004, 1005, 1006, 1007, 1008, 1009,\\n            ...\\n            4990, 4991, 4992, 4993, 4994, 4995, 4996, 4997, 4998, 4999],\\n           dtype='int64', length=4000)] are in the [columns]\"",
     "output_type": "error",
     "traceback": [
      "\u001b[1;31m---------------------------------------------------------------------------\u001b[0m",
      "\u001b[1;31mKeyError\u001b[0m                                  Traceback (most recent call last)",
      "\u001b[1;32m~\\AppData\\Local\\Temp\\ipykernel_8256\\2213252387.py\u001b[0m in \u001b[0;36m<module>\u001b[1;34m\u001b[0m\n\u001b[0;32m     23\u001b[0m     \u001b[0mprint\u001b[0m\u001b[1;33m(\u001b[0m\u001b[1;34m'Test: '\u001b[0m\u001b[1;33m,\u001b[0m \u001b[0mtest_index\u001b[0m\u001b[1;33m)\u001b[0m\u001b[1;33m\u001b[0m\u001b[1;33m\u001b[0m\u001b[0m\n\u001b[0;32m     24\u001b[0m     \u001b[1;31m# 학습 데이터와 평가 데이터를 분할하여 가져오기\u001b[0m\u001b[1;33m\u001b[0m\u001b[1;33m\u001b[0m\u001b[0m\n\u001b[1;32m---> 25\u001b[1;33m     \u001b[0mx_train\u001b[0m\u001b[1;33m,\u001b[0m \u001b[0mx_test\u001b[0m \u001b[1;33m=\u001b[0m \u001b[0mx\u001b[0m\u001b[1;33m[\u001b[0m\u001b[0mtrain_index\u001b[0m\u001b[1;33m]\u001b[0m\u001b[1;33m,\u001b[0m \u001b[0mx\u001b[0m\u001b[1;33m[\u001b[0m\u001b[0mtest_index\u001b[0m\u001b[1;33m]\u001b[0m \u001b[1;31m# 실제 데이터에 인덱싱\u001b[0m\u001b[1;33m\u001b[0m\u001b[1;33m\u001b[0m\u001b[0m\n\u001b[0m\u001b[0;32m     26\u001b[0m     \u001b[0my_train\u001b[0m\u001b[1;33m,\u001b[0m \u001b[0my_test\u001b[0m \u001b[1;33m=\u001b[0m \u001b[0my\u001b[0m\u001b[1;33m[\u001b[0m\u001b[0mtrain_index\u001b[0m\u001b[1;33m]\u001b[0m\u001b[1;33m,\u001b[0m \u001b[0my\u001b[0m\u001b[1;33m[\u001b[0m\u001b[0mtest_index\u001b[0m\u001b[1;33m]\u001b[0m \u001b[1;31m# 실제 데이터에 인덱싱\u001b[0m\u001b[1;33m\u001b[0m\u001b[1;33m\u001b[0m\u001b[0m\n\u001b[0;32m     27\u001b[0m \u001b[1;33m\u001b[0m\u001b[0m\n",
      "\u001b[1;32m~\\anaconda3\\lib\\site-packages\\pandas\\core\\frame.py\u001b[0m in \u001b[0;36m__getitem__\u001b[1;34m(self, key)\u001b[0m\n\u001b[0;32m   3509\u001b[0m             \u001b[1;32mif\u001b[0m \u001b[0mis_iterator\u001b[0m\u001b[1;33m(\u001b[0m\u001b[0mkey\u001b[0m\u001b[1;33m)\u001b[0m\u001b[1;33m:\u001b[0m\u001b[1;33m\u001b[0m\u001b[1;33m\u001b[0m\u001b[0m\n\u001b[0;32m   3510\u001b[0m                 \u001b[0mkey\u001b[0m \u001b[1;33m=\u001b[0m \u001b[0mlist\u001b[0m\u001b[1;33m(\u001b[0m\u001b[0mkey\u001b[0m\u001b[1;33m)\u001b[0m\u001b[1;33m\u001b[0m\u001b[1;33m\u001b[0m\u001b[0m\n\u001b[1;32m-> 3511\u001b[1;33m             \u001b[0mindexer\u001b[0m \u001b[1;33m=\u001b[0m \u001b[0mself\u001b[0m\u001b[1;33m.\u001b[0m\u001b[0mcolumns\u001b[0m\u001b[1;33m.\u001b[0m\u001b[0m_get_indexer_strict\u001b[0m\u001b[1;33m(\u001b[0m\u001b[0mkey\u001b[0m\u001b[1;33m,\u001b[0m \u001b[1;34m\"columns\"\u001b[0m\u001b[1;33m)\u001b[0m\u001b[1;33m[\u001b[0m\u001b[1;36m1\u001b[0m\u001b[1;33m]\u001b[0m\u001b[1;33m\u001b[0m\u001b[1;33m\u001b[0m\u001b[0m\n\u001b[0m\u001b[0;32m   3512\u001b[0m \u001b[1;33m\u001b[0m\u001b[0m\n\u001b[0;32m   3513\u001b[0m         \u001b[1;31m# take() does not accept boolean indexers\u001b[0m\u001b[1;33m\u001b[0m\u001b[1;33m\u001b[0m\u001b[0m\n",
      "\u001b[1;32m~\\anaconda3\\lib\\site-packages\\pandas\\core\\indexes\\base.py\u001b[0m in \u001b[0;36m_get_indexer_strict\u001b[1;34m(self, key, axis_name)\u001b[0m\n\u001b[0;32m   5794\u001b[0m             \u001b[0mkeyarr\u001b[0m\u001b[1;33m,\u001b[0m \u001b[0mindexer\u001b[0m\u001b[1;33m,\u001b[0m \u001b[0mnew_indexer\u001b[0m \u001b[1;33m=\u001b[0m \u001b[0mself\u001b[0m\u001b[1;33m.\u001b[0m\u001b[0m_reindex_non_unique\u001b[0m\u001b[1;33m(\u001b[0m\u001b[0mkeyarr\u001b[0m\u001b[1;33m)\u001b[0m\u001b[1;33m\u001b[0m\u001b[1;33m\u001b[0m\u001b[0m\n\u001b[0;32m   5795\u001b[0m \u001b[1;33m\u001b[0m\u001b[0m\n\u001b[1;32m-> 5796\u001b[1;33m         \u001b[0mself\u001b[0m\u001b[1;33m.\u001b[0m\u001b[0m_raise_if_missing\u001b[0m\u001b[1;33m(\u001b[0m\u001b[0mkeyarr\u001b[0m\u001b[1;33m,\u001b[0m \u001b[0mindexer\u001b[0m\u001b[1;33m,\u001b[0m \u001b[0maxis_name\u001b[0m\u001b[1;33m)\u001b[0m\u001b[1;33m\u001b[0m\u001b[1;33m\u001b[0m\u001b[0m\n\u001b[0m\u001b[0;32m   5797\u001b[0m \u001b[1;33m\u001b[0m\u001b[0m\n\u001b[0;32m   5798\u001b[0m         \u001b[0mkeyarr\u001b[0m \u001b[1;33m=\u001b[0m \u001b[0mself\u001b[0m\u001b[1;33m.\u001b[0m\u001b[0mtake\u001b[0m\u001b[1;33m(\u001b[0m\u001b[0mindexer\u001b[0m\u001b[1;33m)\u001b[0m\u001b[1;33m\u001b[0m\u001b[1;33m\u001b[0m\u001b[0m\n",
      "\u001b[1;32m~\\anaconda3\\lib\\site-packages\\pandas\\core\\indexes\\base.py\u001b[0m in \u001b[0;36m_raise_if_missing\u001b[1;34m(self, key, indexer, axis_name)\u001b[0m\n\u001b[0;32m   5854\u001b[0m                 \u001b[1;32mif\u001b[0m \u001b[0muse_interval_msg\u001b[0m\u001b[1;33m:\u001b[0m\u001b[1;33m\u001b[0m\u001b[1;33m\u001b[0m\u001b[0m\n\u001b[0;32m   5855\u001b[0m                     \u001b[0mkey\u001b[0m \u001b[1;33m=\u001b[0m \u001b[0mlist\u001b[0m\u001b[1;33m(\u001b[0m\u001b[0mkey\u001b[0m\u001b[1;33m)\u001b[0m\u001b[1;33m\u001b[0m\u001b[1;33m\u001b[0m\u001b[0m\n\u001b[1;32m-> 5856\u001b[1;33m                 \u001b[1;32mraise\u001b[0m \u001b[0mKeyError\u001b[0m\u001b[1;33m(\u001b[0m\u001b[1;34mf\"None of [{key}] are in the [{axis_name}]\"\u001b[0m\u001b[1;33m)\u001b[0m\u001b[1;33m\u001b[0m\u001b[1;33m\u001b[0m\u001b[0m\n\u001b[0m\u001b[0;32m   5857\u001b[0m \u001b[1;33m\u001b[0m\u001b[0m\n\u001b[0;32m   5858\u001b[0m             \u001b[0mnot_found\u001b[0m \u001b[1;33m=\u001b[0m \u001b[0mlist\u001b[0m\u001b[1;33m(\u001b[0m\u001b[0mensure_index\u001b[0m\u001b[1;33m(\u001b[0m\u001b[0mkey\u001b[0m\u001b[1;33m)\u001b[0m\u001b[1;33m[\u001b[0m\u001b[0mmissing_mask\u001b[0m\u001b[1;33m.\u001b[0m\u001b[0mnonzero\u001b[0m\u001b[1;33m(\u001b[0m\u001b[1;33m)\u001b[0m\u001b[1;33m[\u001b[0m\u001b[1;36m0\u001b[0m\u001b[1;33m]\u001b[0m\u001b[1;33m]\u001b[0m\u001b[1;33m.\u001b[0m\u001b[0munique\u001b[0m\u001b[1;33m(\u001b[0m\u001b[1;33m)\u001b[0m\u001b[1;33m)\u001b[0m\u001b[1;33m\u001b[0m\u001b[1;33m\u001b[0m\u001b[0m\n",
      "\u001b[1;31mKeyError\u001b[0m: \"None of [Int64Index([1000, 1001, 1002, 1003, 1004, 1005, 1006, 1007, 1008, 1009,\\n            ...\\n            4990, 4991, 4992, 4993, 4994, 4995, 4996, 4997, 4998, 4999],\\n           dtype='int64', length=4000)] are in the [columns]\""
     ]
    }
   ],
   "source": [
    "k_fold = StratifiedKFold(n_splits=5)\n",
    "x = loan.drop('Personal Loan', axis=1)\n",
    "y = loan['Personal Loan']\n",
    "k = 0 # 교차검증 횟수\n",
    "cv_acc = [] # cross validation accuracy : 교차 검증마다의 정확도를 저장하는 리스트\n",
    "\n",
    "model = DecisionTreeClassifier(random_state=1) # 모델 생성\n",
    "# random_state=1 : 의사결정나무(DecisionTreeClassifier)를 생성할 때, 나무에 사용할 샘플 데이터를 추출한다. 이때 랜덤 추출되는 샘플 데이터의 seed 값을 고정한 것\n",
    "\n",
    "for train_index, test_index in k_fold.split(x, y):\n",
    "    # 매개변수에 독립변수 뿐만 아니라 종속변수도 넣어줘야, 모든 데이터를 똑같은 비율로 나눌 수 있다.\n",
    "    # k_fold.split(x, y) : 총 150개의 데이터는 3개 품종이므로 ABC의 그룹이라고 가정하고, 그것을 (n_splits=5이므로) 5개로 나누어 순서대로 abcde그룹이라고 가정해보자 (ABC는 각 50개 / abcde 그룹은 각 10개)\n",
    "    # k=1일 때, A그룹의 a, B그룹의 a, C그룹의 a가 test + 나머지는 train\n",
    "    # k=2일 때, A그룹의 b, B그룹의 b, C그룹의 b가 test + 나머지는 train\n",
    "    # k=3일 때, A그룹의 c, B그룹의 c, C그룹의 c가 test + 나머지는 train\n",
    "    # k=4일 때, A그룹의 d, B그룹의 d, C그룹의 d가 test + 나머지는 train\n",
    "    # k=5일 때, A그룹의 e, B그룹의 e, C그룹의 e가 test + 나머지는 train\n",
    "    \n",
    "    # 각 품종별로 5개로 등분 후 학습/평가 그룹으로 나누어진 데이터들의 인덱스 값을 반환하기\n",
    "    k += 1\n",
    "    print(f'{k}번째 검증 데이터 세트')\n",
    "    print('Train: ', train_index)\n",
    "    print('Test: ', test_index)\n",
    "    # 학습 데이터와 평가 데이터를 분할하여 가져오기\n",
    "    x_train, x_test = x[train_index], x[test_index] # 실제 데이터에 인덱싱 \n",
    "    y_train, y_test = y[train_index], y[test_index] # 실제 데이터에 인덱싱\n",
    "    \n",
    "    model.fit(x_train, y_train) # 모델 학습\n",
    "    y_hat = model.predict(x_test) # 모델 예측\n",
    "    acc = accuracy_score(y_test, y_hat) # 모델 성능 측정 및 평가 : 정확도\n",
    "    print(f'{k}번째 교차 검증 정확도: {acc:.2f}')\n",
    "    cv_acc.append(acc) # 매 교차검증 마다의 평균 정확도를 확인하기 위해 만든 것\n",
    "    print('-'*30)\n",
    "\n",
    "print(f'평균 정확도: {np.mean(cv_acc):.2f}')\n",
    "\n",
    "# stratified k-fold의 평균 정확도가 더 높다!!"
   ]
  },
  {
   "cell_type": "code",
   "execution_count": 103,
   "id": "29a03879",
   "metadata": {
    "scrolled": true
   },
   "outputs": [
    {
     "name": "stdout",
     "output_type": "stream",
     "text": [
      "score:  [0.98 0.98 0.98 0.98 0.98]\n",
      "평균 정확도: 0.98\n"
     ]
    }
   ],
   "source": [
    "# cross_val_score()\n",
    "# estimator : 학습에 사용할 모델 객체를 넣어줌\n",
    "# estimator에 회귀 문제를 해결하기 위한 모델 객체 넣으면 알아서 KFold로 교차검증함\n",
    "# estimator에 분류 문제를 해결하기 위한 모델 객체 넣으면 알아서 StratifiedKFold로 교차검증함\n",
    "# x : 독립변수 데이터 셋\n",
    "# y : 종속변수 데이터 셋\n",
    "# cv : 교차검증 k 값 (default:5) : 분할하고자하는 fold의 개수\n",
    "\n",
    "\n",
    "score = cross_val_score(model, x, y)\n",
    "# cv값 없으므로 DEFAULT인 k=5가 적용됨\n",
    "# model = DecisionTreeClassifier(random_state=1)\n",
    "# DecisionTreeClassifier : 분류 문제를 해결하기 위한 모델 객체 (Linear Regression은 회귀 문제 해결용)\n",
    "# random_state=1 : 의사결정나무(DecisionTreeClassifier)를 생성할 때, 나무에 사용할 샘플 데이터를 추출한다. 이때 랜덤 추출되는 샘플 데이터의 seed 값을 고정한 것\n",
    "print('score: ', score)\n",
    "print(f'평균 정확도: {np.mean(score):.2f}')"
   ]
  },
  {
   "cell_type": "code",
   "execution_count": 102,
   "id": "df4c2daa",
   "metadata": {
    "scrolled": true
   },
   "outputs": [
    {
     "name": "stdout",
     "output_type": "stream",
     "text": [
      "평가지표:  fit_time\n",
      "평균값: 0.00\n",
      "------------------------------\n",
      "평가지표:  score_time\n",
      "평균값: 0.01\n",
      "------------------------------\n",
      "평가지표:  test_accuracy\n",
      "평균값: 0.98\n",
      "------------------------------\n",
      "평가지표:  test_precision_macro\n",
      "평균값: 0.94\n",
      "------------------------------\n",
      "평가지표:  test_roc_auc_ovr\n",
      "평균값: 0.94\n",
      "------------------------------\n"
     ]
    }
   ],
   "source": [
    "# cross_validate() : cross_val_score()와 유사\n",
    "# 차이점1 : 매 검증마다 소요된 학습 시간과 검증 시간을 딕셔너리로 반환한다.\n",
    "# 차이점2 : 여러가지 평가지표를 리스트 형태로 전달 가능 (회귀모델의 평가지표에 MAE, RMSE, R스퀘어가 있듯이, 분류모델의 평가지표에는 정확도, 정밀도, AUC, F1 등이 있다)\n",
    "\n",
    "result = cross_validate(model, x, y, cv=5, scoring=['accuracy', 'precision_macro', 'roc_auc_ovr'])\n",
    "# scoring : 평가지표의 이름을 리스트로 전달\n",
    "# accuracy 정확도 / precision_macro 정밀도 / roc_auc_ovr\n",
    "\n",
    "for key, val in result.items():\n",
    "    # 딕셔너리 객체로 반환된 result를 items 함수를 통해 key와 value를 모두 받기\n",
    "    print('평가지표: ', key)\n",
    "    print(f'평균값: {np.mean(val):.2f}')\n",
    "    print('-'*30)\n",
    "\n",
    "# fit_time : 학습시간\n",
    "# score_time : 검증시간\n",
    "# 나머지 : 1에 가까울 수록 좋다."
   ]
  },
  {
   "cell_type": "markdown",
   "id": "7b8e212d",
   "metadata": {},
   "source": [
    "## 교차검증 결과 모델 저장"
   ]
  },
  {
   "cell_type": "code",
   "execution_count": null,
   "id": "d71b497d",
   "metadata": {},
   "outputs": [],
   "source": [
    "# 실생활 적용하기 : 데이터 분석을 통해 잘 학습 및 튜닝된 모델을 만들어 서비스를 구축한 다음 웹 어플리케이션에 붙이기\n",
    "# 1. 학습이 된 모델을 파일로 저장\n",
    "# 2. 사용자(고객)가 x_test(자기 정보 13개)를 입력\n",
    "# 3. predict 함수를 호출 <y_hat = model.predict(x_test)>\n",
    "# 4. 매개변수인 y_hat(대출 가능 여부)를 반환\n",
    "# 5. 고객은 반환 결과를 통해 대출 가능 여부를 사전에 체크 가능"
   ]
  },
  {
   "cell_type": "code",
   "execution_count": 110,
   "id": "b30ca724",
   "metadata": {},
   "outputs": [
    {
     "data": {
      "text/plain": [
       "['./lr_model.pkl']"
      ]
     },
     "execution_count": 110,
     "metadata": {},
     "output_type": "execute_result"
    }
   ],
   "source": [
    "import joblib # 모델 학습 결과를 pickle 파일로 저장하기 위한 라이브러리\n",
    "\n",
    "joblib.dump(model, './lr_model.pkl')\n",
    "# ./ : 현재 디렉토리\n",
    "# .pkl : 확장자명"
   ]
  },
  {
   "cell_type": "code",
   "execution_count": 111,
   "id": "7bcc875f",
   "metadata": {
    "scrolled": true
   },
   "outputs": [
    {
     "name": "stdout",
     "output_type": "stream",
     "text": [
      "[0 0 0 0 0 0 0 0 0 0]\n"
     ]
    }
   ],
   "source": [
    "loaded_model = joblib.load('./lr_model.pkl')\n",
    "# 모델 예측\n",
    "y_hat = loaded_model.predict(x_test)\n",
    "print(y_hat[:10])"
   ]
  },
  {
   "cell_type": "markdown",
   "id": "9852b5c1",
   "metadata": {},
   "source": [
    "# https://www.kaggle.com/\n",
    "- 지적재산권 저촉되지 않음\n",
    "- 따라서 expired된 옛날 데이터들이 많고, 상업적으로 민감한 정보는 없음"
   ]
  }
 ],
 "metadata": {
  "kernelspec": {
   "display_name": "Python 3 (ipykernel)",
   "language": "python",
   "name": "python3"
  },
  "language_info": {
   "codemirror_mode": {
    "name": "ipython",
    "version": 3
   },
   "file_extension": ".py",
   "mimetype": "text/x-python",
   "name": "python",
   "nbconvert_exporter": "python",
   "pygments_lexer": "ipython3",
   "version": "3.9.13"
  },
  "toc": {
   "base_numbering": 1,
   "nav_menu": {},
   "number_sections": true,
   "sideBar": true,
   "skip_h1_title": false,
   "title_cell": "Table of Contents",
   "title_sidebar": "Contents",
   "toc_cell": false,
   "toc_position": {
    "height": "calc(100% - 180px)",
    "left": "10px",
    "top": "150px",
    "width": "307.167px"
   },
   "toc_section_display": true,
   "toc_window_display": true
  }
 },
 "nbformat": 4,
 "nbformat_minor": 5
}
