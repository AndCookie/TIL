{
 "cells": [
  {
   "cell_type": "markdown",
   "id": "e99958f8",
   "metadata": {},
   "source": [
    "# 육상선수 종목별 기록 데이터"
   ]
  },
  {
   "cell_type": "code",
   "execution_count": 1,
   "id": "8edbd421",
   "metadata": {
    "scrolled": true
   },
   "outputs": [
    {
     "name": "stdout",
     "output_type": "stream",
     "text": [
      "[[ 3.73  1.86 15.8   4.05  7.27 45.66 34.92]\n",
      " [ 3.57  1.8  16.23  2.96  6.71 42.56 37.31]\n",
      " [ 3.22  1.83 14.2   3.51  6.68 44.54 39.23]\n",
      " [ 2.81  1.8  15.23  2.69  6.25 42.78 31.19]\n",
      " [ 2.91  1.74 14.76  2.68  6.32 47.46 35.53]\n",
      " [ 2.67  1.83 13.5   1.96  6.33 42.82 37.64]]\n"
     ]
    }
   ],
   "source": [
    "import numpy as np\n",
    "\n",
    "A = np.array([\n",
    "              [3.73, 1.86, 15.8, 4.05, 7.27, 45.66, 34.92 ],\n",
    "              [3.57, 1.80, 16.23, 2.96, 6.71, 42.56, 37.31],\n",
    "              [3.22, 1.83, 14.20, 3.51, 6.68, 44.54, 39.23],\n",
    "              [2.81, 1.80, 15.23, 2.69, 6.25, 42.78, 31.19],\n",
    "              [2.91, 1.74, 14.76, 2.68, 6.32, 47.46, 35.53],\n",
    "              [2.67, 1.83, 13.50, 1.96, 6.33, 42.82, 37.64]\n",
    "])\n",
    "\n",
    "print(A)\n",
    "# 행 : 선수 : Player-1 / Player-2 / Player-3 / Player-4 / Player-5 / Player-6\n",
    "# 열 : 종목 : 허들 / 높이뛰기 / 투포환 / 200m / 높이뛰기 / 창던지기 / 800m"
   ]
  },
  {
   "cell_type": "markdown",
   "id": "13536590",
   "metadata": {},
   "source": [
    "# 허들 종목 기록 데이터 및 통계지표"
   ]
  },
  {
   "cell_type": "code",
   "execution_count": 2,
   "id": "ca5f935d",
   "metadata": {
    "scrolled": true
   },
   "outputs": [
    {
     "name": "stdout",
     "output_type": "stream",
     "text": [
      "허들 종목 기록 데이터\n",
      "[3.73 3.57 3.22 2.81 2.91 2.67]\n",
      "평균: 3.152\n",
      "분산: 0.154\n",
      "분산: 0.184\n",
      "표준편차: 0.392\n",
      "표준편차: 0.429\n"
     ]
    }
   ],
   "source": [
    "print('허들 종목 기록 데이터')\n",
    "hurdle = A[:,0] # 모든 행의 0번쨰 열\n",
    "print(hurdle)\n",
    "\n",
    "print(f'평균: {np.mean(hurdle):.3f}')\n",
    "\n",
    "print(f'분산: {np.var(hurdle):.3f}')\n",
    "# 모분산 구하는 방식 (분모: 샘플의 개수 n)\n",
    "print(f'분산: {np.var(hurdle, ddof=1):.3f}') # ddof : 자유도\n",
    "# 표본분산 구하는 방식 (분모: 샘플의 개수 n-1)\n",
    "\n",
    "print(f'표준편차: {np.std(hurdle):.3f}')\n",
    "print(f'표준편차: {np.std(hurdle, ddof=1):.3f}')"
   ]
  },
  {
   "cell_type": "markdown",
   "id": "57195057",
   "metadata": {},
   "source": [
    "# 공분산 행렬"
   ]
  },
  {
   "cell_type": "code",
   "execution_count": null,
   "id": "c98a97f2",
   "metadata": {},
   "outputs": [],
   "source": [
    "# 1."
   ]
  },
  {
   "cell_type": "code",
   "execution_count": 14,
   "id": "6d4e19f1",
   "metadata": {},
   "outputs": [],
   "source": [
    "np.set_printoptions(suppress=True, precision=3)\n",
    "# 소수점 세 자리까지 정밀도를 유지"
   ]
  },
  {
   "cell_type": "code",
   "execution_count": 16,
   "id": "b6184225",
   "metadata": {
    "scrolled": false
   },
   "outputs": [
    {
     "name": "stdout",
     "output_type": "stream",
     "text": [
      "['Covariance Matrix']\n",
      "[[ 0.184  0.007  0.325  0.262  0.151  0.109  0.222]\n",
      " [ 0.007  0.002 -0.001  0.014  0.01  -0.029  0.022]\n",
      " [ 0.325 -0.001  1.028  0.388  0.199 -0.026 -1.06 ]\n",
      " [ 0.262  0.014  0.388  0.528  0.244  0.524  0.078]\n",
      " [ 0.151  0.01   0.199  0.244  0.148  0.157  0.21 ]\n",
      " [ 0.109 -0.029 -0.026  0.524  0.157  3.884  0.085]\n",
      " [ 0.222  0.022 -1.06   0.078  0.21   0.085  7.871]]\n"
     ]
    }
   ],
   "source": [
    "# np.cov() : numpy에서 제공하는 공분산 함수\n",
    "print(['Covariance Matrix'])\n",
    "B = np.cov(A, rowvar=False)\n",
    "# A : 위의 행렬 데이터\n",
    "# rowvar : 행이 변수입니까? (DEFUALT : True)\n",
    "# True : 행은 변수 / 열은 각 변수의 관측치 # False : 행은 관측치 / 열은 변수\n",
    "# 현재 행렬 A는 열이 변수이고 각 행이 선수들의 관측치이므로 rowvar=False\n",
    "print(B)\n",
    "\n",
    "# 대각선을 기준으로 대칭행렬\n",
    "# 대각선 : 각 종목의 표본분산 값"
   ]
  },
  {
   "cell_type": "code",
   "execution_count": null,
   "id": "0a2982e1",
   "metadata": {},
   "outputs": [],
   "source": [
    "# 2."
   ]
  },
  {
   "cell_type": "code",
   "execution_count": 25,
   "id": "4dad95c0",
   "metadata": {},
   "outputs": [
    {
     "name": "stdout",
     "output_type": "stream",
     "text": [
      "열평균:  [3.1516666666666673, 1.8099999999999998, 14.953333333333335, 2.9749999999999996, 6.593333333333334, 44.303333333333335, 35.97]\n",
      "열평균:  [ 3.152  1.81  14.953  2.975  6.593 44.303 35.97 ]\n",
      "[[ 0.578  0.05   0.847  1.075  0.677  1.357 -1.05 ]\n",
      " [ 0.418 -0.01   1.277 -0.015  0.117 -1.743  1.34 ]\n",
      " [ 0.068  0.02  -0.753  0.535  0.087  0.237  3.26 ]\n",
      " [-0.342 -0.01   0.277 -0.285 -0.343 -1.523 -4.78 ]\n",
      " [-0.242 -0.07  -0.193 -0.295 -0.273  3.157 -0.44 ]\n",
      " [-0.482  0.02  -1.453 -1.015 -0.263 -1.483  1.67 ]]\n",
      "[[ 0.578  0.418  0.068 -0.342 -0.242 -0.482]\n",
      " [ 0.05  -0.01   0.02  -0.01  -0.07   0.02 ]\n",
      " [ 0.847  1.277 -0.753  0.277 -0.193 -1.453]\n",
      " [ 1.075 -0.015  0.535 -0.285 -0.295 -1.015]\n",
      " [ 0.677  0.117  0.087 -0.343 -0.273 -0.263]\n",
      " [ 1.357 -1.743  0.237 -1.523  3.157 -1.483]\n",
      " [-1.05   1.34   3.26  -4.78  -0.44   1.67 ]]\n",
      "['Covariance Matrix']\n",
      "[[ 0.184  0.007  0.325  0.262  0.151  0.109  0.222]\n",
      " [ 0.007  0.002 -0.001  0.014  0.01  -0.029  0.022]\n",
      " [ 0.325 -0.001  1.028  0.388  0.199 -0.026 -1.06 ]\n",
      " [ 0.262  0.014  0.388  0.528  0.244  0.524  0.078]\n",
      " [ 0.151  0.01   0.199  0.244  0.148  0.157  0.21 ]\n",
      " [ 0.109 -0.029 -0.026  0.524  0.157  3.884  0.085]\n",
      " [ 0.222  0.022 -1.06   0.078  0.21   0.085  7.871]]\n"
     ]
    }
   ],
   "source": [
    "print('열평균: ', [np.mean(A[:,0]), np.mean(A[:,1]), np.mean(A[:,2]), np.mean(A[:,3]), np.mean(A[:,4]), np.mean(A[:,5]), np.mean(A[:,6])])\n",
    "\n",
    "print('열평균: ', np.mean(A, axis=0))\n",
    "\n",
    "\n",
    "# X : 행렬 A에서 평균값을 뺀 것 (관측치에서 평균을 빼줘야 편차가 나옴)\n",
    "X = A - np.mean(A, axis=0)\n",
    "# broadcasting : 2차원 - 1차원 : 작은 차원이 큰 차원의 개수에 맞춰 확장 후 연산\n",
    "print(X)\n",
    "\n",
    "# X.T : 전치행렬 (주대각선을 기준으로 행과 열이 바뀐 것)\n",
    "print(X.T)\n",
    "\n",
    "\n",
    "# 공분산 행렬\n",
    "print(['Covariance Matrix'])\n",
    "cov = (X.T@X) / (len(X)-1)\n",
    "print(cov)"
   ]
  }
 ],
 "metadata": {
  "kernelspec": {
   "display_name": "Python 3 (ipykernel)",
   "language": "python",
   "name": "python3"
  },
  "language_info": {
   "codemirror_mode": {
    "name": "ipython",
    "version": 3
   },
   "file_extension": ".py",
   "mimetype": "text/x-python",
   "name": "python",
   "nbconvert_exporter": "python",
   "pygments_lexer": "ipython3",
   "version": "3.9.13"
  },
  "toc": {
   "base_numbering": 1,
   "nav_menu": {},
   "number_sections": true,
   "sideBar": true,
   "skip_h1_title": false,
   "title_cell": "Table of Contents",
   "title_sidebar": "Contents",
   "toc_cell": false,
   "toc_position": {
    "height": "calc(100% - 180px)",
    "left": "10px",
    "top": "150px",
    "width": "292.56px"
   },
   "toc_section_display": true,
   "toc_window_display": true
  }
 },
 "nbformat": 4,
 "nbformat_minor": 5
}
