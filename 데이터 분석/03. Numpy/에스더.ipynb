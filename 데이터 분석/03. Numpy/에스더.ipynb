{
 "cells": [
  {
   "cell_type": "markdown",
   "id": "87d42874",
   "metadata": {},
   "source": [
    "# Numpy 개요\n",
    "- 공식사이트 : https://www.numpy.org \n",
    "- 고성능 수치 해석용 파이썬 라이브러리\n",
    "    - 데이터를 분석하는게 아니라, 데이터를 처리하는 기능.(넘파이와 판다스)\n",
    "- Numpy이는 고성능 다차원배열과 이런 배열이 처리한느 다양한 함수와 툴을 제공"
   ]
  },
  {
   "cell_type": "markdown",
   "id": "a9196b07",
   "metadata": {},
   "source": [
    "# Python 다차원 배열의 이해"
   ]
  },
  {
   "cell_type": "markdown",
   "id": "b2e1fbad",
   "metadata": {},
   "source": [
    "## 숫자자료형"
   ]
  },
  {
   "cell_type": "raw",
   "id": "867db942",
   "metadata": {},
   "source": [
    "#import numpy\n",
    "help(numpy)"
   ]
  },
  {
   "cell_type": "code",
   "execution_count": null,
   "id": "cfbf7c53",
   "metadata": {},
   "outputs": [],
   "source": [
    "#세명의 학생의 수학과목 점수 설정\n",
    "math1=11\n",
    "math2=12\n",
    "math3=13\n",
    "\n",
    "#합과 평균 구하기\n",
    "total=math1+math2+math3\n",
    "avg=total/3\n",
    "print(f'수학점수의 합 : {total}')\n",
    "print(f'수학점수의 평균 : {avg:.2f}')\n"
   ]
  },
  {
   "cell_type": "markdown",
   "id": "081a47c9",
   "metadata": {},
   "source": [
    "## 리스트 자료형"
   ]
  },
  {
   "cell_type": "code",
   "execution_count": 3,
   "id": "7cb340f1",
   "metadata": {},
   "outputs": [
    {
     "name": "stdout",
     "output_type": "stream",
     "text": [
      "수학점수의 합 : 36\n",
      "수학점수의 평균 : 12.00\n"
     ]
    }
   ],
   "source": [
    "#새로운 데이터가 유입되었을때 유연하게 대처할 수 있게하려면?\n",
    "#집합형 자료형으로 만들면된다. = 리스트\n",
    "\n",
    "math_list=[11,12,13]\n",
    "\n",
    "total=0\n",
    "avg=0\n",
    "\n",
    "for math in math_list:\n",
    "    total+=math\n",
    "avg=total/len(math_list)\n",
    "\n",
    "print(f'수학점수의 합 : {total}')\n",
    "print(f'수학점수의 평균 : {avg:.2f}')\n"
   ]
  },
  {
   "cell_type": "code",
   "execution_count": 4,
   "id": "fba76507",
   "metadata": {},
   "outputs": [
    {
     "name": "stdout",
     "output_type": "stream",
     "text": [
      "수학점수의 합 : 39\n",
      "수학점수의 평균 : 13.00\n"
     ]
    }
   ],
   "source": [
    "#시험문제에서 오류가 발생해서 모든 학생의 점수를 1점씩 올려야한다면?\n",
    "#리스트컴프리핸션 사용\n",
    "\n",
    "math_list=[math+1 for math in math_list]\n",
    "\n",
    "total=0\n",
    "avg=0\n",
    "\n",
    "for math in math_list:\n",
    "    total+=math\n",
    "avg=total/len(math_list)\n",
    "\n",
    "print(f'수학점수의 합 : {total}')\n",
    "print(f'수학점수의 평균 : {avg:.2f}')"
   ]
  },
  {
   "cell_type": "code",
   "execution_count": 8,
   "id": "9617caff",
   "metadata": {},
   "outputs": [
    {
     "name": "stdout",
     "output_type": "stream",
     "text": [
      "[[11, 12, 13], [21, 22, 23], [31, 32, 33]]\n"
     ]
    }
   ],
   "source": [
    "#구조를 확장해 \n",
    "#1반 점수 11,12,13\n",
    "#2반 점수 21,22,23\n",
    "#3반 점수 31,32,33\n",
    "#이라면, 중첩리스트를 통해 아래와 같이 나타낼수있다.\n",
    "math_list=[[11,12,13],[21,22,23],[31,32,33]]\n",
    "# 자료수정을 위해서 for문이 또 중첩되어야한다\n",
    "print(math_list)"
   ]
  },
  {
   "cell_type": "markdown",
   "id": "1d2d5c19",
   "metadata": {},
   "source": [
    "- <font color='red'>문제점</font> \n",
    "    - 자료구조의 중첩이 증가하면 반복문도 하나 더 사용해야한다.\n",
    "    - 구조의 중첩이 증가할수록 코드는 복잡해진다.\n",
    "    #html 폰트 태그 활용\n",
    "    "
   ]
  },
  {
   "cell_type": "markdown",
   "id": "7792e519",
   "metadata": {},
   "source": [
    "## Numpy로 구현한 다차원 배열\n",
    "- Numpy 를 사용하면 중첩된 자료구조를 효율적으로 다룰수있다\n",
    "- import numpy as np 형태로 패키지를 불러와서 사용하는 것이 일반적이다"
   ]
  },
  {
   "cell_type": "code",
   "execution_count": 43,
   "id": "e2b44050",
   "metadata": {},
   "outputs": [
    {
     "name": "stdout",
     "output_type": "stream",
     "text": [
      "[[11, 12, 13], [21, 22, 23], [31, 32, 33]]\n",
      "[[11 12 13]\n",
      " [21 22 23]\n",
      " [31 32 33]]\n",
      "<class 'numpy.ndarray'>\n",
      "<class 'list'>\n"
     ]
    }
   ],
   "source": [
    "import numpy as np\n",
    "\n",
    "math_list2=[[11,12,13],[21,22,23],[31,32,33]]\n",
    "#print(math_list2)\n",
    "print(math_list2)\n",
    "math_ndarray=np.array(math_list2)\n",
    "print(math_ndarray)\n",
    "\n",
    "#출력의 결과 \n",
    "#,로 구분하지 않고 행렬구조로 출력\n",
    "\n",
    "print(type(math_ndarray)) #다차원배열\n",
    "print(type(math_list2)) "
   ]
  },
  {
   "cell_type": "code",
   "execution_count": 44,
   "id": "2c0553b5",
   "metadata": {},
   "outputs": [
    {
     "name": "stdout",
     "output_type": "stream",
     "text": [
      "[[12 13 14]\n",
      " [22 23 24]\n",
      " [32 33 34]]\n"
     ]
    }
   ],
   "source": [
    "new_ndarray=math_ndarray+1\n",
    "print(new_ndarray)\n",
    "\n",
    "#<element wise>\n",
    "#for문을 사용하지 않고 모든 원소에 1씩 더해줬다.\n"
   ]
  },
  {
   "cell_type": "markdown",
   "id": "788ee881",
   "metadata": {},
   "source": [
    "-넘파이에 구현된 함수를 이용해서 합이나 평균도 쉽게 구할 수 있다."
   ]
  },
  {
   "cell_type": "code",
   "execution_count": 45,
   "id": "9911dfd4",
   "metadata": {},
   "outputs": [
    {
     "name": "stdout",
     "output_type": "stream",
     "text": [
      "207\n",
      "23.0\n"
     ]
    }
   ],
   "source": [
    "print(np.sum(new_ndarray))\n",
    "print(np.mean(new_ndarray))"
   ]
  },
  {
   "cell_type": "code",
   "execution_count": 46,
   "id": "e7f4609f",
   "metadata": {},
   "outputs": [
    {
     "name": "stdout",
     "output_type": "stream",
     "text": [
      "[[12 13 14]\n",
      " [22 23 24]\n",
      " [32 33 34]]\n"
     ]
    },
    {
     "data": {
      "text/plain": [
       "array([13., 23., 33.])"
      ]
     },
     "execution_count": 46,
     "metadata": {},
     "output_type": "execute_result"
    }
   ],
   "source": [
    "#행의 평균을 구하고 싶을때 (반별 평균)\n",
    "print(new_ndarray)\n",
    "np.mean(new_ndarray, axis=1)"
   ]
  },
  {
   "cell_type": "code",
   "execution_count": 5,
   "id": "051550e6",
   "metadata": {},
   "outputs": [
    {
     "name": "stdout",
     "output_type": "stream",
     "text": [
      "[[ 7.  8.  9.]\n",
      " [10. 11. 12.]]\n"
     ]
    }
   ],
   "source": [
    "import numpy as np\n",
    "esther=[[[1,2,3],[4,5,6]],[[7,8,9],[10,11,12]],[[13,14,15],[16,17,18]]]\n",
    "park=np.array(esther)\n",
    "\n",
    "print(np.mean(park,axis=0))\n"
   ]
  },
  {
   "cell_type": "code",
   "execution_count": 47,
   "id": "24838c80",
   "metadata": {},
   "outputs": [
    {
     "data": {
      "text/plain": [
       "array([22., 23., 24.])"
      ]
     },
     "execution_count": 47,
     "metadata": {},
     "output_type": "execute_result"
    }
   ],
   "source": [
    "#열의 평균을 구하고 싶을때 (과목별 평균)\n",
    "np.mean(new_ndarray, axis=0)"
   ]
  },
  {
   "cell_type": "markdown",
   "id": "1a491ba5",
   "metadata": {},
   "source": [
    "# Numpy의 axis(축) 정리"
   ]
  },
  {
   "cell_type": "markdown",
   "id": "99c9cba9",
   "metadata": {},
   "source": [
    "- Numpy라이브러리의 여러함수에서 axis 파라메터가 사용되며 다음과 같이 해석할 수 있다.\n",
    "- 먼저 행렬의 모양을 다음과 같이 확인할 수있다.\n",
    "    - ndarray.shape 다차원 형태의 모양을 출력\n",
    "    - 2차원: 튜플 (행,열)\n",
    "    - 3차원: (깊이, 행, 열)"
   ]
  },
  {
   "cell_type": "code",
   "execution_count": 48,
   "id": "aa4ada58",
   "metadata": {},
   "outputs": [
    {
     "data": {
      "text/plain": [
       "(3, 3)"
      ]
     },
     "execution_count": 48,
     "metadata": {},
     "output_type": "execute_result"
    }
   ],
   "source": [
    "new_ndarray.shape\n",
    "#일차원배열이 가질 수 있는 축값은 0\n",
    "#이차원배열은 (axis=0,axis=1)=(행,열)\n",
    "\n",
    "#<3차원 이상>\n",
    "#연산수행시 축의방향 \n",
    "#shape기준/shape을 출력했을때의 인덱스값이 axis에 들어가는것\n",
    "#깊이는 마주보는 값에대한 연산 수행\n",
    "#행은 열로 이루어져있기때문에 결국에는 열값으로\n",
    "#행렬의 구조 축의구조 "
   ]
  },
  {
   "attachments": {
    "image.png": {
     "image/png": "[encoded data removed]"
    }
   },
   "cell_type": "markdown",
   "id": "9fac3d8c",
   "metadata": {},
   "source": [
    "## 2차원 행렬의 축\n",
    "![image.png](attachment:image.png)\n",
    "- axis를 0(또는 -2)로하면  행축을 기준으로 더하라는 의미로 각 행에 있는 열의 값을 더해 하나로만든다.(결론은 열기준으로의 연산이라고 할수있음)\n",
    "- axis를 1(또는 -1)로 하면 열축을기준으로 더하라는 의미로 각 열에있는 행의값을 더해 하나로 만든다.(결국 열을 구성하는 행의값을 연산)"
   ]
  },
  {
   "attachments": {
    "image.png": {
     "image/png": "[encoded data removed]"
    }
   },
   "cell_type": "markdown",
   "id": "6db4730e",
   "metadata": {},
   "source": [
    "## 3차원 행렬의 축\n",
    "![image.png](attachment:image.png)\n",
    "- axis를 0(또는-3)로 하면 깊이를 기분으로 연산하라는 의미(서로 마주하는 요소끼리의 연산)\n",
    "- axis를 1(또는 -2)로하면  행축을 기준으로 더하라는 의미로 각 행에 있는 열의 값을 더해 하나로만든다.(결론은 열기준으로의 연산이라고 할수있음)\n",
    "- axis를 2(또는 -1)로 하면 열축을기준으로 더하라는 의미로 각 열에있는 행의값을 더해 하나로 만든다.(결국 열을 구성하는 행의값을 연산)"
   ]
  },
  {
   "cell_type": "code",
   "execution_count": 13,
   "id": "bae3c911",
   "metadata": {},
   "outputs": [
    {
     "name": "stdout",
     "output_type": "stream",
     "text": [
      "(2, 3)\n"
     ]
    },
    {
     "data": {
      "text/plain": [
       "array([[[ 1,  2,  3],\n",
       "        [ 4,  5,  6]],\n",
       "\n",
       "       [[ 7,  8,  9],\n",
       "        [10, 11, 12]],\n",
       "\n",
       "       [[13, 14, 15],\n",
       "        [16, 17, 18]]])"
      ]
     },
     "execution_count": 13,
     "metadata": {},
     "output_type": "execute_result"
    }
   ],
   "source": [
    "import numpy as np\n",
    "\n",
    "# array1=np.array([[1,2],[3,4]])\n",
    "# print(array1)\n",
    "# print(array1.shape) #2행 2열\n",
    "# print('-'*30)\n",
    "\n",
    "a=[[1,2,3],\n",
    "   [4,5,6]]\n",
    "array2=np.array(a)\n",
    "print(array2.shape) #2,2,3 axis=0,1,2 깊이, 행, 열\n",
    "\n",
    "array2.size\n",
    "array2\n",
    "park"
   ]
  },
  {
   "cell_type": "code",
   "execution_count": 16,
   "id": "01e1bf32",
   "metadata": {},
   "outputs": [
    {
     "name": "stdout",
     "output_type": "stream",
     "text": [
      "2차원 배열의 axis=0 기준의 합: [5 7 9]\n",
      "\n",
      "2차원 배열의 axis=1 기준의 합: [ 6 15]\n",
      "\n",
      "3차원 배열의 axis=0 기준의 합: \n",
      "[[21 24 27]\n",
      " [30 33 36]]\n",
      "\n",
      "3차원 배열의 axis=1 기준의 합: \n",
      "[[ 5  7  9]\n",
      " [17 19 21]\n",
      " [29 31 33]]\n",
      "\n",
      "3차원 배열의 axis=2 기준의 합: \n",
      "[[ 6 15]\n",
      " [24 33]\n",
      " [42 51]]\n"
     ]
    }
   ],
   "source": [
    "print('2차원 배열의 axis=0 기준의 합: ',end='')\n",
    "print(np.sum(array2, axis=0))\n",
    "print()\n",
    "print('2차원 배열의 axis=1 기준의 합: ',end='')\n",
    "print(np.sum(array2, axis=1))\n",
    "\n",
    "print()\n",
    "\n",
    "print('3차원 배열의 axis=0 기준의 합: ')\n",
    "print(np.sum(park, axis=0))\n",
    "print()\n",
    "print('3차원 배열의 axis=1 기준의 합: ')\n",
    "print(np.sum(park, axis=1))\n",
    "print()\n",
    "print('3차원 배열의 axis=2 기준의 합: ')\n",
    "print(np.sum(park, axis=2)) #[[ 6 15] [24 33]]"
   ]
  },
  {
   "attachments": {
    "array_vs_list.png": {
     "image/png": "[encoded data removed]"
    }
   },
   "cell_type": "markdown",
   "id": "9670e086",
   "metadata": {},
   "source": [
    "# numpy 특징\n",
    "![array_vs_list.png](attachment:array_vs_list.png)\n",
    "- 파이썬 : 포인터의 배열 *포인터: 주소값\n",
    "- 넘파이 : 실제값의 배열 *참조형 데이터가 아니라는 말\n",
    "\n",
    "- 파이썬 리스트는 포인터(실제값이 저장된 곳의 주소)의 배열\n",
    "- 따라서 각각 객체가 메모리 여기저기 흩어져있서 값의 참조가 느리다\n",
    "- 반면  ndarray는 다차원 데이터도 연속된 메모리공간에 할당된다.\n",
    "\n"
   ]
  },
  {
   "cell_type": "markdown",
   "id": "ba3bfd94",
   "metadata": {},
   "source": [
    "# 배열생성 -1"
   ]
  },
  {
   "cell_type": "markdown",
   "id": "a8543ce9",
   "metadata": {},
   "source": [
    "## array()를 이용한 생성\n",
    "- 가장 기본적인 방법은 array 함수를 사용하여 일반적인 파이썬의 list또는 tuple에서 배열을 만드는 것이다.\n",
    "- 넘파이의 다차원 배열의 모든 워소는 **<font color='red'>동일한 데이터 타입</font>**을 가져야한다"
   ]
  },
  {
   "cell_type": "code",
   "execution_count": 28,
   "id": "b70d4bb8",
   "metadata": {},
   "outputs": [
    {
     "name": "stdout",
     "output_type": "stream",
     "text": [
      "[[1. 2.]\n",
      " [3. 4.]]\n",
      "[[1 2]\n",
      " [3 4]]\n"
     ]
    },
    {
     "data": {
      "text/plain": [
       "dtype('int32')"
      ]
     },
     "execution_count": 28,
     "metadata": {},
     "output_type": "execute_result"
    }
   ],
   "source": [
    "array=np.array([[1,2],[3,4]],dtype='float64')  #실수형으로 출력 \n",
    "print(array)\n",
    "\n",
    "array2=np.array([[1,2],[3,4]])  #int32가 디폴트\n",
    "print(array2)\n",
    "\n",
    "(array2.dtype)"
   ]
  },
  {
   "cell_type": "markdown",
   "id": "3258737e",
   "metadata": {},
   "source": [
    "### 형변환\n",
    "- 데이터가 정수로 입력되더라도data type을 실수형으로 명시한다며 실수형으로 자동 형변환이 일어난다.\n"
   ]
  },
  {
   "cell_type": "code",
   "execution_count": 29,
   "id": "f80b25c5",
   "metadata": {},
   "outputs": [
    {
     "name": "stdout",
     "output_type": "stream",
     "text": [
      "[1 2 1 4]\n"
     ]
    }
   ],
   "source": [
    "a=np.array(['1','2',1,4],np.int0)\n",
    "a=np.array(['1','2',1,4],dtype='int32')\n",
    "#np.float16 실수형변환 뒤에 숫자는 정밀도\n",
    "print(a) #전부 실수로 형변환해 출력"
   ]
  },
  {
   "cell_type": "markdown",
   "id": "4418be27",
   "metadata": {},
   "source": [
    "## arange()를 이용한 생성\n",
    "- 일련의 연속형 숫자를 만들기 위해 파이썬의 range()내장함수와 유사한 함수이  arange()함수를 제공\n",
    "*arrange아님"
   ]
  },
  {
   "cell_type": "code",
   "execution_count": 30,
   "id": "45096597",
   "metadata": {},
   "outputs": [
    {
     "name": "stdout",
     "output_type": "stream",
     "text": [
      "[1 2 3 4 5 6 7 8 9]\n",
      "[ 1  6 11 16 21 26]\n",
      "[0 1 2 3 4 5 6 7 8 9]\n"
     ]
    }
   ],
   "source": [
    "import numpy as np\n",
    "\n",
    "a=np.arange(1,10)\n",
    "print(a)\n",
    "\n",
    "b=np.arange(1,30,5) #step지정도 가능\n",
    "print(b)\n",
    "\n",
    "c=np.arange(10)\n",
    "print(c)\n"
   ]
  },
  {
   "cell_type": "markdown",
   "id": "d05287ae",
   "metadata": {},
   "source": [
    "## Numpy배열의 주요 속성\n",
    "\n",
    "1) **ndarray.shape** \n",
    "- 넘파이 배열의 차원을 튜플타입으로 반환\n",
    "\n",
    "2) **ndarray.dtype**\n",
    "- 배열의 자료형을 반환\n",
    "\n",
    "3) **ndarray.ndim**\n",
    "- 배열의 차수(차원)을 정수 값으로 반환\n",
    "\n",
    "4) **ndarray.size**\n",
    "- 배열의 요소의 총 개수를 정수값으로 반환\n",
    "- shape요소의 곱과 같다\n",
    "\n",
    "5) **ndarray.nbytes**\n",
    "- 배열의 메모리 크기 반환\n"
   ]
  },
  {
   "cell_type": "code",
   "execution_count": 31,
   "id": "277162a4",
   "metadata": {
    "scrolled": true
   },
   "outputs": [
    {
     "name": "stdout",
     "output_type": "stream",
     "text": [
      "[1 2 3 4 5]\n",
      "int32\n",
      "1\n",
      "(5,)\n",
      "5\n",
      "20\n"
     ]
    }
   ],
   "source": [
    "#1차원 배열\n",
    "a=np.array([1,2,3,4,5])\n",
    "\n",
    "print(a)\n",
    "print(a.dtype) \n",
    "#int에도 비트 크기가 있는데, 비트크기는 표현하는 값의 크기\n",
    "#디폴트는 32비트/32비트 : 2억, 64비트: 2억보다 더 큰\n",
    "print(a.ndim)\n",
    "print(a.shape) #1차원 벡터는 (5,) 개수 \n",
    "print(a.size)\n",
    "print(a.nbytes) #32비트=4바이트 그래서 4*5=20"
   ]
  },
  {
   "cell_type": "code",
   "execution_count": 67,
   "id": "ae33eaa1",
   "metadata": {},
   "outputs": [
    {
     "name": "stdout",
     "output_type": "stream",
     "text": [
      "[[1 2]\n",
      " [3 4]\n",
      " [5 6]]\n",
      "int32\n",
      "2\n",
      "(3, 2)\n",
      "6\n",
      "24\n"
     ]
    }
   ],
   "source": [
    "#2차원 배열\n",
    "a=np.array([[1,2],[3,4],[5,6]])\n",
    "\n",
    "print(a)\n",
    "print(a.dtype)\n",
    "print(a.ndim)\n",
    "print(a.shape) \n",
    "print(a.size)\n",
    "print(a.nbytes) #32비트=4바이트 그래서 4*5=20"
   ]
  },
  {
   "cell_type": "markdown",
   "id": "5e0c0ee8",
   "metadata": {},
   "source": [
    "# 배열생성 -2\n",
    "- `zeros` : 지정된 shape 의 배열을 생성하고, 모든 요소를 0으로 초기화(0으로 채워진 다차원 배열을 만들때)\n",
    "\n",
    "- `ones`: 지정된 shape 의 배열을 생성하고, 모든 요소를 1로 초기화 (1로 채워진 다차원 배열을 만들때)\n",
    "\n",
    "- `full` : 지정된 shape 의 배열을 생성하고, 모든 요소를 지정한 'fill_value'로 초기화 (특정값으로 채워진 다차원 배열을 만들때)\n",
    "\n",
    "- `empty` : 메모리의 상태에 따라 초기값이 임의로 설정되는 요소로 이루어진 배열을 생성\n",
    "\n",
    "- `*_like`: 기존 다차원배열과 똑같은 shape의 배열을 만드는데, 원하는 요소로 초기화(*에 각기 다른 이름을 넣을 수 있다. zeros_like, ones_like...) \n"
   ]
  },
  {
   "cell_type": "markdown",
   "id": "15daa812",
   "metadata": {},
   "source": [
    "## np.zeros() \n",
    "* np.~ 넘파이 객체를 통해 호출\n",
    "* ndarray.~ 생성된 다차원 배열객체를 통해 호출"
   ]
  },
  {
   "cell_type": "code",
   "execution_count": 33,
   "id": "9d9fee8c",
   "metadata": {},
   "outputs": [
    {
     "name": "stdout",
     "output_type": "stream",
     "text": [
      "[0. 0. 0. 0.]\n",
      "[0 0 0 0]\n",
      "[[[0. 0. 0.]\n",
      "  [0. 0. 0.]\n",
      "  [0. 0. 0.]]\n",
      "\n",
      " [[0. 0. 0.]\n",
      "  [0. 0. 0.]\n",
      "  [0. 0. 0.]]]\n",
      "[[1 2 3]\n",
      " [4 5 6]\n",
      " [7 8 9]]\n",
      "[[0 0 0]\n",
      " [0 0 0]\n",
      " [0 0 0]]\n"
     ]
    }
   ],
   "source": [
    "import numpy as np\n",
    "#실수형결과\n",
    "a=np.zeros(4)\n",
    "b=np.zeros(4,dtype='int32')\n",
    "c=np.zeros((2,3,3))\n",
    "\n",
    "print(a)\n",
    "print(b)\n",
    "print(c)\n",
    "\n",
    "d=np.array([[1,2,3],[4,5,6],[7,8,9]])\n",
    "e=np.zeros_like(d)\n",
    "print(d)\n",
    "print(e)"
   ]
  },
  {
   "cell_type": "markdown",
   "id": "9d9f9168",
   "metadata": {},
   "source": [
    "## np.ones()"
   ]
  },
  {
   "cell_type": "code",
   "execution_count": 82,
   "id": "ddf27dfe",
   "metadata": {},
   "outputs": [
    {
     "name": "stdout",
     "output_type": "stream",
     "text": [
      "[[1. 1. 1.]\n",
      " [1. 1. 1.]]\n",
      "[[1 1 1]\n",
      " [1 1 1]]\n",
      "[[1. 1. 1.]\n",
      " [1. 1. 1.]\n",
      " [1. 1. 1.]]\n"
     ]
    }
   ],
   "source": [
    "print(np.ones((2,3)))\n",
    "print(np.ones((2,3),dtype=int))\n",
    "\n",
    "d=np.array([[1,2,3],[4,5,6],[7,8,9]])\n",
    "print(np.ones_like(d))"
   ]
  },
  {
   "cell_type": "markdown",
   "id": "1b9e25ed",
   "metadata": {},
   "source": [
    "## np.full()"
   ]
  },
  {
   "cell_type": "code",
   "execution_count": 34,
   "id": "e1b7fe1c",
   "metadata": {},
   "outputs": [
    {
     "name": "stdout",
     "output_type": "stream",
     "text": [
      "[[10 10]\n",
      " [10 10]]\n",
      "[[0.1 0.1]\n",
      " [0.1 0.1]]\n",
      "[[7 7 7]\n",
      " [7 7 7]\n",
      " [7 7 7]]\n"
     ]
    }
   ],
   "source": [
    "print(np.full((2,2), fill_value=10)) #fill_value는 위치인수\n",
    "print(np.full((2,2),0.1))\n",
    "\n",
    "d=np.array([[1,2,3],[4,5,6],[7,8,9]])\n",
    "print(np.full_like(d,7))"
   ]
  },
  {
   "cell_type": "markdown",
   "id": "a748d197",
   "metadata": {},
   "source": [
    "## 연습문제 \n",
    "- 1~10사이의 값에 대해 다음 조건에 맞는 2차원 배열을 생성하시오.\n",
    "    - 첫번째 행은 연순으로 나열된 홀수정수의 요소를 갖고 두번째행은 짝수 정수의 요소를 갖는다\n"
   ]
  },
  {
   "cell_type": "code",
   "execution_count": 45,
   "id": "a1274492",
   "metadata": {},
   "outputs": [
    {
     "name": "stdout",
     "output_type": "stream",
     "text": [
      "[[[ 9  7  5  3  1]]\n",
      "\n",
      " [[ 2  4  6  8 10]]]\n"
     ]
    }
   ],
   "source": [
    "import numpy as np\n",
    "\n",
    "a=np.array(([np.arange(9,0,-2)],[np.arange(2,11,2)]))\n",
    "print(a)\n",
    "#type(np.arange(9,0,-2))"
   ]
  },
  {
   "cell_type": "markdown",
   "id": "8492b6b4",
   "metadata": {},
   "source": [
    "# 배열생성 -03"
   ]
  },
  {
   "cell_type": "markdown",
   "id": "15adb774",
   "metadata": {},
   "source": [
    "## numpy.linspace()\n",
    "- start부터 stop범위에서 num개를 균일한 간격으로 데이터를 생성하고 배열을 만드는 함수\n",
    "- 요소개수를 기준으로 균등 간격의 배열을 생성"
   ]
  },
  {
   "cell_type": "code",
   "execution_count": 51,
   "id": "58925f79",
   "metadata": {},
   "outputs": [
    {
     "data": {
      "text/plain": [
       "array([0.  , 0.25, 0.5 , 0.75, 1.  , 1.25, 1.5 , 1.75, 2.  ])"
      ]
     },
     "execution_count": 51,
     "metadata": {},
     "output_type": "execute_result"
    }
   ],
   "source": [
    "#0이상 2이하의 범위를 9개로 등분하여 요소를 생성\n",
    "np.linspace(0,2,9) "
   ]
  },
  {
   "cell_type": "code",
   "execution_count": 112,
   "id": "3f3b70c2",
   "metadata": {},
   "outputs": [
    {
     "data": {
      "image/png": "[encoded data removed]",
      "text/plain": [
       "<Figure size 640x480 with 1 Axes>"
      ]
     },
     "metadata": {},
     "output_type": "display_data"
    }
   ],
   "source": [
    "from numpy import pi #pi 원주율\n",
    "\n",
    "x=np.linspace(0,2*pi,100)\n",
    "f=np.sin(x) #삼각함수의 input으로 자주사용하는 \n",
    "\n",
    "import matplotlib.pyplot as plt #시각화 or seabon \n",
    "plt.plot(x,f)\n",
    "plt.show()\n"
   ]
  },
  {
   "cell_type": "markdown",
   "id": "a7528528",
   "metadata": {},
   "source": [
    "## np.identity(), np.eye()\n",
    "- identity() : 지정한크기의 정방단위행렬을 생성\n",
    "    - 정방단위 행렬 : 주대각선(0,0부터 n,n까지의 대각선)의 원소가 모두 1이며 나머지 원소는 모두 0인정사각형 행렬(행과열의 크기가 같은 행렬)\n",
    "    - 행렬에서의 나누기는 역행렬\n",
    "    \n",
    "- eye() : 행과열이 다른 행렬도 만들어낸다(identity차이)"
   ]
  },
  {
   "cell_type": "code",
   "execution_count": 97,
   "id": "6c7f9084",
   "metadata": {},
   "outputs": [
    {
     "name": "stdout",
     "output_type": "stream",
     "text": [
      "[[1. 0.]\n",
      " [0. 1.]]\n",
      "\n",
      "[[1 0 0]\n",
      " [0 1 0]\n",
      " [0 0 1]]\n"
     ]
    }
   ],
   "source": [
    "print(np.identity(2))\n",
    "print()\n",
    "print(np.identity(3, dtype=int))"
   ]
  },
  {
   "cell_type": "code",
   "execution_count": 68,
   "id": "077301aa",
   "metadata": {},
   "outputs": [
    {
     "name": "stdout",
     "output_type": "stream",
     "text": [
      "[[1. 0. 0.]\n",
      " [0. 1. 0.]\n",
      " [0. 0. 1.]]\n",
      "[[1. 0. 0. 0.]\n",
      " [0. 1. 0. 0.]\n",
      " [0. 0. 1. 0.]]\n",
      "------------------------------\n",
      "0\n",
      "[[1. 0. 0. 0.]\n",
      " [0. 1. 0. 0.]\n",
      " [0. 0. 1. 0.]]\n",
      "nothing\n",
      "[[1. 0. 0. 0.]\n",
      " [0. 1. 0. 0.]\n",
      " [0. 0. 1. 0.]]\n",
      "-1\n",
      "[[0. 0. 0. 0.]\n",
      " [1. 0. 0. 0.]\n",
      " [0. 1. 0. 0.]]\n",
      "1\n",
      "[[0. 1. 0. 0.]\n",
      " [0. 0. 1. 0.]\n",
      " [0. 0. 0. 1.]]\n"
     ]
    }
   ],
   "source": [
    "print(np.eye(3))\n",
    "#정방단위행렬이 아니어도 만들수있다. 즉 행과열의 크기가 다른 배열도 만들 수 있다.\n",
    "print(np.eye(3,4))\n",
    "print('-'*30)\n",
    "\n",
    "#세번째값은 대각선 인덱스\n",
    "# 0 : 기본값 =주대각선\n",
    "# 양수값 : 위쪽대각선의 열을 나타내고\n",
    "# 음수값 : 아래쪽 대각선의 행을 나타낸다.\n",
    "\n",
    "#<주대각선의 시작위치를 변경> : 어떤 영향이 있는지 확인하기\n",
    "print('0')\n",
    "print(np.eye(3,4,0)) #default\n",
    "print('nothing')\n",
    "print(np.eye(3,4)) \n",
    "print('-1')\n",
    "print(np.eye(3,4,-1)) #주대각선이 오른쪽으로 인동\n",
    "print('1')\n",
    "print(np.eye(3,4,1)) #주대각선이 왼쪽으로 이동"
   ]
  },
  {
   "cell_type": "markdown",
   "id": "5c8f3e57",
   "metadata": {},
   "source": [
    "# 배열의 변경"
   ]
  },
  {
   "cell_type": "markdown",
   "id": "11d1238a",
   "metadata": {},
   "source": [
    "## np.reshape() / ndarray.reshape()\n",
    "- <font color='red'><b>원본을 변경하지 않고 새로운 배열을 생성한다. </b></font>"
   ]
  },
  {
   "cell_type": "code",
   "execution_count": 88,
   "id": "9cc33e9b",
   "metadata": {},
   "outputs": [
    {
     "name": "stdout",
     "output_type": "stream",
     "text": [
      "[ 0  1  2  3  4  5  6  7  8  9 10 11]\n"
     ]
    }
   ],
   "source": [
    "#shap은 원본 자체를 변경시키지 않음\n",
    "x=np.arange(12)\n",
    "x.reshape(2,6)\n",
    "print(x)"
   ]
  },
  {
   "cell_type": "code",
   "execution_count": 90,
   "id": "4de56ace",
   "metadata": {},
   "outputs": [
    {
     "name": "stdout",
     "output_type": "stream",
     "text": [
      "[[ 0  1  2  3  4  5]\n",
      " [ 6  7  8  9 10 11]]\n"
     ]
    }
   ],
   "source": [
    "#resize는 원본 자체를 변경\n",
    "x=np.arange(12)\n",
    "x.resize(2,6)\n",
    "print(x)"
   ]
  },
  {
   "cell_type": "code",
   "execution_count": 83,
   "id": "ec6f9015",
   "metadata": {},
   "outputs": [
    {
     "name": "stdout",
     "output_type": "stream",
     "text": [
      "[0 1 2 3 4 5]\n"
     ]
    }
   ],
   "source": [
    "a=np.arange(6)\n",
    "\n",
    "a.reshape((3,2)) #np.reshape(a,(3,2)) np객체로 이용할때 매개변수는 (변경대상,(행렬구조)\n",
    "print(b)\n",
    "print('-'*30)\n",
    "c=np.reshape(a,(-1,3))#-1: 열의 크기를 맞추고, 데이터에따라 행의 크기를 알아서 지정\n",
    "print(c)\n",
    "\n",
    "print('-'*30)\n",
    "d=np.arange(1,11).reshape(-1,2)\n",
    "print(d)\n",
    "\n",
    "print('-'*30)\n",
    "e=d.reshape(-1,2,1) #깊이는 모르겠고, 2행 1열 데이터를 만들어줘\n",
    "print(e)\n",
    "\n",
    "print('-'*30)\n",
    "#-1의 의미는 행렬의 값이 없으므로 요소를 한줄로 나타낸다(다시 1차원으로 바꾸는방법)\n",
    "f=e.reshape(-1) \n",
    "print(f)\n",
    "\n",
    "a"
   ]
  },
  {
   "cell_type": "markdown",
   "id": "39ef0554",
   "metadata": {},
   "source": [
    "## ndarray.resize(), np.resize()\n",
    "- <font color='red'><b>원본배열을 새로운 shape으로 수정한다.</b></font>\n",
    "- 대상배열의 요소의 개수가 원본배열과 동일하지 않으면 크기를 강제로 조정한다."
   ]
  },
  {
   "cell_type": "code",
   "execution_count": 79,
   "id": "6a0d88b6",
   "metadata": {},
   "outputs": [
    {
     "name": "stdout",
     "output_type": "stream",
     "text": [
      "[[ 0  1  2  3]\n",
      " [ 4  5  6  7]\n",
      " [ 8  9 10 11]]\n",
      "[[ 0  1  2  3  4]\n",
      " [ 5  6  7  8  9]\n",
      " [10 11  0  0  0]\n",
      " [ 0  0  0  0  0]\n",
      " [ 0  0  0  0  0]]\n"
     ]
    },
    {
     "data": {
      "text/plain": [
       "array([[ 0,  1,  2,  3,  4],\n",
       "       [ 5,  6,  7,  8,  9],\n",
       "       [10, 11,  0,  0,  0],\n",
       "       [ 0,  0,  0,  0,  0],\n",
       "       [ 0,  0,  0,  0,  0]])"
      ]
     },
     "execution_count": 79,
     "metadata": {},
     "output_type": "execute_result"
    }
   ],
   "source": [
    "x=np.arange(12)\n",
    "x.resize(3,4)\n",
    "print(x)\n",
    "x.resize(5,5) #원본배열과 일치하지 않는 요소는 0으로 강제채워넣기\n",
    "print(x)"
   ]
  },
  {
   "cell_type": "code",
   "execution_count": 118,
   "id": "f38c9357",
   "metadata": {},
   "outputs": [
    {
     "name": "stdout",
     "output_type": "stream",
     "text": [
      "[1 2 3 4]\n"
     ]
    }
   ],
   "source": [
    "a=np.arange(12) #1차원\n",
    "print(a)\n",
    "a.resize(3,4) #2차원\n",
    "print(a)\n",
    "\n",
    "print('-'*30)\n",
    "a.resize(3,5) #원본과 크기가 달라도 오류가 발생하지 않는다.\n",
    "print(a) \n"
   ]
  },
  {
   "cell_type": "markdown",
   "id": "0001a9f1",
   "metadata": {},
   "source": [
    "## ndarray.flatten(), ndarray.ravel()\n",
    "- 배열을 1차원으로 만든다\n",
    "- 원본에 영향을 미치는가에 차이\n",
    "    - flatten  원본에 영향없음 (일반적으로 사용_ 형태가 아닌 요소값)\n",
    "    - ravel 원본을 변경\n"
   ]
  },
  {
   "cell_type": "code",
   "execution_count": null,
   "id": "c8a42875",
   "metadata": {},
   "outputs": [],
   "source": [
    "import numpy as np\n",
    "a=np.array([[1,2],[3,4]])\n",
    "b=a.flatten()\n",
    "print('flatten',b )\n",
    "a[1,1]\n",
    "print(a)\n",
    "print(b)\n",
    "\n",
    "b=a.ravel()\n",
    "print('ravel',b)\n",
    "a[1,1]\n",
    "print(a)\n",
    "print(b)"
   ]
  },
  {
   "cell_type": "code",
   "execution_count": 117,
   "id": "5fb1fd83",
   "metadata": {},
   "outputs": [
    {
     "name": "stdout",
     "output_type": "stream",
     "text": [
      "[1 2 3 4]\n"
     ]
    }
   ],
   "source": [
    "a=np.array([[1,2],[3,4]])#2차원\n",
    "# print(a)\n",
    "# print(a.flatten())\n",
    "# print(a)\n",
    "print('-'*30)\n",
    "print(a)\n",
    "a=a.ravel()\n",
    "print(a)"
   ]
  },
  {
   "cell_type": "markdown",
   "id": "ee5ede97",
   "metadata": {},
   "source": [
    "## np.expand_dims()\n",
    "- 지정한 axis의 위치에 넘파이 배열의 차원을 늘려줌"
   ]
  },
  {
   "cell_type": "markdown",
   "id": "85d778f3",
   "metadata": {},
   "source": [
    "입력값은 항상 백터로 들어가야함\n",
    "1 : 스칼라\n",
    "[1] : 백터 - 1차원"
   ]
  },
  {
   "cell_type": "code",
   "execution_count": 93,
   "id": "47cd938e",
   "metadata": {},
   "outputs": [
    {
     "name": "stdout",
     "output_type": "stream",
     "text": [
      "[1 2]\n",
      "(2,)\n",
      "------------------------------\n",
      "[[1 2]]\n",
      "(1, 2)\n",
      "------------------------------\n",
      "[[[1 2]]]\n",
      "(1, 1, 2)\n",
      "------------------------------\n",
      "[1 2]\n"
     ]
    }
   ],
   "source": [
    "a=np.array([1,2])\n",
    "print(a)\n",
    "print(a.shape)\n",
    "print('-'*30)\n",
    "#1차원 백터에 첫번째 축(행축)을 추가하여 2의 앞에 1이 추가되어 (1,2)의 모양으로 확장됨\n",
    "b=np.expand_dims(a, axis=0)\n",
    "print(b)\n",
    "print(b.shape)\n",
    "print('-'*30)\n",
    "#1차원 백터에 두번째 축(열축)을 추가하여 2의 뒤에 1이 추가되어 (2,1)의 모양으로 확장됨\n",
    "c=np.expand_dims(b, axis=1) #2차원행렬(b)에서 행 1을 추가하면, 본래 행이 깊이가되고, 본래 열이 열이되며, 새로운 1이 행이되어 3차원으로 변경\n",
    "print(c)\n",
    "print(c.shape)\n",
    "print('-'*30)\n",
    "print(a) #원본에 영향이 없다.\n",
    "#1차원 백터가 2차원이 되었다.\n"
   ]
  },
  {
   "cell_type": "code",
   "execution_count": 188,
   "id": "0aba9470",
   "metadata": {},
   "outputs": [
    {
     "name": "stdout",
     "output_type": "stream",
     "text": [
      "[[1 2 3]\n",
      " [4 5 6]]\n",
      "(2, 3)\n",
      "------------------------------\n",
      "[[[1 2 3]\n",
      "  [4 5 6]]]\n",
      "(1, 2, 3)\n",
      "------------------------------\n",
      "[[[1 2 3]]\n",
      "\n",
      " [[4 5 6]]]\n",
      "(2, 1, 3)\n",
      "------------------------------\n",
      "[[[1]\n",
      "  [2]\n",
      "  [3]]\n",
      "\n",
      " [[4]\n",
      "  [5]\n",
      "  [6]]]\n",
      "(2, 3, 1)\n"
     ]
    }
   ],
   "source": [
    "a=np.arange(1,7).reshape(2,3)\n",
    "print(a)\n",
    "print(a.shape)\n",
    "print('-'*30)\n",
    "\n",
    "b=np.expand_dims(a,axis=0)\n",
    "print(b)\n",
    "print(b.shape)\n",
    "print('-'*30)\n",
    " \n",
    "c=np.expand_dims(a,axis=1)\n",
    "print(c)\n",
    "print(c.shape)\n",
    "print('-'*30)\n",
    "\n",
    "d=np.expand_dims(a,axis=2)\n",
    "print(d)\n",
    "print(d.shape)"
   ]
  },
  {
   "cell_type": "code",
   "execution_count": 128,
   "id": "386e1729",
   "metadata": {},
   "outputs": [
    {
     "name": "stdout",
     "output_type": "stream",
     "text": [
      "[0 1 2 3]\n",
      "(4,)\n",
      "\n",
      "new [[[0 1 2 3]]]\n",
      "\n",
      "[[0 1 2 3]]\n",
      "(1, 4)\n",
      "[[0]\n",
      " [1]\n",
      " [2]\n",
      " [3]]\n",
      "(4, 1)\n"
     ]
    }
   ],
   "source": [
    "a=np.arange(4)\n",
    "print(a)\n",
    "print(a.shape)\n",
    "\n",
    "#이중리스트에서 인덱싱 : a[1][1]\n",
    "#넘파이에서 인덱싱 :a[1][1] 또는 a[1,1]\n",
    "print()\n",
    "b=a[np.newaxis,:]\n",
    "c=b[np.newaxis,:,:]\n",
    "print('new',c)\n",
    "#:은 모든 데이터\n",
    "#np.newaxis: 행에 새로운값 사용하겠따.\n",
    "#: : 열에 모든값을 사용하겠따.\n",
    "print()\n",
    "print(b)\n",
    "print(b.shape)\n",
    "\n",
    "c=a[:,np.newaxis]\n",
    "print(c)\n",
    "print(c.shape)\n"
   ]
  },
  {
   "cell_type": "markdown",
   "id": "2bf1659e",
   "metadata": {},
   "source": [
    "## ndarray.astype() \n",
    "- dtype 은 매개변수로는 생성시 타입을 지정하고, 함수로는 자료형을 반환\n",
    "- astype은 이미 생성된 데이터의 타입을 변경해주는것"
   ]
  },
  {
   "cell_type": "code",
   "execution_count": 96,
   "id": "2630d660",
   "metadata": {},
   "outputs": [
    {
     "name": "stdout",
     "output_type": "stream",
     "text": [
      "[1 2 3]\n",
      "int32\n",
      "[1. 2. 3.]\n",
      "float32\n"
     ]
    }
   ],
   "source": [
    "a=np.array([1,2,3],dtype=int)\n",
    "\n",
    "print(a)\n",
    "print(a.dtype)\n",
    "\n",
    "a_float=a.astype(np.float32)\n",
    "print(a_float)\n",
    "print(a_float.dtype)"
   ]
  },
  {
   "cell_type": "markdown",
   "id": "f6dc1e0f",
   "metadata": {},
   "source": [
    "## np.squeez() \n",
    "- 차원을 줄일때 사용하는 함수 "
   ]
  },
  {
   "cell_type": "code",
   "execution_count": 115,
   "id": "fc35e5eb",
   "metadata": {},
   "outputs": [
    {
     "name": "stdout",
     "output_type": "stream",
     "text": [
      "(1, 3, 2)\n",
      "(1, 1, 3)\n",
      "[[[0 1]\n",
      "  [1 2]\n",
      "  [2 3]]]\n",
      "\n",
      "[[0 1]\n",
      " [1 2]\n",
      " [2 3]]\n",
      "(3, 2)\n",
      "------------------------------\n",
      "\n",
      "[[0 1]\n",
      " [1 2]\n",
      " [2 3]]\n",
      "(3, 2)\n",
      "------------------------------\n",
      "\n"
     ]
    },
    {
     "ename": "ValueError",
     "evalue": "cannot select an axis to squeeze out which has size not equal to one",
     "output_type": "error",
     "traceback": [
      "\u001b[1;31m---------------------------------------------------------------------------\u001b[0m",
      "\u001b[1;31mValueError\u001b[0m                                Traceback (most recent call last)",
      "\u001b[1;32m~\\AppData\\Local\\Temp\\ipykernel_18636\\207653694.py\u001b[0m in \u001b[0;36m<module>\u001b[1;34m\u001b[0m\n\u001b[0;32m     22\u001b[0m \u001b[1;31m#print(d.shape)\u001b[0m\u001b[1;33m\u001b[0m\u001b[1;33m\u001b[0m\u001b[0m\n\u001b[0;32m     23\u001b[0m \u001b[1;31m#print('-'*30)\u001b[0m\u001b[1;33m\u001b[0m\u001b[1;33m\u001b[0m\u001b[0m\n\u001b[1;32m---> 24\u001b[1;33m \u001b[0me\u001b[0m\u001b[1;33m=\u001b[0m\u001b[0mnp\u001b[0m\u001b[1;33m.\u001b[0m\u001b[0msqueeze\u001b[0m\u001b[1;33m(\u001b[0m\u001b[0ma\u001b[0m\u001b[1;33m,\u001b[0m\u001b[0maxis\u001b[0m\u001b[1;33m=\u001b[0m\u001b[1;36m2\u001b[0m\u001b[1;33m)\u001b[0m\u001b[1;33m\u001b[0m\u001b[1;33m\u001b[0m\u001b[0m\n\u001b[0m\u001b[0;32m     25\u001b[0m \u001b[0mprint\u001b[0m\u001b[1;33m(\u001b[0m\u001b[0me\u001b[0m\u001b[1;33m)\u001b[0m\u001b[1;33m\u001b[0m\u001b[1;33m\u001b[0m\u001b[0m\n\u001b[0;32m     26\u001b[0m \u001b[0mprint\u001b[0m\u001b[1;33m(\u001b[0m\u001b[0me\u001b[0m\u001b[1;33m.\u001b[0m\u001b[0mshape\u001b[0m\u001b[1;33m)\u001b[0m\u001b[1;33m\u001b[0m\u001b[1;33m\u001b[0m\u001b[0m\n",
      "\u001b[1;32m<__array_function__ internals>\u001b[0m in \u001b[0;36msqueeze\u001b[1;34m(*args, **kwargs)\u001b[0m\n",
      "\u001b[1;32m~\\anaconda3\\lib\\site-packages\\numpy\\core\\fromnumeric.py\u001b[0m in \u001b[0;36msqueeze\u001b[1;34m(a, axis)\u001b[0m\n\u001b[0;32m   1506\u001b[0m         \u001b[1;32mreturn\u001b[0m \u001b[0msqueeze\u001b[0m\u001b[1;33m(\u001b[0m\u001b[1;33m)\u001b[0m\u001b[1;33m\u001b[0m\u001b[1;33m\u001b[0m\u001b[0m\n\u001b[0;32m   1507\u001b[0m     \u001b[1;32melse\u001b[0m\u001b[1;33m:\u001b[0m\u001b[1;33m\u001b[0m\u001b[1;33m\u001b[0m\u001b[0m\n\u001b[1;32m-> 1508\u001b[1;33m         \u001b[1;32mreturn\u001b[0m \u001b[0msqueeze\u001b[0m\u001b[1;33m(\u001b[0m\u001b[0maxis\u001b[0m\u001b[1;33m=\u001b[0m\u001b[0maxis\u001b[0m\u001b[1;33m)\u001b[0m\u001b[1;33m\u001b[0m\u001b[1;33m\u001b[0m\u001b[0m\n\u001b[0m\u001b[0;32m   1509\u001b[0m \u001b[1;33m\u001b[0m\u001b[0m\n\u001b[0;32m   1510\u001b[0m \u001b[1;33m\u001b[0m\u001b[0m\n",
      "\u001b[1;31mValueError\u001b[0m: cannot select an axis to squeeze out which has size not equal to one"
     ]
    }
   ],
   "source": [
    "a=np.array([[[0,1],[1,2],[2,3]]])\n",
    "print(a.shape) # 3,3,2\n",
    "x=np.array([[[0,1,2]]])\n",
    "print(x.shape)\n",
    "print(a)\n",
    "\n",
    "print()\n",
    "b=a.squeeze() #아무런 옵션이 없으면 1차원으로\n",
    "print(b)\n",
    "print(b.shape)\n",
    "print('-'*30)\n",
    "print()\n",
    "c=np.squeeze(a,axis=0) #깊이 축소\n",
    "print(c)\n",
    "print(c.shape)\n",
    "print('-'*30)\n",
    "print()\n",
    "#d=np.squeeze(a,axis=1) \n",
    "#원본의 원소개수와 일치되지 않아 err\n",
    "#axis=1은 3차원 배열 a에서 행의 자리로, 해당자리가 빠지게되면 a의shape은 \n",
    "#print(d)\n",
    "#print(d.shape)\n",
    "#print('-'*30)\n",
    "e=np.squeeze(a,axis=2)\n",
    "print(e)\n",
    "print(e.shape)\n"
   ]
  },
  {
   "cell_type": "markdown",
   "id": "93125535",
   "metadata": {},
   "source": [
    "## np.concatenate()\n",
    "- 두개이상의 배열을 연결한다.\n",
    "- 연결하고자하는 배열의 차원수가 같아야한다."
   ]
  },
  {
   "cell_type": "code",
   "execution_count": 123,
   "id": "c75c91da",
   "metadata": {},
   "outputs": [
    {
     "name": "stdout",
     "output_type": "stream",
     "text": [
      "[[1 2]\n",
      " [3 4]]\n",
      "[5 6]\n",
      "[[1 2]\n",
      " [3 4]]\n",
      "[[5 6]]\n",
      "\n",
      "[[1 2]\n",
      " [3 4]\n",
      " [1 2]\n",
      " [3 4]\n",
      " [5 6]]\n"
     ]
    }
   ],
   "source": [
    "a=np.array([[1,2],[3,4]])\n",
    "print(a)\n",
    "\n",
    "b=np.array([5,6])\n",
    "print(b)\n",
    "\n",
    "#np.concatenate(a,b) err 차원수가 달라 에러\n",
    "\n",
    "c=np.array([[1,2],[3,4]])\n",
    "print(c)\n",
    "\n",
    "d=np.array([[5,6]])\n",
    "print(d)\n",
    "\n",
    "np.concatenate((c,d))\n",
    "print()\n",
    "print(np.concatenate((a,c,d)))#2개 이상도 가능~"
   ]
  },
  {
   "cell_type": "markdown",
   "id": "02247bb7",
   "metadata": {},
   "source": [
    "- axis 인수를 설정해서 연결방향을 정할 수 있다. (default: axis=0)\n",
    "- 행방향으로 연결을 할때에는 열의 갯수가 같아야하면, 열(axis=1)기준으로 연결을 할때에는 행의 갯수가 같아야한다"
   ]
  },
  {
   "cell_type": "code",
   "execution_count": 233,
   "id": "cbfbbaf5",
   "metadata": {},
   "outputs": [
    {
     "name": "stdout",
     "output_type": "stream",
     "text": [
      "[[1 2]\n",
      " [3 4]]\n",
      "[[5 6]]\n",
      "[[1 2]\n",
      " [3 4]]\n",
      "[[5 6]]\n"
     ]
    },
    {
     "data": {
      "text/plain": [
       "array([[1, 2, 5],\n",
       "       [3, 4, 6]])"
      ]
     },
     "execution_count": 233,
     "metadata": {},
     "output_type": "execute_result"
    }
   ],
   "source": [
    "c=np.array([[1,2],[3,4]])\n",
    "print(c)\n",
    "\n",
    "d=np.array([[5,6]])\n",
    "print(d)\n",
    "\n",
    "#np.concatenate((c,d),axis=1) #err 열 개수가 달라서 \n",
    "\n",
    "c=np.array([[1,2],[3,4]])\n",
    "print(c)\n",
    "\n",
    "d=np.array([[5,6]])\n",
    "print(d)\n",
    "\n",
    "np.concatenate((c,d.T),axis=1)#<전치> .T : 행과 열을 바꾸는것"
   ]
  },
  {
   "cell_type": "markdown",
   "id": "1f0b6250",
   "metadata": {},
   "source": [
    "# 기본연산\n",
    "- 넘파이 배열의 산술 연산자는 **요소별**로 적용된다"
   ]
  },
  {
   "cell_type": "markdown",
   "id": "c59c20ce",
   "metadata": {},
   "source": [
    "## 산술연산 "
   ]
  },
  {
   "cell_type": "code",
   "execution_count": 242,
   "id": "f879154c",
   "metadata": {},
   "outputs": [
    {
     "name": "stdout",
     "output_type": "stream",
     "text": [
      "------------------------------\n",
      "[[0. 1. 2.]\n",
      " [3. 4. 5.]\n",
      " [6. 7. 8.]]\n",
      "[0. 1. 2.]\n",
      "------------------------------\n",
      "[[ 0.  2.  4.]\n",
      " [ 3.  5.  7.]\n",
      " [ 6.  8. 10.]]\n",
      "------------------------------\n",
      "[[0. 0. 0.]\n",
      " [3. 3. 3.]\n",
      " [6. 6. 6.]]\n",
      "------------------------------\n",
      "[[ 0.  1.  4.]\n",
      " [ 0.  4. 10.]\n",
      " [ 0.  7. 16.]]\n",
      "------------------------------\n",
      "[[0.   0.25 0.5 ]\n",
      " [0.75 1.   1.25]\n",
      " [1.5  1.75 2.  ]]\n",
      "------------------------------\n"
     ]
    }
   ],
   "source": [
    "import numpy as np\n",
    "\n",
    "a=np.arange(9.0).reshape(3,3) #실수로 바로뽑기\n",
    "b=np.arange(3.0)\n",
    "print('-'*30)\n",
    "print(a) #2차원 배열\n",
    "print(b)#1차원 백터\n",
    "print('-'*30)\n",
    "print(np.add(a,b)) #print(a+b)\n",
    "#브로드캐스트 :작은 차원의 데이터가 차원에 맞춰 차원을 늘려감() b가 1차원에서 2차원으로 늘어나 연산에 사용)\n",
    "print('-'*30) \n",
    "print(np.subtract(a,b)) #print(a-b)\n",
    "print('-'*30)\n",
    "print(np.multiply(a,b)) #print(a*b)\n",
    "print('-'*30)\n",
    "print(np.divide(a,4)) #print(a/4) 분모에 0이 들어가기때문에! \n",
    "print('-'*30)"
   ]
  },
  {
   "cell_type": "code",
   "execution_count": 1,
   "id": "674ffdf8",
   "metadata": {},
   "outputs": [
    {
     "name": "stdout",
     "output_type": "stream",
     "text": [
      "[0 1 2 3 4]\n",
      "[0.   0.25 0.5  0.75 1.  ]\n",
      "[0 0 0 0 1]\n"
     ]
    }
   ],
   "source": [
    "import numpy as np\n",
    "\n",
    "a=np.arange(5)\n",
    "b=np.true_divide(a,4) #일반적인 나누기\n",
    "c=np.floor_divide(a,4) #파이썬의 // : 몫으 ㄹ취하는 연산자\n",
    "\n",
    "print(a)\n",
    "print(b)\n",
    "print(c)"
   ]
  },
  {
   "cell_type": "code",
   "execution_count": 5,
   "id": "ec7776f5",
   "metadata": {},
   "outputs": [
    {
     "name": "stdout",
     "output_type": "stream",
     "text": [
      "[[1 1 1]\n",
      " [1 1 1]]\n",
      "------------------------------\n",
      "[[2 2 2]\n",
      " [2 2 2]]\n"
     ]
    }
   ],
   "source": [
    "a=np.ones((2,3), dtype=int) #defaul float\n",
    "print(a)\n",
    "\n",
    "print('-'*30)\n",
    "a+=1\n",
    "print(a)\n"
   ]
  },
  {
   "cell_type": "markdown",
   "id": "1d5d6671",
   "metadata": {},
   "source": [
    "# 통계연산\n",
    "- 통계연산은 axis와 물접한 관계가 있다\n",
    "- 축값을 입력하지 않으면 모든 원소에대한 연산결과를 출력한다"
   ]
  },
  {
   "cell_type": "code",
   "execution_count": 7,
   "id": "86bf7e7d",
   "metadata": {},
   "outputs": [
    {
     "name": "stdout",
     "output_type": "stream",
     "text": [
      "[[ 0  1  2  3]\n",
      " [ 4  5  6  7]\n",
      " [ 8  9 10 11]]\n",
      "66\n",
      "[12 15 18 21]\n",
      "[[ 0  1  3  6]\n",
      " [ 4  9 15 22]\n",
      " [ 8 17 27 38]]\n"
     ]
    }
   ],
   "source": [
    "a=np.arange(12).reshape(3,4)\n",
    "print(a)\n",
    "print(a.sum()) #모든 요소의 합을 구함 np.sum(a)\n",
    "\n",
    "print(a.sum(axis=0)) #각 열의 합\n",
    "print(a.cumsum(axis=1)) # 행에 대한 누적합\n"
   ]
  },
  {
   "cell_type": "markdown",
   "id": "5386a580",
   "metadata": {},
   "source": [
    "numpy.mean()\n",
    "- 축을따라 산술평균을 계산"
   ]
  },
  {
   "cell_type": "code",
   "execution_count": 9,
   "id": "b59742a7",
   "metadata": {},
   "outputs": [
    {
     "name": "stdout",
     "output_type": "stream",
     "text": [
      "[[1 2 3]\n",
      " [4 5 6]\n",
      " [7 8 9]]\n",
      "[4. 5. 6.]\n",
      "5.0\n"
     ]
    }
   ],
   "source": [
    "a=np.arange(1,10).reshape(3,3)\n",
    "print(a)\n",
    "print(np.mean(a, axis=0)) #열의 평균\n",
    "print(np.mean(a))\n",
    "    "
   ]
  },
  {
   "cell_type": "markdown",
   "id": "65bcbbba",
   "metadata": {},
   "source": [
    "numpy.average()\n",
    "- 주어진 축에 따라 가중균을 계산\n",
    "- avg=sum(a*weight)/sum(weight)"
   ]
  },
  {
   "cell_type": "code",
   "execution_count": 17,
   "id": "f15281a5",
   "metadata": {},
   "outputs": [
    {
     "name": "stdout",
     "output_type": "stream",
     "text": [
      "[[0 1]\n",
      " [2 3]\n",
      " [4 5]]\n"
     ]
    },
    {
     "data": {
      "text/plain": [
       "array([0.69230769, 2.69230769, 4.69230769])"
      ]
     },
     "execution_count": 17,
     "metadata": {},
     "output_type": "execute_result"
    }
   ],
   "source": [
    "a=np.arange(6).reshape(3,2)\n",
    "print(a)\n",
    "\n",
    "np.average(a,axis=1, weights=[1/3,3/4]) \n",
    "#weights의 sum 은 항상 1이아닌가 = 가중는 1이 아니어도 된다.\n",
    "# (0*1/4+1*3/4)/(1/4+3/4)=0.75"
   ]
  },
  {
   "cell_type": "markdown",
   "id": "456252f5",
   "metadata": {},
   "source": [
    "numpy.amin(), nump.min()/numpy.max(), numpy.max()\n",
    "- axis을 따른 배열의 최소 최대치"
   ]
  },
  {
   "cell_type": "code",
   "execution_count": 16,
   "id": "1d99e550",
   "metadata": {},
   "outputs": [
    {
     "name": "stdout",
     "output_type": "stream",
     "text": [
      "[[1 2 3]\n",
      " [4 5 6]\n",
      " [7 8 9]]\n",
      "[1 2 3]\n",
      "1\n"
     ]
    }
   ],
   "source": [
    "a=np.arange(1,10).reshape(3,3)\n",
    "print(a)\n",
    "\n",
    "print(np.amin(a,axis=0)) #행별로(열값의) 최소값\n",
    "print(np.amin(a)) #행렬 전체에서의 최소값"
   ]
  },
  {
   "cell_type": "markdown",
   "id": "03542156",
   "metadata": {},
   "source": [
    "numpy.median()\n",
    "- axis(축)에따른 배열의 중앙값\n"
   ]
  },
  {
   "cell_type": "markdown",
   "id": "b063bf99",
   "metadata": {},
   "source": [
    "numpy.var(),numpy.std()\n",
    "- axis를 따른 배열의 분산과 표준편차"
   ]
  },
  {
   "cell_type": "markdown",
   "id": "d71f7008",
   "metadata": {},
   "source": [
    "numpy.maximum()\n",
    "- 두개의 배열을 가져와 요소별 최대값을 계산\n",
    "    - max 의 경우 한개배열\n",
    "    -서로다른 차원의 값을 비교할 수있다. = 브로드캐스트"
   ]
  },
  {
   "cell_type": "code",
   "execution_count": 20,
   "id": "094c8899",
   "metadata": {},
   "outputs": [
    {
     "name": "stdout",
     "output_type": "stream",
     "text": [
      "[4 6 9]\n"
     ]
    }
   ],
   "source": [
    "a=np.array([3,6,1])\n",
    "b=np.array([4,2,9])\n",
    "\n",
    "print(np.maximum(a,b))"
   ]
  },
  {
   "cell_type": "markdown",
   "id": "527ca686",
   "metadata": {},
   "source": [
    "## 최소값, 최대값 원소의  argument index\n",
    "- numpy.argmax(): 제일 큰 값의 위치정보\n",
    "- numpy.argmin(): 제일 작은 값의 위치정보\n",
    "- numpy.where(조건) : 조건에 맞는 값의 위치정보 (특정값을 정보값으로 바꾸고싶때)\n",
    "- numpy.where(조건, 조건에 맞을떄 값, 조건과 다를떄 값) = ifelse "
   ]
  },
  {
   "cell_type": "code",
   "execution_count": 37,
   "id": "1c5d075f",
   "metadata": {},
   "outputs": [
    {
     "name": "stdout",
     "output_type": "stream",
     "text": [
      "1\n",
      "7\n",
      "(array([1, 5, 6, 9], dtype=int64),)\n",
      "[-1  1 -1 -1 -1  1  1 -1 -1  1]\n",
      "[3 0 6 7 3 0 0 1 4 0]\n",
      "(array([1, 5], dtype=int64),)\n"
     ]
    }
   ],
   "source": [
    "a=np.array([3,456,6,7,3,456,56,1,4,76])\n",
    "print(np.argmax(a)) # 456이 가장 크고 그 인덱스가 1/중복되어 최대값이 있다면, 가장 먼저 발견된 값으 ㅣ인덱스\n",
    "print(np.argmin(a)) #1이 가장 작고 그 인덱스가 7\n",
    "print(np.where(a>10)) # a에서 5를 초과하는 위치정보 \n",
    "print(np.where(a>10, 1,-1)) #10을 초과하면 1로 아니면 -1\n",
    "print(np.where(a>10, 0, a)) # 10을 초과하면 0로 아니면 원래 숫자로 \n",
    "print(np.where(np.max(a)==a)) #중복 최대값의 인덱스 "
   ]
  },
  {
   "cell_type": "markdown",
   "id": "1fd56e63",
   "metadata": {},
   "source": [
    "## 비교연산\n",
    "- 연산자를 이용하여 요소별 비교\n",
    "- 결과는 boolean값으로 반환\n",
    "- ==,!=,>,<,>=,<= "
   ]
  },
  {
   "cell_type": "code",
   "execution_count": 42,
   "id": "fee5e61b",
   "metadata": {},
   "outputs": [
    {
     "name": "stdout",
     "output_type": "stream",
     "text": [
      "[ True  True  True]\n",
      "[False  True False]\n",
      "[False  True False]\n",
      "1\n",
      "3\n"
     ]
    }
   ],
   "source": [
    "a=np.array([1,2,3])\n",
    "b=np.array([1,2,3])\n",
    "c=np.array([3,2,5])\n",
    "\n",
    "print(a==b) #요소별로 비교\n",
    "print(a==c) #1번쨰값만 값음\n",
    "print(b==c)\n",
    "\n",
    "print(np.sum(a==c))#true인 원소의 갯수 \n",
    "print(np.sum(a==b))"
   ]
  },
  {
   "cell_type": "code",
   "execution_count": 45,
   "id": "dd5ce57d",
   "metadata": {},
   "outputs": [
    {
     "name": "stdout",
     "output_type": "stream",
     "text": [
      "[[1 2 3]\n",
      " [4 5 6]\n",
      " [7 8 9]]\n",
      "[[False  True False]\n",
      " [ True False  True]\n",
      " [False  True False]]\n"
     ]
    },
    {
     "data": {
      "text/plain": [
       "4"
      ]
     },
     "execution_count": 45,
     "metadata": {},
     "output_type": "execute_result"
    }
   ],
   "source": [
    "a=np.arange(1,10).reshape(3,3)\n",
    "print(a)\n",
    "print(a%2==0) #짝수값인지\n",
    "np.sum(a%2==0) #짝수원소의개수"
   ]
  },
  {
   "cell_type": "markdown",
   "id": "d3e6f9d6",
   "metadata": {},
   "source": [
    "numpy.all(), numpy.any()\n",
    "- all(): 요소전체가 같아야 하나의 True \n",
    "- any(): 요소전체 중 하나만 같아도 True"
   ]
  },
  {
   "cell_type": "code",
   "execution_count": 48,
   "id": "05fa6c01",
   "metadata": {},
   "outputs": [
    {
     "name": "stdout",
     "output_type": "stream",
     "text": [
      "True\n",
      "False\n",
      "True\n"
     ]
    }
   ],
   "source": [
    "a=np.array([1,2,3])\n",
    "b=np.array([1,2,3])\n",
    "c=np.array([3,2,5])\n",
    "\n",
    "print(np.all(a==b)) # 전부다 같아야 True\n",
    "print(np.all(a==c)) # 하나라도 다르면 False\n",
    "print(np.any(a==c)) # 하나라도 같으면 True"
   ]
  },
  {
   "cell_type": "markdown",
   "id": "3f68b14e",
   "metadata": {},
   "source": [
    "## 논리연산\n",
    "- np.logical_and(), np.logical_or(), np.logical_not(), np.logical_xor()"
   ]
  },
  {
   "cell_type": "code",
   "execution_count": 56,
   "id": "f109e9e8",
   "metadata": {},
   "outputs": [
    {
     "name": "stdout",
     "output_type": "stream",
     "text": [
      "[[ 1  2  3  4  5]\n",
      " [ 6  7  8  9 10]]\n",
      "b행렬 : 짝수면 True 홀수면 False\n",
      "[[False  True False  True False]\n",
      " [ True False  True False  True]]\n",
      "\n",
      "c행렬: 4이상이면 True, 아니면 False\n",
      "[[False False False False  True]\n",
      " [ True  True  True  True  True]]\n",
      "\n",
      "b and c 행렬\n",
      "[[False False False False False]\n",
      " [ True False  True False  True]]\n",
      "3\n",
      "[ 6  8 10]\n"
     ]
    }
   ],
   "source": [
    "a=np.arange(1,11).reshape(2,5)\n",
    "print(a)\n",
    "\n",
    "b=a%2==0\n",
    "print('b행렬 : 짝수면 True 홀수면 False')\n",
    "print(b)\n",
    "print()\n",
    "\n",
    "c=a>4\n",
    "print('c행렬: 4이상이면 True, 아니면 False')\n",
    "print(c)\n",
    "print()\n",
    "\n",
    "print('b and c 행렬')\n",
    "print(np.logical_and(b,c)) #짝수이면서 4보다 큰 배열\n",
    "print(np.sum(np.logical_and(b,c)))#짝수이면서 4보다 큰 원소의 개수 \n",
    "print(a[np.logical_and(b,c)]) #짝수이면서 4보다 큰 원소의 값을 뽑아내기(boolean indexing)_ 마스킹값이 필요함 (인덱스를 골라서, 쭉쭉 순서대로 해줘야함)"
   ]
  },
  {
   "cell_type": "markdown",
   "id": "6799fa4c",
   "metadata": {},
   "source": [
    "## 정렬"
   ]
  },
  {
   "cell_type": "code",
   "execution_count": 84,
   "id": "69eba728",
   "metadata": {},
   "outputs": [
    {
     "data": {
      "text/plain": [
       "array([[10, 37, 16],\n",
       "       [ 1, 29, 26],\n",
       "       [30, 49, 30]])"
      ]
     },
     "execution_count": 84,
     "metadata": {},
     "output_type": "execute_result"
    }
   ],
   "source": [
    "np.random.seed(10) #난수는 컴퓨터의 시간에 따라/ seed는 저장\n",
    "data=np.random.randint(1,50,(3,3)) #1에서 10사이에 10개의 랜덤정수\n",
    "#파이썬에서 randint는 하나의 정수값만 호출\n",
    "#넘파이에서는 지정된 쉐입에맞는 다차원 행렬을 출력해줌\n",
    "data"
   ]
  },
  {
   "cell_type": "markdown",
   "id": "26389968",
   "metadata": {},
   "source": [
    "np.sort()\n",
    "- 데이터를 오름차순으로 정렬(파이썬의 sort와 동일)\n",
    "- 파이썬에서는 reverse가 있지만, **넘파이는 없음**"
   ]
  },
  {
   "cell_type": "code",
   "execution_count": 63,
   "id": "1b3058d4",
   "metadata": {},
   "outputs": [
    {
     "data": {
      "text/plain": [
       "array([49, 37, 30, 30, 29, 26, 16, 10,  9,  1])"
      ]
     },
     "execution_count": 63,
     "metadata": {},
     "output_type": "execute_result"
    }
   ],
   "source": [
    "np.sort(data)\n",
    "\n",
    "#내림차순으로 만드는 방법\n",
    "np.sort(data)[::-1] #역순으로 인덱싱하기 "
   ]
  },
  {
   "cell_type": "code",
   "execution_count": null,
   "id": "3a806c8d",
   "metadata": {},
   "outputs": [],
   "source": [
    "np.argsort() \n",
    "#오름차순으로 정렬한 데이터의 정렬전 인덱스 값을 반환한다(r에서 했던 내용과 비슷)"
   ]
  },
  {
   "cell_type": "code",
   "execution_count": 64,
   "id": "c22b3429",
   "metadata": {},
   "outputs": [
    {
     "name": "stdout",
     "output_type": "stream",
     "text": [
      "원본데이터 [10 37 16  1 29 26 30 49 30  9]\n",
      "sorting 데이터 [ 1  9 10 16 26 29 30 30 37 49]\n",
      "argsort [3 9 0 2 5 4 6 8 1 7]\n"
     ]
    }
   ],
   "source": [
    "print('원본데이터', data)\n",
    "print('sorting 데이터', np.sort(data))\n",
    "print('argsort', np.argsort(data))\n",
    "\n",
    "#추천알고리즘에서 유사도가 높은순서대로 정렬하여 원데이터의 위치값을 출력할때 많이 사용함\n",
    "#array([3, 9, 0, 2, 5, 4, 6, 8, 1, 7], dtype=int64)"
   ]
  },
  {
   "cell_type": "code",
   "execution_count": 78,
   "id": "6e07abc9",
   "metadata": {},
   "outputs": [
    {
     "name": "stdout",
     "output_type": "stream",
     "text": [
      "[ 1  9 10 16 26 29 30 30 37 49]\n"
     ]
    },
    {
     "data": {
      "text/plain": [
       "array([3, 9, 0, 2, 5, 4, 6, 8, 1, 7], dtype=int64)"
      ]
     },
     "execution_count": 78,
     "metadata": {},
     "output_type": "execute_result"
    }
   ],
   "source": [
    "# argsort를 이용한 정렬\n",
    "idx=np.argsort(data)  #오름차순으로 정렬한 데이터의 index값가져오기\n",
    "print(data[idx])#원데이터의 위치값으로 인덱싱한것 / idx배열의 값으로 데이터 행렬을 indexing 한 결과"
   ]
  },
  {
   "cell_type": "markdown",
   "id": "c2fa1647",
   "metadata": {},
   "source": [
    "### [문제] 학생이름과 정수데이터를 이용하여 성적이 우수한 학생 순서로 이름을 출력하시오"
   ]
  },
  {
   "cell_type": "code",
   "execution_count": 83,
   "id": "620f1520",
   "metadata": {},
   "outputs": [
    {
     "name": "stdout",
     "output_type": "stream",
     "text": [
      "['삼장법사' '전우치' '사오정' '저팔계' '홍길동']\n"
     ]
    }
   ],
   "source": [
    "name=['홍길동','저팔계','사오정','전우치','삼장법사']\n",
    "score=[75,100,95,56,99]\n",
    "\n",
    "npname=np.array(name) \n",
    "#이 과정을 거치지 않으면 안되는 이유? \n",
    "#리스트니까 인덱싱 바로하면 안되나요\n",
    "#행렬은 컴마로 연결된 연속 인덱싱이 가능한건가요 그래서인가..!\n",
    "npscore=np.array(score)\n",
    "a=np.sort(npscore)[::-1]\n",
    "idx=np.argsort(a)\n",
    "idx\n",
    "print(npname[idx])\n"
   ]
  },
  {
   "cell_type": "markdown",
   "id": "e422e418",
   "metadata": {},
   "source": [
    "# 행렬연산"
   ]
  },
  {
   "cell_type": "markdown",
   "id": "dfcf076b",
   "metadata": {},
   "source": [
    "## * 연산자\n",
    "- **형태(shape)가 동일한** 두 행을 원소끼리 곱하는 연산자\n",
    "- **교환법칙**이 성립됨\n"
   ]
  },
  {
   "cell_type": "code",
   "execution_count": 86,
   "id": "e92daa83",
   "metadata": {},
   "outputs": [
    {
     "name": "stdout",
     "output_type": "stream",
     "text": [
      "[[2 0]\n",
      " [0 4]]\n",
      "[[2 0]\n",
      " [0 4]]\n"
     ]
    }
   ],
   "source": [
    "import numpy as np\n",
    "a=np.array([[1,1],[0,1]])\n",
    "b=np.array([[2,0],[3,4]])\n",
    "\n",
    "print(a*b)\n",
    "print(b*a) #교환 법칙이 성립"
   ]
  },
  {
   "cell_type": "markdown",
   "id": "dbcff821",
   "metadata": {},
   "source": [
    "# numpy.dot()\n",
    "- 두백터의 내적을 계산하는 함수\n",
    "  - 내적 : 백터에서 서로대응하는성분끼리 곱한다음 모두 더한것을 의미하며, 내적의 결과는 단일값(스칼라)으로 출력\n",
    "  - 활용 : 추천알고리즘에서 백터의 유사도, 선형변수에서 사용 \n",
    "  - a·b(ㄱ+한자) 또는 <a,b> 두함수의 내적을 표현 : A1*B1+A2*B2+...+An*Bn\n",
    "- 행렬곱에서도 사용가능하지만, 공식문서에서는 행렬곱은 numpy.matmul() 함수사용을 권장"
   ]
  },
  {
   "cell_type": "code",
   "execution_count": 88,
   "id": "e76d46b2",
   "metadata": {},
   "outputs": [
    {
     "name": "stdout",
     "output_type": "stream",
     "text": [
      "107\n"
     ]
    }
   ],
   "source": [
    "a=np.array([3,4,6,3,9])\n",
    "b=np.array([6,8,1,2,5])\n",
    "c=np.dot(a,b) #= 3*6+4*8+...+9*5 =107\n",
    "print(c)"
   ]
  },
  {
   "cell_type": "code",
   "execution_count": 97,
   "id": "e28c45bc",
   "metadata": {},
   "outputs": [
    {
     "name": "stdout",
     "output_type": "stream",
     "text": [
      "[[1 1]\n",
      " [0 1]]\n",
      "\n",
      "[[2 0]\n",
      " [3 4]]\n",
      "\n",
      "[[5 4]\n",
      " [3 4]]\n",
      "[[2 2]\n",
      " [3 7]]\n"
     ]
    }
   ],
   "source": [
    "a=np.array([[1,1],[0,1]])\n",
    "b=np.array([[2,0],[3,4]])\n",
    "print(a,b,sep='\\n\\n')\n",
    "print() #왼쪽의 행의 갯수와 오른쪽의 열의 갯수가 같아야 연산가능/ 뭐지..?\n",
    "print(np.dot(a,b))#교환법칙 성립안됨/행렬의 개수가 항상같으란 법이 없지\n",
    "print(np.dot(b,a))\n",
    "\n",
    "#배열 1차원 : 백터 / 배열의 2차원 이상 : 행렬"
   ]
  },
  {
   "cell_type": "markdown",
   "id": "b81ddcbd",
   "metadata": {},
   "source": [
    "## numpy.matmul() / @연산자(행렬곱 수행 권장)\n",
    "- 행렬곱 연산을 수행"
   ]
  },
  {
   "cell_type": "code",
   "execution_count": 99,
   "id": "99b4438d",
   "metadata": {},
   "outputs": [
    {
     "name": "stdout",
     "output_type": "stream",
     "text": [
      "[[5 4]\n",
      " [3 4]]\n",
      "[[5 4]\n",
      " [3 4]]\n"
     ]
    }
   ],
   "source": [
    "a=np.array([[1,1],[0,1]])\n",
    "b=np.array([[2,0],[3,4]])\n",
    "\n",
    "print(np.matmul(a,b))\n",
    "print(a@b)"
   ]
  },
  {
   "cell_type": "markdown",
   "id": "be4bc84a",
   "metadata": {},
   "source": [
    "## dot과 matmul의 차이\n",
    "- dot 행렬과 상수의 곱이 가능 / matmul:err\n",
    "- 3차원 이상의 행렬곱(tensor multiplication)을 수행할 경우 결과가 다르다."
   ]
  },
  {
   "cell_type": "code",
   "execution_count": 102,
   "id": "1ff06583",
   "metadata": {},
   "outputs": [
    {
     "name": "stdout",
     "output_type": "stream",
     "text": [
      "[[2 2]\n",
      " [0 2]]\n"
     ]
    }
   ],
   "source": [
    "a=np.array([[1,1],[0,1]]) \n",
    "print(np.dot(a,2))\n",
    "#print(np.matmul(a,2)) #err"
   ]
  },
  {
   "cell_type": "markdown",
   "id": "d642046a",
   "metadata": {},
   "source": [
    "## 전치(Transpose_행과열의위치변경)\n",
    "- 전치 : 기존행렬의 행과 열을 교환하는 것, 즉 주대각선을 기준으로 반사 대칭하는 것을 의미한다\n",
    "- 배열 객체의 T속성 또는 transpose()를 사용"
   ]
  },
  {
   "cell_type": "code",
   "execution_count": 103,
   "id": "0ff046af",
   "metadata": {},
   "outputs": [
    {
     "ename": "NameError",
     "evalue": "name 'T' is not defined",
     "output_type": "error",
     "traceback": [
      "\u001b[1;31m---------------------------------------------------------------------------\u001b[0m",
      "\u001b[1;31mNameError\u001b[0m                                 Traceback (most recent call last)",
      "\u001b[1;32m~\\AppData\\Local\\Temp\\ipykernel_11412\\1400257748.py\u001b[0m in \u001b[0;36m<module>\u001b[1;34m\u001b[0m\n\u001b[0;32m      1\u001b[0m \u001b[0ma\u001b[0m\u001b[1;33m=\u001b[0m\u001b[0mnp\u001b[0m\u001b[1;33m.\u001b[0m\u001b[0marray\u001b[0m\u001b[1;33m(\u001b[0m\u001b[1;33m[\u001b[0m\u001b[1;33m[\u001b[0m\u001b[1;36m1\u001b[0m\u001b[1;33m,\u001b[0m\u001b[1;36m2\u001b[0m\u001b[1;33m]\u001b[0m\u001b[1;33m,\u001b[0m\u001b[1;33m[\u001b[0m\u001b[1;36m3\u001b[0m\u001b[1;33m,\u001b[0m\u001b[1;36m4\u001b[0m\u001b[1;33m]\u001b[0m\u001b[1;33m]\u001b[0m\u001b[1;33m)\u001b[0m\u001b[1;33m\u001b[0m\u001b[1;33m\u001b[0m\u001b[0m\n\u001b[1;32m----> 2\u001b[1;33m \u001b[0ma\u001b[0m\u001b[1;33m(\u001b[0m\u001b[0mT\u001b[0m\u001b[1;33m)\u001b[0m\u001b[1;33m\u001b[0m\u001b[1;33m\u001b[0m\u001b[0m\n\u001b[0m",
      "\u001b[1;31mNameError\u001b[0m: name 'T' is not defined"
     ]
    }
   ],
   "source": [
    "a=np.array([[1,2],[3,4]])"
   ]
  },
  {
   "cell_type": "markdown",
   "id": "25570d2d",
   "metadata": {},
   "source": [
    "# 인덱싱과 슬라이싱\n"
   ]
  },
  {
   "cell_type": "code",
   "execution_count": 107,
   "id": "f3c12651",
   "metadata": {},
   "outputs": [
    {
     "name": "stdout",
     "output_type": "stream",
     "text": [
      "1\n"
     ]
    },
    {
     "data": {
      "text/plain": [
       "1"
      ]
     },
     "execution_count": 107,
     "metadata": {},
     "output_type": "execute_result"
    }
   ],
   "source": [
    "a=[[1,2,3,4,5],[6,7,8,9,10]]\n",
    "print(a[0][0])\n",
    "\n",
    "a=np.array(a)\n",
    "a[0][0]\n",
    "a[1,1] #행열값 넣기  list와 차이점\n"
   ]
  },
  {
   "cell_type": "markdown",
   "id": "205d72e9",
   "metadata": {},
   "source": [
    "## boolean indexing =masking"
   ]
  },
  {
   "cell_type": "code",
   "execution_count": 113,
   "id": "d10d2b72",
   "metadata": {},
   "outputs": [
    {
     "name": "stdout",
     "output_type": "stream",
     "text": [
      "[[False  True False  True False  True]\n",
      " [False  True False  True False  True]\n",
      " [False  True False  True False  True]\n",
      " [False  True False  True False  True]]\n",
      "12\n",
      "[ 2  4  6  8 10 12 14 16 18 20 22 24]\n",
      "156\n"
     ]
    }
   ],
   "source": [
    "a=np.arange(1,25).reshape(4,6)\n",
    "a\n",
    "\n",
    "#a배열에서 짝수인 요소의 총합은? masking 배열= T또는 F가 나오늘 배열\n",
    "eve_arr=a%2==0 #  짝수인지\n",
    "print(eve_arr) #=masking 배열\n",
    "print(np.sum(eve_arr)) #짝수요소(True)들의 갯수\n",
    "print(a[eve_arr]) # a[a%2==0] 인덱스가 아닌데, True로도 출력이 되나? (궁금)\n",
    "print(np.sum(a[eve_arr])) #짝수요소의 합구하기\n",
    "#파이썬의 내장함수를 사용해도 되지만, 넘파이의 매개변수를 활용할 수 없다(다차원의 배열은 넘파이 함수를쓰는게 좋다.)"
   ]
  },
  {
   "cell_type": "code",
   "execution_count": 115,
   "id": "7c92f52e",
   "metadata": {},
   "outputs": [
    {
     "name": "stdout",
     "output_type": "stream",
     "text": [
      "[ 4  7  9  4 23  6  7]\n"
     ]
    }
   ],
   "source": [
    "a=np.array([1,4,7,9,0,4,23,6,7,2])\n",
    "print(a[a>3])\n",
    "\n",
    "#파이썬의 인덱싱은 오직 하나의 값이지만,\n",
    "#넘파이는 배열의 조건에 부합하면 모두 뽑아냄"
   ]
  },
  {
   "cell_type": "markdown",
   "id": "0b52e130",
   "metadata": {},
   "source": [
    "## Fancy indexing"
   ]
  },
  {
   "cell_type": "code",
   "execution_count": null,
   "id": "d432b1bb",
   "metadata": {},
   "outputs": [],
   "source": []
  },
  {
   "cell_type": "code",
   "execution_count": null,
   "id": "c3cb8ebb",
   "metadata": {},
   "outputs": [],
   "source": []
  },
  {
   "cell_type": "code",
   "execution_count": null,
   "id": "43801a23",
   "metadata": {},
   "outputs": [],
   "source": []
  },
  {
   "cell_type": "code",
   "execution_count": null,
   "id": "e8817e5f",
   "metadata": {},
   "outputs": [],
   "source": []
  },
  {
   "cell_type": "code",
   "execution_count": null,
   "id": "5178f118",
   "metadata": {},
   "outputs": [],
   "source": []
  },
  {
   "cell_type": "code",
   "execution_count": null,
   "id": "55b45756",
   "metadata": {},
   "outputs": [],
   "source": []
  }
 ],
 "metadata": {
  "kernelspec": {
   "display_name": "Python 3 (ipykernel)",
   "language": "python",
   "name": "python3"
  },
  "language_info": {
   "codemirror_mode": {
    "name": "ipython",
    "version": 3
   },
   "file_extension": ".py",
   "mimetype": "text/x-python",
   "name": "python",
   "nbconvert_exporter": "python",
   "pygments_lexer": "ipython3",
   "version": "3.9.13"
  },
  "toc": {
   "base_numbering": 1,
   "nav_menu": {},
   "number_sections": true,
   "sideBar": true,
   "skip_h1_title": false,
   "title_cell": "Table of Contents",
   "title_sidebar": "Contents",
   "toc_cell": false,
   "toc_position": {
    "height": "calc(100% - 180px)",
    "left": "10px",
    "top": "150px",
    "width": "307.2px"
   },
   "toc_section_display": true,
   "toc_window_display": true
  }
 },
 "nbformat": 4,
 "nbformat_minor": 5
}
