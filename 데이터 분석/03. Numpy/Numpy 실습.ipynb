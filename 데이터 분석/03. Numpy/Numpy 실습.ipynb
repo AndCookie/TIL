{
 "cells": [
  {
   "cell_type": "markdown",
   "id": "52cb379a",
   "metadata": {},
   "source": [
    "# Numpy 개요\n",
    "\n",
    "- 공식 사이트 : https://numpy.org\n",
    "- 고성능 수치 해석용 Python 라이브러리\n",
    "- Numpy는 고성능 다차원 배열과 이런 배열을 처리하는 다양한 함수와 툴을 제공\n",
    "\n",
    "    - 사용 목적 : 데이터 분석X (예측, 분류, 특징 찾아내기 등..)\n",
    "    - 사용 목적 : 데이터 다루고 처리만 O"
   ]
  },
  {
   "cell_type": "markdown",
   "id": "5991703b",
   "metadata": {},
   "source": [
    "# Python 다차원 배열의 이해"
   ]
  },
  {
   "cell_type": "markdown",
   "id": "44d6d2e4",
   "metadata": {},
   "source": [
    "- 세 명의 학생의 수학 점수에 대한 합과 평균 구하기"
   ]
  },
  {
   "cell_type": "markdown",
   "id": "b4aa3f67",
   "metadata": {},
   "source": [
    "## 숫자 자료형"
   ]
  },
  {
   "cell_type": "code",
   "execution_count": 7,
   "id": "c1bf17ac",
   "metadata": {},
   "outputs": [
    {
     "name": "stdout",
     "output_type": "stream",
     "text": [
      "수학점수 합계: 36점\n",
      "수학점수 평균: 12.00점\n"
     ]
    }
   ],
   "source": [
    "# 1. 수학 점수를 변수에 저장하기\n",
    "math1 = 11\n",
    "math2 = 12\n",
    "math3 = 13\n",
    "\n",
    "# 2. 합과 평균 구하기\n",
    "total = math1 + math2 + math3\n",
    "average = total / 3\n",
    "print(f'수학점수 합계: {total}')\n",
    "print(f'수학점수 평균: {average:.2f}')\n",
    "\n",
    "# 만약 학생의 수가 늘어난다면 2번 식을 전부 다 수정해야한다.\n",
    "# 따라서, 집합형 데이터인 리스트로 관리한다면 더 용이하다."
   ]
  },
  {
   "cell_type": "markdown",
   "id": "6741f0ca",
   "metadata": {},
   "source": [
    "## 리스트 자료형"
   ]
  },
  {
   "cell_type": "code",
   "execution_count": 9,
   "id": "6419b581",
   "metadata": {
    "scrolled": true
   },
   "outputs": [
    {
     "name": "stdout",
     "output_type": "stream",
     "text": [
      "수학점수 합계: 36\n",
      "수학점수 평균: 12.00\n"
     ]
    }
   ],
   "source": [
    "# 1. 수학 점수를 리스트에 저장하기\n",
    "math_list = [11,12,13]\n",
    "\n",
    "# 2. 합과 평균 구하기\n",
    "total = 0\n",
    "average = 0\n",
    "\n",
    "for math in math_list:\n",
    "    total += math\n",
    "average = total / len(math_list)\n",
    "\n",
    "print(f'수학점수 합계: {total}')\n",
    "print(f'수학점수 평균: {average:.2f}')\n",
    "\n",
    "# 만약 학생의 수가 늘어난다 하더라도 2번 식을 수정할 필요가 없다.\n",
    "# math_list에 append해서 새로운 데이터만 추가해주면 된다."
   ]
  },
  {
   "cell_type": "markdown",
   "id": "bfa56ef0",
   "metadata": {},
   "source": [
    "- 시험 문제 오류가 발견되어 모든 학생의 점수를 1점씩 올려줘야 한다면 어떻게 처리할까?"
   ]
  },
  {
   "cell_type": "code",
   "execution_count": null,
   "id": "518cf8c0",
   "metadata": {},
   "outputs": [],
   "source": [
    "# list comprehension으로 새로운 리스트를 만들기\n",
    "math_list = [ math+1 for math in math_list ]"
   ]
  },
  {
   "cell_type": "markdown",
   "id": "f289c2ee",
   "metadata": {},
   "source": [
    "- 과목 수와 반의 수가 늘어나는 등 구조가 확장된다면 어떻게 처리할까?\n",
    "    - 계속 중첩되는 상황이 발생"
   ]
  },
  {
   "cell_type": "code",
   "execution_count": 13,
   "id": "5b3129a8",
   "metadata": {},
   "outputs": [
    {
     "name": "stdout",
     "output_type": "stream",
     "text": [
      "[[11, 12, 13], [21, 22, 23], [31, 32, 33]]\n"
     ]
    }
   ],
   "source": [
    "# 1반의 점수 11,12,13\n",
    "# 2반의 점수 21,22,23\n",
    "# 3반의 점수 31,32,33\n",
    "## 중첩 리스트를 통해 아래와 같이 나타낼 수 있다.\n",
    "\n",
    "math_list = [[11,12,13],\n",
    "             [21,22,23],\n",
    "             [31,32,33]]\n",
    "print(math_list)\n",
    "# [[11, 12, 13], [21, 22, 23], [31, 32, 33]]\n",
    "\n",
    "# 자료 구조의 중첩이 늘어난만큼 for문도 늘어난다"
   ]
  },
  {
   "cell_type": "markdown",
   "id": "c86c84e7",
   "metadata": {},
   "source": [
    "<font color='red'> 문제점 </font>\n",
    "\n",
    "    - 자료구조의 중첩이 증가하면 반복문도 하나 더 사용해야 한다.\n",
    "    - 따라서, 구조의 중첩이 증가할수록 코드는 복잡해진다.\n",
    " \n",
    "     - html의 font 태그가 먹힌다"
   ]
  },
  {
   "cell_type": "markdown",
   "id": "47aa2eb2",
   "metadata": {},
   "source": [
    "## Numpy로 구현한 다차원 배열\n",
    "- Numpy를 사용하면 중첩된 자료구조를 효율적으로 다룰 수 있다.\n",
    "- import numpy as np 형태로 패키지를 불러와서 사용하는 것이 일반적이다."
   ]
  },
  {
   "cell_type": "code",
   "execution_count": 1,
   "id": "72016d2c",
   "metadata": {
    "scrolled": true
   },
   "outputs": [
    {
     "name": "stdout",
     "output_type": "stream",
     "text": [
      "[[11 12 13]\n",
      " [21 22 23]\n",
      " [31 32 33]]\n",
      "<class 'numpy.ndarray'>\n"
     ]
    }
   ],
   "source": [
    "import numpy as np\n",
    "\n",
    "math_list = [[11,12,13],\n",
    "             [21,22,23],\n",
    "             [31,32,33]]\n",
    "\n",
    "# numpy의 array 함수 사용\n",
    "math_ndarray = np.array(math_list)\n",
    "print(math_ndarray) ############### 다차원 배열 ################\n",
    "\n",
    "#[[11 12 13]\n",
    "# [21 22 23]\n",
    "# [31 32 33]]\n",
    "# 컴마도 없고, 행열 구조 그대로 출력된다.\n",
    "\n",
    "print(type(math_ndarray))\n",
    "# <class 'numpy.ndarray'>"
   ]
  },
  {
   "cell_type": "code",
   "execution_count": 3,
   "id": "4b505de1",
   "metadata": {},
   "outputs": [
    {
     "name": "stdout",
     "output_type": "stream",
     "text": [
      "[[12 13 14]\n",
      " [22 23 24]\n",
      " [32 33 34]]\n"
     ]
    }
   ],
   "source": [
    "# 모든 점수를 1씩 더하기\n",
    "# for문을 이용하지 않고도, 간단히 연산 가능하다\n",
    "# element-wise : 요소별로 수치 연산이 이루어진다.\n",
    "\n",
    "new_ndarray = math_ndarray +1\n",
    "print(new_ndarray)"
   ]
  },
  {
   "cell_type": "markdown",
   "id": "d1c620b1",
   "metadata": {},
   "source": [
    "- Numpy에 구현된 함수를 이용해서 합이나 평균도 쉽게 구할 수 있다"
   ]
  },
  {
   "cell_type": "code",
   "execution_count": 16,
   "id": "a33b7367",
   "metadata": {},
   "outputs": [
    {
     "name": "stdout",
     "output_type": "stream",
     "text": [
      "207\n",
      "23.0\n"
     ]
    }
   ],
   "source": [
    "# numpy의 sum함수와 mean 함수\n",
    "# cf) 파이썬에서는 평균을 구하는 함수가 따로 없었다.\n",
    "\n",
    "print(np.sum(new_ndarray))\n",
    "print(np.mean(new_ndarray))"
   ]
  },
  {
   "cell_type": "code",
   "execution_count": 4,
   "id": "40aea68f",
   "metadata": {},
   "outputs": [
    {
     "name": "stdout",
     "output_type": "stream",
     "text": [
      "[[12 13 14]\n",
      " [22 23 24]\n",
      " [32 33 34]]\n"
     ]
    },
    {
     "data": {
      "text/plain": [
       "array([13., 23., 33.])"
      ]
     },
     "execution_count": 4,
     "metadata": {},
     "output_type": "execute_result"
    }
   ],
   "source": [
    "# 행의 평균\n",
    "\n",
    "# 반별 평균 구하기\n",
    "print(new_ndarray)\n",
    "np.mean(new_ndarray, axis=1)\n",
    "# axis : 축\n",
    "# array([13., 23., 33.])\n",
    "\n",
    "# '.' 은 실수를 의미한다 : 나중에 형 변환시 학습할 내용"
   ]
  },
  {
   "cell_type": "code",
   "execution_count": 5,
   "id": "99fbdd09",
   "metadata": {},
   "outputs": [
    {
     "name": "stdout",
     "output_type": "stream",
     "text": [
      "[[12 13 14]\n",
      " [22 23 24]\n",
      " [32 33 34]]\n"
     ]
    },
    {
     "data": {
      "text/plain": [
       "array([22., 23., 24.])"
      ]
     },
     "execution_count": 5,
     "metadata": {},
     "output_type": "execute_result"
    }
   ],
   "source": [
    "# 열의 평균\n",
    "\n",
    "# 각 반의 첫번째 학생 평균 구하기\n",
    "print(new_ndarray)\n",
    "np.mean(new_ndarray, axis=0)\n",
    "# array([22., 23., 24.])\n",
    "\n",
    "# '.' 은 실수를 의미한다 : 나중에 형 변환시 학습할 내용"
   ]
  },
  {
   "cell_type": "markdown",
   "id": "4e141611",
   "metadata": {},
   "source": [
    "# Numpy의 axis(축) 정리"
   ]
  },
  {
   "cell_type": "markdown",
   "id": "9689c516",
   "metadata": {},
   "source": [
    "- Numpy 라이브러리의 여러 함수에서는 axis 파라미터가 사용되며, 다음과 같이 해석할 수 있다.\n",
    "- 먼저 행열의 모양을 다음과 같이 학인한다.\n",
    "    - ndarray.shape (행열객체.shape)\n",
    "        - 튜플의 형태로 결과 반환\n",
    "        - 1차원 벡터: (개수,) / axis 0\n",
    "        - 2차원 행렬: (행, 열) / axis0과 axis1\n",
    "        - 3차원 행렬: (깊이, 행, 열) / axis0과 axis1과 axis2"
   ]
  },
  {
   "attachments": {
    "image.png": {
     "image/png": "[encoded data removed]"
    }
   },
   "cell_type": "markdown",
   "id": "e7971acf",
   "metadata": {},
   "source": [
    "## 2차원 행렬의 축\n",
    "![image.png](attachment:image.png)\n",
    "- ctrl + n\n",
    "- axis를 0(또는 -2)로 하면 행 축을 기준으로 더하라는 의미로, 각 행에 있는 열의 값을 더해 하나로 만든다.\n",
    "- axis를 1(또는 -1)로 하면 열 축을 기준으로 더하라는 의미로, 각 열에 있는 행의 값을 더해 하나로 만든다."
   ]
  },
  {
   "cell_type": "code",
   "execution_count": null,
   "id": "95c273dd",
   "metadata": {},
   "outputs": [],
   "source": [
    "new_ndarray.shape\n",
    "# (3, 3)\n",
    "# 3행 3열"
   ]
  },
  {
   "attachments": {
    "image.png": {
     "image/png": "[encoded data removed]"
    }
   },
   "cell_type": "markdown",
   "id": "1e5432ed",
   "metadata": {},
   "source": [
    "## 3차원 행렬의 축\n",
    "![image.png](attachment:image.png)\n",
    "- axis를 0(또는 -3)로 하면 깊이를 기준으로 더하라는 의미로, 서로 마주하는 요소 값을 더해 하나로 만든다.\n",
    "- axis를 1(또는 -2)로 하면 행 축을 기준으로 더하라는 의미로, 각 행에 있는 열의 값을 더해 하나로 만든다.\n",
    "- axis를 2(또는 -1)로 하면 열 축을 기준으로 더하라는 의미로, 각 열에 있는 행의 값을 더해 하나로 만든다."
   ]
  },
  {
   "cell_type": "code",
   "execution_count": null,
   "id": "31ef7969",
   "metadata": {},
   "outputs": [],
   "source": [
    "# (3,2,4)\n",
    "# 2행 4열짜리가 3개의 판으로 이루어져있다.\n",
    "# axis=0라면 마주보는 판끼리의 원소 합을 더하게 됨."
   ]
  },
  {
   "cell_type": "code",
   "execution_count": 19,
   "id": "ef08883a",
   "metadata": {
    "scrolled": true
   },
   "outputs": [
    {
     "name": "stdout",
     "output_type": "stream",
     "text": [
      "[[1 2]\n",
      " [3 4]]\n",
      "(2, 2)\n",
      "------------------------------\n",
      "[[[ 1  2  3]\n",
      "  [ 4  5  6]]\n",
      "\n",
      " [[ 7  8  9]\n",
      "  [10 11 12]]]\n",
      "(2, 2, 3)\n",
      "------------------------------\n"
     ]
    }
   ],
   "source": [
    "import numpy as np\n",
    "\n",
    "array1 = np.array([[1,2],[3,4]])\n",
    "print(array1)\n",
    "print(array1.shape) #2행2열\n",
    "print('-'*30)\n",
    "\n",
    "a = [[[1,2,3],\n",
    "      [4,5,6]],\n",
    "     [[7,8,9],\n",
    "      [10,11,12]]]\n",
    "array2 = np.array(a)\n",
    "print(array2)\n",
    "print(array2.shape) #2행3열짜리가 2판 있는 것\n",
    "print('-'*30)"
   ]
  },
  {
   "cell_type": "code",
   "execution_count": 40,
   "id": "da2d3d7d",
   "metadata": {
    "scrolled": true
   },
   "outputs": [
    {
     "name": "stdout",
     "output_type": "stream",
     "text": [
      "2차원 배열의 axis=0 기준의 합: [4 6]\n",
      "2차원 배열의 axis=1 기준의 합: [3 7]\n",
      "\n",
      "3차원 배열의 axis=0 기준의 합: \n",
      "[[ 8 10 12]\n",
      " [14 16 18]]\n",
      "3차원 배열의 axis=1 기준의 합: \n",
      "[[ 5  7  9]\n",
      " [17 19 21]]\n",
      "3차원 배열의 axis=2 기준의 합: \n",
      "[[ 6 15]\n",
      " [24 33]]\n"
     ]
    }
   ],
   "source": [
    "print('2차원 배열의 axis=0 기준의 합: ', end='')\n",
    "print(np.sum(array1, axis=0)) #[4 6]\n",
    "\n",
    "print('2차원 배열의 axis=1 기준의 합: ', end='')\n",
    "print(np.sum(array1, axis=1)) #[3 7]\n",
    "\n",
    "print()\n",
    "\n",
    "print('3차원 배열의 axis=0 기준의 합: ')\n",
    "print(np.sum(array2, axis=0))\n",
    "# [[ 8 10 12]\n",
    "# [14 16 18]]\n",
    "\n",
    "print('3차원 배열의 axis=1 기준의 합: ')\n",
    "print(np.sum(array2, axis=1))\n",
    "# [[ 5  7  9]\n",
    "#  [17 19 21]]\n",
    "\n",
    "print('3차원 배열의 axis=2 기준의 합: ')\n",
    "print(np.sum(array2, axis=2))\n",
    "# [[ 6 15]\n",
    "#  [24 33]]"
   ]
  },
  {
   "attachments": {
    "image.png": {
     "image/png": "[encoded data removed]"
    }
   },
   "cell_type": "markdown",
   "id": "ff423203",
   "metadata": {},
   "source": [
    "# Numpy의 특징\n",
    "\n",
    "![image.png](attachment:image.png)\n",
    "\n",
    "- 파이썬 리스트는 포인터(실제값이 저장된 곳의 주소)의 배열\n",
    "    - 따라서 각각 객체가 메모리 여기저기 흩어져 있어서 값의 참조가 느리다.\n",
    "\n",
    "- 반면, ndarray는 다차원 데이터도 연속된 메모리 공간에 할당\n",
    "    - 따라서 효율적인 메모리 사용이 가능하다"
   ]
  },
  {
   "cell_type": "markdown",
   "id": "303885ac",
   "metadata": {},
   "source": [
    "# 배열 생성 - 1"
   ]
  },
  {
   "cell_type": "markdown",
   "id": "a7b9c545",
   "metadata": {},
   "source": [
    "## array()를 이용한 생성\n",
    "- 가장 기본적인 방법 : array 함수를 사용하여 일반적인 파이썬의 리스트 또는 튜플에서 배열을 만드는 것\n",
    "    - 파이썬의 list는 하나의 리스트 안에 여러 종류의 데이터를 넣을 수 있다 (문자열, 숫자 섞어서)\n",
    "    - 넘파이의 다차원 배열의 모든 원소는 **동일한 데이터 타입** 을 가져야 한다."
   ]
  },
  {
   "cell_type": "code",
   "execution_count": 14,
   "id": "35c1f59d",
   "metadata": {},
   "outputs": [
    {
     "name": "stdout",
     "output_type": "stream",
     "text": [
      "[[1. 2.]\n",
      " [3. 4.]]\n"
     ]
    }
   ],
   "source": [
    "array = np.array([[1,2],[3,4]], dtype='float') # np.float으로도 dtype 지정 가능\n",
    "array = np.array([[1,2],[3,4]], np.float32)\n",
    "print(array)\n",
    "\n",
    "# 실수형으로 선언되었으므로 결과값에 .이 붙는다"
   ]
  },
  {
   "cell_type": "markdown",
   "id": "9b8fff7e",
   "metadata": {},
   "source": [
    "### 형 변환\n",
    "- 데이터가 정수로 입력되더라도 data type을 실수형으로 명시한다면, 실수형으로 자동 형변환이 일어난다."
   ]
  },
  {
   "cell_type": "code",
   "execution_count": 2,
   "id": "4160a9d7",
   "metadata": {},
   "outputs": [
    {
     "name": "stdout",
     "output_type": "stream",
     "text": [
      "[1. 2. 3. 4.]\n"
     ]
    }
   ],
   "source": [
    "a = np.array(['1','2',3,4], np.float16)\n",
    "print(a)\n",
    "\n",
    "# 실수형으로 자동 형변환되었으므로 결과값에 .이 붙는다"
   ]
  },
  {
   "cell_type": "markdown",
   "id": "a036b721",
   "metadata": {},
   "source": [
    "## arange()를 이용한 생성\n",
    "- 일련의 연속된 숫자를 생성하는 파이썬의 range() 내장 함수와 유사"
   ]
  },
  {
   "cell_type": "code",
   "execution_count": 21,
   "id": "133743c9",
   "metadata": {},
   "outputs": [
    {
     "name": "stdout",
     "output_type": "stream",
     "text": [
      "[1 2 3 4 5 6 7 8 9]\n",
      "[10 15 20 25]\n",
      "[0 1 2 3 4 5 6 7 8 9]\n"
     ]
    }
   ],
   "source": [
    "import numpy as np\n",
    "\n",
    "a = np.arange(1,10)\n",
    "print(a)\n",
    "# [1 2 3 4 5 6 7 8 9]\n",
    "\n",
    "b = np.arange(10,30,5)\n",
    "print(b)\n",
    "# [10 15 20 25]\n",
    "\n",
    "c = np.arange(10)\n",
    "print(c)"
   ]
  },
  {
   "cell_type": "markdown",
   "id": "124df1db",
   "metadata": {},
   "source": [
    "## Numpy 배열의 주요 속성\n",
    "\n",
    "1) **ndarray.shape**\n",
    "- numpy array 넘파이 배열의 차원을 튜플 타입으로 반환\n",
    "\n",
    "2) **ndarray.dtype**\n",
    "- 배열의 자료형을 반환\n",
    "\n",
    "3) **ndarray.ndim**\n",
    "- 배열의 차수(차원)을 정수 값으로 반환\n",
    "\n",
    "4) **ndarray.size**\n",
    "- 배열의 요소의 총 개수를 정수 값으로 반환\n",
    "- shape의 모든 값이 곱이 된다.\n",
    "\n",
    "5) **ndarray.nbytes**\n",
    "- 배열의 메모리 크기 반환"
   ]
  },
  {
   "cell_type": "code",
   "execution_count": 7,
   "id": "499a1567",
   "metadata": {},
   "outputs": [
    {
     "name": "stdout",
     "output_type": "stream",
     "text": [
      "[1 2 3 4 5]\n",
      "int32\n",
      "1\n",
      "(5,)\n",
      "5\n",
      "20\n"
     ]
    }
   ],
   "source": [
    "# 1차원 배열\n",
    "a = np.array([1,2,3,4,5])\n",
    "\n",
    "print(a)\n",
    "print(a.dtype) # int32 (DEFAULT는 32비트로서 2억개의 비트를 표현 가능하다. 즉,약 5천만 개 미만의 숫자 표현 가능 / 그 이상은 64비트 ex) 유튜브 조회수를 64비트로 바꾼 사례)\n",
    "print(a.ndim)  # 1 (1차원 백터)\n",
    "print(a.shape) # (5,)\n",
    "print(a.size)  # 5\n",
    "print(a.nbytes) # 20비트 (메모리 공간에서 20바이트를 차지 // 8비트 = 1바이트 // 숫자는 4비트)"
   ]
  },
  {
   "cell_type": "code",
   "execution_count": 48,
   "id": "edf418dd",
   "metadata": {},
   "outputs": [
    {
     "name": "stdout",
     "output_type": "stream",
     "text": [
      "[[1 2]\n",
      " [3 4]\n",
      " [5 6]]\n",
      "int32\n",
      "2\n",
      "(3, 2)\n",
      "6\n",
      "24\n"
     ]
    }
   ],
   "source": [
    "# 2차원 배열\n",
    "a = np.array([[1,2],[3,4],[5,6]])\n",
    "\n",
    "print(a)\n",
    "print(a.dtype) # int32\n",
    "print(a.ndim)  # 2\n",
    "print(a.shape) # (3, 2)\n",
    "print(a.size)  # 6\n",
    "print(a.nbytes) # 24비트 (8비트가 1바이트 // 영어와 숫자는 4비트 // 한글은 8비트 )"
   ]
  },
  {
   "cell_type": "markdown",
   "id": "b18f2f59",
   "metadata": {},
   "source": [
    "# 배열 생성 -2\n",
    "- `zeros` : 지정된 shape의 배열을 생성하고, 모든 요소를 0으로 초기화\n",
    "- `ones` : 지정된 shape의 배열을 생성하고, 모든 요소를 1으로 초기화\n",
    "- `full` : 지정된 shape의 배열을 생성하고, 모든 요소를 지정한'fill_value'로 초기화\n",
    "- `empty` : 메모리의 상태에 따라 초기 값이 임의로 설정되는 요소로 이루어진 배열을 생성\n",
    "- `*_like` : 기존의 배열과 shape이 같은 배열을 생성하되, 요소는 다르게 (zeros_like, ones_like...)"
   ]
  },
  {
   "cell_type": "markdown",
   "id": "88459181",
   "metadata": {},
   "source": [
    "- np. ()     : numpy 패키지에서 호출\n",
    "- ndarray.() : 생성된 다차원 배열 객체를 가지고 필드나 함수 호출"
   ]
  },
  {
   "cell_type": "markdown",
   "id": "12514417",
   "metadata": {},
   "source": [
    "## numpy.zeros()"
   ]
  },
  {
   "cell_type": "code",
   "execution_count": 3,
   "id": "e881838a",
   "metadata": {},
   "outputs": [
    {
     "name": "stdout",
     "output_type": "stream",
     "text": [
      "[0. 0. 0. 0.]\n",
      "[0 0 0 0]\n",
      "[[0. 0. 0.]\n",
      " [0. 0. 0.]\n",
      " [0. 0. 0.]\n",
      " [0. 0. 0.]]\n",
      "[[1 2 3]\n",
      " [4 5 6]\n",
      " [7 8 9]]\n",
      "[[0 0 0]\n",
      " [0 0 0]\n",
      " [0 0 0]]\n"
     ]
    }
   ],
   "source": [
    "import numpy as np\n",
    "\n",
    "a = np.zeros(4,)\n",
    "b = np.zeros(4, dtype=np.int64)\n",
    "c = np.zeros((4,3))\n",
    "\n",
    "print(a) # 실수형 다차원 배열\n",
    "print(b) # 정수형 다차원 배열\n",
    "print(c) # 다차원 배열\n",
    "\n",
    "d = np.array([[1,2,3],[4,5,6],[7,8,9]])\n",
    "e = np.zeros_like(d)\n",
    "print(d)\n",
    "print(e)"
   ]
  },
  {
   "cell_type": "markdown",
   "id": "7cf98cf3",
   "metadata": {},
   "source": [
    "## numpy.ones()"
   ]
  },
  {
   "cell_type": "code",
   "execution_count": 4,
   "id": "48558d16",
   "metadata": {},
   "outputs": [
    {
     "name": "stdout",
     "output_type": "stream",
     "text": [
      "[1. 1.]\n",
      "[[1. 1. 1.]\n",
      " [1. 1. 1.]]\n",
      "[[1 1 1]\n",
      " [1 1 1]]\n",
      "[[1 2 3]\n",
      " [4 5 6]\n",
      " [7 8 9]]\n",
      "[[1 1 1]\n",
      " [1 1 1]\n",
      " [1 1 1]]\n"
     ]
    }
   ],
   "source": [
    "print(np.ones(2,))\n",
    "print(np.ones((2,3)))\n",
    "print(np.ones((2,3), dtype=int))\n",
    "\n",
    "d = np.array([[1,2,3],[4,5,6],[7,8,9]])\n",
    "print(d)\n",
    "print(np.ones_like(d))"
   ]
  },
  {
   "cell_type": "markdown",
   "id": "5e55f312",
   "metadata": {},
   "source": [
    "## numpy.full()"
   ]
  },
  {
   "cell_type": "code",
   "execution_count": 24,
   "id": "e88f40b9",
   "metadata": {},
   "outputs": [
    {
     "name": "stdout",
     "output_type": "stream",
     "text": [
      "[1 1]\n",
      "[[10 10]\n",
      " [10 10]]\n",
      "[[0.1 0.1]\n",
      " [0.1 0.1]]\n",
      "[[1 2 3]\n",
      " [4 5 6]\n",
      " [7 8 9]]\n",
      "[[7 7 7]\n",
      " [7 7 7]\n",
      " [7 7 7]]\n"
     ]
    }
   ],
   "source": [
    "print(np.full((2,), 1))\n",
    "print(np.full((2,2), 10))\n",
    "print(np.full((2,2), 0.1))\n",
    "\n",
    "d = np.array([[1,2,3],[4,5,6],[7,8,9]])\n",
    "print(d)\n",
    "print(np.full_like(d, 7))"
   ]
  },
  {
   "cell_type": "markdown",
   "id": "25b8e891",
   "metadata": {},
   "source": [
    "## [연습문제]\n",
    "- 1~10 사이의 값에 대해 다음의 조건에 맞는 2차원 배열을 생성하시오.\n",
    "- 첫 번째 행은 역순으로 나열된 홀수 정수의 요소를 갖고, 두 번째 행은 짝수 정수의 요소를 갖는다."
   ]
  },
  {
   "cell_type": "code",
   "execution_count": 84,
   "id": "89b77efe",
   "metadata": {
    "scrolled": true
   },
   "outputs": [
    {
     "name": "stdout",
     "output_type": "stream",
     "text": [
      "[9 7 5 3 1]\n",
      "[ 2  4  6  8 10]\n",
      "[[ 9  7  5  3  1]\n",
      " [ 2  4  6  8 10]]\n"
     ]
    }
   ],
   "source": [
    "import numpy as np\n",
    "\n",
    "col1 = np.arange(9,0,-2)\n",
    "col2 = np.arange(2,11,2)\n",
    "print(col1)\n",
    "print(col2)\n",
    "\n",
    "ndarray = np.array([col1, col2])\n",
    "print(ndarray)"
   ]
  },
  {
   "cell_type": "code",
   "execution_count": 86,
   "id": "17b6cba9",
   "metadata": {
    "scrolled": true
   },
   "outputs": [
    {
     "name": "stdout",
     "output_type": "stream",
     "text": [
      "[[ 9  7  5  3  1]\n",
      " [ 2  4  6  8 10]]\n"
     ]
    }
   ],
   "source": [
    "# A\n",
    "\n",
    "a = np.array([np.arange(9,0,-2), np.arange(2,11,2)])\n",
    "print(a)"
   ]
  },
  {
   "cell_type": "markdown",
   "id": "f1976299",
   "metadata": {},
   "source": [
    "# 배열 생성 -3"
   ]
  },
  {
   "cell_type": "markdown",
   "id": "7d87c393",
   "metadata": {},
   "source": [
    "## numpy.linspace()\n",
    "- start부터 stop의 범위에서 num개를 균일한 간격으로 데이터를 생성하고 배열을 만드는 함수\n",
    "- 요소 개수를 기준으로 균등 간격의 배열을 생성"
   ]
  },
  {
   "cell_type": "code",
   "execution_count": 87,
   "id": "8cce6461",
   "metadata": {},
   "outputs": [
    {
     "name": "stdout",
     "output_type": "stream",
     "text": [
      "[0.   0.25 0.5  0.75 1.   1.25 1.5  1.75 2.  ]\n"
     ]
    }
   ],
   "source": [
    "print(np.linspace(0,2,9))\n",
    "# [0.   0.25 0.5  0.75 1.   1.25 1.5  1.75 2.  ]\n",
    "# 0 이상 2이하의 범위를 9개로 등분하여 요소를 생성"
   ]
  },
  {
   "cell_type": "code",
   "execution_count": 92,
   "id": "bd711688",
   "metadata": {},
   "outputs": [
    {
     "data": {
      "image/png": "[encoded data removed]",
      "text/plain": [
       "<Figure size 640x480 with 1 Axes>"
      ]
     },
     "metadata": {},
     "output_type": "display_data"
    }
   ],
   "source": [
    "from numpy import pi\n",
    "\n",
    "x = np.linspace(0, 2*pi, 100)\n",
    "f = np.sin(x)\n",
    "# print(f)\n",
    "\n",
    "# sin 곡선 그리기\n",
    "import matplotlib.pyplot as plt\n",
    "plt.plot(x, f)\n",
    "plt.show()"
   ]
  },
  {
   "cell_type": "markdown",
   "id": "fa61ead9",
   "metadata": {},
   "source": [
    "## numpy.identity(), numpy.eye()\n",
    "- 지정한 크기의 정방 단위행렬을 생성\n",
    "    - 주대각선 : (0,0 1,1 2,2 ~ n,n)\n",
    "    - 단위행렬 : 주대각선의 원소가 모두 1이며, 나머지 원소는 모두 0인 행렬\n",
    "    - 정방 행렬 : 가로 세로 길이가 같은 행렬\n",
    "    - 정방 단위행렬 : 주대각선의 원소가 모두 1이며, 나머지 원소는 모두 0인 정사각형 행렬\n",
    "\n",
    "- identity는 정방 단위 행렬만 생성 가능\n",
    "- eye는 기타 단위행렬도 생성 가능 \n",
    "    - eye는 정방 행렬이 아닌 단위행렬도 만들어낸다. 즉, 행과 열의 크기가 다른 단위행렬도 만들어낼 수 있다."
   ]
  },
  {
   "cell_type": "code",
   "execution_count": 5,
   "id": "306870e1",
   "metadata": {
    "scrolled": false
   },
   "outputs": [
    {
     "name": "stdout",
     "output_type": "stream",
     "text": [
      "[[1. 0.]\n",
      " [0. 1.]]\n",
      "[[1 0 0]\n",
      " [0 1 0]\n",
      " [0 0 1]]\n"
     ]
    }
   ],
   "source": [
    "import numpy as np\n",
    "\n",
    "print(np.identity(2)) # 2행2열짜리의 정방 단위행렬\n",
    "print(np.identity(3, dtype=int))"
   ]
  },
  {
   "cell_type": "code",
   "execution_count": 32,
   "id": "9c9831a2",
   "metadata": {},
   "outputs": [
    {
     "name": "stdout",
     "output_type": "stream",
     "text": [
      "[[1. 0. 0.]\n",
      " [0. 1. 0.]\n",
      " [0. 0. 1.]]\n",
      "[[1. 0. 0. 0.]\n",
      " [0. 1. 0. 0.]\n",
      " [0. 0. 1. 0.]]\n",
      "------------------------------\n",
      "[[0. 1. 0. 0.]\n",
      " [0. 0. 1. 0.]\n",
      " [0. 0. 0. 1.]]\n",
      "[[0. 0. 0. 0.]\n",
      " [1. 0. 0. 0.]\n",
      " [0. 1. 0. 0.]]\n"
     ]
    }
   ],
   "source": [
    "# eye() 함수는 행과 열의 크기가 다른 단위행렬도 만들 수 있다.\n",
    "print(np.eye(3))   # 3행3열짜리의 정방 단위행렬\n",
    "print(np.eye(3,4)) # 3행4열짜리의 정방 단위행렬\n",
    "print('-'*30)\n",
    "\n",
    "# 세 번째 값 : 대각선 인덱스\n",
    "# 0(기본값)은 주대각선을 나타내고 (DEFAULT가 0이다)\n",
    "# 양수 값은 위쪽 대각선 (열)을 나타내고\n",
    "# 음수 값은 아래쪽 대각선 (행)을 나타낸다.\n",
    "print(np.eye(3,4,1))  # 3행4열짜리의 정방 단위행렬 + 주 대각선의 시작값은 1\n",
    "print(np.eye(3,4,-1)) # 3행4열짜리의 정방 단위행렬 + 주 대각선의 시작값은 -1"
   ]
  },
  {
   "cell_type": "markdown",
   "id": "f5d3e895",
   "metadata": {},
   "source": [
    "# 배열의 변경"
   ]
  },
  {
   "cell_type": "markdown",
   "id": "377b05ff",
   "metadata": {},
   "source": [
    "## numpy.reshape() / ndarray.reshape()\n",
    "- <font color='red'><b> 원본을 변경하지 않고 새로운 배열을 생성한다 </b></font>\n",
    "- 원본은 그대로 살아있음\n",
    "- 대상 배열의 요소 개수가 원본 배열과 동일 해야한다\n",
    "- numpy 객체가 아닌 다차원 배열 ndarray로도 reshape 가능하다"
   ]
  },
  {
   "cell_type": "code",
   "execution_count": 38,
   "id": "d4fe5394",
   "metadata": {},
   "outputs": [
    {
     "name": "stdout",
     "output_type": "stream",
     "text": [
      "[0 1 2 3 4 5]\n",
      "[[0 1]\n",
      " [2 3]\n",
      " [4 5]]\n",
      "------------------------------\n",
      "[[0 1]\n",
      " [2 3]\n",
      " [4 5]]\n",
      "------------------------------\n",
      "[[ 1  2  3  4  5]\n",
      " [ 6  7  8  9 10]]\n",
      "------------------------------\n",
      "[[[ 1]\n",
      "  [ 2]]\n",
      "\n",
      " [[ 3]\n",
      "  [ 4]]\n",
      "\n",
      " [[ 5]\n",
      "  [ 6]]\n",
      "\n",
      " [[ 7]\n",
      "  [ 8]]\n",
      "\n",
      " [[ 9]\n",
      "  [10]]]\n",
      "------------------------------\n",
      "[ 1  2  3  4  5  6  7  8  9 10]\n"
     ]
    }
   ],
   "source": [
    "a = np.arange(6)\n",
    "print(a) # 1차원 백터\n",
    "\n",
    "b = a.reshape((3,2))  # b = np.reshape(a, (3,2)) 와 동일\n",
    "print(b)\n",
    "# 원본 배열의 원소 개수와 동일하게 해야한다\n",
    "\n",
    "print('-'*30)\n",
    "# (행의 크기를 전체 요소 개수에 맞춰 알아서 지정)\n",
    "c = np.reshape(a, (-1,2)) \n",
    "print(c) # 열의 크기를 2에 맞추고, 행의 크기는 거기에 맞춰서 알아서 지정하여 만들어라\n",
    "\n",
    "print('-'*30)\n",
    "d = np.arange(1,11).reshape(2,5)\n",
    "print(d) # 1부터 10까지의 연속된 원소를 2행5열로\n",
    "\n",
    "print('-'*30)\n",
    "e = d.reshape((-1,2,1))\n",
    "print(e) # 2행1열로 만들되 차원의 갯수인 depth는 알아서\n",
    "\n",
    "# 1차원 백터로 되돌리고 싶을 때 쓰면 되는 방법\n",
    "print('-'*30)\n",
    "f = e.reshape((-1))\n",
    "print(f)  # 행렬의 값이 없으므로 요소를 한 줄로 나타낸다."
   ]
  },
  {
   "cell_type": "markdown",
   "id": "08f8de17",
   "metadata": {},
   "source": [
    "## numpy.resize() / ndarray.resize()\n",
    "- <font color='red'><b> 원본 배열을 새로운 shape로 수정한다 </b></font>\n",
    "- 원본을 바꿔버림\n",
    "- 대상 배열의 요소 개수가 원본 배열과 동일하지 않으면 크기를 강제로 조정한다\n",
    "- 자리가 부족하면 잘라내고, 자리가 남으면 나머지를 0으로 채워버림\n",
    "- numpy 객체가 아닌 다차원 배열 ndarray로도 reshape 가능하다"
   ]
  },
  {
   "cell_type": "code",
   "execution_count": 36,
   "id": "794a66c7",
   "metadata": {},
   "outputs": [
    {
     "name": "stdout",
     "output_type": "stream",
     "text": [
      "[[ 0  1  2  3]\n",
      " [ 4  5  6  7]\n",
      " [ 8  9 10  0]]\n",
      "------------------------------\n",
      "[[ 0  1  2  3]\n",
      " [ 4  5  6  7]\n",
      " [ 8  9 10  0]\n",
      " [ 0  0  0  0]]\n"
     ]
    }
   ],
   "source": [
    "a = np.arange(11)\n",
    "a.resize(3,4)\n",
    "print(a) # 원본의 모양을 변경한다\n",
    "print('-'*30)\n",
    "\n",
    "a.resize((4,4)) # 원본의 크기가 달라도 오류를 발생시키지 않는다\n",
    "print(a)"
   ]
  },
  {
   "cell_type": "markdown",
   "id": "48baecc1",
   "metadata": {},
   "source": [
    "## ndarray.flatten() / ndarray.ravel()\n",
    "- 배열을 1차원 벡터로 만든다.\n",
    "- flatten은 원본에 영향 X\n",
    "- ravel은 원본에 영향 O / 원본을 수정"
   ]
  },
  {
   "cell_type": "code",
   "execution_count": 134,
   "id": "26de30e7",
   "metadata": {},
   "outputs": [
    {
     "name": "stdout",
     "output_type": "stream",
     "text": [
      "[[1 2]\n",
      " [3 4]]\n",
      "[1 2 3 4]\n",
      "[[1 2]\n",
      " [3 5]]\n",
      "[1 2 3 4]\n",
      "---------------\n",
      "[[1 2]\n",
      " [3 4]]\n",
      "[1 2 3 4]\n",
      "[[1 2]\n",
      " [3 5]]\n",
      "[1 2 3 5]\n"
     ]
    }
   ],
   "source": [
    "a = np.array([[1,2],[3,4]])\n",
    "b = a.flatten()\n",
    "print(a)\n",
    "print(b)\n",
    "\n",
    "a[1,1] = 5 # 0의 0번은 1 / 0의 1번은 2 / 1의 0번은 3 / 1의 1번은 4\n",
    "print(a)\n",
    "print(b)\n",
    "\n",
    "\n",
    "print('-'*15)\n",
    "\n",
    "\n",
    "a = np.array([[1,2],[3,4]])\n",
    "b = a.ravel()\n",
    "print(a)\n",
    "print(b)\n",
    "\n",
    "a[1,1] = 5 # 0의 0번은 1 / 0의 1번은 2 / 1의 0번은 3 / 1의 1번은 4\n",
    "print(a)\n",
    "print(b)"
   ]
  },
  {
   "cell_type": "markdown",
   "id": "0094d816",
   "metadata": {},
   "source": [
    "## numpy.expand_dims()\n",
    "- 차원을 확장\n",
    "- 지정한 axis의 위치에 넘파이 배열의 차원을 늘려줌"
   ]
  },
  {
   "cell_type": "code",
   "execution_count": 6,
   "id": "359840f4",
   "metadata": {},
   "outputs": [
    {
     "name": "stdout",
     "output_type": "stream",
     "text": [
      "[1 2]\n",
      "(2,)\n",
      "------------------------------\n",
      "[[1 2]]\n",
      "(1, 2)\n",
      "------------------------------\n",
      "[[1]\n",
      " [2]]\n",
      "(2, 1)\n"
     ]
    }
   ],
   "source": [
    "a = np.array([1,2])\n",
    "print(a)\n",
    "print(a.shape)\n",
    "print('-'*30)\n",
    "\n",
    "# 1차원에서 (첫 번째 축) 행 축을 추가하여 (axis=0) 2차원으로 늘린다.\n",
    "b = np.expand_dims(a, axis=0)\n",
    "print(b) # 2의 앞에 1이 추가되어 (1,2)의 모양으로 확장이 됨\n",
    "print(b.shape)\n",
    "print('-'*30)\n",
    "\n",
    " # 1차원에서 (두 번째 축) 열 축을 추가하여 (axis=1) 2차원으로 늘린다.\n",
    "c = np.expand_dims(a, axis=1)\n",
    "print(c) # 2의 뒤에 1이 추가되어 (2,1)의 모양으로 확장이 됨\n",
    "print(c.shape)"
   ]
  },
  {
   "cell_type": "code",
   "execution_count": 142,
   "id": "c09e50c8",
   "metadata": {
    "scrolled": false
   },
   "outputs": [
    {
     "name": "stdout",
     "output_type": "stream",
     "text": [
      "[[1 2 3]\n",
      " [4 5 6]]\n",
      "(2, 3)\n",
      "------------------------------\n",
      "[[[1 2 3]\n",
      "  [4 5 6]]]\n",
      "(1, 2, 3)\n",
      "------------------------------\n",
      "[[[1 2 3]]\n",
      "\n",
      " [[4 5 6]]]\n",
      "(2, 1, 3)\n",
      "------------------------------\n",
      "[[[1]\n",
      "  [2]\n",
      "  [3]]\n",
      "\n",
      " [[4]\n",
      "  [5]\n",
      "  [6]]]\n",
      "(2, 3, 1)\n",
      "------------------------------\n"
     ]
    }
   ],
   "source": [
    "a = np.arange(1,7).reshape(2,3)\n",
    "print(a)\n",
    "print(a.shape)\n",
    "print('-'*30) #(2, 3)\n",
    "\n",
    "# 2차원에서 (첫 번째 축) 깊이 축을 추가하여 (axis=0) 3차원으로 늘린다.\n",
    "b = np.expand_dims(a, axis=0)\n",
    "print(b)\n",
    "print(b.shape) #(1, 2, 3)\n",
    "print('-'*30)\n",
    "\n",
    "# 2차원에서 (두 번째 축) 행 축을 추가하여 (axis=1) 3차원으로 늘린다.\n",
    "c = np.expand_dims(a, axis=1)\n",
    "print(c)\n",
    "print(c.shape) #(2, 1, 3)\n",
    "print('-'*30)\n",
    "\n",
    "# 2차원에서 (세 번째 축) 열 축을 추가하여 (axis=2) 3차원으로 늘린다.\n",
    "d = np.expand_dims(a, axis=2)\n",
    "print(d)\n",
    "print(d.shape) #(2, 3, 1)\n",
    "print('-'*30)"
   ]
  },
  {
   "cell_type": "markdown",
   "id": "f1cfae46",
   "metadata": {},
   "source": [
    "### newaxis\n",
    "- ndarray[np.newaxis, :]\n",
    "- newaxis 필드를 이용한 차원 확장도 가능하다"
   ]
  },
  {
   "cell_type": "code",
   "execution_count": 146,
   "id": "752efa74",
   "metadata": {},
   "outputs": [
    {
     "name": "stdout",
     "output_type": "stream",
     "text": [
      "[[1 2 3]\n",
      " [4 5 6]]\n"
     ]
    },
    {
     "data": {
      "text/plain": [
       "5"
      ]
     },
     "execution_count": 146,
     "metadata": {},
     "output_type": "execute_result"
    }
   ],
   "source": [
    "# 1행 1열 조회하는 방법\n",
    "a = np.arange(1,7).reshape(2,3)\n",
    "print(a)\n",
    "\n",
    "# 파이썬의 리스트\n",
    "a[1][1]\n",
    "\n",
    "# numpy의 다차원 배열\n",
    "a[1][1]\n",
    "a[1,1]"
   ]
  },
  {
   "cell_type": "code",
   "execution_count": 23,
   "id": "5eb494fd",
   "metadata": {
    "scrolled": true
   },
   "outputs": [
    {
     "name": "stdout",
     "output_type": "stream",
     "text": [
      "[0 1 2 3]\n",
      "(4,)\n",
      "[[0 1 2 3]]\n",
      "(1, 4)\n",
      "[[0]\n",
      " [1]\n",
      " [2]\n",
      " [3]]\n",
      "(4, 1)\n"
     ]
    }
   ],
   "source": [
    "a = np.arange(4)\n",
    "print(a)\n",
    "print(a.shape) # (4,) # 1차원 벡터\n",
    "\n",
    "# 행 쪽에 새로운 축을 만들고, 열에는 기존의 데이터를 모두 가져와 넣기\n",
    "b = a[np.newaxis, :]\n",
    "print(b)\n",
    "print(b.shape) # (1, 4) # 2차원 행렬\n",
    "\n",
    "# 열 쪽에 새로운 축을 만들고, 행에는 기존의 데이터를 모두 가져와 넣기\n",
    "c = a[:, np.newaxis]\n",
    "print(c)\n",
    "print(c.shape) # (4, 1) # 2차원 행렬\n"
   ]
  },
  {
   "cell_type": "markdown",
   "id": "8441d294",
   "metadata": {},
   "source": [
    "- 입력값의 형태는 스칼라가 아니라 백터 형태로 차원을 늘려줘야 함\n",
    "- 원소가 하나더라도 스칼라는 인식하지 못하므로 [] 안에 넣어줘야 함.\n",
    "- [1,2,3,4,5] >> [[1],[2],[3],[4],[5]]"
   ]
  },
  {
   "cell_type": "markdown",
   "id": "03d387fd",
   "metadata": {},
   "source": [
    "## ndarray.astype()\n",
    "- 배열의 타입을 변경"
   ]
  },
  {
   "cell_type": "code",
   "execution_count": 158,
   "id": "a273a0ba",
   "metadata": {},
   "outputs": [
    {
     "name": "stdout",
     "output_type": "stream",
     "text": [
      "[1 2 3]\n",
      "int32\n",
      "[1. 2. 3.]\n",
      "float32\n"
     ]
    }
   ],
   "source": [
    "a = np.array([1,2,3])\n",
    "print(a) # [1 2 3]\n",
    "print(a.dtype) # int32\n",
    "\n",
    "a_float = a.astype(np.float32)\n",
    "print(a_float) # [1. 2. 3.]\n",
    "print(a_float.dtype) # float32"
   ]
  },
  {
   "cell_type": "markdown",
   "id": "e7d6ee84",
   "metadata": {},
   "source": [
    "## numpy.squeeze()\n",
    "- 차원 축소"
   ]
  },
  {
   "cell_type": "code",
   "execution_count": 164,
   "id": "bf82de79",
   "metadata": {},
   "outputs": [
    {
     "name": "stdout",
     "output_type": "stream",
     "text": [
      "[[[0]\n",
      "  [1]\n",
      "  [2]]]\n",
      "(1, 3, 1)\n",
      "------------------------------\n",
      "[0 1 2]\n",
      "(3,)\n",
      "------------------------------\n",
      "[[0]\n",
      " [1]\n",
      " [2]]\n",
      "(3, 1)\n",
      "------------------------------\n",
      "[[0 1 2]]\n",
      "(1, 3)\n",
      "------------------------------\n"
     ]
    }
   ],
   "source": [
    "a = np.array([[[0],[1],[2]]])\n",
    "print(a)\n",
    "print(a.shape) # (1, 3, 1)\n",
    "print('-'*30)\n",
    "\n",
    "# 축 옵션을 주지 않으면 1차원 벡터로 만든다 (결국 flatten, ravel 등과 동일)\n",
    "b = np.squeeze(a)\n",
    "print(b)\n",
    "print(b.shape) # (3,)\n",
    "print('-'*30)\n",
    "\n",
    "# 깊이 축 축소\n",
    "c = np.squeeze(a, axis=0)\n",
    "print(c)\n",
    "print(c.shape) # (3,1)\n",
    "print('-'*30)\n",
    "\n",
    "# 행 축 축소\n",
    "# d = np.squeeze(a, axis=1)\n",
    "# print(d)\n",
    "# print(d.shape) # (1,1) # 원본의 원소 개수와 일치되지 않으므로 Error 발생\n",
    "# print('-'*30)\n",
    "\n",
    "# 열 축 축소\n",
    "e = np.squeeze(a, axis=2)\n",
    "print(e)\n",
    "print(e.shape) # (1, 3)\n",
    "print('-'*30)"
   ]
  },
  {
   "cell_type": "markdown",
   "id": "9f618a53",
   "metadata": {},
   "source": [
    "## numpy.concatenate()\n",
    "- 두 개 이상의 배열을 연결\n",
    "- 단, 연결하고자 하는 배열의 **차원 수**가 같아야 한다."
   ]
  },
  {
   "cell_type": "code",
   "execution_count": 40,
   "id": "cc1d29b1",
   "metadata": {},
   "outputs": [
    {
     "name": "stdout",
     "output_type": "stream",
     "text": [
      "[[1 2]\n",
      " [3 4]]\n",
      "------------------------------\n",
      "[5 6]\n",
      "------------------------------\n",
      "[[5 6]]\n",
      "------------------------------\n",
      "[[1 2]\n",
      " [3 4]\n",
      " [5 6]]\n",
      "(3, 2)\n"
     ]
    }
   ],
   "source": [
    "a = np.array([[1,2],[3,4]])\n",
    "print(a) # 2차원\n",
    "print('-'*30)\n",
    "\n",
    "b1 = np.array([5,6])\n",
    "print(b1) # 1차원\n",
    "print('-'*30)\n",
    "\n",
    "# np.concatenate((a,b1)) # 차원의 개수가 다르므로 Error 발생\n",
    "\n",
    "b2 = np.array([[5,6]])\n",
    "print(b2) # 2차원\n",
    "print('-'*30) \n",
    "\n",
    "c = np.concatenate((a,b2)) # 차원의 개수가 같으므로 성공\n",
    "# DEFAULT는 axis=0. 즉, 행으로 연결\n",
    "print(np.concatenate((a,b2)))"
   ]
  },
  {
   "cell_type": "markdown",
   "id": "7df6a4a9",
   "metadata": {},
   "source": [
    "- axis 인수를 설정해서 연결 방향을 정할 수 있다. (default: axis=0)\n",
    "    - axis=0 : 행 방향으로 연결할 때에는 열의 갯수가 같아야 한다.\n",
    "    - axis=1 : 열 방향으로 연결할 때에는 행의 갯수가 같아야 한다."
   ]
  },
  {
   "cell_type": "code",
   "execution_count": 42,
   "id": "6c039114",
   "metadata": {},
   "outputs": [
    {
     "name": "stdout",
     "output_type": "stream",
     "text": [
      "[[1 2]\n",
      " [3 4]]\n",
      "------------------------------\n",
      "[[1 2]\n",
      " [3 4]\n",
      " [5 6]]\n",
      "------------------------------\n",
      "[[1 2]\n",
      " [3 4]\n",
      " [1 2]\n",
      " [3 4]\n",
      " [5 6]]\n",
      "------------------------------\n",
      "(5, 2)\n",
      "[[1 2 1 3 5]\n",
      " [3 4 2 4 6]]\n",
      "------------------------------\n",
      "(2, 5)\n"
     ]
    }
   ],
   "source": [
    "print(a)\n",
    "print('-'*30)\n",
    "print(c)\n",
    "print('-'*30)\n",
    "\n",
    "d = np.concatenate((a,c), axis=0) # 열의 개수가 같으므로 성공\n",
    "# d = np.concatenate((a,c), axis=1) # 행의 개수가 다르므로 Error\n",
    "print(d)\n",
    "print('-'*30)\n",
    "\n",
    "########### 전치 (주대각선을 기준으로 행과 열의 위치를 교환) ##############\n",
    "d = np.concatenate((a,c.T), axis=1)\n",
    "print(d)\n",
    "print('-'*30)"
   ]
  },
  {
   "cell_type": "markdown",
   "id": "c585c521",
   "metadata": {},
   "source": [
    "# 기본 연산\n",
    "- Numpy 배열의 산술 연산자는 **요소별**로 적용된다."
   ]
  },
  {
   "cell_type": "markdown",
   "id": "efc0f007",
   "metadata": {},
   "source": [
    "## 산술 연산"
   ]
  },
  {
   "cell_type": "code",
   "execution_count": 44,
   "id": "ef6755a5",
   "metadata": {
    "scrolled": false
   },
   "outputs": [
    {
     "name": "stdout",
     "output_type": "stream",
     "text": [
      "[[0. 1. 2.]\n",
      " [3. 4. 5.]\n",
      " [6. 7. 8.]]\n",
      "------------------------------\n",
      "[0. 1. 2.]\n",
      "------------------------------\n",
      "[[ 0.  2.  4.]\n",
      " [ 3.  5.  7.]\n",
      " [ 6.  8. 10.]]\n",
      "[[ 0.  2.  4.]\n",
      " [ 3.  5.  7.]\n",
      " [ 6.  8. 10.]]\n",
      "------------------------------\n",
      "[[0. 0. 0.]\n",
      " [3. 3. 3.]\n",
      " [6. 6. 6.]]\n",
      "[[0. 0. 0.]\n",
      " [3. 3. 3.]\n",
      " [6. 6. 6.]]\n",
      "------------------------------\n",
      "[[ 0.  1.  4.]\n",
      " [ 0.  4. 10.]\n",
      " [ 0.  7. 16.]]\n",
      "[[ 0.  1.  4.]\n",
      " [ 0.  4. 10.]\n",
      " [ 0.  7. 16.]]\n",
      "------------------------------\n",
      "[[0.   0.25 0.5 ]\n",
      " [0.75 1.   1.25]\n",
      " [1.5  1.75 2.  ]]\n",
      "[[0.   0.25 0.5 ]\n",
      " [0.75 1.   1.25]\n",
      " [1.5  1.75 2.  ]]\n",
      "------------------------------\n"
     ]
    }
   ],
   "source": [
    "import numpy as np\n",
    "\n",
    "a = np.arange(9.0).reshape(3,3) # 0부터 8까지 실수로 된 데이터가 3행3열로\n",
    "b = np.arange(3.0)\n",
    "\n",
    "print(a) # 2차원\n",
    "print('-'*30)\n",
    "print(b) # 1차원\n",
    "print('-'*30)\n",
    "\n",
    "\n",
    "# broadcasting : 서로 차원이 다른 데이터의 경우, 작은 차원의 데이터가 큰 차원의 데이터에 맞춰 차원이 확장된다.\n",
    "# 피연산자는 2차원이므로 1차원이었던 연산자 [0. 1. 2.]가 2차원으로 확장된 것\n",
    "print(np.add(a,b))\n",
    "print(a+b)\n",
    "print('-'*30)\n",
    "\n",
    "print(np.subtract(a,b))\n",
    "print(a-b)\n",
    "print('-'*30)\n",
    "\n",
    "print(np.multiply(a,b))\n",
    "print(a*b)\n",
    "print('-'*30)\n",
    "\n",
    "print(np.divide(a,4))\n",
    "print(a/4)\n",
    "print('-'*30)"
   ]
  },
  {
   "cell_type": "code",
   "execution_count": 2,
   "id": "c172be67",
   "metadata": {},
   "outputs": [
    {
     "name": "stdout",
     "output_type": "stream",
     "text": [
      "[0 1 2 3 4]\n",
      "[0.   0.25 0.5  0.75 1.  ]\n",
      "[0 0 0 0 1]\n"
     ]
    }
   ],
   "source": [
    "import numpy as np\n",
    "\n",
    "a=np.arange(5)\n",
    "b=np.true_divide(a,4) #일반적인 나누기 # true_divide = 그냥 divide\n",
    "c=np.floor_divide(a,4) #파이썬의 // : 몫을 취하는 연산자\n",
    "\n",
    "print(a)\n",
    "print(b)\n",
    "print(c)"
   ]
  },
  {
   "cell_type": "code",
   "execution_count": 3,
   "id": "d54f75eb",
   "metadata": {},
   "outputs": [
    {
     "name": "stdout",
     "output_type": "stream",
     "text": [
      "[[1 1 1]\n",
      " [1 1 1]]\n",
      "------------------------------\n",
      "[[2 2 2]\n",
      " [2 2 2]]\n"
     ]
    }
   ],
   "source": [
    "a=np.ones((2,3), dtype=int) #defaul float\n",
    "print(a)\n",
    "\n",
    "print('-'*30)\n",
    "a+=1\n",
    "print(a)"
   ]
  },
  {
   "cell_type": "markdown",
   "id": "835bb3bd",
   "metadata": {},
   "source": [
    "# 통계연산\n",
    "- 통계연산은 axis와 밀한 관계가 있다\n",
    "- 축값을 입력하지 않으면 모든 원소에 대한 연산결과를 출력한다"
   ]
  },
  {
   "cell_type": "markdown",
   "id": "41b08115",
   "metadata": {},
   "source": [
    "numpy.sum()\n",
    "- 축을 따라 합을 계산"
   ]
  },
  {
   "cell_type": "code",
   "execution_count": 52,
   "id": "d2facb62",
   "metadata": {
    "scrolled": true
   },
   "outputs": [
    {
     "name": "stdout",
     "output_type": "stream",
     "text": [
      "[[1 2 3]\n",
      " [4 5 6]\n",
      " [7 8 9]]\n",
      "45\n",
      "[12 15 18]\n",
      "[ 6 15 24]\n",
      "[ 1  3  6 10 15 21 28 36 45]\n",
      "[[ 1  2  3]\n",
      " [ 5  7  9]\n",
      " [12 15 18]]\n",
      "[[ 1  3  6]\n",
      " [ 4  9 15]\n",
      " [ 7 15 24]]\n"
     ]
    }
   ],
   "source": [
    "a=np.arange(12).reshape(3,4)\n",
    "a=np.arange(1,10).reshape(3,3)\n",
    "print(a)\n",
    "print(a.sum()) # 모든 요소의 합을 구함 np.sum(a)\n",
    "\n",
    "print(a.sum(axis=0)) # 각 열의 합 #np.sum(a, axis=0)\n",
    "print(a.sum(axis=1)) # 각 행의 합\n",
    "\n",
    "print(a.cumsum()) # 모든 요소에 대한 누적합\n",
    "print(a.cumsum(axis=0)) # 열에 대한 누적합\n",
    "print(a.cumsum(axis=1)) # 행에 대한 누적합"
   ]
  },
  {
   "cell_type": "markdown",
   "id": "1a1a6951",
   "metadata": {},
   "source": [
    "numpy.mean()\n",
    "- 축을 따라 산술평균을 계산"
   ]
  },
  {
   "cell_type": "code",
   "execution_count": 54,
   "id": "ff5a196f",
   "metadata": {},
   "outputs": [
    {
     "name": "stdout",
     "output_type": "stream",
     "text": [
      "[[1 2 3]\n",
      " [4 5 6]\n",
      " [7 8 9]]\n",
      "5.0\n",
      "[4. 5. 6.]\n",
      "[2. 5. 8.]\n"
     ]
    }
   ],
   "source": [
    "a=np.arange(1,10).reshape(3,3)\n",
    "print(a)\n",
    "\n",
    "print(np.mean(a)) # 모든 요소의 평균\n",
    "print(np.mean(a, axis=0)) #열의 평균\n",
    "print(np.mean(a, axis=1)) #행의 평균"
   ]
  },
  {
   "cell_type": "markdown",
   "id": "f8c7c6b2",
   "metadata": {},
   "source": [
    "numpy.average()\n",
    "- 주어진 축에 따라 가중평균을 계산\n",
    "- avg = sum(a*weight) /sum(weight)\n",
    "- 분모는 가중치의 합"
   ]
  },
  {
   "cell_type": "code",
   "execution_count": 61,
   "id": "bc31ca8f",
   "metadata": {
    "scrolled": true
   },
   "outputs": [
    {
     "name": "stdout",
     "output_type": "stream",
     "text": [
      "[[1 2 3]\n",
      " [4 5 6]\n",
      " [7 8 9]]\n",
      "[5. 6. 7.]\n",
      "[2.33333333 5.33333333 8.33333333]\n"
     ]
    }
   ],
   "source": [
    "a=np.arange(1,10).reshape(3,3)\n",
    "print(a)\n",
    "\n",
    "print(np.average(a, axis=0, weights=[1/6, 2/6, 3/6]))\n",
    "print(np.average(a, axis=1, weights=[1/6, 2/6, 3/6]))"
   ]
  },
  {
   "cell_type": "code",
   "execution_count": 93,
   "id": "a025e698",
   "metadata": {},
   "outputs": [
    {
     "name": "stdout",
     "output_type": "stream",
     "text": [
      "[[0 1]\n",
      " [2 3]\n",
      " [4 5]]\n"
     ]
    },
    {
     "data": {
      "text/plain": [
       "array([0.75, 2.75, 4.75])"
      ]
     },
     "execution_count": 93,
     "metadata": {},
     "output_type": "execute_result"
    }
   ],
   "source": [
    "import numpy as np\n",
    "\n",
    "a = np.arange(6).reshape(3,2)\n",
    "print(a)\n",
    "\n",
    "np.average(a, axis=1, weights=[1/4, 3/4])\n",
    "# 행별로 가중평균 구하기\n",
    "# 원소가 2개이므로 가중치 2개 부여 가능\n",
    "# 0.75 = sum(0*(1/4) + 1*(3/4))) / sum(1/4+3/4)\n",
    "# 가중치의 합이 꼭 1이 아니어도 된다."
   ]
  },
  {
   "cell_type": "markdown",
   "id": "37ef4ece",
   "metadata": {},
   "source": [
    "numpy.amin(), numpy.min() / numpy.amax(), numpy.max()\n",
    "- amin : 배열의 최소\n",
    "- axis을 따른 배열의 최소, 최대치"
   ]
  },
  {
   "cell_type": "code",
   "execution_count": 8,
   "id": "9b6c7ed5",
   "metadata": {
    "scrolled": false
   },
   "outputs": [
    {
     "name": "stdout",
     "output_type": "stream",
     "text": [
      "[[1 2 3]\n",
      " [4 5 6]\n",
      " [7 8 9]]\n",
      "1\n",
      "[1 2 3]\n",
      "[1 4 7]\n"
     ]
    }
   ],
   "source": [
    "a = np.arange(1,10).reshape(3,3)\n",
    "print(a)\n",
    "\n",
    "print(np.amin(a))\n",
    "print(np.amin(a, axis=0))\n",
    "# 행을 기준으로 열의 최소값을 찾아낸 것\n",
    "print(np.amin(a, axis=1))"
   ]
  },
  {
   "cell_type": "markdown",
   "id": "45437ca0",
   "metadata": {},
   "source": [
    "numpy.median()\n",
    "- axis을 따른 배열의 중앙값"
   ]
  },
  {
   "cell_type": "markdown",
   "id": "be5b23fd",
   "metadata": {},
   "source": [
    "numpy.var(), numpy.std()\n",
    "- axis을 따른 배열의 분산과 표준편차"
   ]
  },
  {
   "cell_type": "markdown",
   "id": "d923b9ce",
   "metadata": {},
   "source": [
    "numpy.maximum()\n",
    "- 두 개의 배열을 가져와 요소별 최대값 계산\n",
    "- broadcasting 될 수 있다"
   ]
  },
  {
   "cell_type": "code",
   "execution_count": 8,
   "id": "6d04c533",
   "metadata": {
    "scrolled": true
   },
   "outputs": [
    {
     "name": "stdout",
     "output_type": "stream",
     "text": [
      "[4 6 9]\n"
     ]
    }
   ],
   "source": [
    "a = np.array([3,6,1])\n",
    "b = np.array([4,2,9])\n",
    "print(np.maximum(a,b))"
   ]
  },
  {
   "cell_type": "markdown",
   "id": "8acb2893",
   "metadata": {},
   "source": [
    "## 최소값, 최대값 원소의 아규먼트 위치\n",
    "- numpy.argmax(): 제일 큰 값 위치 정보\n",
    "- numpy.argmin(): 제일 작은 값 위치 정보\n",
    "- numpy.where(조건): 조건에 맞는 값의 위치 정보\n",
    "- numpy.where(조건, 조건에 맞을 때 값, 조건과 다를 때 값)"
   ]
  },
  {
   "cell_type": "code",
   "execution_count": 11,
   "id": "2839c70a",
   "metadata": {},
   "outputs": [
    {
     "name": "stdout",
     "output_type": "stream",
     "text": [
      "5\n",
      "7\n",
      "(array([5, 8], dtype=int64),)\n"
     ]
    }
   ],
   "source": [
    "a=np.array([5,2,5,7,1,9,4,0,9])\n",
    "print(np.argmax(a)) # 제일 큰 값의 위치 정보 (최대값이 중복된다면, 가장 먼저 발견된 값의 인덱스)\n",
    "print(np.argmin(a)) # 제일 작은 값의 위치 정보\n",
    "# print(np.max(a))\n",
    "print(np.where(np.max(a)==a))\n",
    "# 중복 최대값의 인덱스\n",
    "# np.where(9 == a) -> True의 인덱스를 뽑아줌"
   ]
  },
  {
   "cell_type": "code",
   "execution_count": 12,
   "id": "7f348ebf",
   "metadata": {},
   "outputs": [
    {
     "name": "stdout",
     "output_type": "stream",
     "text": [
      "(array([3, 5, 8], dtype=int64),)\n",
      "[-1 -1 -1  1 -1  1 -1 -1  1]\n",
      "[5 2 5 0 1 0 4 0 0]\n"
     ]
    }
   ],
   "source": [
    "print(np.where(a>5)) # 5 이상 값의 위치 정보\n",
    "print(np.where(a>5, 1, -1)) # 5를 초과하는 것은 1 , 아니면 -1\n",
    "print(np.where(a>5, 0, a)) # 5를 초과하는 것은 0 , 아니면 원래 값 유지"
   ]
  },
  {
   "cell_type": "markdown",
   "id": "1981f27b",
   "metadata": {},
   "source": [
    "## 비교연산\n",
    "\n",
    "- 연산자를 이용하여 요소별 비교\n",
    "- 결과를 boolean 값으로 반환\n",
    "- ==, !=, >, >=, <, <="
   ]
  },
  {
   "cell_type": "code",
   "execution_count": 19,
   "id": "81b06433",
   "metadata": {
    "scrolled": true
   },
   "outputs": [
    {
     "name": "stdout",
     "output_type": "stream",
     "text": [
      "[False False False]\n",
      "[False  True False]\n",
      "1\n"
     ]
    }
   ],
   "source": [
    "a= np.array([1,2,3])\n",
    "b= np.array([4,5,6])\n",
    "c= np.array([3,2,5])\n",
    "\n",
    "print(a==b)\n",
    "print(a==c)\n",
    "print(np.sum(a==c)) # 원소의 값이 TRUE인 개수"
   ]
  },
  {
   "cell_type": "code",
   "execution_count": 23,
   "id": "2df5ad38",
   "metadata": {},
   "outputs": [
    {
     "name": "stdout",
     "output_type": "stream",
     "text": [
      "[[1 2 3]\n",
      " [4 5 6]\n",
      " [7 8 9]]\n",
      "[[False  True False]\n",
      " [ True False  True]\n",
      " [False  True False]]\n",
      "4\n"
     ]
    }
   ],
   "source": [
    "a = np.arange(1,10).reshape(3,3)\n",
    "print(a)\n",
    "\n",
    "print(a%2==0)\n",
    "print(np.sum(a%2==0)) # 짝수 원소의 개수 구하기"
   ]
  },
  {
   "cell_type": "markdown",
   "id": "a546bd5d",
   "metadata": {},
   "source": [
    "numpy.all() / numpy.any()\n",
    "- all() : 요소 전체가 같아야 하나의 True\n",
    "- any() : 요소 전체 중 하나만 같아도 True"
   ]
  },
  {
   "cell_type": "code",
   "execution_count": 17,
   "id": "5cb2fa7c",
   "metadata": {
    "scrolled": true
   },
   "outputs": [
    {
     "name": "stdout",
     "output_type": "stream",
     "text": [
      "True\n",
      "False\n",
      "True\n"
     ]
    }
   ],
   "source": [
    "a= np.array([1,2,3])\n",
    "b= np.array([1,2,3])\n",
    "c= np.array([3,2,5])\n",
    "\n",
    "print(np.all(a==b))\n",
    "print(np.all(a==c)) \n",
    "print(np.any(a==c)) "
   ]
  },
  {
   "cell_type": "markdown",
   "id": "24d338d0",
   "metadata": {},
   "source": [
    "## 논리 연산\n",
    "- np.logical_and(), np.logical_or(), np.logical_not(), np.logical_xor()"
   ]
  },
  {
   "cell_type": "code",
   "execution_count": 31,
   "id": "ff7e6fea",
   "metadata": {
    "scrolled": true
   },
   "outputs": [
    {
     "name": "stdout",
     "output_type": "stream",
     "text": [
      "[[ 1  2  3  4  5]\n",
      " [ 6  7  8  9 10]]\n",
      "b 행렬: 짝수면 True, 홀수면 False\n",
      "[[False  True False  True False]\n",
      " [ True False  True False  True]]\n",
      "\n",
      "c 행렬: 4이상이면 True, 아니면 False\n",
      "[[False False False  True  True]\n",
      " [ True  True  True  True  True]]\n",
      "\n",
      "b and c 행렬\n",
      "[[False False False  True False]\n",
      " [ True False  True False  True]]\n",
      "4\n",
      "[ 4  6  8 10]\n"
     ]
    }
   ],
   "source": [
    "a = np.arange(1,11).reshape(2,5)\n",
    "print(a)\n",
    "\n",
    "b = a%2==0\n",
    "print('b 행렬: 짝수면 True, 홀수면 False')\n",
    "print(b)\n",
    "print()\n",
    "\n",
    "c = a >=4\n",
    "print('c 행렬: 4이상이면 True, 아니면 False')\n",
    "print(c)\n",
    "print()\n",
    "\n",
    "print('b and c 행렬')\n",
    "print(np.logical_and(b,c)) # 짝수이면서 4보다 큰 배열\n",
    "print(np.sum(np.logical_and(b,c))) # 짝수이면서 4보다 큰 원소의 개수\n",
    "print(a[np.logical_and(b,c)]) #짝수이면서 4보다 큰 원소의 값을 뽑아내기(boolean indexing)_ 마스킹값이 필요함 (인덱스를 골라서, 쭉쭉 순서대로 해줘야함)"
   ]
  },
  {
   "cell_type": "markdown",
   "id": "9d7440d2",
   "metadata": {},
   "source": [
    "## 정렬"
   ]
  },
  {
   "cell_type": "code",
   "execution_count": 66,
   "id": "632959b6",
   "metadata": {},
   "outputs": [
    {
     "data": {
      "text/plain": [
       "array([10, 37, 16,  1, 29, 26, 30, 49, 30,  9])"
      ]
     },
     "execution_count": 66,
     "metadata": {},
     "output_type": "execute_result"
    }
   ],
   "source": [
    "np.random.seed(10) #난수는 컴퓨터의 시간에 따라/ seed는 저장\n",
    "data=np.random.randint(1,50,10) #1에서 50사이의 10개의 랜덤정수\n",
    "#파이썬에서 randint는 하나의 정수값만 호출\n",
    "#넘파이에서는 지정된 쉐입에맞는 다차원 행렬을 출력해줌\n",
    "data"
   ]
  },
  {
   "cell_type": "markdown",
   "id": "a3a8b614",
   "metadata": {},
   "source": [
    "np.sort()\n",
    "- 데이터를 오름차순으로 정렬(파이썬의 sort와 동일)\n",
    "- 파이썬에서는 reverse가 있지만, **넘파이는 없음**"
   ]
  },
  {
   "cell_type": "code",
   "execution_count": 34,
   "id": "c90fef9c",
   "metadata": {},
   "outputs": [
    {
     "data": {
      "text/plain": [
       "array([ 1,  9, 10, 16, 26, 29, 30, 30, 37, 49])"
      ]
     },
     "execution_count": 34,
     "metadata": {},
     "output_type": "execute_result"
    }
   ],
   "source": [
    "np.sort(data)"
   ]
  },
  {
   "cell_type": "code",
   "execution_count": 35,
   "id": "d1b7ff6b",
   "metadata": {
    "scrolled": true
   },
   "outputs": [
    {
     "data": {
      "text/plain": [
       "array([49, 37, 30, 30, 29, 26, 16, 10,  9,  1])"
      ]
     },
     "execution_count": 35,
     "metadata": {},
     "output_type": "execute_result"
    }
   ],
   "source": [
    "np.sort(data)[::-1]"
   ]
  },
  {
   "cell_type": "markdown",
   "id": "2a5e4bf3",
   "metadata": {},
   "source": [
    "np.argsort()\n",
    "- 오름차순으로 정렬한 데이터의 정렬 전 인덱스 값을 반환한다"
   ]
  },
  {
   "cell_type": "code",
   "execution_count": 38,
   "id": "2aae9707",
   "metadata": {
    "scrolled": true
   },
   "outputs": [
    {
     "name": "stdout",
     "output_type": "stream",
     "text": [
      "원본데이터 [10 37 16  1 29 26 30 49 30  9]\n",
      "sorting 데이터 [ 1  9 10 16 26 29 30 30 37 49]\n",
      "argsort [3 9 0 2 5 4 6 8 1 7]\n"
     ]
    },
    {
     "data": {
      "text/plain": [
       "array([3, 9, 0, 2, 5, 4, 6, 8, 1, 7], dtype=int64)"
      ]
     },
     "execution_count": 38,
     "metadata": {},
     "output_type": "execute_result"
    }
   ],
   "source": [
    "# 원본 data : [10, 37, 16,  1, 29, 26, 30, 49, 30,  9]\n",
    "# 정렬 후 data : [ 1,  9, 10, 16, 26, 29, 30, 30, 37, 49]\n",
    "print('원본데이터', data)\n",
    "print('sorting 데이터', np.sort(data))\n",
    "\n",
    "print('argsort', np.argsort(data))\n",
    "#array([3, 9, 0, 2, 5, 4, 6, 8, 1, 7], dtype=int64)\n",
    "np.argsort(data)"
   ]
  },
  {
   "cell_type": "code",
   "execution_count": 39,
   "id": "b16eab26",
   "metadata": {},
   "outputs": [
    {
     "name": "stdout",
     "output_type": "stream",
     "text": [
      "[ 1  9 10 16 26 29 30 30 37 49]\n"
     ]
    }
   ],
   "source": [
    "# argsort를 이용한 정렬\n",
    "idx=np.argsort(data)  #오름차순으로 정렬한 데이터의 index값가져오기\n",
    "print(data[idx]) #원데이터의 위치값으로 인덱싱한것 / idx배열의 값으로 데이터 행렬을 indexing 한 결과"
   ]
  },
  {
   "cell_type": "markdown",
   "id": "07391da1",
   "metadata": {},
   "source": [
    "### [문제] 학생이름과 정수데이터를 이용하여 성적이 우수한 학생 순서로 이름을 출력하시오"
   ]
  },
  {
   "cell_type": "code",
   "execution_count": 53,
   "id": "58346c0a",
   "metadata": {},
   "outputs": [
    {
     "name": "stdout",
     "output_type": "stream",
     "text": [
      "['전우치' '홍길동' '사오정' '삼장법사' '저팔계']\n",
      "['저팔계' '삼장법사' '사오정' '홍길동' '전우치']\n"
     ]
    }
   ],
   "source": [
    "name = ['홍길동', '저팔계', '사오정', '전우치', '삼장법사']\n",
    "score = [75,100,95,56,99]\n",
    "\n",
    "name = np.array(name)\n",
    "score = np.array(score)\n",
    "idx = np.argsort(score)\n",
    "# print(idx)\n",
    "print(name[idx]) # 성적인 낮은 학생 순서대로\n",
    "print(name[idx][::-1]) # 성적인 높은 학생 순서대로"
   ]
  },
  {
   "cell_type": "markdown",
   "id": "6701609e",
   "metadata": {},
   "source": [
    "# 행렬연산"
   ]
  },
  {
   "cell_type": "markdown",
   "id": "d0954471",
   "metadata": {},
   "source": [
    "## * 연산자\n",
    "- 형태(shape)가 동일한 두 행렬을 원소끼리 곱하는 연산자\n",
    "- **교환법칙 성립** (a x b = b x a)"
   ]
  },
  {
   "cell_type": "code",
   "execution_count": 54,
   "id": "b1ab05ce",
   "metadata": {},
   "outputs": [
    {
     "name": "stdout",
     "output_type": "stream",
     "text": [
      "[[2 0]\n",
      " [0 4]]\n",
      "[[2 0]\n",
      " [0 4]]\n"
     ]
    }
   ],
   "source": [
    "import numpy as np\n",
    "\n",
    "a = np.array([[1,1],[0,1]])\n",
    "b = np.array([[2,0],[3,4]])\n",
    "\n",
    "print(a*b)\n",
    "print(b*a) # 교환법칙 성립"
   ]
  },
  {
   "cell_type": "markdown",
   "id": "063ba7b9",
   "metadata": {},
   "source": [
    "## numpy.dot()\n",
    "- 두 벡터의 내적을 계산하는 함수\n",
    "    - 내적 : 백터에서 서로 대응하는 성분끼리 곱한 다음 그것들을 모두 더한 것\n",
    "    - 내적의 결과 : 단일값인 스칼라\n",
    "    - a·b 또는 <a,b> 로 표현 : a1b1 + a2b2 + a3b3 + ...+ anbn\n",
    "- 행렬 곱에서도 사용 가능하지만, numpy의 공식문서에서는 numpy.matmul() 라는 matrix multiply 사용을 권장한다"
   ]
  },
  {
   "cell_type": "code",
   "execution_count": 67,
   "id": "6ae11de4",
   "metadata": {},
   "outputs": [
    {
     "name": "stdout",
     "output_type": "stream",
     "text": [
      "107\n",
      "107\n"
     ]
    }
   ],
   "source": [
    "a = np.array([3,4,6,3,9])\n",
    "b = np.array([6,8,1,2,5])\n",
    "c = np.dot(a,b) # 3*6 + 4*8 + 6*1 + 3*2 + 9*5\n",
    "d = np.dot(b,a)\n",
    "\n",
    "print(c)\n",
    "print(d)"
   ]
  },
  {
   "cell_type": "code",
   "execution_count": 20,
   "id": "bb8cfdc0",
   "metadata": {},
   "outputs": [
    {
     "name": "stdout",
     "output_type": "stream",
     "text": [
      "[[5 4]\n",
      " [3 4]]\n",
      "[[2 2]\n",
      " [3 7]]\n"
     ]
    }
   ],
   "source": [
    "# 행렬 곱에 적용\n",
    "\n",
    "a = np.array([[1,1],[0,1]])\n",
    "b = np.array([[2,0],[3,4]])\n",
    "print(np.dot(a,b))\n",
    "print(np.dot(b,a)) # 행렬곱은 교환법칙 성립 안함\n",
    "\n",
    "# 행렬 곱의 전제조건 : 양쪽의 행의 개수가 같아야 한다\n",
    "\n",
    "# 1*2+1*3\n",
    "# 1*0+1*4\n",
    "# 0*2+1*3\n",
    "# 0*0+1*4\n",
    "# [[5,4]\n",
    "#  [3,4]]\n",
    "\n",
    "# 벡터 : 1차원 배열\n",
    "# 행렬 : 행과 열을 가진 다차원 배열\n",
    "# 배열 : 집합형 데이터 // 벡터와 행렬보다 상위 개념"
   ]
  },
  {
   "cell_type": "markdown",
   "id": "4b07173c",
   "metadata": {},
   "source": [
    "## numpy.matmul() / @ 연산자\n",
    "- 행렬곱 연산을 수행"
   ]
  },
  {
   "cell_type": "code",
   "execution_count": 60,
   "id": "93c8e698",
   "metadata": {},
   "outputs": [
    {
     "name": "stdout",
     "output_type": "stream",
     "text": [
      "[[5 4]\n",
      " [3 4]]\n",
      "[[5 4]\n",
      " [3 4]]\n"
     ]
    }
   ],
   "source": [
    "a = np.array([[1,1],[0,1]])\n",
    "b = np.array([[2,0],[3,4]])\n",
    "\n",
    "print(np.matmul(a,b))\n",
    "print(a@b)"
   ]
  },
  {
   "cell_type": "markdown",
   "id": "89049d99",
   "metadata": {},
   "source": [
    "## dot() 과 matmul() 의 차이\n",
    "- dot()은 행렬과 상수의 곱셈이 가능하나 matmul()은 Error 발생\n",
    "- 3차원 이상의 행렬곱 (Tensor Multiplication)을 수행할 경우 결과가 다르다"
   ]
  },
  {
   "cell_type": "code",
   "execution_count": 66,
   "id": "35b50c68",
   "metadata": {},
   "outputs": [
    {
     "name": "stdout",
     "output_type": "stream",
     "text": [
      "[[2 2]\n",
      " [0 2]]\n"
     ]
    }
   ],
   "source": [
    "a = np.array([[1,1],[0,1]])\n",
    "\n",
    "print(np.dot(a,2))\n",
    "# print(np.matmul(a,2)) # 에러발생"
   ]
  },
  {
   "cell_type": "markdown",
   "id": "31a0eec5",
   "metadata": {},
   "source": [
    "## 전치 (Transpose)\n",
    "- 전치는 기존 행렬의 행과 열을 교환하는 것\n",
    "- 즉, 주대각선을 기준으로 반사 대칭하는 것을 의미한다.\n",
    "- 배열 객체의 'T' 속성 또는 transpose() 함수를 사용한다."
   ]
  },
  {
   "cell_type": "code",
   "execution_count": 69,
   "id": "b9bf6ddd",
   "metadata": {},
   "outputs": [
    {
     "name": "stdout",
     "output_type": "stream",
     "text": [
      "[[1 2]\n",
      " [3 4]]\n",
      "[[1 3]\n",
      " [2 4]]\n",
      "[[1 3]\n",
      " [2 4]]\n",
      "[[1 3]\n",
      " [2 4]]\n"
     ]
    }
   ],
   "source": [
    "a = np.array([[1,2],[3,4]])\n",
    "print(a)\n",
    "\n",
    "print(a.T)\n",
    "print(a.transpose())\n",
    "print(np.transpose(a))\n",
    "# 1차원 배열인 벡터를 전치시킬 경우, 원본과 변동이 그대로 (행과 열의 개념이 없으므로)"
   ]
  },
  {
   "cell_type": "markdown",
   "id": "bcefc007",
   "metadata": {},
   "source": [
    "# 인덱싱, 슬라이싱"
   ]
  },
  {
   "cell_type": "code",
   "execution_count": 78,
   "id": "c8ec499c",
   "metadata": {},
   "outputs": [
    {
     "name": "stdout",
     "output_type": "stream",
     "text": [
      "1\n",
      "1\n",
      "1\n"
     ]
    }
   ],
   "source": [
    "a = [[1,2,3,4,5],[6,7,8,9,10]]\n",
    "print(a[0][0]) #1\n",
    "\n",
    "a = np.array(a)\n",
    "print(a[0][0]) #1\n",
    "print(a[0,0]) #1 #파이썬 List에서는 표현 불가\n",
    "# 파이썬의 리스트와 달리 numpy에서는 [][] 말고도 [ , ]가 가능"
   ]
  },
  {
   "cell_type": "markdown",
   "id": "feb24560",
   "metadata": {},
   "source": [
    "## Boolean indexing (masking)"
   ]
  },
  {
   "cell_type": "code",
   "execution_count": 84,
   "id": "95530ee5",
   "metadata": {},
   "outputs": [
    {
     "name": "stdout",
     "output_type": "stream",
     "text": [
      "[[ 1  2  3  4  5  6]\n",
      " [ 7  8  9 10 11 12]\n",
      " [13 14 15 16 17 18]\n",
      " [19 20 21 22 23 24]]\n",
      "[[False  True False  True False  True]\n",
      " [False  True False  True False  True]\n",
      " [False  True False  True False  True]\n",
      " [False  True False  True False  True]]\n",
      "짝수 요소들의 갯수:  12\n",
      "[ 2  4  6  8 10 12 14 16 18 20 22 24]\n",
      "짝수 요소들의 총합:  156\n"
     ]
    }
   ],
   "source": [
    "a = np.arange(1,25).reshape(4,6)\n",
    "print(a)\n",
    "\n",
    "# a 배열에서 요소의 값이 짝수인 요소들의 총합은?\n",
    "# masking 배열= T또는 F가 나오는 배열\n",
    "even_arr = a%2 == 0\n",
    "print(even_arr) #=masking 배열\n",
    "print('짝수 요소들의 갯수: ', np.sum(even_arr)) #12\n",
    "print(a[even_arr]) # a[a%2 == 0] 와 동일\n",
    "print('짝수 요소들의 총합: ', np.sum(a[even_arr])) # 156"
   ]
  },
  {
   "cell_type": "code",
   "execution_count": 86,
   "id": "dd6452d7",
   "metadata": {},
   "outputs": [
    {
     "name": "stdout",
     "output_type": "stream",
     "text": [
      "[ 4  7  9  4 23  6  7]\n"
     ]
    }
   ],
   "source": [
    "a = np.array([1,4,7,9,0,4,23,6,7,2])\n",
    "print(a[a>3])\n",
    "\n",
    "# 파이썬의 인덱싱은 오직 하나의 값이지만,\n",
    "# 넘파이는 배열의 조건에 부합하면 모두 다 뽑아냄"
   ]
  },
  {
   "cell_type": "markdown",
   "id": "b4adc8ed",
   "metadata": {},
   "source": [
    "## Fancy Indexing\n",
    "- 배열의 각 요소 선택을 **인덱스 배열을 전달하여** 참조하는 방식\n",
    "- Fancy indexing은 복사본이 생성된다\n",
    "- 인덱싱을 통해 얻어낸 값은 원본과 무관한 새로운 복사본"
   ]
  },
  {
   "cell_type": "code",
   "execution_count": 29,
   "id": "7b4b41ff",
   "metadata": {},
   "outputs": [
    {
     "name": "stdout",
     "output_type": "stream",
     "text": [
      "[[ 0  1  2]\n",
      " [ 3  4  5]\n",
      " [ 6  7  8]\n",
      " [ 9 10 11]\n",
      " [12 13 14]]\n",
      "------------------------------\n",
      "[[0 1 2]\n",
      " [6 7 8]]\n",
      "------------------------------\n",
      "[[ 0  2]\n",
      " [ 3  5]\n",
      " [ 6  8]\n",
      " [ 9 11]\n",
      " [12 14]]\n",
      "------------------------------\n",
      "[[3 4 5]\n",
      " [6 7 8]]\n",
      "------------------------------\n",
      "[[ 0  2]\n",
      " [ 6  8]\n",
      " [12 14]]\n",
      "------------------------------\n",
      "[[0 1 2]]\n"
     ]
    }
   ],
   "source": [
    "a = np.arange(15).reshape(5,3)\n",
    "print(a)\n",
    "print('-'*30)\n",
    "\n",
    "# 0행, 2행만 인덱싱\n",
    "print(a[[0,2],:])\n",
    "# [ 행 , 열 ]\n",
    "print('-'*30)\n",
    "\n",
    "# 전체 행에 대해 0열과 2열만 인덱싱\n",
    "print(a[:,[0,2]])\n",
    "print('-'*30)\n",
    "\n",
    "# 행의 값만 가져온 것으로 인식\n",
    "print(a[[1,2]])\n",
    "print('-'*30)\n",
    "\n",
    "# 0,2,4행을 가져온 후 그것의 0,2열만 가져오기\n",
    "print(a[[0,2,4]][:,[0,2]])\n",
    "print('-'*30)\n",
    "\n",
    "a_view = a[:1]\n",
    "print(a_view)"
   ]
  },
  {
   "cell_type": "markdown",
   "id": "dca5397d",
   "metadata": {},
   "source": [
    "## 슬라이싱\n",
    "- numpy에서의 slicing은 동일한 메모리 영역의 뷰(원본 배열의 부분배열)를 반환한다.\n",
    "- 즉, 뷰를 변경한 경우, 원본 데이터의 원소도 변경된다."
   ]
  },
  {
   "cell_type": "code",
   "execution_count": 103,
   "id": "399c4be4",
   "metadata": {},
   "outputs": [
    {
     "name": "stdout",
     "output_type": "stream",
     "text": [
      "[[ 1  2  3  4]\n",
      " [ 5  6  7  8]\n",
      " [ 9 10 11 12]]\n",
      "------------------------------\n",
      "[[1 2 3 4]\n",
      " [5 6 7 8]]\n",
      "------------------------------\n",
      "[[1 2 3 4]\n",
      " [5 6 7 8]]\n",
      "------------------------------\n",
      "[[1 2 3 4]\n",
      " [5 6 7 8]]\n",
      "------------------------------\n"
     ]
    }
   ],
   "source": [
    "a = np.arange(1,13).reshape(3,4)\n",
    "print(a)\n",
    "print('-'*30)\n",
    "\n",
    "print(a[0:2, 0:4])\n",
    "print('-'*30)\n",
    "\n",
    "print(a[:2, :]) #위와 동일\n",
    "print('-'*30)\n",
    "\n",
    "print(a[:2]) #위와 동일\n",
    "print('-'*30)"
   ]
  },
  {
   "cell_type": "code",
   "execution_count": 105,
   "id": "670edd2e",
   "metadata": {},
   "outputs": [
    {
     "name": "stdout",
     "output_type": "stream",
     "text": [
      "[[1 2 3 4]]\n",
      "[[10 20 30 40]\n",
      " [ 5  6  7  8]\n",
      " [ 9 10 11 12]]\n"
     ]
    }
   ],
   "source": [
    "a_view = a[:1]\n",
    "print(a_view)\n",
    "\n",
    "# 부분배열을 가져와서 바꾸면 원본이 바뀐다\n",
    "a_view[0] = [10,20,30,40]\n",
    "print(a)"
   ]
  },
  {
   "cell_type": "markdown",
   "id": "e9454b17",
   "metadata": {},
   "source": [
    "## 인덱싱 & 슬라이싱 차원\n",
    "- 정수 인덱싱과 슬라이싱을 혼합해서 사용하면 낮은 차원의 배열이 생성되지만,\n",
    "- <font color='red'><b> 슬라이싱만 사용하면 원본 배열과 동일한 차원의 배열이 생성된다. </b></font>"
   ]
  },
  {
   "cell_type": "code",
   "execution_count": 117,
   "id": "6cb7f1ed",
   "metadata": {},
   "outputs": [
    {
     "name": "stdout",
     "output_type": "stream",
     "text": [
      "[[ 1  2  3  4]\n",
      " [ 5  6  7  8]\n",
      " [ 9 10 11 12]] (3, 4) 2\n",
      "------------------------------ 슬라이싱 사용\n",
      "[[1 2 3 4]] (1, 4) 2\n",
      "------------------------------ 인덱싱만 사용\n",
      "[1 2 3 4] (4,) 1\n",
      "------------------------------ 인덱싱 & 슬라이싱 혼합 사용\n",
      "[1 2 3 4] (4,) 1\n"
     ]
    }
   ],
   "source": [
    "a = np.arange(1,13).reshape(3,4)\n",
    "print(a, a.shape, a.ndim) # 3행4열 # 2차원\n",
    "\n",
    "# 슬라이싱 사용\n",
    "print('-'*30, '슬라이싱 사용')\n",
    "sliced_row = a[:1, :]\n",
    "print(sliced_row, sliced_row.shape, sliced_row.ndim) # 1행4열 # 2차원\n",
    "\n",
    "print('-'*30, '인덱싱만 사용')\n",
    "indexed_row = a[0]\n",
    "print(indexed_row, indexed_row.shape, indexed_row.ndim) # 4개 # 1차원\n",
    "\n",
    "print('-'*30, '인덱싱 & 슬라이싱 혼합 사용')\n",
    "indexed_row2 = a[0, :] # 행은 인덱싱, 열은 슬라이싱\n",
    "print(indexed_row2, indexed_row2.shape, indexed_row2.ndim) # 4개 # 1차원\n"
   ]
  },
  {
   "cell_type": "markdown",
   "id": "ff91f5a7",
   "metadata": {},
   "source": [
    "- Fancy Indexing (배열 인덱싱 <-> 정수 인덱싱) 의 경우, 원본과 동일한 차원의 배열이 생성된다."
   ]
  },
  {
   "cell_type": "code",
   "execution_count": 32,
   "id": "d206e8a1",
   "metadata": {},
   "outputs": [
    {
     "name": "stdout",
     "output_type": "stream",
     "text": [
      "------------------------------ fancy 인덱싱 & 슬라이싱 혼합 사용\n",
      "[[0 1 2]\n",
      " [6 7 8]]\n"
     ]
    }
   ],
   "source": [
    "print('-'*30, 'fancy 인덱싱 & 슬라이싱 혼합 사용')\n",
    "print(a[[0,2], :])"
   ]
  },
  {
   "attachments": {
    "image.png": {
     "image/png": "[encoded data removed]"
    }
   },
   "cell_type": "markdown",
   "id": "10ddc5f2",
   "metadata": {},
   "source": [
    "# Broadcasting\n",
    "\n",
    "- numpy에서 vector나 matrix 간에 사칙연산을 수행하면, 같은 위치의 원소끼리 계산이 이루어지며 (element-wise)\n",
    "- 이렇게 되려면 계산하고자하는 vector나 matrix의 형태가 같아야 하는데, 이 때 sahpe이 맞춰지는 것을 broadcasting이라고 한다.\n",
    "- 따라서 서로 차원이 다른 데이터의 경우, 작은 차원의 데이터가 큰 차원의 데이터에 맞춰 차원이 확장된다.\n",
    "\n",
    "![image.png](attachment:image.png)"
   ]
  },
  {
   "cell_type": "code",
   "execution_count": 125,
   "id": "18e7a05e",
   "metadata": {},
   "outputs": [
    {
     "name": "stdout",
     "output_type": "stream",
     "text": [
      "[20 29 38 47]\n",
      "------------------------------\n",
      "[1, 2, 3, 1, 2, 3]\n",
      "[ 40  60  80 100]\n",
      "------------------------------\n",
      "[[21. 31. 41. 51.]\n",
      " [21. 31. 41. 51.]\n",
      " [21. 31. 41. 51.]\n",
      " [21. 31. 41. 51.]]\n",
      "[[21 31 41 51]\n",
      " [21 31 41 51]\n",
      " [21 31 41 51]\n",
      " [21 31 41 51]]\n"
     ]
    }
   ],
   "source": [
    "import numpy as np\n",
    "\n",
    "a = np.array([20,30,40,50])\n",
    "b = np.arange(4)\n",
    "\n",
    "print(a-b) # 각 요소마다 연산\n",
    "\n",
    "print('-'*30)\n",
    "print([1,2,3]*2) # python의 리스트 * 2 = 리스트를 2번 반복\n",
    "print(a*2) # numpy의 다차원 배열 * 2 = 연산\n",
    "\n",
    "\n",
    "# matrix와 vector 간의 연산\n",
    "print('-'*30)\n",
    "print(np.ones((4,4)) + a) # matrix + vector # ones는 기본적으로 실수형으로 만듦\n",
    "print(np.ones((4,4), dtype=int) + a) "
   ]
  },
  {
   "cell_type": "markdown",
   "id": "3c672471",
   "metadata": {},
   "source": [
    "# random 모듈을 이용한 배열의 생성"
   ]
  },
  {
   "cell_type": "markdown",
   "id": "7456e78f",
   "metadata": {},
   "source": [
    "## numpy.random.rand()\n",
    "- 0 이상 1 미만의 임의의 균등분포를 갖는 실수를 생성\n",
    "- (균등분포 : 계속해서 반복하면 0이상 1미만의 값이 균등한 분포로 나타난다)\n",
    "- shape을 전달하면 그 크기에 맞는 다차원 배열을 생성한다"
   ]
  },
  {
   "cell_type": "code",
   "execution_count": 130,
   "id": "66d9e347",
   "metadata": {},
   "outputs": [
    {
     "name": "stdout",
     "output_type": "stream",
     "text": [
      "0.7274355137182333\n",
      "[0.54088093 0.13145815 0.41366737]\n",
      "[[0.77872881 0.58390137 0.18263144 0.82608225]\n",
      " [0.10540183 0.28357668 0.06556327 0.05644419]\n",
      " [0.76545582 0.01178803 0.61194334 0.33188226]]\n"
     ]
    }
   ],
   "source": [
    "a = np.random.rand() # [0,1) : 0이상 1미만의 난수 1개 생성\n",
    "print(a)\n",
    "\n",
    "b = np.random.rand(3) # 1차원 벡터 생성\n",
    "print(b)\n",
    "\n",
    "c = np.random.rand(3,4) # 2차원 배열 생성\n",
    "print(c)"
   ]
  },
  {
   "cell_type": "code",
   "execution_count": 133,
   "id": "f41d65c5",
   "metadata": {
    "scrolled": true
   },
   "outputs": [
    {
     "data": {
      "image/png": "[encoded data removed]",
      "text/plain": [
       "<Figure size 640x480 with 1 Axes>"
      ]
     },
     "metadata": {},
     "output_type": "display_data"
    }
   ],
   "source": [
    "import matplotlib.pyplot as plt\n",
    "\n",
    "np.random.seed(0)\n",
    "\n",
    "a = np.random.rand(1000)\n",
    "b = np.random.rand(10000)\n",
    "c = np.random.rand(100000)\n",
    "\n",
    "# 히스토그램 만들기\n",
    "# bins : 구간의 개수\n",
    "# density : 확률밀도함수 표현 O\n",
    "# alpha : 투명도\n",
    "plt.hist(a, bins=100, density=True, alpha=0.5, histtype='step', label='n=1000')\n",
    "\n",
    "plt.hist(b, bins=100, density=True, alpha=0.75, histtype='step', label='n=10000')\n",
    "\n",
    "plt.hist(c, bins=100, density=True, alpha=1, histtype='step', label='n=100000')\n",
    "\n",
    "# ylim : 최소 최대\n",
    "plt.ylim(0, 2.5)\n",
    "plt.legend()\n",
    "plt.show()\n",
    "\n",
    "# 샘플 수가 증가할수록 더욱 균일한 분포를 보여준다 -> 균등분포"
   ]
  },
  {
   "cell_type": "markdown",
   "id": "73d39886",
   "metadata": {},
   "source": [
    "## numpy.random.randint()\n",
    "- 주어진 범위의 임의의 균등분포를 갖는 정수를 발생"
   ]
  },
  {
   "cell_type": "code",
   "execution_count": 83,
   "id": "53663999",
   "metadata": {},
   "outputs": [
    {
     "name": "stdout",
     "output_type": "stream",
     "text": [
      "[0 0 0 0 0 0 0 0 0 0]\n",
      "[[42  1 55 ... 95 58 58]\n",
      " [65 19 62 ... 55  0 13]\n",
      " [81  2 35 ... 51 14 35]\n",
      " ...\n",
      " [48 91 37 ... 34 29 91]\n",
      " [46 99 70 ... 67 16 71]\n",
      " [40 45 52 ... 11 24 50]] (50, 50)\n"
     ]
    }
   ],
   "source": [
    "# 0 이상 3 미만의 임의의 정수 1개 생성\n",
    "a = np.random.randint(3)\n",
    "# print(a)\n",
    "\n",
    "# 0이상 1미만의 임의의 정수 10개 생성\n",
    "a = np.random.randint(1, size=10)\n",
    "# print(a)\n",
    "# 파이썬의 randint는 end 값을 포함했었으나, numpy의 randint는 end 값을 포함하지 않음\n",
    "\n",
    "# 2이상 5미만의 임의의 정수 1개 생성\n",
    "a = np.random.randint(2,5)\n",
    "# print(a)\n",
    "\n",
    "# 1이상 46미만의 임의의 정수 6개 생성\n",
    "a = np.random.randint(1,46,6)\n",
    "# print(a)\n",
    "\n",
    "\n",
    "\n",
    "\n",
    "#### 2차원의 형태로 만들고 싶다면 shape을 튜플의 형태로 전달하면 된다. ####\n",
    "\n",
    "# 0이상 100미만의 임의의 정수를 50 X 50 모양으로 생성\n",
    "a = np.random.randint(0,100, (50,50))\n",
    "print(a, a.shape) # 50행 50열"
   ]
  },
  {
   "cell_type": "markdown",
   "id": "70b00f6b",
   "metadata": {},
   "source": [
    "## numpy.random.randn()\n",
    "- 표준정규분포(평균은 0이고 표준편차는 1인 정규분포)로부터 샘플링된 난수를 발생한다."
   ]
  },
  {
   "cell_type": "code",
   "execution_count": 80,
   "id": "0c4475df",
   "metadata": {},
   "outputs": [
    {
     "name": "stdout",
     "output_type": "stream",
     "text": [
      "-0.9836133512005646\n",
      "[-1.97045092  0.38047264 -1.46494191 -2.03421729 -0.36472883  0.47818913\n",
      " -0.8855081  -0.65270521  1.35035798 -1.37557868]\n",
      "[[ 1.0495216   0.71850197 -0.73198577  1.836249  ]\n",
      " [ 0.36432924  0.7028213   1.03803054  0.89858243]\n",
      " [-0.13859733  0.1191022   0.87694143 -0.26579023]]\n",
      "0.9958346439772882\n",
      "0.012110930844700683\n"
     ]
    }
   ],
   "source": [
    "# 난수 1개 생성\n",
    "a = np.random.randn()\n",
    "print(a)\n",
    "\n",
    "# 난수 10개의 1차원 벡터\n",
    "a = np.random.randn(10) # 1차원 벡터\n",
    "print(a)\n",
    "\n",
    "# 난수 3*4개의 2차원 배열\n",
    "a = np.random.randn(3,4) # 튜플의 형태가 아닌 정수의 값으로만 전달\n",
    "print(a)\n",
    "\n",
    "\n",
    "# 표준정규분포인지 확인하기\n",
    "a = np.random.randn(100,100)\n",
    "print(np.std(a)) # 1에 근사한 표준편차 값\n",
    "print(np.mean(a)) # 0에 근사한 평균 값"
   ]
  },
  {
   "cell_type": "markdown",
   "id": "a8b1e3ce",
   "metadata": {},
   "source": [
    "## numpy.random.choice()\n",
    "- 주어진 다차원 배열로부터 임의로 추출\n",
    "- Python의 choice에서는 1개만 뽑아낼 수 있으므로 n개를 뽑기위해서는 sample을 사용해야 했다.\n",
    "- Numpy의 choice에서는 1개~n개 추출 가능하며, 복원/비복원도 선택할 수 있다."
   ]
  },
  {
   "cell_type": "code",
   "execution_count": 162,
   "id": "4e10a428",
   "metadata": {
    "scrolled": true
   },
   "outputs": [
    {
     "name": "stdout",
     "output_type": "stream",
     "text": [
      "[33  7  6 15 45 47 22 26 48 31 19 38 16 45 13]\n",
      "[31 48 22]\n",
      "[[33 15 47]\n",
      " [13 19 45]\n",
      " [ 7 16  6]]\n"
     ]
    }
   ],
   "source": [
    "a = np.random.randint(1,50,15)\n",
    "print(a)\n",
    "\n",
    "# replace의 DEFAULT는 True\n",
    "# replace = True: 중복 샘플링한다. (복원 추출)\n",
    "# replace = False : 중복 샘플링을 하지 않는다. (비복원 추출)\n",
    "b = np.random.choice(a, size=(3,), replace=False)\n",
    "print(b)\n",
    "\n",
    "b = np.random.choice(a, size=(3,3), replace=False)\n",
    "print(b)"
   ]
  }
 ],
 "metadata": {
  "kernelspec": {
   "display_name": "Python 3 (ipykernel)",
   "language": "python",
   "name": "python3"
  },
  "language_info": {
   "codemirror_mode": {
    "name": "ipython",
    "version": 3
   },
   "file_extension": ".py",
   "mimetype": "text/x-python",
   "name": "python",
   "nbconvert_exporter": "python",
   "pygments_lexer": "ipython3",
   "version": "3.9.13"
  },
  "toc": {
   "base_numbering": 1,
   "nav_menu": {},
   "number_sections": true,
   "sideBar": true,
   "skip_h1_title": false,
   "title_cell": "Table of Contents",
   "title_sidebar": "Contents",
   "toc_cell": false,
   "toc_position": {
    "height": "calc(100% - 180px)",
    "left": "10px",
    "top": "150px",
    "width": "323.316px"
   },
   "toc_section_display": true,
   "toc_window_display": true
  }
 },
 "nbformat": 4,
 "nbformat_minor": 5
}
