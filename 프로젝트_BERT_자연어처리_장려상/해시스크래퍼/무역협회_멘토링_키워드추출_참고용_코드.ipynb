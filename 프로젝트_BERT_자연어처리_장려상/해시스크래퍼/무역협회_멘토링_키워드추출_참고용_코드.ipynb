{
 "cells": [
  {
   "cell_type": "code",
   "execution_count": 9,
   "metadata": {
    "colab": {
     "base_uri": "https://localhost:8080/"
    },
    "executionInfo": {
     "elapsed": 6287,
     "status": "ok",
     "timestamp": 1680064339776,
     "user": {
      "displayName": "해시스크래퍼",
      "userId": "18142301621051523117"
     },
     "user_tz": -540
    },
    "id": "YvBeOh2bOvjD",
    "outputId": "d619c056-6ba0-45d4-e357-70163900edc8"
   },
   "outputs": [
    {
     "name": "stdout",
     "output_type": "stream",
     "text": [
      "Looking in indexes: https://pypi.org/simple, https://us-python.pkg.dev/colab-wheels/public/simple/\n",
      "Requirement already satisfied: kiwipiepy in /usr/local/lib/python3.9/dist-packages (0.15.0)\n",
      "Requirement already satisfied: kiwipiepy-model~=0.15 in /usr/local/lib/python3.9/dist-packages (from kiwipiepy) (0.15.0)\n",
      "Requirement already satisfied: dataclasses in /usr/local/lib/python3.9/dist-packages (from kiwipiepy) (0.6)\n",
      "Requirement already satisfied: numpy in /usr/local/lib/python3.9/dist-packages (from kiwipiepy) (1.22.4)\n"
     ]
    }
   ],
   "source": [
    "!pip install kiwipiepy"
   ]
  },
  {
   "cell_type": "code",
   "execution_count": 14,
   "metadata": {
    "executionInfo": {
     "elapsed": 525,
     "status": "ok",
     "timestamp": 1680064734837,
     "user": {
      "displayName": "해시스크래퍼",
      "userId": "18142301621051523117"
     },
     "user_tz": -540
    },
    "id": "2ACnG269O_x6"
   },
   "outputs": [],
   "source": [
    "from kiwipiepy import Kiwi\n",
    "from ast import literal_eval\n",
    "\n",
    "import pandas as pd\n",
    "import re"
   ]
  },
  {
   "cell_type": "code",
   "execution_count": 11,
   "metadata": {
    "executionInfo": {
     "elapsed": 1511,
     "status": "ok",
     "timestamp": 1680064341283,
     "user": {
      "displayName": "해시스크래퍼",
      "userId": "18142301621051523117"
     },
     "user_tz": -540
    },
    "id": "YWC51vGfPHDZ"
   },
   "outputs": [],
   "source": [
    "kiwi = Kiwi(model_type='sbg')"
   ]
  },
  {
   "cell_type": "code",
   "execution_count": 16,
   "metadata": {
    "executionInfo": {
     "elapsed": 742,
     "status": "ok",
     "timestamp": 1680064846725,
     "user": {
      "displayName": "해시스크래퍼",
      "userId": "18142301621051523117"
     },
     "user_tz": -540
    },
    "id": "eHmhEj3BPQ0i"
   },
   "outputs": [],
   "source": [
    "# 띄어쓰기가 포함된 단어는 하나의 형태소로 인식하지 못하기 때문에 키워드 추출을 위해 띄어쓰기를 처리해주는 것\n",
    "# ex) New York => newyork\n",
    "\n",
    "space = pd.read_excel('') # 띄어쓰기가 포함된 단어들만 정리한 파일 path\n",
    "space['띄어쓰기 없애기'] = space['띄어쓰기 포함된 단어'].apply(lambda x: x.replace(' ', ''))\n",
    "special_characters = ['(?)', ':)', ':(', '\\n']\n",
    "\n",
    "def preprocess(text):\n",
    "  for special_ch in special_characters:\n",
    "    text = text.replace(special_ch, ' ')\n",
    "  text = re.sub(r'\\.{2,}', '', text)\n",
    "  text = re.sub(r'\\s+', ' ', text)\n",
    "  text = ' '.join(text.split())\n",
    "  return text\n",
    "\n",
    "def remove_space(text):\n",
    "  for word in list(space['띄어쓰기 포함된 단어']):\n",
    "    if word in text:\n",
    "      new_word = word.replace(' ', '')\n",
    "      text = text.replace(word, new_word)\n",
    "  return text"
   ]
  },
  {
   "cell_type": "code",
   "execution_count": 17,
   "metadata": {
    "executionInfo": {
     "elapsed": 528,
     "status": "ok",
     "timestamp": 1680064885833,
     "user": {
      "displayName": "해시스크래퍼",
      "userId": "18142301621051523117"
     },
     "user_tz": -540
    },
    "id": "x0eM-S-OPTJU"
   },
   "outputs": [],
   "source": [
    "class Keywords:\n",
    "  def __init__(\n",
    "      self,\n",
    "      voca_name: str\n",
    "      ):\n",
    "    self.voca = pd.read_excel(voca_name)\n",
    "\n",
    "  # kiwi 에 단어 등록\n",
    "  def add_word(self):\n",
    "    for category in self.voca.columns:\n",
    "      items = self.voca[category].dropna().apply(lambda x: literal_eval(x))\n",
    "      for form, tag in items:\n",
    "        kiwi.add_user_word(form, tag=tag, score=500)\n",
    "\n",
    "  # 카테고리와 카테고리에 해당하는 값을 모두 출력\n",
    "  def find_all(self, text):\n",
    "    text = remove_space(text)\n",
    "    tokenized_text = kiwi.tokenize(text)\n",
    "    tokens = []\n",
    "    for token in tokenized_text:\n",
    "      tokens.append((token.form, token.tag))\n",
    "    all = []\n",
    "    for category in self.voca.columns:\n",
    "      items = self.voca[category].dropna().apply(lambda x: literal_eval(x))\n",
    "      for keyword in items:\n",
    "        if keyword in tokens:\n",
    "          if keyword[0] in list(space['띄어쓰기 없애기']):\n",
    "            for i, word in enumerate(space['띄어쓰기 없애기']):\n",
    "              if word == keyword[0]:\n",
    "                keyword = space.loc[i, '띄어쓰기 포함된 단어']\n",
    "                category_dict = {category: keyword}\n",
    "                all.append(category_dict)\n",
    "          else:\n",
    "            category_dict = {category: keyword[0]}\n",
    "            all.append(category_dict)\n",
    "    return all"
   ]
  },
  {
   "cell_type": "code",
   "execution_count": null,
   "metadata": {
    "id": "LIqPmAG2PW3z"
   },
   "outputs": [],
   "source": [
    "keywords = Keywords(voca_name='') # 사전의 path 넣기"
   ]
  },
  {
   "cell_type": "code",
   "execution_count": null,
   "metadata": {
    "id": "E_z6lSmwPZZb"
   },
   "outputs": [],
   "source": [
    "keywords.add_word() # 사전의 단어를 키위에 등록"
   ]
  },
  {
   "cell_type": "code",
   "execution_count": null,
   "metadata": {
    "id": "Bp_KZQKZsp0p"
   },
   "outputs": [],
   "source": [
    "text = ''\n",
    "keywords.find_all(text) # 키워드 추출"
   ]
  }
 ],
 "metadata": {
  "colab": {
   "authorship_tag": "ABX9TyMgJS45ZtJN06gRfjZR2X5I",
   "mount_file_id": "1dxL1y5IazeS_XhxDLystVLXeZxjNa6sz",
   "provenance": []
  },
  "kernelspec": {
   "display_name": "Python 3 (ipykernel)",
   "language": "python",
   "name": "python3"
  },
  "language_info": {
   "codemirror_mode": {
    "name": "ipython",
    "version": 3
   },
   "file_extension": ".py",
   "mimetype": "text/x-python",
   "name": "python",
   "nbconvert_exporter": "python",
   "pygments_lexer": "ipython3",
   "version": "3.9.13"
  },
  "toc": {
   "base_numbering": 1,
   "nav_menu": {},
   "number_sections": true,
   "sideBar": true,
   "skip_h1_title": false,
   "title_cell": "Table of Contents",
   "title_sidebar": "Contents",
   "toc_cell": false,
   "toc_position": {
    "height": "calc(100% - 180px)",
    "left": "10px",
    "top": "150px",
    "width": "384px"
   },
   "toc_section_display": true,
   "toc_window_display": false
  }
 },
 "nbformat": 4,
 "nbformat_minor": 1
}
