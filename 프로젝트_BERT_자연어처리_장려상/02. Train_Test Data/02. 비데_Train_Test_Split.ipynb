{
 "cells": [
  {
   "cell_type": "markdown",
   "id": "2e5f7d1f",
   "metadata": {},
   "source": [
    "# 데이터 로드"
   ]
  },
  {
   "cell_type": "code",
   "execution_count": 1,
   "id": "a3a012e0",
   "metadata": {
    "scrolled": true
   },
   "outputs": [
    {
     "name": "stdout",
     "output_type": "stream",
     "text": [
      "<class 'pandas.core.frame.DataFrame'>\n",
      "RangeIndex: 30555 entries, 0 to 30554\n",
      "Data columns (total 7 columns):\n",
      " #   Column  Non-Null Count  Dtype         \n",
      "---  ------  --------------  -----         \n",
      " 0   회사명     30555 non-null  object        \n",
      " 1   고유 제품명  30555 non-null  object        \n",
      " 2   형태      30555 non-null  object        \n",
      " 3   작성일     30555 non-null  datetime64[ns]\n",
      " 4   별점      30555 non-null  int64         \n",
      " 5   제목_본문   30555 non-null  object        \n",
      " 6   채널명     30555 non-null  object        \n",
      "dtypes: datetime64[ns](1), int64(1), object(5)\n",
      "memory usage: 1.6+ MB\n"
     ]
    }
   ],
   "source": [
    "import numpy as np\n",
    "import pandas as pd\n",
    "\n",
    "combined_review_origin = pd.read_excel('combined_review.xlsx')\n",
    "combined_review_origin.info()"
   ]
  },
  {
   "cell_type": "code",
   "execution_count": 2,
   "id": "f7dab6db",
   "metadata": {
    "scrolled": false
   },
   "outputs": [
    {
     "data": {
      "text/plain": [
       "(30555, 7)"
      ]
     },
     "execution_count": 2,
     "metadata": {},
     "output_type": "execute_result"
    }
   ],
   "source": [
    "# 카피본 떠놓고 시작하기\n",
    "combined_review = combined_review_origin.copy()\n",
    "combined_review.shape"
   ]
  },
  {
   "cell_type": "code",
   "execution_count": 3,
   "id": "29f83b87",
   "metadata": {},
   "outputs": [
    {
     "data": {
      "text/plain": [
       "3"
      ]
     },
     "execution_count": 3,
     "metadata": {},
     "output_type": "execute_result"
    }
   ],
   "source": [
    "combined_review.duplicated().sum()"
   ]
  },
  {
   "cell_type": "code",
   "execution_count": 4,
   "id": "0fc938d6",
   "metadata": {
    "scrolled": false
   },
   "outputs": [
    {
     "data": {
      "text/plain": [
       "62"
      ]
     },
     "execution_count": 4,
     "metadata": {},
     "output_type": "execute_result"
    }
   ],
   "source": [
    "combined_review[['제목_본문']].duplicated().sum()"
   ]
  },
  {
   "cell_type": "code",
   "execution_count": 5,
   "id": "d79a457b",
   "metadata": {
    "scrolled": true
   },
   "outputs": [
    {
     "name": "stdout",
     "output_type": "stream",
     "text": [
      "            회사명       고유 제품명 형태        작성일  별점 제목_본문     채널명\n",
      "2874  bidetmate  3000 Series  E 2022-09-30   5  Good  amazon\n",
      "3539   brondell        S1400  E 2022-05-24   5  Good  amazon\n",
      "9747   brondell        SE600  E 2018-05-23   4  Good  amazon\n",
      "           회사명       고유 제품명 형태        작성일  별점 제목_본문     채널명\n",
      "3503      toto  SW3056 S550  E 2022-06-01   1   결측치  amazon\n",
      "3728  brondell        S1400  E 2022-04-15   5   결측치  amazon\n",
      "6813  biobidet        BB600  E 2020-10-22   5   결측치  amazon\n",
      "              회사명       고유 제품명   형태        작성일  별점  제목_본문     채널명\n",
      "3245         toto  SW3036 K300    E 2022-07-26   5  Great  amazon\n",
      "4698        tushy    Basic 2.0    A 2021-10-21   5  Great  amazon\n",
      "5356     biobidet        BB600    E 2021-06-10   5  Great  amazon\n",
      "6583     biobidet        BB600    E 2020-12-01   5  Great  amazon\n",
      "8619     biobidet       BB2000    R 2019-08-04   5  Great  amazon\n",
      "9309   alphabidet     Alpha JX    R 2018-12-20   5  Great  amazon\n",
      "25875    brondell       CL1500  R E 2022-03-04   5  Great  costco\n",
      "           회사명 고유 제품명 형태        작성일  별점 제목_본문     채널명\n",
      "4381  brondell   LT99  E 2021-12-21   5  good  amazon\n",
      "5709  biobidet  BB600  E 2021-04-06   5  good  amazon\n",
      "           회사명       고유 제품명 형태        작성일  별점            제목_본문     채널명\n",
      "4451  biobidet       BB2000  R 2021-12-11   5  Easy to install  amazon\n",
      "6232     tushy    Basic 2.0  A 2021-01-23   5  Easy to install  amazon\n",
      "8853      toto  SW3036 K300  E 2019-05-19   4  Easy to install  amazon\n",
      "           회사명     고유 제품명 형태        작성일  별점           제목_본문     채널명\n",
      "6774  biobidet     BB2000  R 2020-10-28   5  Great purchase  amazon\n",
      "7857     tushy  Basic 2.0  A 2020-03-05   5  Great purchase  amazon\n",
      "           회사명     고유 제품명 형태        작성일  별점          제목_본문     채널명\n",
      "8547     tushy  Basic 2.0  A 2019-08-24   5  As advertised  amazon\n",
      "8809  biobidet      BB600  E 2019-06-05   5  As advertised  amazon\n",
      "            회사명     고유 제품명 형태        작성일  별점         제목_본문     채널명\n",
      "4885       toto  SW3084 C5  E 2021-09-11   5  Good product  amazon\n",
      "8955   biobidet      BB600  E 2019-04-19   5  Good product  amazon\n",
      "12943  biobidet  BB Elite3  A 2018-11-30   5  Good product  costco\n",
      "14545  biobidet  BB Elite3  A 2018-11-30   5  Good product  costco\n",
      "              회사명        고유 제품명   형태        작성일  별점        제목_본문     채널명\n",
      "7115   alphabidet      Alpha JX    R 2020-08-14   5  Works great  amazon\n",
      "9046        tushy     Basic 2.0    A 2019-03-10   5  Works great  amazon\n",
      "16451    biobidet     BB Elite3    A 2019-11-30   5  Works great  costco\n",
      "25280    biobidet  BB USPA 6800  R E 2022-11-15   5  Works great  costco\n",
      "           회사명  고유 제품명 형태        작성일  별점  \\\n",
      "9223  brondell   SE600  E 2019-01-11   4   \n",
      "9225  biobidet  BB2000  R 2019-01-11   3   \n",
      "\n",
      "                                                  제목_본문     채널명  \n",
      "9223  Review of Alpha JX, Biobidet BB-2000 and Brond...  amazon  \n",
      "9225  Review of Alpha JX, Biobidet BB-2000 and Brond...  amazon  \n",
      "           회사명  고유 제품명 형태        작성일  별점               제목_본문     채널명\n",
      "9982  biobidet  BB2000  R 2017-11-10   5  Five Stars.love it  amazon\n",
      "9986  biobidet   BB600  E 2017-11-05   5  Five Stars.love it  amazon\n",
      "            회사명      고유 제품명 형태        작성일  별점                 제목_본문 채널명\n",
      "12098  brondell       SE600  R 2019-03-27   5  Love it.....Love it.  hd\n",
      "12747      toto  SW583 S350  R 2020-07-20   5  Love it.....Love it.  hd\n",
      "            회사명     고유 제품명 형태        작성일  별점  \\\n",
      "12104  brondell      SE600  R 2019-03-27   5   \n",
      "12928  biobidet  BB Elite3  A 2020-11-29   5   \n",
      "\n",
      "                                  제목_본문     채널명  \n",
      "12104  Easy to install and works great.      hd  \n",
      "12928  Easy to install and works great.  costco  \n",
      "            회사명        고유 제품명   형태        작성일  별점    제목_본문     채널명\n",
      "4919   biobidet         BB600    E 2021-09-03   5  Love it  amazon\n",
      "12948  biobidet     BB Elite3    A 2018-11-30   5  Love it  costco\n",
      "22557  biobidet  BB USPA 6800  R E 2020-11-30   3  Love it  costco\n",
      "27238  brondell        CL1000  R E 2018-11-30   5  Love it  costco\n",
      "29026  brondell        CL1000  R E 2022-05-03   5  Love it  costco\n",
      "            회사명      고유 제품명 형태        작성일  별점            제목_본문     채널명\n",
      "9567       toto  SW583 S350  R 2018-08-25   5  easy to install  amazon\n",
      "12963  biobidet   BB Elite3  A 2021-11-29   4  easy to install  costco\n",
      "            회사명     고유 제품명 형태        작성일  별점        제목_본문     채널명\n",
      "5476   biobidet     BB2000  R 2021-05-17   5  Easy to use  amazon\n",
      "14193  biobidet  BB Elite3  A 2021-11-29   5  Easy to use  costco\n",
      "            회사명        고유 제품명   형태        작성일  별점         제목_본문     채널명\n",
      "8852   brondell         S1400    E 2019-05-20   5  Good quality  amazon\n",
      "14584  biobidet     BB Elite3    A 2020-11-29   4  Good quality  costco\n",
      "20439  biobidet  BB USPA 6800  R E 2022-04-04   5  Good quality  costco\n",
      "            회사명     고유 제품명 형태        작성일  별점  \\\n",
      "12519  brondell      S1400  E 2022-06-22   5   \n",
      "14888  biobidet  BB Elite3  A 2020-11-29   5   \n",
      "\n",
      "                                     제목_본문     채널명  \n",
      "12519  Great product.Very easy to install.      hd  \n",
      "14888  Great product.Very easy to install.  costco  \n",
      "            회사명        고유 제품명   형태        작성일  별점          제목_본문     채널명\n",
      "3915      tushy     Basic 2.0    A 2022-03-09   5  Great product  amazon\n",
      "14944  biobidet     BB Elite3    A 2020-11-29   5  Great product  costco\n",
      "14957  biobidet     BB Elite3    A 2020-11-29   5  Great product  costco\n",
      "16628  biobidet  BB USPA 6800  R E 2019-12-01   4  Great product  costco\n",
      "21191  biobidet  BB USPA 6800  R E 2020-11-30   5  Great product  costco\n",
      "27227  brondell        CL1000  R E 2020-11-29   5  Great product  costco\n",
      "            회사명     고유 제품명 형태        작성일  별점                          제목_본문  \\\n",
      "5869      tushy  Basic 2.0  A 2021-03-14   5  Great product.Easy to install   \n",
      "14946  biobidet  BB Elite3  A 2020-11-29   5  Great product.Easy to install   \n",
      "\n",
      "          채널명  \n",
      "5869   amazon  \n",
      "14946  costco  \n",
      "            회사명      고유 제품명 형태        작성일  별점         제목_본문     채널명\n",
      "8857       toto  SW583 S350  R 2019-05-19   5  Nice.Perfect  amazon\n",
      "15603  biobidet   BB Elite3  A 2020-11-29   5  Nice.Perfect  costco\n",
      "            회사명        고유 제품명   형태        작성일  별점         제목_본문     채널명\n",
      "5761       toto    SW583 S350    R 2021-03-29   5  Nice product  amazon\n",
      "15633  biobidet     BB Elite3    A 2020-11-29   4  Nice product  costco\n",
      "23233  biobidet  BB USPA 6800  R E 2022-11-27   5  Nice product  costco\n",
      "27444  brondell        CL1000  R E 2018-11-30   5  Nice product  costco\n",
      "            회사명        고유 제품명   형태        작성일  별점               제목_본문     채널명\n",
      "10411  biobidet        BB2000    R 2016-06-07   5  Excellent product.  amazon\n",
      "16657  biobidet  BB USPA 6800  R E 2018-12-01   5  Excellent product.  costco\n",
      "            회사명        고유 제품명   형태        작성일  별점     제목_본문     채널명\n",
      "12263  brondell         S1400    E 2019-08-07   5  Love it.      hd\n",
      "16789  biobidet  BB USPA 6800  R E 2018-12-01   5  Love it.  costco\n",
      "            회사명        고유 제품명   형태        작성일  별점        제목_본문     채널명\n",
      "13357  biobidet     BB Elite3    A 2019-11-30   5  Bidet.Great  costco\n",
      "17922  biobidet  BB USPA 6800  R E 2018-12-01   5  Bidet.Great  costco\n",
      "             회사명        고유 제품명   형태        작성일  별점      제목_본문     채널명\n",
      "17076   biobidet  BB USPA 6800  R E 2018-12-01   5  Excellent  costco\n",
      "19668   biobidet  BB USPA 6800  R E 2022-11-26   5  Excellent  costco\n",
      "25568   brondell        CL1500  R E 2020-11-29   5  Excellent  costco\n",
      "25791   brondell        CL1500  R E 2020-11-29   5  Excellent  costco\n",
      "30213  ovedecors        Irenne    E 2021-11-30   5  Excellent  costco\n",
      "            회사명        고유 제품명   형태        작성일  별점           제목_본문     채널명\n",
      "3919       toto     SW3074 C2    E 2022-03-08   5  Good.very good  amazon\n",
      "20149  biobidet  BB USPA 6800  R E 2021-11-30   5  Good.very good  costco\n",
      "            회사명        고유 제품명   형태        작성일  별점         제목_본문     채널명\n",
      "14547  biobidet     BB Elite3    A 2020-11-29   5  good product  costco\n",
      "20349  biobidet  BB USPA 6800  R E 2022-03-05   5  good product  costco\n",
      "            회사명        고유 제품명   형태        작성일  별점                제목_본문     채널명\n",
      "14654  biobidet     BB Elite3    A 2019-11-30   5  Great.Great product  costco\n",
      "20537  biobidet  BB USPA 6800  R E 2018-12-01   5  Great.Great product  costco\n",
      "            회사명        고유 제품명   형태        작성일  별점                  제목_본문  \\\n",
      "8004   biobidet         BB600    E 2020-02-06   5  Great product.Love it   \n",
      "21187  biobidet  BB USPA 6800  R E 2020-11-30   5  Great product.Love it   \n",
      "\n",
      "          채널명  \n",
      "8004   amazon  \n",
      "21187  costco  \n",
      "            회사명        고유 제품명   형태        작성일  별점      제목_본문     채널명\n",
      "16267  biobidet     BB Elite3    A 2019-11-30   5  Very good  costco\n",
      "24703  biobidet  BB USPA 6800  R E 2020-11-30   5  Very good  costco\n",
      "            회사명        고유 제품명   형태        작성일  별점      제목_본문     채널명\n",
      "16266  biobidet     BB Elite3    A 2020-11-29   5  very good  costco\n",
      "24711  biobidet  BB USPA 6800  R E 2021-11-30   5  very good  costco\n",
      "            회사명        고유 제품명   형태        작성일  별점         제목_본문     채널명\n",
      "8692   biobidet        BB2000    R 2019-07-13   5  Works great!  amazon\n",
      "25318  biobidet  BB USPA 6800  R E 2021-11-30   5  Works great!  costco\n",
      "26241  brondell        CL1500  R E 2021-11-29   5  Works great!  costco\n",
      "            회사명     고유 제품명   형태        작성일  별점                     제목_본문  \\\n",
      "16459  biobidet  BB Elite3    A 2020-11-29   5  Works great.Works great.   \n",
      "27186  brondell     CL1700  R E 2020-11-29   5  Works great.Works great.   \n",
      "\n",
      "          채널명  \n",
      "16459  costco  \n",
      "27186  costco  \n",
      "            회사명     고유 제품명   형태        작성일  별점              제목_본문     채널명\n",
      "16429  biobidet  BB Elite3    A 2022-01-03   4  Works as expected  costco\n",
      "27346  brondell     CL1000  R E 2018-11-30   4  Works as expected  costco\n",
      "            회사명        고유 제품명   형태        작성일  별점     제목_본문     채널명\n",
      "16871  biobidet  BB USPA 6800  R E 2018-12-01   5  Love it!  costco\n",
      "27365  brondell        CL1000  R E 2018-11-30   5  Love it!  costco\n"
     ]
    }
   ],
   "source": [
    "dup_text = combined_review[combined_review[['제목_본문']].duplicated()]['제목_본문'].unique()\n",
    "\n",
    "    \n",
    "text = []\n",
    "idx = []\n",
    "for d_t in dup_text:\n",
    "    df1 = combined_review[combined_review['제목_본문']==d_t]\n",
    "    print(df1)"
   ]
  },
  {
   "cell_type": "markdown",
   "id": "04351909",
   "metadata": {},
   "source": [
    "# 데이터 전처리"
   ]
  },
  {
   "cell_type": "markdown",
   "id": "73e1b318",
   "metadata": {},
   "source": [
    "## 긍정/부정 분류\n",
    "- 평점 5점 -> label == 2\n",
    "- 평점 1,2점 -> label ==1"
   ]
  },
  {
   "cell_type": "code",
   "execution_count": 6,
   "id": "ea2eff6d",
   "metadata": {},
   "outputs": [
    {
     "data": {
      "text/html": [
       "<div>\n",
       "<style scoped>\n",
       "    .dataframe tbody tr th:only-of-type {\n",
       "        vertical-align: middle;\n",
       "    }\n",
       "\n",
       "    .dataframe tbody tr th {\n",
       "        vertical-align: top;\n",
       "    }\n",
       "\n",
       "    .dataframe thead th {\n",
       "        text-align: right;\n",
       "    }\n",
       "</style>\n",
       "<table border=\"1\" class=\"dataframe\">\n",
       "  <thead>\n",
       "    <tr style=\"text-align: right;\">\n",
       "      <th></th>\n",
       "      <th>제목_본문</th>\n",
       "    </tr>\n",
       "    <tr>\n",
       "      <th>별점</th>\n",
       "      <th></th>\n",
       "    </tr>\n",
       "  </thead>\n",
       "  <tbody>\n",
       "    <tr>\n",
       "      <th>1</th>\n",
       "      <td>1782</td>\n",
       "    </tr>\n",
       "    <tr>\n",
       "      <th>2</th>\n",
       "      <td>1049</td>\n",
       "    </tr>\n",
       "    <tr>\n",
       "      <th>3</th>\n",
       "      <td>1624</td>\n",
       "    </tr>\n",
       "    <tr>\n",
       "      <th>4</th>\n",
       "      <td>4789</td>\n",
       "    </tr>\n",
       "    <tr>\n",
       "      <th>5</th>\n",
       "      <td>21311</td>\n",
       "    </tr>\n",
       "  </tbody>\n",
       "</table>\n",
       "</div>"
      ],
      "text/plain": [
       "    제목_본문\n",
       "별점       \n",
       "1    1782\n",
       "2    1049\n",
       "3    1624\n",
       "4    4789\n",
       "5   21311"
      ]
     },
     "execution_count": 6,
     "metadata": {},
     "output_type": "execute_result"
    }
   ],
   "source": [
    "combined_review.groupby('별점')[['제목_본문']].count()"
   ]
  },
  {
   "cell_type": "code",
   "execution_count": 7,
   "id": "97794bcb",
   "metadata": {
    "scrolled": true
   },
   "outputs": [
    {
     "name": "stdout",
     "output_type": "stream",
     "text": [
      "       별점                                              제목_본문\n",
      "30547   5  Works well.Worth noting that it works best whe...\n",
      "30550   5  Worth every penny.We love our new toilet! We h...\n",
      "30551   5  Worth every penny!.It’s a beautiful toilet tha...\n",
      "30553   5  You will miss this.Good but needs some tweakin...\n",
      "30554   5  You’re mad if you didn’t buy this... :).Easy i...\n",
      "       별점                                              제목_본문\n",
      "30492   1  Stopped working 1.5 years in. No help from mfg...\n",
      "30495   1  Terrible Customer Service OVE!.Worked fine for...\n",
      "30500   2  The functionality of the toilets was too diffi...\n",
      "30507   1  Toilet does not flush.My toilet does not flush...\n",
      "30514   1  Useless.We have hardly used it for 2 months an...\n",
      "30527   2  Water Hammer.After a lengthy installation my p...\n",
      "30549   1  Worst product.I just opened the box and parts ...\n"
     ]
    }
   ],
   "source": [
    "bidet_positive = combined_review[combined_review['별점']==5][['별점', '제목_본문']]\n",
    "bidet_negative = combined_review[combined_review['별점']<=2][['별점', '제목_본문']]\n",
    "print(bidet_positive[-5:])\n",
    "print(bidet_negative[-7:])"
   ]
  },
  {
   "cell_type": "code",
   "execution_count": 8,
   "id": "df7b6082",
   "metadata": {},
   "outputs": [
    {
     "name": "stdout",
     "output_type": "stream",
     "text": [
      "       별점                                              제목_본문\n",
      "30547   1  Works well.Worth noting that it works best whe...\n",
      "30550   1  Worth every penny.We love our new toilet! We h...\n",
      "30551   1  Worth every penny!.It’s a beautiful toilet tha...\n",
      "30553   1  You will miss this.Good but needs some tweakin...\n",
      "30554   1  You’re mad if you didn’t buy this... :).Easy i...\n",
      "       별점                                              제목_본문\n",
      "30492   0  Stopped working 1.5 years in. No help from mfg...\n",
      "30495   0  Terrible Customer Service OVE!.Worked fine for...\n",
      "30500   0  The functionality of the toilets was too diffi...\n",
      "30507   0  Toilet does not flush.My toilet does not flush...\n",
      "30514   0  Useless.We have hardly used it for 2 months an...\n",
      "30527   0  Water Hammer.After a lengthy installation my p...\n",
      "30549   0  Worst product.I just opened the box and parts ...\n"
     ]
    }
   ],
   "source": [
    "bidet_positive['별점'] = 1\n",
    "bidet_negative['별점'] = 0\n",
    "print(bidet_positive[-5:])\n",
    "print(bidet_negative[-7:])"
   ]
  },
  {
   "cell_type": "markdown",
   "id": "39e0401b",
   "metadata": {},
   "source": [
    "## 컬럼명 변경"
   ]
  },
  {
   "cell_type": "code",
   "execution_count": 9,
   "id": "8477ae2b",
   "metadata": {},
   "outputs": [
    {
     "name": "stdout",
     "output_type": "stream",
     "text": [
      "       label                                               text\n",
      "30547      1  Works well.Worth noting that it works best whe...\n",
      "30550      1  Worth every penny.We love our new toilet! We h...\n",
      "30551      1  Worth every penny!.It’s a beautiful toilet tha...\n",
      "30553      1  You will miss this.Good but needs some tweakin...\n",
      "30554      1  You’re mad if you didn’t buy this... :).Easy i...\n",
      "       label                                               text\n",
      "30492      0  Stopped working 1.5 years in. No help from mfg...\n",
      "30495      0  Terrible Customer Service OVE!.Worked fine for...\n",
      "30500      0  The functionality of the toilets was too diffi...\n",
      "30507      0  Toilet does not flush.My toilet does not flush...\n",
      "30514      0  Useless.We have hardly used it for 2 months an...\n",
      "30527      0  Water Hammer.After a lengthy installation my p...\n",
      "30549      0  Worst product.I just opened the box and parts ...\n"
     ]
    }
   ],
   "source": [
    "bidet_positive.rename(columns={'별점':'label', '제목_본문':'text'}, inplace=True)\n",
    "bidet_negative.rename(columns={'별점':'label', '제목_본문':'text'}, inplace=True)\n",
    "print(bidet_positive[-5:])\n",
    "print(bidet_negative[-7:])"
   ]
  },
  {
   "cell_type": "code",
   "execution_count": 10,
   "id": "a1921a17",
   "metadata": {
    "scrolled": true
   },
   "outputs": [
    {
     "data": {
      "text/plain": [
       "(21311, 2)"
      ]
     },
     "execution_count": 10,
     "metadata": {},
     "output_type": "execute_result"
    }
   ],
   "source": [
    "bidet_positive.shape"
   ]
  },
  {
   "cell_type": "code",
   "execution_count": 11,
   "id": "06950901",
   "metadata": {
    "scrolled": true
   },
   "outputs": [
    {
     "data": {
      "text/plain": [
       "(2831, 2)"
      ]
     },
     "execution_count": 11,
     "metadata": {},
     "output_type": "execute_result"
    }
   ],
   "source": [
    "bidet_negative.shape"
   ]
  },
  {
   "cell_type": "markdown",
   "id": "b2f1852e",
   "metadata": {},
   "source": [
    "## 중복 제거"
   ]
  },
  {
   "cell_type": "code",
   "execution_count": 12,
   "id": "5b597fbe",
   "metadata": {
    "scrolled": true
   },
   "outputs": [
    {
     "name": "stdout",
     "output_type": "stream",
     "text": [
      "52\n",
      "0\n"
     ]
    }
   ],
   "source": [
    "print(bidet_positive.duplicated().sum())\n",
    "print(bidet_negative.duplicated().sum())"
   ]
  },
  {
   "cell_type": "code",
   "execution_count": 13,
   "id": "1fad535a",
   "metadata": {},
   "outputs": [
    {
     "name": "stdout",
     "output_type": "stream",
     "text": [
      "52\n",
      "0\n"
     ]
    }
   ],
   "source": [
    "print(bidet_positive['text'].duplicated().sum())\n",
    "print(bidet_negative['text'].duplicated().sum())"
   ]
  },
  {
   "cell_type": "code",
   "execution_count": 14,
   "id": "fa943bb7",
   "metadata": {},
   "outputs": [
    {
     "data": {
      "text/html": [
       "<div>\n",
       "<style scoped>\n",
       "    .dataframe tbody tr th:only-of-type {\n",
       "        vertical-align: middle;\n",
       "    }\n",
       "\n",
       "    .dataframe tbody tr th {\n",
       "        vertical-align: top;\n",
       "    }\n",
       "\n",
       "    .dataframe thead th {\n",
       "        text-align: right;\n",
       "    }\n",
       "</style>\n",
       "<table border=\"1\" class=\"dataframe\">\n",
       "  <thead>\n",
       "    <tr style=\"text-align: right;\">\n",
       "      <th></th>\n",
       "      <th>label</th>\n",
       "      <th>text</th>\n",
       "    </tr>\n",
       "  </thead>\n",
       "  <tbody>\n",
       "    <tr>\n",
       "      <th>3539</th>\n",
       "      <td>1</td>\n",
       "      <td>Good</td>\n",
       "    </tr>\n",
       "    <tr>\n",
       "      <th>4698</th>\n",
       "      <td>1</td>\n",
       "      <td>Great</td>\n",
       "    </tr>\n",
       "    <tr>\n",
       "      <th>5356</th>\n",
       "      <td>1</td>\n",
       "      <td>Great</td>\n",
       "    </tr>\n",
       "    <tr>\n",
       "      <th>5709</th>\n",
       "      <td>1</td>\n",
       "      <td>good</td>\n",
       "    </tr>\n",
       "    <tr>\n",
       "      <th>6232</th>\n",
       "      <td>1</td>\n",
       "      <td>Easy to install</td>\n",
       "    </tr>\n",
       "    <tr>\n",
       "      <th>6583</th>\n",
       "      <td>1</td>\n",
       "      <td>Great</td>\n",
       "    </tr>\n",
       "    <tr>\n",
       "      <th>6813</th>\n",
       "      <td>1</td>\n",
       "      <td>결측치</td>\n",
       "    </tr>\n",
       "    <tr>\n",
       "      <th>7857</th>\n",
       "      <td>1</td>\n",
       "      <td>Great purchase</td>\n",
       "    </tr>\n",
       "    <tr>\n",
       "      <th>8619</th>\n",
       "      <td>1</td>\n",
       "      <td>Great</td>\n",
       "    </tr>\n",
       "    <tr>\n",
       "      <th>8809</th>\n",
       "      <td>1</td>\n",
       "      <td>As advertised</td>\n",
       "    </tr>\n",
       "    <tr>\n",
       "      <th>8955</th>\n",
       "      <td>1</td>\n",
       "      <td>Good product</td>\n",
       "    </tr>\n",
       "    <tr>\n",
       "      <th>9046</th>\n",
       "      <td>1</td>\n",
       "      <td>Works great</td>\n",
       "    </tr>\n",
       "    <tr>\n",
       "      <th>9309</th>\n",
       "      <td>1</td>\n",
       "      <td>Great</td>\n",
       "    </tr>\n",
       "    <tr>\n",
       "      <th>9986</th>\n",
       "      <td>1</td>\n",
       "      <td>Five Stars.love it</td>\n",
       "    </tr>\n",
       "    <tr>\n",
       "      <th>12747</th>\n",
       "      <td>1</td>\n",
       "      <td>Love it.....Love it.</td>\n",
       "    </tr>\n",
       "    <tr>\n",
       "      <th>12928</th>\n",
       "      <td>1</td>\n",
       "      <td>Easy to install and works great.</td>\n",
       "    </tr>\n",
       "    <tr>\n",
       "      <th>12943</th>\n",
       "      <td>1</td>\n",
       "      <td>Good product</td>\n",
       "    </tr>\n",
       "    <tr>\n",
       "      <th>12948</th>\n",
       "      <td>1</td>\n",
       "      <td>Love it</td>\n",
       "    </tr>\n",
       "    <tr>\n",
       "      <th>14193</th>\n",
       "      <td>1</td>\n",
       "      <td>Easy to use</td>\n",
       "    </tr>\n",
       "    <tr>\n",
       "      <th>14545</th>\n",
       "      <td>1</td>\n",
       "      <td>Good product</td>\n",
       "    </tr>\n",
       "    <tr>\n",
       "      <th>14888</th>\n",
       "      <td>1</td>\n",
       "      <td>Great product.Very easy to install.</td>\n",
       "    </tr>\n",
       "    <tr>\n",
       "      <th>14944</th>\n",
       "      <td>1</td>\n",
       "      <td>Great product</td>\n",
       "    </tr>\n",
       "    <tr>\n",
       "      <th>14946</th>\n",
       "      <td>1</td>\n",
       "      <td>Great product.Easy to install</td>\n",
       "    </tr>\n",
       "    <tr>\n",
       "      <th>14957</th>\n",
       "      <td>1</td>\n",
       "      <td>Great product</td>\n",
       "    </tr>\n",
       "    <tr>\n",
       "      <th>15603</th>\n",
       "      <td>1</td>\n",
       "      <td>Nice.Perfect</td>\n",
       "    </tr>\n",
       "    <tr>\n",
       "      <th>16451</th>\n",
       "      <td>1</td>\n",
       "      <td>Works great</td>\n",
       "    </tr>\n",
       "    <tr>\n",
       "      <th>16657</th>\n",
       "      <td>1</td>\n",
       "      <td>Excellent product.</td>\n",
       "    </tr>\n",
       "    <tr>\n",
       "      <th>16789</th>\n",
       "      <td>1</td>\n",
       "      <td>Love it.</td>\n",
       "    </tr>\n",
       "    <tr>\n",
       "      <th>17922</th>\n",
       "      <td>1</td>\n",
       "      <td>Bidet.Great</td>\n",
       "    </tr>\n",
       "    <tr>\n",
       "      <th>19668</th>\n",
       "      <td>1</td>\n",
       "      <td>Excellent</td>\n",
       "    </tr>\n",
       "    <tr>\n",
       "      <th>20149</th>\n",
       "      <td>1</td>\n",
       "      <td>Good.very good</td>\n",
       "    </tr>\n",
       "    <tr>\n",
       "      <th>20349</th>\n",
       "      <td>1</td>\n",
       "      <td>good product</td>\n",
       "    </tr>\n",
       "    <tr>\n",
       "      <th>20439</th>\n",
       "      <td>1</td>\n",
       "      <td>Good quality</td>\n",
       "    </tr>\n",
       "    <tr>\n",
       "      <th>20537</th>\n",
       "      <td>1</td>\n",
       "      <td>Great.Great product</td>\n",
       "    </tr>\n",
       "    <tr>\n",
       "      <th>21187</th>\n",
       "      <td>1</td>\n",
       "      <td>Great product.Love it</td>\n",
       "    </tr>\n",
       "    <tr>\n",
       "      <th>21191</th>\n",
       "      <td>1</td>\n",
       "      <td>Great product</td>\n",
       "    </tr>\n",
       "    <tr>\n",
       "      <th>23233</th>\n",
       "      <td>1</td>\n",
       "      <td>Nice product</td>\n",
       "    </tr>\n",
       "    <tr>\n",
       "      <th>24703</th>\n",
       "      <td>1</td>\n",
       "      <td>Very good</td>\n",
       "    </tr>\n",
       "    <tr>\n",
       "      <th>24711</th>\n",
       "      <td>1</td>\n",
       "      <td>very good</td>\n",
       "    </tr>\n",
       "    <tr>\n",
       "      <th>25280</th>\n",
       "      <td>1</td>\n",
       "      <td>Works great</td>\n",
       "    </tr>\n",
       "    <tr>\n",
       "      <th>25318</th>\n",
       "      <td>1</td>\n",
       "      <td>Works great!</td>\n",
       "    </tr>\n",
       "    <tr>\n",
       "      <th>25568</th>\n",
       "      <td>1</td>\n",
       "      <td>Excellent</td>\n",
       "    </tr>\n",
       "    <tr>\n",
       "      <th>25791</th>\n",
       "      <td>1</td>\n",
       "      <td>Excellent</td>\n",
       "    </tr>\n",
       "    <tr>\n",
       "      <th>25875</th>\n",
       "      <td>1</td>\n",
       "      <td>Great</td>\n",
       "    </tr>\n",
       "    <tr>\n",
       "      <th>26241</th>\n",
       "      <td>1</td>\n",
       "      <td>Works great!</td>\n",
       "    </tr>\n",
       "    <tr>\n",
       "      <th>27186</th>\n",
       "      <td>1</td>\n",
       "      <td>Works great.Works great.</td>\n",
       "    </tr>\n",
       "    <tr>\n",
       "      <th>27227</th>\n",
       "      <td>1</td>\n",
       "      <td>Great product</td>\n",
       "    </tr>\n",
       "    <tr>\n",
       "      <th>27238</th>\n",
       "      <td>1</td>\n",
       "      <td>Love it</td>\n",
       "    </tr>\n",
       "    <tr>\n",
       "      <th>27365</th>\n",
       "      <td>1</td>\n",
       "      <td>Love it!</td>\n",
       "    </tr>\n",
       "    <tr>\n",
       "      <th>27444</th>\n",
       "      <td>1</td>\n",
       "      <td>Nice product</td>\n",
       "    </tr>\n",
       "    <tr>\n",
       "      <th>29026</th>\n",
       "      <td>1</td>\n",
       "      <td>Love it</td>\n",
       "    </tr>\n",
       "    <tr>\n",
       "      <th>30213</th>\n",
       "      <td>1</td>\n",
       "      <td>Excellent</td>\n",
       "    </tr>\n",
       "  </tbody>\n",
       "</table>\n",
       "</div>"
      ],
      "text/plain": [
       "       label                                 text\n",
       "3539       1                                 Good\n",
       "4698       1                                Great\n",
       "5356       1                                Great\n",
       "5709       1                                 good\n",
       "6232       1                      Easy to install\n",
       "6583       1                                Great\n",
       "6813       1                                  결측치\n",
       "7857       1                       Great purchase\n",
       "8619       1                                Great\n",
       "8809       1                        As advertised\n",
       "8955       1                         Good product\n",
       "9046       1                          Works great\n",
       "9309       1                                Great\n",
       "9986       1                   Five Stars.love it\n",
       "12747      1                 Love it.....Love it.\n",
       "12928      1     Easy to install and works great.\n",
       "12943      1                         Good product\n",
       "12948      1                              Love it\n",
       "14193      1                          Easy to use\n",
       "14545      1                         Good product\n",
       "14888      1  Great product.Very easy to install.\n",
       "14944      1                        Great product\n",
       "14946      1        Great product.Easy to install\n",
       "14957      1                        Great product\n",
       "15603      1                         Nice.Perfect\n",
       "16451      1                          Works great\n",
       "16657      1                   Excellent product.\n",
       "16789      1                             Love it.\n",
       "17922      1                          Bidet.Great\n",
       "19668      1                            Excellent\n",
       "20149      1                       Good.very good\n",
       "20349      1                         good product\n",
       "20439      1                         Good quality\n",
       "20537      1                  Great.Great product\n",
       "21187      1                Great product.Love it\n",
       "21191      1                        Great product\n",
       "23233      1                         Nice product\n",
       "24703      1                            Very good\n",
       "24711      1                            very good\n",
       "25280      1                          Works great\n",
       "25318      1                         Works great!\n",
       "25568      1                            Excellent\n",
       "25791      1                            Excellent\n",
       "25875      1                                Great\n",
       "26241      1                         Works great!\n",
       "27186      1             Works great.Works great.\n",
       "27227      1                        Great product\n",
       "27238      1                              Love it\n",
       "27365      1                             Love it!\n",
       "27444      1                         Nice product\n",
       "29026      1                              Love it\n",
       "30213      1                            Excellent"
      ]
     },
     "execution_count": 14,
     "metadata": {},
     "output_type": "execute_result"
    }
   ],
   "source": [
    "bidet_positive[bidet_positive.duplicated()]"
   ]
  },
  {
   "cell_type": "code",
   "execution_count": 15,
   "id": "0cd450a8",
   "metadata": {},
   "outputs": [
    {
     "name": "stdout",
     "output_type": "stream",
     "text": [
      "0\n",
      "0\n"
     ]
    }
   ],
   "source": [
    "bidet_positive.drop_duplicates(inplace=True)\n",
    "print(bidet_positive.duplicated().sum())\n",
    "print(bidet_negative.duplicated().sum())"
   ]
  },
  {
   "cell_type": "code",
   "execution_count": 16,
   "id": "905c296c",
   "metadata": {},
   "outputs": [
    {
     "name": "stdout",
     "output_type": "stream",
     "text": [
      "0\n",
      "0\n"
     ]
    }
   ],
   "source": [
    "print(bidet_positive['text'].duplicated().sum())\n",
    "print(bidet_negative['text'].duplicated().sum())"
   ]
  },
  {
   "cell_type": "markdown",
   "id": "c9c89e64",
   "metadata": {},
   "source": [
    "## 랜덤 샘플링\n",
    "- 훈련용 데이터프레임의 인덱스를 테스트용 데이터프레임의 인덱스와 중복되지 않게 설정"
   ]
  },
  {
   "cell_type": "code",
   "execution_count": 17,
   "id": "613d04a1",
   "metadata": {},
   "outputs": [
    {
     "name": "stdout",
     "output_type": "stream",
     "text": [
      "       label                                               text\n",
      "14921      1  Great product.Great product, easy to install a...\n",
      "27827      1  Brondell CS1000.Just bought Brondell CS1000, a...\n",
      "25168      1  Wonderful product.The bidet is easy to install...\n",
      "7714       1  Very classy.After much research and speaking w...\n",
      "11218      1  So many features!.I received this bidet as a C...\n",
      "       label                                               text\n",
      "3535       0  Not a universal fit.Note that although this pr...\n",
      "3164       0  Leaks after several attempts to correct.Instal...\n",
      "13836      0  cheaply made.arrived damaged. was promptly ret...\n",
      "23335      0  Not an adequate spray. Sloping seat..One singl...\n",
      "4127       0  1 Year Later….I ordered my Tushy Classic off t...\n"
     ]
    }
   ],
   "source": [
    "# 각각 만 개와 천 개의 샘플링 데이터 추출\n",
    "train_pos_random = bidet_positive.sample(n=10000, random_state=2502)\n",
    "train_neg_random = bidet_negative.sample(n=1000, random_state=2502)\n",
    "print(train_pos_random[-5:])\n",
    "print(train_neg_random[-5:])"
   ]
  },
  {
   "cell_type": "code",
   "execution_count": 18,
   "id": "2e53e8c0",
   "metadata": {},
   "outputs": [
    {
     "data": {
      "text/plain": [
       "(10000, 2)"
      ]
     },
     "execution_count": 18,
     "metadata": {},
     "output_type": "execute_result"
    }
   ],
   "source": [
    "train_pos_random.shape"
   ]
  },
  {
   "cell_type": "code",
   "execution_count": 19,
   "id": "6eea6b1d",
   "metadata": {},
   "outputs": [
    {
     "data": {
      "text/plain": [
       "(1000, 2)"
      ]
     },
     "execution_count": 19,
     "metadata": {},
     "output_type": "execute_result"
    }
   ],
   "source": [
    "train_neg_random.shape"
   ]
  },
  {
   "cell_type": "code",
   "execution_count": 20,
   "id": "68f3ab24",
   "metadata": {},
   "outputs": [
    {
     "name": "stdout",
     "output_type": "stream",
     "text": [
      "       label                                               text\n",
      "30537      1  Works beautifully.This is a lovely bidet toile...\n",
      "30547      1  Works well.Worth noting that it works best whe...\n",
      "30550      1  Worth every penny.We love our new toilet! We h...\n",
      "30553      1  You will miss this.Good but needs some tweakin...\n",
      "30554      1  You’re mad if you didn’t buy this... :).Easy i...\n",
      "       label                                               text\n",
      "30470      0  Response from Costco Wholesale:.Had purchased ...\n",
      "30492      0  Stopped working 1.5 years in. No help from mfg...\n",
      "30495      0  Terrible Customer Service OVE!.Worked fine for...\n",
      "30507      0  Toilet does not flush.My toilet does not flush...\n",
      "30549      0  Worst product.I just opened the box and parts ...\n"
     ]
    }
   ],
   "source": [
    "test_pos_random = bidet_positive.drop(train_pos_random.index)\n",
    "test_neg_random = bidet_negative.drop(train_neg_random.index)\n",
    "print(test_pos_random[-5:])\n",
    "print(test_neg_random[-5:])"
   ]
  },
  {
   "cell_type": "code",
   "execution_count": 21,
   "id": "7808c393",
   "metadata": {},
   "outputs": [
    {
     "data": {
      "text/plain": [
       "(11259, 2)"
      ]
     },
     "execution_count": 21,
     "metadata": {},
     "output_type": "execute_result"
    }
   ],
   "source": [
    "test_pos_random.shape"
   ]
  },
  {
   "cell_type": "code",
   "execution_count": 22,
   "id": "717613d0",
   "metadata": {
    "scrolled": true
   },
   "outputs": [
    {
     "data": {
      "text/plain": [
       "(1831, 2)"
      ]
     },
     "execution_count": 22,
     "metadata": {},
     "output_type": "execute_result"
    }
   ],
   "source": [
    "test_neg_random.shape"
   ]
  },
  {
   "cell_type": "markdown",
   "id": "98865f30",
   "metadata": {},
   "source": [
    "## 긍정-부정 병합"
   ]
  },
  {
   "cell_type": "code",
   "execution_count": 23,
   "id": "e3b8bd49",
   "metadata": {
    "scrolled": true
   },
   "outputs": [
    {
     "data": {
      "text/html": [
       "<div>\n",
       "<style scoped>\n",
       "    .dataframe tbody tr th:only-of-type {\n",
       "        vertical-align: middle;\n",
       "    }\n",
       "\n",
       "    .dataframe tbody tr th {\n",
       "        vertical-align: top;\n",
       "    }\n",
       "\n",
       "    .dataframe thead th {\n",
       "        text-align: right;\n",
       "    }\n",
       "</style>\n",
       "<table border=\"1\" class=\"dataframe\">\n",
       "  <thead>\n",
       "    <tr style=\"text-align: right;\">\n",
       "      <th></th>\n",
       "      <th>label</th>\n",
       "      <th>text</th>\n",
       "    </tr>\n",
       "  </thead>\n",
       "  <tbody>\n",
       "    <tr>\n",
       "      <th>5546</th>\n",
       "      <td>1</td>\n",
       "      <td>Once You've Tried, You'll Never Go Back!!.This...</td>\n",
       "    </tr>\n",
       "    <tr>\n",
       "      <th>705</th>\n",
       "      <td>1</td>\n",
       "      <td>Love it, easy to use, warm seat and lots of be...</td>\n",
       "    </tr>\n",
       "    <tr>\n",
       "      <th>2301</th>\n",
       "      <td>1</td>\n",
       "      <td>Simple to operate simple to install..Simple an...</td>\n",
       "    </tr>\n",
       "    <tr>\n",
       "      <th>8578</th>\n",
       "      <td>1</td>\n",
       "      <td>good item.easy to install</td>\n",
       "    </tr>\n",
       "    <tr>\n",
       "      <th>10265</th>\n",
       "      <td>0</td>\n",
       "      <td>BioBidet Broke Right After Warranty Expiration...</td>\n",
       "    </tr>\n",
       "  </tbody>\n",
       "</table>\n",
       "</div>"
      ],
      "text/plain": [
       "       label                                               text\n",
       "5546       1  Once You've Tried, You'll Never Go Back!!.This...\n",
       "705        1  Love it, easy to use, warm seat and lots of be...\n",
       "2301       1  Simple to operate simple to install..Simple an...\n",
       "8578       1                          good item.easy to install\n",
       "10265      0  BioBidet Broke Right After Warranty Expiration..."
      ]
     },
     "execution_count": 23,
     "metadata": {},
     "output_type": "execute_result"
    }
   ],
   "source": [
    "# 무작위로 데이터 병합\n",
    "train_random = pd.concat([train_pos_random, train_neg_random], ignore_index=True).sample(frac=1, random_state=2502)\n",
    "train_random.head()"
   ]
  },
  {
   "cell_type": "code",
   "execution_count": 24,
   "id": "1d03d094",
   "metadata": {},
   "outputs": [
    {
     "data": {
      "text/html": [
       "<div>\n",
       "<style scoped>\n",
       "    .dataframe tbody tr th:only-of-type {\n",
       "        vertical-align: middle;\n",
       "    }\n",
       "\n",
       "    .dataframe tbody tr th {\n",
       "        vertical-align: top;\n",
       "    }\n",
       "\n",
       "    .dataframe thead th {\n",
       "        text-align: right;\n",
       "    }\n",
       "</style>\n",
       "<table border=\"1\" class=\"dataframe\">\n",
       "  <thead>\n",
       "    <tr style=\"text-align: right;\">\n",
       "      <th></th>\n",
       "      <th>label</th>\n",
       "      <th>text</th>\n",
       "    </tr>\n",
       "  </thead>\n",
       "  <tbody>\n",
       "    <tr>\n",
       "      <th>2291</th>\n",
       "      <td>1</td>\n",
       "      <td>Gives Toto a run for your money..Excellent sol...</td>\n",
       "    </tr>\n",
       "    <tr>\n",
       "      <th>3790</th>\n",
       "      <td>1</td>\n",
       "      <td>Amazing.After owning the Bio Bidet. I can’t se...</td>\n",
       "    </tr>\n",
       "    <tr>\n",
       "      <th>10996</th>\n",
       "      <td>1</td>\n",
       "      <td>Warning - looong review.Installation</td>\n",
       "    </tr>\n",
       "    <tr>\n",
       "      <th>8491</th>\n",
       "      <td>1</td>\n",
       "      <td>Life changing!.We originally purchased this un...</td>\n",
       "    </tr>\n",
       "    <tr>\n",
       "      <th>993</th>\n",
       "      <td>1</td>\n",
       "      <td>A wonderful addition to our house! .I have ...</td>\n",
       "    </tr>\n",
       "  </tbody>\n",
       "</table>\n",
       "</div>"
      ],
      "text/plain": [
       "       label                                               text\n",
       "2291       1  Gives Toto a run for your money..Excellent sol...\n",
       "3790       1  Amazing.After owning the Bio Bidet. I can’t se...\n",
       "10996      1               Warning - looong review.Installation\n",
       "8491       1  Life changing!.We originally purchased this un...\n",
       "993        1     A wonderful addition to our house! .I have ..."
      ]
     },
     "execution_count": 24,
     "metadata": {},
     "output_type": "execute_result"
    }
   ],
   "source": [
    "test_random = pd.concat([test_pos_random, test_neg_random], ignore_index=True).sample(frac=1, random_state=2502)\n",
    "test_random.head()"
   ]
  },
  {
   "cell_type": "code",
   "execution_count": 25,
   "id": "627a2c7c",
   "metadata": {},
   "outputs": [
    {
     "data": {
      "text/plain": [
       "(11000, 2)"
      ]
     },
     "execution_count": 25,
     "metadata": {},
     "output_type": "execute_result"
    }
   ],
   "source": [
    "train_random.shape"
   ]
  },
  {
   "cell_type": "code",
   "execution_count": 26,
   "id": "fba42e04",
   "metadata": {
    "scrolled": true
   },
   "outputs": [
    {
     "data": {
      "text/plain": [
       "(13090, 2)"
      ]
     },
     "execution_count": 26,
     "metadata": {},
     "output_type": "execute_result"
    }
   ],
   "source": [
    "test_random.shape"
   ]
  },
  {
   "cell_type": "markdown",
   "id": "f74f66bf",
   "metadata": {},
   "source": [
    "# 조회"
   ]
  },
  {
   "cell_type": "code",
   "execution_count": 27,
   "id": "b818932a",
   "metadata": {},
   "outputs": [
    {
     "data": {
      "text/plain": [
       "0"
      ]
     },
     "execution_count": 27,
     "metadata": {},
     "output_type": "execute_result"
    }
   ],
   "source": [
    "train_random.duplicated().sum()"
   ]
  },
  {
   "cell_type": "code",
   "execution_count": 28,
   "id": "ca1264dd",
   "metadata": {
    "scrolled": true
   },
   "outputs": [
    {
     "data": {
      "text/plain": [
       "0"
      ]
     },
     "execution_count": 28,
     "metadata": {},
     "output_type": "execute_result"
    }
   ],
   "source": [
    "test_random.duplicated().sum()"
   ]
  },
  {
   "cell_type": "code",
   "execution_count": 29,
   "id": "fc3219a2",
   "metadata": {},
   "outputs": [
    {
     "data": {
      "text/plain": [
       "label    0\n",
       "text     0\n",
       "dtype: int64"
      ]
     },
     "execution_count": 29,
     "metadata": {},
     "output_type": "execute_result"
    }
   ],
   "source": [
    "train_random.isna().sum()"
   ]
  },
  {
   "cell_type": "code",
   "execution_count": 30,
   "id": "0ebf9d42",
   "metadata": {
    "scrolled": false
   },
   "outputs": [
    {
     "data": {
      "text/plain": [
       "label    0\n",
       "text     0\n",
       "dtype: int64"
      ]
     },
     "execution_count": 30,
     "metadata": {},
     "output_type": "execute_result"
    }
   ],
   "source": [
    "test_random.isna().sum()"
   ]
  },
  {
   "cell_type": "markdown",
   "id": "52a4ea0e",
   "metadata": {},
   "source": [
    "# 파일 저장"
   ]
  },
  {
   "cell_type": "code",
   "execution_count": 31,
   "id": "658848c3",
   "metadata": {},
   "outputs": [],
   "source": [
    "train_random.to_excel('bidet_train_data.xlsx', index=False)"
   ]
  },
  {
   "cell_type": "code",
   "execution_count": 32,
   "id": "4c207bd2",
   "metadata": {},
   "outputs": [],
   "source": [
    "test_random.to_excel('bidet_test_data.xlsx', index=False)"
   ]
  },
  {
   "cell_type": "code",
   "execution_count": null,
   "id": "dd8d384c",
   "metadata": {},
   "outputs": [],
   "source": []
  }
 ],
 "metadata": {
  "kernelspec": {
   "display_name": "Python 3 (ipykernel)",
   "language": "python",
   "name": "python3"
  },
  "language_info": {
   "codemirror_mode": {
    "name": "ipython",
    "version": 3
   },
   "file_extension": ".py",
   "mimetype": "text/x-python",
   "name": "python",
   "nbconvert_exporter": "python",
   "pygments_lexer": "ipython3",
   "version": "3.9.13"
  },
  "toc": {
   "base_numbering": 1,
   "nav_menu": {},
   "number_sections": true,
   "sideBar": true,
   "skip_h1_title": false,
   "title_cell": "Table of Contents",
   "title_sidebar": "Contents",
   "toc_cell": false,
   "toc_position": {
    "height": "771.467px",
    "left": "28px",
    "top": "133px",
    "width": "409.5px"
   },
   "toc_section_display": true,
   "toc_window_display": true
  }
 },
 "nbformat": 4,
 "nbformat_minor": 5
}
