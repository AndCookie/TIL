{
 "cells": [
  {
   "cell_type": "markdown",
   "id": "ab143477",
   "metadata": {},
   "source": [
    "# 데이터 로드\n",
    "- __label__1 : 별점이 1, 2점인 리뷰\n",
    "- __label__2 : 별점이 4, 5점인 리뷰"
   ]
  },
  {
   "cell_type": "code",
   "execution_count": 29,
   "id": "0a2e2b33",
   "metadata": {
    "scrolled": true
   },
   "outputs": [
    {
     "data": {
      "text/html": [
       "<div>\n",
       "<style scoped>\n",
       "    .dataframe tbody tr th:only-of-type {\n",
       "        vertical-align: middle;\n",
       "    }\n",
       "\n",
       "    .dataframe tbody tr th {\n",
       "        vertical-align: top;\n",
       "    }\n",
       "\n",
       "    .dataframe thead th {\n",
       "        text-align: right;\n",
       "    }\n",
       "</style>\n",
       "<table border=\"1\" class=\"dataframe\">\n",
       "  <thead>\n",
       "    <tr style=\"text-align: right;\">\n",
       "      <th></th>\n",
       "      <th>0</th>\n",
       "    </tr>\n",
       "  </thead>\n",
       "  <tbody>\n",
       "    <tr>\n",
       "      <th>0</th>\n",
       "      <td>__label__2 Stuning even for the non-gamer: Thi...</td>\n",
       "    </tr>\n",
       "    <tr>\n",
       "      <th>1</th>\n",
       "      <td>__label__2 The best soundtrack ever to anythin...</td>\n",
       "    </tr>\n",
       "    <tr>\n",
       "      <th>2</th>\n",
       "      <td>__label__2 Amazing!: This soundtrack is my fav...</td>\n",
       "    </tr>\n",
       "    <tr>\n",
       "      <th>3</th>\n",
       "      <td>__label__2 Excellent Soundtrack: I truly like ...</td>\n",
       "    </tr>\n",
       "    <tr>\n",
       "      <th>4</th>\n",
       "      <td>__label__2 Remember, Pull Your Jaw Off The Flo...</td>\n",
       "    </tr>\n",
       "  </tbody>\n",
       "</table>\n",
       "</div>"
      ],
      "text/plain": [
       "                                                   0\n",
       "0  __label__2 Stuning even for the non-gamer: Thi...\n",
       "1  __label__2 The best soundtrack ever to anythin...\n",
       "2  __label__2 Amazing!: This soundtrack is my fav...\n",
       "3  __label__2 Excellent Soundtrack: I truly like ...\n",
       "4  __label__2 Remember, Pull Your Jaw Off The Flo..."
      ]
     },
     "execution_count": 29,
     "metadata": {},
     "output_type": "execute_result"
    }
   ],
   "source": [
    "import numpy as np\n",
    "import pandas as pd\n",
    "\n",
    "train_origin = pd.read_csv('train.ft.txt', sep='\\r', encoding='utf-8', header=None, skiprows=0)\n",
    "train_origin.head()"
   ]
  },
  {
   "cell_type": "code",
   "execution_count": 30,
   "id": "464182f0",
   "metadata": {
    "scrolled": true
   },
   "outputs": [
    {
     "data": {
      "text/html": [
       "<div>\n",
       "<style scoped>\n",
       "    .dataframe tbody tr th:only-of-type {\n",
       "        vertical-align: middle;\n",
       "    }\n",
       "\n",
       "    .dataframe tbody tr th {\n",
       "        vertical-align: top;\n",
       "    }\n",
       "\n",
       "    .dataframe thead th {\n",
       "        text-align: right;\n",
       "    }\n",
       "</style>\n",
       "<table border=\"1\" class=\"dataframe\">\n",
       "  <thead>\n",
       "    <tr style=\"text-align: right;\">\n",
       "      <th></th>\n",
       "      <th>0</th>\n",
       "    </tr>\n",
       "  </thead>\n",
       "  <tbody>\n",
       "    <tr>\n",
       "      <th>0</th>\n",
       "      <td>__label__2 Great CD: My lovely Pat has one of ...</td>\n",
       "    </tr>\n",
       "    <tr>\n",
       "      <th>1</th>\n",
       "      <td>__label__2 One of the best game music soundtra...</td>\n",
       "    </tr>\n",
       "    <tr>\n",
       "      <th>2</th>\n",
       "      <td>__label__1 Batteries died within a year ...: I...</td>\n",
       "    </tr>\n",
       "    <tr>\n",
       "      <th>3</th>\n",
       "      <td>__label__2 works fine, but Maha Energy is bett...</td>\n",
       "    </tr>\n",
       "    <tr>\n",
       "      <th>4</th>\n",
       "      <td>__label__2 Great for the non-audiophile: Revie...</td>\n",
       "    </tr>\n",
       "  </tbody>\n",
       "</table>\n",
       "</div>"
      ],
      "text/plain": [
       "                                                   0\n",
       "0  __label__2 Great CD: My lovely Pat has one of ...\n",
       "1  __label__2 One of the best game music soundtra...\n",
       "2  __label__1 Batteries died within a year ...: I...\n",
       "3  __label__2 works fine, but Maha Energy is bett...\n",
       "4  __label__2 Great for the non-audiophile: Revie..."
      ]
     },
     "execution_count": 30,
     "metadata": {},
     "output_type": "execute_result"
    }
   ],
   "source": [
    "test_origin = pd.read_csv('test.ft.txt', sep='\\r', encoding='utf-8', header=None, skiprows=0)\n",
    "test_origin.head()"
   ]
  },
  {
   "cell_type": "code",
   "execution_count": 31,
   "id": "5aab748d",
   "metadata": {
    "scrolled": true
   },
   "outputs": [
    {
     "name": "stdout",
     "output_type": "stream",
     "text": [
      "<class 'pandas.core.frame.DataFrame'>\n",
      "RangeIndex: 3600000 entries, 0 to 3599999\n",
      "Data columns (total 1 columns):\n",
      " #   Column  Dtype \n",
      "---  ------  ----- \n",
      " 0   0       object\n",
      "dtypes: object(1)\n",
      "memory usage: 27.5+ MB\n"
     ]
    }
   ],
   "source": [
    "train = train_origin.copy()\n",
    "train.info() # 3,600,000 : 총 360만개의 데이터"
   ]
  },
  {
   "cell_type": "code",
   "execution_count": 32,
   "id": "6a0c7962",
   "metadata": {},
   "outputs": [
    {
     "name": "stdout",
     "output_type": "stream",
     "text": [
      "<class 'pandas.core.frame.DataFrame'>\n",
      "RangeIndex: 400000 entries, 0 to 399999\n",
      "Data columns (total 1 columns):\n",
      " #   Column  Non-Null Count   Dtype \n",
      "---  ------  --------------   ----- \n",
      " 0   0       400000 non-null  object\n",
      "dtypes: object(1)\n",
      "memory usage: 3.1+ MB\n"
     ]
    }
   ],
   "source": [
    "test = test_origin.copy()\n",
    "test.info() # 400,000 : 총 40만개의 데이터"
   ]
  },
  {
   "cell_type": "markdown",
   "id": "965b7b73",
   "metadata": {},
   "source": [
    "# 데이터 전처리"
   ]
  },
  {
   "cell_type": "markdown",
   "id": "ffb0e860",
   "metadata": {},
   "source": [
    "## 평점-텍스트 분류"
   ]
  },
  {
   "cell_type": "code",
   "execution_count": 33,
   "id": "6a07d2ac",
   "metadata": {},
   "outputs": [
    {
     "data": {
      "text/html": [
       "<div>\n",
       "<style scoped>\n",
       "    .dataframe tbody tr th:only-of-type {\n",
       "        vertical-align: middle;\n",
       "    }\n",
       "\n",
       "    .dataframe tbody tr th {\n",
       "        vertical-align: top;\n",
       "    }\n",
       "\n",
       "    .dataframe thead th {\n",
       "        text-align: right;\n",
       "    }\n",
       "</style>\n",
       "<table border=\"1\" class=\"dataframe\">\n",
       "  <thead>\n",
       "    <tr style=\"text-align: right;\">\n",
       "      <th></th>\n",
       "      <th>label</th>\n",
       "      <th>text</th>\n",
       "    </tr>\n",
       "  </thead>\n",
       "  <tbody>\n",
       "    <tr>\n",
       "      <th>0</th>\n",
       "      <td>2</td>\n",
       "      <td>Stuning even for the non-gamer: This sound tra...</td>\n",
       "    </tr>\n",
       "    <tr>\n",
       "      <th>1</th>\n",
       "      <td>2</td>\n",
       "      <td>The best soundtrack ever to anything.: I'm rea...</td>\n",
       "    </tr>\n",
       "    <tr>\n",
       "      <th>2</th>\n",
       "      <td>2</td>\n",
       "      <td>Amazing!: This soundtrack is my favorite music...</td>\n",
       "    </tr>\n",
       "    <tr>\n",
       "      <th>3</th>\n",
       "      <td>2</td>\n",
       "      <td>Excellent Soundtrack: I truly like this soundt...</td>\n",
       "    </tr>\n",
       "    <tr>\n",
       "      <th>4</th>\n",
       "      <td>2</td>\n",
       "      <td>Remember, Pull Your Jaw Off The Floor After He...</td>\n",
       "    </tr>\n",
       "    <tr>\n",
       "      <th>5</th>\n",
       "      <td>2</td>\n",
       "      <td>an absolute masterpiece: I am quite sure any o...</td>\n",
       "    </tr>\n",
       "    <tr>\n",
       "      <th>6</th>\n",
       "      <td>1</td>\n",
       "      <td>Buyer beware: This is a self-published book, a...</td>\n",
       "    </tr>\n",
       "    <tr>\n",
       "      <th>7</th>\n",
       "      <td>2</td>\n",
       "      <td>Glorious story: I loved Whisper of the wicked ...</td>\n",
       "    </tr>\n",
       "    <tr>\n",
       "      <th>8</th>\n",
       "      <td>2</td>\n",
       "      <td>A FIVE STAR BOOK: I just finished reading Whis...</td>\n",
       "    </tr>\n",
       "    <tr>\n",
       "      <th>9</th>\n",
       "      <td>2</td>\n",
       "      <td>Whispers of the Wicked Saints: This was a easy...</td>\n",
       "    </tr>\n",
       "  </tbody>\n",
       "</table>\n",
       "</div>"
      ],
      "text/plain": [
       "   label                                               text\n",
       "0      2  Stuning even for the non-gamer: This sound tra...\n",
       "1      2  The best soundtrack ever to anything.: I'm rea...\n",
       "2      2  Amazing!: This soundtrack is my favorite music...\n",
       "3      2  Excellent Soundtrack: I truly like this soundt...\n",
       "4      2  Remember, Pull Your Jaw Off The Floor After He...\n",
       "5      2  an absolute masterpiece: I am quite sure any o...\n",
       "6      1  Buyer beware: This is a self-published book, a...\n",
       "7      2  Glorious story: I loved Whisper of the wicked ...\n",
       "8      2  A FIVE STAR BOOK: I just finished reading Whis...\n",
       "9      2  Whispers of the Wicked Saints: This was a easy..."
      ]
     },
     "execution_count": 33,
     "metadata": {},
     "output_type": "execute_result"
    }
   ],
   "source": [
    "pattern = r'^__label__(\\d+)\\s*(.*)$'\n",
    "\n",
    "train[['label', 'text']] = train[0].str.extract(pattern)\n",
    "train['label'] = pd.to_numeric(train['label'])\n",
    "train = train[['label', 'text']]\n",
    "train[:10]"
   ]
  },
  {
   "cell_type": "code",
   "execution_count": 34,
   "id": "ce590cc6",
   "metadata": {
    "scrolled": false
   },
   "outputs": [
    {
     "data": {
      "text/html": [
       "<div>\n",
       "<style scoped>\n",
       "    .dataframe tbody tr th:only-of-type {\n",
       "        vertical-align: middle;\n",
       "    }\n",
       "\n",
       "    .dataframe tbody tr th {\n",
       "        vertical-align: top;\n",
       "    }\n",
       "\n",
       "    .dataframe thead th {\n",
       "        text-align: right;\n",
       "    }\n",
       "</style>\n",
       "<table border=\"1\" class=\"dataframe\">\n",
       "  <thead>\n",
       "    <tr style=\"text-align: right;\">\n",
       "      <th></th>\n",
       "      <th>label</th>\n",
       "      <th>text</th>\n",
       "    </tr>\n",
       "  </thead>\n",
       "  <tbody>\n",
       "    <tr>\n",
       "      <th>0</th>\n",
       "      <td>2</td>\n",
       "      <td>Great CD: My lovely Pat has one of the GREAT v...</td>\n",
       "    </tr>\n",
       "    <tr>\n",
       "      <th>1</th>\n",
       "      <td>2</td>\n",
       "      <td>One of the best game music soundtracks - for a...</td>\n",
       "    </tr>\n",
       "    <tr>\n",
       "      <th>2</th>\n",
       "      <td>1</td>\n",
       "      <td>Batteries died within a year ...: I bought thi...</td>\n",
       "    </tr>\n",
       "    <tr>\n",
       "      <th>3</th>\n",
       "      <td>2</td>\n",
       "      <td>works fine, but Maha Energy is better: Check o...</td>\n",
       "    </tr>\n",
       "    <tr>\n",
       "      <th>4</th>\n",
       "      <td>2</td>\n",
       "      <td>Great for the non-audiophile: Reviewed quite a...</td>\n",
       "    </tr>\n",
       "    <tr>\n",
       "      <th>5</th>\n",
       "      <td>1</td>\n",
       "      <td>DVD Player crapped out after one year: I also ...</td>\n",
       "    </tr>\n",
       "    <tr>\n",
       "      <th>6</th>\n",
       "      <td>1</td>\n",
       "      <td>Incorrect Disc: I love the style of this, but ...</td>\n",
       "    </tr>\n",
       "    <tr>\n",
       "      <th>7</th>\n",
       "      <td>1</td>\n",
       "      <td>DVD menu select problems: I cannot scroll thro...</td>\n",
       "    </tr>\n",
       "    <tr>\n",
       "      <th>8</th>\n",
       "      <td>2</td>\n",
       "      <td>Unique Weird Orientalia from the 1930's: Exoti...</td>\n",
       "    </tr>\n",
       "    <tr>\n",
       "      <th>9</th>\n",
       "      <td>1</td>\n",
       "      <td>Not an \"ultimate guide\": Firstly,I enjoyed the...</td>\n",
       "    </tr>\n",
       "  </tbody>\n",
       "</table>\n",
       "</div>"
      ],
      "text/plain": [
       "   label                                               text\n",
       "0      2  Great CD: My lovely Pat has one of the GREAT v...\n",
       "1      2  One of the best game music soundtracks - for a...\n",
       "2      1  Batteries died within a year ...: I bought thi...\n",
       "3      2  works fine, but Maha Energy is better: Check o...\n",
       "4      2  Great for the non-audiophile: Reviewed quite a...\n",
       "5      1  DVD Player crapped out after one year: I also ...\n",
       "6      1  Incorrect Disc: I love the style of this, but ...\n",
       "7      1  DVD menu select problems: I cannot scroll thro...\n",
       "8      2  Unique Weird Orientalia from the 1930's: Exoti...\n",
       "9      1  Not an \"ultimate guide\": Firstly,I enjoyed the..."
      ]
     },
     "execution_count": 34,
     "metadata": {},
     "output_type": "execute_result"
    }
   ],
   "source": [
    "pattern = r'^__label__(\\d+)\\s*(.*)$'\n",
    "\n",
    "test[['label', 'text']] = test[0].str.extract(pattern)\n",
    "test['label'] = pd.to_numeric(test['label'])\n",
    "test = test[['label', 'text']]\n",
    "test[:10]"
   ]
  },
  {
   "cell_type": "markdown",
   "id": "cd883819",
   "metadata": {},
   "source": [
    "## 긍정-부정 분류"
   ]
  },
  {
   "cell_type": "code",
   "execution_count": 35,
   "id": "cdff196e",
   "metadata": {},
   "outputs": [
    {
     "name": "stdout",
     "output_type": "stream",
     "text": [
      "         label                                               text\n",
      "3599989      2  Amazing CD: Tyler Hitlon's CD is awesome! If y...\n",
      "3599990      2  Buy this CD and you'll thank yourself!: Tyler ...\n",
      "3599991      2  Tyler Rocks: there is only one word to describ...\n",
      "3599992      2  AWESOME: Absolutely amazing so relieving of my...\n",
      "3599999      2  Makes My Blood Run Red-White-And-Blue: I agree...\n",
      "         label                                               text\n",
      "3599994      1  Too simplistic: While Mr. Harrison makes some ...\n",
      "3599995      1  Don't do it!!: The high chair looks great when...\n",
      "3599996      1  Looks nice, low functionality: I have used thi...\n",
      "3599997      1  compact, but hard to clean: We have a small ho...\n",
      "3599998      1  what is it saying?: not sure what this book is...\n"
     ]
    }
   ],
   "source": [
    "train_positive = train[train['label']==2]\n",
    "train_negative = train[train['label']==1]\n",
    "print(train_positive[-5:])\n",
    "print(train_negative[-5:])"
   ]
  },
  {
   "cell_type": "code",
   "execution_count": 36,
   "id": "a52063e2",
   "metadata": {
    "scrolled": true
   },
   "outputs": [
    {
     "name": "stdout",
     "output_type": "stream",
     "text": [
      "        label                                               text\n",
      "399986      2  Extremely Useful for Me and Others: As a teach...\n",
      "399987      2  I like this keyboard a lot!: My keyboard at wo...\n",
      "399990      2  I really love Puff Daddy and R. Kelly's songs....\n",
      "399994      2  Obey the warning: This is a fun toy and my 2 a...\n",
      "399998      2  Classic Jessica Mitford: This is a compilation...\n",
      "        label                                               text\n",
      "399993      1  CRAP: this is not music, no matter what anyone...\n",
      "399995      1  Unbelievable- In a Bad Way: We bought this Tho...\n",
      "399996      1  Almost Great, Until it Broke...: My son reciev...\n",
      "399997      1  Disappointed !!!: I bought this toy for my son...\n",
      "399999      1  Comedy Scene, and Not Heard: This DVD will be ...\n"
     ]
    }
   ],
   "source": [
    "test_positive = test[test['label']==2]\n",
    "test_negative = test[test['label']==1]\n",
    "print(test_positive[-5:])\n",
    "print(test_negative[-5:])"
   ]
  },
  {
   "cell_type": "markdown",
   "id": "a1f12941",
   "metadata": {},
   "source": [
    "## 라벨링 수정 (1,2 -> 0,1)"
   ]
  },
  {
   "cell_type": "code",
   "execution_count": 37,
   "id": "f4eb1749",
   "metadata": {},
   "outputs": [
    {
     "name": "stdout",
     "output_type": "stream",
     "text": [
      "         label                                               text\n",
      "3599989      1  Amazing CD: Tyler Hitlon's CD is awesome! If y...\n",
      "3599990      1  Buy this CD and you'll thank yourself!: Tyler ...\n",
      "3599991      1  Tyler Rocks: there is only one word to describ...\n",
      "3599992      1  AWESOME: Absolutely amazing so relieving of my...\n",
      "3599999      1  Makes My Blood Run Red-White-And-Blue: I agree...\n",
      "         label                                               text\n",
      "3599994      0  Too simplistic: While Mr. Harrison makes some ...\n",
      "3599995      0  Don't do it!!: The high chair looks great when...\n",
      "3599996      0  Looks nice, low functionality: I have used thi...\n",
      "3599997      0  compact, but hard to clean: We have a small ho...\n",
      "3599998      0  what is it saying?: not sure what this book is...\n"
     ]
    },
    {
     "name": "stderr",
     "output_type": "stream",
     "text": [
      "C:\\Users\\user\\AppData\\Local\\Temp\\ipykernel_3528\\1219693976.py:1: SettingWithCopyWarning: \n",
      "A value is trying to be set on a copy of a slice from a DataFrame.\n",
      "Try using .loc[row_indexer,col_indexer] = value instead\n",
      "\n",
      "See the caveats in the documentation: https://pandas.pydata.org/pandas-docs/stable/user_guide/indexing.html#returning-a-view-versus-a-copy\n",
      "  train_positive['label'] = 1\n",
      "C:\\Users\\user\\AppData\\Local\\Temp\\ipykernel_3528\\1219693976.py:2: SettingWithCopyWarning: \n",
      "A value is trying to be set on a copy of a slice from a DataFrame.\n",
      "Try using .loc[row_indexer,col_indexer] = value instead\n",
      "\n",
      "See the caveats in the documentation: https://pandas.pydata.org/pandas-docs/stable/user_guide/indexing.html#returning-a-view-versus-a-copy\n",
      "  train_negative['label'] = 0\n"
     ]
    }
   ],
   "source": [
    "train_positive['label'] = 1\n",
    "train_negative['label'] = 0\n",
    "print(train_positive[-5:])\n",
    "print(train_negative[-5:])"
   ]
  },
  {
   "cell_type": "code",
   "execution_count": 38,
   "id": "e0ee41c7",
   "metadata": {
    "scrolled": true
   },
   "outputs": [
    {
     "name": "stdout",
     "output_type": "stream",
     "text": [
      "        label                                               text\n",
      "399986      1  Extremely Useful for Me and Others: As a teach...\n",
      "399987      1  I like this keyboard a lot!: My keyboard at wo...\n",
      "399990      1  I really love Puff Daddy and R. Kelly's songs....\n",
      "399994      1  Obey the warning: This is a fun toy and my 2 a...\n",
      "399998      1  Classic Jessica Mitford: This is a compilation...\n",
      "        label                                               text\n",
      "399993      0  CRAP: this is not music, no matter what anyone...\n",
      "399995      0  Unbelievable- In a Bad Way: We bought this Tho...\n",
      "399996      0  Almost Great, Until it Broke...: My son reciev...\n",
      "399997      0  Disappointed !!!: I bought this toy for my son...\n",
      "399999      0  Comedy Scene, and Not Heard: This DVD will be ...\n"
     ]
    },
    {
     "name": "stderr",
     "output_type": "stream",
     "text": [
      "C:\\Users\\user\\AppData\\Local\\Temp\\ipykernel_3528\\3434715854.py:1: SettingWithCopyWarning: \n",
      "A value is trying to be set on a copy of a slice from a DataFrame.\n",
      "Try using .loc[row_indexer,col_indexer] = value instead\n",
      "\n",
      "See the caveats in the documentation: https://pandas.pydata.org/pandas-docs/stable/user_guide/indexing.html#returning-a-view-versus-a-copy\n",
      "  test_positive['label'] = 1\n",
      "C:\\Users\\user\\AppData\\Local\\Temp\\ipykernel_3528\\3434715854.py:2: SettingWithCopyWarning: \n",
      "A value is trying to be set on a copy of a slice from a DataFrame.\n",
      "Try using .loc[row_indexer,col_indexer] = value instead\n",
      "\n",
      "See the caveats in the documentation: https://pandas.pydata.org/pandas-docs/stable/user_guide/indexing.html#returning-a-view-versus-a-copy\n",
      "  test_negative['label'] = 0\n"
     ]
    }
   ],
   "source": [
    "test_positive['label'] = 1\n",
    "test_negative['label'] = 0\n",
    "print(test_positive[-5:])\n",
    "print(test_negative[-5:])"
   ]
  },
  {
   "cell_type": "markdown",
   "id": "90e2df9c",
   "metadata": {},
   "source": [
    "## 2.5만개 랜덤 샘플링"
   ]
  },
  {
   "cell_type": "code",
   "execution_count": 39,
   "id": "22c34419",
   "metadata": {
    "scrolled": true
   },
   "outputs": [
    {
     "name": "stdout",
     "output_type": "stream",
     "text": [
      "         label                                               text\n",
      "23770        1  Great relief from pain!: This item is super fa...\n",
      "1732696      1  Great Basics for Home Groomer: This is the bes...\n",
      "2746838      1  GREAT PRODUCT: I had a miss fire code indicati...\n",
      "2021382      1  Christian Wunderlich and Kristin Hall=impeccab...\n",
      "1026195      1  It Is Just Simply Great: This is a great produ...\n",
      "         label                                               text\n",
      "1467622      0  Unwatchable: I recorded this from TV, and trie...\n",
      "2233041      0  Buy a stapler instead: There's a trick with a ...\n",
      "904458       0  not so good: I guess it works,one problem the ...\n",
      "1484738      0  Not High Polish: I returned this item because ...\n",
      "2186239      0  Holes after first wash: The sheets are sub-par...\n"
     ]
    }
   ],
   "source": [
    "# 긍정 훈련 : 비데 10,000 + 오픈 15,000\n",
    "# 부정 훈련 : 비데 1,000 + 오픈 24,000\n",
    "train_pos_random = train_positive.sample(n=15000, random_state=2501)\n",
    "train_neg_random = train_negative.sample(n=24000, random_state=2501)\n",
    "print(train_pos_random[-5:])\n",
    "print(train_neg_random[-5:])"
   ]
  },
  {
   "cell_type": "code",
   "execution_count": 40,
   "id": "cb9f807c",
   "metadata": {
    "scrolled": true
   },
   "outputs": [
    {
     "name": "stdout",
     "output_type": "stream",
     "text": [
      "        label                                               text\n",
      "383349      1  Twista is back: I do have to agree that Twista...\n",
      "328407      1  Steven's 2 cents: I use these gloves for a wat...\n",
      "219482      1  Excellent continuation of the Sonja Blue saga:...\n",
      "275751      1  Tad does it again.: Not much to say here. If y...\n",
      "192895      1  Skid Row Laureate: If you're tired of reading ...\n",
      "        label                                               text\n",
      "149886      0  Maybe I am missing something...: Perhaps I am ...\n",
      "288117      0  Not for everyone: I really wanted to like this...\n",
      "150189      0  Really STICKY cookware: Do not buy! This is th...\n",
      "205816      0  Awful Mount: I have ridden with this for about...\n",
      "305190      0  Avoid at all costs!!!: I have a Tripp Lite Sma...\n"
     ]
    }
   ],
   "source": [
    "# 긍정 테스트 : 비데 11,267 + 오픈 13,733\n",
    "# 부정 테스트 : 비데 1,828 + 오픈 23,172\n",
    "test_pos_random = test_positive.sample(n=13733, random_state=2501)\n",
    "test_neg_random = test_negative.sample(n=23172, random_state=2501)\n",
    "print(test_pos_random[-5:])\n",
    "print(test_neg_random[-5:])"
   ]
  },
  {
   "cell_type": "markdown",
   "id": "2c65356f",
   "metadata": {},
   "source": [
    "## 긍정-부정 병합"
   ]
  },
  {
   "cell_type": "code",
   "execution_count": 41,
   "id": "be02f5b3",
   "metadata": {},
   "outputs": [
    {
     "data": {
      "text/html": [
       "<div>\n",
       "<style scoped>\n",
       "    .dataframe tbody tr th:only-of-type {\n",
       "        vertical-align: middle;\n",
       "    }\n",
       "\n",
       "    .dataframe tbody tr th {\n",
       "        vertical-align: top;\n",
       "    }\n",
       "\n",
       "    .dataframe thead th {\n",
       "        text-align: right;\n",
       "    }\n",
       "</style>\n",
       "<table border=\"1\" class=\"dataframe\">\n",
       "  <thead>\n",
       "    <tr style=\"text-align: right;\">\n",
       "      <th></th>\n",
       "      <th>label</th>\n",
       "      <th>text</th>\n",
       "    </tr>\n",
       "  </thead>\n",
       "  <tbody>\n",
       "    <tr>\n",
       "      <th>7238</th>\n",
       "      <td>1</td>\n",
       "      <td>Awesome Movie: The Cheetah Girls was a great m...</td>\n",
       "    </tr>\n",
       "    <tr>\n",
       "      <th>31289</th>\n",
       "      <td>0</td>\n",
       "      <td>Not what I expect from Dean Koontz: I wish Dea...</td>\n",
       "    </tr>\n",
       "    <tr>\n",
       "      <th>19468</th>\n",
       "      <td>0</td>\n",
       "      <td>Not loud enough for use in a crowd.: This prod...</td>\n",
       "    </tr>\n",
       "    <tr>\n",
       "      <th>28751</th>\n",
       "      <td>0</td>\n",
       "      <td>Not Again: I used to be a huge Hanson fan, so ...</td>\n",
       "    </tr>\n",
       "    <tr>\n",
       "      <th>10841</th>\n",
       "      <td>1</td>\n",
       "      <td>What a Blessing {even as an adult): So, I admi...</td>\n",
       "    </tr>\n",
       "  </tbody>\n",
       "</table>\n",
       "</div>"
      ],
      "text/plain": [
       "       label                                               text\n",
       "7238       1  Awesome Movie: The Cheetah Girls was a great m...\n",
       "31289      0  Not what I expect from Dean Koontz: I wish Dea...\n",
       "19468      0  Not loud enough for use in a crowd.: This prod...\n",
       "28751      0  Not Again: I used to be a huge Hanson fan, so ...\n",
       "10841      1  What a Blessing {even as an adult): So, I admi..."
      ]
     },
     "execution_count": 41,
     "metadata": {},
     "output_type": "execute_result"
    }
   ],
   "source": [
    "# 무작위로 데이터 병합\n",
    "train_random = pd.concat([train_pos_random, train_neg_random], ignore_index=True).sample(frac=1, random_state=2501)\n",
    "train_random.head()"
   ]
  },
  {
   "cell_type": "code",
   "execution_count": 42,
   "id": "a955c1f4",
   "metadata": {
    "scrolled": true
   },
   "outputs": [
    {
     "data": {
      "text/html": [
       "<div>\n",
       "<style scoped>\n",
       "    .dataframe tbody tr th:only-of-type {\n",
       "        vertical-align: middle;\n",
       "    }\n",
       "\n",
       "    .dataframe tbody tr th {\n",
       "        vertical-align: top;\n",
       "    }\n",
       "\n",
       "    .dataframe thead th {\n",
       "        text-align: right;\n",
       "    }\n",
       "</style>\n",
       "<table border=\"1\" class=\"dataframe\">\n",
       "  <thead>\n",
       "    <tr style=\"text-align: right;\">\n",
       "      <th></th>\n",
       "      <th>label</th>\n",
       "      <th>text</th>\n",
       "    </tr>\n",
       "  </thead>\n",
       "  <tbody>\n",
       "    <tr>\n",
       "      <th>10979</th>\n",
       "      <td>1</td>\n",
       "      <td>Scary: Great show, but last season was much mo...</td>\n",
       "    </tr>\n",
       "    <tr>\n",
       "      <th>20643</th>\n",
       "      <td>0</td>\n",
       "      <td>It will break!: The flash flood certainly has ...</td>\n",
       "    </tr>\n",
       "    <tr>\n",
       "      <th>29179</th>\n",
       "      <td>0</td>\n",
       "      <td>Disappointed: I couldn't wait to get these can...</td>\n",
       "    </tr>\n",
       "    <tr>\n",
       "      <th>23958</th>\n",
       "      <td>0</td>\n",
       "      <td>Does not ring true!: Mineko Iwasaki paints her...</td>\n",
       "    </tr>\n",
       "    <tr>\n",
       "      <th>24445</th>\n",
       "      <td>0</td>\n",
       "      <td>ABSOLUTELY HORRIBLE - Don't Buy It: I ordered ...</td>\n",
       "    </tr>\n",
       "  </tbody>\n",
       "</table>\n",
       "</div>"
      ],
      "text/plain": [
       "       label                                               text\n",
       "10979      1  Scary: Great show, but last season was much mo...\n",
       "20643      0  It will break!: The flash flood certainly has ...\n",
       "29179      0  Disappointed: I couldn't wait to get these can...\n",
       "23958      0  Does not ring true!: Mineko Iwasaki paints her...\n",
       "24445      0  ABSOLUTELY HORRIBLE - Don't Buy It: I ordered ..."
      ]
     },
     "execution_count": 42,
     "metadata": {},
     "output_type": "execute_result"
    }
   ],
   "source": [
    "test_random = pd.concat([test_pos_random, test_neg_random], ignore_index=True).sample(frac=1, random_state=2501)\n",
    "test_random.head()"
   ]
  },
  {
   "cell_type": "code",
   "execution_count": 43,
   "id": "af586f63",
   "metadata": {
    "scrolled": true
   },
   "outputs": [
    {
     "data": {
      "text/plain": [
       "0"
      ]
     },
     "execution_count": 43,
     "metadata": {},
     "output_type": "execute_result"
    }
   ],
   "source": [
    "train_random['text'].duplicated().sum()"
   ]
  },
  {
   "cell_type": "code",
   "execution_count": 44,
   "id": "b4ef8a30",
   "metadata": {},
   "outputs": [
    {
     "data": {
      "text/plain": [
       "0"
      ]
     },
     "execution_count": 44,
     "metadata": {},
     "output_type": "execute_result"
    }
   ],
   "source": [
    "test_random['text'].duplicated().sum()"
   ]
  },
  {
   "cell_type": "markdown",
   "id": "f0a6aafe",
   "metadata": {},
   "source": [
    "# 파일 저장"
   ]
  },
  {
   "cell_type": "code",
   "execution_count": 45,
   "id": "9d083b6c",
   "metadata": {},
   "outputs": [],
   "source": [
    "train_random.to_excel('open_train_data.xlsx', index=False)"
   ]
  },
  {
   "cell_type": "code",
   "execution_count": 46,
   "id": "76d7b1ff",
   "metadata": {},
   "outputs": [],
   "source": [
    "test_random.to_excel('open_test_data.xlsx', index=False)"
   ]
  },
  {
   "cell_type": "code",
   "execution_count": null,
   "id": "071ecf50",
   "metadata": {},
   "outputs": [],
   "source": []
  }
 ],
 "metadata": {
  "kernelspec": {
   "display_name": "Python 3 (ipykernel)",
   "language": "python",
   "name": "python3"
  },
  "language_info": {
   "codemirror_mode": {
    "name": "ipython",
    "version": 3
   },
   "file_extension": ".py",
   "mimetype": "text/x-python",
   "name": "python",
   "nbconvert_exporter": "python",
   "pygments_lexer": "ipython3",
   "version": "3.9.13"
  },
  "toc": {
   "base_numbering": 1,
   "nav_menu": {},
   "number_sections": true,
   "sideBar": true,
   "skip_h1_title": false,
   "title_cell": "Table of Contents",
   "title_sidebar": "Contents",
   "toc_cell": false,
   "toc_position": {
    "height": "712px",
    "left": "56px",
    "top": "134px",
    "width": "384px"
   },
   "toc_section_display": true,
   "toc_window_display": true
  }
 },
 "nbformat": 4,
 "nbformat_minor": 5
}
