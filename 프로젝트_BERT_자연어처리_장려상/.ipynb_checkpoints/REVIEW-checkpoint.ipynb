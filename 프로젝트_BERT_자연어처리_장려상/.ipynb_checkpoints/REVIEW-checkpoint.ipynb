{
 "cells": [
  {
   "cell_type": "markdown",
   "id": "2e5f7d1f",
   "metadata": {},
   "source": [
    "# 데이터 로드"
   ]
  },
  {
   "cell_type": "code",
   "execution_count": 2,
   "id": "a3a012e0",
   "metadata": {},
   "outputs": [],
   "source": [
    "import numpy as np\n",
    "import pandas as pd"
   ]
  },
  {
   "cell_type": "code",
   "execution_count": 9,
   "id": "32dd0142",
   "metadata": {
    "scrolled": true
   },
   "outputs": [
    {
     "name": "stdout",
     "output_type": "stream",
     "text": [
      "<class 'pandas.core.frame.DataFrame'>\n",
      "RangeIndex: 8875 entries, 0 to 8874\n",
      "Data columns (total 6 columns):\n",
      " #   Column  Non-Null Count  Dtype \n",
      "---  ------  --------------  ----- \n",
      " 0   회사명     8875 non-null   object\n",
      " 1   제품명     8875 non-null   object\n",
      " 2   작성일     8875 non-null   object\n",
      " 3   별점      8875 non-null   int64 \n",
      " 4   제목      8409 non-null   object\n",
      " 5   본문      8866 non-null   object\n",
      "dtypes: int64(1), object(5)\n",
      "memory usage: 416.1+ KB\n"
     ]
    }
   ],
   "source": [
    "amazon_review_origin = pd.read_excel('amazon_review.xlsx')\n",
    "\n",
    "# 카피본 떠놓고 시작하기\n",
    "amazon_review = amazon_review_origin.copy()\n",
    "amazon_review.info()"
   ]
  },
  {
   "cell_type": "code",
   "execution_count": null,
   "id": "0d8623af",
   "metadata": {},
   "outputs": [],
   "source": []
  },
  {
   "cell_type": "code",
   "execution_count": 4,
   "id": "dbbc3c19",
   "metadata": {},
   "outputs": [
    {
     "name": "stdout",
     "output_type": "stream",
     "text": [
      "<class 'pandas.core.frame.DataFrame'>\n",
      "RangeIndex: 17673 entries, 0 to 17672\n",
      "Data columns (total 6 columns):\n",
      " #   Column  Non-Null Count  Dtype \n",
      "---  ------  --------------  ----- \n",
      " 0   회사명     17673 non-null  object\n",
      " 1   제품명     17673 non-null  object\n",
      " 2   작성일     17673 non-null  object\n",
      " 3   별점      17673 non-null  int64 \n",
      " 4   제목      16809 non-null  object\n",
      " 5   본문      17663 non-null  object\n",
      "dtypes: int64(1), object(5)\n",
      "memory usage: 828.5+ KB\n"
     ]
    }
   ],
   "source": [
    "costco_review_origin = pd.read_excel('costco_review.xlsx')\n",
    "\n",
    "# 카피본 떠놓고 시작하기\n",
    "costco_review = costco_review_origin.copy()\n",
    "costco_review.info()"
   ]
  },
  {
   "cell_type": "code",
   "execution_count": 5,
   "id": "ce727249",
   "metadata": {},
   "outputs": [
    {
     "name": "stdout",
     "output_type": "stream",
     "text": [
      "<class 'pandas.core.frame.DataFrame'>\n",
      "RangeIndex: 2157 entries, 0 to 2156\n",
      "Data columns (total 6 columns):\n",
      " #   Column  Non-Null Count  Dtype         \n",
      "---  ------  --------------  -----         \n",
      " 0   회사명     2157 non-null   object        \n",
      " 1   제품명     2157 non-null   object        \n",
      " 2   작성일     2157 non-null   datetime64[ns]\n",
      " 3   별점      2157 non-null   int64         \n",
      " 4   제목      2052 non-null   object        \n",
      " 5   본문      2055 non-null   object        \n",
      "dtypes: datetime64[ns](1), int64(1), object(4)\n",
      "memory usage: 101.2+ KB\n"
     ]
    }
   ],
   "source": [
    "lowes_review_origin = pd.read_excel('lowes_review.xlsx')\n",
    "\n",
    "# 카피본 떠놓고 시작하기\n",
    "lowes_review = lowes_review_origin.copy()\n",
    "lowes_review.info()"
   ]
  },
  {
   "cell_type": "code",
   "execution_count": 6,
   "id": "5834dfa5",
   "metadata": {},
   "outputs": [
    {
     "name": "stdout",
     "output_type": "stream",
     "text": [
      "<class 'pandas.core.frame.DataFrame'>\n",
      "RangeIndex: 1478 entries, 0 to 1477\n",
      "Data columns (total 6 columns):\n",
      " #   Column  Non-Null Count  Dtype         \n",
      "---  ------  --------------  -----         \n",
      " 0   회사명     1478 non-null   object        \n",
      " 1   제품명     1478 non-null   object        \n",
      " 2   작성일     1478 non-null   datetime64[ns]\n",
      " 3   별점      1478 non-null   int64         \n",
      " 4   제목      1424 non-null   object        \n",
      " 5   본문      1425 non-null   object        \n",
      "dtypes: datetime64[ns](1), int64(1), object(4)\n",
      "memory usage: 69.4+ KB\n"
     ]
    }
   ],
   "source": [
    "homedepot_review_origin = pd.read_excel('hd_review.xlsx')\n",
    "\n",
    "# 카피본 떠놓고 시작하기\n",
    "homedepot_review = homedepot_review_origin.copy()\n",
    "homedepot_review.info()"
   ]
  },
  {
   "cell_type": "code",
   "execution_count": 7,
   "id": "3320f1af",
   "metadata": {},
   "outputs": [
    {
     "name": "stdout",
     "output_type": "stream",
     "text": [
      "<class 'pandas.core.frame.DataFrame'>\n",
      "RangeIndex: 3261 entries, 0 to 3260\n",
      "Data columns (total 6 columns):\n",
      " #   Column  Non-Null Count  Dtype \n",
      "---  ------  --------------  ----- \n",
      " 0   회사명     3261 non-null   object\n",
      " 1   제품명     3261 non-null   object\n",
      " 2   작성일     3261 non-null   object\n",
      " 3   별점      3261 non-null   int64 \n",
      " 4   제목      3257 non-null   object\n",
      " 5   본문      3261 non-null   object\n",
      "dtypes: int64(1), object(5)\n",
      "memory usage: 153.0+ KB\n"
     ]
    }
   ],
   "source": [
    "build_review_origin = pd.read_excel('build.com_review.xlsx')\n",
    "\n",
    "# 카피본 떠놓고 시작하기\n",
    "build_review = build_review_origin.copy()\n",
    "build_review.info()"
   ]
  },
  {
   "cell_type": "code",
   "execution_count": 8,
   "id": "0f12eec5",
   "metadata": {},
   "outputs": [
    {
     "name": "stdout",
     "output_type": "stream",
     "text": [
      "<class 'pandas.core.frame.DataFrame'>\n",
      "RangeIndex: 2401 entries, 0 to 2400\n",
      "Data columns (total 6 columns):\n",
      " #   Column  Non-Null Count  Dtype         \n",
      "---  ------  --------------  -----         \n",
      " 0   회사명     2401 non-null   object        \n",
      " 1   제품명     2401 non-null   object        \n",
      " 2   작성일     2401 non-null   datetime64[ns]\n",
      " 3   별점      2401 non-null   int64         \n",
      " 4   제목      2316 non-null   object        \n",
      " 5   본문      2320 non-null   object        \n",
      "dtypes: datetime64[ns](1), int64(1), object(4)\n",
      "memory usage: 112.7+ KB\n"
     ]
    }
   ],
   "source": [
    "walmart_review_origin = pd.read_excel('walmart_review.xlsx')\n",
    "\n",
    "# 카피본 떠놓고 시작하기\n",
    "walmart_review = walmart_review_origin.copy()\n",
    "walmart_review.info()"
   ]
  },
  {
   "cell_type": "markdown",
   "id": "73e1b318",
   "metadata": {},
   "source": [
    "# 데이터 통합"
   ]
  },
  {
   "cell_type": "code",
   "execution_count": null,
   "id": "e8f25219",
   "metadata": {},
   "outputs": [],
   "source": []
  },
  {
   "cell_type": "code",
   "execution_count": null,
   "id": "f578c12c",
   "metadata": {},
   "outputs": [],
   "source": []
  },
  {
   "cell_type": "code",
   "execution_count": null,
   "id": "f70daa55",
   "metadata": {},
   "outputs": [],
   "source": []
  }
 ],
 "metadata": {
  "kernelspec": {
   "display_name": "Python 3 (ipykernel)",
   "language": "python",
   "name": "python3"
  },
  "language_info": {
   "codemirror_mode": {
    "name": "ipython",
    "version": 3
   },
   "file_extension": ".py",
   "mimetype": "text/x-python",
   "name": "python",
   "nbconvert_exporter": "python",
   "pygments_lexer": "ipython3",
   "version": "3.9.13"
  },
  "toc": {
   "base_numbering": 1,
   "nav_menu": {},
   "number_sections": true,
   "sideBar": true,
   "skip_h1_title": false,
   "title_cell": "Table of Contents",
   "title_sidebar": "Contents",
   "toc_cell": false,
   "toc_position": {
    "height": "calc(100% - 180px)",
    "left": "10px",
    "top": "150px",
    "width": "409.6px"
   },
   "toc_section_display": true,
   "toc_window_display": true
  }
 },
 "nbformat": 4,
 "nbformat_minor": 5
}
