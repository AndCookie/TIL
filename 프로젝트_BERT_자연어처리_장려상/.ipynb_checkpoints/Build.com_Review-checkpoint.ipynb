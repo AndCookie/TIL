{
 "cells": [
  {
   "cell_type": "markdown",
   "id": "60d3e2b6",
   "metadata": {},
   "source": [
    "# 데이터 로드"
   ]
  },
  {
   "cell_type": "code",
   "execution_count": 2,
   "id": "08f8b67a",
   "metadata": {},
   "outputs": [],
   "source": [
    "import numpy as np\n",
    "import pandas as pd"
   ]
  },
  {
   "cell_type": "code",
   "execution_count": 5,
   "id": "8d983120",
   "metadata": {},
   "outputs": [
    {
     "data": {
      "text/html": [
       "<div>\n",
       "<style scoped>\n",
       "    .dataframe tbody tr th:only-of-type {\n",
       "        vertical-align: middle;\n",
       "    }\n",
       "\n",
       "    .dataframe tbody tr th {\n",
       "        vertical-align: top;\n",
       "    }\n",
       "\n",
       "    .dataframe thead th {\n",
       "        text-align: right;\n",
       "    }\n",
       "</style>\n",
       "<table border=\"1\" class=\"dataframe\">\n",
       "  <thead>\n",
       "    <tr style=\"text-align: right;\">\n",
       "      <th></th>\n",
       "      <th>추출 날짜</th>\n",
       "      <th>수집채널</th>\n",
       "      <th>제품명</th>\n",
       "      <th>제품상세URL</th>\n",
       "      <th>작성자</th>\n",
       "      <th>작성일</th>\n",
       "      <th>별점</th>\n",
       "      <th>제목</th>\n",
       "      <th>본문</th>\n",
       "      <th>이미지URL</th>\n",
       "      <th>리뷰URL</th>\n",
       "    </tr>\n",
       "  </thead>\n",
       "  <tbody>\n",
       "    <tr>\n",
       "      <th>0</th>\n",
       "      <td>2022.12.08</td>\n",
       "      <td>Build.com</td>\n",
       "      <td>BioBidet Bliss Round Bidet Toilet Seat with Un...</td>\n",
       "      <td>https://www.build.com/biobidet-bb-2000r/s17776...</td>\n",
       "      <td>KKTX</td>\n",
       "      <td>2015.01.09</td>\n",
       "      <td>5</td>\n",
       "      <td>Better then Toto</td>\n",
       "      <td>Had toto for a long time. The problem is the c...</td>\n",
       "      <td>NaN</td>\n",
       "      <td>NaN</td>\n",
       "    </tr>\n",
       "    <tr>\n",
       "      <th>1</th>\n",
       "      <td>2022.12.08</td>\n",
       "      <td>Build.com</td>\n",
       "      <td>BioBidet Bliss Round Bidet Toilet Seat with Un...</td>\n",
       "      <td>https://www.build.com/biobidet-bb-2000r/s17776...</td>\n",
       "      <td>Germans in the Desert</td>\n",
       "      <td>2015.01.09</td>\n",
       "      <td>5</td>\n",
       "      <td>We should have bought one years ago!</td>\n",
       "      <td>We bought the bioBidet 2000 for two reasons: i...</td>\n",
       "      <td>NaN</td>\n",
       "      <td>NaN</td>\n",
       "    </tr>\n",
       "    <tr>\n",
       "      <th>2</th>\n",
       "      <td>2022.12.08</td>\n",
       "      <td>Build.com</td>\n",
       "      <td>BioBidet Bliss Round Bidet Toilet Seat with Un...</td>\n",
       "      <td>https://www.build.com/biobidet-bb-2000r/s17776...</td>\n",
       "      <td>RCC5</td>\n",
       "      <td>2015.04.04</td>\n",
       "      <td>4</td>\n",
       "      <td>A must have.</td>\n",
       "      <td>Owned a model BB1000 since feb 2013 and loved ...</td>\n",
       "      <td>NaN</td>\n",
       "      <td>NaN</td>\n",
       "    </tr>\n",
       "    <tr>\n",
       "      <th>3</th>\n",
       "      <td>2022.12.08</td>\n",
       "      <td>Build.com</td>\n",
       "      <td>BioBidet Bliss Round Bidet Toilet Seat with Un...</td>\n",
       "      <td>https://www.build.com/biobidet-bb-2000r/s17776...</td>\n",
       "      <td>sfjoe</td>\n",
       "      <td>2015.04.08</td>\n",
       "      <td>5</td>\n",
       "      <td>Everyone should have one!</td>\n",
       "      <td>We've had ours installed for about a year now....</td>\n",
       "      <td>NaN</td>\n",
       "      <td>NaN</td>\n",
       "    </tr>\n",
       "    <tr>\n",
       "      <th>4</th>\n",
       "      <td>2022.12.08</td>\n",
       "      <td>Build.com</td>\n",
       "      <td>BioBidet Bliss Round Bidet Toilet Seat with Un...</td>\n",
       "      <td>https://www.build.com/biobidet-bb-2000r/s17776...</td>\n",
       "      <td>Xina</td>\n",
       "      <td>2015.04.09</td>\n",
       "      <td>5</td>\n",
       "      <td>Excellent product</td>\n",
       "      <td>I am a residential architect specializing in a...</td>\n",
       "      <td>NaN</td>\n",
       "      <td>NaN</td>\n",
       "    </tr>\n",
       "  </tbody>\n",
       "</table>\n",
       "</div>"
      ],
      "text/plain": [
       "        추출 날짜       수집채널                                                제품명  \\\n",
       "0  2022.12.08  Build.com  BioBidet Bliss Round Bidet Toilet Seat with Un...   \n",
       "1  2022.12.08  Build.com  BioBidet Bliss Round Bidet Toilet Seat with Un...   \n",
       "2  2022.12.08  Build.com  BioBidet Bliss Round Bidet Toilet Seat with Un...   \n",
       "3  2022.12.08  Build.com  BioBidet Bliss Round Bidet Toilet Seat with Un...   \n",
       "4  2022.12.08  Build.com  BioBidet Bliss Round Bidet Toilet Seat with Un...   \n",
       "\n",
       "                                             제품상세URL                    작성자  \\\n",
       "0  https://www.build.com/biobidet-bb-2000r/s17776...                   KKTX   \n",
       "1  https://www.build.com/biobidet-bb-2000r/s17776...  Germans in the Desert   \n",
       "2  https://www.build.com/biobidet-bb-2000r/s17776...                   RCC5   \n",
       "3  https://www.build.com/biobidet-bb-2000r/s17776...                  sfjoe   \n",
       "4  https://www.build.com/biobidet-bb-2000r/s17776...                   Xina   \n",
       "\n",
       "          작성일  별점                                        제목  \\\n",
       "0  2015.01.09   5                         Better then Toto    \n",
       "1  2015.01.09   5     We should have bought one years ago!    \n",
       "2  2015.04.04   4                             A must have.    \n",
       "3  2015.04.08   5                Everyone should have one!    \n",
       "4  2015.04.09   5                        Excellent product    \n",
       "\n",
       "                                                  본문 이미지URL  리뷰URL  \n",
       "0  Had toto for a long time. The problem is the c...    NaN    NaN  \n",
       "1  We bought the bioBidet 2000 for two reasons: i...    NaN    NaN  \n",
       "2  Owned a model BB1000 since feb 2013 and loved ...    NaN    NaN  \n",
       "3  We've had ours installed for about a year now....    NaN    NaN  \n",
       "4  I am a residential architect specializing in a...    NaN    NaN  "
      ]
     },
     "execution_count": 5,
     "metadata": {},
     "output_type": "execute_result"
    }
   ],
   "source": [
    "Build_com_Review_origin = pd.read_excel('Sample_Build.com_Review_221208.xlsx')\n",
    "Build_com_Review_origin.shape # (3261,11)\n",
    "Build_com_Review_origin.head()"
   ]
  },
  {
   "cell_type": "code",
   "execution_count": 6,
   "id": "07c99a71",
   "metadata": {
    "scrolled": true
   },
   "outputs": [
    {
     "name": "stdout",
     "output_type": "stream",
     "text": [
      "<class 'pandas.core.frame.DataFrame'>\n",
      "RangeIndex: 3261 entries, 0 to 3260\n",
      "Data columns (total 11 columns):\n",
      " #   Column   Non-Null Count  Dtype  \n",
      "---  ------   --------------  -----  \n",
      " 0   추출 날짜    3261 non-null   object \n",
      " 1   수집채널     3261 non-null   object \n",
      " 2   제품명      3261 non-null   object \n",
      " 3   제품상세URL  3261 non-null   object \n",
      " 4   작성자      3261 non-null   object \n",
      " 5   작성일      3261 non-null   object \n",
      " 6   별점       3261 non-null   int64  \n",
      " 7   제목       3257 non-null   object \n",
      " 8   본문       3261 non-null   object \n",
      " 9   이미지URL   197 non-null    object \n",
      " 10  리뷰URL    0 non-null      float64\n",
      "dtypes: float64(1), int64(1), object(9)\n",
      "memory usage: 280.4+ KB\n"
     ]
    }
   ],
   "source": [
    "# 카피본 떠놓고 시작하기\n",
    "bc_review = Build_com_Review_origin.copy()\n",
    "bc_review.info()"
   ]
  },
  {
   "cell_type": "markdown",
   "id": "63827f44",
   "metadata": {},
   "source": [
    "# 데이터 전처리"
   ]
  },
  {
   "cell_type": "markdown",
   "id": "43caf58b",
   "metadata": {},
   "source": [
    "## 컬럼 삭제"
   ]
  },
  {
   "cell_type": "code",
   "execution_count": 7,
   "id": "4bb2e35d",
   "metadata": {},
   "outputs": [
    {
     "data": {
      "text/plain": [
       "Index(['제품명', '제품상세URL', '작성일', '별점', '제목', '본문'], dtype='object')"
      ]
     },
     "execution_count": 7,
     "metadata": {},
     "output_type": "execute_result"
    }
   ],
   "source": [
    "bc_review = bc_review.drop(['추출 날짜', '수집채널', '작성자' ,'이미지URL' ,'리뷰URL'], axis=1)\n",
    "\n",
    "bc_review.columns"
   ]
  },
  {
   "cell_type": "markdown",
   "id": "20626c23",
   "metadata": {},
   "source": [
    "## NA 확인"
   ]
  },
  {
   "cell_type": "code",
   "execution_count": 8,
   "id": "a1680bc0",
   "metadata": {
    "scrolled": true
   },
   "outputs": [
    {
     "data": {
      "text/plain": [
       "제품명        0\n",
       "제품상세URL    0\n",
       "작성일        0\n",
       "별점         0\n",
       "제목         4\n",
       "본문         0\n",
       "dtype: int64"
      ]
     },
     "execution_count": 8,
     "metadata": {},
     "output_type": "execute_result"
    }
   ],
   "source": [
    "np.sum(bc_review.isna())"
   ]
  },
  {
   "cell_type": "code",
   "execution_count": 9,
   "id": "f7e7f4a0",
   "metadata": {
    "scrolled": true
   },
   "outputs": [
    {
     "data": {
      "text/html": [
       "<div>\n",
       "<style scoped>\n",
       "    .dataframe tbody tr th:only-of-type {\n",
       "        vertical-align: middle;\n",
       "    }\n",
       "\n",
       "    .dataframe tbody tr th {\n",
       "        vertical-align: top;\n",
       "    }\n",
       "\n",
       "    .dataframe thead th {\n",
       "        text-align: right;\n",
       "    }\n",
       "</style>\n",
       "<table border=\"1\" class=\"dataframe\">\n",
       "  <thead>\n",
       "    <tr style=\"text-align: right;\">\n",
       "      <th></th>\n",
       "      <th>제품명</th>\n",
       "      <th>제품상세URL</th>\n",
       "      <th>작성일</th>\n",
       "      <th>별점</th>\n",
       "      <th>제목</th>\n",
       "      <th>본문</th>\n",
       "    </tr>\n",
       "  </thead>\n",
       "  <tbody>\n",
       "    <tr>\n",
       "      <th>3082</th>\n",
       "      <td>American Standard Advanced Clean 2.0 SpaLet™ E...</td>\n",
       "      <td>https://www.build.com/american-standard-8012a8...</td>\n",
       "      <td>2017.10.18</td>\n",
       "      <td>5</td>\n",
       "      <td>NaN</td>\n",
       "      <td>[This review was collected as part of a promot...</td>\n",
       "    </tr>\n",
       "    <tr>\n",
       "      <th>3115</th>\n",
       "      <td>American Standard Advanced Clean 1.0 SpaLet™ E...</td>\n",
       "      <td>https://www.build.com/american-standard-8013a8...</td>\n",
       "      <td>2019.05.08</td>\n",
       "      <td>4</td>\n",
       "      <td>NaN</td>\n",
       "      <td>Installed recently. Very pleased with function...</td>\n",
       "    </tr>\n",
       "    <tr>\n",
       "      <th>3226</th>\n",
       "      <td>American Standard AquaWash 2.0 SpaLet Elongate...</td>\n",
       "      <td>https://www.build.com/american-standard-8019a6...</td>\n",
       "      <td>2019.08.08</td>\n",
       "      <td>5</td>\n",
       "      <td>NaN</td>\n",
       "      <td>[This review was collected as part of a promot...</td>\n",
       "    </tr>\n",
       "    <tr>\n",
       "      <th>3227</th>\n",
       "      <td>American Standard AquaWash 2.0 SpaLet Elongate...</td>\n",
       "      <td>https://www.build.com/american-standard-8019a6...</td>\n",
       "      <td>2019.08.08</td>\n",
       "      <td>5</td>\n",
       "      <td>NaN</td>\n",
       "      <td>[This review was collected as part of a promot...</td>\n",
       "    </tr>\n",
       "  </tbody>\n",
       "</table>\n",
       "</div>"
      ],
      "text/plain": [
       "                                                    제품명  \\\n",
       "3082  American Standard Advanced Clean 2.0 SpaLet™ E...   \n",
       "3115  American Standard Advanced Clean 1.0 SpaLet™ E...   \n",
       "3226  American Standard AquaWash 2.0 SpaLet Elongate...   \n",
       "3227  American Standard AquaWash 2.0 SpaLet Elongate...   \n",
       "\n",
       "                                                제품상세URL         작성일  별점   제목  \\\n",
       "3082  https://www.build.com/american-standard-8012a8...  2017.10.18   5  NaN   \n",
       "3115  https://www.build.com/american-standard-8013a8...  2019.05.08   4  NaN   \n",
       "3226  https://www.build.com/american-standard-8019a6...  2019.08.08   5  NaN   \n",
       "3227  https://www.build.com/american-standard-8019a6...  2019.08.08   5  NaN   \n",
       "\n",
       "                                                     본문  \n",
       "3082  [This review was collected as part of a promot...  \n",
       "3115  Installed recently. Very pleased with function...  \n",
       "3226  [This review was collected as part of a promot...  \n",
       "3227  [This review was collected as part of a promot...  "
      ]
     },
     "execution_count": 9,
     "metadata": {},
     "output_type": "execute_result"
    }
   ],
   "source": [
    "bc_review[bc_review['제목'].isna()]"
   ]
  },
  {
   "cell_type": "markdown",
   "id": "6e98f19e",
   "metadata": {},
   "source": [
    "## 중복 확인"
   ]
  },
  {
   "cell_type": "code",
   "execution_count": 11,
   "id": "ba3100cc",
   "metadata": {},
   "outputs": [
    {
     "data": {
      "text/plain": [
       "0"
      ]
     },
     "execution_count": 11,
     "metadata": {},
     "output_type": "execute_result"
    }
   ],
   "source": [
    "bc_review.duplicated().sum()"
   ]
  },
  {
   "cell_type": "markdown",
   "id": "dcd5ad88",
   "metadata": {},
   "source": [
    "## 데이터 타입 변환"
   ]
  },
  {
   "cell_type": "code",
   "execution_count": 12,
   "id": "73cfc2c7",
   "metadata": {},
   "outputs": [],
   "source": [
    "bc_review['작성일']=pd.to_datetime(bc_review['작성일'])"
   ]
  },
  {
   "cell_type": "code",
   "execution_count": 13,
   "id": "59737e40",
   "metadata": {
    "scrolled": true
   },
   "outputs": [
    {
     "name": "stdout",
     "output_type": "stream",
     "text": [
      "<class 'pandas.core.frame.DataFrame'>\n",
      "RangeIndex: 3261 entries, 0 to 3260\n",
      "Data columns (total 6 columns):\n",
      " #   Column   Non-Null Count  Dtype         \n",
      "---  ------   --------------  -----         \n",
      " 0   제품명      3261 non-null   object        \n",
      " 1   제품상세URL  3261 non-null   object        \n",
      " 2   작성일      3261 non-null   datetime64[ns]\n",
      " 3   별점       3261 non-null   int64         \n",
      " 4   제목       3257 non-null   object        \n",
      " 5   본문       3261 non-null   object        \n",
      "dtypes: datetime64[ns](1), int64(1), object(4)\n",
      "memory usage: 153.0+ KB\n"
     ]
    }
   ],
   "source": [
    "bc_review.info()"
   ]
  },
  {
   "cell_type": "markdown",
   "id": "612b82f3",
   "metadata": {},
   "source": [
    "## 회사명 추출"
   ]
  },
  {
   "cell_type": "code",
   "execution_count": 14,
   "id": "7b39ca70",
   "metadata": {},
   "outputs": [
    {
     "data": {
      "text/plain": [
       "0       https://www.build.com/biobidet-bb-2000r/s17776...\n",
       "1       https://www.build.com/biobidet-bb-2000r/s17776...\n",
       "2       https://www.build.com/biobidet-bb-2000r/s17776...\n",
       "3       https://www.build.com/biobidet-bb-2000r/s17776...\n",
       "4       https://www.build.com/biobidet-bb-2000r/s17776...\n",
       "                              ...                        \n",
       "3256    https://www.build.com/toto-sw3046at40/s1580080...\n",
       "3257    https://www.build.com/toto-sw3046at40/s1580080...\n",
       "3258    https://www.build.com/toto-sw3046at40/s1580080...\n",
       "3259    https://www.build.com/toto-sw3046at40/s1580080...\n",
       "3260    https://www.build.com/toto-sw3046at40/s1580080...\n",
       "Name: 제품상세URL, Length: 3261, dtype: object"
      ]
     },
     "execution_count": 14,
     "metadata": {},
     "output_type": "execute_result"
    }
   ],
   "source": [
    "bc_review['제품상세URL']"
   ]
  },
  {
   "cell_type": "code",
   "execution_count": 17,
   "id": "bed7fe55",
   "metadata": {},
   "outputs": [
    {
     "data": {
      "text/plain": [
       "3261"
      ]
     },
     "execution_count": 17,
     "metadata": {},
     "output_type": "execute_result"
    }
   ],
   "source": [
    "bc_review['제품상세URL'].str.contains('toto|brondell|alpha-bidet|biobidet|kohler|american-standard', case=False).sum()"
   ]
  },
  {
   "cell_type": "code",
   "execution_count": 19,
   "id": "68d5eb28",
   "metadata": {
    "scrolled": true
   },
   "outputs": [
    {
     "name": "stdout",
     "output_type": "stream",
     "text": [
      "{'brondell', 'kohler', 'biobidet', 'toto', 'american'}\n"
     ]
    }
   ],
   "source": [
    "company_list=[]\n",
    "\n",
    "for url in bc_review['제품상세URL']:\n",
    "    company_list.append(url.lower().split('.com/')[1].split('-')[0])\n",
    "print(set(company_list))"
   ]
  },
  {
   "cell_type": "code",
   "execution_count": 20,
   "id": "e23232a9",
   "metadata": {
    "scrolled": true
   },
   "outputs": [
    {
     "data": {
      "text/plain": [
       "0       biobidet\n",
       "1       biobidet\n",
       "2       biobidet\n",
       "3       biobidet\n",
       "4       biobidet\n",
       "          ...   \n",
       "3256        toto\n",
       "3257        toto\n",
       "3258        toto\n",
       "3259        toto\n",
       "3260        toto\n",
       "Name: 회사명, Length: 3261, dtype: object"
      ]
     },
     "execution_count": 20,
     "metadata": {},
     "output_type": "execute_result"
    }
   ],
   "source": [
    "bc_review['회사명'] = company_list\n",
    "bc_review['회사명']"
   ]
  },
  {
   "cell_type": "code",
   "execution_count": 22,
   "id": "eb8bebb8",
   "metadata": {
    "scrolled": true
   },
   "outputs": [
    {
     "data": {
      "text/html": [
       "<div>\n",
       "<style scoped>\n",
       "    .dataframe tbody tr th:only-of-type {\n",
       "        vertical-align: middle;\n",
       "    }\n",
       "\n",
       "    .dataframe tbody tr th {\n",
       "        vertical-align: top;\n",
       "    }\n",
       "\n",
       "    .dataframe thead th {\n",
       "        text-align: right;\n",
       "    }\n",
       "</style>\n",
       "<table border=\"1\" class=\"dataframe\">\n",
       "  <thead>\n",
       "    <tr style=\"text-align: right;\">\n",
       "      <th></th>\n",
       "      <th>회사명</th>\n",
       "      <th>제품명</th>\n",
       "      <th>작성일</th>\n",
       "      <th>별점</th>\n",
       "      <th>제목</th>\n",
       "      <th>본문</th>\n",
       "    </tr>\n",
       "  </thead>\n",
       "  <tbody>\n",
       "    <tr>\n",
       "      <th>0</th>\n",
       "      <td>biobidet</td>\n",
       "      <td>BioBidet Bliss Round Bidet Toilet Seat with Un...</td>\n",
       "      <td>2015-01-09</td>\n",
       "      <td>5</td>\n",
       "      <td>Better then Toto</td>\n",
       "      <td>Had toto for a long time. The problem is the c...</td>\n",
       "    </tr>\n",
       "    <tr>\n",
       "      <th>1</th>\n",
       "      <td>biobidet</td>\n",
       "      <td>BioBidet Bliss Round Bidet Toilet Seat with Un...</td>\n",
       "      <td>2015-01-09</td>\n",
       "      <td>5</td>\n",
       "      <td>We should have bought one years ago!</td>\n",
       "      <td>We bought the bioBidet 2000 for two reasons: i...</td>\n",
       "    </tr>\n",
       "    <tr>\n",
       "      <th>2</th>\n",
       "      <td>biobidet</td>\n",
       "      <td>BioBidet Bliss Round Bidet Toilet Seat with Un...</td>\n",
       "      <td>2015-04-04</td>\n",
       "      <td>4</td>\n",
       "      <td>A must have.</td>\n",
       "      <td>Owned a model BB1000 since feb 2013 and loved ...</td>\n",
       "    </tr>\n",
       "    <tr>\n",
       "      <th>3</th>\n",
       "      <td>biobidet</td>\n",
       "      <td>BioBidet Bliss Round Bidet Toilet Seat with Un...</td>\n",
       "      <td>2015-04-08</td>\n",
       "      <td>5</td>\n",
       "      <td>Everyone should have one!</td>\n",
       "      <td>We've had ours installed for about a year now....</td>\n",
       "    </tr>\n",
       "    <tr>\n",
       "      <th>4</th>\n",
       "      <td>biobidet</td>\n",
       "      <td>BioBidet Bliss Round Bidet Toilet Seat with Un...</td>\n",
       "      <td>2015-04-09</td>\n",
       "      <td>5</td>\n",
       "      <td>Excellent product</td>\n",
       "      <td>I am a residential architect specializing in a...</td>\n",
       "    </tr>\n",
       "  </tbody>\n",
       "</table>\n",
       "</div>"
      ],
      "text/plain": [
       "        회사명                                                제품명        작성일  별점  \\\n",
       "0  biobidet  BioBidet Bliss Round Bidet Toilet Seat with Un... 2015-01-09   5   \n",
       "1  biobidet  BioBidet Bliss Round Bidet Toilet Seat with Un... 2015-01-09   5   \n",
       "2  biobidet  BioBidet Bliss Round Bidet Toilet Seat with Un... 2015-04-04   4   \n",
       "3  biobidet  BioBidet Bliss Round Bidet Toilet Seat with Un... 2015-04-08   5   \n",
       "4  biobidet  BioBidet Bliss Round Bidet Toilet Seat with Un... 2015-04-09   5   \n",
       "\n",
       "                                         제목  \\\n",
       "0                         Better then Toto    \n",
       "1     We should have bought one years ago!    \n",
       "2                             A must have.    \n",
       "3                Everyone should have one!    \n",
       "4                        Excellent product    \n",
       "\n",
       "                                                  본문  \n",
       "0  Had toto for a long time. The problem is the c...  \n",
       "1  We bought the bioBidet 2000 for two reasons: i...  \n",
       "2  Owned a model BB1000 since feb 2013 and loved ...  \n",
       "3  We've had ours installed for about a year now....  \n",
       "4  I am a residential architect specializing in a...  "
      ]
     },
     "execution_count": 22,
     "metadata": {},
     "output_type": "execute_result"
    }
   ],
   "source": [
    "bc_review = bc_review[['회사명', '제품명', '작성일', '별점', '제목', '본문']]\n",
    "bc_review.head()"
   ]
  },
  {
   "cell_type": "code",
   "execution_count": 23,
   "id": "d60564d6",
   "metadata": {
    "scrolled": true
   },
   "outputs": [
    {
     "data": {
      "text/plain": [
       "array(['biobidet', 'kohler', 'toto', 'brondell', 'american'], dtype=object)"
      ]
     },
     "execution_count": 23,
     "metadata": {},
     "output_type": "execute_result"
    }
   ],
   "source": [
    "bc_review['회사명'].unique()"
   ]
  },
  {
   "cell_type": "code",
   "execution_count": 24,
   "id": "f1284f03",
   "metadata": {},
   "outputs": [
    {
     "name": "stderr",
     "output_type": "stream",
     "text": [
      "C:\\Users\\user\\AppData\\Local\\Temp\\ipykernel_13628\\2522307950.py:1: SettingWithCopyWarning: \n",
      "A value is trying to be set on a copy of a slice from a DataFrame.\n",
      "Try using .loc[row_indexer,col_indexer] = value instead\n",
      "\n",
      "See the caveats in the documentation: https://pandas.pydata.org/pandas-docs/stable/user_guide/indexing.html#returning-a-view-versus-a-copy\n",
      "  bc_review['회사명'] = bc_review['회사명'].str.replace('american', 'a_s')\n"
     ]
    },
    {
     "data": {
      "text/plain": [
       "array(['biobidet', 'kohler', 'toto', 'brondell', 'a_s'], dtype=object)"
      ]
     },
     "execution_count": 24,
     "metadata": {},
     "output_type": "execute_result"
    }
   ],
   "source": [
    "bc_review['회사명'] = bc_review['회사명'].str.replace('american', 'a_s')\n",
    "bc_review['회사명'].unique()"
   ]
  },
  {
   "cell_type": "code",
   "execution_count": null,
   "id": "31d799e8",
   "metadata": {},
   "outputs": [],
   "source": []
  }
 ],
 "metadata": {
  "kernelspec": {
   "display_name": "Python 3 (ipykernel)",
   "language": "python",
   "name": "python3"
  },
  "language_info": {
   "codemirror_mode": {
    "name": "ipython",
    "version": 3
   },
   "file_extension": ".py",
   "mimetype": "text/x-python",
   "name": "python",
   "nbconvert_exporter": "python",
   "pygments_lexer": "ipython3",
   "version": "3.9.13"
  },
  "toc": {
   "base_numbering": 1,
   "nav_menu": {},
   "number_sections": true,
   "sideBar": true,
   "skip_h1_title": false,
   "title_cell": "Table of Contents",
   "title_sidebar": "Contents",
   "toc_cell": false,
   "toc_position": {
    "height": "calc(100% - 180px)",
    "left": "10px",
    "top": "150px",
    "width": "341.319px"
   },
   "toc_section_display": true,
   "toc_window_display": true
  }
 },
 "nbformat": 4,
 "nbformat_minor": 5
}
