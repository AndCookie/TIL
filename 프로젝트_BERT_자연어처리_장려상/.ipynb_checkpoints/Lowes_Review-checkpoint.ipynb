{
 "cells": [
  {
   "cell_type": "markdown",
   "id": "448ac8b6",
   "metadata": {},
   "source": [
    "# 데이터 로드"
   ]
  },
  {
   "cell_type": "code",
   "execution_count": 1,
   "id": "276eb220",
   "metadata": {},
   "outputs": [],
   "source": [
    "import numpy as np\n",
    "import pandas as pd"
   ]
  },
  {
   "cell_type": "code",
   "execution_count": 3,
   "id": "14b4bb14",
   "metadata": {},
   "outputs": [
    {
     "data": {
      "text/html": [
       "<div>\n",
       "<style scoped>\n",
       "    .dataframe tbody tr th:only-of-type {\n",
       "        vertical-align: middle;\n",
       "    }\n",
       "\n",
       "    .dataframe tbody tr th {\n",
       "        vertical-align: top;\n",
       "    }\n",
       "\n",
       "    .dataframe thead th {\n",
       "        text-align: right;\n",
       "    }\n",
       "</style>\n",
       "<table border=\"1\" class=\"dataframe\">\n",
       "  <thead>\n",
       "    <tr style=\"text-align: right;\">\n",
       "      <th></th>\n",
       "      <th>추출 날짜</th>\n",
       "      <th>수집채널</th>\n",
       "      <th>제품명</th>\n",
       "      <th>제품상세URL</th>\n",
       "      <th>작성자</th>\n",
       "      <th>작성일</th>\n",
       "      <th>별점</th>\n",
       "      <th>제목</th>\n",
       "      <th>본문</th>\n",
       "      <th>이미지URL</th>\n",
       "      <th>리뷰URL</th>\n",
       "    </tr>\n",
       "  </thead>\n",
       "  <tbody>\n",
       "    <tr>\n",
       "      <th>0</th>\n",
       "      <td>2022.12.09</td>\n",
       "      <td>Lowes</td>\n",
       "      <td>Bio Bidet  A8 White Elongated Slow-Close Heate...</td>\n",
       "      <td>https://www.lowes.com/pd/Bio-Bidet-Plastic-Elo...</td>\n",
       "      <td>Runmin</td>\n",
       "      <td>2021.10.20</td>\n",
       "      <td>5</td>\n",
       "      <td>NaN</td>\n",
       "      <td>NaN</td>\n",
       "      <td>NaN</td>\n",
       "      <td>NaN</td>\n",
       "    </tr>\n",
       "    <tr>\n",
       "      <th>1</th>\n",
       "      <td>2022.12.09</td>\n",
       "      <td>Lowes</td>\n",
       "      <td>Bio Bidet  A8 White Elongated Slow-Close Heate...</td>\n",
       "      <td>https://www.lowes.com/pd/Bio-Bidet-Plastic-Elo...</td>\n",
       "      <td>Ericly</td>\n",
       "      <td>2019.12.28</td>\n",
       "      <td>5</td>\n",
       "      <td>NaN</td>\n",
       "      <td>NaN</td>\n",
       "      <td>NaN</td>\n",
       "      <td>NaN</td>\n",
       "    </tr>\n",
       "    <tr>\n",
       "      <th>2</th>\n",
       "      <td>2022.12.09</td>\n",
       "      <td>Lowes</td>\n",
       "      <td>Bio Bidet  A8 White Elongated Slow-Close Heate...</td>\n",
       "      <td>https://www.lowes.com/pd/Bio-Bidet-Plastic-Elo...</td>\n",
       "      <td>David5511</td>\n",
       "      <td>2021.01.29</td>\n",
       "      <td>4</td>\n",
       "      <td>NaN</td>\n",
       "      <td>NaN</td>\n",
       "      <td>NaN</td>\n",
       "      <td>NaN</td>\n",
       "    </tr>\n",
       "    <tr>\n",
       "      <th>3</th>\n",
       "      <td>2022.12.09</td>\n",
       "      <td>Lowes</td>\n",
       "      <td>Bio Bidet  A8 White Elongated Slow-Close Heate...</td>\n",
       "      <td>https://www.lowes.com/pd/Bio-Bidet-Plastic-Elo...</td>\n",
       "      <td>BigJohn99</td>\n",
       "      <td>2016.12.01</td>\n",
       "      <td>5</td>\n",
       "      <td>AMAZING</td>\n",
       "      <td>I couldn't be happier!!! A must for anyone to ...</td>\n",
       "      <td>NaN</td>\n",
       "      <td>NaN</td>\n",
       "    </tr>\n",
       "    <tr>\n",
       "      <th>4</th>\n",
       "      <td>2022.12.09</td>\n",
       "      <td>Lowes</td>\n",
       "      <td>Bio Bidet  A8 White Elongated Slow-Close Heate...</td>\n",
       "      <td>https://www.lowes.com/pd/Bio-Bidet-Plastic-Elo...</td>\n",
       "      <td>plw1</td>\n",
       "      <td>2016.11.06</td>\n",
       "      <td>5</td>\n",
       "      <td>Good Product!</td>\n",
       "      <td>It takes just minutes to install. Great featur...</td>\n",
       "      <td>NaN</td>\n",
       "      <td>NaN</td>\n",
       "    </tr>\n",
       "  </tbody>\n",
       "</table>\n",
       "</div>"
      ],
      "text/plain": [
       "        추출 날짜   수집채널                                                제품명  \\\n",
       "0  2022.12.09  Lowes  Bio Bidet  A8 White Elongated Slow-Close Heate...   \n",
       "1  2022.12.09  Lowes  Bio Bidet  A8 White Elongated Slow-Close Heate...   \n",
       "2  2022.12.09  Lowes  Bio Bidet  A8 White Elongated Slow-Close Heate...   \n",
       "3  2022.12.09  Lowes  Bio Bidet  A8 White Elongated Slow-Close Heate...   \n",
       "4  2022.12.09  Lowes  Bio Bidet  A8 White Elongated Slow-Close Heate...   \n",
       "\n",
       "                                             제품상세URL        작성자         작성일  \\\n",
       "0  https://www.lowes.com/pd/Bio-Bidet-Plastic-Elo...     Runmin  2021.10.20   \n",
       "1  https://www.lowes.com/pd/Bio-Bidet-Plastic-Elo...     Ericly  2019.12.28   \n",
       "2  https://www.lowes.com/pd/Bio-Bidet-Plastic-Elo...  David5511  2021.01.29   \n",
       "3  https://www.lowes.com/pd/Bio-Bidet-Plastic-Elo...  BigJohn99  2016.12.01   \n",
       "4  https://www.lowes.com/pd/Bio-Bidet-Plastic-Elo...       plw1  2016.11.06   \n",
       "\n",
       "   별점             제목                                                 본문  \\\n",
       "0   5            NaN                                                NaN   \n",
       "1   5            NaN                                                NaN   \n",
       "2   4            NaN                                                NaN   \n",
       "3   5        AMAZING  I couldn't be happier!!! A must for anyone to ...   \n",
       "4   5  Good Product!  It takes just minutes to install. Great featur...   \n",
       "\n",
       "  이미지URL  리뷰URL  \n",
       "0    NaN    NaN  \n",
       "1    NaN    NaN  \n",
       "2    NaN    NaN  \n",
       "3    NaN    NaN  \n",
       "4    NaN    NaN  "
      ]
     },
     "execution_count": 3,
     "metadata": {},
     "output_type": "execute_result"
    }
   ],
   "source": [
    "Lowes_Review_origin = pd.read_excel('Sample_Lowes_Review_221209.xlsx')\n",
    "Lowes_Review_origin.shape # (2157,11)\n",
    "Lowes_Review_origin.head()"
   ]
  },
  {
   "cell_type": "code",
   "execution_count": 28,
   "id": "ff8655c7",
   "metadata": {
    "scrolled": true
   },
   "outputs": [
    {
     "name": "stdout",
     "output_type": "stream",
     "text": [
      "<class 'pandas.core.frame.DataFrame'>\n",
      "RangeIndex: 2157 entries, 0 to 2156\n",
      "Data columns (total 11 columns):\n",
      " #   Column   Non-Null Count  Dtype  \n",
      "---  ------   --------------  -----  \n",
      " 0   추출 날짜    2157 non-null   object \n",
      " 1   수집채널     2157 non-null   object \n",
      " 2   제품명      2157 non-null   object \n",
      " 3   제품상세URL  2157 non-null   object \n",
      " 4   작성자      2107 non-null   object \n",
      " 5   작성일      2157 non-null   object \n",
      " 6   별점       2157 non-null   int64  \n",
      " 7   제목       2052 non-null   object \n",
      " 8   본문       2055 non-null   object \n",
      " 9   이미지URL   156 non-null    object \n",
      " 10  리뷰URL    0 non-null      float64\n",
      "dtypes: float64(1), int64(1), object(9)\n",
      "memory usage: 185.5+ KB\n"
     ]
    }
   ],
   "source": [
    "# 카피본 떠놓고 시작하기\n",
    "lowes_review = Lowes_Review_origin.copy()\n",
    "lowes_review.info()"
   ]
  },
  {
   "cell_type": "markdown",
   "id": "e3215e1e",
   "metadata": {},
   "source": [
    "# 데이터 전처리"
   ]
  },
  {
   "cell_type": "markdown",
   "id": "cbae986d",
   "metadata": {},
   "source": [
    "## 컬럼 삭제"
   ]
  },
  {
   "cell_type": "code",
   "execution_count": 29,
   "id": "c46ade1a",
   "metadata": {},
   "outputs": [
    {
     "data": {
      "text/plain": [
       "Index(['제품명', '제품상세URL', '작성일', '별점', '제목', '본문'], dtype='object')"
      ]
     },
     "execution_count": 29,
     "metadata": {},
     "output_type": "execute_result"
    }
   ],
   "source": [
    "lowes_review = lowes_review.drop(['추출 날짜', '수집채널','작성자' ,'이미지URL' ,'리뷰URL'], axis=1)\n",
    "\n",
    "lowes_review.columns"
   ]
  },
  {
   "cell_type": "markdown",
   "id": "7e0809a8",
   "metadata": {},
   "source": [
    "## NA 확인"
   ]
  },
  {
   "cell_type": "code",
   "execution_count": 30,
   "id": "da9c8356",
   "metadata": {
    "scrolled": false
   },
   "outputs": [
    {
     "data": {
      "text/plain": [
       "제품명          0\n",
       "제품상세URL      0\n",
       "작성일          0\n",
       "별점           0\n",
       "제목         105\n",
       "본문         102\n",
       "dtype: int64"
      ]
     },
     "execution_count": 30,
     "metadata": {},
     "output_type": "execute_result"
    }
   ],
   "source": [
    "np.sum(lowes_review.isna())"
   ]
  },
  {
   "cell_type": "code",
   "execution_count": 31,
   "id": "2d93ef6f",
   "metadata": {
    "scrolled": false
   },
   "outputs": [
    {
     "data": {
      "text/html": [
       "<div>\n",
       "<style scoped>\n",
       "    .dataframe tbody tr th:only-of-type {\n",
       "        vertical-align: middle;\n",
       "    }\n",
       "\n",
       "    .dataframe tbody tr th {\n",
       "        vertical-align: top;\n",
       "    }\n",
       "\n",
       "    .dataframe thead th {\n",
       "        text-align: right;\n",
       "    }\n",
       "</style>\n",
       "<table border=\"1\" class=\"dataframe\">\n",
       "  <thead>\n",
       "    <tr style=\"text-align: right;\">\n",
       "      <th></th>\n",
       "      <th>제품명</th>\n",
       "      <th>제품상세URL</th>\n",
       "      <th>작성일</th>\n",
       "      <th>별점</th>\n",
       "      <th>제목</th>\n",
       "      <th>본문</th>\n",
       "    </tr>\n",
       "  </thead>\n",
       "  <tbody>\n",
       "    <tr>\n",
       "      <th>0</th>\n",
       "      <td>Bio Bidet  A8 White Elongated Slow-Close Heate...</td>\n",
       "      <td>https://www.lowes.com/pd/Bio-Bidet-Plastic-Elo...</td>\n",
       "      <td>2021.10.20</td>\n",
       "      <td>5</td>\n",
       "      <td>NaN</td>\n",
       "      <td>NaN</td>\n",
       "    </tr>\n",
       "    <tr>\n",
       "      <th>1</th>\n",
       "      <td>Bio Bidet  A8 White Elongated Slow-Close Heate...</td>\n",
       "      <td>https://www.lowes.com/pd/Bio-Bidet-Plastic-Elo...</td>\n",
       "      <td>2019.12.28</td>\n",
       "      <td>5</td>\n",
       "      <td>NaN</td>\n",
       "      <td>NaN</td>\n",
       "    </tr>\n",
       "    <tr>\n",
       "      <th>2</th>\n",
       "      <td>Bio Bidet  A8 White Elongated Slow-Close Heate...</td>\n",
       "      <td>https://www.lowes.com/pd/Bio-Bidet-Plastic-Elo...</td>\n",
       "      <td>2021.01.29</td>\n",
       "      <td>4</td>\n",
       "      <td>NaN</td>\n",
       "      <td>NaN</td>\n",
       "    </tr>\n",
       "    <tr>\n",
       "      <th>77</th>\n",
       "      <td>Bio Bidet  BB-1000 White Elongated Slow-Close ...</td>\n",
       "      <td>https://www.lowes.com/pd/Bio-Bidet-Plastic-Elo...</td>\n",
       "      <td>2020.11.25</td>\n",
       "      <td>5</td>\n",
       "      <td>NaN</td>\n",
       "      <td>NaN</td>\n",
       "    </tr>\n",
       "    <tr>\n",
       "      <th>78</th>\n",
       "      <td>Bio Bidet  BB-1000 White Elongated Slow-Close ...</td>\n",
       "      <td>https://www.lowes.com/pd/Bio-Bidet-Plastic-Elo...</td>\n",
       "      <td>2022.01.06</td>\n",
       "      <td>5</td>\n",
       "      <td>NaN</td>\n",
       "      <td>NaN</td>\n",
       "    </tr>\n",
       "    <tr>\n",
       "      <th>...</th>\n",
       "      <td>...</td>\n",
       "      <td>...</td>\n",
       "      <td>...</td>\n",
       "      <td>...</td>\n",
       "      <td>...</td>\n",
       "      <td>...</td>\n",
       "    </tr>\n",
       "    <tr>\n",
       "      <th>2123</th>\n",
       "      <td>Brondell  Swash CL510 White Round Slow-Close H...</td>\n",
       "      <td>https://www.lowes.com/pd/Brondell-Swash-CL510-...</td>\n",
       "      <td>2022.08.18</td>\n",
       "      <td>5</td>\n",
       "      <td>NaN</td>\n",
       "      <td>NaN</td>\n",
       "    </tr>\n",
       "    <tr>\n",
       "      <th>2124</th>\n",
       "      <td>Brondell  Swash CL510 White Round Slow-Close H...</td>\n",
       "      <td>https://www.lowes.com/pd/Brondell-Swash-CL510-...</td>\n",
       "      <td>2021.06.18</td>\n",
       "      <td>5</td>\n",
       "      <td>NaN</td>\n",
       "      <td>NaN</td>\n",
       "    </tr>\n",
       "    <tr>\n",
       "      <th>2140</th>\n",
       "      <td>Brondell  Swash CL510 White Round Slow-Close H...</td>\n",
       "      <td>https://www.lowes.com/pd/Brondell-Swash-CL510-...</td>\n",
       "      <td>2021.10.27</td>\n",
       "      <td>5</td>\n",
       "      <td>NaN</td>\n",
       "      <td>NaN</td>\n",
       "    </tr>\n",
       "    <tr>\n",
       "      <th>2141</th>\n",
       "      <td>Brondell  Swash CL510 White Round Slow-Close H...</td>\n",
       "      <td>https://www.lowes.com/pd/Brondell-Swash-CL510-...</td>\n",
       "      <td>2021.10.05</td>\n",
       "      <td>5</td>\n",
       "      <td>NaN</td>\n",
       "      <td>NaN</td>\n",
       "    </tr>\n",
       "    <tr>\n",
       "      <th>2144</th>\n",
       "      <td>Brondell  Swash CL510 White Round Slow-Close H...</td>\n",
       "      <td>https://www.lowes.com/pd/Brondell-Swash-CL510-...</td>\n",
       "      <td>2018.12.24</td>\n",
       "      <td>5</td>\n",
       "      <td>NaN</td>\n",
       "      <td>NaN</td>\n",
       "    </tr>\n",
       "  </tbody>\n",
       "</table>\n",
       "<p>102 rows × 6 columns</p>\n",
       "</div>"
      ],
      "text/plain": [
       "                                                    제품명  \\\n",
       "0     Bio Bidet  A8 White Elongated Slow-Close Heate...   \n",
       "1     Bio Bidet  A8 White Elongated Slow-Close Heate...   \n",
       "2     Bio Bidet  A8 White Elongated Slow-Close Heate...   \n",
       "77    Bio Bidet  BB-1000 White Elongated Slow-Close ...   \n",
       "78    Bio Bidet  BB-1000 White Elongated Slow-Close ...   \n",
       "...                                                 ...   \n",
       "2123  Brondell  Swash CL510 White Round Slow-Close H...   \n",
       "2124  Brondell  Swash CL510 White Round Slow-Close H...   \n",
       "2140  Brondell  Swash CL510 White Round Slow-Close H...   \n",
       "2141  Brondell  Swash CL510 White Round Slow-Close H...   \n",
       "2144  Brondell  Swash CL510 White Round Slow-Close H...   \n",
       "\n",
       "                                                제품상세URL         작성일  별점   제목  \\\n",
       "0     https://www.lowes.com/pd/Bio-Bidet-Plastic-Elo...  2021.10.20   5  NaN   \n",
       "1     https://www.lowes.com/pd/Bio-Bidet-Plastic-Elo...  2019.12.28   5  NaN   \n",
       "2     https://www.lowes.com/pd/Bio-Bidet-Plastic-Elo...  2021.01.29   4  NaN   \n",
       "77    https://www.lowes.com/pd/Bio-Bidet-Plastic-Elo...  2020.11.25   5  NaN   \n",
       "78    https://www.lowes.com/pd/Bio-Bidet-Plastic-Elo...  2022.01.06   5  NaN   \n",
       "...                                                 ...         ...  ..  ...   \n",
       "2123  https://www.lowes.com/pd/Brondell-Swash-CL510-...  2022.08.18   5  NaN   \n",
       "2124  https://www.lowes.com/pd/Brondell-Swash-CL510-...  2021.06.18   5  NaN   \n",
       "2140  https://www.lowes.com/pd/Brondell-Swash-CL510-...  2021.10.27   5  NaN   \n",
       "2141  https://www.lowes.com/pd/Brondell-Swash-CL510-...  2021.10.05   5  NaN   \n",
       "2144  https://www.lowes.com/pd/Brondell-Swash-CL510-...  2018.12.24   5  NaN   \n",
       "\n",
       "       본문  \n",
       "0     NaN  \n",
       "1     NaN  \n",
       "2     NaN  \n",
       "77    NaN  \n",
       "78    NaN  \n",
       "...   ...  \n",
       "2123  NaN  \n",
       "2124  NaN  \n",
       "2140  NaN  \n",
       "2141  NaN  \n",
       "2144  NaN  \n",
       "\n",
       "[102 rows x 6 columns]"
      ]
     },
     "execution_count": 31,
     "metadata": {},
     "output_type": "execute_result"
    }
   ],
   "source": [
    "lowes_review[lowes_review['본문'].isna()]"
   ]
  },
  {
   "cell_type": "markdown",
   "id": "31edb4c4",
   "metadata": {},
   "source": [
    "## 중복 확인"
   ]
  },
  {
   "cell_type": "code",
   "execution_count": 41,
   "id": "185f54fd",
   "metadata": {},
   "outputs": [
    {
     "data": {
      "text/plain": [
       "0"
      ]
     },
     "execution_count": 41,
     "metadata": {},
     "output_type": "execute_result"
    }
   ],
   "source": [
    "lowes_review.duplicated().sum()"
   ]
  },
  {
   "cell_type": "markdown",
   "id": "8001e2ca",
   "metadata": {},
   "source": [
    "## 데이터 타입 변환"
   ]
  },
  {
   "cell_type": "code",
   "execution_count": 42,
   "id": "fcd552e8",
   "metadata": {},
   "outputs": [],
   "source": [
    "lowes_review['작성일']=pd.to_datetime(lowes_review['작성일'])"
   ]
  },
  {
   "cell_type": "code",
   "execution_count": 43,
   "id": "7cdd46e5",
   "metadata": {
    "scrolled": true
   },
   "outputs": [
    {
     "name": "stdout",
     "output_type": "stream",
     "text": [
      "<class 'pandas.core.frame.DataFrame'>\n",
      "RangeIndex: 2157 entries, 0 to 2156\n",
      "Data columns (total 6 columns):\n",
      " #   Column  Non-Null Count  Dtype         \n",
      "---  ------  --------------  -----         \n",
      " 0   회사명     2157 non-null   object        \n",
      " 1   제품명     2157 non-null   object        \n",
      " 2   작성일     2157 non-null   datetime64[ns]\n",
      " 3   별점      2157 non-null   int64         \n",
      " 4   제목      2052 non-null   object        \n",
      " 5   본문      2055 non-null   object        \n",
      "dtypes: datetime64[ns](1), int64(1), object(4)\n",
      "memory usage: 101.2+ KB\n"
     ]
    }
   ],
   "source": [
    "lowes_review.info()"
   ]
  },
  {
   "cell_type": "markdown",
   "id": "50b3d50f",
   "metadata": {},
   "source": [
    "## 회사명 추출"
   ]
  },
  {
   "cell_type": "code",
   "execution_count": 34,
   "id": "d693de8a",
   "metadata": {
    "scrolled": true
   },
   "outputs": [
    {
     "data": {
      "text/plain": [
       "0       https://www.lowes.com/pd/Bio-Bidet-Plastic-Elo...\n",
       "1       https://www.lowes.com/pd/Bio-Bidet-Plastic-Elo...\n",
       "2       https://www.lowes.com/pd/Bio-Bidet-Plastic-Elo...\n",
       "3       https://www.lowes.com/pd/Bio-Bidet-Plastic-Elo...\n",
       "4       https://www.lowes.com/pd/Bio-Bidet-Plastic-Elo...\n",
       "                              ...                        \n",
       "2152    https://www.lowes.com/pd/Brondell-Swash-CL510-...\n",
       "2153    https://www.lowes.com/pd/Brondell-Swash-CL510-...\n",
       "2154    https://www.lowes.com/pd/Brondell-Swash-CL510-...\n",
       "2155    https://www.lowes.com/pd/Brondell-Swash-CL510-...\n",
       "2156    https://www.lowes.com/pd/Brondell-Swash-CL510-...\n",
       "Name: 제품상세URL, Length: 2157, dtype: object"
      ]
     },
     "execution_count": 34,
     "metadata": {},
     "output_type": "execute_result"
    }
   ],
   "source": [
    "lowes_review['제품상세URL']"
   ]
  },
  {
   "cell_type": "code",
   "execution_count": 35,
   "id": "2cf5e888",
   "metadata": {},
   "outputs": [
    {
     "data": {
      "text/plain": [
       "2157"
      ]
     },
     "execution_count": 35,
     "metadata": {},
     "output_type": "execute_result"
    }
   ],
   "source": [
    "lowes_review['제품상세URL'].str.contains('toto|brondell|alpha-bidet|bio-bidet|American-Standard|KOHLER|VOVO', case=False).sum()"
   ]
  },
  {
   "cell_type": "code",
   "execution_count": 36,
   "id": "1baef761",
   "metadata": {
    "scrolled": true
   },
   "outputs": [
    {
     "name": "stdout",
     "output_type": "stream",
     "text": [
      "{'american', 'brondell', 'bio', 'vovo', 'kohler'}\n"
     ]
    }
   ],
   "source": [
    "company_list=[]\n",
    "\n",
    "for url in lowes_review['제품상세URL']:\n",
    "    company_list.append(url.lower().split('/pd/')[1].split('-')[0])\n",
    "print(set(company_list))"
   ]
  },
  {
   "cell_type": "code",
   "execution_count": 37,
   "id": "56e2a5d6",
   "metadata": {
    "scrolled": true
   },
   "outputs": [
    {
     "data": {
      "text/plain": [
       "0            bio\n",
       "1            bio\n",
       "2            bio\n",
       "3            bio\n",
       "4            bio\n",
       "          ...   \n",
       "2152    brondell\n",
       "2153    brondell\n",
       "2154    brondell\n",
       "2155    brondell\n",
       "2156    brondell\n",
       "Name: 회사명, Length: 2157, dtype: object"
      ]
     },
     "execution_count": 37,
     "metadata": {},
     "output_type": "execute_result"
    }
   ],
   "source": [
    "lowes_review['회사명'] = company_list\n",
    "lowes_review['회사명']"
   ]
  },
  {
   "cell_type": "code",
   "execution_count": 39,
   "id": "122db1c0",
   "metadata": {
    "scrolled": true
   },
   "outputs": [
    {
     "data": {
      "text/html": [
       "<div>\n",
       "<style scoped>\n",
       "    .dataframe tbody tr th:only-of-type {\n",
       "        vertical-align: middle;\n",
       "    }\n",
       "\n",
       "    .dataframe tbody tr th {\n",
       "        vertical-align: top;\n",
       "    }\n",
       "\n",
       "    .dataframe thead th {\n",
       "        text-align: right;\n",
       "    }\n",
       "</style>\n",
       "<table border=\"1\" class=\"dataframe\">\n",
       "  <thead>\n",
       "    <tr style=\"text-align: right;\">\n",
       "      <th></th>\n",
       "      <th>회사명</th>\n",
       "      <th>제품명</th>\n",
       "      <th>작성일</th>\n",
       "      <th>별점</th>\n",
       "      <th>제목</th>\n",
       "      <th>본문</th>\n",
       "    </tr>\n",
       "  </thead>\n",
       "  <tbody>\n",
       "    <tr>\n",
       "      <th>0</th>\n",
       "      <td>bio</td>\n",
       "      <td>Bio Bidet  A8 White Elongated Slow-Close Heate...</td>\n",
       "      <td>2021-10-20</td>\n",
       "      <td>5</td>\n",
       "      <td>NaN</td>\n",
       "      <td>NaN</td>\n",
       "    </tr>\n",
       "    <tr>\n",
       "      <th>1</th>\n",
       "      <td>bio</td>\n",
       "      <td>Bio Bidet  A8 White Elongated Slow-Close Heate...</td>\n",
       "      <td>2019-12-28</td>\n",
       "      <td>5</td>\n",
       "      <td>NaN</td>\n",
       "      <td>NaN</td>\n",
       "    </tr>\n",
       "    <tr>\n",
       "      <th>2</th>\n",
       "      <td>bio</td>\n",
       "      <td>Bio Bidet  A8 White Elongated Slow-Close Heate...</td>\n",
       "      <td>2021-01-29</td>\n",
       "      <td>4</td>\n",
       "      <td>NaN</td>\n",
       "      <td>NaN</td>\n",
       "    </tr>\n",
       "    <tr>\n",
       "      <th>3</th>\n",
       "      <td>bio</td>\n",
       "      <td>Bio Bidet  A8 White Elongated Slow-Close Heate...</td>\n",
       "      <td>2016-12-01</td>\n",
       "      <td>5</td>\n",
       "      <td>AMAZING</td>\n",
       "      <td>I couldn't be happier!!! A must for anyone to ...</td>\n",
       "    </tr>\n",
       "    <tr>\n",
       "      <th>4</th>\n",
       "      <td>bio</td>\n",
       "      <td>Bio Bidet  A8 White Elongated Slow-Close Heate...</td>\n",
       "      <td>2016-11-06</td>\n",
       "      <td>5</td>\n",
       "      <td>Good Product!</td>\n",
       "      <td>It takes just minutes to install. Great featur...</td>\n",
       "    </tr>\n",
       "  </tbody>\n",
       "</table>\n",
       "</div>"
      ],
      "text/plain": [
       "   회사명                                                제품명        작성일  별점  \\\n",
       "0  bio  Bio Bidet  A8 White Elongated Slow-Close Heate... 2021-10-20   5   \n",
       "1  bio  Bio Bidet  A8 White Elongated Slow-Close Heate... 2019-12-28   5   \n",
       "2  bio  Bio Bidet  A8 White Elongated Slow-Close Heate... 2021-01-29   4   \n",
       "3  bio  Bio Bidet  A8 White Elongated Slow-Close Heate... 2016-12-01   5   \n",
       "4  bio  Bio Bidet  A8 White Elongated Slow-Close Heate... 2016-11-06   5   \n",
       "\n",
       "              제목                                                 본문  \n",
       "0            NaN                                                NaN  \n",
       "1            NaN                                                NaN  \n",
       "2            NaN                                                NaN  \n",
       "3        AMAZING  I couldn't be happier!!! A must for anyone to ...  \n",
       "4  Good Product!  It takes just minutes to install. Great featur...  "
      ]
     },
     "execution_count": 39,
     "metadata": {},
     "output_type": "execute_result"
    }
   ],
   "source": [
    "lowes_review = lowes_review[['회사명', '제품명', '작성일', '별점', '제목', '본문']]\n",
    "lowes_review.head()"
   ]
  },
  {
   "cell_type": "code",
   "execution_count": 44,
   "id": "6bdce0af",
   "metadata": {
    "scrolled": true
   },
   "outputs": [
    {
     "data": {
      "text/plain": [
       "array(['bio', 'american', 'kohler', 'vovo', 'brondell'], dtype=object)"
      ]
     },
     "execution_count": 44,
     "metadata": {},
     "output_type": "execute_result"
    }
   ],
   "source": [
    "lowes_review['회사명'].unique()"
   ]
  },
  {
   "cell_type": "code",
   "execution_count": null,
   "id": "3e96364d",
   "metadata": {},
   "outputs": [],
   "source": [
    "# lowes_review['회사명'] = lowes_review['회사명'].str.replace('bio', 'biobidet').replace('american', 'a_s')\n",
    "lowes_review['회사명'].unique()"
   ]
  },
  {
   "cell_type": "markdown",
   "id": "86935811",
   "metadata": {},
   "source": [
    "# 파일 저장"
   ]
  },
  {
   "cell_type": "code",
   "execution_count": 2,
   "id": "62130620",
   "metadata": {},
   "outputs": [
    {
     "name": "stdout",
     "output_type": "stream",
     "text": [
      "End\n"
     ]
    }
   ],
   "source": [
    "# f = open('myfile2.txt', mode='w', encoding='utf-8')\n",
    "# #파일이 없으면 새로 생성, 이미 존재하면 overwrite 덮어씌우기\n",
    "# #t가 생략되어 있다 (w는 wt이다)\n",
    "# f.write('Hello World')\n",
    "# f.close()\n",
    "\n",
    "# print('End')"
   ]
  },
  {
   "cell_type": "code",
   "execution_count": null,
   "id": "5f0ebdcd",
   "metadata": {},
   "outputs": [],
   "source": [
    "with open('Lowes_Review.xlsx', 'rb', encoding='utf-8') as f:\n",
    "    print(f.read())"
   ]
  }
 ],
 "metadata": {
  "kernelspec": {
   "display_name": "Python 3 (ipykernel)",
   "language": "python",
   "name": "python3"
  },
  "language_info": {
   "codemirror_mode": {
    "name": "ipython",
    "version": 3
   },
   "file_extension": ".py",
   "mimetype": "text/x-python",
   "name": "python",
   "nbconvert_exporter": "python",
   "pygments_lexer": "ipython3",
   "version": "3.9.13"
  },
  "toc": {
   "base_numbering": 1,
   "nav_menu": {},
   "number_sections": true,
   "sideBar": true,
   "skip_h1_title": false,
   "title_cell": "Table of Contents",
   "title_sidebar": "Contents",
   "toc_cell": false,
   "toc_position": {
    "height": "calc(100% - 180px)",
    "left": "10px",
    "top": "150px",
    "width": "188.95px"
   },
   "toc_section_display": true,
   "toc_window_display": true
  }
 },
 "nbformat": 4,
 "nbformat_minor": 5
}
