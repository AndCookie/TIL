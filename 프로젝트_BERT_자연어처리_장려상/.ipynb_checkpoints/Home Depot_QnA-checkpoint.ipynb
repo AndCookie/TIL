{
 "cells": [
  {
   "cell_type": "markdown",
   "id": "448ac8b6",
   "metadata": {},
   "source": [
    "# 데이터 로드"
   ]
  },
  {
   "cell_type": "code",
   "execution_count": 2,
   "id": "276eb220",
   "metadata": {},
   "outputs": [],
   "source": [
    "import numpy as np\n",
    "import pandas as pd"
   ]
  },
  {
   "cell_type": "code",
   "execution_count": 5,
   "id": "14b4bb14",
   "metadata": {},
   "outputs": [
    {
     "data": {
      "text/html": [
       "<div>\n",
       "<style scoped>\n",
       "    .dataframe tbody tr th:only-of-type {\n",
       "        vertical-align: middle;\n",
       "    }\n",
       "\n",
       "    .dataframe tbody tr th {\n",
       "        vertical-align: top;\n",
       "    }\n",
       "\n",
       "    .dataframe thead th {\n",
       "        text-align: right;\n",
       "    }\n",
       "</style>\n",
       "<table border=\"1\" class=\"dataframe\">\n",
       "  <thead>\n",
       "    <tr style=\"text-align: right;\">\n",
       "      <th></th>\n",
       "      <th>추출 날짜</th>\n",
       "      <th>수집채널</th>\n",
       "      <th>제품명</th>\n",
       "      <th>제품상세URL</th>\n",
       "      <th>질문일자</th>\n",
       "      <th>질문</th>\n",
       "      <th>답변일자</th>\n",
       "      <th>답변</th>\n",
       "      <th>Qna URL</th>\n",
       "    </tr>\n",
       "  </thead>\n",
       "  <tbody>\n",
       "    <tr>\n",
       "      <th>0</th>\n",
       "      <td>2022.12.06</td>\n",
       "      <td>Home Depot</td>\n",
       "      <td>Ultimate Electric Bidet Seat for Round Toilets...</td>\n",
       "      <td>https://www.homedepot.com/p/bioBidet-Ultimate-...</td>\n",
       "      <td>2016.11.07</td>\n",
       "      <td>Where does the outlet come from?  Right side, ...</td>\n",
       "      <td>2017.01.12</td>\n",
       "      <td>I placed the outlet 6 inches   above and were ...</td>\n",
       "      <td>NaN</td>\n",
       "    </tr>\n",
       "    <tr>\n",
       "      <th>1</th>\n",
       "      <td>2022.12.06</td>\n",
       "      <td>Home Depot</td>\n",
       "      <td>Ultimate Electric Bidet Seat for Round Toilets...</td>\n",
       "      <td>https://www.homedepot.com/p/bioBidet-Ultimate-...</td>\n",
       "      <td>2016.11.07</td>\n",
       "      <td>Where does the outlet come from?  Right side, ...</td>\n",
       "      <td>2016.11.30</td>\n",
       "      <td>Outlet can be either on the left or right as l...</td>\n",
       "      <td>NaN</td>\n",
       "    </tr>\n",
       "    <tr>\n",
       "      <th>2</th>\n",
       "      <td>2022.12.06</td>\n",
       "      <td>Home Depot</td>\n",
       "      <td>Ultimate Electric Bidet Seat for Round Toilets...</td>\n",
       "      <td>https://www.homedepot.com/p/bioBidet-Ultimate-...</td>\n",
       "      <td>2016.11.07</td>\n",
       "      <td>Where does the outlet come from?  Right side, ...</td>\n",
       "      <td>2017.01.12</td>\n",
       "      <td>Right side</td>\n",
       "      <td>NaN</td>\n",
       "    </tr>\n",
       "    <tr>\n",
       "      <th>3</th>\n",
       "      <td>2022.12.06</td>\n",
       "      <td>Home Depot</td>\n",
       "      <td>Ultimate Electric Bidet Seat for Round Toilets...</td>\n",
       "      <td>https://www.homedepot.com/p/bioBidet-Ultimate-...</td>\n",
       "      <td>2016.11.07</td>\n",
       "      <td>Where does the outlet come from?  Right side, ...</td>\n",
       "      <td>2016.11.08</td>\n",
       "      <td>The power cord comes straight out of the back ...</td>\n",
       "      <td>NaN</td>\n",
       "    </tr>\n",
       "    <tr>\n",
       "      <th>4</th>\n",
       "      <td>2022.12.06</td>\n",
       "      <td>Home Depot</td>\n",
       "      <td>Ultimate Electric Bidet Seat for Round Toilets...</td>\n",
       "      <td>https://www.homedepot.com/p/bioBidet-Ultimate-...</td>\n",
       "      <td>2016.11.07</td>\n",
       "      <td>Where does the outlet come from?  Right side, ...</td>\n",
       "      <td>2016.11.07</td>\n",
       "      <td>Hello,This particular model has the power cord...</td>\n",
       "      <td>NaN</td>\n",
       "    </tr>\n",
       "  </tbody>\n",
       "</table>\n",
       "</div>"
      ],
      "text/plain": [
       "        추출 날짜        수집채널                                                제품명  \\\n",
       "0  2022.12.06  Home Depot  Ultimate Electric Bidet Seat for Round Toilets...   \n",
       "1  2022.12.06  Home Depot  Ultimate Electric Bidet Seat for Round Toilets...   \n",
       "2  2022.12.06  Home Depot  Ultimate Electric Bidet Seat for Round Toilets...   \n",
       "3  2022.12.06  Home Depot  Ultimate Electric Bidet Seat for Round Toilets...   \n",
       "4  2022.12.06  Home Depot  Ultimate Electric Bidet Seat for Round Toilets...   \n",
       "\n",
       "                                             제품상세URL        질문일자  \\\n",
       "0  https://www.homedepot.com/p/bioBidet-Ultimate-...  2016.11.07   \n",
       "1  https://www.homedepot.com/p/bioBidet-Ultimate-...  2016.11.07   \n",
       "2  https://www.homedepot.com/p/bioBidet-Ultimate-...  2016.11.07   \n",
       "3  https://www.homedepot.com/p/bioBidet-Ultimate-...  2016.11.07   \n",
       "4  https://www.homedepot.com/p/bioBidet-Ultimate-...  2016.11.07   \n",
       "\n",
       "                                                  질문        답변일자  \\\n",
       "0  Where does the outlet come from?  Right side, ...  2017.01.12   \n",
       "1  Where does the outlet come from?  Right side, ...  2016.11.30   \n",
       "2  Where does the outlet come from?  Right side, ...  2017.01.12   \n",
       "3  Where does the outlet come from?  Right side, ...  2016.11.08   \n",
       "4  Where does the outlet come from?  Right side, ...  2016.11.07   \n",
       "\n",
       "                                                  답변  Qna URL  \n",
       "0  I placed the outlet 6 inches   above and were ...      NaN  \n",
       "1  Outlet can be either on the left or right as l...      NaN  \n",
       "2                                         Right side      NaN  \n",
       "3  The power cord comes straight out of the back ...      NaN  \n",
       "4  Hello,This particular model has the power cord...      NaN  "
      ]
     },
     "execution_count": 5,
     "metadata": {},
     "output_type": "execute_result"
    }
   ],
   "source": [
    "HomeDepot_QnA_origin = pd.read_excel('Sample_HomeDepot_QnA_221206.xlsx')\n",
    "HomeDepot_QnA_origin.shape # (423,9)\n",
    "HomeDepot_QnA_origin.head()"
   ]
  },
  {
   "cell_type": "code",
   "execution_count": 6,
   "id": "ff8655c7",
   "metadata": {
    "scrolled": true
   },
   "outputs": [
    {
     "name": "stdout",
     "output_type": "stream",
     "text": [
      "<class 'pandas.core.frame.DataFrame'>\n",
      "RangeIndex: 423 entries, 0 to 422\n",
      "Data columns (total 9 columns):\n",
      " #   Column   Non-Null Count  Dtype  \n",
      "---  ------   --------------  -----  \n",
      " 0   추출 날짜    423 non-null    object \n",
      " 1   수집채널     423 non-null    object \n",
      " 2   제품명      423 non-null    object \n",
      " 3   제품상세URL  423 non-null    object \n",
      " 4   질문일자     423 non-null    object \n",
      " 5   질문       423 non-null    object \n",
      " 6   답변일자     423 non-null    object \n",
      " 7   답변       423 non-null    object \n",
      " 8   Qna URL  0 non-null      float64\n",
      "dtypes: float64(1), object(8)\n",
      "memory usage: 29.9+ KB\n"
     ]
    }
   ],
   "source": [
    "# 카피본 떠놓고 시작하기\n",
    "hd_qna = HomeDepot_QnA_origin.copy()\n",
    "hd_qna.info()"
   ]
  },
  {
   "cell_type": "markdown",
   "id": "e3215e1e",
   "metadata": {},
   "source": [
    "# 데이터 전처리"
   ]
  },
  {
   "cell_type": "markdown",
   "id": "cbae986d",
   "metadata": {},
   "source": [
    "## 컬럼 삭제"
   ]
  },
  {
   "cell_type": "code",
   "execution_count": 8,
   "id": "c46ade1a",
   "metadata": {},
   "outputs": [
    {
     "data": {
      "text/plain": [
       "Index(['제품명', '제품상세URL', '질문일자', '질문', '답변일자', '답변'], dtype='object')"
      ]
     },
     "execution_count": 8,
     "metadata": {},
     "output_type": "execute_result"
    }
   ],
   "source": [
    "hd_qna = hd_qna.drop(['추출 날짜', '수집채널', 'Qna URL'], axis=1)\n",
    "\n",
    "hd_qna.columns"
   ]
  },
  {
   "cell_type": "markdown",
   "id": "7e0809a8",
   "metadata": {},
   "source": [
    "## NA 확인"
   ]
  },
  {
   "cell_type": "code",
   "execution_count": 9,
   "id": "da9c8356",
   "metadata": {
    "scrolled": false
   },
   "outputs": [
    {
     "data": {
      "text/plain": [
       "제품명        0\n",
       "제품상세URL    0\n",
       "질문일자       0\n",
       "질문         0\n",
       "답변일자       0\n",
       "답변         0\n",
       "dtype: int64"
      ]
     },
     "execution_count": 9,
     "metadata": {},
     "output_type": "execute_result"
    }
   ],
   "source": [
    "np.sum(hd_qna.isna())"
   ]
  },
  {
   "cell_type": "markdown",
   "id": "8001e2ca",
   "metadata": {},
   "source": [
    "## 데이터 타입 변환"
   ]
  },
  {
   "cell_type": "code",
   "execution_count": 11,
   "id": "fcd552e8",
   "metadata": {},
   "outputs": [],
   "source": [
    "hd_qna['질문일자']=pd.to_datetime(hd_qna['질문일자'])\n",
    "hd_qna['답변일자']=pd.to_datetime(hd_qna['답변일자'])"
   ]
  },
  {
   "cell_type": "code",
   "execution_count": 12,
   "id": "7cdd46e5",
   "metadata": {
    "scrolled": true
   },
   "outputs": [
    {
     "name": "stdout",
     "output_type": "stream",
     "text": [
      "<class 'pandas.core.frame.DataFrame'>\n",
      "RangeIndex: 423 entries, 0 to 422\n",
      "Data columns (total 6 columns):\n",
      " #   Column   Non-Null Count  Dtype         \n",
      "---  ------   --------------  -----         \n",
      " 0   제품명      423 non-null    object        \n",
      " 1   제품상세URL  423 non-null    object        \n",
      " 2   질문일자     423 non-null    datetime64[ns]\n",
      " 3   질문       423 non-null    object        \n",
      " 4   답변일자     423 non-null    datetime64[ns]\n",
      " 5   답변       423 non-null    object        \n",
      "dtypes: datetime64[ns](2), object(4)\n",
      "memory usage: 20.0+ KB\n"
     ]
    }
   ],
   "source": [
    "hd_qna.info()"
   ]
  },
  {
   "cell_type": "markdown",
   "id": "50b3d50f",
   "metadata": {},
   "source": [
    "## 회사명 추출"
   ]
  },
  {
   "cell_type": "code",
   "execution_count": 13,
   "id": "d693de8a",
   "metadata": {
    "scrolled": true
   },
   "outputs": [
    {
     "data": {
      "text/plain": [
       "0      https://www.homedepot.com/p/bioBidet-Ultimate-...\n",
       "1      https://www.homedepot.com/p/bioBidet-Ultimate-...\n",
       "2      https://www.homedepot.com/p/bioBidet-Ultimate-...\n",
       "3      https://www.homedepot.com/p/bioBidet-Ultimate-...\n",
       "4      https://www.homedepot.com/p/bioBidet-Ultimate-...\n",
       "                             ...                        \n",
       "418    https://www.homedepot.com/p/Brondell-Swash-140...\n",
       "419    https://www.homedepot.com/p/Brondell-Swash-140...\n",
       "420    https://www.homedepot.com/p/Brondell-Swash-140...\n",
       "421    https://www.homedepot.com/p/Brondell-Swash-140...\n",
       "422    https://www.homedepot.com/p/Brondell-Swash-140...\n",
       "Name: 제품상세URL, Length: 423, dtype: object"
      ]
     },
     "execution_count": 13,
     "metadata": {},
     "output_type": "execute_result"
    }
   ],
   "source": [
    "hd_qna['제품상세URL']"
   ]
  },
  {
   "cell_type": "code",
   "execution_count": 15,
   "id": "2cf5e888",
   "metadata": {},
   "outputs": [
    {
     "data": {
      "text/plain": [
       "423"
      ]
     },
     "execution_count": 15,
     "metadata": {},
     "output_type": "execute_result"
    }
   ],
   "source": [
    "hd_qna['제품상세URL'].str.contains('toto|brondell|alpha-bidet|biobidet', case=False).sum()"
   ]
  },
  {
   "cell_type": "code",
   "execution_count": 17,
   "id": "1baef761",
   "metadata": {
    "scrolled": true
   },
   "outputs": [
    {
     "name": "stdout",
     "output_type": "stream",
     "text": [
      "{'brondell', 'biobidet', 'toto'}\n"
     ]
    }
   ],
   "source": [
    "company_list=[]\n",
    "\n",
    "for url in hd_qna['제품상세URL']:\n",
    "    company_list.append(url.lower().split('/p/')[1].split('-')[0])\n",
    "print(set(company_list))"
   ]
  },
  {
   "cell_type": "code",
   "execution_count": 19,
   "id": "56e2a5d6",
   "metadata": {
    "scrolled": false
   },
   "outputs": [
    {
     "data": {
      "text/plain": [
       "0      brondell\n",
       "1      brondell\n",
       "2      brondell\n",
       "3      brondell\n",
       "4      brondell\n",
       "         ...   \n",
       "418    brondell\n",
       "419    brondell\n",
       "420    brondell\n",
       "421    brondell\n",
       "422    brondell\n",
       "Name: 회사명, Length: 423, dtype: object"
      ]
     },
     "execution_count": 19,
     "metadata": {},
     "output_type": "execute_result"
    }
   ],
   "source": [
    "for url in hd_qna['제품상세URL']:\n",
    "    hd_qna['회사명'] = url.lower().split('/p/')[1].split('-')[0]\n",
    "hd_qna['회사명']"
   ]
  },
  {
   "cell_type": "code",
   "execution_count": 22,
   "id": "b3a5af54",
   "metadata": {},
   "outputs": [
    {
     "data": {
      "text/html": [
       "<div>\n",
       "<style scoped>\n",
       "    .dataframe tbody tr th:only-of-type {\n",
       "        vertical-align: middle;\n",
       "    }\n",
       "\n",
       "    .dataframe tbody tr th {\n",
       "        vertical-align: top;\n",
       "    }\n",
       "\n",
       "    .dataframe thead th {\n",
       "        text-align: right;\n",
       "    }\n",
       "</style>\n",
       "<table border=\"1\" class=\"dataframe\">\n",
       "  <thead>\n",
       "    <tr style=\"text-align: right;\">\n",
       "      <th></th>\n",
       "      <th>제품명</th>\n",
       "      <th>제품상세URL</th>\n",
       "      <th>질문일자</th>\n",
       "      <th>질문</th>\n",
       "      <th>답변일자</th>\n",
       "      <th>답변</th>\n",
       "      <th>회사명</th>\n",
       "    </tr>\n",
       "  </thead>\n",
       "  <tbody>\n",
       "    <tr>\n",
       "      <th>0</th>\n",
       "      <td>Ultimate Electric Bidet Seat for Round Toilets...</td>\n",
       "      <td>https://www.homedepot.com/p/bioBidet-Ultimate-...</td>\n",
       "      <td>2016-11-07</td>\n",
       "      <td>Where does the outlet come from?  Right side, ...</td>\n",
       "      <td>2017-01-12</td>\n",
       "      <td>I placed the outlet 6 inches   above and were ...</td>\n",
       "      <td>brondell</td>\n",
       "    </tr>\n",
       "    <tr>\n",
       "      <th>1</th>\n",
       "      <td>Ultimate Electric Bidet Seat for Round Toilets...</td>\n",
       "      <td>https://www.homedepot.com/p/bioBidet-Ultimate-...</td>\n",
       "      <td>2016-11-07</td>\n",
       "      <td>Where does the outlet come from?  Right side, ...</td>\n",
       "      <td>2016-11-30</td>\n",
       "      <td>Outlet can be either on the left or right as l...</td>\n",
       "      <td>brondell</td>\n",
       "    </tr>\n",
       "    <tr>\n",
       "      <th>2</th>\n",
       "      <td>Ultimate Electric Bidet Seat for Round Toilets...</td>\n",
       "      <td>https://www.homedepot.com/p/bioBidet-Ultimate-...</td>\n",
       "      <td>2016-11-07</td>\n",
       "      <td>Where does the outlet come from?  Right side, ...</td>\n",
       "      <td>2017-01-12</td>\n",
       "      <td>Right side</td>\n",
       "      <td>brondell</td>\n",
       "    </tr>\n",
       "    <tr>\n",
       "      <th>3</th>\n",
       "      <td>Ultimate Electric Bidet Seat for Round Toilets...</td>\n",
       "      <td>https://www.homedepot.com/p/bioBidet-Ultimate-...</td>\n",
       "      <td>2016-11-07</td>\n",
       "      <td>Where does the outlet come from?  Right side, ...</td>\n",
       "      <td>2016-11-08</td>\n",
       "      <td>The power cord comes straight out of the back ...</td>\n",
       "      <td>brondell</td>\n",
       "    </tr>\n",
       "    <tr>\n",
       "      <th>4</th>\n",
       "      <td>Ultimate Electric Bidet Seat for Round Toilets...</td>\n",
       "      <td>https://www.homedepot.com/p/bioBidet-Ultimate-...</td>\n",
       "      <td>2016-11-07</td>\n",
       "      <td>Where does the outlet come from?  Right side, ...</td>\n",
       "      <td>2016-11-07</td>\n",
       "      <td>Hello,This particular model has the power cord...</td>\n",
       "      <td>brondell</td>\n",
       "    </tr>\n",
       "  </tbody>\n",
       "</table>\n",
       "</div>"
      ],
      "text/plain": [
       "                                                 제품명  \\\n",
       "0  Ultimate Electric Bidet Seat for Round Toilets...   \n",
       "1  Ultimate Electric Bidet Seat for Round Toilets...   \n",
       "2  Ultimate Electric Bidet Seat for Round Toilets...   \n",
       "3  Ultimate Electric Bidet Seat for Round Toilets...   \n",
       "4  Ultimate Electric Bidet Seat for Round Toilets...   \n",
       "\n",
       "                                             제품상세URL       질문일자  \\\n",
       "0  https://www.homedepot.com/p/bioBidet-Ultimate-... 2016-11-07   \n",
       "1  https://www.homedepot.com/p/bioBidet-Ultimate-... 2016-11-07   \n",
       "2  https://www.homedepot.com/p/bioBidet-Ultimate-... 2016-11-07   \n",
       "3  https://www.homedepot.com/p/bioBidet-Ultimate-... 2016-11-07   \n",
       "4  https://www.homedepot.com/p/bioBidet-Ultimate-... 2016-11-07   \n",
       "\n",
       "                                                  질문       답변일자  \\\n",
       "0  Where does the outlet come from?  Right side, ... 2017-01-12   \n",
       "1  Where does the outlet come from?  Right side, ... 2016-11-30   \n",
       "2  Where does the outlet come from?  Right side, ... 2017-01-12   \n",
       "3  Where does the outlet come from?  Right side, ... 2016-11-08   \n",
       "4  Where does the outlet come from?  Right side, ... 2016-11-07   \n",
       "\n",
       "                                                  답변       회사명  \n",
       "0  I placed the outlet 6 inches   above and were ...  brondell  \n",
       "1  Outlet can be either on the left or right as l...  brondell  \n",
       "2                                         Right side  brondell  \n",
       "3  The power cord comes straight out of the back ...  brondell  \n",
       "4  Hello,This particular model has the power cord...  brondell  "
      ]
     },
     "execution_count": 22,
     "metadata": {},
     "output_type": "execute_result"
    }
   ],
   "source": [
    "hd_qna.head()"
   ]
  },
  {
   "cell_type": "code",
   "execution_count": 23,
   "id": "122db1c0",
   "metadata": {
    "scrolled": true
   },
   "outputs": [
    {
     "data": {
      "text/html": [
       "<div>\n",
       "<style scoped>\n",
       "    .dataframe tbody tr th:only-of-type {\n",
       "        vertical-align: middle;\n",
       "    }\n",
       "\n",
       "    .dataframe tbody tr th {\n",
       "        vertical-align: top;\n",
       "    }\n",
       "\n",
       "    .dataframe thead th {\n",
       "        text-align: right;\n",
       "    }\n",
       "</style>\n",
       "<table border=\"1\" class=\"dataframe\">\n",
       "  <thead>\n",
       "    <tr style=\"text-align: right;\">\n",
       "      <th></th>\n",
       "      <th>회사명</th>\n",
       "      <th>제품명</th>\n",
       "      <th>질문일자</th>\n",
       "      <th>질문</th>\n",
       "      <th>답변일자</th>\n",
       "      <th>답변</th>\n",
       "    </tr>\n",
       "  </thead>\n",
       "  <tbody>\n",
       "    <tr>\n",
       "      <th>0</th>\n",
       "      <td>brondell</td>\n",
       "      <td>Ultimate Electric Bidet Seat for Round Toilets...</td>\n",
       "      <td>2016-11-07</td>\n",
       "      <td>Where does the outlet come from?  Right side, ...</td>\n",
       "      <td>2017-01-12</td>\n",
       "      <td>I placed the outlet 6 inches   above and were ...</td>\n",
       "    </tr>\n",
       "    <tr>\n",
       "      <th>1</th>\n",
       "      <td>brondell</td>\n",
       "      <td>Ultimate Electric Bidet Seat for Round Toilets...</td>\n",
       "      <td>2016-11-07</td>\n",
       "      <td>Where does the outlet come from?  Right side, ...</td>\n",
       "      <td>2016-11-30</td>\n",
       "      <td>Outlet can be either on the left or right as l...</td>\n",
       "    </tr>\n",
       "    <tr>\n",
       "      <th>2</th>\n",
       "      <td>brondell</td>\n",
       "      <td>Ultimate Electric Bidet Seat for Round Toilets...</td>\n",
       "      <td>2016-11-07</td>\n",
       "      <td>Where does the outlet come from?  Right side, ...</td>\n",
       "      <td>2017-01-12</td>\n",
       "      <td>Right side</td>\n",
       "    </tr>\n",
       "    <tr>\n",
       "      <th>3</th>\n",
       "      <td>brondell</td>\n",
       "      <td>Ultimate Electric Bidet Seat for Round Toilets...</td>\n",
       "      <td>2016-11-07</td>\n",
       "      <td>Where does the outlet come from?  Right side, ...</td>\n",
       "      <td>2016-11-08</td>\n",
       "      <td>The power cord comes straight out of the back ...</td>\n",
       "    </tr>\n",
       "    <tr>\n",
       "      <th>4</th>\n",
       "      <td>brondell</td>\n",
       "      <td>Ultimate Electric Bidet Seat for Round Toilets...</td>\n",
       "      <td>2016-11-07</td>\n",
       "      <td>Where does the outlet come from?  Right side, ...</td>\n",
       "      <td>2016-11-07</td>\n",
       "      <td>Hello,This particular model has the power cord...</td>\n",
       "    </tr>\n",
       "  </tbody>\n",
       "</table>\n",
       "</div>"
      ],
      "text/plain": [
       "        회사명                                                제품명       질문일자  \\\n",
       "0  brondell  Ultimate Electric Bidet Seat for Round Toilets... 2016-11-07   \n",
       "1  brondell  Ultimate Electric Bidet Seat for Round Toilets... 2016-11-07   \n",
       "2  brondell  Ultimate Electric Bidet Seat for Round Toilets... 2016-11-07   \n",
       "3  brondell  Ultimate Electric Bidet Seat for Round Toilets... 2016-11-07   \n",
       "4  brondell  Ultimate Electric Bidet Seat for Round Toilets... 2016-11-07   \n",
       "\n",
       "                                                  질문       답변일자  \\\n",
       "0  Where does the outlet come from?  Right side, ... 2017-01-12   \n",
       "1  Where does the outlet come from?  Right side, ... 2016-11-30   \n",
       "2  Where does the outlet come from?  Right side, ... 2017-01-12   \n",
       "3  Where does the outlet come from?  Right side, ... 2016-11-08   \n",
       "4  Where does the outlet come from?  Right side, ... 2016-11-07   \n",
       "\n",
       "                                                  답변  \n",
       "0  I placed the outlet 6 inches   above and were ...  \n",
       "1  Outlet can be either on the left or right as l...  \n",
       "2                                         Right side  \n",
       "3  The power cord comes straight out of the back ...  \n",
       "4  Hello,This particular model has the power cord...  "
      ]
     },
     "execution_count": 23,
     "metadata": {},
     "output_type": "execute_result"
    }
   ],
   "source": [
    "hd_qna = hd_qna[['회사명', '제품명', '질문일자', '질문', '답변일자', '답변']]\n",
    "hd_qna.head()"
   ]
  }
 ],
 "metadata": {
  "kernelspec": {
   "display_name": "Python 3 (ipykernel)",
   "language": "python",
   "name": "python3"
  },
  "language_info": {
   "codemirror_mode": {
    "name": "ipython",
    "version": 3
   },
   "file_extension": ".py",
   "mimetype": "text/x-python",
   "name": "python",
   "nbconvert_exporter": "python",
   "pygments_lexer": "ipython3",
   "version": "3.9.13"
  },
  "toc": {
   "base_numbering": 1,
   "nav_menu": {},
   "number_sections": true,
   "sideBar": true,
   "skip_h1_title": false,
   "title_cell": "Table of Contents",
   "title_sidebar": "Contents",
   "toc_cell": false,
   "toc_position": {
    "height": "calc(100% - 180px)",
    "left": "10px",
    "top": "150px",
    "width": "188.958px"
   },
   "toc_section_display": true,
   "toc_window_display": true
  }
 },
 "nbformat": 4,
 "nbformat_minor": 5
}
