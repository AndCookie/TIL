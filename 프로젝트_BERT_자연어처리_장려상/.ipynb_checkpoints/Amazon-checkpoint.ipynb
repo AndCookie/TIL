{
 "cells": [
  {
   "cell_type": "markdown",
   "id": "ab30f8aa",
   "metadata": {},
   "source": [
    "# 파일 불러오기"
   ]
  },
  {
   "cell_type": "code",
   "execution_count": 189,
   "id": "3b1e9eec",
   "metadata": {},
   "outputs": [],
   "source": [
    "import numpy as np\n",
    "import pandas as pd"
   ]
  },
  {
   "cell_type": "code",
   "execution_count": 190,
   "id": "7bfc52b8",
   "metadata": {},
   "outputs": [
    {
     "data": {
      "text/html": [
       "<div>\n",
       "<style scoped>\n",
       "    .dataframe tbody tr th:only-of-type {\n",
       "        vertical-align: middle;\n",
       "    }\n",
       "\n",
       "    .dataframe tbody tr th {\n",
       "        vertical-align: top;\n",
       "    }\n",
       "\n",
       "    .dataframe thead th {\n",
       "        text-align: right;\n",
       "    }\n",
       "</style>\n",
       "<table border=\"1\" class=\"dataframe\">\n",
       "  <thead>\n",
       "    <tr style=\"text-align: right;\">\n",
       "      <th></th>\n",
       "      <th>제품 한글명</th>\n",
       "      <th>제품 영문명</th>\n",
       "      <th>URL</th>\n",
       "    </tr>\n",
       "  </thead>\n",
       "  <tbody>\n",
       "    <tr>\n",
       "      <th>0</th>\n",
       "      <td>진라면(매운맛)</td>\n",
       "      <td>Ottogi Hot Jin Ramen Noodles, 4.23 Ounce (Pack...</td>\n",
       "      <td>https://www.amazon.com/Ottogi-Ramen-Noodles-4-...</td>\n",
       "    </tr>\n",
       "    <tr>\n",
       "      <th>1</th>\n",
       "      <td>진라면(순한맛)</td>\n",
       "      <td>Jin Ramen</td>\n",
       "      <td>https://www.amazon.com/Ottogi-Jin-Ramen/dp/B08...</td>\n",
       "    </tr>\n",
       "    <tr>\n",
       "      <th>2</th>\n",
       "      <td>진짬뽕</td>\n",
       "      <td>[OTTOGI] JIN Jjambbong- Korean Style Instant N...</td>\n",
       "      <td>Amazon.com: [OTTOGI] JIN Jjambbong- Korean Sty...</td>\n",
       "    </tr>\n",
       "    <tr>\n",
       "      <th>3</th>\n",
       "      <td>불닭볶음면1</td>\n",
       "      <td>Samyang Buldak Korean Hot Spicy Chicken Stir-F...</td>\n",
       "      <td>https://www.amazon.com/Samyang-Chicken-Roasted...</td>\n",
       "    </tr>\n",
       "    <tr>\n",
       "      <th>4</th>\n",
       "      <td>불닭볶음면2</td>\n",
       "      <td>New Samyang Ramen/Spicy Chicken Roasted Noodle...</td>\n",
       "      <td>https://www.amazon.com/Samyang-Ramen-Chicken-R...</td>\n",
       "    </tr>\n",
       "  </tbody>\n",
       "</table>\n",
       "</div>"
      ],
      "text/plain": [
       "     제품 한글명                                             제품 영문명  \\\n",
       "0  진라면(매운맛)  Ottogi Hot Jin Ramen Noodles, 4.23 Ounce (Pack...   \n",
       "1  진라면(순한맛)                                          Jin Ramen   \n",
       "2       진짬뽕  [OTTOGI] JIN Jjambbong- Korean Style Instant N...   \n",
       "3    불닭볶음면1  Samyang Buldak Korean Hot Spicy Chicken Stir-F...   \n",
       "4    불닭볶음면2  New Samyang Ramen/Spicy Chicken Roasted Noodle...   \n",
       "\n",
       "                                                 URL  \n",
       "0  https://www.amazon.com/Ottogi-Ramen-Noodles-4-...  \n",
       "1  https://www.amazon.com/Ottogi-Jin-Ramen/dp/B08...  \n",
       "2  Amazon.com: [OTTOGI] JIN Jjambbong- Korean Sty...  \n",
       "3  https://www.amazon.com/Samyang-Chicken-Roasted...  \n",
       "4  https://www.amazon.com/Samyang-Ramen-Chicken-R...  "
      ]
     },
     "execution_count": 190,
     "metadata": {},
     "output_type": "execute_result"
    }
   ],
   "source": [
    "urls_origin = pd.read_excel('URLS.xlsx')\n",
    "urls_origin.shape # (365,4)\n",
    "urls_origin.head()"
   ]
  },
  {
   "cell_type": "code",
   "execution_count": 192,
   "id": "290055a5",
   "metadata": {
    "scrolled": false
   },
   "outputs": [
    {
     "name": "stdout",
     "output_type": "stream",
     "text": [
      "(14712, 11)\n"
     ]
    },
    {
     "data": {
      "text/html": [
       "<div>\n",
       "<style scoped>\n",
       "    .dataframe tbody tr th:only-of-type {\n",
       "        vertical-align: middle;\n",
       "    }\n",
       "\n",
       "    .dataframe tbody tr th {\n",
       "        vertical-align: top;\n",
       "    }\n",
       "\n",
       "    .dataframe thead th {\n",
       "        text-align: right;\n",
       "    }\n",
       "</style>\n",
       "<table border=\"1\" class=\"dataframe\">\n",
       "  <thead>\n",
       "    <tr style=\"text-align: right;\">\n",
       "      <th></th>\n",
       "      <th>추출 날짜</th>\n",
       "      <th>수집채널</th>\n",
       "      <th>제품명</th>\n",
       "      <th>제품상세URL</th>\n",
       "      <th>작성자</th>\n",
       "      <th>작성일</th>\n",
       "      <th>별점</th>\n",
       "      <th>제목</th>\n",
       "      <th>본문</th>\n",
       "      <th>이미지URL</th>\n",
       "      <th>리뷰URL</th>\n",
       "    </tr>\n",
       "  </thead>\n",
       "  <tbody>\n",
       "    <tr>\n",
       "      <th>0</th>\n",
       "      <td>2023.03.10</td>\n",
       "      <td>Amazon(US)</td>\n",
       "      <td>Samyang 2X Spicy Hot Chicken Flavor Ramen_KORE...</td>\n",
       "      <td>https://www.amazon.com/Samyang-Chicken-Flavor-...</td>\n",
       "      <td>austin</td>\n",
       "      <td>2022.05.12</td>\n",
       "      <td>5</td>\n",
       "      <td>Pain</td>\n",
       "      <td>Every time I buy this ramen I think it's a goo...</td>\n",
       "      <td>NaN</td>\n",
       "      <td>http://www.amazon.co.com/product-reviews/B077F...</td>\n",
       "    </tr>\n",
       "    <tr>\n",
       "      <th>1</th>\n",
       "      <td>2023.03.10</td>\n",
       "      <td>Amazon(US)</td>\n",
       "      <td>Samyang 2X Spicy Hot Chicken Flavor Ramen_KORE...</td>\n",
       "      <td>https://www.amazon.com/Samyang-Chicken-Flavor-...</td>\n",
       "      <td>Dalton</td>\n",
       "      <td>2022.07.01</td>\n",
       "      <td>5</td>\n",
       "      <td>Not for the weak!!!</td>\n",
       "      <td>boy lemme tell you this is some of the spicies...</td>\n",
       "      <td>NaN</td>\n",
       "      <td>http://www.amazon.co.com/product-reviews/B077F...</td>\n",
       "    </tr>\n",
       "    <tr>\n",
       "      <th>2</th>\n",
       "      <td>2023.03.10</td>\n",
       "      <td>Amazon(US)</td>\n",
       "      <td>Samyang 2X Spicy Hot Chicken Flavor Ramen_KORE...</td>\n",
       "      <td>https://www.amazon.com/Samyang-Chicken-Flavor-...</td>\n",
       "      <td>Dasha D</td>\n",
       "      <td>2022.05.12</td>\n",
       "      <td>4</td>\n",
       "      <td>Very spicy</td>\n",
       "      <td>I added half a packet to my ramen and my lips ...</td>\n",
       "      <td>NaN</td>\n",
       "      <td>http://www.amazon.co.com/product-reviews/B077F...</td>\n",
       "    </tr>\n",
       "    <tr>\n",
       "      <th>3</th>\n",
       "      <td>2023.03.10</td>\n",
       "      <td>Amazon(US)</td>\n",
       "      <td>Samyang 2X Spicy Hot Chicken Flavor Ramen_KORE...</td>\n",
       "      <td>https://www.amazon.com/Samyang-Chicken-Flavor-...</td>\n",
       "      <td>Trizzy Johnson</td>\n",
       "      <td>2022.06.05</td>\n",
       "      <td>4</td>\n",
       "      <td>Very spicy, daughter loves it. enjoy</td>\n",
       "      <td>According to my daughter they are perfectly sp...</td>\n",
       "      <td>NaN</td>\n",
       "      <td>http://www.amazon.co.com/product-reviews/B077F...</td>\n",
       "    </tr>\n",
       "    <tr>\n",
       "      <th>4</th>\n",
       "      <td>2023.03.10</td>\n",
       "      <td>Amazon(US)</td>\n",
       "      <td>Samyang 2X Spicy Hot Chicken Flavor Ramen_KORE...</td>\n",
       "      <td>https://www.amazon.com/Samyang-Chicken-Flavor-...</td>\n",
       "      <td>ribfibin</td>\n",
       "      <td>2022.05.14</td>\n",
       "      <td>5</td>\n",
       "      <td>Too sweet</td>\n",
       "      <td>Has a sweet flavor.</td>\n",
       "      <td>NaN</td>\n",
       "      <td>http://www.amazon.co.com/product-reviews/B077F...</td>\n",
       "    </tr>\n",
       "  </tbody>\n",
       "</table>\n",
       "</div>"
      ],
      "text/plain": [
       "        추출 날짜        수집채널                                                제품명  \\\n",
       "0  2023.03.10  Amazon(US)  Samyang 2X Spicy Hot Chicken Flavor Ramen_KORE...   \n",
       "1  2023.03.10  Amazon(US)  Samyang 2X Spicy Hot Chicken Flavor Ramen_KORE...   \n",
       "2  2023.03.10  Amazon(US)  Samyang 2X Spicy Hot Chicken Flavor Ramen_KORE...   \n",
       "3  2023.03.10  Amazon(US)  Samyang 2X Spicy Hot Chicken Flavor Ramen_KORE...   \n",
       "4  2023.03.10  Amazon(US)  Samyang 2X Spicy Hot Chicken Flavor Ramen_KORE...   \n",
       "\n",
       "                                             제품상세URL             작성자  \\\n",
       "0  https://www.amazon.com/Samyang-Chicken-Flavor-...          austin   \n",
       "1  https://www.amazon.com/Samyang-Chicken-Flavor-...          Dalton   \n",
       "2  https://www.amazon.com/Samyang-Chicken-Flavor-...         Dasha D   \n",
       "3  https://www.amazon.com/Samyang-Chicken-Flavor-...  Trizzy Johnson   \n",
       "4  https://www.amazon.com/Samyang-Chicken-Flavor-...        ribfibin   \n",
       "\n",
       "          작성일  별점                                    제목  \\\n",
       "0  2022.05.12   5                                  Pain   \n",
       "1  2022.07.01   5                   Not for the weak!!!   \n",
       "2  2022.05.12   4                            Very spicy   \n",
       "3  2022.06.05   4  Very spicy, daughter loves it. enjoy   \n",
       "4  2022.05.14   5                             Too sweet   \n",
       "\n",
       "                                                  본문 이미지URL  \\\n",
       "0  Every time I buy this ramen I think it's a goo...    NaN   \n",
       "1  boy lemme tell you this is some of the spicies...    NaN   \n",
       "2  I added half a packet to my ramen and my lips ...    NaN   \n",
       "3  According to my daughter they are perfectly sp...    NaN   \n",
       "4                                Has a sweet flavor.    NaN   \n",
       "\n",
       "                                               리뷰URL  \n",
       "0  http://www.amazon.co.com/product-reviews/B077F...  \n",
       "1  http://www.amazon.co.com/product-reviews/B077F...  \n",
       "2  http://www.amazon.co.com/product-reviews/B077F...  \n",
       "3  http://www.amazon.co.com/product-reviews/B077F...  \n",
       "4  http://www.amazon.co.com/product-reviews/B077F...  "
      ]
     },
     "execution_count": 192,
     "metadata": {},
     "output_type": "execute_result"
    }
   ],
   "source": [
    "amazon_origin = pd.read_excel('Amazon_Ramen.xlsx')\n",
    "print(amazon_origin.shape) # (14712, 11)\n",
    "amazon_origin.head()"
   ]
  },
  {
   "cell_type": "code",
   "execution_count": 193,
   "id": "581e1b88",
   "metadata": {
    "scrolled": false
   },
   "outputs": [
    {
     "name": "stdout",
     "output_type": "stream",
     "text": [
      "(17800, 11)\n"
     ]
    },
    {
     "data": {
      "text/html": [
       "<div>\n",
       "<style scoped>\n",
       "    .dataframe tbody tr th:only-of-type {\n",
       "        vertical-align: middle;\n",
       "    }\n",
       "\n",
       "    .dataframe tbody tr th {\n",
       "        vertical-align: top;\n",
       "    }\n",
       "\n",
       "    .dataframe thead th {\n",
       "        text-align: right;\n",
       "    }\n",
       "</style>\n",
       "<table border=\"1\" class=\"dataframe\">\n",
       "  <thead>\n",
       "    <tr style=\"text-align: right;\">\n",
       "      <th></th>\n",
       "      <th>추출 날짜</th>\n",
       "      <th>수집채널</th>\n",
       "      <th>제품명</th>\n",
       "      <th>제품상세URL</th>\n",
       "      <th>작성자</th>\n",
       "      <th>작성일</th>\n",
       "      <th>별점</th>\n",
       "      <th>제목</th>\n",
       "      <th>본문</th>\n",
       "      <th>이미지URL</th>\n",
       "      <th>리뷰URL</th>\n",
       "    </tr>\n",
       "  </thead>\n",
       "  <tbody>\n",
       "    <tr>\n",
       "      <th>0</th>\n",
       "      <td>2023.03.10</td>\n",
       "      <td>Amazon(US)</td>\n",
       "      <td>Nongshim Noodle Soup, Ansung Tang Myun, 4.4 Ou...</td>\n",
       "      <td>https://www.amazon.com/NongShim-Noodle-Soup-An...</td>\n",
       "      <td>sjcsjc</td>\n",
       "      <td>2020.04.15</td>\n",
       "      <td>5</td>\n",
       "      <td>good~</td>\n",
       "      <td>As good as usual!</td>\n",
       "      <td>NaN</td>\n",
       "      <td>http://www.amazon.co.com/product-reviews/B077V...</td>\n",
       "    </tr>\n",
       "    <tr>\n",
       "      <th>1</th>\n",
       "      <td>2023.03.10</td>\n",
       "      <td>Amazon(US)</td>\n",
       "      <td>Nongshim Noodle Soup, Ansung Tang Myun, 4.4 Ou...</td>\n",
       "      <td>https://www.amazon.com/NongShim-Noodle-Soup-An...</td>\n",
       "      <td>MissCL</td>\n",
       "      <td>2020.04.29</td>\n",
       "      <td>5</td>\n",
       "      <td>New fav?</td>\n",
       "      <td>Reached out to the vendor (product ships strai...</td>\n",
       "      <td>NaN</td>\n",
       "      <td>http://www.amazon.co.com/product-reviews/B077V...</td>\n",
       "    </tr>\n",
       "    <tr>\n",
       "      <th>2</th>\n",
       "      <td>2023.03.10</td>\n",
       "      <td>Amazon(US)</td>\n",
       "      <td>Nongshim Bowl Noodle Soup, Spicy Kimchi Flavor...</td>\n",
       "      <td>https://www.amazon.com/NongShim-Bowl-Noodle-Ki...</td>\n",
       "      <td>NY NY NY</td>\n",
       "      <td>2014.01.18</td>\n",
       "      <td>5</td>\n",
       "      <td>Simply the best instant noodle that can be pre...</td>\n",
       "      <td>I have tried many different instant noodle tha...</td>\n",
       "      <td>NaN</td>\n",
       "      <td>http://www.amazon.co.com/product-reviews/B0054...</td>\n",
       "    </tr>\n",
       "    <tr>\n",
       "      <th>3</th>\n",
       "      <td>2023.03.10</td>\n",
       "      <td>Amazon(US)</td>\n",
       "      <td>Nongshim Bowl Noodle Soup, Spicy Kimchi Flavor...</td>\n",
       "      <td>https://www.amazon.com/NongShim-Bowl-Noodle-Ki...</td>\n",
       "      <td>Silver Pearl</td>\n",
       "      <td>2014.01.22</td>\n",
       "      <td>1</td>\n",
       "      <td>tastes weird</td>\n",
       "      <td>very salty, and has a chemical after taste. I ...</td>\n",
       "      <td>NaN</td>\n",
       "      <td>http://www.amazon.co.com/product-reviews/B0054...</td>\n",
       "    </tr>\n",
       "    <tr>\n",
       "      <th>4</th>\n",
       "      <td>2023.03.10</td>\n",
       "      <td>Amazon(US)</td>\n",
       "      <td>Nongshim Bowl Noodle Soup, Spicy Kimchi Flavor...</td>\n",
       "      <td>https://www.amazon.com/NongShim-Bowl-Noodle-Ki...</td>\n",
       "      <td>Hossain</td>\n",
       "      <td>2014.01.28</td>\n",
       "      <td>2</td>\n",
       "      <td>Its Not Actually Vegetarian</td>\n",
       "      <td>For those whom care, if you are vegetarian or ...</td>\n",
       "      <td>NaN</td>\n",
       "      <td>http://www.amazon.co.com/product-reviews/B0054...</td>\n",
       "    </tr>\n",
       "  </tbody>\n",
       "</table>\n",
       "</div>"
      ],
      "text/plain": [
       "        추출 날짜        수집채널                                                제품명  \\\n",
       "0  2023.03.10  Amazon(US)  Nongshim Noodle Soup, Ansung Tang Myun, 4.4 Ou...   \n",
       "1  2023.03.10  Amazon(US)  Nongshim Noodle Soup, Ansung Tang Myun, 4.4 Ou...   \n",
       "2  2023.03.10  Amazon(US)  Nongshim Bowl Noodle Soup, Spicy Kimchi Flavor...   \n",
       "3  2023.03.10  Amazon(US)  Nongshim Bowl Noodle Soup, Spicy Kimchi Flavor...   \n",
       "4  2023.03.10  Amazon(US)  Nongshim Bowl Noodle Soup, Spicy Kimchi Flavor...   \n",
       "\n",
       "                                             제품상세URL           작성자  \\\n",
       "0  https://www.amazon.com/NongShim-Noodle-Soup-An...        sjcsjc   \n",
       "1  https://www.amazon.com/NongShim-Noodle-Soup-An...        MissCL   \n",
       "2  https://www.amazon.com/NongShim-Bowl-Noodle-Ki...      NY NY NY   \n",
       "3  https://www.amazon.com/NongShim-Bowl-Noodle-Ki...  Silver Pearl   \n",
       "4  https://www.amazon.com/NongShim-Bowl-Noodle-Ki...       Hossain   \n",
       "\n",
       "          작성일  별점                                                 제목  \\\n",
       "0  2020.04.15   5                                              good~   \n",
       "1  2020.04.29   5                                           New fav?   \n",
       "2  2014.01.18   5  Simply the best instant noodle that can be pre...   \n",
       "3  2014.01.22   1                                       tastes weird   \n",
       "4  2014.01.28   2                        Its Not Actually Vegetarian   \n",
       "\n",
       "                                                  본문 이미지URL  \\\n",
       "0                                  As good as usual!    NaN   \n",
       "1  Reached out to the vendor (product ships strai...    NaN   \n",
       "2  I have tried many different instant noodle tha...    NaN   \n",
       "3  very salty, and has a chemical after taste. I ...    NaN   \n",
       "4  For those whom care, if you are vegetarian or ...    NaN   \n",
       "\n",
       "                                               리뷰URL  \n",
       "0  http://www.amazon.co.com/product-reviews/B077V...  \n",
       "1  http://www.amazon.co.com/product-reviews/B077V...  \n",
       "2  http://www.amazon.co.com/product-reviews/B0054...  \n",
       "3  http://www.amazon.co.com/product-reviews/B0054...  \n",
       "4  http://www.amazon.co.com/product-reviews/B0054...  "
      ]
     },
     "execution_count": 193,
     "metadata": {},
     "output_type": "execute_result"
    }
   ],
   "source": [
    "amazon_origin22 = pd.read_excel('Amazon_Ramen22.xlsx')\n",
    "print(amazon_origin22.shape) # (17800, 11)\n",
    "amazon_origin22.head()"
   ]
  },
  {
   "cell_type": "code",
   "execution_count": 194,
   "id": "833750aa",
   "metadata": {},
   "outputs": [
    {
     "name": "stdout",
     "output_type": "stream",
     "text": [
      "<class 'pandas.core.frame.DataFrame'>\n",
      "RangeIndex: 58 entries, 0 to 57\n",
      "Data columns (total 3 columns):\n",
      " #   Column  Non-Null Count  Dtype \n",
      "---  ------  --------------  ----- \n",
      " 0   제품 한글명  58 non-null     object\n",
      " 1   제품 영문명  58 non-null     object\n",
      " 2   URL     58 non-null     object\n",
      "dtypes: object(3)\n",
      "memory usage: 1.5+ KB\n"
     ]
    }
   ],
   "source": [
    "# 카피본 떠놓고 시작하기\n",
    "urls = urls_origin.copy()\n",
    "urls.info()"
   ]
  },
  {
   "cell_type": "code",
   "execution_count": 195,
   "id": "8dbaf13f",
   "metadata": {},
   "outputs": [
    {
     "name": "stdout",
     "output_type": "stream",
     "text": [
      "<class 'pandas.core.frame.DataFrame'>\n",
      "RangeIndex: 14712 entries, 0 to 14711\n",
      "Data columns (total 11 columns):\n",
      " #   Column   Non-Null Count  Dtype \n",
      "---  ------   --------------  ----- \n",
      " 0   추출 날짜    14712 non-null  object\n",
      " 1   수집채널     14712 non-null  object\n",
      " 2   제품명      14712 non-null  object\n",
      " 3   제품상세URL  14712 non-null  object\n",
      " 4   작성자      14711 non-null  object\n",
      " 5   작성일      14712 non-null  object\n",
      " 6   별점       14712 non-null  int64 \n",
      " 7   제목       13643 non-null  object\n",
      " 8   본문       14698 non-null  object\n",
      " 9   이미지URL   13 non-null     object\n",
      " 10  리뷰URL    14712 non-null  object\n",
      "dtypes: int64(1), object(10)\n",
      "memory usage: 1.2+ MB\n"
     ]
    }
   ],
   "source": [
    "# 카피본 떠놓고 시작하기\n",
    "amazon = amazon_origin.copy()\n",
    "amazon.info()"
   ]
  },
  {
   "cell_type": "code",
   "execution_count": 196,
   "id": "ee07fa32",
   "metadata": {
    "scrolled": false
   },
   "outputs": [
    {
     "name": "stdout",
     "output_type": "stream",
     "text": [
      "<class 'pandas.core.frame.DataFrame'>\n",
      "RangeIndex: 17800 entries, 0 to 17799\n",
      "Data columns (total 11 columns):\n",
      " #   Column   Non-Null Count  Dtype \n",
      "---  ------   --------------  ----- \n",
      " 0   추출 날짜    17800 non-null  object\n",
      " 1   수집채널     17800 non-null  object\n",
      " 2   제품명      17800 non-null  object\n",
      " 3   제품상세URL  17800 non-null  object\n",
      " 4   작성자      17799 non-null  object\n",
      " 5   작성일      17800 non-null  object\n",
      " 6   별점       17800 non-null  int64 \n",
      " 7   제목       16679 non-null  object\n",
      " 8   본문       17781 non-null  object\n",
      " 9   이미지URL   15 non-null     object\n",
      " 10  리뷰URL    17800 non-null  object\n",
      "dtypes: int64(1), object(10)\n",
      "memory usage: 1.5+ MB\n"
     ]
    }
   ],
   "source": [
    "# 카피본 떠놓고 시작하기\n",
    "amazon22 = amazon_origin22.copy()\n",
    "amazon22.info()"
   ]
  },
  {
   "cell_type": "code",
   "execution_count": 200,
   "id": "edffa213",
   "metadata": {},
   "outputs": [
    {
     "data": {
      "text/plain": [
       "58"
      ]
     },
     "execution_count": 200,
     "metadata": {},
     "output_type": "execute_result"
    }
   ],
   "source": [
    "len(urls['제품 영문명'].unique())"
   ]
  },
  {
   "cell_type": "code",
   "execution_count": 198,
   "id": "388c9688",
   "metadata": {},
   "outputs": [
    {
     "data": {
      "text/plain": [
       "47"
      ]
     },
     "execution_count": 198,
     "metadata": {},
     "output_type": "execute_result"
    }
   ],
   "source": [
    "len(amazon['제품명'].unique())"
   ]
  },
  {
   "cell_type": "code",
   "execution_count": 202,
   "id": "c8aaf46f",
   "metadata": {},
   "outputs": [
    {
     "data": {
      "text/plain": [
       "54"
      ]
     },
     "execution_count": 202,
     "metadata": {},
     "output_type": "execute_result"
    }
   ],
   "source": [
    "len(amazon22['제품명'].unique())"
   ]
  },
  {
   "cell_type": "code",
   "execution_count": 203,
   "id": "ac3e487b",
   "metadata": {
    "scrolled": false
   },
   "outputs": [
    {
     "name": "stdout",
     "output_type": "stream",
     "text": [
      "[58, 974, 25, 4414, 2664, 2265, 130, 202, 120, 31, 419, 725, 180, 78, 34, 40, 35, 169, 13, 10, 340, 196, 26, 117, 20, 305, 220, 50, 22, 7, 30, 32, 65, 3, 179, 4, 323, 9]\n"
     ]
    }
   ],
   "source": [
    "review_cnt = []\n",
    "\n",
    "for rows in amazon['제품명'] :\n",
    "    for name in amazon['제품명'].unique() :\n",
    "        if rows == name :\n",
    "            cnt = len(amazon[amazon['제품명']==name])\n",
    "            if cnt not in review_cnt :\n",
    "                review_cnt.append(cnt)\n",
    "        else :\n",
    "            continue\n",
    "print(review_cnt)"
   ]
  },
  {
   "cell_type": "code",
   "execution_count": 204,
   "id": "e376c6f8",
   "metadata": {},
   "outputs": [
    {
     "name": "stdout",
     "output_type": "stream",
     "text": [
      "[23, 415, 940, 1042, 37, 564, 29, 90, 980, 25, 4414, 2664, 2265, 130, 202, 120, 31, 419, 725, 180, 78, 34, 40, 35, 169, 13, 10, 340, 196, 26, 117, 20, 305, 220, 50, 22, 7, 30, 32, 65, 3, 179, 4, 323, 9]\n"
     ]
    }
   ],
   "source": [
    "review_cnt22 = []\n",
    "\n",
    "for rows in amazon22['제품명'] :\n",
    "    for name in amazon22['제품명'].unique() :\n",
    "        if rows == name :\n",
    "            cnt = len(amazon22[amazon22['제품명']==name])\n",
    "            if cnt not in review_cnt22 :\n",
    "                review_cnt22.append(cnt)\n",
    "        else :\n",
    "            continue\n",
    "print(review_cnt22)"
   ]
  },
  {
   "cell_type": "code",
   "execution_count": 205,
   "id": "bd3ff465",
   "metadata": {
    "scrolled": true
   },
   "outputs": [
    {
     "data": {
      "text/html": [
       "<div>\n",
       "<style scoped>\n",
       "    .dataframe tbody tr th:only-of-type {\n",
       "        vertical-align: middle;\n",
       "    }\n",
       "\n",
       "    .dataframe tbody tr th {\n",
       "        vertical-align: top;\n",
       "    }\n",
       "\n",
       "    .dataframe thead th {\n",
       "        text-align: right;\n",
       "    }\n",
       "</style>\n",
       "<table border=\"1\" class=\"dataframe\">\n",
       "  <thead>\n",
       "    <tr style=\"text-align: right;\">\n",
       "      <th></th>\n",
       "      <th>제품 영문명</th>\n",
       "      <th>리뷰수1</th>\n",
       "    </tr>\n",
       "  </thead>\n",
       "  <tbody>\n",
       "    <tr>\n",
       "      <th>0</th>\n",
       "      <td>Samyang 2X Spicy Hot Chicken Flavor Ramen_KORE...</td>\n",
       "      <td>58.0</td>\n",
       "    </tr>\n",
       "    <tr>\n",
       "      <th>1</th>\n",
       "      <td>Samyang Buldak Korean Hot Spicy Chicken Stir-F...</td>\n",
       "      <td>974.0</td>\n",
       "    </tr>\n",
       "    <tr>\n",
       "      <th>2</th>\n",
       "      <td>Annie Chuns Korean Sweet Chili Noodle, 7.9 Oun...</td>\n",
       "      <td>25.0</td>\n",
       "    </tr>\n",
       "    <tr>\n",
       "      <th>3</th>\n",
       "      <td>Samyang Hot chicken stir fried ramen noodle, C...</td>\n",
       "      <td>4414.0</td>\n",
       "    </tr>\n",
       "    <tr>\n",
       "      <th>4</th>\n",
       "      <td>Nongshim Shin Original Ramyun, 4.2 Ounce (Pack...</td>\n",
       "      <td>2664.0</td>\n",
       "    </tr>\n",
       "    <tr>\n",
       "      <th>5</th>\n",
       "      <td>New Samyang Ramen/Spicy Chicken Roasted Noodle...</td>\n",
       "      <td>2265.0</td>\n",
       "    </tr>\n",
       "    <tr>\n",
       "      <th>6</th>\n",
       "      <td>Nongshim Tonkotsu Ramen with Kuromayu Noodle B...</td>\n",
       "      <td>130.0</td>\n",
       "    </tr>\n",
       "    <tr>\n",
       "      <th>7</th>\n",
       "      <td>Samyang Fire Hot Cheese Flavored Chicken Ramen...</td>\n",
       "      <td>202.0</td>\n",
       "    </tr>\n",
       "    <tr>\n",
       "      <th>8</th>\n",
       "      <td>2016 new Samyang Ramen / Spicy Chicken Roasted...</td>\n",
       "      <td>120.0</td>\n",
       "    </tr>\n",
       "    <tr>\n",
       "      <th>9</th>\n",
       "      <td>Nongshim Udon Premium Noodle Soup Original: 6 ...</td>\n",
       "      <td>31.0</td>\n",
       "    </tr>\n",
       "    <tr>\n",
       "      <th>10</th>\n",
       "      <td>Nongshim Soon Cup Noodle Soup, Veggie, 2.6 Oun...</td>\n",
       "      <td>419.0</td>\n",
       "    </tr>\n",
       "    <tr>\n",
       "      <th>11</th>\n",
       "      <td>Annie Chun's - Noodle Bowl, Thai-Style Peanut ...</td>\n",
       "      <td>725.0</td>\n",
       "    </tr>\n",
       "    <tr>\n",
       "      <th>12</th>\n",
       "      <td>Nongshim Shin Noodle Ramyun, Gourmet Spicy Pic...</td>\n",
       "      <td>180.0</td>\n",
       "    </tr>\n",
       "    <tr>\n",
       "      <th>13</th>\n",
       "      <td>Nongshim Chapagetti Chajang Noodle, 4.5 Ounce ...</td>\n",
       "      <td>78.0</td>\n",
       "    </tr>\n",
       "    <tr>\n",
       "      <th>14</th>\n",
       "      <td>Nongshim Shin Bowl Noodle, Gourmet Spicy Pican...</td>\n",
       "      <td>34.0</td>\n",
       "    </tr>\n",
       "    <tr>\n",
       "      <th>15</th>\n",
       "      <td>Nongshim Bowl Noodle Soup, Beef, 3.03 Ounce (P...</td>\n",
       "      <td>40.0</td>\n",
       "    </tr>\n",
       "    <tr>\n",
       "      <th>16</th>\n",
       "      <td>Annie Chun's Brown Rice Noodles, Maifun | Vega...</td>\n",
       "      <td>35.0</td>\n",
       "    </tr>\n",
       "    <tr>\n",
       "      <th>17</th>\n",
       "      <td>Annie Chun's - Noodle Soup Bowl, Japanese-Styl...</td>\n",
       "      <td>169.0</td>\n",
       "    </tr>\n",
       "    <tr>\n",
       "      <th>18</th>\n",
       "      <td>Soon Cup Noodle Soup, Veggie, 15.84 Oz, Pack of 6</td>\n",
       "      <td>13.0</td>\n",
       "    </tr>\n",
       "    <tr>\n",
       "      <th>19</th>\n",
       "      <td>Nongshim Hot &amp; Spicy Bowl Noodle Soup (3.03 oz...</td>\n",
       "      <td>10.0</td>\n",
       "    </tr>\n",
       "    <tr>\n",
       "      <th>20</th>\n",
       "      <td>Nongshim Soon Veggie Noodle Soup, 3.95 Ounce (...</td>\n",
       "      <td>340.0</td>\n",
       "    </tr>\n",
       "    <tr>\n",
       "      <th>21</th>\n",
       "      <td>Annie Chun's Pad Thai Brown Rice Noodles, Non ...</td>\n",
       "      <td>196.0</td>\n",
       "    </tr>\n",
       "    <tr>\n",
       "      <th>22</th>\n",
       "      <td>Paldo Hwa Ramyun - with Soy Peptide, Hot &amp; Spi...</td>\n",
       "      <td>26.0</td>\n",
       "    </tr>\n",
       "    <tr>\n",
       "      <th>23</th>\n",
       "      <td>Annie Chun's - Noodle Soup Bowl, Japanese Styl...</td>\n",
       "      <td>117.0</td>\n",
       "    </tr>\n",
       "    <tr>\n",
       "      <th>24</th>\n",
       "      <td>Nongshim Soon Cup Noodle Soup, Veggie, 2.6 Oun...</td>\n",
       "      <td>20.0</td>\n",
       "    </tr>\n",
       "    <tr>\n",
       "      <th>25</th>\n",
       "      <td>Nongshim Shin Black Premium Noodle Soup, 3.56 ...</td>\n",
       "      <td>305.0</td>\n",
       "    </tr>\n",
       "    <tr>\n",
       "      <th>26</th>\n",
       "      <td>Nongshim Bowl Noodle Soup, Spicy Chicken, 3.03...</td>\n",
       "      <td>220.0</td>\n",
       "    </tr>\n",
       "    <tr>\n",
       "      <th>27</th>\n",
       "      <td>Nongshim Shin Black Noodle Soup, Spicy, 3.5 Ou...</td>\n",
       "      <td>50.0</td>\n",
       "    </tr>\n",
       "    <tr>\n",
       "      <th>28</th>\n",
       "      <td>Samyang Hot Chicken Buldak Corn Flavor Ramen K...</td>\n",
       "      <td>22.0</td>\n",
       "    </tr>\n",
       "    <tr>\n",
       "      <th>29</th>\n",
       "      <td>Samyang Ramen Korean Noodle Soup, 4.23 oz (Pac...</td>\n",
       "      <td>7.0</td>\n",
       "    </tr>\n",
       "    <tr>\n",
       "      <th>30</th>\n",
       "      <td>Samyang Ramen Noodle Soup, 21.50-Ounce Units (...</td>\n",
       "      <td>30.0</td>\n",
       "    </tr>\n",
       "    <tr>\n",
       "      <th>31</th>\n",
       "      <td>Annie Chun's Rice Noodles, Maifun, Vegan, Glut...</td>\n",
       "      <td>32.0</td>\n",
       "    </tr>\n",
       "    <tr>\n",
       "      <th>32</th>\n",
       "      <td>[Nongshim] Shin Ramyun Non-Frying (dried noodl...</td>\n",
       "      <td>65.0</td>\n",
       "    </tr>\n",
       "    <tr>\n",
       "      <th>33</th>\n",
       "      <td>Nong Shim Shin Ramyun Noodle Soup, Gourmet Spi...</td>\n",
       "      <td>3.0</td>\n",
       "    </tr>\n",
       "    <tr>\n",
       "      <th>34</th>\n",
       "      <td>Annie Chun's Soup Bowl, Japanese Style Shoyu R...</td>\n",
       "      <td>179.0</td>\n",
       "    </tr>\n",
       "    <tr>\n",
       "      <th>35</th>\n",
       "      <td>Paldo Fun &amp; Yum Instant Cup Noodle Soup Bowl w...</td>\n",
       "      <td>4.0</td>\n",
       "    </tr>\n",
       "    <tr>\n",
       "      <th>36</th>\n",
       "      <td>(PACK OF 3) Samyang Hot Chicken Flavor Ramen B...</td>\n",
       "      <td>323.0</td>\n",
       "    </tr>\n",
       "    <tr>\n",
       "      <th>37</th>\n",
       "      <td>Annie Chun's Korean Spicy Ramen, Vegan, Non-GM...</td>\n",
       "      <td>9.0</td>\n",
       "    </tr>\n",
       "    <tr>\n",
       "      <th>38</th>\n",
       "      <td>Annie Chun's Yakisoba Noodle Bowl, Non-GMO, 7....</td>\n",
       "      <td>NaN</td>\n",
       "    </tr>\n",
       "    <tr>\n",
       "      <th>39</th>\n",
       "      <td>Nongshim Fresh Udon Bowl Noodle Soup 9.73 oz.</td>\n",
       "      <td>NaN</td>\n",
       "    </tr>\n",
       "    <tr>\n",
       "      <th>40</th>\n",
       "      <td>Fusion Select 2016 new Samyang Ramen / Spicy C...</td>\n",
       "      <td>NaN</td>\n",
       "    </tr>\n",
       "    <tr>\n",
       "      <th>41</th>\n",
       "      <td>Jin Ramen</td>\n",
       "      <td>NaN</td>\n",
       "    </tr>\n",
       "    <tr>\n",
       "      <th>42</th>\n",
       "      <td>Nongshim Shin Ramen/Ramyun Black - Premium Noo...</td>\n",
       "      <td>NaN</td>\n",
       "    </tr>\n",
       "    <tr>\n",
       "      <th>43</th>\n",
       "      <td>Samyang Spicy Chicken Stir Fried Noodle Cup (2...</td>\n",
       "      <td>NaN</td>\n",
       "    </tr>\n",
       "    <tr>\n",
       "      <th>44</th>\n",
       "      <td>Nongshim Shin Ramyun Vegan, 2.64 Ounce, Pack of 6</td>\n",
       "      <td>NaN</td>\n",
       "    </tr>\n",
       "    <tr>\n",
       "      <th>45</th>\n",
       "      <td>Nongshim Bowl Noodle Instant Noodle Soup Hot&amp;s...</td>\n",
       "      <td>NaN</td>\n",
       "    </tr>\n",
       "    <tr>\n",
       "      <th>46</th>\n",
       "      <td>[OTTOGI] JIN Jjambbong- Korean Style Instant N...</td>\n",
       "      <td>NaN</td>\n",
       "    </tr>\n",
       "  </tbody>\n",
       "</table>\n",
       "</div>"
      ],
      "text/plain": [
       "                                               제품 영문명    리뷰수1\n",
       "0   Samyang 2X Spicy Hot Chicken Flavor Ramen_KORE...    58.0\n",
       "1   Samyang Buldak Korean Hot Spicy Chicken Stir-F...   974.0\n",
       "2   Annie Chuns Korean Sweet Chili Noodle, 7.9 Oun...    25.0\n",
       "3   Samyang Hot chicken stir fried ramen noodle, C...  4414.0\n",
       "4   Nongshim Shin Original Ramyun, 4.2 Ounce (Pack...  2664.0\n",
       "5   New Samyang Ramen/Spicy Chicken Roasted Noodle...  2265.0\n",
       "6   Nongshim Tonkotsu Ramen with Kuromayu Noodle B...   130.0\n",
       "7   Samyang Fire Hot Cheese Flavored Chicken Ramen...   202.0\n",
       "8   2016 new Samyang Ramen / Spicy Chicken Roasted...   120.0\n",
       "9   Nongshim Udon Premium Noodle Soup Original: 6 ...    31.0\n",
       "10  Nongshim Soon Cup Noodle Soup, Veggie, 2.6 Oun...   419.0\n",
       "11  Annie Chun's - Noodle Bowl, Thai-Style Peanut ...   725.0\n",
       "12  Nongshim Shin Noodle Ramyun, Gourmet Spicy Pic...   180.0\n",
       "13  Nongshim Chapagetti Chajang Noodle, 4.5 Ounce ...    78.0\n",
       "14  Nongshim Shin Bowl Noodle, Gourmet Spicy Pican...    34.0\n",
       "15  Nongshim Bowl Noodle Soup, Beef, 3.03 Ounce (P...    40.0\n",
       "16  Annie Chun's Brown Rice Noodles, Maifun | Vega...    35.0\n",
       "17  Annie Chun's - Noodle Soup Bowl, Japanese-Styl...   169.0\n",
       "18  Soon Cup Noodle Soup, Veggie, 15.84 Oz, Pack of 6    13.0\n",
       "19  Nongshim Hot & Spicy Bowl Noodle Soup (3.03 oz...    10.0\n",
       "20  Nongshim Soon Veggie Noodle Soup, 3.95 Ounce (...   340.0\n",
       "21  Annie Chun's Pad Thai Brown Rice Noodles, Non ...   196.0\n",
       "22  Paldo Hwa Ramyun - with Soy Peptide, Hot & Spi...    26.0\n",
       "23  Annie Chun's - Noodle Soup Bowl, Japanese Styl...   117.0\n",
       "24  Nongshim Soon Cup Noodle Soup, Veggie, 2.6 Oun...    20.0\n",
       "25  Nongshim Shin Black Premium Noodle Soup, 3.56 ...   305.0\n",
       "26  Nongshim Bowl Noodle Soup, Spicy Chicken, 3.03...   220.0\n",
       "27  Nongshim Shin Black Noodle Soup, Spicy, 3.5 Ou...    50.0\n",
       "28  Samyang Hot Chicken Buldak Corn Flavor Ramen K...    22.0\n",
       "29  Samyang Ramen Korean Noodle Soup, 4.23 oz (Pac...     7.0\n",
       "30  Samyang Ramen Noodle Soup, 21.50-Ounce Units (...    30.0\n",
       "31  Annie Chun's Rice Noodles, Maifun, Vegan, Glut...    32.0\n",
       "32  [Nongshim] Shin Ramyun Non-Frying (dried noodl...    65.0\n",
       "33  Nong Shim Shin Ramyun Noodle Soup, Gourmet Spi...     3.0\n",
       "34  Annie Chun's Soup Bowl, Japanese Style Shoyu R...   179.0\n",
       "35  Paldo Fun & Yum Instant Cup Noodle Soup Bowl w...     4.0\n",
       "36  (PACK OF 3) Samyang Hot Chicken Flavor Ramen B...   323.0\n",
       "37  Annie Chun's Korean Spicy Ramen, Vegan, Non-GM...     9.0\n",
       "38  Annie Chun's Yakisoba Noodle Bowl, Non-GMO, 7....     NaN\n",
       "39      Nongshim Fresh Udon Bowl Noodle Soup 9.73 oz.     NaN\n",
       "40  Fusion Select 2016 new Samyang Ramen / Spicy C...     NaN\n",
       "41                                          Jin Ramen     NaN\n",
       "42  Nongshim Shin Ramen/Ramyun Black - Premium Noo...     NaN\n",
       "43  Samyang Spicy Chicken Stir Fried Noodle Cup (2...     NaN\n",
       "44  Nongshim Shin Ramyun Vegan, 2.64 Ounce, Pack of 6     NaN\n",
       "45  Nongshim Bowl Noodle Instant Noodle Soup Hot&s...     NaN\n",
       "46  [OTTOGI] JIN Jjambbong- Korean Style Instant N...     NaN"
      ]
     },
     "execution_count": 205,
     "metadata": {},
     "output_type": "execute_result"
    }
   ],
   "source": [
    "sr1 = pd.DataFrame(amazon['제품명'].unique())\n",
    "sr2 = pd.DataFrame(review_cnt)\n",
    "df1 = pd.concat([sr1, sr2], axis=1)\n",
    "df1.columns = ['제품 영문명', '리뷰수1']\n",
    "df1"
   ]
  },
  {
   "cell_type": "code",
   "execution_count": 206,
   "id": "59d48357",
   "metadata": {
    "scrolled": true
   },
   "outputs": [
    {
     "data": {
      "text/html": [
       "<div>\n",
       "<style scoped>\n",
       "    .dataframe tbody tr th:only-of-type {\n",
       "        vertical-align: middle;\n",
       "    }\n",
       "\n",
       "    .dataframe tbody tr th {\n",
       "        vertical-align: top;\n",
       "    }\n",
       "\n",
       "    .dataframe thead th {\n",
       "        text-align: right;\n",
       "    }\n",
       "</style>\n",
       "<table border=\"1\" class=\"dataframe\">\n",
       "  <thead>\n",
       "    <tr style=\"text-align: right;\">\n",
       "      <th></th>\n",
       "      <th>제품 한글명</th>\n",
       "      <th>제품 영문명</th>\n",
       "      <th>URL</th>\n",
       "      <th>리뷰수1</th>\n",
       "    </tr>\n",
       "  </thead>\n",
       "  <tbody>\n",
       "    <tr>\n",
       "      <th>0</th>\n",
       "      <td>진라면(순한맛)</td>\n",
       "      <td>Jin Ramen</td>\n",
       "      <td>https://www.amazon.com/Ottogi-Jin-Ramen/dp/B08...</td>\n",
       "      <td>NaN</td>\n",
       "    </tr>\n",
       "    <tr>\n",
       "      <th>1</th>\n",
       "      <td>진짬뽕</td>\n",
       "      <td>[OTTOGI] JIN Jjambbong- Korean Style Instant N...</td>\n",
       "      <td>Amazon.com: [OTTOGI] JIN Jjambbong- Korean Sty...</td>\n",
       "      <td>NaN</td>\n",
       "    </tr>\n",
       "    <tr>\n",
       "      <th>2</th>\n",
       "      <td>불닭볶음면1</td>\n",
       "      <td>Samyang Buldak Korean Hot Spicy Chicken Stir-F...</td>\n",
       "      <td>https://www.amazon.com/Samyang-Chicken-Roasted...</td>\n",
       "      <td>974.0</td>\n",
       "    </tr>\n",
       "    <tr>\n",
       "      <th>3</th>\n",
       "      <td>불닭볶음면2</td>\n",
       "      <td>New Samyang Ramen/Spicy Chicken Roasted Noodle...</td>\n",
       "      <td>https://www.amazon.com/Samyang-Ramen-Chicken-R...</td>\n",
       "      <td>2265.0</td>\n",
       "    </tr>\n",
       "    <tr>\n",
       "      <th>4</th>\n",
       "      <td>까르보 불닭볶음면</td>\n",
       "      <td>Samyang Hot chicken stir fried ramen noodle, C...</td>\n",
       "      <td>https://www.amazon.com/Samyang-Carbo-Spicy-chi...</td>\n",
       "      <td>4414.0</td>\n",
       "    </tr>\n",
       "    <tr>\n",
       "      <th>5</th>\n",
       "      <td>치즈 불닭볶음면1</td>\n",
       "      <td>Samyang Fire Hot Cheese Flavored Chicken Ramen...</td>\n",
       "      <td>https://www.amazon.com/Samyang-Cheese-Flavored...</td>\n",
       "      <td>202.0</td>\n",
       "    </tr>\n",
       "    <tr>\n",
       "      <th>6</th>\n",
       "      <td>치즈 불닭볶음면2</td>\n",
       "      <td>2016 new Samyang Ramen / Spicy Chicken Roasted...</td>\n",
       "      <td>https://www.amazon.com/Samyang-Chicken-Roasted...</td>\n",
       "      <td>120.0</td>\n",
       "    </tr>\n",
       "    <tr>\n",
       "      <th>7</th>\n",
       "      <td>치즈 불닭볶음면3</td>\n",
       "      <td>Fusion Select 2016 new Samyang Ramen / Spicy C...</td>\n",
       "      <td>https://www.amazon.com/Fusion-Samyang-Chicken-...</td>\n",
       "      <td>NaN</td>\n",
       "    </tr>\n",
       "    <tr>\n",
       "      <th>8</th>\n",
       "      <td>핵 불닭볶음면</td>\n",
       "      <td>Samyang 2X Spicy Hot Chicken Flavor Ramen_KORE...</td>\n",
       "      <td>https://www.amazon.com/Samyang-Chicken-Flavor-...</td>\n",
       "      <td>58.0</td>\n",
       "    </tr>\n",
       "    <tr>\n",
       "      <th>9</th>\n",
       "      <td>콘 불닭볶음면</td>\n",
       "      <td>Samyang Hot Chicken Buldak Corn Flavor Ramen K...</td>\n",
       "      <td>https://www.amazon.com/Samyang-Chicken-Buldak-...</td>\n",
       "      <td>22.0</td>\n",
       "    </tr>\n",
       "    <tr>\n",
       "      <th>10</th>\n",
       "      <td>삼양라면1</td>\n",
       "      <td>Samyang Ramen Noodle Soup, 21.50-Ounce Units (...</td>\n",
       "      <td>https://www.amazon.com/Samyang-Ramen-Noodle-21...</td>\n",
       "      <td>30.0</td>\n",
       "    </tr>\n",
       "    <tr>\n",
       "      <th>11</th>\n",
       "      <td>삼양라면2</td>\n",
       "      <td>Samyang Ramen Korean Noodle Soup, 4.23 oz (Pac...</td>\n",
       "      <td>https://www.amazon.com/Samyang-Ramen-Korean-No...</td>\n",
       "      <td>7.0</td>\n",
       "    </tr>\n",
       "    <tr>\n",
       "      <th>12</th>\n",
       "      <td>순라면</td>\n",
       "      <td>Nongshim Soon Veggie Noodle Soup, 3.95 Ounce (...</td>\n",
       "      <td>https://www.amazon.com/NongShim-Soon-Noodle-Ve...</td>\n",
       "      <td>340.0</td>\n",
       "    </tr>\n",
       "    <tr>\n",
       "      <th>13</th>\n",
       "      <td>신라면1</td>\n",
       "      <td>Nongshim Shin Original Ramyun, 4.2 Ounce (Pack...</td>\n",
       "      <td>https://www.amazon.com/NongShim-Ramyun-Noodle-...</td>\n",
       "      <td>2664.0</td>\n",
       "    </tr>\n",
       "    <tr>\n",
       "      <th>14</th>\n",
       "      <td>신라면2</td>\n",
       "      <td>Nong Shim Shin Ramyun Noodle Soup, Gourmet Spi...</td>\n",
       "      <td>https://www.amazon.com/Nong-Shim-Ramyun-Gourme...</td>\n",
       "      <td>3.0</td>\n",
       "    </tr>\n",
       "    <tr>\n",
       "      <th>15</th>\n",
       "      <td>신라면3</td>\n",
       "      <td>Nongshim Shin Noodle Ramyun, Gourmet Spicy Pic...</td>\n",
       "      <td>https://www.amazon.com/Nongshim-Gourmet-Picant...</td>\n",
       "      <td>180.0</td>\n",
       "    </tr>\n",
       "    <tr>\n",
       "      <th>16</th>\n",
       "      <td>신라면 건면</td>\n",
       "      <td>[Nongshim] Shin Ramyun Non-Frying (dried noodl...</td>\n",
       "      <td>https://www.amazon.com/Nongshim-Non-Frying-noo...</td>\n",
       "      <td>65.0</td>\n",
       "    </tr>\n",
       "    <tr>\n",
       "      <th>17</th>\n",
       "      <td>신라면 블랙2</td>\n",
       "      <td>Nongshim Shin Ramen/Ramyun Black - Premium Noo...</td>\n",
       "      <td>https://www.amazon.com/Nongshim-Shin-Ramen-Ram...</td>\n",
       "      <td>NaN</td>\n",
       "    </tr>\n",
       "    <tr>\n",
       "      <th>18</th>\n",
       "      <td>짜파게티</td>\n",
       "      <td>Nongshim Chapagetti Chajang Noodle, 4.5 Ounce ...</td>\n",
       "      <td>https://www.amazon.com/Nongshim-Chapagetti-Cha...</td>\n",
       "      <td>78.0</td>\n",
       "    </tr>\n",
       "    <tr>\n",
       "      <th>19</th>\n",
       "      <td>팔도 화라면</td>\n",
       "      <td>Paldo Hwa Ramyun - with Soy Peptide, Hot &amp; Spi...</td>\n",
       "      <td>https://www.amazon.com/Paldo-Hwa-Ramyun-Peptid...</td>\n",
       "      <td>26.0</td>\n",
       "    </tr>\n",
       "    <tr>\n",
       "      <th>20</th>\n",
       "      <td>치즈 불닭볶음면(큰컵)</td>\n",
       "      <td>(PACK OF 3) Samyang Hot Chicken Flavor Ramen B...</td>\n",
       "      <td>https://www.amazon.com/PACK-Samyang-Chicken-Fl...</td>\n",
       "      <td>323.0</td>\n",
       "    </tr>\n",
       "    <tr>\n",
       "      <th>21</th>\n",
       "      <td>핵 불닭볶음면(큰컵)</td>\n",
       "      <td>Samyang Spicy Chicken Stir Fried Noodle Cup (2...</td>\n",
       "      <td>https://www.amazon.com/Samyang-Spicy-Chicken-F...</td>\n",
       "      <td>NaN</td>\n",
       "    </tr>\n",
       "    <tr>\n",
       "      <th>22</th>\n",
       "      <td>신라면(큰 컵)2</td>\n",
       "      <td>Nongshim Shin Bowl Noodle, Gourmet Spicy Pican...</td>\n",
       "      <td>https://www.amazon.com/NongShim-Noodle-Gourmet...</td>\n",
       "      <td>34.0</td>\n",
       "    </tr>\n",
       "    <tr>\n",
       "      <th>23</th>\n",
       "      <td>신라면(작은컵)1</td>\n",
       "      <td>Nongshim Shin Black Premium Noodle Soup, 3.56 ...</td>\n",
       "      <td>https://www.amazon.com/Nongshim-Shin-Black-Pre...</td>\n",
       "      <td>305.0</td>\n",
       "    </tr>\n",
       "    <tr>\n",
       "      <th>24</th>\n",
       "      <td>신라면 블랙(작은컵)</td>\n",
       "      <td>Nongshim Shin Black Noodle Soup, Spicy, 3.5 Ou...</td>\n",
       "      <td>https://www.amazon.com/NongShim-Shin-Black-Noo...</td>\n",
       "      <td>50.0</td>\n",
       "    </tr>\n",
       "    <tr>\n",
       "      <th>25</th>\n",
       "      <td>비건 신라면(작은컵)</td>\n",
       "      <td>Nongshim Shin Ramyun Vegan, 2.64 Ounce, Pack of 6</td>\n",
       "      <td>https://www.amazon.com/Nongshim-Ramyun-Noodle-...</td>\n",
       "      <td>NaN</td>\n",
       "    </tr>\n",
       "    <tr>\n",
       "      <th>26</th>\n",
       "      <td>생생 우동 프리미엄(큰 컵)</td>\n",
       "      <td>Nongshim Udon Premium Noodle Soup Original: 6 ...</td>\n",
       "      <td>https://www.amazon.com/Nongshim-Udon-Premium-N...</td>\n",
       "      <td>31.0</td>\n",
       "    </tr>\n",
       "    <tr>\n",
       "      <th>27</th>\n",
       "      <td>생생 우동(큰 컵)</td>\n",
       "      <td>Nongshim Fresh Udon Bowl Noodle Soup 9.73 oz.</td>\n",
       "      <td>https://www.amazon.com/Nongshim-Fresh-Udon-Bow...</td>\n",
       "      <td>NaN</td>\n",
       "    </tr>\n",
       "    <tr>\n",
       "      <th>28</th>\n",
       "      <td>순라면(작은 컵)1</td>\n",
       "      <td>Nongshim Soon Cup Noodle Soup, Veggie, 2.6 Oun...</td>\n",
       "      <td>https://www.amazon.com/NongShim-Soon-Noodle-Ve...</td>\n",
       "      <td>419.0</td>\n",
       "    </tr>\n",
       "    <tr>\n",
       "      <th>29</th>\n",
       "      <td>순라면(작은 컵)2</td>\n",
       "      <td>Nongshim Soon Cup Noodle Soup, Veggie, 2.6 Oun...</td>\n",
       "      <td>https://www.amazon.com/Nongshim-Soon-Noodle-Ve...</td>\n",
       "      <td>20.0</td>\n",
       "    </tr>\n",
       "    <tr>\n",
       "      <th>30</th>\n",
       "      <td>순라면(작은 컵)3</td>\n",
       "      <td>Soon Cup Noodle Soup, Veggie, 15.84 Oz, Pack of 6</td>\n",
       "      <td>https://www.amazon.com/Soon-Noodle-Soup-Veggie...</td>\n",
       "      <td>13.0</td>\n",
       "    </tr>\n",
       "    <tr>\n",
       "      <th>31</th>\n",
       "      <td>농심 돈코츠</td>\n",
       "      <td>Nongshim Tonkotsu Ramen with Kuromayu Noodle B...</td>\n",
       "      <td>https://www.amazon.com/Nongshim-Tonkotsu-Ramen...</td>\n",
       "      <td>130.0</td>\n",
       "    </tr>\n",
       "    <tr>\n",
       "      <th>32</th>\n",
       "      <td>농심 보울누들 비프</td>\n",
       "      <td>Nongshim Bowl Noodle Soup, Beef, 3.03 Ounce (P...</td>\n",
       "      <td>https://www.amazon.com/NongShim-Bowl-Noodle-So...</td>\n",
       "      <td>40.0</td>\n",
       "    </tr>\n",
       "    <tr>\n",
       "      <th>33</th>\n",
       "      <td>농심 보울누들 핫앤스파이시1</td>\n",
       "      <td>Nongshim Bowl Noodle Instant Noodle Soup Hot&amp;s...</td>\n",
       "      <td>https://www.amazon.com/Nongshim-Noodle-Instant...</td>\n",
       "      <td>NaN</td>\n",
       "    </tr>\n",
       "    <tr>\n",
       "      <th>34</th>\n",
       "      <td>농심 보울누들 핫앤스파이시3</td>\n",
       "      <td>Nongshim Hot &amp; Spicy Bowl Noodle Soup (3.03 oz...</td>\n",
       "      <td>https://www.amazon.com/Nongshim-Spicy-Bowl-Noo...</td>\n",
       "      <td>10.0</td>\n",
       "    </tr>\n",
       "    <tr>\n",
       "      <th>35</th>\n",
       "      <td>농심 보울누들 기타\\n(spicy chicken / savory chicken / ...</td>\n",
       "      <td>Nongshim Bowl Noodle Soup, Spicy Chicken, 3.03...</td>\n",
       "      <td>https://www.amazon.com/NongShim-Noodle-Spicy-C...</td>\n",
       "      <td>220.0</td>\n",
       "    </tr>\n",
       "    <tr>\n",
       "      <th>36</th>\n",
       "      <td>팔도 김치라면(큰 컵)</td>\n",
       "      <td>Paldo Fun &amp; Yum Instant Cup Noodle Soup Bowl w...</td>\n",
       "      <td>https://www.amazon.com/Paldo-Kimchi-Noodle-Sou...</td>\n",
       "      <td>4.0</td>\n",
       "    </tr>\n",
       "    <tr>\n",
       "      <th>37</th>\n",
       "      <td>Udon</td>\n",
       "      <td>Annie Chun's - Noodle Soup Bowl, Japanese-Styl...</td>\n",
       "      <td>https://www.amazon.com/Annie-Chuns-Non-GMO-Veg...</td>\n",
       "      <td>169.0</td>\n",
       "    </tr>\n",
       "    <tr>\n",
       "      <th>38</th>\n",
       "      <td>Peanut Sesame</td>\n",
       "      <td>Annie Chun's - Noodle Bowl, Thai-Style Peanut ...</td>\n",
       "      <td>https://www.amazon.com/Annie-Chuns-Peanut-Non-...</td>\n",
       "      <td>725.0</td>\n",
       "    </tr>\n",
       "    <tr>\n",
       "      <th>39</th>\n",
       "      <td>Miso</td>\n",
       "      <td>Annie Chun's - Noodle Soup Bowl, Japanese Styl...</td>\n",
       "      <td>https://www.amazon.com/Annie-Chuns-Noodle-Non-...</td>\n",
       "      <td>117.0</td>\n",
       "    </tr>\n",
       "    <tr>\n",
       "      <th>40</th>\n",
       "      <td>Spicy Ramen</td>\n",
       "      <td>Annie Chun's Korean Spicy Ramen, Vegan, Non-GM...</td>\n",
       "      <td>https://www.amazon.com/Annie-Chuns-Korean-Styl...</td>\n",
       "      <td>9.0</td>\n",
       "    </tr>\n",
       "    <tr>\n",
       "      <th>41</th>\n",
       "      <td>Pad Thai</td>\n",
       "      <td>Annie Chun's Pad Thai Brown Rice Noodles, Non ...</td>\n",
       "      <td>https://www.amazon.com/Annie-Chuns-Gluten-Free...</td>\n",
       "      <td>196.0</td>\n",
       "    </tr>\n",
       "    <tr>\n",
       "      <th>42</th>\n",
       "      <td>Maifun2</td>\n",
       "      <td>Annie Chun's Brown Rice Noodles, Maifun | Vega...</td>\n",
       "      <td>https://www.amazon.com/Annie-Chuns-Noodles-Mai...</td>\n",
       "      <td>35.0</td>\n",
       "    </tr>\n",
       "    <tr>\n",
       "      <th>43</th>\n",
       "      <td>Maifun3</td>\n",
       "      <td>Annie Chun's Rice Noodles, Maifun, Vegan, Glut...</td>\n",
       "      <td>https://www.amazon.com/Annie-Chuns-Noodles-Mai...</td>\n",
       "      <td>32.0</td>\n",
       "    </tr>\n",
       "    <tr>\n",
       "      <th>44</th>\n",
       "      <td>Sweet Chili</td>\n",
       "      <td>Annie Chuns Korean Sweet Chili Noodle, 7.9 Oun...</td>\n",
       "      <td>https://www.amazon.com/Annie-Chuns-Korean-Swee...</td>\n",
       "      <td>25.0</td>\n",
       "    </tr>\n",
       "    <tr>\n",
       "      <th>45</th>\n",
       "      <td>Yakisoba</td>\n",
       "      <td>Annie Chun's Yakisoba Noodle Bowl, Non-GMO, 7....</td>\n",
       "      <td>https://www.amazon.com/Annie-Chuns-Yakisoba-No...</td>\n",
       "      <td>NaN</td>\n",
       "    </tr>\n",
       "    <tr>\n",
       "      <th>46</th>\n",
       "      <td>Shoyu ramen</td>\n",
       "      <td>Annie Chun's Soup Bowl, Japanese Style Shoyu R...</td>\n",
       "      <td>https://www.amazon.com/Annie-Chuns-Bowl-Japane...</td>\n",
       "      <td>179.0</td>\n",
       "    </tr>\n",
       "  </tbody>\n",
       "</table>\n",
       "</div>"
      ],
      "text/plain": [
       "                                               제품 한글명  \\\n",
       "0                                            진라면(순한맛)   \n",
       "1                                                 진짬뽕   \n",
       "2                                              불닭볶음면1   \n",
       "3                                              불닭볶음면2   \n",
       "4                                           까르보 불닭볶음면   \n",
       "5                                           치즈 불닭볶음면1   \n",
       "6                                           치즈 불닭볶음면2   \n",
       "7                                           치즈 불닭볶음면3   \n",
       "8                                             핵 불닭볶음면   \n",
       "9                                             콘 불닭볶음면   \n",
       "10                                              삼양라면1   \n",
       "11                                              삼양라면2   \n",
       "12                                                순라면   \n",
       "13                                               신라면1   \n",
       "14                                               신라면2   \n",
       "15                                               신라면3   \n",
       "16                                             신라면 건면   \n",
       "17                                            신라면 블랙2   \n",
       "18                                               짜파게티   \n",
       "19                                             팔도 화라면   \n",
       "20                                       치즈 불닭볶음면(큰컵)   \n",
       "21                                        핵 불닭볶음면(큰컵)   \n",
       "22                                          신라면(큰 컵)2   \n",
       "23                                          신라면(작은컵)1   \n",
       "24                                        신라면 블랙(작은컵)   \n",
       "25                                        비건 신라면(작은컵)   \n",
       "26                                    생생 우동 프리미엄(큰 컵)   \n",
       "27                                         생생 우동(큰 컵)   \n",
       "28                                         순라면(작은 컵)1   \n",
       "29                                         순라면(작은 컵)2   \n",
       "30                                         순라면(작은 컵)3   \n",
       "31                                             농심 돈코츠   \n",
       "32                                         농심 보울누들 비프   \n",
       "33                                    농심 보울누들 핫앤스파이시1   \n",
       "34                                    농심 보울누들 핫앤스파이시3   \n",
       "35  농심 보울누들 기타\\n(spicy chicken / savory chicken / ...   \n",
       "36                                       팔도 김치라면(큰 컵)   \n",
       "37                                               Udon   \n",
       "38                                      Peanut Sesame   \n",
       "39                                               Miso   \n",
       "40                                        Spicy Ramen   \n",
       "41                                           Pad Thai   \n",
       "42                                            Maifun2   \n",
       "43                                            Maifun3   \n",
       "44                                        Sweet Chili   \n",
       "45                                           Yakisoba   \n",
       "46                                        Shoyu ramen   \n",
       "\n",
       "                                               제품 영문명  \\\n",
       "0                                           Jin Ramen   \n",
       "1   [OTTOGI] JIN Jjambbong- Korean Style Instant N...   \n",
       "2   Samyang Buldak Korean Hot Spicy Chicken Stir-F...   \n",
       "3   New Samyang Ramen/Spicy Chicken Roasted Noodle...   \n",
       "4   Samyang Hot chicken stir fried ramen noodle, C...   \n",
       "5   Samyang Fire Hot Cheese Flavored Chicken Ramen...   \n",
       "6   2016 new Samyang Ramen / Spicy Chicken Roasted...   \n",
       "7   Fusion Select 2016 new Samyang Ramen / Spicy C...   \n",
       "8   Samyang 2X Spicy Hot Chicken Flavor Ramen_KORE...   \n",
       "9   Samyang Hot Chicken Buldak Corn Flavor Ramen K...   \n",
       "10  Samyang Ramen Noodle Soup, 21.50-Ounce Units (...   \n",
       "11  Samyang Ramen Korean Noodle Soup, 4.23 oz (Pac...   \n",
       "12  Nongshim Soon Veggie Noodle Soup, 3.95 Ounce (...   \n",
       "13  Nongshim Shin Original Ramyun, 4.2 Ounce (Pack...   \n",
       "14  Nong Shim Shin Ramyun Noodle Soup, Gourmet Spi...   \n",
       "15  Nongshim Shin Noodle Ramyun, Gourmet Spicy Pic...   \n",
       "16  [Nongshim] Shin Ramyun Non-Frying (dried noodl...   \n",
       "17  Nongshim Shin Ramen/Ramyun Black - Premium Noo...   \n",
       "18  Nongshim Chapagetti Chajang Noodle, 4.5 Ounce ...   \n",
       "19  Paldo Hwa Ramyun - with Soy Peptide, Hot & Spi...   \n",
       "20  (PACK OF 3) Samyang Hot Chicken Flavor Ramen B...   \n",
       "21  Samyang Spicy Chicken Stir Fried Noodle Cup (2...   \n",
       "22  Nongshim Shin Bowl Noodle, Gourmet Spicy Pican...   \n",
       "23  Nongshim Shin Black Premium Noodle Soup, 3.56 ...   \n",
       "24  Nongshim Shin Black Noodle Soup, Spicy, 3.5 Ou...   \n",
       "25  Nongshim Shin Ramyun Vegan, 2.64 Ounce, Pack of 6   \n",
       "26  Nongshim Udon Premium Noodle Soup Original: 6 ...   \n",
       "27      Nongshim Fresh Udon Bowl Noodle Soup 9.73 oz.   \n",
       "28  Nongshim Soon Cup Noodle Soup, Veggie, 2.6 Oun...   \n",
       "29  Nongshim Soon Cup Noodle Soup, Veggie, 2.6 Oun...   \n",
       "30  Soon Cup Noodle Soup, Veggie, 15.84 Oz, Pack of 6   \n",
       "31  Nongshim Tonkotsu Ramen with Kuromayu Noodle B...   \n",
       "32  Nongshim Bowl Noodle Soup, Beef, 3.03 Ounce (P...   \n",
       "33  Nongshim Bowl Noodle Instant Noodle Soup Hot&s...   \n",
       "34  Nongshim Hot & Spicy Bowl Noodle Soup (3.03 oz...   \n",
       "35  Nongshim Bowl Noodle Soup, Spicy Chicken, 3.03...   \n",
       "36  Paldo Fun & Yum Instant Cup Noodle Soup Bowl w...   \n",
       "37  Annie Chun's - Noodle Soup Bowl, Japanese-Styl...   \n",
       "38  Annie Chun's - Noodle Bowl, Thai-Style Peanut ...   \n",
       "39  Annie Chun's - Noodle Soup Bowl, Japanese Styl...   \n",
       "40  Annie Chun's Korean Spicy Ramen, Vegan, Non-GM...   \n",
       "41  Annie Chun's Pad Thai Brown Rice Noodles, Non ...   \n",
       "42  Annie Chun's Brown Rice Noodles, Maifun | Vega...   \n",
       "43  Annie Chun's Rice Noodles, Maifun, Vegan, Glut...   \n",
       "44  Annie Chuns Korean Sweet Chili Noodle, 7.9 Oun...   \n",
       "45  Annie Chun's Yakisoba Noodle Bowl, Non-GMO, 7....   \n",
       "46  Annie Chun's Soup Bowl, Japanese Style Shoyu R...   \n",
       "\n",
       "                                                  URL    리뷰수1  \n",
       "0   https://www.amazon.com/Ottogi-Jin-Ramen/dp/B08...     NaN  \n",
       "1   Amazon.com: [OTTOGI] JIN Jjambbong- Korean Sty...     NaN  \n",
       "2   https://www.amazon.com/Samyang-Chicken-Roasted...   974.0  \n",
       "3   https://www.amazon.com/Samyang-Ramen-Chicken-R...  2265.0  \n",
       "4   https://www.amazon.com/Samyang-Carbo-Spicy-chi...  4414.0  \n",
       "5   https://www.amazon.com/Samyang-Cheese-Flavored...   202.0  \n",
       "6   https://www.amazon.com/Samyang-Chicken-Roasted...   120.0  \n",
       "7   https://www.amazon.com/Fusion-Samyang-Chicken-...     NaN  \n",
       "8   https://www.amazon.com/Samyang-Chicken-Flavor-...    58.0  \n",
       "9   https://www.amazon.com/Samyang-Chicken-Buldak-...    22.0  \n",
       "10  https://www.amazon.com/Samyang-Ramen-Noodle-21...    30.0  \n",
       "11  https://www.amazon.com/Samyang-Ramen-Korean-No...     7.0  \n",
       "12  https://www.amazon.com/NongShim-Soon-Noodle-Ve...   340.0  \n",
       "13  https://www.amazon.com/NongShim-Ramyun-Noodle-...  2664.0  \n",
       "14  https://www.amazon.com/Nong-Shim-Ramyun-Gourme...     3.0  \n",
       "15  https://www.amazon.com/Nongshim-Gourmet-Picant...   180.0  \n",
       "16  https://www.amazon.com/Nongshim-Non-Frying-noo...    65.0  \n",
       "17  https://www.amazon.com/Nongshim-Shin-Ramen-Ram...     NaN  \n",
       "18  https://www.amazon.com/Nongshim-Chapagetti-Cha...    78.0  \n",
       "19  https://www.amazon.com/Paldo-Hwa-Ramyun-Peptid...    26.0  \n",
       "20  https://www.amazon.com/PACK-Samyang-Chicken-Fl...   323.0  \n",
       "21  https://www.amazon.com/Samyang-Spicy-Chicken-F...     NaN  \n",
       "22  https://www.amazon.com/NongShim-Noodle-Gourmet...    34.0  \n",
       "23  https://www.amazon.com/Nongshim-Shin-Black-Pre...   305.0  \n",
       "24  https://www.amazon.com/NongShim-Shin-Black-Noo...    50.0  \n",
       "25  https://www.amazon.com/Nongshim-Ramyun-Noodle-...     NaN  \n",
       "26  https://www.amazon.com/Nongshim-Udon-Premium-N...    31.0  \n",
       "27  https://www.amazon.com/Nongshim-Fresh-Udon-Bow...     NaN  \n",
       "28  https://www.amazon.com/NongShim-Soon-Noodle-Ve...   419.0  \n",
       "29  https://www.amazon.com/Nongshim-Soon-Noodle-Ve...    20.0  \n",
       "30  https://www.amazon.com/Soon-Noodle-Soup-Veggie...    13.0  \n",
       "31  https://www.amazon.com/Nongshim-Tonkotsu-Ramen...   130.0  \n",
       "32  https://www.amazon.com/NongShim-Bowl-Noodle-So...    40.0  \n",
       "33  https://www.amazon.com/Nongshim-Noodle-Instant...     NaN  \n",
       "34  https://www.amazon.com/Nongshim-Spicy-Bowl-Noo...    10.0  \n",
       "35  https://www.amazon.com/NongShim-Noodle-Spicy-C...   220.0  \n",
       "36  https://www.amazon.com/Paldo-Kimchi-Noodle-Sou...     4.0  \n",
       "37  https://www.amazon.com/Annie-Chuns-Non-GMO-Veg...   169.0  \n",
       "38  https://www.amazon.com/Annie-Chuns-Peanut-Non-...   725.0  \n",
       "39  https://www.amazon.com/Annie-Chuns-Noodle-Non-...   117.0  \n",
       "40  https://www.amazon.com/Annie-Chuns-Korean-Styl...     9.0  \n",
       "41  https://www.amazon.com/Annie-Chuns-Gluten-Free...   196.0  \n",
       "42  https://www.amazon.com/Annie-Chuns-Noodles-Mai...    35.0  \n",
       "43  https://www.amazon.com/Annie-Chuns-Noodles-Mai...    32.0  \n",
       "44  https://www.amazon.com/Annie-Chuns-Korean-Swee...    25.0  \n",
       "45  https://www.amazon.com/Annie-Chuns-Yakisoba-No...     NaN  \n",
       "46  https://www.amazon.com/Annie-Chuns-Bowl-Japane...   179.0  "
      ]
     },
     "execution_count": 206,
     "metadata": {},
     "output_type": "execute_result"
    }
   ],
   "source": [
    "m1 = pd.merge(urls, df1, how='inner')\n",
    "m1"
   ]
  },
  {
   "cell_type": "code",
   "execution_count": 207,
   "id": "7f613d3e",
   "metadata": {
    "scrolled": true
   },
   "outputs": [
    {
     "data": {
      "text/html": [
       "<div>\n",
       "<style scoped>\n",
       "    .dataframe tbody tr th:only-of-type {\n",
       "        vertical-align: middle;\n",
       "    }\n",
       "\n",
       "    .dataframe tbody tr th {\n",
       "        vertical-align: top;\n",
       "    }\n",
       "\n",
       "    .dataframe thead th {\n",
       "        text-align: right;\n",
       "    }\n",
       "</style>\n",
       "<table border=\"1\" class=\"dataframe\">\n",
       "  <thead>\n",
       "    <tr style=\"text-align: right;\">\n",
       "      <th></th>\n",
       "      <th>제품 영문명</th>\n",
       "      <th>리뷰수2</th>\n",
       "    </tr>\n",
       "  </thead>\n",
       "  <tbody>\n",
       "    <tr>\n",
       "      <th>0</th>\n",
       "      <td>Nongshim Noodle Soup, Ansung Tang Myun, 4.4 Ou...</td>\n",
       "      <td>23.0</td>\n",
       "    </tr>\n",
       "    <tr>\n",
       "      <th>1</th>\n",
       "      <td>Nongshim Bowl Noodle Soup, Spicy Kimchi Flavor...</td>\n",
       "      <td>415.0</td>\n",
       "    </tr>\n",
       "    <tr>\n",
       "      <th>2</th>\n",
       "      <td>Samyang 2X Spicy Hot Chicken Flavor Ramen_KORE...</td>\n",
       "      <td>940.0</td>\n",
       "    </tr>\n",
       "    <tr>\n",
       "      <th>3</th>\n",
       "      <td>Nongshim Shin Original Ramyun Bowl, Gourmet Sp...</td>\n",
       "      <td>1042.0</td>\n",
       "    </tr>\n",
       "    <tr>\n",
       "      <th>4</th>\n",
       "      <td>Ottogi Hot Jin Ramen Noodles, 4.23 Ounce (Pack...</td>\n",
       "      <td>37.0</td>\n",
       "    </tr>\n",
       "    <tr>\n",
       "      <th>5</th>\n",
       "      <td>Nongshim Shin Bowl Noodle Soup, Gourmet Spicy,...</td>\n",
       "      <td>564.0</td>\n",
       "    </tr>\n",
       "    <tr>\n",
       "      <th>6</th>\n",
       "      <td>Annie Chun's Brown Rice Noodle,Brown Rice Pad ...</td>\n",
       "      <td>29.0</td>\n",
       "    </tr>\n",
       "    <tr>\n",
       "      <th>7</th>\n",
       "      <td>NongShim Shin Black Noodle Soup, Spicy, 4Pack ...</td>\n",
       "      <td>90.0</td>\n",
       "    </tr>\n",
       "    <tr>\n",
       "      <th>8</th>\n",
       "      <td>Samyang Buldak Korean Hot Spicy Chicken Stir-F...</td>\n",
       "      <td>980.0</td>\n",
       "    </tr>\n",
       "    <tr>\n",
       "      <th>9</th>\n",
       "      <td>Annie Chuns Korean Sweet Chili Noodle, 7.9 Oun...</td>\n",
       "      <td>25.0</td>\n",
       "    </tr>\n",
       "    <tr>\n",
       "      <th>10</th>\n",
       "      <td>Samyang Hot chicken stir fried ramen noodle, C...</td>\n",
       "      <td>4414.0</td>\n",
       "    </tr>\n",
       "    <tr>\n",
       "      <th>11</th>\n",
       "      <td>Nongshim Shin Original Ramyun, 4.2 Ounce (Pack...</td>\n",
       "      <td>2664.0</td>\n",
       "    </tr>\n",
       "    <tr>\n",
       "      <th>12</th>\n",
       "      <td>New Samyang Ramen/Spicy Chicken Roasted Noodle...</td>\n",
       "      <td>2265.0</td>\n",
       "    </tr>\n",
       "    <tr>\n",
       "      <th>13</th>\n",
       "      <td>Nongshim Tonkotsu Ramen with Kuromayu Noodle B...</td>\n",
       "      <td>130.0</td>\n",
       "    </tr>\n",
       "    <tr>\n",
       "      <th>14</th>\n",
       "      <td>Samyang Fire Hot Cheese Flavored Chicken Ramen...</td>\n",
       "      <td>202.0</td>\n",
       "    </tr>\n",
       "    <tr>\n",
       "      <th>15</th>\n",
       "      <td>2016 new Samyang Ramen / Spicy Chicken Roasted...</td>\n",
       "      <td>120.0</td>\n",
       "    </tr>\n",
       "    <tr>\n",
       "      <th>16</th>\n",
       "      <td>Nongshim Udon Premium Noodle Soup Original: 6 ...</td>\n",
       "      <td>31.0</td>\n",
       "    </tr>\n",
       "    <tr>\n",
       "      <th>17</th>\n",
       "      <td>Nongshim Soon Cup Noodle Soup, Veggie, 2.6 Oun...</td>\n",
       "      <td>419.0</td>\n",
       "    </tr>\n",
       "    <tr>\n",
       "      <th>18</th>\n",
       "      <td>Annie Chun's - Noodle Bowl, Thai-Style Peanut ...</td>\n",
       "      <td>725.0</td>\n",
       "    </tr>\n",
       "    <tr>\n",
       "      <th>19</th>\n",
       "      <td>Nongshim Shin Noodle Ramyun, Gourmet Spicy Pic...</td>\n",
       "      <td>180.0</td>\n",
       "    </tr>\n",
       "    <tr>\n",
       "      <th>20</th>\n",
       "      <td>Nongshim Chapagetti Chajang Noodle, 4.5 Ounce ...</td>\n",
       "      <td>78.0</td>\n",
       "    </tr>\n",
       "    <tr>\n",
       "      <th>21</th>\n",
       "      <td>Nongshim Shin Bowl Noodle, Gourmet Spicy Pican...</td>\n",
       "      <td>34.0</td>\n",
       "    </tr>\n",
       "    <tr>\n",
       "      <th>22</th>\n",
       "      <td>Nongshim Bowl Noodle Soup, Beef, 3.03 Ounce (P...</td>\n",
       "      <td>40.0</td>\n",
       "    </tr>\n",
       "    <tr>\n",
       "      <th>23</th>\n",
       "      <td>Annie Chun's Brown Rice Noodles, Maifun | Vega...</td>\n",
       "      <td>35.0</td>\n",
       "    </tr>\n",
       "    <tr>\n",
       "      <th>24</th>\n",
       "      <td>Annie Chun's - Noodle Soup Bowl, Japanese-Styl...</td>\n",
       "      <td>169.0</td>\n",
       "    </tr>\n",
       "    <tr>\n",
       "      <th>25</th>\n",
       "      <td>Soon Cup Noodle Soup, Veggie, 15.84 Oz, Pack of 6</td>\n",
       "      <td>13.0</td>\n",
       "    </tr>\n",
       "    <tr>\n",
       "      <th>26</th>\n",
       "      <td>Nongshim Hot &amp; Spicy Bowl Noodle Soup (3.03 oz...</td>\n",
       "      <td>10.0</td>\n",
       "    </tr>\n",
       "    <tr>\n",
       "      <th>27</th>\n",
       "      <td>Nongshim Soon Veggie Noodle Soup, 3.95 Ounce (...</td>\n",
       "      <td>340.0</td>\n",
       "    </tr>\n",
       "    <tr>\n",
       "      <th>28</th>\n",
       "      <td>Annie Chun's Pad Thai Brown Rice Noodles, Non ...</td>\n",
       "      <td>196.0</td>\n",
       "    </tr>\n",
       "    <tr>\n",
       "      <th>29</th>\n",
       "      <td>Paldo Hwa Ramyun - with Soy Peptide, Hot &amp; Spi...</td>\n",
       "      <td>26.0</td>\n",
       "    </tr>\n",
       "    <tr>\n",
       "      <th>30</th>\n",
       "      <td>Annie Chun's - Noodle Soup Bowl, Japanese Styl...</td>\n",
       "      <td>117.0</td>\n",
       "    </tr>\n",
       "    <tr>\n",
       "      <th>31</th>\n",
       "      <td>Nongshim Soon Cup Noodle Soup, Veggie, 2.6 Oun...</td>\n",
       "      <td>20.0</td>\n",
       "    </tr>\n",
       "    <tr>\n",
       "      <th>32</th>\n",
       "      <td>Nongshim Shin Black Premium Noodle Soup, 3.56 ...</td>\n",
       "      <td>305.0</td>\n",
       "    </tr>\n",
       "    <tr>\n",
       "      <th>33</th>\n",
       "      <td>Nongshim Bowl Noodle Soup, Spicy Chicken, 3.03...</td>\n",
       "      <td>220.0</td>\n",
       "    </tr>\n",
       "    <tr>\n",
       "      <th>34</th>\n",
       "      <td>Nongshim Shin Black Noodle Soup, Spicy, 3.5 Ou...</td>\n",
       "      <td>50.0</td>\n",
       "    </tr>\n",
       "    <tr>\n",
       "      <th>35</th>\n",
       "      <td>Samyang Hot Chicken Buldak Corn Flavor Ramen K...</td>\n",
       "      <td>22.0</td>\n",
       "    </tr>\n",
       "    <tr>\n",
       "      <th>36</th>\n",
       "      <td>Samyang Ramen Korean Noodle Soup, 4.23 oz (Pac...</td>\n",
       "      <td>7.0</td>\n",
       "    </tr>\n",
       "    <tr>\n",
       "      <th>37</th>\n",
       "      <td>Samyang Ramen Noodle Soup, 21.50-Ounce Units (...</td>\n",
       "      <td>30.0</td>\n",
       "    </tr>\n",
       "    <tr>\n",
       "      <th>38</th>\n",
       "      <td>Annie Chun's Rice Noodles, Maifun, Vegan, Glut...</td>\n",
       "      <td>32.0</td>\n",
       "    </tr>\n",
       "    <tr>\n",
       "      <th>39</th>\n",
       "      <td>[Nongshim] Shin Ramyun Non-Frying (dried noodl...</td>\n",
       "      <td>65.0</td>\n",
       "    </tr>\n",
       "    <tr>\n",
       "      <th>40</th>\n",
       "      <td>Nong Shim Shin Ramyun Noodle Soup, Gourmet Spi...</td>\n",
       "      <td>3.0</td>\n",
       "    </tr>\n",
       "    <tr>\n",
       "      <th>41</th>\n",
       "      <td>Annie Chun's Soup Bowl, Japanese Style Shoyu R...</td>\n",
       "      <td>179.0</td>\n",
       "    </tr>\n",
       "    <tr>\n",
       "      <th>42</th>\n",
       "      <td>Paldo Fun &amp; Yum Instant Cup Noodle Soup Bowl w...</td>\n",
       "      <td>4.0</td>\n",
       "    </tr>\n",
       "    <tr>\n",
       "      <th>43</th>\n",
       "      <td>(PACK OF 3) Samyang Hot Chicken Flavor Ramen B...</td>\n",
       "      <td>323.0</td>\n",
       "    </tr>\n",
       "    <tr>\n",
       "      <th>44</th>\n",
       "      <td>Annie Chun's Korean Spicy Ramen, Vegan, Non-GM...</td>\n",
       "      <td>9.0</td>\n",
       "    </tr>\n",
       "    <tr>\n",
       "      <th>45</th>\n",
       "      <td>Annie Chun's Yakisoba Noodle Bowl, Non-GMO, 7....</td>\n",
       "      <td>NaN</td>\n",
       "    </tr>\n",
       "    <tr>\n",
       "      <th>46</th>\n",
       "      <td>Nongshim Fresh Udon Bowl Noodle Soup 9.73 oz.</td>\n",
       "      <td>NaN</td>\n",
       "    </tr>\n",
       "    <tr>\n",
       "      <th>47</th>\n",
       "      <td>Fusion Select 2016 new Samyang Ramen / Spicy C...</td>\n",
       "      <td>NaN</td>\n",
       "    </tr>\n",
       "    <tr>\n",
       "      <th>48</th>\n",
       "      <td>Jin Ramen</td>\n",
       "      <td>NaN</td>\n",
       "    </tr>\n",
       "    <tr>\n",
       "      <th>49</th>\n",
       "      <td>Nongshim Shin Ramen/Ramyun Black - Premium Noo...</td>\n",
       "      <td>NaN</td>\n",
       "    </tr>\n",
       "    <tr>\n",
       "      <th>50</th>\n",
       "      <td>Samyang Spicy Chicken Stir Fried Noodle Cup (2...</td>\n",
       "      <td>NaN</td>\n",
       "    </tr>\n",
       "    <tr>\n",
       "      <th>51</th>\n",
       "      <td>Nongshim Shin Ramyun Vegan, 2.64 Ounce, Pack of 6</td>\n",
       "      <td>NaN</td>\n",
       "    </tr>\n",
       "    <tr>\n",
       "      <th>52</th>\n",
       "      <td>Nongshim Bowl Noodle Instant Noodle Soup Hot&amp;s...</td>\n",
       "      <td>NaN</td>\n",
       "    </tr>\n",
       "    <tr>\n",
       "      <th>53</th>\n",
       "      <td>[OTTOGI] JIN Jjambbong- Korean Style Instant N...</td>\n",
       "      <td>NaN</td>\n",
       "    </tr>\n",
       "  </tbody>\n",
       "</table>\n",
       "</div>"
      ],
      "text/plain": [
       "                                               제품 영문명    리뷰수2\n",
       "0   Nongshim Noodle Soup, Ansung Tang Myun, 4.4 Ou...    23.0\n",
       "1   Nongshim Bowl Noodle Soup, Spicy Kimchi Flavor...   415.0\n",
       "2   Samyang 2X Spicy Hot Chicken Flavor Ramen_KORE...   940.0\n",
       "3   Nongshim Shin Original Ramyun Bowl, Gourmet Sp...  1042.0\n",
       "4   Ottogi Hot Jin Ramen Noodles, 4.23 Ounce (Pack...    37.0\n",
       "5   Nongshim Shin Bowl Noodle Soup, Gourmet Spicy,...   564.0\n",
       "6   Annie Chun's Brown Rice Noodle,Brown Rice Pad ...    29.0\n",
       "7   NongShim Shin Black Noodle Soup, Spicy, 4Pack ...    90.0\n",
       "8   Samyang Buldak Korean Hot Spicy Chicken Stir-F...   980.0\n",
       "9   Annie Chuns Korean Sweet Chili Noodle, 7.9 Oun...    25.0\n",
       "10  Samyang Hot chicken stir fried ramen noodle, C...  4414.0\n",
       "11  Nongshim Shin Original Ramyun, 4.2 Ounce (Pack...  2664.0\n",
       "12  New Samyang Ramen/Spicy Chicken Roasted Noodle...  2265.0\n",
       "13  Nongshim Tonkotsu Ramen with Kuromayu Noodle B...   130.0\n",
       "14  Samyang Fire Hot Cheese Flavored Chicken Ramen...   202.0\n",
       "15  2016 new Samyang Ramen / Spicy Chicken Roasted...   120.0\n",
       "16  Nongshim Udon Premium Noodle Soup Original: 6 ...    31.0\n",
       "17  Nongshim Soon Cup Noodle Soup, Veggie, 2.6 Oun...   419.0\n",
       "18  Annie Chun's - Noodle Bowl, Thai-Style Peanut ...   725.0\n",
       "19  Nongshim Shin Noodle Ramyun, Gourmet Spicy Pic...   180.0\n",
       "20  Nongshim Chapagetti Chajang Noodle, 4.5 Ounce ...    78.0\n",
       "21  Nongshim Shin Bowl Noodle, Gourmet Spicy Pican...    34.0\n",
       "22  Nongshim Bowl Noodle Soup, Beef, 3.03 Ounce (P...    40.0\n",
       "23  Annie Chun's Brown Rice Noodles, Maifun | Vega...    35.0\n",
       "24  Annie Chun's - Noodle Soup Bowl, Japanese-Styl...   169.0\n",
       "25  Soon Cup Noodle Soup, Veggie, 15.84 Oz, Pack of 6    13.0\n",
       "26  Nongshim Hot & Spicy Bowl Noodle Soup (3.03 oz...    10.0\n",
       "27  Nongshim Soon Veggie Noodle Soup, 3.95 Ounce (...   340.0\n",
       "28  Annie Chun's Pad Thai Brown Rice Noodles, Non ...   196.0\n",
       "29  Paldo Hwa Ramyun - with Soy Peptide, Hot & Spi...    26.0\n",
       "30  Annie Chun's - Noodle Soup Bowl, Japanese Styl...   117.0\n",
       "31  Nongshim Soon Cup Noodle Soup, Veggie, 2.6 Oun...    20.0\n",
       "32  Nongshim Shin Black Premium Noodle Soup, 3.56 ...   305.0\n",
       "33  Nongshim Bowl Noodle Soup, Spicy Chicken, 3.03...   220.0\n",
       "34  Nongshim Shin Black Noodle Soup, Spicy, 3.5 Ou...    50.0\n",
       "35  Samyang Hot Chicken Buldak Corn Flavor Ramen K...    22.0\n",
       "36  Samyang Ramen Korean Noodle Soup, 4.23 oz (Pac...     7.0\n",
       "37  Samyang Ramen Noodle Soup, 21.50-Ounce Units (...    30.0\n",
       "38  Annie Chun's Rice Noodles, Maifun, Vegan, Glut...    32.0\n",
       "39  [Nongshim] Shin Ramyun Non-Frying (dried noodl...    65.0\n",
       "40  Nong Shim Shin Ramyun Noodle Soup, Gourmet Spi...     3.0\n",
       "41  Annie Chun's Soup Bowl, Japanese Style Shoyu R...   179.0\n",
       "42  Paldo Fun & Yum Instant Cup Noodle Soup Bowl w...     4.0\n",
       "43  (PACK OF 3) Samyang Hot Chicken Flavor Ramen B...   323.0\n",
       "44  Annie Chun's Korean Spicy Ramen, Vegan, Non-GM...     9.0\n",
       "45  Annie Chun's Yakisoba Noodle Bowl, Non-GMO, 7....     NaN\n",
       "46      Nongshim Fresh Udon Bowl Noodle Soup 9.73 oz.     NaN\n",
       "47  Fusion Select 2016 new Samyang Ramen / Spicy C...     NaN\n",
       "48                                          Jin Ramen     NaN\n",
       "49  Nongshim Shin Ramen/Ramyun Black - Premium Noo...     NaN\n",
       "50  Samyang Spicy Chicken Stir Fried Noodle Cup (2...     NaN\n",
       "51  Nongshim Shin Ramyun Vegan, 2.64 Ounce, Pack of 6     NaN\n",
       "52  Nongshim Bowl Noodle Instant Noodle Soup Hot&s...     NaN\n",
       "53  [OTTOGI] JIN Jjambbong- Korean Style Instant N...     NaN"
      ]
     },
     "execution_count": 207,
     "metadata": {},
     "output_type": "execute_result"
    }
   ],
   "source": [
    "sr1 = pd.DataFrame(amazon22['제품명'].unique())\n",
    "sr2 = pd.DataFrame(review_cnt22)\n",
    "df2 = pd.concat([sr1, sr2], axis=1)\n",
    "df2.columns = ['제품 영문명', '리뷰수2']\n",
    "df2"
   ]
  },
  {
   "cell_type": "code",
   "execution_count": 208,
   "id": "5d067ff9",
   "metadata": {
    "scrolled": true
   },
   "outputs": [
    {
     "data": {
      "text/html": [
       "<div>\n",
       "<style scoped>\n",
       "    .dataframe tbody tr th:only-of-type {\n",
       "        vertical-align: middle;\n",
       "    }\n",
       "\n",
       "    .dataframe tbody tr th {\n",
       "        vertical-align: top;\n",
       "    }\n",
       "\n",
       "    .dataframe thead th {\n",
       "        text-align: right;\n",
       "    }\n",
       "</style>\n",
       "<table border=\"1\" class=\"dataframe\">\n",
       "  <thead>\n",
       "    <tr style=\"text-align: right;\">\n",
       "      <th></th>\n",
       "      <th>제품 한글명</th>\n",
       "      <th>제품 영문명</th>\n",
       "      <th>URL</th>\n",
       "      <th>리뷰수2</th>\n",
       "    </tr>\n",
       "  </thead>\n",
       "  <tbody>\n",
       "    <tr>\n",
       "      <th>0</th>\n",
       "      <td>진라면(매운맛)</td>\n",
       "      <td>Ottogi Hot Jin Ramen Noodles, 4.23 Ounce (Pack...</td>\n",
       "      <td>https://www.amazon.com/Ottogi-Ramen-Noodles-4-...</td>\n",
       "      <td>37.0</td>\n",
       "    </tr>\n",
       "    <tr>\n",
       "      <th>1</th>\n",
       "      <td>진라면(순한맛)</td>\n",
       "      <td>Jin Ramen</td>\n",
       "      <td>https://www.amazon.com/Ottogi-Jin-Ramen/dp/B08...</td>\n",
       "      <td>NaN</td>\n",
       "    </tr>\n",
       "    <tr>\n",
       "      <th>2</th>\n",
       "      <td>진짬뽕</td>\n",
       "      <td>[OTTOGI] JIN Jjambbong- Korean Style Instant N...</td>\n",
       "      <td>Amazon.com: [OTTOGI] JIN Jjambbong- Korean Sty...</td>\n",
       "      <td>NaN</td>\n",
       "    </tr>\n",
       "    <tr>\n",
       "      <th>3</th>\n",
       "      <td>불닭볶음면1</td>\n",
       "      <td>Samyang Buldak Korean Hot Spicy Chicken Stir-F...</td>\n",
       "      <td>https://www.amazon.com/Samyang-Chicken-Roasted...</td>\n",
       "      <td>980.0</td>\n",
       "    </tr>\n",
       "    <tr>\n",
       "      <th>4</th>\n",
       "      <td>불닭볶음면2</td>\n",
       "      <td>New Samyang Ramen/Spicy Chicken Roasted Noodle...</td>\n",
       "      <td>https://www.amazon.com/Samyang-Ramen-Chicken-R...</td>\n",
       "      <td>2265.0</td>\n",
       "    </tr>\n",
       "    <tr>\n",
       "      <th>5</th>\n",
       "      <td>까르보 불닭볶음면</td>\n",
       "      <td>Samyang Hot chicken stir fried ramen noodle, C...</td>\n",
       "      <td>https://www.amazon.com/Samyang-Carbo-Spicy-chi...</td>\n",
       "      <td>4414.0</td>\n",
       "    </tr>\n",
       "    <tr>\n",
       "      <th>6</th>\n",
       "      <td>치즈 불닭볶음면1</td>\n",
       "      <td>Samyang Fire Hot Cheese Flavored Chicken Ramen...</td>\n",
       "      <td>https://www.amazon.com/Samyang-Cheese-Flavored...</td>\n",
       "      <td>202.0</td>\n",
       "    </tr>\n",
       "    <tr>\n",
       "      <th>7</th>\n",
       "      <td>치즈 불닭볶음면2</td>\n",
       "      <td>2016 new Samyang Ramen / Spicy Chicken Roasted...</td>\n",
       "      <td>https://www.amazon.com/Samyang-Chicken-Roasted...</td>\n",
       "      <td>120.0</td>\n",
       "    </tr>\n",
       "    <tr>\n",
       "      <th>8</th>\n",
       "      <td>치즈 불닭볶음면3</td>\n",
       "      <td>Fusion Select 2016 new Samyang Ramen / Spicy C...</td>\n",
       "      <td>https://www.amazon.com/Fusion-Samyang-Chicken-...</td>\n",
       "      <td>NaN</td>\n",
       "    </tr>\n",
       "    <tr>\n",
       "      <th>9</th>\n",
       "      <td>핵 불닭볶음면</td>\n",
       "      <td>Samyang 2X Spicy Hot Chicken Flavor Ramen_KORE...</td>\n",
       "      <td>https://www.amazon.com/Samyang-Chicken-Flavor-...</td>\n",
       "      <td>940.0</td>\n",
       "    </tr>\n",
       "    <tr>\n",
       "      <th>10</th>\n",
       "      <td>콘 불닭볶음면</td>\n",
       "      <td>Samyang Hot Chicken Buldak Corn Flavor Ramen K...</td>\n",
       "      <td>https://www.amazon.com/Samyang-Chicken-Buldak-...</td>\n",
       "      <td>22.0</td>\n",
       "    </tr>\n",
       "    <tr>\n",
       "      <th>11</th>\n",
       "      <td>삼양라면1</td>\n",
       "      <td>Samyang Ramen Noodle Soup, 21.50-Ounce Units (...</td>\n",
       "      <td>https://www.amazon.com/Samyang-Ramen-Noodle-21...</td>\n",
       "      <td>30.0</td>\n",
       "    </tr>\n",
       "    <tr>\n",
       "      <th>12</th>\n",
       "      <td>삼양라면2</td>\n",
       "      <td>Samyang Ramen Korean Noodle Soup, 4.23 oz (Pac...</td>\n",
       "      <td>https://www.amazon.com/Samyang-Ramen-Korean-No...</td>\n",
       "      <td>7.0</td>\n",
       "    </tr>\n",
       "    <tr>\n",
       "      <th>13</th>\n",
       "      <td>순라면</td>\n",
       "      <td>Nongshim Soon Veggie Noodle Soup, 3.95 Ounce (...</td>\n",
       "      <td>https://www.amazon.com/NongShim-Soon-Noodle-Ve...</td>\n",
       "      <td>340.0</td>\n",
       "    </tr>\n",
       "    <tr>\n",
       "      <th>14</th>\n",
       "      <td>신라면1</td>\n",
       "      <td>Nongshim Shin Original Ramyun, 4.2 Ounce (Pack...</td>\n",
       "      <td>https://www.amazon.com/NongShim-Ramyun-Noodle-...</td>\n",
       "      <td>2664.0</td>\n",
       "    </tr>\n",
       "    <tr>\n",
       "      <th>15</th>\n",
       "      <td>신라면2</td>\n",
       "      <td>Nong Shim Shin Ramyun Noodle Soup, Gourmet Spi...</td>\n",
       "      <td>https://www.amazon.com/Nong-Shim-Ramyun-Gourme...</td>\n",
       "      <td>3.0</td>\n",
       "    </tr>\n",
       "    <tr>\n",
       "      <th>16</th>\n",
       "      <td>신라면3</td>\n",
       "      <td>Nongshim Shin Noodle Ramyun, Gourmet Spicy Pic...</td>\n",
       "      <td>https://www.amazon.com/Nongshim-Gourmet-Picant...</td>\n",
       "      <td>180.0</td>\n",
       "    </tr>\n",
       "    <tr>\n",
       "      <th>17</th>\n",
       "      <td>신라면 건면</td>\n",
       "      <td>[Nongshim] Shin Ramyun Non-Frying (dried noodl...</td>\n",
       "      <td>https://www.amazon.com/Nongshim-Non-Frying-noo...</td>\n",
       "      <td>65.0</td>\n",
       "    </tr>\n",
       "    <tr>\n",
       "      <th>18</th>\n",
       "      <td>신라면 블랙1</td>\n",
       "      <td>NongShim Shin Black Noodle Soup, Spicy, 4Pack ...</td>\n",
       "      <td>https://www.amazon.com/NongShim-Black-Noodle-S...</td>\n",
       "      <td>90.0</td>\n",
       "    </tr>\n",
       "    <tr>\n",
       "      <th>19</th>\n",
       "      <td>신라면 블랙2</td>\n",
       "      <td>Nongshim Shin Ramen/Ramyun Black - Premium Noo...</td>\n",
       "      <td>https://www.amazon.com/Nongshim-Shin-Ramen-Ram...</td>\n",
       "      <td>NaN</td>\n",
       "    </tr>\n",
       "    <tr>\n",
       "      <th>20</th>\n",
       "      <td>짜파게티</td>\n",
       "      <td>Nongshim Chapagetti Chajang Noodle, 4.5 Ounce ...</td>\n",
       "      <td>https://www.amazon.com/Nongshim-Chapagetti-Cha...</td>\n",
       "      <td>78.0</td>\n",
       "    </tr>\n",
       "    <tr>\n",
       "      <th>21</th>\n",
       "      <td>안성탕면</td>\n",
       "      <td>Nongshim Noodle Soup, Ansung Tang Myun, 4.4 Ou...</td>\n",
       "      <td>https://www.amazon.com/NongShim-Noodle-Soup-An...</td>\n",
       "      <td>23.0</td>\n",
       "    </tr>\n",
       "    <tr>\n",
       "      <th>22</th>\n",
       "      <td>팔도 화라면</td>\n",
       "      <td>Paldo Hwa Ramyun - with Soy Peptide, Hot &amp; Spi...</td>\n",
       "      <td>https://www.amazon.com/Paldo-Hwa-Ramyun-Peptid...</td>\n",
       "      <td>26.0</td>\n",
       "    </tr>\n",
       "    <tr>\n",
       "      <th>23</th>\n",
       "      <td>치즈 불닭볶음면(큰컵)</td>\n",
       "      <td>(PACK OF 3) Samyang Hot Chicken Flavor Ramen B...</td>\n",
       "      <td>https://www.amazon.com/PACK-Samyang-Chicken-Fl...</td>\n",
       "      <td>323.0</td>\n",
       "    </tr>\n",
       "    <tr>\n",
       "      <th>24</th>\n",
       "      <td>핵 불닭볶음면(큰컵)</td>\n",
       "      <td>Samyang Spicy Chicken Stir Fried Noodle Cup (2...</td>\n",
       "      <td>https://www.amazon.com/Samyang-Spicy-Chicken-F...</td>\n",
       "      <td>NaN</td>\n",
       "    </tr>\n",
       "    <tr>\n",
       "      <th>25</th>\n",
       "      <td>신라면(큰 컵)1</td>\n",
       "      <td>Nongshim Shin Bowl Noodle Soup, Gourmet Spicy,...</td>\n",
       "      <td>https://www.amazon.com/Nongshim-Noodle-Gourmet...</td>\n",
       "      <td>564.0</td>\n",
       "    </tr>\n",
       "    <tr>\n",
       "      <th>26</th>\n",
       "      <td>신라면(큰 컵)2</td>\n",
       "      <td>Nongshim Shin Bowl Noodle, Gourmet Spicy Pican...</td>\n",
       "      <td>https://www.amazon.com/NongShim-Noodle-Gourmet...</td>\n",
       "      <td>34.0</td>\n",
       "    </tr>\n",
       "    <tr>\n",
       "      <th>27</th>\n",
       "      <td>신라면(큰 컵)3</td>\n",
       "      <td>Nongshim Shin Original Ramyun Bowl, Gourmet Sp...</td>\n",
       "      <td>https://www.amazon.com/NongShim-Noodle-Gourmet...</td>\n",
       "      <td>1042.0</td>\n",
       "    </tr>\n",
       "    <tr>\n",
       "      <th>28</th>\n",
       "      <td>신라면(작은컵)1</td>\n",
       "      <td>Nongshim Shin Black Premium Noodle Soup, 3.56 ...</td>\n",
       "      <td>https://www.amazon.com/Nongshim-Shin-Black-Pre...</td>\n",
       "      <td>305.0</td>\n",
       "    </tr>\n",
       "    <tr>\n",
       "      <th>29</th>\n",
       "      <td>신라면 블랙(작은컵)</td>\n",
       "      <td>Nongshim Shin Black Noodle Soup, Spicy, 3.5 Ou...</td>\n",
       "      <td>https://www.amazon.com/NongShim-Shin-Black-Noo...</td>\n",
       "      <td>50.0</td>\n",
       "    </tr>\n",
       "    <tr>\n",
       "      <th>30</th>\n",
       "      <td>비건 신라면(작은컵)</td>\n",
       "      <td>Nongshim Shin Ramyun Vegan, 2.64 Ounce, Pack of 6</td>\n",
       "      <td>https://www.amazon.com/Nongshim-Ramyun-Noodle-...</td>\n",
       "      <td>NaN</td>\n",
       "    </tr>\n",
       "    <tr>\n",
       "      <th>31</th>\n",
       "      <td>생생 우동 프리미엄(큰 컵)</td>\n",
       "      <td>Nongshim Udon Premium Noodle Soup Original: 6 ...</td>\n",
       "      <td>https://www.amazon.com/Nongshim-Udon-Premium-N...</td>\n",
       "      <td>31.0</td>\n",
       "    </tr>\n",
       "    <tr>\n",
       "      <th>32</th>\n",
       "      <td>생생 우동(큰 컵)</td>\n",
       "      <td>Nongshim Fresh Udon Bowl Noodle Soup 9.73 oz.</td>\n",
       "      <td>https://www.amazon.com/Nongshim-Fresh-Udon-Bow...</td>\n",
       "      <td>NaN</td>\n",
       "    </tr>\n",
       "    <tr>\n",
       "      <th>33</th>\n",
       "      <td>순라면(작은 컵)1</td>\n",
       "      <td>Nongshim Soon Cup Noodle Soup, Veggie, 2.6 Oun...</td>\n",
       "      <td>https://www.amazon.com/NongShim-Soon-Noodle-Ve...</td>\n",
       "      <td>419.0</td>\n",
       "    </tr>\n",
       "    <tr>\n",
       "      <th>34</th>\n",
       "      <td>순라면(작은 컵)2</td>\n",
       "      <td>Nongshim Soon Cup Noodle Soup, Veggie, 2.6 Oun...</td>\n",
       "      <td>https://www.amazon.com/Nongshim-Soon-Noodle-Ve...</td>\n",
       "      <td>20.0</td>\n",
       "    </tr>\n",
       "    <tr>\n",
       "      <th>35</th>\n",
       "      <td>순라면(작은 컵)3</td>\n",
       "      <td>Soon Cup Noodle Soup, Veggie, 15.84 Oz, Pack of 6</td>\n",
       "      <td>https://www.amazon.com/Soon-Noodle-Soup-Veggie...</td>\n",
       "      <td>13.0</td>\n",
       "    </tr>\n",
       "    <tr>\n",
       "      <th>36</th>\n",
       "      <td>농심 돈코츠</td>\n",
       "      <td>Nongshim Tonkotsu Ramen with Kuromayu Noodle B...</td>\n",
       "      <td>https://www.amazon.com/Nongshim-Tonkotsu-Ramen...</td>\n",
       "      <td>130.0</td>\n",
       "    </tr>\n",
       "    <tr>\n",
       "      <th>37</th>\n",
       "      <td>농심 보울누들 비프</td>\n",
       "      <td>Nongshim Bowl Noodle Soup, Beef, 3.03 Ounce (P...</td>\n",
       "      <td>https://www.amazon.com/NongShim-Bowl-Noodle-So...</td>\n",
       "      <td>40.0</td>\n",
       "    </tr>\n",
       "    <tr>\n",
       "      <th>38</th>\n",
       "      <td>농심 보울누들 핫앤스파이시1</td>\n",
       "      <td>Nongshim Bowl Noodle Instant Noodle Soup Hot&amp;s...</td>\n",
       "      <td>https://www.amazon.com/Nongshim-Noodle-Instant...</td>\n",
       "      <td>NaN</td>\n",
       "    </tr>\n",
       "    <tr>\n",
       "      <th>39</th>\n",
       "      <td>농심 보울누들 핫앤스파이시3</td>\n",
       "      <td>Nongshim Hot &amp; Spicy Bowl Noodle Soup (3.03 oz...</td>\n",
       "      <td>https://www.amazon.com/Nongshim-Spicy-Bowl-Noo...</td>\n",
       "      <td>10.0</td>\n",
       "    </tr>\n",
       "    <tr>\n",
       "      <th>40</th>\n",
       "      <td>농심 보울누들 기타\\n(spicy chicken / savory chicken / ...</td>\n",
       "      <td>Nongshim Bowl Noodle Soup, Spicy Chicken, 3.03...</td>\n",
       "      <td>https://www.amazon.com/NongShim-Noodle-Spicy-C...</td>\n",
       "      <td>220.0</td>\n",
       "    </tr>\n",
       "    <tr>\n",
       "      <th>41</th>\n",
       "      <td>팔도 김치라면(큰 컵)</td>\n",
       "      <td>Paldo Fun &amp; Yum Instant Cup Noodle Soup Bowl w...</td>\n",
       "      <td>https://www.amazon.com/Paldo-Kimchi-Noodle-Sou...</td>\n",
       "      <td>4.0</td>\n",
       "    </tr>\n",
       "    <tr>\n",
       "      <th>42</th>\n",
       "      <td>Udon</td>\n",
       "      <td>Annie Chun's - Noodle Soup Bowl, Japanese-Styl...</td>\n",
       "      <td>https://www.amazon.com/Annie-Chuns-Non-GMO-Veg...</td>\n",
       "      <td>169.0</td>\n",
       "    </tr>\n",
       "    <tr>\n",
       "      <th>43</th>\n",
       "      <td>Peanut Sesame</td>\n",
       "      <td>Annie Chun's - Noodle Bowl, Thai-Style Peanut ...</td>\n",
       "      <td>https://www.amazon.com/Annie-Chuns-Peanut-Non-...</td>\n",
       "      <td>725.0</td>\n",
       "    </tr>\n",
       "    <tr>\n",
       "      <th>44</th>\n",
       "      <td>Miso</td>\n",
       "      <td>Annie Chun's - Noodle Soup Bowl, Japanese Styl...</td>\n",
       "      <td>https://www.amazon.com/Annie-Chuns-Noodle-Non-...</td>\n",
       "      <td>117.0</td>\n",
       "    </tr>\n",
       "    <tr>\n",
       "      <th>45</th>\n",
       "      <td>Spicy Ramen</td>\n",
       "      <td>Annie Chun's Korean Spicy Ramen, Vegan, Non-GM...</td>\n",
       "      <td>https://www.amazon.com/Annie-Chuns-Korean-Styl...</td>\n",
       "      <td>9.0</td>\n",
       "    </tr>\n",
       "    <tr>\n",
       "      <th>46</th>\n",
       "      <td>Pad Thai</td>\n",
       "      <td>Annie Chun's Pad Thai Brown Rice Noodles, Non ...</td>\n",
       "      <td>https://www.amazon.com/Annie-Chuns-Gluten-Free...</td>\n",
       "      <td>196.0</td>\n",
       "    </tr>\n",
       "    <tr>\n",
       "      <th>47</th>\n",
       "      <td>Maifun1</td>\n",
       "      <td>Annie Chun's Brown Rice Noodle,Brown Rice Pad ...</td>\n",
       "      <td>https://www.amazon.com/Annie-Chuns-Brown-Noodl...</td>\n",
       "      <td>29.0</td>\n",
       "    </tr>\n",
       "    <tr>\n",
       "      <th>48</th>\n",
       "      <td>Maifun2</td>\n",
       "      <td>Annie Chun's Brown Rice Noodles, Maifun | Vega...</td>\n",
       "      <td>https://www.amazon.com/Annie-Chuns-Noodles-Mai...</td>\n",
       "      <td>35.0</td>\n",
       "    </tr>\n",
       "    <tr>\n",
       "      <th>49</th>\n",
       "      <td>Maifun3</td>\n",
       "      <td>Annie Chun's Rice Noodles, Maifun, Vegan, Glut...</td>\n",
       "      <td>https://www.amazon.com/Annie-Chuns-Noodles-Mai...</td>\n",
       "      <td>32.0</td>\n",
       "    </tr>\n",
       "    <tr>\n",
       "      <th>50</th>\n",
       "      <td>Sweet Chili</td>\n",
       "      <td>Annie Chuns Korean Sweet Chili Noodle, 7.9 Oun...</td>\n",
       "      <td>https://www.amazon.com/Annie-Chuns-Korean-Swee...</td>\n",
       "      <td>25.0</td>\n",
       "    </tr>\n",
       "    <tr>\n",
       "      <th>51</th>\n",
       "      <td>Yakisoba</td>\n",
       "      <td>Annie Chun's Yakisoba Noodle Bowl, Non-GMO, 7....</td>\n",
       "      <td>https://www.amazon.com/Annie-Chuns-Yakisoba-No...</td>\n",
       "      <td>NaN</td>\n",
       "    </tr>\n",
       "    <tr>\n",
       "      <th>52</th>\n",
       "      <td>Shoyu ramen</td>\n",
       "      <td>Annie Chun's Soup Bowl, Japanese Style Shoyu R...</td>\n",
       "      <td>https://www.amazon.com/Annie-Chuns-Bowl-Japane...</td>\n",
       "      <td>179.0</td>\n",
       "    </tr>\n",
       "  </tbody>\n",
       "</table>\n",
       "</div>"
      ],
      "text/plain": [
       "                                               제품 한글명  \\\n",
       "0                                            진라면(매운맛)   \n",
       "1                                            진라면(순한맛)   \n",
       "2                                                 진짬뽕   \n",
       "3                                              불닭볶음면1   \n",
       "4                                              불닭볶음면2   \n",
       "5                                           까르보 불닭볶음면   \n",
       "6                                           치즈 불닭볶음면1   \n",
       "7                                           치즈 불닭볶음면2   \n",
       "8                                           치즈 불닭볶음면3   \n",
       "9                                             핵 불닭볶음면   \n",
       "10                                            콘 불닭볶음면   \n",
       "11                                              삼양라면1   \n",
       "12                                              삼양라면2   \n",
       "13                                                순라면   \n",
       "14                                               신라면1   \n",
       "15                                               신라면2   \n",
       "16                                               신라면3   \n",
       "17                                             신라면 건면   \n",
       "18                                            신라면 블랙1   \n",
       "19                                            신라면 블랙2   \n",
       "20                                               짜파게티   \n",
       "21                                               안성탕면   \n",
       "22                                             팔도 화라면   \n",
       "23                                       치즈 불닭볶음면(큰컵)   \n",
       "24                                        핵 불닭볶음면(큰컵)   \n",
       "25                                          신라면(큰 컵)1   \n",
       "26                                          신라면(큰 컵)2   \n",
       "27                                          신라면(큰 컵)3   \n",
       "28                                          신라면(작은컵)1   \n",
       "29                                        신라면 블랙(작은컵)   \n",
       "30                                        비건 신라면(작은컵)   \n",
       "31                                    생생 우동 프리미엄(큰 컵)   \n",
       "32                                         생생 우동(큰 컵)   \n",
       "33                                         순라면(작은 컵)1   \n",
       "34                                         순라면(작은 컵)2   \n",
       "35                                         순라면(작은 컵)3   \n",
       "36                                             농심 돈코츠   \n",
       "37                                         농심 보울누들 비프   \n",
       "38                                    농심 보울누들 핫앤스파이시1   \n",
       "39                                    농심 보울누들 핫앤스파이시3   \n",
       "40  농심 보울누들 기타\\n(spicy chicken / savory chicken / ...   \n",
       "41                                       팔도 김치라면(큰 컵)   \n",
       "42                                               Udon   \n",
       "43                                      Peanut Sesame   \n",
       "44                                               Miso   \n",
       "45                                        Spicy Ramen   \n",
       "46                                           Pad Thai   \n",
       "47                                            Maifun1   \n",
       "48                                            Maifun2   \n",
       "49                                            Maifun3   \n",
       "50                                        Sweet Chili   \n",
       "51                                           Yakisoba   \n",
       "52                                        Shoyu ramen   \n",
       "\n",
       "                                               제품 영문명  \\\n",
       "0   Ottogi Hot Jin Ramen Noodles, 4.23 Ounce (Pack...   \n",
       "1                                           Jin Ramen   \n",
       "2   [OTTOGI] JIN Jjambbong- Korean Style Instant N...   \n",
       "3   Samyang Buldak Korean Hot Spicy Chicken Stir-F...   \n",
       "4   New Samyang Ramen/Spicy Chicken Roasted Noodle...   \n",
       "5   Samyang Hot chicken stir fried ramen noodle, C...   \n",
       "6   Samyang Fire Hot Cheese Flavored Chicken Ramen...   \n",
       "7   2016 new Samyang Ramen / Spicy Chicken Roasted...   \n",
       "8   Fusion Select 2016 new Samyang Ramen / Spicy C...   \n",
       "9   Samyang 2X Spicy Hot Chicken Flavor Ramen_KORE...   \n",
       "10  Samyang Hot Chicken Buldak Corn Flavor Ramen K...   \n",
       "11  Samyang Ramen Noodle Soup, 21.50-Ounce Units (...   \n",
       "12  Samyang Ramen Korean Noodle Soup, 4.23 oz (Pac...   \n",
       "13  Nongshim Soon Veggie Noodle Soup, 3.95 Ounce (...   \n",
       "14  Nongshim Shin Original Ramyun, 4.2 Ounce (Pack...   \n",
       "15  Nong Shim Shin Ramyun Noodle Soup, Gourmet Spi...   \n",
       "16  Nongshim Shin Noodle Ramyun, Gourmet Spicy Pic...   \n",
       "17  [Nongshim] Shin Ramyun Non-Frying (dried noodl...   \n",
       "18  NongShim Shin Black Noodle Soup, Spicy, 4Pack ...   \n",
       "19  Nongshim Shin Ramen/Ramyun Black - Premium Noo...   \n",
       "20  Nongshim Chapagetti Chajang Noodle, 4.5 Ounce ...   \n",
       "21  Nongshim Noodle Soup, Ansung Tang Myun, 4.4 Ou...   \n",
       "22  Paldo Hwa Ramyun - with Soy Peptide, Hot & Spi...   \n",
       "23  (PACK OF 3) Samyang Hot Chicken Flavor Ramen B...   \n",
       "24  Samyang Spicy Chicken Stir Fried Noodle Cup (2...   \n",
       "25  Nongshim Shin Bowl Noodle Soup, Gourmet Spicy,...   \n",
       "26  Nongshim Shin Bowl Noodle, Gourmet Spicy Pican...   \n",
       "27  Nongshim Shin Original Ramyun Bowl, Gourmet Sp...   \n",
       "28  Nongshim Shin Black Premium Noodle Soup, 3.56 ...   \n",
       "29  Nongshim Shin Black Noodle Soup, Spicy, 3.5 Ou...   \n",
       "30  Nongshim Shin Ramyun Vegan, 2.64 Ounce, Pack of 6   \n",
       "31  Nongshim Udon Premium Noodle Soup Original: 6 ...   \n",
       "32      Nongshim Fresh Udon Bowl Noodle Soup 9.73 oz.   \n",
       "33  Nongshim Soon Cup Noodle Soup, Veggie, 2.6 Oun...   \n",
       "34  Nongshim Soon Cup Noodle Soup, Veggie, 2.6 Oun...   \n",
       "35  Soon Cup Noodle Soup, Veggie, 15.84 Oz, Pack of 6   \n",
       "36  Nongshim Tonkotsu Ramen with Kuromayu Noodle B...   \n",
       "37  Nongshim Bowl Noodle Soup, Beef, 3.03 Ounce (P...   \n",
       "38  Nongshim Bowl Noodle Instant Noodle Soup Hot&s...   \n",
       "39  Nongshim Hot & Spicy Bowl Noodle Soup (3.03 oz...   \n",
       "40  Nongshim Bowl Noodle Soup, Spicy Chicken, 3.03...   \n",
       "41  Paldo Fun & Yum Instant Cup Noodle Soup Bowl w...   \n",
       "42  Annie Chun's - Noodle Soup Bowl, Japanese-Styl...   \n",
       "43  Annie Chun's - Noodle Bowl, Thai-Style Peanut ...   \n",
       "44  Annie Chun's - Noodle Soup Bowl, Japanese Styl...   \n",
       "45  Annie Chun's Korean Spicy Ramen, Vegan, Non-GM...   \n",
       "46  Annie Chun's Pad Thai Brown Rice Noodles, Non ...   \n",
       "47  Annie Chun's Brown Rice Noodle,Brown Rice Pad ...   \n",
       "48  Annie Chun's Brown Rice Noodles, Maifun | Vega...   \n",
       "49  Annie Chun's Rice Noodles, Maifun, Vegan, Glut...   \n",
       "50  Annie Chuns Korean Sweet Chili Noodle, 7.9 Oun...   \n",
       "51  Annie Chun's Yakisoba Noodle Bowl, Non-GMO, 7....   \n",
       "52  Annie Chun's Soup Bowl, Japanese Style Shoyu R...   \n",
       "\n",
       "                                                  URL    리뷰수2  \n",
       "0   https://www.amazon.com/Ottogi-Ramen-Noodles-4-...    37.0  \n",
       "1   https://www.amazon.com/Ottogi-Jin-Ramen/dp/B08...     NaN  \n",
       "2   Amazon.com: [OTTOGI] JIN Jjambbong- Korean Sty...     NaN  \n",
       "3   https://www.amazon.com/Samyang-Chicken-Roasted...   980.0  \n",
       "4   https://www.amazon.com/Samyang-Ramen-Chicken-R...  2265.0  \n",
       "5   https://www.amazon.com/Samyang-Carbo-Spicy-chi...  4414.0  \n",
       "6   https://www.amazon.com/Samyang-Cheese-Flavored...   202.0  \n",
       "7   https://www.amazon.com/Samyang-Chicken-Roasted...   120.0  \n",
       "8   https://www.amazon.com/Fusion-Samyang-Chicken-...     NaN  \n",
       "9   https://www.amazon.com/Samyang-Chicken-Flavor-...   940.0  \n",
       "10  https://www.amazon.com/Samyang-Chicken-Buldak-...    22.0  \n",
       "11  https://www.amazon.com/Samyang-Ramen-Noodle-21...    30.0  \n",
       "12  https://www.amazon.com/Samyang-Ramen-Korean-No...     7.0  \n",
       "13  https://www.amazon.com/NongShim-Soon-Noodle-Ve...   340.0  \n",
       "14  https://www.amazon.com/NongShim-Ramyun-Noodle-...  2664.0  \n",
       "15  https://www.amazon.com/Nong-Shim-Ramyun-Gourme...     3.0  \n",
       "16  https://www.amazon.com/Nongshim-Gourmet-Picant...   180.0  \n",
       "17  https://www.amazon.com/Nongshim-Non-Frying-noo...    65.0  \n",
       "18  https://www.amazon.com/NongShim-Black-Noodle-S...    90.0  \n",
       "19  https://www.amazon.com/Nongshim-Shin-Ramen-Ram...     NaN  \n",
       "20  https://www.amazon.com/Nongshim-Chapagetti-Cha...    78.0  \n",
       "21  https://www.amazon.com/NongShim-Noodle-Soup-An...    23.0  \n",
       "22  https://www.amazon.com/Paldo-Hwa-Ramyun-Peptid...    26.0  \n",
       "23  https://www.amazon.com/PACK-Samyang-Chicken-Fl...   323.0  \n",
       "24  https://www.amazon.com/Samyang-Spicy-Chicken-F...     NaN  \n",
       "25  https://www.amazon.com/Nongshim-Noodle-Gourmet...   564.0  \n",
       "26  https://www.amazon.com/NongShim-Noodle-Gourmet...    34.0  \n",
       "27  https://www.amazon.com/NongShim-Noodle-Gourmet...  1042.0  \n",
       "28  https://www.amazon.com/Nongshim-Shin-Black-Pre...   305.0  \n",
       "29  https://www.amazon.com/NongShim-Shin-Black-Noo...    50.0  \n",
       "30  https://www.amazon.com/Nongshim-Ramyun-Noodle-...     NaN  \n",
       "31  https://www.amazon.com/Nongshim-Udon-Premium-N...    31.0  \n",
       "32  https://www.amazon.com/Nongshim-Fresh-Udon-Bow...     NaN  \n",
       "33  https://www.amazon.com/NongShim-Soon-Noodle-Ve...   419.0  \n",
       "34  https://www.amazon.com/Nongshim-Soon-Noodle-Ve...    20.0  \n",
       "35  https://www.amazon.com/Soon-Noodle-Soup-Veggie...    13.0  \n",
       "36  https://www.amazon.com/Nongshim-Tonkotsu-Ramen...   130.0  \n",
       "37  https://www.amazon.com/NongShim-Bowl-Noodle-So...    40.0  \n",
       "38  https://www.amazon.com/Nongshim-Noodle-Instant...     NaN  \n",
       "39  https://www.amazon.com/Nongshim-Spicy-Bowl-Noo...    10.0  \n",
       "40  https://www.amazon.com/NongShim-Noodle-Spicy-C...   220.0  \n",
       "41  https://www.amazon.com/Paldo-Kimchi-Noodle-Sou...     4.0  \n",
       "42  https://www.amazon.com/Annie-Chuns-Non-GMO-Veg...   169.0  \n",
       "43  https://www.amazon.com/Annie-Chuns-Peanut-Non-...   725.0  \n",
       "44  https://www.amazon.com/Annie-Chuns-Noodle-Non-...   117.0  \n",
       "45  https://www.amazon.com/Annie-Chuns-Korean-Styl...     9.0  \n",
       "46  https://www.amazon.com/Annie-Chuns-Gluten-Free...   196.0  \n",
       "47  https://www.amazon.com/Annie-Chuns-Brown-Noodl...    29.0  \n",
       "48  https://www.amazon.com/Annie-Chuns-Noodles-Mai...    35.0  \n",
       "49  https://www.amazon.com/Annie-Chuns-Noodles-Mai...    32.0  \n",
       "50  https://www.amazon.com/Annie-Chuns-Korean-Swee...    25.0  \n",
       "51  https://www.amazon.com/Annie-Chuns-Yakisoba-No...     NaN  \n",
       "52  https://www.amazon.com/Annie-Chuns-Bowl-Japane...   179.0  "
      ]
     },
     "execution_count": 208,
     "metadata": {},
     "output_type": "execute_result"
    }
   ],
   "source": [
    "m2 = pd.merge(urls, df2, how='inner')\n",
    "m2"
   ]
  },
  {
   "cell_type": "code",
   "execution_count": 209,
   "id": "b8e27f5a",
   "metadata": {
    "scrolled": true
   },
   "outputs": [
    {
     "data": {
      "text/html": [
       "<div>\n",
       "<style scoped>\n",
       "    .dataframe tbody tr th:only-of-type {\n",
       "        vertical-align: middle;\n",
       "    }\n",
       "\n",
       "    .dataframe tbody tr th {\n",
       "        vertical-align: top;\n",
       "    }\n",
       "\n",
       "    .dataframe thead th {\n",
       "        text-align: right;\n",
       "    }\n",
       "</style>\n",
       "<table border=\"1\" class=\"dataframe\">\n",
       "  <thead>\n",
       "    <tr style=\"text-align: right;\">\n",
       "      <th></th>\n",
       "      <th>제품 한글명</th>\n",
       "      <th>제품 영문명</th>\n",
       "      <th>URL</th>\n",
       "      <th>리뷰수1</th>\n",
       "      <th>리뷰수2</th>\n",
       "    </tr>\n",
       "  </thead>\n",
       "  <tbody>\n",
       "    <tr>\n",
       "      <th>0</th>\n",
       "      <td>진라면(순한맛)</td>\n",
       "      <td>Jin Ramen</td>\n",
       "      <td>https://www.amazon.com/Ottogi-Jin-Ramen/dp/B08...</td>\n",
       "      <td>NaN</td>\n",
       "      <td>NaN</td>\n",
       "    </tr>\n",
       "    <tr>\n",
       "      <th>1</th>\n",
       "      <td>진짬뽕</td>\n",
       "      <td>[OTTOGI] JIN Jjambbong- Korean Style Instant N...</td>\n",
       "      <td>Amazon.com: [OTTOGI] JIN Jjambbong- Korean Sty...</td>\n",
       "      <td>NaN</td>\n",
       "      <td>NaN</td>\n",
       "    </tr>\n",
       "    <tr>\n",
       "      <th>2</th>\n",
       "      <td>불닭볶음면1</td>\n",
       "      <td>Samyang Buldak Korean Hot Spicy Chicken Stir-F...</td>\n",
       "      <td>https://www.amazon.com/Samyang-Chicken-Roasted...</td>\n",
       "      <td>974.0</td>\n",
       "      <td>980.0</td>\n",
       "    </tr>\n",
       "    <tr>\n",
       "      <th>3</th>\n",
       "      <td>불닭볶음면2</td>\n",
       "      <td>New Samyang Ramen/Spicy Chicken Roasted Noodle...</td>\n",
       "      <td>https://www.amazon.com/Samyang-Ramen-Chicken-R...</td>\n",
       "      <td>2265.0</td>\n",
       "      <td>2265.0</td>\n",
       "    </tr>\n",
       "    <tr>\n",
       "      <th>4</th>\n",
       "      <td>까르보 불닭볶음면</td>\n",
       "      <td>Samyang Hot chicken stir fried ramen noodle, C...</td>\n",
       "      <td>https://www.amazon.com/Samyang-Carbo-Spicy-chi...</td>\n",
       "      <td>4414.0</td>\n",
       "      <td>4414.0</td>\n",
       "    </tr>\n",
       "    <tr>\n",
       "      <th>5</th>\n",
       "      <td>치즈 불닭볶음면1</td>\n",
       "      <td>Samyang Fire Hot Cheese Flavored Chicken Ramen...</td>\n",
       "      <td>https://www.amazon.com/Samyang-Cheese-Flavored...</td>\n",
       "      <td>202.0</td>\n",
       "      <td>202.0</td>\n",
       "    </tr>\n",
       "    <tr>\n",
       "      <th>6</th>\n",
       "      <td>치즈 불닭볶음면2</td>\n",
       "      <td>2016 new Samyang Ramen / Spicy Chicken Roasted...</td>\n",
       "      <td>https://www.amazon.com/Samyang-Chicken-Roasted...</td>\n",
       "      <td>120.0</td>\n",
       "      <td>120.0</td>\n",
       "    </tr>\n",
       "    <tr>\n",
       "      <th>7</th>\n",
       "      <td>치즈 불닭볶음면3</td>\n",
       "      <td>Fusion Select 2016 new Samyang Ramen / Spicy C...</td>\n",
       "      <td>https://www.amazon.com/Fusion-Samyang-Chicken-...</td>\n",
       "      <td>NaN</td>\n",
       "      <td>NaN</td>\n",
       "    </tr>\n",
       "    <tr>\n",
       "      <th>8</th>\n",
       "      <td>핵 불닭볶음면</td>\n",
       "      <td>Samyang 2X Spicy Hot Chicken Flavor Ramen_KORE...</td>\n",
       "      <td>https://www.amazon.com/Samyang-Chicken-Flavor-...</td>\n",
       "      <td>58.0</td>\n",
       "      <td>940.0</td>\n",
       "    </tr>\n",
       "    <tr>\n",
       "      <th>9</th>\n",
       "      <td>콘 불닭볶음면</td>\n",
       "      <td>Samyang Hot Chicken Buldak Corn Flavor Ramen K...</td>\n",
       "      <td>https://www.amazon.com/Samyang-Chicken-Buldak-...</td>\n",
       "      <td>22.0</td>\n",
       "      <td>22.0</td>\n",
       "    </tr>\n",
       "    <tr>\n",
       "      <th>10</th>\n",
       "      <td>삼양라면1</td>\n",
       "      <td>Samyang Ramen Noodle Soup, 21.50-Ounce Units (...</td>\n",
       "      <td>https://www.amazon.com/Samyang-Ramen-Noodle-21...</td>\n",
       "      <td>30.0</td>\n",
       "      <td>30.0</td>\n",
       "    </tr>\n",
       "    <tr>\n",
       "      <th>11</th>\n",
       "      <td>삼양라면2</td>\n",
       "      <td>Samyang Ramen Korean Noodle Soup, 4.23 oz (Pac...</td>\n",
       "      <td>https://www.amazon.com/Samyang-Ramen-Korean-No...</td>\n",
       "      <td>7.0</td>\n",
       "      <td>7.0</td>\n",
       "    </tr>\n",
       "    <tr>\n",
       "      <th>12</th>\n",
       "      <td>순라면</td>\n",
       "      <td>Nongshim Soon Veggie Noodle Soup, 3.95 Ounce (...</td>\n",
       "      <td>https://www.amazon.com/NongShim-Soon-Noodle-Ve...</td>\n",
       "      <td>340.0</td>\n",
       "      <td>340.0</td>\n",
       "    </tr>\n",
       "    <tr>\n",
       "      <th>13</th>\n",
       "      <td>신라면1</td>\n",
       "      <td>Nongshim Shin Original Ramyun, 4.2 Ounce (Pack...</td>\n",
       "      <td>https://www.amazon.com/NongShim-Ramyun-Noodle-...</td>\n",
       "      <td>2664.0</td>\n",
       "      <td>2664.0</td>\n",
       "    </tr>\n",
       "    <tr>\n",
       "      <th>14</th>\n",
       "      <td>신라면2</td>\n",
       "      <td>Nong Shim Shin Ramyun Noodle Soup, Gourmet Spi...</td>\n",
       "      <td>https://www.amazon.com/Nong-Shim-Ramyun-Gourme...</td>\n",
       "      <td>3.0</td>\n",
       "      <td>3.0</td>\n",
       "    </tr>\n",
       "    <tr>\n",
       "      <th>15</th>\n",
       "      <td>신라면3</td>\n",
       "      <td>Nongshim Shin Noodle Ramyun, Gourmet Spicy Pic...</td>\n",
       "      <td>https://www.amazon.com/Nongshim-Gourmet-Picant...</td>\n",
       "      <td>180.0</td>\n",
       "      <td>180.0</td>\n",
       "    </tr>\n",
       "    <tr>\n",
       "      <th>16</th>\n",
       "      <td>신라면 건면</td>\n",
       "      <td>[Nongshim] Shin Ramyun Non-Frying (dried noodl...</td>\n",
       "      <td>https://www.amazon.com/Nongshim-Non-Frying-noo...</td>\n",
       "      <td>65.0</td>\n",
       "      <td>65.0</td>\n",
       "    </tr>\n",
       "    <tr>\n",
       "      <th>17</th>\n",
       "      <td>신라면 블랙2</td>\n",
       "      <td>Nongshim Shin Ramen/Ramyun Black - Premium Noo...</td>\n",
       "      <td>https://www.amazon.com/Nongshim-Shin-Ramen-Ram...</td>\n",
       "      <td>NaN</td>\n",
       "      <td>NaN</td>\n",
       "    </tr>\n",
       "    <tr>\n",
       "      <th>18</th>\n",
       "      <td>짜파게티</td>\n",
       "      <td>Nongshim Chapagetti Chajang Noodle, 4.5 Ounce ...</td>\n",
       "      <td>https://www.amazon.com/Nongshim-Chapagetti-Cha...</td>\n",
       "      <td>78.0</td>\n",
       "      <td>78.0</td>\n",
       "    </tr>\n",
       "    <tr>\n",
       "      <th>19</th>\n",
       "      <td>팔도 화라면</td>\n",
       "      <td>Paldo Hwa Ramyun - with Soy Peptide, Hot &amp; Spi...</td>\n",
       "      <td>https://www.amazon.com/Paldo-Hwa-Ramyun-Peptid...</td>\n",
       "      <td>26.0</td>\n",
       "      <td>26.0</td>\n",
       "    </tr>\n",
       "    <tr>\n",
       "      <th>20</th>\n",
       "      <td>치즈 불닭볶음면(큰컵)</td>\n",
       "      <td>(PACK OF 3) Samyang Hot Chicken Flavor Ramen B...</td>\n",
       "      <td>https://www.amazon.com/PACK-Samyang-Chicken-Fl...</td>\n",
       "      <td>323.0</td>\n",
       "      <td>323.0</td>\n",
       "    </tr>\n",
       "    <tr>\n",
       "      <th>21</th>\n",
       "      <td>핵 불닭볶음면(큰컵)</td>\n",
       "      <td>Samyang Spicy Chicken Stir Fried Noodle Cup (2...</td>\n",
       "      <td>https://www.amazon.com/Samyang-Spicy-Chicken-F...</td>\n",
       "      <td>NaN</td>\n",
       "      <td>NaN</td>\n",
       "    </tr>\n",
       "    <tr>\n",
       "      <th>22</th>\n",
       "      <td>신라면(큰 컵)2</td>\n",
       "      <td>Nongshim Shin Bowl Noodle, Gourmet Spicy Pican...</td>\n",
       "      <td>https://www.amazon.com/NongShim-Noodle-Gourmet...</td>\n",
       "      <td>34.0</td>\n",
       "      <td>34.0</td>\n",
       "    </tr>\n",
       "    <tr>\n",
       "      <th>23</th>\n",
       "      <td>신라면(작은컵)1</td>\n",
       "      <td>Nongshim Shin Black Premium Noodle Soup, 3.56 ...</td>\n",
       "      <td>https://www.amazon.com/Nongshim-Shin-Black-Pre...</td>\n",
       "      <td>305.0</td>\n",
       "      <td>305.0</td>\n",
       "    </tr>\n",
       "    <tr>\n",
       "      <th>24</th>\n",
       "      <td>신라면 블랙(작은컵)</td>\n",
       "      <td>Nongshim Shin Black Noodle Soup, Spicy, 3.5 Ou...</td>\n",
       "      <td>https://www.amazon.com/NongShim-Shin-Black-Noo...</td>\n",
       "      <td>50.0</td>\n",
       "      <td>50.0</td>\n",
       "    </tr>\n",
       "    <tr>\n",
       "      <th>25</th>\n",
       "      <td>비건 신라면(작은컵)</td>\n",
       "      <td>Nongshim Shin Ramyun Vegan, 2.64 Ounce, Pack of 6</td>\n",
       "      <td>https://www.amazon.com/Nongshim-Ramyun-Noodle-...</td>\n",
       "      <td>NaN</td>\n",
       "      <td>NaN</td>\n",
       "    </tr>\n",
       "    <tr>\n",
       "      <th>26</th>\n",
       "      <td>생생 우동 프리미엄(큰 컵)</td>\n",
       "      <td>Nongshim Udon Premium Noodle Soup Original: 6 ...</td>\n",
       "      <td>https://www.amazon.com/Nongshim-Udon-Premium-N...</td>\n",
       "      <td>31.0</td>\n",
       "      <td>31.0</td>\n",
       "    </tr>\n",
       "    <tr>\n",
       "      <th>27</th>\n",
       "      <td>생생 우동(큰 컵)</td>\n",
       "      <td>Nongshim Fresh Udon Bowl Noodle Soup 9.73 oz.</td>\n",
       "      <td>https://www.amazon.com/Nongshim-Fresh-Udon-Bow...</td>\n",
       "      <td>NaN</td>\n",
       "      <td>NaN</td>\n",
       "    </tr>\n",
       "    <tr>\n",
       "      <th>28</th>\n",
       "      <td>순라면(작은 컵)1</td>\n",
       "      <td>Nongshim Soon Cup Noodle Soup, Veggie, 2.6 Oun...</td>\n",
       "      <td>https://www.amazon.com/NongShim-Soon-Noodle-Ve...</td>\n",
       "      <td>419.0</td>\n",
       "      <td>419.0</td>\n",
       "    </tr>\n",
       "    <tr>\n",
       "      <th>29</th>\n",
       "      <td>순라면(작은 컵)2</td>\n",
       "      <td>Nongshim Soon Cup Noodle Soup, Veggie, 2.6 Oun...</td>\n",
       "      <td>https://www.amazon.com/Nongshim-Soon-Noodle-Ve...</td>\n",
       "      <td>20.0</td>\n",
       "      <td>20.0</td>\n",
       "    </tr>\n",
       "    <tr>\n",
       "      <th>30</th>\n",
       "      <td>순라면(작은 컵)3</td>\n",
       "      <td>Soon Cup Noodle Soup, Veggie, 15.84 Oz, Pack of 6</td>\n",
       "      <td>https://www.amazon.com/Soon-Noodle-Soup-Veggie...</td>\n",
       "      <td>13.0</td>\n",
       "      <td>13.0</td>\n",
       "    </tr>\n",
       "    <tr>\n",
       "      <th>31</th>\n",
       "      <td>농심 돈코츠</td>\n",
       "      <td>Nongshim Tonkotsu Ramen with Kuromayu Noodle B...</td>\n",
       "      <td>https://www.amazon.com/Nongshim-Tonkotsu-Ramen...</td>\n",
       "      <td>130.0</td>\n",
       "      <td>130.0</td>\n",
       "    </tr>\n",
       "    <tr>\n",
       "      <th>32</th>\n",
       "      <td>농심 보울누들 비프</td>\n",
       "      <td>Nongshim Bowl Noodle Soup, Beef, 3.03 Ounce (P...</td>\n",
       "      <td>https://www.amazon.com/NongShim-Bowl-Noodle-So...</td>\n",
       "      <td>40.0</td>\n",
       "      <td>40.0</td>\n",
       "    </tr>\n",
       "    <tr>\n",
       "      <th>33</th>\n",
       "      <td>농심 보울누들 핫앤스파이시1</td>\n",
       "      <td>Nongshim Bowl Noodle Instant Noodle Soup Hot&amp;s...</td>\n",
       "      <td>https://www.amazon.com/Nongshim-Noodle-Instant...</td>\n",
       "      <td>NaN</td>\n",
       "      <td>NaN</td>\n",
       "    </tr>\n",
       "    <tr>\n",
       "      <th>34</th>\n",
       "      <td>농심 보울누들 핫앤스파이시3</td>\n",
       "      <td>Nongshim Hot &amp; Spicy Bowl Noodle Soup (3.03 oz...</td>\n",
       "      <td>https://www.amazon.com/Nongshim-Spicy-Bowl-Noo...</td>\n",
       "      <td>10.0</td>\n",
       "      <td>10.0</td>\n",
       "    </tr>\n",
       "    <tr>\n",
       "      <th>35</th>\n",
       "      <td>농심 보울누들 기타\\n(spicy chicken / savory chicken / ...</td>\n",
       "      <td>Nongshim Bowl Noodle Soup, Spicy Chicken, 3.03...</td>\n",
       "      <td>https://www.amazon.com/NongShim-Noodle-Spicy-C...</td>\n",
       "      <td>220.0</td>\n",
       "      <td>220.0</td>\n",
       "    </tr>\n",
       "    <tr>\n",
       "      <th>36</th>\n",
       "      <td>팔도 김치라면(큰 컵)</td>\n",
       "      <td>Paldo Fun &amp; Yum Instant Cup Noodle Soup Bowl w...</td>\n",
       "      <td>https://www.amazon.com/Paldo-Kimchi-Noodle-Sou...</td>\n",
       "      <td>4.0</td>\n",
       "      <td>4.0</td>\n",
       "    </tr>\n",
       "    <tr>\n",
       "      <th>37</th>\n",
       "      <td>Udon</td>\n",
       "      <td>Annie Chun's - Noodle Soup Bowl, Japanese-Styl...</td>\n",
       "      <td>https://www.amazon.com/Annie-Chuns-Non-GMO-Veg...</td>\n",
       "      <td>169.0</td>\n",
       "      <td>169.0</td>\n",
       "    </tr>\n",
       "    <tr>\n",
       "      <th>38</th>\n",
       "      <td>Peanut Sesame</td>\n",
       "      <td>Annie Chun's - Noodle Bowl, Thai-Style Peanut ...</td>\n",
       "      <td>https://www.amazon.com/Annie-Chuns-Peanut-Non-...</td>\n",
       "      <td>725.0</td>\n",
       "      <td>725.0</td>\n",
       "    </tr>\n",
       "    <tr>\n",
       "      <th>39</th>\n",
       "      <td>Miso</td>\n",
       "      <td>Annie Chun's - Noodle Soup Bowl, Japanese Styl...</td>\n",
       "      <td>https://www.amazon.com/Annie-Chuns-Noodle-Non-...</td>\n",
       "      <td>117.0</td>\n",
       "      <td>117.0</td>\n",
       "    </tr>\n",
       "    <tr>\n",
       "      <th>40</th>\n",
       "      <td>Spicy Ramen</td>\n",
       "      <td>Annie Chun's Korean Spicy Ramen, Vegan, Non-GM...</td>\n",
       "      <td>https://www.amazon.com/Annie-Chuns-Korean-Styl...</td>\n",
       "      <td>9.0</td>\n",
       "      <td>9.0</td>\n",
       "    </tr>\n",
       "    <tr>\n",
       "      <th>41</th>\n",
       "      <td>Pad Thai</td>\n",
       "      <td>Annie Chun's Pad Thai Brown Rice Noodles, Non ...</td>\n",
       "      <td>https://www.amazon.com/Annie-Chuns-Gluten-Free...</td>\n",
       "      <td>196.0</td>\n",
       "      <td>196.0</td>\n",
       "    </tr>\n",
       "    <tr>\n",
       "      <th>42</th>\n",
       "      <td>Maifun2</td>\n",
       "      <td>Annie Chun's Brown Rice Noodles, Maifun | Vega...</td>\n",
       "      <td>https://www.amazon.com/Annie-Chuns-Noodles-Mai...</td>\n",
       "      <td>35.0</td>\n",
       "      <td>35.0</td>\n",
       "    </tr>\n",
       "    <tr>\n",
       "      <th>43</th>\n",
       "      <td>Maifun3</td>\n",
       "      <td>Annie Chun's Rice Noodles, Maifun, Vegan, Glut...</td>\n",
       "      <td>https://www.amazon.com/Annie-Chuns-Noodles-Mai...</td>\n",
       "      <td>32.0</td>\n",
       "      <td>32.0</td>\n",
       "    </tr>\n",
       "    <tr>\n",
       "      <th>44</th>\n",
       "      <td>Sweet Chili</td>\n",
       "      <td>Annie Chuns Korean Sweet Chili Noodle, 7.9 Oun...</td>\n",
       "      <td>https://www.amazon.com/Annie-Chuns-Korean-Swee...</td>\n",
       "      <td>25.0</td>\n",
       "      <td>25.0</td>\n",
       "    </tr>\n",
       "    <tr>\n",
       "      <th>45</th>\n",
       "      <td>Yakisoba</td>\n",
       "      <td>Annie Chun's Yakisoba Noodle Bowl, Non-GMO, 7....</td>\n",
       "      <td>https://www.amazon.com/Annie-Chuns-Yakisoba-No...</td>\n",
       "      <td>NaN</td>\n",
       "      <td>NaN</td>\n",
       "    </tr>\n",
       "    <tr>\n",
       "      <th>46</th>\n",
       "      <td>Shoyu ramen</td>\n",
       "      <td>Annie Chun's Soup Bowl, Japanese Style Shoyu R...</td>\n",
       "      <td>https://www.amazon.com/Annie-Chuns-Bowl-Japane...</td>\n",
       "      <td>179.0</td>\n",
       "      <td>179.0</td>\n",
       "    </tr>\n",
       "  </tbody>\n",
       "</table>\n",
       "</div>"
      ],
      "text/plain": [
       "                                               제품 한글명  \\\n",
       "0                                            진라면(순한맛)   \n",
       "1                                                 진짬뽕   \n",
       "2                                              불닭볶음면1   \n",
       "3                                              불닭볶음면2   \n",
       "4                                           까르보 불닭볶음면   \n",
       "5                                           치즈 불닭볶음면1   \n",
       "6                                           치즈 불닭볶음면2   \n",
       "7                                           치즈 불닭볶음면3   \n",
       "8                                             핵 불닭볶음면   \n",
       "9                                             콘 불닭볶음면   \n",
       "10                                              삼양라면1   \n",
       "11                                              삼양라면2   \n",
       "12                                                순라면   \n",
       "13                                               신라면1   \n",
       "14                                               신라면2   \n",
       "15                                               신라면3   \n",
       "16                                             신라면 건면   \n",
       "17                                            신라면 블랙2   \n",
       "18                                               짜파게티   \n",
       "19                                             팔도 화라면   \n",
       "20                                       치즈 불닭볶음면(큰컵)   \n",
       "21                                        핵 불닭볶음면(큰컵)   \n",
       "22                                          신라면(큰 컵)2   \n",
       "23                                          신라면(작은컵)1   \n",
       "24                                        신라면 블랙(작은컵)   \n",
       "25                                        비건 신라면(작은컵)   \n",
       "26                                    생생 우동 프리미엄(큰 컵)   \n",
       "27                                         생생 우동(큰 컵)   \n",
       "28                                         순라면(작은 컵)1   \n",
       "29                                         순라면(작은 컵)2   \n",
       "30                                         순라면(작은 컵)3   \n",
       "31                                             농심 돈코츠   \n",
       "32                                         농심 보울누들 비프   \n",
       "33                                    농심 보울누들 핫앤스파이시1   \n",
       "34                                    농심 보울누들 핫앤스파이시3   \n",
       "35  농심 보울누들 기타\\n(spicy chicken / savory chicken / ...   \n",
       "36                                       팔도 김치라면(큰 컵)   \n",
       "37                                               Udon   \n",
       "38                                      Peanut Sesame   \n",
       "39                                               Miso   \n",
       "40                                        Spicy Ramen   \n",
       "41                                           Pad Thai   \n",
       "42                                            Maifun2   \n",
       "43                                            Maifun3   \n",
       "44                                        Sweet Chili   \n",
       "45                                           Yakisoba   \n",
       "46                                        Shoyu ramen   \n",
       "\n",
       "                                               제품 영문명  \\\n",
       "0                                           Jin Ramen   \n",
       "1   [OTTOGI] JIN Jjambbong- Korean Style Instant N...   \n",
       "2   Samyang Buldak Korean Hot Spicy Chicken Stir-F...   \n",
       "3   New Samyang Ramen/Spicy Chicken Roasted Noodle...   \n",
       "4   Samyang Hot chicken stir fried ramen noodle, C...   \n",
       "5   Samyang Fire Hot Cheese Flavored Chicken Ramen...   \n",
       "6   2016 new Samyang Ramen / Spicy Chicken Roasted...   \n",
       "7   Fusion Select 2016 new Samyang Ramen / Spicy C...   \n",
       "8   Samyang 2X Spicy Hot Chicken Flavor Ramen_KORE...   \n",
       "9   Samyang Hot Chicken Buldak Corn Flavor Ramen K...   \n",
       "10  Samyang Ramen Noodle Soup, 21.50-Ounce Units (...   \n",
       "11  Samyang Ramen Korean Noodle Soup, 4.23 oz (Pac...   \n",
       "12  Nongshim Soon Veggie Noodle Soup, 3.95 Ounce (...   \n",
       "13  Nongshim Shin Original Ramyun, 4.2 Ounce (Pack...   \n",
       "14  Nong Shim Shin Ramyun Noodle Soup, Gourmet Spi...   \n",
       "15  Nongshim Shin Noodle Ramyun, Gourmet Spicy Pic...   \n",
       "16  [Nongshim] Shin Ramyun Non-Frying (dried noodl...   \n",
       "17  Nongshim Shin Ramen/Ramyun Black - Premium Noo...   \n",
       "18  Nongshim Chapagetti Chajang Noodle, 4.5 Ounce ...   \n",
       "19  Paldo Hwa Ramyun - with Soy Peptide, Hot & Spi...   \n",
       "20  (PACK OF 3) Samyang Hot Chicken Flavor Ramen B...   \n",
       "21  Samyang Spicy Chicken Stir Fried Noodle Cup (2...   \n",
       "22  Nongshim Shin Bowl Noodle, Gourmet Spicy Pican...   \n",
       "23  Nongshim Shin Black Premium Noodle Soup, 3.56 ...   \n",
       "24  Nongshim Shin Black Noodle Soup, Spicy, 3.5 Ou...   \n",
       "25  Nongshim Shin Ramyun Vegan, 2.64 Ounce, Pack of 6   \n",
       "26  Nongshim Udon Premium Noodle Soup Original: 6 ...   \n",
       "27      Nongshim Fresh Udon Bowl Noodle Soup 9.73 oz.   \n",
       "28  Nongshim Soon Cup Noodle Soup, Veggie, 2.6 Oun...   \n",
       "29  Nongshim Soon Cup Noodle Soup, Veggie, 2.6 Oun...   \n",
       "30  Soon Cup Noodle Soup, Veggie, 15.84 Oz, Pack of 6   \n",
       "31  Nongshim Tonkotsu Ramen with Kuromayu Noodle B...   \n",
       "32  Nongshim Bowl Noodle Soup, Beef, 3.03 Ounce (P...   \n",
       "33  Nongshim Bowl Noodle Instant Noodle Soup Hot&s...   \n",
       "34  Nongshim Hot & Spicy Bowl Noodle Soup (3.03 oz...   \n",
       "35  Nongshim Bowl Noodle Soup, Spicy Chicken, 3.03...   \n",
       "36  Paldo Fun & Yum Instant Cup Noodle Soup Bowl w...   \n",
       "37  Annie Chun's - Noodle Soup Bowl, Japanese-Styl...   \n",
       "38  Annie Chun's - Noodle Bowl, Thai-Style Peanut ...   \n",
       "39  Annie Chun's - Noodle Soup Bowl, Japanese Styl...   \n",
       "40  Annie Chun's Korean Spicy Ramen, Vegan, Non-GM...   \n",
       "41  Annie Chun's Pad Thai Brown Rice Noodles, Non ...   \n",
       "42  Annie Chun's Brown Rice Noodles, Maifun | Vega...   \n",
       "43  Annie Chun's Rice Noodles, Maifun, Vegan, Glut...   \n",
       "44  Annie Chuns Korean Sweet Chili Noodle, 7.9 Oun...   \n",
       "45  Annie Chun's Yakisoba Noodle Bowl, Non-GMO, 7....   \n",
       "46  Annie Chun's Soup Bowl, Japanese Style Shoyu R...   \n",
       "\n",
       "                                                  URL    리뷰수1    리뷰수2  \n",
       "0   https://www.amazon.com/Ottogi-Jin-Ramen/dp/B08...     NaN     NaN  \n",
       "1   Amazon.com: [OTTOGI] JIN Jjambbong- Korean Sty...     NaN     NaN  \n",
       "2   https://www.amazon.com/Samyang-Chicken-Roasted...   974.0   980.0  \n",
       "3   https://www.amazon.com/Samyang-Ramen-Chicken-R...  2265.0  2265.0  \n",
       "4   https://www.amazon.com/Samyang-Carbo-Spicy-chi...  4414.0  4414.0  \n",
       "5   https://www.amazon.com/Samyang-Cheese-Flavored...   202.0   202.0  \n",
       "6   https://www.amazon.com/Samyang-Chicken-Roasted...   120.0   120.0  \n",
       "7   https://www.amazon.com/Fusion-Samyang-Chicken-...     NaN     NaN  \n",
       "8   https://www.amazon.com/Samyang-Chicken-Flavor-...    58.0   940.0  \n",
       "9   https://www.amazon.com/Samyang-Chicken-Buldak-...    22.0    22.0  \n",
       "10  https://www.amazon.com/Samyang-Ramen-Noodle-21...    30.0    30.0  \n",
       "11  https://www.amazon.com/Samyang-Ramen-Korean-No...     7.0     7.0  \n",
       "12  https://www.amazon.com/NongShim-Soon-Noodle-Ve...   340.0   340.0  \n",
       "13  https://www.amazon.com/NongShim-Ramyun-Noodle-...  2664.0  2664.0  \n",
       "14  https://www.amazon.com/Nong-Shim-Ramyun-Gourme...     3.0     3.0  \n",
       "15  https://www.amazon.com/Nongshim-Gourmet-Picant...   180.0   180.0  \n",
       "16  https://www.amazon.com/Nongshim-Non-Frying-noo...    65.0    65.0  \n",
       "17  https://www.amazon.com/Nongshim-Shin-Ramen-Ram...     NaN     NaN  \n",
       "18  https://www.amazon.com/Nongshim-Chapagetti-Cha...    78.0    78.0  \n",
       "19  https://www.amazon.com/Paldo-Hwa-Ramyun-Peptid...    26.0    26.0  \n",
       "20  https://www.amazon.com/PACK-Samyang-Chicken-Fl...   323.0   323.0  \n",
       "21  https://www.amazon.com/Samyang-Spicy-Chicken-F...     NaN     NaN  \n",
       "22  https://www.amazon.com/NongShim-Noodle-Gourmet...    34.0    34.0  \n",
       "23  https://www.amazon.com/Nongshim-Shin-Black-Pre...   305.0   305.0  \n",
       "24  https://www.amazon.com/NongShim-Shin-Black-Noo...    50.0    50.0  \n",
       "25  https://www.amazon.com/Nongshim-Ramyun-Noodle-...     NaN     NaN  \n",
       "26  https://www.amazon.com/Nongshim-Udon-Premium-N...    31.0    31.0  \n",
       "27  https://www.amazon.com/Nongshim-Fresh-Udon-Bow...     NaN     NaN  \n",
       "28  https://www.amazon.com/NongShim-Soon-Noodle-Ve...   419.0   419.0  \n",
       "29  https://www.amazon.com/Nongshim-Soon-Noodle-Ve...    20.0    20.0  \n",
       "30  https://www.amazon.com/Soon-Noodle-Soup-Veggie...    13.0    13.0  \n",
       "31  https://www.amazon.com/Nongshim-Tonkotsu-Ramen...   130.0   130.0  \n",
       "32  https://www.amazon.com/NongShim-Bowl-Noodle-So...    40.0    40.0  \n",
       "33  https://www.amazon.com/Nongshim-Noodle-Instant...     NaN     NaN  \n",
       "34  https://www.amazon.com/Nongshim-Spicy-Bowl-Noo...    10.0    10.0  \n",
       "35  https://www.amazon.com/NongShim-Noodle-Spicy-C...   220.0   220.0  \n",
       "36  https://www.amazon.com/Paldo-Kimchi-Noodle-Sou...     4.0     4.0  \n",
       "37  https://www.amazon.com/Annie-Chuns-Non-GMO-Veg...   169.0   169.0  \n",
       "38  https://www.amazon.com/Annie-Chuns-Peanut-Non-...   725.0   725.0  \n",
       "39  https://www.amazon.com/Annie-Chuns-Noodle-Non-...   117.0   117.0  \n",
       "40  https://www.amazon.com/Annie-Chuns-Korean-Styl...     9.0     9.0  \n",
       "41  https://www.amazon.com/Annie-Chuns-Gluten-Free...   196.0   196.0  \n",
       "42  https://www.amazon.com/Annie-Chuns-Noodles-Mai...    35.0    35.0  \n",
       "43  https://www.amazon.com/Annie-Chuns-Noodles-Mai...    32.0    32.0  \n",
       "44  https://www.amazon.com/Annie-Chuns-Korean-Swee...    25.0    25.0  \n",
       "45  https://www.amazon.com/Annie-Chuns-Yakisoba-No...     NaN     NaN  \n",
       "46  https://www.amazon.com/Annie-Chuns-Bowl-Japane...   179.0   179.0  "
      ]
     },
     "execution_count": 209,
     "metadata": {},
     "output_type": "execute_result"
    }
   ],
   "source": [
    "pd.merge(m1, m2, how='inner')"
   ]
  },
  {
   "cell_type": "code",
   "execution_count": 187,
   "id": "f5e73d05",
   "metadata": {},
   "outputs": [
    {
     "data": {
      "text/plain": [
       "47"
      ]
     },
     "execution_count": 187,
     "metadata": {},
     "output_type": "execute_result"
    }
   ],
   "source": [
    "len(amazon['제품명'].unique())"
   ]
  },
  {
   "cell_type": "code",
   "execution_count": 55,
   "id": "962f4c67",
   "metadata": {
    "scrolled": false
   },
   "outputs": [
    {
     "data": {
      "text/plain": [
       "54"
      ]
     },
     "execution_count": 55,
     "metadata": {},
     "output_type": "execute_result"
    }
   ],
   "source": [
    "len(amazon22['제품명'].unique())"
   ]
  },
  {
   "cell_type": "markdown",
   "id": "887d05c5",
   "metadata": {},
   "source": [
    "# 오뚜기"
   ]
  },
  {
   "cell_type": "markdown",
   "id": "56ad4d76",
   "metadata": {},
   "source": [
    "## 진라면(매운맛)"
   ]
  },
  {
   "cell_type": "code",
   "execution_count": 58,
   "id": "049932e6",
   "metadata": {},
   "outputs": [
    {
     "data": {
      "text/plain": [
       "0"
      ]
     },
     "execution_count": 58,
     "metadata": {},
     "output_type": "execute_result"
    }
   ],
   "source": [
    "len(amazon[amazon['제품명']=='Ottogi Hot Jin Ramen Noodles, 4.23 Ounce (Pack of 20)'])"
   ]
  },
  {
   "cell_type": "code",
   "execution_count": 59,
   "id": "30a875b2",
   "metadata": {
    "scrolled": true
   },
   "outputs": [
    {
     "data": {
      "text/plain": [
       "37"
      ]
     },
     "execution_count": 59,
     "metadata": {},
     "output_type": "execute_result"
    }
   ],
   "source": [
    "len(amazon22[amazon22['제품명']=='Ottogi Hot Jin Ramen Noodles, 4.23 Ounce (Pack of 20)'])"
   ]
  },
  {
   "cell_type": "markdown",
   "id": "b2349ea9",
   "metadata": {},
   "source": [
    "## 진라면(순한맛)"
   ]
  },
  {
   "cell_type": "code",
   "execution_count": 56,
   "id": "bd5df6e3",
   "metadata": {
    "scrolled": false
   },
   "outputs": [
    {
     "data": {
      "text/plain": [
       "10"
      ]
     },
     "execution_count": 56,
     "metadata": {},
     "output_type": "execute_result"
    }
   ],
   "source": [
    "len(amazon[amazon['제품명']=='Jin Ramen'])"
   ]
  },
  {
   "cell_type": "code",
   "execution_count": 57,
   "id": "a2db00f1",
   "metadata": {
    "collapsed": true
   },
   "outputs": [
    {
     "data": {
      "text/plain": [
       "10"
      ]
     },
     "execution_count": 57,
     "metadata": {},
     "output_type": "execute_result"
    }
   ],
   "source": [
    "len(amazon22[amazon22['제품명']=='Jin Ramen'])"
   ]
  },
  {
   "cell_type": "markdown",
   "id": "d808ca38",
   "metadata": {},
   "source": [
    "## 진짬뽕"
   ]
  },
  {
   "cell_type": "code",
   "execution_count": 188,
   "id": "dc509f48",
   "metadata": {
    "scrolled": false
   },
   "outputs": [
    {
     "data": {
      "text/plain": [
       "10"
      ]
     },
     "execution_count": 188,
     "metadata": {},
     "output_type": "execute_result"
    }
   ],
   "source": [
    "len(amazon[amazon['제품명']=='[OTTOGI] JIN Jjambbong- Korean Style Instant Noodle - Spicy Seafood Noodle (130g) - 4 Pack'])"
   ]
  },
  {
   "cell_type": "code",
   "execution_count": 61,
   "id": "bcbf1049",
   "metadata": {},
   "outputs": [
    {
     "data": {
      "text/plain": [
       "10"
      ]
     },
     "execution_count": 61,
     "metadata": {},
     "output_type": "execute_result"
    }
   ],
   "source": [
    "len(amazon22[amazon22['제품명']=='[OTTOGI] JIN Jjambbong- Korean Style Instant Noodle - Spicy Seafood Noodle (130g) - 4 Pack'])"
   ]
  },
  {
   "cell_type": "markdown",
   "id": "f45ce513",
   "metadata": {},
   "source": [
    "# 삼양"
   ]
  },
  {
   "cell_type": "markdown",
   "id": "ec74b806",
   "metadata": {},
   "source": [
    "## 불닭볶음면"
   ]
  },
  {
   "cell_type": "code",
   "execution_count": 62,
   "id": "7ed6e5f1",
   "metadata": {
    "scrolled": true
   },
   "outputs": [
    {
     "data": {
      "text/plain": [
       "974"
      ]
     },
     "execution_count": 62,
     "metadata": {},
     "output_type": "execute_result"
    }
   ],
   "source": [
    "len(amazon[amazon['제품명']=='Samyang Buldak Korean Hot Spicy Chicken Stir-Fried Ramyun Noodles 4.94 oz (Pack of 5)'])"
   ]
  },
  {
   "cell_type": "code",
   "execution_count": 63,
   "id": "f2b32bc5",
   "metadata": {},
   "outputs": [
    {
     "data": {
      "text/plain": [
       "980"
      ]
     },
     "execution_count": 63,
     "metadata": {},
     "output_type": "execute_result"
    }
   ],
   "source": [
    "len(amazon22[amazon22['제품명']=='Samyang Buldak Korean Hot Spicy Chicken Stir-Fried Ramyun Noodles 4.94 oz (Pack of 5)'])"
   ]
  },
  {
   "cell_type": "code",
   "execution_count": 64,
   "id": "91418782",
   "metadata": {
    "scrolled": false
   },
   "outputs": [
    {
     "data": {
      "text/plain": [
       "2265"
      ]
     },
     "execution_count": 64,
     "metadata": {},
     "output_type": "execute_result"
    }
   ],
   "source": [
    "len(amazon[amazon['제품명']=='New Samyang Ramen/Spicy Chicken Roasted Noodles, 4.94 oz (Pack of 5)'])"
   ]
  },
  {
   "cell_type": "code",
   "execution_count": 65,
   "id": "06938908",
   "metadata": {},
   "outputs": [
    {
     "data": {
      "text/plain": [
       "2265"
      ]
     },
     "execution_count": 65,
     "metadata": {},
     "output_type": "execute_result"
    }
   ],
   "source": [
    "len(amazon22[amazon22['제품명']=='New Samyang Ramen/Spicy Chicken Roasted Noodles, 4.94 oz (Pack of 5)'])"
   ]
  },
  {
   "cell_type": "code",
   "execution_count": 66,
   "id": "7001c4b6",
   "metadata": {
    "scrolled": false
   },
   "outputs": [
    {
     "data": {
      "text/plain": [
       "4414"
      ]
     },
     "execution_count": 66,
     "metadata": {},
     "output_type": "execute_result"
    }
   ],
   "source": [
    "len(amazon[amazon['제품명']=='Samyang Hot chicken stir fried ramen noodle, Carbo 5 pk, 22.9 Ounce'])"
   ]
  },
  {
   "cell_type": "code",
   "execution_count": 67,
   "id": "a6852685",
   "metadata": {
    "scrolled": true
   },
   "outputs": [
    {
     "data": {
      "text/plain": [
       "4414"
      ]
     },
     "execution_count": 67,
     "metadata": {},
     "output_type": "execute_result"
    }
   ],
   "source": [
    "len(amazon22[amazon22['제품명']=='Samyang Hot chicken stir fried ramen noodle, Carbo 5 pk, 22.9 Ounce'])"
   ]
  },
  {
   "cell_type": "markdown",
   "id": "8570951d",
   "metadata": {},
   "source": [
    "## 까르보 불닭볶음면"
   ]
  },
  {
   "cell_type": "code",
   "execution_count": 68,
   "id": "d19c1c17",
   "metadata": {
    "scrolled": true
   },
   "outputs": [
    {
     "data": {
      "text/plain": [
       "202"
      ]
     },
     "execution_count": 68,
     "metadata": {},
     "output_type": "execute_result"
    }
   ],
   "source": [
    "len(amazon[amazon['제품명']=='Samyang Fire Hot Cheese Flavored Chicken Ramen Noodles Pack of 5, Korean Noodles'])"
   ]
  },
  {
   "cell_type": "code",
   "execution_count": 69,
   "id": "21b58496",
   "metadata": {},
   "outputs": [
    {
     "data": {
      "text/plain": [
       "202"
      ]
     },
     "execution_count": 69,
     "metadata": {},
     "output_type": "execute_result"
    }
   ],
   "source": [
    "len(amazon22[amazon22['제품명']=='Samyang Fire Hot Cheese Flavored Chicken Ramen Noodles Pack of 5, Korean Noodles'])"
   ]
  },
  {
   "cell_type": "markdown",
   "id": "213494a8",
   "metadata": {},
   "source": [
    "## 치즈 불닭볶음면"
   ]
  },
  {
   "cell_type": "code",
   "execution_count": 70,
   "id": "e8a19986",
   "metadata": {
    "scrolled": true
   },
   "outputs": [
    {
     "data": {
      "text/plain": [
       "120"
      ]
     },
     "execution_count": 70,
     "metadata": {},
     "output_type": "execute_result"
    }
   ],
   "source": [
    "len(amazon[amazon['제품명']=='2016 new Samyang Ramen / Spicy Chicken Roasted Stir Buldak Noodles Cheese Flavor, 4.93 oz (Pack of 5)'])"
   ]
  },
  {
   "cell_type": "code",
   "execution_count": 71,
   "id": "bf550684",
   "metadata": {},
   "outputs": [
    {
     "data": {
      "text/plain": [
       "120"
      ]
     },
     "execution_count": 71,
     "metadata": {},
     "output_type": "execute_result"
    }
   ],
   "source": [
    "len(amazon22[amazon22['제품명']=='2016 new Samyang Ramen / Spicy Chicken Roasted Stir Buldak Noodles Cheese Flavor, 4.93 oz (Pack of 5)'])"
   ]
  },
  {
   "cell_type": "code",
   "execution_count": 72,
   "id": "2caf0ebb",
   "metadata": {
    "scrolled": false
   },
   "outputs": [
    {
     "data": {
      "text/plain": [
       "323"
      ]
     },
     "execution_count": 72,
     "metadata": {},
     "output_type": "execute_result"
    }
   ],
   "source": [
    "len(amazon[amazon['제품명']=='Fusion Select 2016 new Samyang Ramen / Spicy Chicken Roasted Stir Buldak Noodles Cheese Flavor, 4.93 oz (Pack of 10)'])"
   ]
  },
  {
   "cell_type": "code",
   "execution_count": 73,
   "id": "0dfa3d10",
   "metadata": {},
   "outputs": [
    {
     "data": {
      "text/plain": [
       "323"
      ]
     },
     "execution_count": 73,
     "metadata": {},
     "output_type": "execute_result"
    }
   ],
   "source": [
    "len(amazon22[amazon22['제품명']=='Fusion Select 2016 new Samyang Ramen / Spicy Chicken Roasted Stir Buldak Noodles Cheese Flavor, 4.93 oz (Pack of 10)'])"
   ]
  },
  {
   "cell_type": "code",
   "execution_count": 74,
   "id": "50221e02",
   "metadata": {
    "scrolled": true
   },
   "outputs": [
    {
     "data": {
      "text/plain": [
       "58"
      ]
     },
     "execution_count": 74,
     "metadata": {},
     "output_type": "execute_result"
    }
   ],
   "source": [
    "len(amazon[amazon['제품명']=='Samyang 2X Spicy Hot Chicken Flavor Ramen_KOREAN SPICY NOODLE (140g Each) (5 packs)'])"
   ]
  },
  {
   "cell_type": "markdown",
   "id": "26daf4e4",
   "metadata": {},
   "source": [
    "## 핵 불닭볶음면"
   ]
  },
  {
   "cell_type": "code",
   "execution_count": 75,
   "id": "9e6660eb",
   "metadata": {
    "scrolled": true
   },
   "outputs": [
    {
     "data": {
      "text/plain": [
       "940"
      ]
     },
     "execution_count": 75,
     "metadata": {},
     "output_type": "execute_result"
    }
   ],
   "source": [
    "len(amazon22[amazon22['제품명']=='Samyang 2X Spicy Hot Chicken Flavor Ramen_KOREAN SPICY NOODLE (140g Each) (5 packs)'])"
   ]
  },
  {
   "cell_type": "markdown",
   "id": "82b16a6a",
   "metadata": {},
   "source": [
    "## 콘 불닭볶음면"
   ]
  },
  {
   "cell_type": "code",
   "execution_count": 76,
   "id": "b80a3bee",
   "metadata": {
    "scrolled": true
   },
   "outputs": [
    {
     "data": {
      "text/plain": [
       "50"
      ]
     },
     "execution_count": 76,
     "metadata": {},
     "output_type": "execute_result"
    }
   ],
   "source": [
    "len(amazon[amazon['제품명']=='Samyang Hot Chicken Buldak Corn Flavor Ramen Korean Spicy Ramen (Pack of 5)'])"
   ]
  },
  {
   "cell_type": "code",
   "execution_count": 77,
   "id": "d125f423",
   "metadata": {
    "scrolled": true
   },
   "outputs": [
    {
     "data": {
      "text/plain": [
       "50"
      ]
     },
     "execution_count": 77,
     "metadata": {},
     "output_type": "execute_result"
    }
   ],
   "source": [
    "len(amazon22[amazon22['제품명']=='Samyang Hot Chicken Buldak Corn Flavor Ramen Korean Spicy Ramen (Pack of 5)'])"
   ]
  },
  {
   "cell_type": "markdown",
   "id": "8f98c572",
   "metadata": {},
   "source": [
    "## 삼양라면"
   ]
  },
  {
   "cell_type": "code",
   "execution_count": 78,
   "id": "baf0bd53",
   "metadata": {},
   "outputs": [
    {
     "data": {
      "text/plain": [
       "7"
      ]
     },
     "execution_count": 78,
     "metadata": {},
     "output_type": "execute_result"
    }
   ],
   "source": [
    "len(amazon[amazon['제품명']=='Samyang Ramen Noodle Soup, 21.50-Ounce Units (Pack of 8)'])"
   ]
  },
  {
   "cell_type": "code",
   "execution_count": 79,
   "id": "b95cf8e8",
   "metadata": {},
   "outputs": [
    {
     "data": {
      "text/plain": [
       "7"
      ]
     },
     "execution_count": 79,
     "metadata": {},
     "output_type": "execute_result"
    }
   ],
   "source": [
    "len(amazon22[amazon22['제품명']=='Samyang Ramen Noodle Soup, 21.50-Ounce Units (Pack of 8)'])"
   ]
  },
  {
   "cell_type": "code",
   "execution_count": 80,
   "id": "15e48748",
   "metadata": {
    "scrolled": true
   },
   "outputs": [
    {
     "data": {
      "text/plain": [
       "22"
      ]
     },
     "execution_count": 80,
     "metadata": {},
     "output_type": "execute_result"
    }
   ],
   "source": [
    "len(amazon[amazon['제품명']=='Samyang Ramen Korean Noodle Soup, 4.23 oz (Pack of 5)'])"
   ]
  },
  {
   "cell_type": "code",
   "execution_count": 81,
   "id": "4c8b0b95",
   "metadata": {},
   "outputs": [
    {
     "data": {
      "text/plain": [
       "22"
      ]
     },
     "execution_count": 81,
     "metadata": {},
     "output_type": "execute_result"
    }
   ],
   "source": [
    "len(amazon22[amazon22['제품명']=='Samyang Ramen Korean Noodle Soup, 4.23 oz (Pack of 5)'])"
   ]
  },
  {
   "cell_type": "markdown",
   "id": "45f5480e",
   "metadata": {},
   "source": [
    "# Annie Chun's"
   ]
  },
  {
   "cell_type": "markdown",
   "id": "d8bde07b",
   "metadata": {},
   "source": [
    "## Udon"
   ]
  },
  {
   "cell_type": "code",
   "execution_count": 82,
   "id": "75d611a7",
   "metadata": {
    "scrolled": false
   },
   "outputs": [
    {
     "data": {
      "text/plain": [
       "169"
      ]
     },
     "execution_count": 82,
     "metadata": {},
     "output_type": "execute_result"
    }
   ],
   "source": [
    "len(amazon[amazon['제품명']==\"Annie Chun's - Noodle Soup Bowl, Japanese-Style Udon, Instant & Microwavable Chewy Noodles, Vegan and Delicious, 5.9 Oz (Pack of 6)\"])"
   ]
  },
  {
   "cell_type": "code",
   "execution_count": 83,
   "id": "73f7b46f",
   "metadata": {
    "scrolled": true
   },
   "outputs": [
    {
     "data": {
      "text/plain": [
       "169"
      ]
     },
     "execution_count": 83,
     "metadata": {},
     "output_type": "execute_result"
    }
   ],
   "source": [
    "len(amazon22[amazon22['제품명']==\"Annie Chun's - Noodle Soup Bowl, Japanese-Style Udon, Instant & Microwavable Chewy Noodles, Vegan and Delicious, 5.9 Oz (Pack of 6)\"])"
   ]
  },
  {
   "cell_type": "markdown",
   "id": "5ad8bafa",
   "metadata": {},
   "source": [
    "## Peanut Sesame"
   ]
  },
  {
   "cell_type": "code",
   "execution_count": 84,
   "id": "09c5a399",
   "metadata": {
    "scrolled": true
   },
   "outputs": [
    {
     "data": {
      "text/plain": [
       "725"
      ]
     },
     "execution_count": 84,
     "metadata": {},
     "output_type": "execute_result"
    }
   ],
   "source": [
    "len(amazon[amazon['제품명']==\"Annie Chun's - Noodle Bowl, Thai-Style Peanut Sesame Flavor, Instant & Microwavable, Non-GMO, Vegan, Healthy & Delicious, 8.7 Oz (Pack of 6)\"])"
   ]
  },
  {
   "cell_type": "code",
   "execution_count": 85,
   "id": "f0dcccba",
   "metadata": {
    "scrolled": true
   },
   "outputs": [
    {
     "data": {
      "text/plain": [
       "725"
      ]
     },
     "execution_count": 85,
     "metadata": {},
     "output_type": "execute_result"
    }
   ],
   "source": [
    "len(amazon22[amazon22['제품명']==\"Annie Chun's - Noodle Bowl, Thai-Style Peanut Sesame Flavor, Instant & Microwavable, Non-GMO, Vegan, Healthy & Delicious, 8.7 Oz (Pack of 6)\"])"
   ]
  },
  {
   "cell_type": "markdown",
   "id": "8323f61f",
   "metadata": {},
   "source": [
    "## Miso"
   ]
  },
  {
   "cell_type": "code",
   "execution_count": 86,
   "id": "16149ce2",
   "metadata": {
    "scrolled": true
   },
   "outputs": [
    {
     "data": {
      "text/plain": [
       "117"
      ]
     },
     "execution_count": 86,
     "metadata": {},
     "output_type": "execute_result"
    }
   ],
   "source": [
    "len(amazon[amazon['제품명']==\"Annie Chun's - Noodle Soup Bowl, Japanese Style Miso, Instant & Microwaveable Noodles, Vegan, Hearty and Delicious, 5.9 Oz (Pack of 6)\"])"
   ]
  },
  {
   "cell_type": "code",
   "execution_count": 87,
   "id": "acd7d78c",
   "metadata": {
    "scrolled": true
   },
   "outputs": [
    {
     "data": {
      "text/plain": [
       "117"
      ]
     },
     "execution_count": 87,
     "metadata": {},
     "output_type": "execute_result"
    }
   ],
   "source": [
    "len(amazon22[amazon22['제품명']==\"Annie Chun's - Noodle Soup Bowl, Japanese Style Miso, Instant & Microwaveable Noodles, Vegan, Hearty and Delicious, 5.9 Oz (Pack of 6)\"])"
   ]
  },
  {
   "cell_type": "markdown",
   "id": "01bf07fe",
   "metadata": {},
   "source": [
    "## Spicy Ramen"
   ]
  },
  {
   "cell_type": "code",
   "execution_count": 88,
   "id": "49a7c8e7",
   "metadata": {
    "scrolled": false
   },
   "outputs": [
    {
     "data": {
      "text/plain": [
       "179"
      ]
     },
     "execution_count": 88,
     "metadata": {},
     "output_type": "execute_result"
    }
   ],
   "source": [
    "len(amazon[amazon['제품명']==\"Annie Chun's Korean Spicy Ramen, Vegan, Non-GMO, 5.4 Oz (Pack of 6)\"])"
   ]
  },
  {
   "cell_type": "code",
   "execution_count": 89,
   "id": "1dec477f",
   "metadata": {
    "scrolled": true
   },
   "outputs": [
    {
     "data": {
      "text/plain": [
       "179"
      ]
     },
     "execution_count": 89,
     "metadata": {},
     "output_type": "execute_result"
    }
   ],
   "source": [
    "len(amazon22[amazon22['제품명']==\"Annie Chun's Korean Spicy Ramen, Vegan, Non-GMO, 5.4 Oz (Pack of 6)\"])"
   ]
  },
  {
   "cell_type": "markdown",
   "id": "9d7671b5",
   "metadata": {},
   "source": [
    "## Pad Thai"
   ]
  },
  {
   "cell_type": "code",
   "execution_count": 90,
   "id": "6a1bca2a",
   "metadata": {
    "scrolled": true
   },
   "outputs": [
    {
     "data": {
      "text/plain": [
       "196"
      ]
     },
     "execution_count": 90,
     "metadata": {},
     "output_type": "execute_result"
    }
   ],
   "source": [
    "len(amazon[amazon['제품명']==\"Annie Chun's Pad Thai Brown Rice Noodles, Non GMO, Vegan, Gluten Free, Low Fat, 8 Oz (Pack of 6)\"])"
   ]
  },
  {
   "cell_type": "code",
   "execution_count": 91,
   "id": "600f619c",
   "metadata": {
    "scrolled": true
   },
   "outputs": [
    {
     "data": {
      "text/plain": [
       "196"
      ]
     },
     "execution_count": 91,
     "metadata": {},
     "output_type": "execute_result"
    }
   ],
   "source": [
    "len(amazon22[amazon22['제품명']==\"Annie Chun's Pad Thai Brown Rice Noodles, Non GMO, Vegan, Gluten Free, Low Fat, 8 Oz (Pack of 6)\"])"
   ]
  },
  {
   "cell_type": "markdown",
   "id": "61bdd18d",
   "metadata": {},
   "source": [
    "## Maifun"
   ]
  },
  {
   "cell_type": "code",
   "execution_count": 92,
   "id": "0fedc275",
   "metadata": {
    "scrolled": true
   },
   "outputs": [
    {
     "data": {
      "text/plain": [
       "0"
      ]
     },
     "execution_count": 92,
     "metadata": {},
     "output_type": "execute_result"
    }
   ],
   "source": [
    "len(amazon[amazon['제품명']==\"Annie Chun's Brown Rice Noodle,Brown Rice Pad Thai, 8 Ounce\"])"
   ]
  },
  {
   "cell_type": "code",
   "execution_count": 93,
   "id": "f1491258",
   "metadata": {
    "scrolled": true
   },
   "outputs": [
    {
     "data": {
      "text/plain": [
       "29"
      ]
     },
     "execution_count": 93,
     "metadata": {},
     "output_type": "execute_result"
    }
   ],
   "source": [
    "len(amazon22[amazon22['제품명']==\"Annie Chun's Brown Rice Noodle,Brown Rice Pad Thai, 8 Ounce\"])"
   ]
  },
  {
   "cell_type": "code",
   "execution_count": 94,
   "id": "61e8a8fe",
   "metadata": {
    "scrolled": true
   },
   "outputs": [
    {
     "data": {
      "text/plain": [
       "35"
      ]
     },
     "execution_count": 94,
     "metadata": {},
     "output_type": "execute_result"
    }
   ],
   "source": [
    "len(amazon[amazon['제품명']==\"Annie Chun's Brown Rice Noodles, Maifun | Vegan, 8-oz (Pack of 6) | Whole Grain | Gluten-Free Alternative to Angel Hair Pasta (43713-60947)\"])"
   ]
  },
  {
   "cell_type": "code",
   "execution_count": 103,
   "id": "82dd93a1",
   "metadata": {},
   "outputs": [
    {
     "data": {
      "text/plain": [
       "35"
      ]
     },
     "execution_count": 103,
     "metadata": {},
     "output_type": "execute_result"
    }
   ],
   "source": [
    "len(amazon22[amazon22['제품명']==\"Annie Chun's Brown Rice Noodles, Maifun | Vegan, 8-oz (Pack of 6) | Whole Grain | Gluten-Free Alternative to Angel Hair Pasta (43713-60947)\"])"
   ]
  },
  {
   "cell_type": "code",
   "execution_count": 104,
   "id": "98c47b8a",
   "metadata": {},
   "outputs": [
    {
     "data": {
      "text/plain": [
       "30"
      ]
     },
     "execution_count": 104,
     "metadata": {},
     "output_type": "execute_result"
    }
   ],
   "source": [
    "len(amazon[amazon['제품명']==\"Annie Chun's Rice Noodles, Maifun, Vegan, Gluten-Free, 8-oz (Pack of 6)\"])"
   ]
  },
  {
   "cell_type": "code",
   "execution_count": 105,
   "id": "b76a3403",
   "metadata": {
    "scrolled": false
   },
   "outputs": [
    {
     "data": {
      "text/plain": [
       "30"
      ]
     },
     "execution_count": 105,
     "metadata": {},
     "output_type": "execute_result"
    }
   ],
   "source": [
    "len(amazon22[amazon22['제품명']==\"Annie Chun's Rice Noodles, Maifun, Vegan, Gluten-Free, 8-oz (Pack of 6)\"])"
   ]
  },
  {
   "cell_type": "markdown",
   "id": "87abfea3",
   "metadata": {},
   "source": [
    "## Sweet Chili"
   ]
  },
  {
   "cell_type": "code",
   "execution_count": 107,
   "id": "5a8a69b8",
   "metadata": {
    "scrolled": true
   },
   "outputs": [
    {
     "data": {
      "text/plain": [
       "25"
      ]
     },
     "execution_count": 107,
     "metadata": {},
     "output_type": "execute_result"
    }
   ],
   "source": [
    "len(amazon[amazon['제품명']==\"Annie Chuns Korean Sweet Chili Noodle, 7.9 Ounce Bowl - 6 per case.\"])"
   ]
  },
  {
   "cell_type": "code",
   "execution_count": 108,
   "id": "de986027",
   "metadata": {},
   "outputs": [
    {
     "data": {
      "text/plain": [
       "25"
      ]
     },
     "execution_count": 108,
     "metadata": {},
     "output_type": "execute_result"
    }
   ],
   "source": [
    "len(amazon22[amazon22['제품명']==\"Annie Chuns Korean Sweet Chili Noodle, 7.9 Ounce Bowl - 6 per case.\"])"
   ]
  },
  {
   "cell_type": "markdown",
   "id": "c55e6313",
   "metadata": {},
   "source": [
    "## Yakisoba"
   ]
  },
  {
   "cell_type": "code",
   "execution_count": 106,
   "id": "62662851",
   "metadata": {
    "scrolled": true
   },
   "outputs": [
    {
     "data": {
      "text/plain": [
       "4"
      ]
     },
     "execution_count": 106,
     "metadata": {},
     "output_type": "execute_result"
    }
   ],
   "source": [
    "len(amazon[amazon['제품명']==\"Annie Chun's Yakisoba Noodle Bowl, Non-GMO, 7.9-oz\"])"
   ]
  },
  {
   "cell_type": "code",
   "execution_count": 109,
   "id": "720d8125",
   "metadata": {
    "scrolled": true
   },
   "outputs": [
    {
     "data": {
      "text/plain": [
       "4"
      ]
     },
     "execution_count": 109,
     "metadata": {},
     "output_type": "execute_result"
    }
   ],
   "source": [
    "len(amazon22[amazon22['제품명']==\"Annie Chun's Yakisoba Noodle Bowl, Non-GMO, 7.9-oz\"])"
   ]
  },
  {
   "cell_type": "markdown",
   "id": "90b738f2",
   "metadata": {},
   "source": [
    "## Shoyu ramen"
   ]
  },
  {
   "cell_type": "code",
   "execution_count": 110,
   "id": "c51f88f4",
   "metadata": {
    "scrolled": false
   },
   "outputs": [
    {
     "data": {
      "text/plain": [
       "7"
      ]
     },
     "execution_count": 110,
     "metadata": {},
     "output_type": "execute_result"
    }
   ],
   "source": [
    "len(amazon[amazon['제품명']==\"Annie Chun's Soup Bowl, Japanese Style Shoyu Ramen, Vegan, Non GMO, 5.4 Oz\"])"
   ]
  },
  {
   "cell_type": "code",
   "execution_count": 111,
   "id": "7394f99c",
   "metadata": {
    "scrolled": true
   },
   "outputs": [
    {
     "data": {
      "text/plain": [
       "7"
      ]
     },
     "execution_count": 111,
     "metadata": {},
     "output_type": "execute_result"
    }
   ],
   "source": [
    "len(amazon22[amazon22['제품명']==\"Annie Chun's Soup Bowl, Japanese Style Shoyu Ramen, Vegan, Non GMO, 5.4 Oz\"])"
   ]
  },
  {
   "cell_type": "markdown",
   "id": "888af9bb",
   "metadata": {},
   "source": [
    "# 팔도 김치라면(큰 컵)"
   ]
  },
  {
   "cell_type": "code",
   "execution_count": 113,
   "id": "2aea2d54",
   "metadata": {},
   "outputs": [
    {
     "data": {
      "text/plain": [
       "65"
      ]
     },
     "execution_count": 113,
     "metadata": {},
     "output_type": "execute_result"
    }
   ],
   "source": [
    "len(amazon[amazon['제품명']==\"Paldo Fun & Yum Instant Cup Noodle Soup Bowl with Kimchi Based Broth, Pack of 12, Best Oriental Style Korean Ramyun, Most Loved Korean Noodles, 김치 사발면 86g (3.04 oz) x 12\"])"
   ]
  },
  {
   "cell_type": "code",
   "execution_count": 114,
   "id": "a77eb30a",
   "metadata": {
    "scrolled": true
   },
   "outputs": [
    {
     "data": {
      "text/plain": [
       "65"
      ]
     },
     "execution_count": 114,
     "metadata": {},
     "output_type": "execute_result"
    }
   ],
   "source": [
    "len(amazon22[amazon22['제품명']==\"Paldo Fun & Yum Instant Cup Noodle Soup Bowl with Kimchi Based Broth, Pack of 12, Best Oriental Style Korean Ramyun, Most Loved Korean Noodles, 김치 사발면 86g (3.04 oz) x 12\"])"
   ]
  }
 ],
 "metadata": {
  "kernelspec": {
   "display_name": "Python 3 (ipykernel)",
   "language": "python",
   "name": "python3"
  },
  "language_info": {
   "codemirror_mode": {
    "name": "ipython",
    "version": 3
   },
   "file_extension": ".py",
   "mimetype": "text/x-python",
   "name": "python",
   "nbconvert_exporter": "python",
   "pygments_lexer": "ipython3",
   "version": "3.9.13"
  },
  "toc": {
   "base_numbering": 1,
   "nav_menu": {},
   "number_sections": true,
   "sideBar": true,
   "skip_h1_title": false,
   "title_cell": "Table of Contents",
   "title_sidebar": "Contents",
   "toc_cell": false,
   "toc_position": {
    "height": "calc(100% - 180px)",
    "left": "10px",
    "top": "150px",
    "width": "341.333px"
   },
   "toc_section_display": true,
   "toc_window_display": true
  }
 },
 "nbformat": 4,
 "nbformat_minor": 5
}
