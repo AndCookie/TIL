{
 "cells": [
  {
   "cell_type": "code",
   "execution_count": 2,
   "id": "e843afa8",
   "metadata": {},
   "outputs": [],
   "source": [
    "import os\n",
    "import shutil"
   ]
  },
  {
   "cell_type": "code",
   "execution_count": 2,
   "id": "31572c9e",
   "metadata": {},
   "outputs": [
    {
     "name": "stdout",
     "output_type": "stream",
     "text": [
      "Renamed 01. Raw Data (Bidet) to 01-1. Raw Data (Bidet)\n"
     ]
    }
   ],
   "source": [
    "old_name = \"01. Raw Data (Bidet)\"\n",
    "new_name = \"01-1. Raw Data (Bidet)\"\n",
    "\n",
    "try:\n",
    "    shutil.move(old_name, new_name)\n",
    "    print(f\"Renamed {old_name} to {new_name}\")\n",
    "except Exception as e:\n",
    "    print(f\"An error occurred while renaming {old_name} to {new_name}.\")\n",
    "    print(f\"Error message: {str(e)}\")"
   ]
  },
  {
   "cell_type": "code",
   "execution_count": 4,
   "id": "29bf373a",
   "metadata": {},
   "outputs": [
    {
     "name": "stdout",
     "output_type": "stream",
     "text": [
      "Renamed 01. Raw Data (Open) to 01-2. Raw Data (Open)\n"
     ]
    }
   ],
   "source": [
    "old_name = \"01. Raw Data (Open)\"\n",
    "new_name = \"01-2. Raw Data (Open)\"\n",
    "\n",
    "try:\n",
    "    shutil.move(old_name, new_name)\n",
    "    print(f\"Renamed {old_name} to {new_name}\")\n",
    "except Exception as e:\n",
    "    print(f\"An error occurred while renaming {old_name} to {new_name}.\")\n",
    "    print(f\"Error message: {str(e)}\")"
   ]
  },
  {
   "cell_type": "code",
   "execution_count": 3,
   "id": "46f07515",
   "metadata": {},
   "outputs": [
    {
     "name": "stdout",
     "output_type": "stream",
     "text": [
      "Renamed 02-1. Train_Test Data (Bidet) to 02. Train_Test Data (Bidet)\n"
     ]
    }
   ],
   "source": [
    "old_name = \"02-1. Train_Test Data (Bidet)\"\n",
    "new_name = \"02. Train_Test Data (Bidet)\"\n",
    "\n",
    "try:\n",
    "    shutil.move(old_name, new_name)\n",
    "    print(f\"Renamed {old_name} to {new_name}\")\n",
    "except Exception as e:\n",
    "    print(f\"An error occurred while renaming {old_name} to {new_name}.\")\n",
    "    print(f\"Error message: {str(e)}\")"
   ]
  },
  {
   "cell_type": "code",
   "execution_count": null,
   "id": "f4787726",
   "metadata": {},
   "outputs": [],
   "source": []
  }
 ],
 "metadata": {
  "kernelspec": {
   "display_name": "Python 3 (ipykernel)",
   "language": "python",
   "name": "python3"
  },
  "language_info": {
   "codemirror_mode": {
    "name": "ipython",
    "version": 3
   },
   "file_extension": ".py",
   "mimetype": "text/x-python",
   "name": "python",
   "nbconvert_exporter": "python",
   "pygments_lexer": "ipython3",
   "version": "3.9.13"
  },
  "toc": {
   "base_numbering": 1,
   "nav_menu": {},
   "number_sections": true,
   "sideBar": true,
   "skip_h1_title": false,
   "title_cell": "Table of Contents",
   "title_sidebar": "Contents",
   "toc_cell": false,
   "toc_position": {},
   "toc_section_display": true,
   "toc_window_display": false
  }
 },
 "nbformat": 4,
 "nbformat_minor": 5
}
