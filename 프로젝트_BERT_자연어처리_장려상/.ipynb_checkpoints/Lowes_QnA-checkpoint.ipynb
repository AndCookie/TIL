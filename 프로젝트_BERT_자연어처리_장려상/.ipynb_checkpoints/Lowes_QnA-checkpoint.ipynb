{
 "cells": [
  {
   "cell_type": "markdown",
   "id": "448ac8b6",
   "metadata": {},
   "source": [
    "# 데이터 로드"
   ]
  },
  {
   "cell_type": "code",
   "execution_count": 1,
   "id": "276eb220",
   "metadata": {},
   "outputs": [],
   "source": [
    "import numpy as np\n",
    "import pandas as pd"
   ]
  },
  {
   "cell_type": "code",
   "execution_count": 3,
   "id": "14b4bb14",
   "metadata": {},
   "outputs": [
    {
     "data": {
      "text/html": [
       "<div>\n",
       "<style scoped>\n",
       "    .dataframe tbody tr th:only-of-type {\n",
       "        vertical-align: middle;\n",
       "    }\n",
       "\n",
       "    .dataframe tbody tr th {\n",
       "        vertical-align: top;\n",
       "    }\n",
       "\n",
       "    .dataframe thead th {\n",
       "        text-align: right;\n",
       "    }\n",
       "</style>\n",
       "<table border=\"1\" class=\"dataframe\">\n",
       "  <thead>\n",
       "    <tr style=\"text-align: right;\">\n",
       "      <th></th>\n",
       "      <th>추출 날짜</th>\n",
       "      <th>수집채널</th>\n",
       "      <th>제품명</th>\n",
       "      <th>제품상세URL</th>\n",
       "      <th>질문일자</th>\n",
       "      <th>질문</th>\n",
       "      <th>답변일자</th>\n",
       "      <th>답변</th>\n",
       "      <th>Qna URL</th>\n",
       "    </tr>\n",
       "  </thead>\n",
       "  <tbody>\n",
       "    <tr>\n",
       "      <th>0</th>\n",
       "      <td>2022.12.09</td>\n",
       "      <td>Lowes</td>\n",
       "      <td>Bio Bidet  A8 White Elongated Slow-Close Heate...</td>\n",
       "      <td>https://www.lowes.com/pd/Bio-Bidet-Plastic-Elo...</td>\n",
       "      <td>2022.05.01</td>\n",
       "      <td>Can you preset users and if not which bio bide...</td>\n",
       "      <td>2022.05.02</td>\n",
       "      <td>Hi Mindi, Yes, this model has 2 user presets. ...</td>\n",
       "      <td>NaN</td>\n",
       "    </tr>\n",
       "    <tr>\n",
       "      <th>1</th>\n",
       "      <td>2022.12.09</td>\n",
       "      <td>Lowes</td>\n",
       "      <td>Bio Bidet  A8 White Elongated Slow-Close Heate...</td>\n",
       "      <td>https://www.lowes.com/pd/Bio-Bidet-Plastic-Elo...</td>\n",
       "      <td>2019.11.08</td>\n",
       "      <td>How long is the electrical cord?</td>\n",
       "      <td>2019.11.08</td>\n",
       "      <td>Its electrical cord is approximately 4 feet long.</td>\n",
       "      <td>NaN</td>\n",
       "    </tr>\n",
       "    <tr>\n",
       "      <th>2</th>\n",
       "      <td>2022.12.09</td>\n",
       "      <td>Lowes</td>\n",
       "      <td>Bio Bidet  A8 White Elongated Slow-Close Heate...</td>\n",
       "      <td>https://www.lowes.com/pd/Bio-Bidet-Plastic-Elo...</td>\n",
       "      <td>2019.11.08</td>\n",
       "      <td>How long is the electrical cord?</td>\n",
       "      <td>2020.10.07</td>\n",
       "      <td>4 ft.</td>\n",
       "      <td>NaN</td>\n",
       "    </tr>\n",
       "    <tr>\n",
       "      <th>3</th>\n",
       "      <td>2022.12.09</td>\n",
       "      <td>Lowes</td>\n",
       "      <td>Bio Bidet  BB-1000 White Elongated Slow-Close ...</td>\n",
       "      <td>https://www.lowes.com/pd/Bio-Bidet-Plastic-Elo...</td>\n",
       "      <td>2020.01.01</td>\n",
       "      <td>The water on my Bidet doesn't get heat anymore...</td>\n",
       "      <td>2020.07.28</td>\n",
       "      <td>Your bidet came with a warranty. Please reach ...</td>\n",
       "      <td>NaN</td>\n",
       "    </tr>\n",
       "    <tr>\n",
       "      <th>4</th>\n",
       "      <td>2022.12.09</td>\n",
       "      <td>Lowes</td>\n",
       "      <td>Bio Bidet  BB-1000 White Elongated Slow-Close ...</td>\n",
       "      <td>https://www.lowes.com/pd/Bio-Bidet-Plastic-Elo...</td>\n",
       "      <td>2020.08.29</td>\n",
       "      <td>How long is the electrical cord?</td>\n",
       "      <td>2020.09.01</td>\n",
       "      <td>Hello, The cord is 4ft long. Thanks, Bio Bidet</td>\n",
       "      <td>NaN</td>\n",
       "    </tr>\n",
       "  </tbody>\n",
       "</table>\n",
       "</div>"
      ],
      "text/plain": [
       "        추출 날짜   수집채널                                                제품명  \\\n",
       "0  2022.12.09  Lowes  Bio Bidet  A8 White Elongated Slow-Close Heate...   \n",
       "1  2022.12.09  Lowes  Bio Bidet  A8 White Elongated Slow-Close Heate...   \n",
       "2  2022.12.09  Lowes  Bio Bidet  A8 White Elongated Slow-Close Heate...   \n",
       "3  2022.12.09  Lowes  Bio Bidet  BB-1000 White Elongated Slow-Close ...   \n",
       "4  2022.12.09  Lowes  Bio Bidet  BB-1000 White Elongated Slow-Close ...   \n",
       "\n",
       "                                             제품상세URL        질문일자  \\\n",
       "0  https://www.lowes.com/pd/Bio-Bidet-Plastic-Elo...  2022.05.01   \n",
       "1  https://www.lowes.com/pd/Bio-Bidet-Plastic-Elo...  2019.11.08   \n",
       "2  https://www.lowes.com/pd/Bio-Bidet-Plastic-Elo...  2019.11.08   \n",
       "3  https://www.lowes.com/pd/Bio-Bidet-Plastic-Elo...  2020.01.01   \n",
       "4  https://www.lowes.com/pd/Bio-Bidet-Plastic-Elo...  2020.08.29   \n",
       "\n",
       "                                                  질문        답변일자  \\\n",
       "0  Can you preset users and if not which bio bide...  2022.05.02   \n",
       "1                   How long is the electrical cord?  2019.11.08   \n",
       "2                   How long is the electrical cord?  2020.10.07   \n",
       "3  The water on my Bidet doesn't get heat anymore...  2020.07.28   \n",
       "4                   How long is the electrical cord?  2020.09.01   \n",
       "\n",
       "                                                  답변  Qna URL  \n",
       "0  Hi Mindi, Yes, this model has 2 user presets. ...      NaN  \n",
       "1  Its electrical cord is approximately 4 feet long.      NaN  \n",
       "2                                              4 ft.      NaN  \n",
       "3  Your bidet came with a warranty. Please reach ...      NaN  \n",
       "4     Hello, The cord is 4ft long. Thanks, Bio Bidet      NaN  "
      ]
     },
     "execution_count": 3,
     "metadata": {},
     "output_type": "execute_result"
    }
   ],
   "source": [
    "Lowes_QnA_origin = pd.read_excel('Sample_Lowes_QnA_221209.xlsx')\n",
    "Lowes_QnA_origin.shape # (43,9)\n",
    "Lowes_QnA_origin.head()"
   ]
  },
  {
   "cell_type": "code",
   "execution_count": 15,
   "id": "ff8655c7",
   "metadata": {
    "scrolled": true
   },
   "outputs": [
    {
     "name": "stdout",
     "output_type": "stream",
     "text": [
      "<class 'pandas.core.frame.DataFrame'>\n",
      "RangeIndex: 43 entries, 0 to 42\n",
      "Data columns (total 9 columns):\n",
      " #   Column   Non-Null Count  Dtype  \n",
      "---  ------   --------------  -----  \n",
      " 0   추출 날짜    43 non-null     object \n",
      " 1   수집채널     43 non-null     object \n",
      " 2   제품명      43 non-null     object \n",
      " 3   제품상세URL  43 non-null     object \n",
      " 4   질문일자     43 non-null     object \n",
      " 5   질문       43 non-null     object \n",
      " 6   답변일자     37 non-null     object \n",
      " 7   답변       37 non-null     object \n",
      " 8   Qna URL  0 non-null      float64\n",
      "dtypes: float64(1), object(8)\n",
      "memory usage: 3.1+ KB\n"
     ]
    }
   ],
   "source": [
    "# 카피본 떠놓고 시작하기\n",
    "lowes_qna = Lowes_QnA_origin.copy()\n",
    "lowes_qna.info()"
   ]
  },
  {
   "cell_type": "markdown",
   "id": "e3215e1e",
   "metadata": {},
   "source": [
    "# 데이터 전처리"
   ]
  },
  {
   "cell_type": "markdown",
   "id": "cbae986d",
   "metadata": {},
   "source": [
    "## 컬럼 삭제"
   ]
  },
  {
   "cell_type": "code",
   "execution_count": 16,
   "id": "c46ade1a",
   "metadata": {},
   "outputs": [
    {
     "data": {
      "text/plain": [
       "Index(['제품명', '제품상세URL', '질문일자', '질문', '답변일자', '답변'], dtype='object')"
      ]
     },
     "execution_count": 16,
     "metadata": {},
     "output_type": "execute_result"
    }
   ],
   "source": [
    "lowes_qna = lowes_qna.drop(['추출 날짜', '수집채널', 'Qna URL'], axis=1)\n",
    "\n",
    "lowes_qna.columns"
   ]
  },
  {
   "cell_type": "markdown",
   "id": "7e0809a8",
   "metadata": {},
   "source": [
    "## NA 확인"
   ]
  },
  {
   "cell_type": "code",
   "execution_count": 17,
   "id": "da9c8356",
   "metadata": {
    "scrolled": true
   },
   "outputs": [
    {
     "data": {
      "text/plain": [
       "제품명        0\n",
       "제품상세URL    0\n",
       "질문일자       0\n",
       "질문         0\n",
       "답변일자       6\n",
       "답변         6\n",
       "dtype: int64"
      ]
     },
     "execution_count": 17,
     "metadata": {},
     "output_type": "execute_result"
    }
   ],
   "source": [
    "np.sum(lowes_qna.isna())"
   ]
  },
  {
   "cell_type": "markdown",
   "id": "6b8cc9ae",
   "metadata": {},
   "source": [
    "## 중복 확인"
   ]
  },
  {
   "cell_type": "code",
   "execution_count": 26,
   "id": "f119afb5",
   "metadata": {},
   "outputs": [
    {
     "data": {
      "text/plain": [
       "0"
      ]
     },
     "execution_count": 26,
     "metadata": {},
     "output_type": "execute_result"
    }
   ],
   "source": [
    "lowes_qna.duplicated().sum()"
   ]
  },
  {
   "cell_type": "markdown",
   "id": "8001e2ca",
   "metadata": {},
   "source": [
    "## 데이터 타입 변환"
   ]
  },
  {
   "cell_type": "code",
   "execution_count": 18,
   "id": "fcd552e8",
   "metadata": {},
   "outputs": [],
   "source": [
    "lowes_qna['질문일자']=pd.to_datetime(lowes_qna['질문일자'])\n",
    "lowes_qna['답변일자']=pd.to_datetime(lowes_qna['답변일자'])"
   ]
  },
  {
   "cell_type": "code",
   "execution_count": 19,
   "id": "7cdd46e5",
   "metadata": {
    "scrolled": true
   },
   "outputs": [
    {
     "name": "stdout",
     "output_type": "stream",
     "text": [
      "<class 'pandas.core.frame.DataFrame'>\n",
      "RangeIndex: 43 entries, 0 to 42\n",
      "Data columns (total 6 columns):\n",
      " #   Column   Non-Null Count  Dtype         \n",
      "---  ------   --------------  -----         \n",
      " 0   제품명      43 non-null     object        \n",
      " 1   제품상세URL  43 non-null     object        \n",
      " 2   질문일자     43 non-null     datetime64[ns]\n",
      " 3   질문       43 non-null     object        \n",
      " 4   답변일자     37 non-null     datetime64[ns]\n",
      " 5   답변       37 non-null     object        \n",
      "dtypes: datetime64[ns](2), object(4)\n",
      "memory usage: 2.1+ KB\n"
     ]
    }
   ],
   "source": [
    "lowes_qna.info()"
   ]
  },
  {
   "cell_type": "markdown",
   "id": "50b3d50f",
   "metadata": {},
   "source": [
    "## 회사명 추출"
   ]
  },
  {
   "cell_type": "code",
   "execution_count": 20,
   "id": "d693de8a",
   "metadata": {
    "scrolled": true
   },
   "outputs": [
    {
     "data": {
      "text/plain": [
       "0     https://www.lowes.com/pd/Bio-Bidet-Plastic-Elo...\n",
       "1     https://www.lowes.com/pd/Bio-Bidet-Plastic-Elo...\n",
       "2     https://www.lowes.com/pd/Bio-Bidet-Plastic-Elo...\n",
       "3     https://www.lowes.com/pd/Bio-Bidet-Plastic-Elo...\n",
       "4     https://www.lowes.com/pd/Bio-Bidet-Plastic-Elo...\n",
       "5     https://www.lowes.com/pd/American-Standard-Spa...\n",
       "6     https://www.lowes.com/pd/American-Standard-Spa...\n",
       "7     https://www.lowes.com/pd/American-Standard-Spa...\n",
       "8     https://www.lowes.com/pd/American-Standard-Spa...\n",
       "9     https://www.lowes.com/pd/American-Standard-Spa...\n",
       "10    https://www.lowes.com/pd/American-Standard-Spa...\n",
       "11    https://www.lowes.com/pd/American-Standard-Spa...\n",
       "12    https://www.lowes.com/pd/American-Standard-Spa...\n",
       "13    https://www.lowes.com/pd/KOHLER-C3-230-White-E...\n",
       "14    https://www.lowes.com/pd/KOHLER-C3-155-White-E...\n",
       "15    https://www.lowes.com/pd/VOVO-WATERJET-Electri...\n",
       "16    https://www.lowes.com/pd/VOVO-WATERJET-Electri...\n",
       "17    https://www.lowes.com/pd/VOVO-WATERJET-Electri...\n",
       "18    https://www.lowes.com/pd/VOVO-WATERJET-Electri...\n",
       "19    https://www.lowes.com/pd/VOVO-WATERJET-Electri...\n",
       "20    https://www.lowes.com/pd/Brondell-Swash-1400-P...\n",
       "21    https://www.lowes.com/pd/Brondell-Swash-1400-P...\n",
       "22    https://www.lowes.com/pd/Brondell-Swash-1400-P...\n",
       "23    https://www.lowes.com/pd/Brondell-Swash-1400-P...\n",
       "24    https://www.lowes.com/pd/Brondell-Swash-1400-P...\n",
       "25    https://www.lowes.com/pd/Brondell-Swash-1400-P...\n",
       "26    https://www.lowes.com/pd/Brondell-Swash-1400-P...\n",
       "27    https://www.lowes.com/pd/Brondell-Swash-1400-P...\n",
       "28    https://www.lowes.com/pd/Brondell-Swash-1000-P...\n",
       "29    https://www.lowes.com/pd/Brondell-Swash-1000-P...\n",
       "30    https://www.lowes.com/pd/Brondell-Swash-1000-P...\n",
       "31    https://www.lowes.com/pd/Brondell-Swash-1000-P...\n",
       "32    https://www.lowes.com/pd/Brondell-Swash-1000-P...\n",
       "33    https://www.lowes.com/pd/Brondell-Swash-1000-P...\n",
       "34    https://www.lowes.com/pd/Brondell-Swash-1000-P...\n",
       "35    https://www.lowes.com/pd/Brondell-Swash-CL510-...\n",
       "36    https://www.lowes.com/pd/Brondell-Swash-CL510-...\n",
       "37    https://www.lowes.com/pd/Brondell-Swash-CL510-...\n",
       "38    https://www.lowes.com/pd/Brondell-Swash-CL510-...\n",
       "39    https://www.lowes.com/pd/Brondell-Swash-CL510-...\n",
       "40    https://www.lowes.com/pd/Brondell-Swash-CL510-...\n",
       "41    https://www.lowes.com/pd/Brondell-Swash-CL510-...\n",
       "42    https://www.lowes.com/pd/Brondell-Swash-CL510-...\n",
       "Name: 제품상세URL, dtype: object"
      ]
     },
     "execution_count": 20,
     "metadata": {},
     "output_type": "execute_result"
    }
   ],
   "source": [
    "lowes_qna['제품상세URL']"
   ]
  },
  {
   "cell_type": "code",
   "execution_count": 21,
   "id": "2cf5e888",
   "metadata": {},
   "outputs": [
    {
     "data": {
      "text/plain": [
       "43"
      ]
     },
     "execution_count": 21,
     "metadata": {},
     "output_type": "execute_result"
    }
   ],
   "source": [
    "lowes_qna['제품상세URL'].str.contains('toto|brondell|alpha-bidet|bio-bidet|American-Standard|KOHLER|VOVO', case=False).sum()"
   ]
  },
  {
   "cell_type": "code",
   "execution_count": 22,
   "id": "1baef761",
   "metadata": {
    "scrolled": true
   },
   "outputs": [
    {
     "name": "stdout",
     "output_type": "stream",
     "text": [
      "{'american', 'bio', 'brondell', 'vovo', 'kohler'}\n"
     ]
    }
   ],
   "source": [
    "company_list=[]\n",
    "\n",
    "for url in lowes_qna['제품상세URL']:\n",
    "    company_list.append(url.lower().split('/pd/')[1].split('-')[0])\n",
    "print(set(company_list))"
   ]
  },
  {
   "cell_type": "code",
   "execution_count": 23,
   "id": "56e2a5d6",
   "metadata": {
    "scrolled": true
   },
   "outputs": [
    {
     "data": {
      "text/plain": [
       "0          bio\n",
       "1          bio\n",
       "2          bio\n",
       "3          bio\n",
       "4          bio\n",
       "5     american\n",
       "6     american\n",
       "7     american\n",
       "8     american\n",
       "9     american\n",
       "10    american\n",
       "11    american\n",
       "12    american\n",
       "13      kohler\n",
       "14      kohler\n",
       "15        vovo\n",
       "16        vovo\n",
       "17        vovo\n",
       "18        vovo\n",
       "19        vovo\n",
       "20    brondell\n",
       "21    brondell\n",
       "22    brondell\n",
       "23    brondell\n",
       "24    brondell\n",
       "25    brondell\n",
       "26    brondell\n",
       "27    brondell\n",
       "28    brondell\n",
       "29    brondell\n",
       "30    brondell\n",
       "31    brondell\n",
       "32    brondell\n",
       "33    brondell\n",
       "34    brondell\n",
       "35    brondell\n",
       "36    brondell\n",
       "37    brondell\n",
       "38    brondell\n",
       "39    brondell\n",
       "40    brondell\n",
       "41    brondell\n",
       "42    brondell\n",
       "Name: 회사명, dtype: object"
      ]
     },
     "execution_count": 23,
     "metadata": {},
     "output_type": "execute_result"
    }
   ],
   "source": [
    "lowes_qna['회사명'] = company_list\n",
    "lowes_qna['회사명']"
   ]
  },
  {
   "cell_type": "code",
   "execution_count": 24,
   "id": "b3a5af54",
   "metadata": {},
   "outputs": [
    {
     "data": {
      "text/html": [
       "<div>\n",
       "<style scoped>\n",
       "    .dataframe tbody tr th:only-of-type {\n",
       "        vertical-align: middle;\n",
       "    }\n",
       "\n",
       "    .dataframe tbody tr th {\n",
       "        vertical-align: top;\n",
       "    }\n",
       "\n",
       "    .dataframe thead th {\n",
       "        text-align: right;\n",
       "    }\n",
       "</style>\n",
       "<table border=\"1\" class=\"dataframe\">\n",
       "  <thead>\n",
       "    <tr style=\"text-align: right;\">\n",
       "      <th></th>\n",
       "      <th>제품명</th>\n",
       "      <th>제품상세URL</th>\n",
       "      <th>질문일자</th>\n",
       "      <th>질문</th>\n",
       "      <th>답변일자</th>\n",
       "      <th>답변</th>\n",
       "      <th>회사명</th>\n",
       "    </tr>\n",
       "  </thead>\n",
       "  <tbody>\n",
       "    <tr>\n",
       "      <th>0</th>\n",
       "      <td>Bio Bidet  A8 White Elongated Slow-Close Heate...</td>\n",
       "      <td>https://www.lowes.com/pd/Bio-Bidet-Plastic-Elo...</td>\n",
       "      <td>2022-05-01</td>\n",
       "      <td>Can you preset users and if not which bio bide...</td>\n",
       "      <td>2022-05-02</td>\n",
       "      <td>Hi Mindi, Yes, this model has 2 user presets. ...</td>\n",
       "      <td>bio</td>\n",
       "    </tr>\n",
       "    <tr>\n",
       "      <th>1</th>\n",
       "      <td>Bio Bidet  A8 White Elongated Slow-Close Heate...</td>\n",
       "      <td>https://www.lowes.com/pd/Bio-Bidet-Plastic-Elo...</td>\n",
       "      <td>2019-11-08</td>\n",
       "      <td>How long is the electrical cord?</td>\n",
       "      <td>2019-11-08</td>\n",
       "      <td>Its electrical cord is approximately 4 feet long.</td>\n",
       "      <td>bio</td>\n",
       "    </tr>\n",
       "    <tr>\n",
       "      <th>2</th>\n",
       "      <td>Bio Bidet  A8 White Elongated Slow-Close Heate...</td>\n",
       "      <td>https://www.lowes.com/pd/Bio-Bidet-Plastic-Elo...</td>\n",
       "      <td>2019-11-08</td>\n",
       "      <td>How long is the electrical cord?</td>\n",
       "      <td>2020-10-07</td>\n",
       "      <td>4 ft.</td>\n",
       "      <td>bio</td>\n",
       "    </tr>\n",
       "    <tr>\n",
       "      <th>3</th>\n",
       "      <td>Bio Bidet  BB-1000 White Elongated Slow-Close ...</td>\n",
       "      <td>https://www.lowes.com/pd/Bio-Bidet-Plastic-Elo...</td>\n",
       "      <td>2020-01-01</td>\n",
       "      <td>The water on my Bidet doesn't get heat anymore...</td>\n",
       "      <td>2020-07-28</td>\n",
       "      <td>Your bidet came with a warranty. Please reach ...</td>\n",
       "      <td>bio</td>\n",
       "    </tr>\n",
       "    <tr>\n",
       "      <th>4</th>\n",
       "      <td>Bio Bidet  BB-1000 White Elongated Slow-Close ...</td>\n",
       "      <td>https://www.lowes.com/pd/Bio-Bidet-Plastic-Elo...</td>\n",
       "      <td>2020-08-29</td>\n",
       "      <td>How long is the electrical cord?</td>\n",
       "      <td>2020-09-01</td>\n",
       "      <td>Hello, The cord is 4ft long. Thanks, Bio Bidet</td>\n",
       "      <td>bio</td>\n",
       "    </tr>\n",
       "  </tbody>\n",
       "</table>\n",
       "</div>"
      ],
      "text/plain": [
       "                                                 제품명  \\\n",
       "0  Bio Bidet  A8 White Elongated Slow-Close Heate...   \n",
       "1  Bio Bidet  A8 White Elongated Slow-Close Heate...   \n",
       "2  Bio Bidet  A8 White Elongated Slow-Close Heate...   \n",
       "3  Bio Bidet  BB-1000 White Elongated Slow-Close ...   \n",
       "4  Bio Bidet  BB-1000 White Elongated Slow-Close ...   \n",
       "\n",
       "                                             제품상세URL       질문일자  \\\n",
       "0  https://www.lowes.com/pd/Bio-Bidet-Plastic-Elo... 2022-05-01   \n",
       "1  https://www.lowes.com/pd/Bio-Bidet-Plastic-Elo... 2019-11-08   \n",
       "2  https://www.lowes.com/pd/Bio-Bidet-Plastic-Elo... 2019-11-08   \n",
       "3  https://www.lowes.com/pd/Bio-Bidet-Plastic-Elo... 2020-01-01   \n",
       "4  https://www.lowes.com/pd/Bio-Bidet-Plastic-Elo... 2020-08-29   \n",
       "\n",
       "                                                  질문       답변일자  \\\n",
       "0  Can you preset users and if not which bio bide... 2022-05-02   \n",
       "1                   How long is the electrical cord? 2019-11-08   \n",
       "2                   How long is the electrical cord? 2020-10-07   \n",
       "3  The water on my Bidet doesn't get heat anymore... 2020-07-28   \n",
       "4                   How long is the electrical cord? 2020-09-01   \n",
       "\n",
       "                                                  답변  회사명  \n",
       "0  Hi Mindi, Yes, this model has 2 user presets. ...  bio  \n",
       "1  Its electrical cord is approximately 4 feet long.  bio  \n",
       "2                                              4 ft.  bio  \n",
       "3  Your bidet came with a warranty. Please reach ...  bio  \n",
       "4     Hello, The cord is 4ft long. Thanks, Bio Bidet  bio  "
      ]
     },
     "execution_count": 24,
     "metadata": {},
     "output_type": "execute_result"
    }
   ],
   "source": [
    "lowes_qna.head()"
   ]
  },
  {
   "cell_type": "code",
   "execution_count": 25,
   "id": "122db1c0",
   "metadata": {
    "scrolled": true
   },
   "outputs": [
    {
     "data": {
      "text/html": [
       "<div>\n",
       "<style scoped>\n",
       "    .dataframe tbody tr th:only-of-type {\n",
       "        vertical-align: middle;\n",
       "    }\n",
       "\n",
       "    .dataframe tbody tr th {\n",
       "        vertical-align: top;\n",
       "    }\n",
       "\n",
       "    .dataframe thead th {\n",
       "        text-align: right;\n",
       "    }\n",
       "</style>\n",
       "<table border=\"1\" class=\"dataframe\">\n",
       "  <thead>\n",
       "    <tr style=\"text-align: right;\">\n",
       "      <th></th>\n",
       "      <th>회사명</th>\n",
       "      <th>제품명</th>\n",
       "      <th>질문일자</th>\n",
       "      <th>질문</th>\n",
       "      <th>답변일자</th>\n",
       "      <th>답변</th>\n",
       "    </tr>\n",
       "  </thead>\n",
       "  <tbody>\n",
       "    <tr>\n",
       "      <th>0</th>\n",
       "      <td>bio</td>\n",
       "      <td>Bio Bidet  A8 White Elongated Slow-Close Heate...</td>\n",
       "      <td>2022-05-01</td>\n",
       "      <td>Can you preset users and if not which bio bide...</td>\n",
       "      <td>2022-05-02</td>\n",
       "      <td>Hi Mindi, Yes, this model has 2 user presets. ...</td>\n",
       "    </tr>\n",
       "    <tr>\n",
       "      <th>1</th>\n",
       "      <td>bio</td>\n",
       "      <td>Bio Bidet  A8 White Elongated Slow-Close Heate...</td>\n",
       "      <td>2019-11-08</td>\n",
       "      <td>How long is the electrical cord?</td>\n",
       "      <td>2019-11-08</td>\n",
       "      <td>Its electrical cord is approximately 4 feet long.</td>\n",
       "    </tr>\n",
       "    <tr>\n",
       "      <th>2</th>\n",
       "      <td>bio</td>\n",
       "      <td>Bio Bidet  A8 White Elongated Slow-Close Heate...</td>\n",
       "      <td>2019-11-08</td>\n",
       "      <td>How long is the electrical cord?</td>\n",
       "      <td>2020-10-07</td>\n",
       "      <td>4 ft.</td>\n",
       "    </tr>\n",
       "    <tr>\n",
       "      <th>3</th>\n",
       "      <td>bio</td>\n",
       "      <td>Bio Bidet  BB-1000 White Elongated Slow-Close ...</td>\n",
       "      <td>2020-01-01</td>\n",
       "      <td>The water on my Bidet doesn't get heat anymore...</td>\n",
       "      <td>2020-07-28</td>\n",
       "      <td>Your bidet came with a warranty. Please reach ...</td>\n",
       "    </tr>\n",
       "    <tr>\n",
       "      <th>4</th>\n",
       "      <td>bio</td>\n",
       "      <td>Bio Bidet  BB-1000 White Elongated Slow-Close ...</td>\n",
       "      <td>2020-08-29</td>\n",
       "      <td>How long is the electrical cord?</td>\n",
       "      <td>2020-09-01</td>\n",
       "      <td>Hello, The cord is 4ft long. Thanks, Bio Bidet</td>\n",
       "    </tr>\n",
       "  </tbody>\n",
       "</table>\n",
       "</div>"
      ],
      "text/plain": [
       "   회사명                                                제품명       질문일자  \\\n",
       "0  bio  Bio Bidet  A8 White Elongated Slow-Close Heate... 2022-05-01   \n",
       "1  bio  Bio Bidet  A8 White Elongated Slow-Close Heate... 2019-11-08   \n",
       "2  bio  Bio Bidet  A8 White Elongated Slow-Close Heate... 2019-11-08   \n",
       "3  bio  Bio Bidet  BB-1000 White Elongated Slow-Close ... 2020-01-01   \n",
       "4  bio  Bio Bidet  BB-1000 White Elongated Slow-Close ... 2020-08-29   \n",
       "\n",
       "                                                  질문       답변일자  \\\n",
       "0  Can you preset users and if not which bio bide... 2022-05-02   \n",
       "1                   How long is the electrical cord? 2019-11-08   \n",
       "2                   How long is the electrical cord? 2020-10-07   \n",
       "3  The water on my Bidet doesn't get heat anymore... 2020-07-28   \n",
       "4                   How long is the electrical cord? 2020-09-01   \n",
       "\n",
       "                                                  답변  \n",
       "0  Hi Mindi, Yes, this model has 2 user presets. ...  \n",
       "1  Its electrical cord is approximately 4 feet long.  \n",
       "2                                              4 ft.  \n",
       "3  Your bidet came with a warranty. Please reach ...  \n",
       "4     Hello, The cord is 4ft long. Thanks, Bio Bidet  "
      ]
     },
     "execution_count": 25,
     "metadata": {},
     "output_type": "execute_result"
    }
   ],
   "source": [
    "lowes_qna = lowes_qna[['회사명', '제품명', '질문일자', '질문', '답변일자', '답변']]\n",
    "lowes_qna.head()"
   ]
  },
  {
   "cell_type": "code",
   "execution_count": 27,
   "id": "949d2e1e",
   "metadata": {},
   "outputs": [
    {
     "data": {
      "text/plain": [
       "array(['bio', 'american', 'kohler', 'vovo', 'brondell'], dtype=object)"
      ]
     },
     "execution_count": 27,
     "metadata": {},
     "output_type": "execute_result"
    }
   ],
   "source": [
    "lowes_qna['회사명'].unique()"
   ]
  },
  {
   "cell_type": "code",
   "execution_count": 28,
   "id": "5333ae76",
   "metadata": {},
   "outputs": [
    {
     "data": {
      "text/plain": [
       "array(['biobidet', 'a_s', 'kohler', 'vovo', 'brondell'], dtype=object)"
      ]
     },
     "execution_count": 28,
     "metadata": {},
     "output_type": "execute_result"
    }
   ],
   "source": [
    "lowes_qna['회사명'] = lowes_qna['회사명'].str.replace('bio', 'biobidet').replace('american', 'a_s')\n",
    "lowes_qna['회사명'].unique()"
   ]
  }
 ],
 "metadata": {
  "kernelspec": {
   "display_name": "Python 3 (ipykernel)",
   "language": "python",
   "name": "python3"
  },
  "language_info": {
   "codemirror_mode": {
    "name": "ipython",
    "version": 3
   },
   "file_extension": ".py",
   "mimetype": "text/x-python",
   "name": "python",
   "nbconvert_exporter": "python",
   "pygments_lexer": "ipython3",
   "version": "3.9.13"
  },
  "toc": {
   "base_numbering": 1,
   "nav_menu": {},
   "number_sections": true,
   "sideBar": true,
   "skip_h1_title": false,
   "title_cell": "Table of Contents",
   "title_sidebar": "Contents",
   "toc_cell": false,
   "toc_position": {
    "height": "calc(100% - 180px)",
    "left": "10px",
    "top": "150px",
    "width": "188.933px"
   },
   "toc_section_display": true,
   "toc_window_display": true
  }
 },
 "nbformat": 4,
 "nbformat_minor": 5
}
