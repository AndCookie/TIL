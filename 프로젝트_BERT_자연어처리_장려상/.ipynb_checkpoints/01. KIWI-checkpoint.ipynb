{
 "cells": [
  {
   "cell_type": "code",
   "execution_count": 45,
   "id": "10a96c6e",
   "metadata": {},
   "outputs": [],
   "source": [
    "# 형태소 = token\n",
    "# 형태소 분석 = tokenize"
   ]
  },
  {
   "cell_type": "markdown",
   "id": "aca6f194",
   "metadata": {},
   "source": [
    "# 패키지 설치"
   ]
  },
  {
   "cell_type": "code",
   "execution_count": 1,
   "id": "a6023c42",
   "metadata": {
    "scrolled": true
   },
   "outputs": [],
   "source": [
    "# pip install kiwipiepy"
   ]
  },
  {
   "cell_type": "code",
   "execution_count": 40,
   "id": "772ecfcc",
   "metadata": {},
   "outputs": [],
   "source": [
    "from kiwipiepy import Kiwi, Match\n",
    "kiwi = Kiwi()"
   ]
  },
  {
   "cell_type": "markdown",
   "id": "2f3434ba",
   "metadata": {},
   "source": [
    "# Kiwi\n",
    "- Kiwi (num_workers=0, model_path=None, load_default_dict=True, integrate_allomorph=True, model_type='knlm', typos=None, typo_cost_threshold=2.5)"
   ]
  },
  {
   "cell_type": "markdown",
   "id": "4d80528e",
   "metadata": {},
   "source": [
    "1. num_workers (DEFAULT: 0)\n",
    "    - num_workers= 0 : 현재 환경에서 사용가능한 모든 코어 활용\n",
    "    - num_workers= 1 : 단일 코어만 활용\n",
    "    - num_workers= 2이상 : 단어 추출 및 형태소 분석에 멀티 코어를 활용하여 조금 더 빠른 속도로 분석 진행 가능\n",
    "2. model_path (DEFAULT: kiwipiepy_model패키지로부터 모델 경로 불러옴)\n",
    "    - 형태소 분석 모델이 있는 경로 지정\n",
    "3. load_default_dict\n",
    "    - 추가 사전 로드 여부 (추가 사전 : 위키백과의 표제어 타이틀 모음)\n",
    "    - True : 로딩 및 분석 시간이 증가하지만 다양한 고유명사를 좀 더 잘 잡아낼 수 있음\n",
    "    - False : 분석 결과에 원치 않는 고유명사가 잡히는 것을 방지\n",
    "4. integrate_allomorph\n",
    "    - 의미는 동일하나, 음운 환경에 따라 형태가 달라지는 어미 자동 통합 여부\n",
    "    - True / False\n",
    "    - ex) '아/어', '았/었'\n",
    "5. model_type\n",
    "    - 형태소 분석에 사용할 언어 모델 지정\n",
    "    - knlm 또는 sbg (상대적으로 느리지만 먼 거리에 있는 형태소 간의 관계 포착 가능한 강력한 모델)\n",
    "6. typos\n",
    "    - 형태소 분석시 간단한 오타 교정\n",
    "    - None : 오타 교정 X\n",
    "7. typo_cost_threshold\n",
    "    - 오타 교정을 허용할 최대 오타 비용 설정"
   ]
  },
  {
   "cell_type": "markdown",
   "id": "75a8a46c",
   "metadata": {},
   "source": [
    "# 코퍼스로부터 미등록 단어 추출"
   ]
  },
  {
   "cell_type": "markdown",
   "id": "7fe85b3d",
   "metadata": {},
   "source": [
    "## Kiwi.extract_words(texts, min_cnt, max_word_len, min_score)\n",
    "- extract_words(texts, min_cnt=10, max_word_len=10, min_score=0.25, pos_score=-3.0, lm_filter=True)"
   ]
  },
  {
   "cell_type": "markdown",
   "id": "94c2ee05",
   "metadata": {},
   "source": [
    "1. texts\n",
    "    - Iterable[str] 형태의 분석 대상 텍스트\n",
    "2. min_cnt\n",
    "    - 텍스트 내에서 추출 단어가 최소 몇 번 이상 등장하는 지 결정\n",
    "    - 입력 텍스트가 클수록 값을 높여야 함\n",
    "3. max_word_len\n",
    "    - 추출할 단어의 최대 길이\n",
    "    - 너무 크게 설정시 단어 스캔 시간이 길어지므로 적절하게 조정해야함\n",
    "4. min_score\n",
    "    - 추출할 단어의 최소 단어 점수 (DEFAULT : 0.25)\n",
    "    - 낮출수록 단어가 아닌 형태가 추출될 가능성이 높아짐\n",
    "    - 높을수록 추출되는 단어의 개수가 줄어듦\n",
    "5. pos_score\n",
    "    - 추출할 단어의 최소 명사 점수 (DEFAULT : -3)\n",
    "    - 낮출수록 명사가 아닌 단어들이 추출될 가능성이 높음\n",
    "    - 높을수록 추출되는 명사의 개수가 줄어듦\n",
    "6. lm_filter\n",
    "    - 품사 및 언어 모델을 이용한 필터링을 사용 여부\n",
    "    - True / False"
   ]
  },
  {
   "cell_type": "markdown",
   "id": "e8221ba6",
   "metadata": {},
   "source": [
    "## Kiwi.extract_add_words(texts, min_cnt, max_word_len, min_score, pos_score)"
   ]
  },
  {
   "cell_type": "code",
   "execution_count": null,
   "id": "b462d740",
   "metadata": {},
   "outputs": [],
   "source": []
  },
  {
   "cell_type": "code",
   "execution_count": null,
   "id": "7e5fb9e0",
   "metadata": {},
   "outputs": [],
   "source": []
  },
  {
   "cell_type": "markdown",
   "id": "b2a440c5",
   "metadata": {},
   "source": [
    "# 사용자 사전 관리\n",
    "<사전 목록 수정>\n",
    "- 사전 추가 (개별) : kiwi.add_user_word ('형태(동사/형동사)', '품사')\n",
    "    - 사용자 사전에 동사/형용사 추가시, 그 활용형도 함께 등재됨\n",
    "- 사전 추가 (일괄) : kiwi.add_re_rule ('품사', '기존 데이터', '새로운 데이터', 패널티)\n",
    "    - '해당 품사' 중 '기존 데이터'로 끝나는 것들을 -> '새로운 데이터'로 대체하여 일괄 삽입\n",
    "    - 이 때 변형된 종결어미에는 '패널티'를 부여하여 원 형태소보다 우선하지 않도록 함\n",
    "- 문자열 오타 교정 : kiwi.add_pre_analyzed_word('오타', [('기분석 형태', '품사', 시작점, 끝점), ('기분석 형태', '품사', 시작점, 끝점), ...., ('기분석 형태', '품사', 시작점, 끝점)], 패널티)"
   ]
  },
  {
   "cell_type": "code",
   "execution_count": null,
   "id": "d2f56dde",
   "metadata": {},
   "outputs": [],
   "source": [
    "# 예시1"
   ]
  },
  {
   "cell_type": "code",
   "execution_count": 15,
   "id": "aa81f79c",
   "metadata": {},
   "outputs": [
    {
     "data": {
      "text/plain": [
       "True"
      ]
     },
     "execution_count": 15,
     "metadata": {},
     "output_type": "execute_result"
    }
   ],
   "source": [
    "kiwi.add_user_word(\"김갑갑\", \"NNP\")"
   ]
  },
  {
   "cell_type": "code",
   "execution_count": 16,
   "id": "65b6829b",
   "metadata": {
    "scrolled": true
   },
   "outputs": [
    {
     "data": {
      "text/plain": [
       "[Token(form='김갑갑', tag='NNP', start=0, len=3),\n",
       " Token(form='이', tag='JKS', start=3, len=1),\n",
       " Token(form='누구', tag='NP', start=5, len=2),\n",
       " Token(form='야', tag='JKV', start=7, len=1)]"
      ]
     },
     "execution_count": 16,
     "metadata": {},
     "output_type": "execute_result"
    }
   ],
   "source": [
    "kiwi.tokenize(\"김갑갑이 누구야\")"
   ]
  },
  {
   "cell_type": "markdown",
   "id": "ef904e6e",
   "metadata": {},
   "source": [
    "## 사전 추가 (개별) : kiwi.add_user_word\n",
    "- 사용자 사전에 동사/형용사 추가시, 그 활용형도 함께 등재됨"
   ]
  },
  {
   "cell_type": "code",
   "execution_count": null,
   "id": "7c392be5",
   "metadata": {},
   "outputs": [],
   "source": [
    "# 예시2\n",
    "# 사전에 등재되어 있지 않은 동사 `팅기다`를 분석하면, 엉뚱한 결과가 출력됨\n",
    "# 형태소 `팅기/VV`를 사전에 등록시, 해당 형태소의 모든 활용형이 자동으로 추가됨# 따라서, `팅겼다`, `팅길` 등의 형태를 모두 분석 가능해짐"
   ]
  },
  {
   "cell_type": "code",
   "execution_count": 17,
   "id": "30de9c65",
   "metadata": {},
   "outputs": [
    {
     "data": {
      "text/plain": [
       "[Token(form='팅', tag='NNG', start=0, len=1),\n",
       " Token(form='기', tag='VV', start=1, len=1),\n",
       " Token(form='었', tag='EP', start=1, len=1),\n",
       " Token(form='다', tag='EF', start=2, len=1)]"
      ]
     },
     "execution_count": 17,
     "metadata": {},
     "output_type": "execute_result"
    }
   ],
   "source": [
    "kiwi.tokenize('팅겼다')"
   ]
  },
  {
   "cell_type": "code",
   "execution_count": 18,
   "id": "7b398e9e",
   "metadata": {
    "scrolled": true
   },
   "outputs": [
    {
     "data": {
      "text/plain": [
       "True"
      ]
     },
     "execution_count": 18,
     "metadata": {},
     "output_type": "execute_result"
    }
   ],
   "source": [
    "kiwi.add_user_word('팅기', 'VV')"
   ]
  },
  {
   "cell_type": "code",
   "execution_count": 19,
   "id": "15373d0a",
   "metadata": {
    "scrolled": true
   },
   "outputs": [
    {
     "data": {
      "text/plain": [
       "[Token(form='팅기', tag='VV', start=0, len=2),\n",
       " Token(form='었', tag='EP', start=1, len=1),\n",
       " Token(form='다', tag='EF', start=2, len=1)]"
      ]
     },
     "execution_count": 19,
     "metadata": {},
     "output_type": "execute_result"
    }
   ],
   "source": [
    "kiwi.tokenize('팅겼다')"
   ]
  },
  {
   "cell_type": "markdown",
   "id": "d58336ed",
   "metadata": {},
   "source": [
    "## 사전 추가 (일괄) : kiwi.add_re_rule"
   ]
  },
  {
   "cell_type": "code",
   "execution_count": 20,
   "id": "e23511fb",
   "metadata": {},
   "outputs": [
    {
     "data": {
      "text/plain": [
       "[Token(form='안녕', tag='NNG', start=0, len=2),\n",
       " Token(form='하', tag='XSA', start=2, len=1),\n",
       " Token(form='세영', tag='EF', start=3, len=2),\n",
       " Token(form=',', tag='SP', start=5, len=1),\n",
       " Token(form='저', tag='NP', start=7, len=1),\n",
       " Token(form='의', tag='JKG', start=7, len=1),\n",
       " Token(form='이름', tag='NNG', start=9, len=2),\n",
       " Token(form='은', tag='JX', start=11, len=1),\n",
       " Token(form='이세영', tag='NNP', start=13, len=3),\n",
       " Token(form='이', tag='VCP', start=16, len=1),\n",
       " Token(form='에영', tag='EF', start=17, len=2),\n",
       " Token(form='.', tag='SF', start=19, len=1),\n",
       " Token(form='학생', tag='NNG', start=21, len=2),\n",
       " Token(form='이', tag='VCP', start=23, len=1),\n",
       " Token(form='세영', tag='EF', start=24, len=2),\n",
       " Token(form='?', tag='SF', start=26, len=1)]"
      ]
     },
     "execution_count": 20,
     "metadata": {},
     "output_type": "execute_result"
    }
   ],
   "source": [
    "# 예시3\n",
    "# 변형된 형태소를 일괄적으로 추가하여 대상 텍스트에 맞춰 분석 성능 증대.\n",
    "kiwi.tokenize(\"안녕하세영, 제 이름은 이세영이에영. 학생이세영?\")"
   ]
  },
  {
   "cell_type": "code",
   "execution_count": null,
   "id": "ea9b9931",
   "metadata": {},
   "outputs": [],
   "source": [
    "# 종결어미(EF) 중 '요'로 끝나는 것들을 -> '영'으로 대체하여 일괄 삽입 \n",
    "# 이 때 변형된 종결어미에는 -3의 패널티를 부여하여 원 형태소보다 우선하지 않도록 합니다.\n",
    "# 새로 삽입된 형태소들이 반환됩니다"
   ]
  },
  {
   "cell_type": "code",
   "execution_count": 23,
   "id": "bd4cdcfb",
   "metadata": {},
   "outputs": [
    {
     "data": {
      "text/plain": [
       "[]"
      ]
     },
     "execution_count": 23,
     "metadata": {},
     "output_type": "execute_result"
    }
   ],
   "source": [
    "kiwi.add_re_rule('EF', '요$', '영', -3.0)"
   ]
  },
  {
   "cell_type": "code",
   "execution_count": 24,
   "id": "3172a67c",
   "metadata": {
    "scrolled": true
   },
   "outputs": [
    {
     "data": {
      "text/plain": [
       "[Token(form='안녕', tag='NNG', start=0, len=2),\n",
       " Token(form='하', tag='XSA', start=2, len=1),\n",
       " Token(form='세영', tag='EF', start=3, len=2),\n",
       " Token(form=',', tag='SP', start=5, len=1),\n",
       " Token(form='저', tag='NP', start=7, len=1),\n",
       " Token(form='의', tag='JKG', start=7, len=1),\n",
       " Token(form='이름', tag='NNG', start=9, len=2),\n",
       " Token(form='은', tag='JX', start=11, len=1),\n",
       " Token(form='이세영', tag='NNP', start=13, len=3),\n",
       " Token(form='이', tag='VCP', start=16, len=1),\n",
       " Token(form='에영', tag='EF', start=17, len=2),\n",
       " Token(form='.', tag='SF', start=19, len=1),\n",
       " Token(form='님', tag='NNG', start=21, len=1),\n",
       " Token(form='도', tag='JX', start=22, len=1),\n",
       " Token(form='학생', tag='NNG', start=24, len=2),\n",
       " Token(form='이', tag='VCP', start=26, len=1),\n",
       " Token(form='세영', tag='EF', start=27, len=2),\n",
       " Token(form='?', tag='SF', start=29, len=1)]"
      ]
     },
     "execution_count": 24,
     "metadata": {},
     "output_type": "execute_result"
    }
   ],
   "source": [
    "# 동일한 문장을 재분석시, 분석 결과가 개선된 것을 확인 가능\n",
    "kiwi.tokenize(\"안녕하세영, 제 이름은 이세영이에영. 님도 학생이세영?\")"
   ]
  },
  {
   "cell_type": "markdown",
   "id": "d02b2dc4",
   "metadata": {},
   "source": [
    "## 문자열 오타 교정 : kiwi.add_pre_analyzed_word"
   ]
  },
  {
   "cell_type": "code",
   "execution_count": null,
   "id": "28978b6d",
   "metadata": {},
   "outputs": [],
   "source": [
    "# 예시 4\n",
    "# 기분석 형태를 등록하여 원하는 대로 분석되지 않는 문자열을 교정 가능\n",
    "# ex) `사겼대`는 오타가 들어간 형태라 제대로 분석되지 않습니다."
   ]
  },
  {
   "cell_type": "code",
   "execution_count": 25,
   "id": "4be88886",
   "metadata": {
    "scrolled": true
   },
   "outputs": [
    {
     "data": {
      "text/plain": [
       "[Token(form='걔', tag='NP', start=0, len=1),\n",
       " Token(form='네', tag='XSN', start=1, len=1),\n",
       " Token(form='둘', tag='NR', start=3, len=1),\n",
       " Token(form='이', tag='JKS', start=4, len=1),\n",
       " Token(form='사', tag='NR', start=6, len=1),\n",
       " Token(form='기', tag='VV', start=7, len=1),\n",
       " Token(form='었', tag='EP', start=7, len=1),\n",
       " Token(form='대', tag='EF', start=8, len=1)]"
      ]
     },
     "execution_count": 25,
     "metadata": {},
     "output_type": "execute_result"
    }
   ],
   "source": [
    "kiwi.tokenize('걔네 둘이 사겼대')"
   ]
  },
  {
   "cell_type": "code",
   "execution_count": null,
   "id": "fd131e10",
   "metadata": {},
   "outputs": [],
   "source": [
    "# add_pre_analyzed_word : 교정"
   ]
  },
  {
   "cell_type": "code",
   "execution_count": 26,
   "id": "fb8e0c23",
   "metadata": {},
   "outputs": [
    {
     "data": {
      "text/plain": [
       "True"
      ]
     },
     "execution_count": 26,
     "metadata": {},
     "output_type": "execute_result"
    }
   ],
   "source": [
    " kiwi.add_pre_analyzed_word('사겼대', ['사귀/VV', '었/EP', '대/EF'], -3)"
   ]
  },
  {
   "cell_type": "code",
   "execution_count": 27,
   "id": "715f43ac",
   "metadata": {},
   "outputs": [
    {
     "data": {
      "text/plain": [
       "[Token(form='걔', tag='NP', start=0, len=1),\n",
       " Token(form='네', tag='XSN', start=1, len=1),\n",
       " Token(form='둘', tag='NR', start=3, len=1),\n",
       " Token(form='이', tag='JKS', start=4, len=1),\n",
       " Token(form='사귀', tag='VV', start=6, len=3),\n",
       " Token(form='었', tag='EP', start=6, len=3),\n",
       " Token(form='대', tag='EF', start=6, len=3)]"
      ]
     },
     "execution_count": 27,
     "metadata": {},
     "output_type": "execute_result"
    }
   ],
   "source": [
    "kiwi.tokenize('걔네 둘이 사겼대')\n",
    "# 단, 사귀/VV, 었/EP, 대/EF의 시작위치가 모두 6, 길이가 모두 3으로 잘못 잡히는 문제가 보입니다.\n",
    "# 이를 고치기 위해서는 add_pre_analyzed_word시 각 형태소의 위치정보도 함께 입력해주어야합니다."
   ]
  },
  {
   "cell_type": "code",
   "execution_count": 28,
   "id": "0f42abb4",
   "metadata": {},
   "outputs": [
    {
     "data": {
      "text/plain": [
       "True"
      ]
     },
     "execution_count": 28,
     "metadata": {},
     "output_type": "execute_result"
    }
   ],
   "source": [
    "kiwi = Kiwi()\n",
    "kiwi.add_pre_analyzed_word('사겼대', [('사귀', 'VV', 0, 2), ('었', 'EP', 1, 2), ('대', 'EF', 2, 3)], -3)\n",
    "# 형태, 품사, 시작지점, 끝지점"
   ]
  },
  {
   "cell_type": "code",
   "execution_count": 29,
   "id": "3af9595e",
   "metadata": {
    "scrolled": true
   },
   "outputs": [
    {
     "data": {
      "text/plain": [
       "[Token(form='걔', tag='NP', start=0, len=1),\n",
       " Token(form='네', tag='XSN', start=1, len=1),\n",
       " Token(form='둘', tag='NR', start=3, len=1),\n",
       " Token(form='이', tag='JKS', start=4, len=1),\n",
       " Token(form='사귀', tag='VV', start=6, len=2),\n",
       " Token(form='었', tag='EP', start=7, len=1),\n",
       " Token(form='대', tag='EF', start=8, len=1)]"
      ]
     },
     "execution_count": 29,
     "metadata": {},
     "output_type": "execute_result"
    }
   ],
   "source": [
    "kiwi.tokenize('걔네 둘이 사겼대')"
   ]
  },
  {
   "cell_type": "markdown",
   "id": "c5cccd71",
   "metadata": {},
   "source": [
    "### sbg\n",
    "- SkipBigram(sbg)\n",
    "- kiwi = Kiwi(model_type='sbg', typos='basic')\n",
    "    - sbg : 기존의 knlm과 달리 먼 거리에 있는 형태소를 고려할 수 있는 더 강력한 언어 모델\n",
    "    - basic : 간단한 오타 교정 기능 (시간 5~10초 소요)"
   ]
  },
  {
   "cell_type": "code",
   "execution_count": 33,
   "id": "4f25f463",
   "metadata": {
    "collapsed": true
   },
   "outputs": [
    {
     "data": {
      "text/plain": [
       "[Token(form='이', tag='MM', start=0, len=1),\n",
       " Token(form='번호', tag='NNG', start=2, len=2),\n",
       " Token(form='로', tag='JKB', start=4, len=1),\n",
       " Token(form='전화', tag='NNG', start=6, len=2),\n",
       " Token(form='를', tag='JKO', start=8, len=1),\n",
       " Token(form='이따가', tag='MAG', start=10, len=3),\n",
       " Token(form='꼭', tag='MAG', start=14, len=1),\n",
       " Token(form='반드시', tag='MAG', start=16, len=3),\n",
       " Token(form='걷', tag='VV-I', start=20, len=1),\n",
       " Token(form='어', tag='EF', start=21, len=1),\n",
       " Token(form='.', tag='SF', start=22, len=1)]"
      ]
     },
     "execution_count": 33,
     "metadata": {},
     "output_type": "execute_result"
    }
   ],
   "source": [
    "kiwi = Kiwi(model_type='knlm')\n",
    "kiwi.tokenize('이 번호로 전화를 이따가 꼭 반드시 걸어.')\n",
    "\n",
    "# 걷다/걸다 중 틀리게 '걷다'를 선택했음."
   ]
  },
  {
   "cell_type": "code",
   "execution_count": 34,
   "id": "adc1518c",
   "metadata": {
    "collapsed": true
   },
   "outputs": [
    {
     "data": {
      "text/plain": [
       "[Token(form='이', tag='MM', start=0, len=1),\n",
       " Token(form='번호', tag='NNG', start=2, len=2),\n",
       " Token(form='로', tag='JKB', start=4, len=1),\n",
       " Token(form='전화', tag='NNG', start=6, len=2),\n",
       " Token(form='를', tag='JKO', start=8, len=1),\n",
       " Token(form='이따가', tag='MAG', start=10, len=3),\n",
       " Token(form='꼭', tag='MAG', start=14, len=1),\n",
       " Token(form='반드시', tag='MAG', start=16, len=3),\n",
       " Token(form='걸', tag='VV', start=20, len=1),\n",
       " Token(form='어', tag='EC', start=21, len=1),\n",
       " Token(form='.', tag='SF', start=22, len=1)]"
      ]
     },
     "execution_count": 34,
     "metadata": {},
     "output_type": "execute_result"
    }
   ],
   "source": [
    "kiwi = Kiwi(model_type='sbg')\n",
    "\n",
    "kiwi.tokenize('이 번호로 전화를 이따가 꼭 반드시 걸어.')\n",
    "\n",
    "# 걷다/걸다 중 바르게 '걸다'를 선택했음."
   ]
  },
  {
   "cell_type": "code",
   "execution_count": 38,
   "id": "7e43d621",
   "metadata": {},
   "outputs": [],
   "source": [
    "kiwi = Kiwi(model_type='sbg', typos='basic')"
   ]
  },
  {
   "cell_type": "code",
   "execution_count": 36,
   "id": "ab0a287e",
   "metadata": {},
   "outputs": [
    {
     "data": {
      "text/plain": [
       "[Token(form='왜', tag='MAG', start=0, len=1),\n",
       " Token(form='안', tag='MAG', start=1, len=1),\n",
       " Token(form='되', tag='VV', start=2, len=1),\n",
       " Token(form='ᆫ대', tag='EF', start=2, len=2),\n",
       " Token(form='?', tag='SF', start=4, len=1)]"
      ]
     },
     "execution_count": 36,
     "metadata": {},
     "output_type": "execute_result"
    }
   ],
   "source": [
    "kiwi.tokenize('외않됀대?')"
   ]
  },
  {
   "cell_type": "code",
   "execution_count": 39,
   "id": "5560ccee",
   "metadata": {
    "collapsed": true
   },
   "outputs": [
    {
     "data": {
      "text/plain": [
       "[Token(form='장례', tag='NNG', start=0, len=2),\n",
       " Token(form='희망', tag='NNG', start=2, len=2),\n",
       " Token(form='이', tag='JKS', start=4, len=1),\n",
       " Token(form='뭐', tag='NP', start=6, len=1),\n",
       " Token(form='이', tag='VCP', start=7, len=0),\n",
       " Token(form='냐는', tag='ETM', start=7, len=2),\n",
       " Token(form='선생', tag='NNG', start=10, len=2),\n",
       " Token(form='님', tag='XSN', start=12, len=1),\n",
       " Token(form='의', tag='JKG', start=13, len=1),\n",
       " Token(form='질문', tag='NNG', start=15, len=2),\n",
       " Token(form='에', tag='JKB', start=17, len=1),\n",
       " Token(form='벙어리', tag='NNG', start=19, len=3),\n",
       " Token(form='가', tag='JKC', start=22, len=1),\n",
       " Token(form='되', tag='VV', start=24, len=1),\n",
       " Token(form='엇', tag='EP', start=24, len=1),\n",
       " Token(form='다', tag='EF', start=25, len=1)]"
      ]
     },
     "execution_count": 39,
     "metadata": {},
     "output_type": "execute_result"
    }
   ],
   "source": [
    "kiwi.tokenize('장례희망이 뭐냐는 선섕님의 질문에 벙어리가 됫따') "
   ]
  },
  {
   "cell_type": "markdown",
   "id": "dd242968",
   "metadata": {},
   "source": [
    "# 형태소 분석 Kiwi().tokenize()"
   ]
  },
  {
   "cell_type": "code",
   "execution_count": 2,
   "id": "94f6e981",
   "metadata": {
    "scrolled": true
   },
   "outputs": [
    {
     "data": {
      "text/plain": [
       "[Token(form='안녕하세요', tag='NNP', start=0, len=5),\n",
       " Token(form='형태소', tag='NNG', start=6, len=3),\n",
       " Token(form='분석기', tag='NNG', start=10, len=3),\n",
       " Token(form='키위', tag='NNG', start=14, len=2),\n",
       " Token(form='이', tag='VCP', start=16, len=1),\n",
       " Token(form='ᆸ니다', tag='EF', start=16, len=3),\n",
       " Token(form='.', tag='SF', start=19, len=1)]"
      ]
     },
     "execution_count": 2,
     "metadata": {},
     "output_type": "execute_result"
    }
   ],
   "source": [
    "# tokenize : 형태소 분석 결과를 리스트로 반환\n",
    "kiwi.tokenize(\"안녕하세요 형태소 분석기 키위입니다.\")"
   ]
  },
  {
   "cell_type": "markdown",
   "id": "9ca12145",
   "metadata": {},
   "source": [
    "## normalize_coda"
   ]
  },
  {
   "cell_type": "code",
   "execution_count": 3,
   "id": "a21c38d9",
   "metadata": {
    "scrolled": true
   },
   "outputs": [
    {
     "data": {
      "text/plain": [
       "[Token(form='ㅋㅋㅋ', tag='SW', start=0, len=3),\n",
       " Token(form='이런', tag='MM', start=4, len=2),\n",
       " Token(form='것', tag='NNB', start=7, len=1),\n",
       " Token(form='도', tag='JX', start=8, len=1),\n",
       " Token(form='분석', tag='NNG', start=10, len=2),\n",
       " Token(form='이', tag='JKC', start=12, len=1),\n",
       " Token(form='되', tag='VV', start=14, len=1),\n",
       " Token(form='ᆯ까요', tag='EF', start=14, len=3),\n",
       " Token(form='ㅋㅋㅋ', tag='SW', start=16, len=3),\n",
       " Token(form='?', tag='SF', start=19, len=1)]"
      ]
     },
     "execution_count": 3,
     "metadata": {},
     "output_type": "execute_result"
    }
   ],
   "source": [
    "# normalize_coda : 받침으로 인한 분석 깨짐 방지\n",
    "kiwi.tokenize(\"ㅋㅋㅋ 이런 것도 분석이 될까욬ㅋㅋ?\", normalize_coda=True)"
   ]
  },
  {
   "cell_type": "markdown",
   "id": "1e7f66b9",
   "metadata": {},
   "source": [
    "## 불용어 관리 Stopwords"
   ]
  },
  {
   "cell_type": "code",
   "execution_count": 5,
   "id": "3d32eb52",
   "metadata": {},
   "outputs": [],
   "source": [
    "from kiwipiepy.utils import Stopwords\n",
    "stopwords = Stopwords()"
   ]
  },
  {
   "cell_type": "code",
   "execution_count": 6,
   "id": "1fe3cf27",
   "metadata": {},
   "outputs": [
    {
     "data": {
      "text/plain": [
       "[Token(form='분석', tag='NNG', start=0, len=2),\n",
       " Token(form='결과', tag='NNG', start=3, len=2),\n",
       " Token(form='불', tag='NNG', start=8, len=1),\n",
       " Token(form='용어', tag='NNG', start=9, len=2),\n",
       " Token(form='제외', tag='NNG', start=13, len=2),\n",
       " Token(form='출력', tag='NNG', start=18, len=2),\n",
       " Token(form='있', tag='VA', start=25, len=1)]"
      ]
     },
     "execution_count": 6,
     "metadata": {},
     "output_type": "execute_result"
    }
   ],
   "source": [
    "kiwi.tokenize(\"분석 결과에서 불용어만 제외하고 출력할 수도 있다.\", stopwords=stopwords)"
   ]
  },
  {
   "cell_type": "markdown",
   "id": "3981df4d",
   "metadata": {},
   "source": [
    "## 불용어 목록 수정 add, remove"
   ]
  },
  {
   "cell_type": "code",
   "execution_count": 7,
   "id": "3451038d",
   "metadata": {},
   "outputs": [],
   "source": [
    "stopwords.add(('결과', 'NNG'))"
   ]
  },
  {
   "cell_type": "code",
   "execution_count": 8,
   "id": "2729e2f0",
   "metadata": {
    "scrolled": false
   },
   "outputs": [
    {
     "data": {
      "text/plain": [
       "[Token(form='분석', tag='NNG', start=0, len=2),\n",
       " Token(form='불', tag='NNG', start=8, len=1),\n",
       " Token(form='용어', tag='NNG', start=9, len=2),\n",
       " Token(form='제외', tag='NNG', start=13, len=2),\n",
       " Token(form='출력', tag='NNG', start=18, len=2),\n",
       " Token(form='있', tag='VA', start=25, len=1)]"
      ]
     },
     "execution_count": 8,
     "metadata": {},
     "output_type": "execute_result"
    }
   ],
   "source": [
    "kiwi.tokenize(\"분석 결과에서 불용어만 제외하고 출력할 수도 있다.\", stopwords=stopwords)"
   ]
  },
  {
   "cell_type": "markdown",
   "id": "e856043b",
   "metadata": {},
   "source": [
    "## tokenize 개별 정보 추출하기"
   ]
  },
  {
   "cell_type": "code",
   "execution_count": 9,
   "id": "739532b6",
   "metadata": {},
   "outputs": [
    {
     "data": {
      "text/plain": [
       "[Token(form='각', tag='MM', start=0, len=1),\n",
       " Token(form='토큰', tag='NNG', start=2, len=2),\n",
       " Token(form='은', tag='JX', start=4, len=1),\n",
       " Token(form='여러', tag='MM', start=6, len=2),\n",
       " Token(form='정보', tag='NNG', start=9, len=2),\n",
       " Token(form='를', tag='JKO', start=11, len=1),\n",
       " Token(form='담', tag='VV', start=13, len=1),\n",
       " Token(form='고', tag='EC', start=14, len=1),\n",
       " Token(form='있', tag='VX', start=16, len=1),\n",
       " Token(form='습니다', tag='EF', start=17, len=3),\n",
       " Token(form='.', tag='SF', start=20, len=1)]"
      ]
     },
     "execution_count": 9,
     "metadata": {},
     "output_type": "execute_result"
    }
   ],
   "source": [
    "tokens = kiwi.tokenize(\"각 토큰은 여러 정보를 담고 있습니다.\")\n",
    "tokens"
   ]
  },
  {
   "cell_type": "code",
   "execution_count": 10,
   "id": "b79726ff",
   "metadata": {},
   "outputs": [
    {
     "data": {
      "text/plain": [
       "Token(form='각', tag='MM', start=0, len=1)"
      ]
     },
     "execution_count": 10,
     "metadata": {},
     "output_type": "execute_result"
    }
   ],
   "source": [
    "tokens[0]"
   ]
  },
  {
   "cell_type": "code",
   "execution_count": 11,
   "id": "95971893",
   "metadata": {
    "scrolled": true
   },
   "outputs": [
    {
     "data": {
      "text/plain": [
       "0"
      ]
     },
     "execution_count": 11,
     "metadata": {},
     "output_type": "execute_result"
    }
   ],
   "source": [
    "tokens[0].form # 형태소의 형태 정보\n",
    "tokens[0].tag # 형태소의 품사 정보\n",
    "tokens[0].start # 시작 지점 (문자 단위)\n",
    "tokens[0].end # 끝 지점 (문자 단위)\n",
    "tokens[0].word_position # 현 문장에서의 어절 번호 (몇 번째 단어)\n",
    "tokens[0].sent_position # 형태소가 속한 문장 번호\n",
    "tokens[0].line_number # 형태소가 속한 줄의 번호"
   ]
  },
  {
   "cell_type": "markdown",
   "id": "4e3462ad",
   "metadata": {},
   "source": [
    "## 문장 분리"
   ]
  },
  {
   "cell_type": "code",
   "execution_count": 12,
   "id": "e003cc64",
   "metadata": {},
   "outputs": [
    {
     "data": {
      "text/plain": [
       "[Sentence(text='여러 문장으로 구성된 텍스트네', start=0, end=16, tokens=None, subs=[]),\n",
       " Sentence(text='이걸 분리해줘', start=17, end=24, tokens=None, subs=[])]"
      ]
     },
     "execution_count": 12,
     "metadata": {},
     "output_type": "execute_result"
    }
   ],
   "source": [
    "kiwi.split_into_sents(\"여러 문장으로 구성된 텍스트네 이걸 분리해줘\")"
   ]
  },
  {
   "cell_type": "code",
   "execution_count": 14,
   "id": "3e8d3dbd",
   "metadata": {
    "scrolled": true
   },
   "outputs": [
    {
     "data": {
      "text/plain": [
       "[Sentence(text='여러 문장으로 구성된 텍스트네', start=0, end=16, tokens=[Token(form='여러', tag='MM', start=0, len=2), Token(form='문장', tag='NNG', start=3, len=2), Token(form='으로', tag='JKB', start=5, len=2), Token(form='구성', tag='NNG', start=8, len=2), Token(form='되', tag='XSV', start=10, len=1), Token(form='ᆫ', tag='ETM', start=10, len=1), Token(form='텍스트', tag='NNG', start=12, len=3), Token(form='이', tag='VCP', start=15, len=0), Token(form='네', tag='EF', start=15, len=1)], subs=[]),\n",
       " Sentence(text='이걸 분리해줘', start=17, end=24, tokens=[Token(form='이거', tag='NP', start=17, len=2), Token(form='ᆯ', tag='JKO', start=18, len=1), Token(form='분리', tag='NNG', start=20, len=2), Token(form='하', tag='XSV', start=22, len=1), Token(form='어', tag='EC', start=22, len=1), Token(form='주', tag='VX', start=23, len=1), Token(form='어', tag='EF', start=23, len=1)], subs=[])]"
      ]
     },
     "execution_count": 14,
     "metadata": {},
     "output_type": "execute_result"
    }
   ],
   "source": [
    "# 문장 분리 + 형태소 분석 : 동시에 수행하기\n",
    "kiwi.split_into_sents(\"여러 문장으로 구성된 텍스트네 이걸 분리해줘\", return_tokens=True)"
   ]
  },
  {
   "cell_type": "markdown",
   "id": "625b6d40",
   "metadata": {},
   "source": [
    "## 문장 복원 (형태소 결합) : kiwi.join()"
   ]
  },
  {
   "cell_type": "code",
   "execution_count": null,
   "id": "85682f5d",
   "metadata": {},
   "outputs": [],
   "source": [
    "# kiwi.join([('형태소', '품사'), ('형태소','품사' ), .., ('형태소','품사')])"
   ]
  },
  {
   "cell_type": "code",
   "execution_count": null,
   "id": "cf7b6cdc",
   "metadata": {},
   "outputs": [],
   "source": [
    "kiwi.join([('길', 'NNG'), ('을', 'JKO'), ('묻', 'VV'), ('어요', 'EF')])"
   ]
  },
  {
   "cell_type": "code",
   "execution_count": null,
   "id": "bdfa48e4",
   "metadata": {},
   "outputs": [],
   "source": [
    "kiwi.join([('흙', 'NNG'), ('이', 'JKS'), ('묻', 'VV'), ('어요', 'EF')])"
   ]
  },
  {
   "cell_type": "code",
   "execution_count": 20,
   "id": "bbba7fe0",
   "metadata": {
    "collapsed": true
   },
   "outputs": [
    {
     "data": {
      "text/plain": [
       "[([Token(form='형태소', tag='NNG', start=0, len=3),\n",
       "   Token(form='분석', tag='NNG', start=4, len=2),\n",
       "   Token(form='결과', tag='NNG', start=7, len=2),\n",
       "   Token(form='이', tag='VCP', start=9, len=1),\n",
       "   Token(form='ᆸ니다', tag='EF', start=9, len=3)],\n",
       "  -29.27370262145996),\n",
       " ([Token(form='형태소', tag='NNG', start=0, len=3),\n",
       "   Token(form='분석', tag='NNG', start=4, len=2),\n",
       "   Token(form='결과', tag='NNG', start=7, len=2),\n",
       "   Token(form='이', tag='VCP', start=9, len=1),\n",
       "   Token(form='ᆸ니다', tag='EC', start=9, len=3)],\n",
       "  -36.541473388671875),\n",
       " ([Token(form='형태소', tag='NNG', start=0, len=3),\n",
       "   Token(form='분석', tag='NNG', start=4, len=2),\n",
       "   Token(form='결과', tag='NNG', start=7, len=2),\n",
       "   Token(form='입', tag='NNG', start=9, len=1),\n",
       "   Token(form='니다', tag='EF', start=10, len=2)],\n",
       "  -50.577144622802734),\n",
       " ([Token(form='형태소', tag='NNG', start=0, len=3),\n",
       "   Token(form='분석', tag='NNG', start=4, len=2),\n",
       "   Token(form='결과', tag='NNG', start=7, len=2),\n",
       "   Token(form='입', tag='VV-R', start=9, len=1),\n",
       "   Token(form='니다', tag='EF', start=10, len=2)],\n",
       "  -50.773948669433594),\n",
       " ([Token(form='형태소', tag='NNG', start=0, len=3),\n",
       "   Token(form='분석', tag='NNG', start=4, len=2),\n",
       "   Token(form='결과', tag='NNG', start=7, len=2),\n",
       "   Token(form='입', tag='VV-R', start=9, len=1),\n",
       "   Token(form='니', tag='EC', start=10, len=1),\n",
       "   Token(form='다', tag='MAG', start=11, len=1)],\n",
       "  -51.84966278076172)]"
      ]
     },
     "execution_count": 20,
     "metadata": {},
     "output_type": "execute_result"
    }
   ],
   "source": [
    "# analyze : score, result가 튜플의 형태로 반환\n",
    "kiwi.analyze(\"형태소 분석 결과입니다\", top_n=5)"
   ]
  }
 ],
 "metadata": {
  "kernelspec": {
   "display_name": "Python 3 (ipykernel)",
   "language": "python",
   "name": "python3"
  },
  "language_info": {
   "codemirror_mode": {
    "name": "ipython",
    "version": 3
   },
   "file_extension": ".py",
   "mimetype": "text/x-python",
   "name": "python",
   "nbconvert_exporter": "python",
   "pygments_lexer": "ipython3",
   "version": "3.9.13"
  },
  "toc": {
   "base_numbering": 1,
   "nav_menu": {},
   "number_sections": true,
   "sideBar": true,
   "skip_h1_title": false,
   "title_cell": "Table of Contents",
   "title_sidebar": "Contents",
   "toc_cell": false,
   "toc_position": {
    "height": "calc(100% - 180px)",
    "left": "10px",
    "top": "150px",
    "width": "330.569px"
   },
   "toc_section_display": true,
   "toc_window_display": false
  }
 },
 "nbformat": 4,
 "nbformat_minor": 5
}
