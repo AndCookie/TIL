{
 "cells": [
  {
   "cell_type": "markdown",
   "id": "448ac8b6",
   "metadata": {},
   "source": [
    "# 데이터 로드"
   ]
  },
  {
   "cell_type": "code",
   "execution_count": 2,
   "id": "276eb220",
   "metadata": {},
   "outputs": [],
   "source": [
    "import numpy as np\n",
    "import pandas as pd"
   ]
  },
  {
   "cell_type": "code",
   "execution_count": 5,
   "id": "14b4bb14",
   "metadata": {},
   "outputs": [
    {
     "data": {
      "text/html": [
       "<div>\n",
       "<style scoped>\n",
       "    .dataframe tbody tr th:only-of-type {\n",
       "        vertical-align: middle;\n",
       "    }\n",
       "\n",
       "    .dataframe tbody tr th {\n",
       "        vertical-align: top;\n",
       "    }\n",
       "\n",
       "    .dataframe thead th {\n",
       "        text-align: right;\n",
       "    }\n",
       "</style>\n",
       "<table border=\"1\" class=\"dataframe\">\n",
       "  <thead>\n",
       "    <tr style=\"text-align: right;\">\n",
       "      <th></th>\n",
       "      <th>추출 날짜</th>\n",
       "      <th>수집채널</th>\n",
       "      <th>제품명</th>\n",
       "      <th>제품상세URL</th>\n",
       "      <th>질문일자</th>\n",
       "      <th>질문</th>\n",
       "      <th>답변일자</th>\n",
       "      <th>답변</th>\n",
       "      <th>Qna URL</th>\n",
       "    </tr>\n",
       "  </thead>\n",
       "  <tbody>\n",
       "    <tr>\n",
       "      <th>0</th>\n",
       "      <td>2022.12.08</td>\n",
       "      <td>Build.com</td>\n",
       "      <td>TOTO Washlet+ S550E Elongated Bidet Seat with ...</td>\n",
       "      <td>https://www.build.com/toto-sw3056at40/s1575942...</td>\n",
       "      <td>2022.09.14</td>\n",
       "      <td>My seat did not come with the auto flush cord ...</td>\n",
       "      <td>2022.09.14</td>\n",
       "      <td>Hello, The seats do not include these because ...</td>\n",
       "      <td>NaN</td>\n",
       "    </tr>\n",
       "    <tr>\n",
       "      <th>1</th>\n",
       "      <td>2022.12.08</td>\n",
       "      <td>Build.com</td>\n",
       "      <td>American Standard Advanced Clean 2.5 SpaLet El...</td>\n",
       "      <td>https://www.build.com/american-standard-8012a6...</td>\n",
       "      <td>2021.01.12</td>\n",
       "      <td>I am looking to purchase the Advance Clean 2.5...</td>\n",
       "      <td>2021.01.13</td>\n",
       "      <td>Jubes,The Spalet Bidet seat should work well w...</td>\n",
       "      <td>NaN</td>\n",
       "    </tr>\n",
       "    <tr>\n",
       "      <th>2</th>\n",
       "      <td>2022.12.08</td>\n",
       "      <td>Build.com</td>\n",
       "      <td>Kohler C3-155 Elongated Closed Bidet Seat</td>\n",
       "      <td>https://www.build.com/kohler-k-8298/s1243588?u...</td>\n",
       "      <td>2020.11.20</td>\n",
       "      <td>Is this seat compatible with K78080-0? Thank you.</td>\n",
       "      <td>2020.12.11</td>\n",
       "      <td>With both of the items being from the same com...</td>\n",
       "      <td>NaN</td>\n",
       "    </tr>\n",
       "    <tr>\n",
       "      <th>3</th>\n",
       "      <td>2022.12.08</td>\n",
       "      <td>Build.com</td>\n",
       "      <td>Kohler Novita Elongated Bowl Bidet Seat with W...</td>\n",
       "      <td>https://www.build.com/kohler-bh-90/s1708753?ui...</td>\n",
       "      <td>2022.01.12</td>\n",
       "      <td>Can you turn the chime off? I don't see that i...</td>\n",
       "      <td>2022.01.14</td>\n",
       "      <td>Hi FizzyHolly, this is Lisa with Kohler Co.  I...</td>\n",
       "      <td>NaN</td>\n",
       "    </tr>\n",
       "    <tr>\n",
       "      <th>4</th>\n",
       "      <td>2022.12.08</td>\n",
       "      <td>Build.com</td>\n",
       "      <td>Kohler C3-155 Elongated Closed Bidet Seat</td>\n",
       "      <td>https://www.build.com/kohler-k-8298/s1243588?u...</td>\n",
       "      <td>2020.11.20</td>\n",
       "      <td>Is this seat compatible with K78080-0? Thank you.</td>\n",
       "      <td>2020.11.23</td>\n",
       "      <td>YES Works great !!</td>\n",
       "      <td>NaN</td>\n",
       "    </tr>\n",
       "  </tbody>\n",
       "</table>\n",
       "</div>"
      ],
      "text/plain": [
       "        추출 날짜       수집채널                                                제품명  \\\n",
       "0  2022.12.08  Build.com  TOTO Washlet+ S550E Elongated Bidet Seat with ...   \n",
       "1  2022.12.08  Build.com  American Standard Advanced Clean 2.5 SpaLet El...   \n",
       "2  2022.12.08  Build.com          Kohler C3-155 Elongated Closed Bidet Seat   \n",
       "3  2022.12.08  Build.com  Kohler Novita Elongated Bowl Bidet Seat with W...   \n",
       "4  2022.12.08  Build.com          Kohler C3-155 Elongated Closed Bidet Seat   \n",
       "\n",
       "                                             제품상세URL        질문일자  \\\n",
       "0  https://www.build.com/toto-sw3056at40/s1575942...  2022.09.14   \n",
       "1  https://www.build.com/american-standard-8012a6...  2021.01.12   \n",
       "2  https://www.build.com/kohler-k-8298/s1243588?u...  2020.11.20   \n",
       "3  https://www.build.com/kohler-bh-90/s1708753?ui...  2022.01.12   \n",
       "4  https://www.build.com/kohler-k-8298/s1243588?u...  2020.11.20   \n",
       "\n",
       "                                                  질문        답변일자  \\\n",
       "0  My seat did not come with the auto flush cord ...  2022.09.14   \n",
       "1  I am looking to purchase the Advance Clean 2.5...  2021.01.13   \n",
       "2  Is this seat compatible with K78080-0? Thank you.  2020.12.11   \n",
       "3  Can you turn the chime off? I don't see that i...  2022.01.14   \n",
       "4  Is this seat compatible with K78080-0? Thank you.  2020.11.23   \n",
       "\n",
       "                                                  답변  Qna URL  \n",
       "0  Hello, The seats do not include these because ...      NaN  \n",
       "1  Jubes,The Spalet Bidet seat should work well w...      NaN  \n",
       "2  With both of the items being from the same com...      NaN  \n",
       "3  Hi FizzyHolly, this is Lisa with Kohler Co.  I...      NaN  \n",
       "4                                 YES Works great !!      NaN  "
      ]
     },
     "execution_count": 5,
     "metadata": {},
     "output_type": "execute_result"
    }
   ],
   "source": [
    "Build_com_QnA_origin = pd.read_excel('Sample_Build.com_QnA_221208.xlsx')\n",
    "Build_com_QnA_origin.shape # (256,9)\n",
    "Build_com_QnA_origin.head()"
   ]
  },
  {
   "cell_type": "code",
   "execution_count": 6,
   "id": "ff8655c7",
   "metadata": {
    "scrolled": true
   },
   "outputs": [
    {
     "name": "stdout",
     "output_type": "stream",
     "text": [
      "<class 'pandas.core.frame.DataFrame'>\n",
      "RangeIndex: 265 entries, 0 to 264\n",
      "Data columns (total 9 columns):\n",
      " #   Column   Non-Null Count  Dtype  \n",
      "---  ------   --------------  -----  \n",
      " 0   추출 날짜    265 non-null    object \n",
      " 1   수집채널     265 non-null    object \n",
      " 2   제품명      265 non-null    object \n",
      " 3   제품상세URL  265 non-null    object \n",
      " 4   질문일자     265 non-null    object \n",
      " 5   질문       265 non-null    object \n",
      " 6   답변일자     254 non-null    object \n",
      " 7   답변       254 non-null    object \n",
      " 8   Qna URL  0 non-null      float64\n",
      "dtypes: float64(1), object(8)\n",
      "memory usage: 18.8+ KB\n"
     ]
    }
   ],
   "source": [
    "# 카피본 떠놓고 시작하기\n",
    "bc_qna = Build_com_QnA_origin.copy()\n",
    "bc_qna.info()"
   ]
  },
  {
   "cell_type": "markdown",
   "id": "e3215e1e",
   "metadata": {},
   "source": [
    "# 데이터 전처리"
   ]
  },
  {
   "cell_type": "markdown",
   "id": "cbae986d",
   "metadata": {},
   "source": [
    "## 컬럼 삭제"
   ]
  },
  {
   "cell_type": "code",
   "execution_count": 7,
   "id": "c46ade1a",
   "metadata": {},
   "outputs": [
    {
     "data": {
      "text/plain": [
       "Index(['제품명', '제품상세URL', '질문일자', '질문', '답변일자', '답변'], dtype='object')"
      ]
     },
     "execution_count": 7,
     "metadata": {},
     "output_type": "execute_result"
    }
   ],
   "source": [
    "bc_qna = bc_qna.drop(['추출 날짜', '수집채널', 'Qna URL'], axis=1)\n",
    "\n",
    "bc_qna.columns"
   ]
  },
  {
   "cell_type": "markdown",
   "id": "7e0809a8",
   "metadata": {},
   "source": [
    "## NA 확인"
   ]
  },
  {
   "cell_type": "code",
   "execution_count": 8,
   "id": "da9c8356",
   "metadata": {
    "scrolled": true
   },
   "outputs": [
    {
     "data": {
      "text/plain": [
       "제품명         0\n",
       "제품상세URL     0\n",
       "질문일자        0\n",
       "질문          0\n",
       "답변일자       11\n",
       "답변         11\n",
       "dtype: int64"
      ]
     },
     "execution_count": 8,
     "metadata": {},
     "output_type": "execute_result"
    }
   ],
   "source": [
    "np.sum(bc_qna.isna())"
   ]
  },
  {
   "cell_type": "markdown",
   "id": "b5649c30",
   "metadata": {},
   "source": [
    "## 중복 확인"
   ]
  },
  {
   "cell_type": "code",
   "execution_count": 9,
   "id": "06280006",
   "metadata": {},
   "outputs": [
    {
     "data": {
      "text/plain": [
       "0"
      ]
     },
     "execution_count": 9,
     "metadata": {},
     "output_type": "execute_result"
    }
   ],
   "source": [
    "bc_qna.duplicated().sum()"
   ]
  },
  {
   "cell_type": "markdown",
   "id": "8001e2ca",
   "metadata": {},
   "source": [
    "## 데이터 타입 변환"
   ]
  },
  {
   "cell_type": "code",
   "execution_count": 10,
   "id": "fcd552e8",
   "metadata": {},
   "outputs": [],
   "source": [
    "bc_qna['질문일자']=pd.to_datetime(bc_qna['질문일자'])\n",
    "bc_qna['답변일자']=pd.to_datetime(bc_qna['답변일자'])"
   ]
  },
  {
   "cell_type": "code",
   "execution_count": 11,
   "id": "7cdd46e5",
   "metadata": {
    "scrolled": true
   },
   "outputs": [
    {
     "name": "stdout",
     "output_type": "stream",
     "text": [
      "<class 'pandas.core.frame.DataFrame'>\n",
      "RangeIndex: 265 entries, 0 to 264\n",
      "Data columns (total 6 columns):\n",
      " #   Column   Non-Null Count  Dtype         \n",
      "---  ------   --------------  -----         \n",
      " 0   제품명      265 non-null    object        \n",
      " 1   제품상세URL  265 non-null    object        \n",
      " 2   질문일자     265 non-null    datetime64[ns]\n",
      " 3   질문       265 non-null    object        \n",
      " 4   답변일자     254 non-null    datetime64[ns]\n",
      " 5   답변       254 non-null    object        \n",
      "dtypes: datetime64[ns](2), object(4)\n",
      "memory usage: 12.5+ KB\n"
     ]
    }
   ],
   "source": [
    "bc_qna.info()"
   ]
  },
  {
   "cell_type": "markdown",
   "id": "50b3d50f",
   "metadata": {},
   "source": [
    "## 회사명 추출"
   ]
  },
  {
   "cell_type": "code",
   "execution_count": 12,
   "id": "d693de8a",
   "metadata": {
    "scrolled": true
   },
   "outputs": [
    {
     "data": {
      "text/plain": [
       "0      https://www.build.com/toto-sw3056at40/s1575942...\n",
       "1      https://www.build.com/american-standard-8012a6...\n",
       "2      https://www.build.com/kohler-k-8298/s1243588?u...\n",
       "3      https://www.build.com/kohler-bh-90/s1708753?ui...\n",
       "4      https://www.build.com/kohler-k-8298/s1243588?u...\n",
       "                             ...                        \n",
       "260    https://www.build.com/kohler-k-4108/s1053076?u...\n",
       "261    https://www.build.com/american-standard-8012a6...\n",
       "262    https://www.build.com/kohler-bh-90/s1708753?ui...\n",
       "263    https://www.build.com/american-standard-8019a6...\n",
       "264    https://www.build.com/kohler-k-4108/s1053076?u...\n",
       "Name: 제품상세URL, Length: 265, dtype: object"
      ]
     },
     "execution_count": 12,
     "metadata": {},
     "output_type": "execute_result"
    }
   ],
   "source": [
    "bc_qna['제품상세URL']"
   ]
  },
  {
   "cell_type": "code",
   "execution_count": 14,
   "id": "2cf5e888",
   "metadata": {},
   "outputs": [
    {
     "data": {
      "text/plain": [
       "265"
      ]
     },
     "execution_count": 14,
     "metadata": {},
     "output_type": "execute_result"
    }
   ],
   "source": [
    "bc_qna['제품상세URL'].str.contains('toto|brondell|alpha-bidet|biobidet|kohler|american-standard', case=False).sum()"
   ]
  },
  {
   "cell_type": "code",
   "execution_count": 16,
   "id": "1baef761",
   "metadata": {
    "scrolled": true
   },
   "outputs": [
    {
     "name": "stdout",
     "output_type": "stream",
     "text": [
      "{'toto', 'brondell', 'american', 'kohler', 'biobidet'}\n"
     ]
    }
   ],
   "source": [
    "company_list=[]\n",
    "\n",
    "for url in bc_qna['제품상세URL']:\n",
    "    company_list.append(url.lower().split('.com/')[1].split('-')[0])\n",
    "print(set(company_list))"
   ]
  },
  {
   "cell_type": "code",
   "execution_count": 17,
   "id": "56e2a5d6",
   "metadata": {
    "scrolled": false
   },
   "outputs": [
    {
     "data": {
      "text/plain": [
       "0          toto\n",
       "1      american\n",
       "2        kohler\n",
       "3        kohler\n",
       "4        kohler\n",
       "         ...   \n",
       "260      kohler\n",
       "261    american\n",
       "262      kohler\n",
       "263    american\n",
       "264      kohler\n",
       "Name: 회사명, Length: 265, dtype: object"
      ]
     },
     "execution_count": 17,
     "metadata": {},
     "output_type": "execute_result"
    }
   ],
   "source": [
    "bc_qna['회사명'] = company_list\n",
    "bc_qna['회사명']"
   ]
  },
  {
   "cell_type": "code",
   "execution_count": 18,
   "id": "2ef9f58d",
   "metadata": {},
   "outputs": [
    {
     "data": {
      "text/html": [
       "<div>\n",
       "<style scoped>\n",
       "    .dataframe tbody tr th:only-of-type {\n",
       "        vertical-align: middle;\n",
       "    }\n",
       "\n",
       "    .dataframe tbody tr th {\n",
       "        vertical-align: top;\n",
       "    }\n",
       "\n",
       "    .dataframe thead th {\n",
       "        text-align: right;\n",
       "    }\n",
       "</style>\n",
       "<table border=\"1\" class=\"dataframe\">\n",
       "  <thead>\n",
       "    <tr style=\"text-align: right;\">\n",
       "      <th></th>\n",
       "      <th>제품명</th>\n",
       "      <th>제품상세URL</th>\n",
       "      <th>질문일자</th>\n",
       "      <th>질문</th>\n",
       "      <th>답변일자</th>\n",
       "      <th>답변</th>\n",
       "      <th>회사명</th>\n",
       "    </tr>\n",
       "  </thead>\n",
       "  <tbody>\n",
       "    <tr>\n",
       "      <th>0</th>\n",
       "      <td>TOTO Washlet+ S550E Elongated Bidet Seat with ...</td>\n",
       "      <td>https://www.build.com/toto-sw3056at40/s1575942...</td>\n",
       "      <td>2022-09-14</td>\n",
       "      <td>My seat did not come with the auto flush cord ...</td>\n",
       "      <td>2022-09-14</td>\n",
       "      <td>Hello, The seats do not include these because ...</td>\n",
       "      <td>toto</td>\n",
       "    </tr>\n",
       "    <tr>\n",
       "      <th>1</th>\n",
       "      <td>American Standard Advanced Clean 2.5 SpaLet El...</td>\n",
       "      <td>https://www.build.com/american-standard-8012a6...</td>\n",
       "      <td>2021-01-12</td>\n",
       "      <td>I am looking to purchase the Advance Clean 2.5...</td>\n",
       "      <td>2021-01-13</td>\n",
       "      <td>Jubes,The Spalet Bidet seat should work well w...</td>\n",
       "      <td>american</td>\n",
       "    </tr>\n",
       "    <tr>\n",
       "      <th>2</th>\n",
       "      <td>Kohler C3-155 Elongated Closed Bidet Seat</td>\n",
       "      <td>https://www.build.com/kohler-k-8298/s1243588?u...</td>\n",
       "      <td>2020-11-20</td>\n",
       "      <td>Is this seat compatible with K78080-0? Thank you.</td>\n",
       "      <td>2020-12-11</td>\n",
       "      <td>With both of the items being from the same com...</td>\n",
       "      <td>kohler</td>\n",
       "    </tr>\n",
       "    <tr>\n",
       "      <th>3</th>\n",
       "      <td>Kohler Novita Elongated Bowl Bidet Seat with W...</td>\n",
       "      <td>https://www.build.com/kohler-bh-90/s1708753?ui...</td>\n",
       "      <td>2022-01-12</td>\n",
       "      <td>Can you turn the chime off? I don't see that i...</td>\n",
       "      <td>2022-01-14</td>\n",
       "      <td>Hi FizzyHolly, this is Lisa with Kohler Co.  I...</td>\n",
       "      <td>kohler</td>\n",
       "    </tr>\n",
       "    <tr>\n",
       "      <th>4</th>\n",
       "      <td>Kohler C3-155 Elongated Closed Bidet Seat</td>\n",
       "      <td>https://www.build.com/kohler-k-8298/s1243588?u...</td>\n",
       "      <td>2020-11-20</td>\n",
       "      <td>Is this seat compatible with K78080-0? Thank you.</td>\n",
       "      <td>2020-11-23</td>\n",
       "      <td>YES Works great !!</td>\n",
       "      <td>kohler</td>\n",
       "    </tr>\n",
       "  </tbody>\n",
       "</table>\n",
       "</div>"
      ],
      "text/plain": [
       "                                                 제품명  \\\n",
       "0  TOTO Washlet+ S550E Elongated Bidet Seat with ...   \n",
       "1  American Standard Advanced Clean 2.5 SpaLet El...   \n",
       "2          Kohler C3-155 Elongated Closed Bidet Seat   \n",
       "3  Kohler Novita Elongated Bowl Bidet Seat with W...   \n",
       "4          Kohler C3-155 Elongated Closed Bidet Seat   \n",
       "\n",
       "                                             제품상세URL       질문일자  \\\n",
       "0  https://www.build.com/toto-sw3056at40/s1575942... 2022-09-14   \n",
       "1  https://www.build.com/american-standard-8012a6... 2021-01-12   \n",
       "2  https://www.build.com/kohler-k-8298/s1243588?u... 2020-11-20   \n",
       "3  https://www.build.com/kohler-bh-90/s1708753?ui... 2022-01-12   \n",
       "4  https://www.build.com/kohler-k-8298/s1243588?u... 2020-11-20   \n",
       "\n",
       "                                                  질문       답변일자  \\\n",
       "0  My seat did not come with the auto flush cord ... 2022-09-14   \n",
       "1  I am looking to purchase the Advance Clean 2.5... 2021-01-13   \n",
       "2  Is this seat compatible with K78080-0? Thank you. 2020-12-11   \n",
       "3  Can you turn the chime off? I don't see that i... 2022-01-14   \n",
       "4  Is this seat compatible with K78080-0? Thank you. 2020-11-23   \n",
       "\n",
       "                                                  답변       회사명  \n",
       "0  Hello, The seats do not include these because ...      toto  \n",
       "1  Jubes,The Spalet Bidet seat should work well w...  american  \n",
       "2  With both of the items being from the same com...    kohler  \n",
       "3  Hi FizzyHolly, this is Lisa with Kohler Co.  I...    kohler  \n",
       "4                                 YES Works great !!    kohler  "
      ]
     },
     "execution_count": 18,
     "metadata": {},
     "output_type": "execute_result"
    }
   ],
   "source": [
    "bc_qna.head()"
   ]
  },
  {
   "cell_type": "code",
   "execution_count": 19,
   "id": "122db1c0",
   "metadata": {
    "scrolled": true
   },
   "outputs": [
    {
     "data": {
      "text/html": [
       "<div>\n",
       "<style scoped>\n",
       "    .dataframe tbody tr th:only-of-type {\n",
       "        vertical-align: middle;\n",
       "    }\n",
       "\n",
       "    .dataframe tbody tr th {\n",
       "        vertical-align: top;\n",
       "    }\n",
       "\n",
       "    .dataframe thead th {\n",
       "        text-align: right;\n",
       "    }\n",
       "</style>\n",
       "<table border=\"1\" class=\"dataframe\">\n",
       "  <thead>\n",
       "    <tr style=\"text-align: right;\">\n",
       "      <th></th>\n",
       "      <th>회사명</th>\n",
       "      <th>제품명</th>\n",
       "      <th>질문일자</th>\n",
       "      <th>질문</th>\n",
       "      <th>답변일자</th>\n",
       "      <th>답변</th>\n",
       "    </tr>\n",
       "  </thead>\n",
       "  <tbody>\n",
       "    <tr>\n",
       "      <th>0</th>\n",
       "      <td>toto</td>\n",
       "      <td>TOTO Washlet+ S550E Elongated Bidet Seat with ...</td>\n",
       "      <td>2022-09-14</td>\n",
       "      <td>My seat did not come with the auto flush cord ...</td>\n",
       "      <td>2022-09-14</td>\n",
       "      <td>Hello, The seats do not include these because ...</td>\n",
       "    </tr>\n",
       "    <tr>\n",
       "      <th>1</th>\n",
       "      <td>american</td>\n",
       "      <td>American Standard Advanced Clean 2.5 SpaLet El...</td>\n",
       "      <td>2021-01-12</td>\n",
       "      <td>I am looking to purchase the Advance Clean 2.5...</td>\n",
       "      <td>2021-01-13</td>\n",
       "      <td>Jubes,The Spalet Bidet seat should work well w...</td>\n",
       "    </tr>\n",
       "    <tr>\n",
       "      <th>2</th>\n",
       "      <td>kohler</td>\n",
       "      <td>Kohler C3-155 Elongated Closed Bidet Seat</td>\n",
       "      <td>2020-11-20</td>\n",
       "      <td>Is this seat compatible with K78080-0? Thank you.</td>\n",
       "      <td>2020-12-11</td>\n",
       "      <td>With both of the items being from the same com...</td>\n",
       "    </tr>\n",
       "    <tr>\n",
       "      <th>3</th>\n",
       "      <td>kohler</td>\n",
       "      <td>Kohler Novita Elongated Bowl Bidet Seat with W...</td>\n",
       "      <td>2022-01-12</td>\n",
       "      <td>Can you turn the chime off? I don't see that i...</td>\n",
       "      <td>2022-01-14</td>\n",
       "      <td>Hi FizzyHolly, this is Lisa with Kohler Co.  I...</td>\n",
       "    </tr>\n",
       "    <tr>\n",
       "      <th>4</th>\n",
       "      <td>kohler</td>\n",
       "      <td>Kohler C3-155 Elongated Closed Bidet Seat</td>\n",
       "      <td>2020-11-20</td>\n",
       "      <td>Is this seat compatible with K78080-0? Thank you.</td>\n",
       "      <td>2020-11-23</td>\n",
       "      <td>YES Works great !!</td>\n",
       "    </tr>\n",
       "  </tbody>\n",
       "</table>\n",
       "</div>"
      ],
      "text/plain": [
       "        회사명                                                제품명       질문일자  \\\n",
       "0      toto  TOTO Washlet+ S550E Elongated Bidet Seat with ... 2022-09-14   \n",
       "1  american  American Standard Advanced Clean 2.5 SpaLet El... 2021-01-12   \n",
       "2    kohler          Kohler C3-155 Elongated Closed Bidet Seat 2020-11-20   \n",
       "3    kohler  Kohler Novita Elongated Bowl Bidet Seat with W... 2022-01-12   \n",
       "4    kohler          Kohler C3-155 Elongated Closed Bidet Seat 2020-11-20   \n",
       "\n",
       "                                                  질문       답변일자  \\\n",
       "0  My seat did not come with the auto flush cord ... 2022-09-14   \n",
       "1  I am looking to purchase the Advance Clean 2.5... 2021-01-13   \n",
       "2  Is this seat compatible with K78080-0? Thank you. 2020-12-11   \n",
       "3  Can you turn the chime off? I don't see that i... 2022-01-14   \n",
       "4  Is this seat compatible with K78080-0? Thank you. 2020-11-23   \n",
       "\n",
       "                                                  답변  \n",
       "0  Hello, The seats do not include these because ...  \n",
       "1  Jubes,The Spalet Bidet seat should work well w...  \n",
       "2  With both of the items being from the same com...  \n",
       "3  Hi FizzyHolly, this is Lisa with Kohler Co.  I...  \n",
       "4                                 YES Works great !!  "
      ]
     },
     "execution_count": 19,
     "metadata": {},
     "output_type": "execute_result"
    }
   ],
   "source": [
    "bc_qna = bc_qna[['회사명', '제품명', '질문일자', '질문', '답변일자', '답변']]\n",
    "bc_qna.head()"
   ]
  },
  {
   "cell_type": "code",
   "execution_count": 20,
   "id": "c1b860a6",
   "metadata": {
    "scrolled": true
   },
   "outputs": [
    {
     "data": {
      "text/plain": [
       "array(['toto', 'american', 'kohler', 'biobidet', 'brondell'], dtype=object)"
      ]
     },
     "execution_count": 20,
     "metadata": {},
     "output_type": "execute_result"
    }
   ],
   "source": [
    "bc_qna['회사명'].unique()"
   ]
  },
  {
   "cell_type": "code",
   "execution_count": 21,
   "id": "d07962e6",
   "metadata": {},
   "outputs": [
    {
     "data": {
      "text/plain": [
       "array(['toto', 'a_s', 'kohler', 'biobidet', 'brondell'], dtype=object)"
      ]
     },
     "execution_count": 21,
     "metadata": {},
     "output_type": "execute_result"
    }
   ],
   "source": [
    "bc_qna['회사명'] = bc_qna['회사명'].str.replace('american', 'a_s')\n",
    "bc_qna['회사명'].unique()"
   ]
  }
 ],
 "metadata": {
  "kernelspec": {
   "display_name": "Python 3 (ipykernel)",
   "language": "python",
   "name": "python3"
  },
  "language_info": {
   "codemirror_mode": {
    "name": "ipython",
    "version": 3
   },
   "file_extension": ".py",
   "mimetype": "text/x-python",
   "name": "python",
   "nbconvert_exporter": "python",
   "pygments_lexer": "ipython3",
   "version": "3.9.13"
  },
  "toc": {
   "base_numbering": 1,
   "nav_menu": {},
   "number_sections": true,
   "sideBar": true,
   "skip_h1_title": false,
   "title_cell": "Table of Contents",
   "title_sidebar": "Contents",
   "toc_cell": false,
   "toc_position": {
    "height": "calc(100% - 180px)",
    "left": "10px",
    "top": "150px",
    "width": "188.944px"
   },
   "toc_section_display": true,
   "toc_window_display": true
  }
 },
 "nbformat": 4,
 "nbformat_minor": 5
}
