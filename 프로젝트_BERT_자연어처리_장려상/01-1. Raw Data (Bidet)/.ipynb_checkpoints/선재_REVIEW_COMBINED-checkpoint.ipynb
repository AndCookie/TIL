{
 "cells": [
  {
   "cell_type": "markdown",
   "id": "2e5f7d1f",
   "metadata": {},
   "source": [
    "# 데이터 로드"
   ]
  },
  {
   "cell_type": "code",
   "execution_count": 93,
   "id": "e9a43589",
   "metadata": {},
   "outputs": [],
   "source": [
    "import os\n",
    "import pandas as pd\n",
    "\n",
    "file_path = './' # 파일 경로\n",
    "file_extension = '.xlsx' # 파일 확장자\n",
    "\n",
    "file_list = [f for f in os.listdir(file_path) if f.endswith('_review' + file_extension)]"
   ]
  },
  {
   "cell_type": "code",
   "execution_count": 94,
   "id": "96749883",
   "metadata": {},
   "outputs": [
    {
     "data": {
      "text/plain": [
       "[           회사명        작성일  별점  \\\n",
       " 0     brondell 2017-09-20   5   \n",
       " 1     brondell 2018-01-03   3   \n",
       " 2     brondell 2018-01-03   5   \n",
       " 3     brondell 2018-01-24   5   \n",
       " 4     brondell 2018-02-02   5   \n",
       " ...        ...        ...  ..   \n",
       " 1123  brondell 2022-04-20   2   \n",
       " 1124  brondell 2022-04-28   1   \n",
       " 1125  brondell 2022-05-05   5   \n",
       " 1126  brondell 2022-06-23   5   \n",
       " 1127  brondell 2022-10-05   1   \n",
       " \n",
       "                                                   제목_본문 채널명  \n",
       " 0     Best money ever spent!.Bought this with specul...  hd  \n",
       " 1     I like the fact that it has a remote. I chose ...  hd  \n",
       " 2     Amazing!.This product is amazing! I had never ...  hd  \n",
       " 3     Totally groovy.Excellent product!  Very easy i...  hd  \n",
       " 4     Brondell Se600 bidet.Excellent. Fairly priced....  hd  \n",
       " ...                                                 ...  ..  \n",
       " 1123  This bidet toilet seat has some functional dra...  hd  \n",
       " 1124  Beware! Be carefull.  Support not helpful.Befo...  hd  \n",
       " 1125  Great Product.A bidet which works very well an...  hd  \n",
       " 1126  Only way to go, literally.After using a Bronde...  hd  \n",
       " 1127  I will be returning this Bidet  the seat is......  hd  \n",
       " \n",
       " [1128 rows x 5 columns],\n",
       "              회사명        작성일  별점  \\\n",
       " 0           toto 2022-01-25   5   \n",
       " 1           toto 2022-08-28   5   \n",
       " 2           toto 2018-07-25   3   \n",
       " 3       biobidet 2021-12-21   3   \n",
       " 4       biobidet 2021-03-01   5   \n",
       " ...          ...        ...  ..   \n",
       " 8609    brondell 2020-08-13   5   \n",
       " 8610    brondell 2019-09-16   5   \n",
       " 8611        toto 2021-05-27   1   \n",
       " 8612        toto 2018-07-10   5   \n",
       " 8613  alphabidet 2021-08-05   5   \n",
       " \n",
       "                                                   제목_본문     채널명  \n",
       " 0     Amazing product.I travel a lot, and I frequent...  amazon  \n",
       " 1     Husband says best gift ever!.I purchased this ...  amazon  \n",
       " 2     Leakage problem fix.7/24/18First of, I did not...  amazon  \n",
       " 3     Loved it for the few days it has worked..We bo...  amazon  \n",
       " 4     It Works Beautifully.It does everything it say...  amazon  \n",
       " ...                                                 ...     ...  \n",
       " 8609                                            Good.Ok  amazon  \n",
       " 8610  Every home should have one..Easy to install, w...  amazon  \n",
       " 8611  Does'nt work..Had to sit for 5mins to clean of...  amazon  \n",
       " 8612  Love.Love this. Zero smells with its deodorize...  amazon  \n",
       " 8613  great product!.I give this bidet seat 5 stars....  amazon  \n",
       " \n",
       " [8614 rows x 5 columns],\n",
       "            회사명        작성일  별점  \\\n",
       " 0     biobidet 2017-01-01   5   \n",
       " 1     biobidet 2017-01-01   5   \n",
       " 2     biobidet 2020-01-01   5   \n",
       " 3     biobidet 2019-01-10   5   \n",
       " 4     biobidet 2021-01-10   5   \n",
       " ...        ...        ...  ..   \n",
       " 1243  biobidet 2017-09-08   5   \n",
       " 1244  brondell 2020-09-08   5   \n",
       " 1245  biobidet 2016-09-09   5   \n",
       " 1246  brondell 2020-09-09   5   \n",
       " 1247  biobidet 2021-09-09   5   \n",
       " \n",
       "                                                   제목_본문      채널명  \n",
       " 0     Luxury at an affordable price!.We just purchas...  walmart  \n",
       " 1     Love it!!.Classy Looking. Easy to install. Sim...  walmart  \n",
       " 2     Love it!.Got this during Thanksgiving and was ...  walmart  \n",
       " 3     Tried it out today, awesome results after use!...  walmart  \n",
       " 4     Im a loyal Biobidet customer and I’m loving it...  walmart  \n",
       " ...                                                 ...      ...  \n",
       " 1243  Good product.I installed BB-2000 to replace my...  walmart  \n",
       " 1244  Fantastic product.We have had our current For ...  walmart  \n",
       " 1245  Great product.I bought this product about two ...  walmart  \n",
       " 1246  Straight forward installation.This is  second ...  walmart  \n",
       " 1247  Wouldn’t be without it.We just recently purcha...  walmart  \n",
       " \n",
       " [1248 rows x 5 columns],\n",
       "            회사명        작성일  별점  \\\n",
       " 0     biobidet 2015-01-09   5   \n",
       " 1     biobidet 2015-01-09   5   \n",
       " 2     biobidet 2015-04-04   4   \n",
       " 3     biobidet 2015-04-08   5   \n",
       " 4     biobidet 2015-04-09   5   \n",
       " ...        ...        ...  ..   \n",
       " 1491      toto 2022-01-21   5   \n",
       " 1492      toto 2022-04-10   5   \n",
       " 1493      toto 2022-05-04   5   \n",
       " 1494      toto 2022-06-17   5   \n",
       " 1495      toto 2022-06-25   5   \n",
       " \n",
       "                                                   제목_본문        채널명  \n",
       " 0        Better then Toto .Had toto for a long time....  build.com  \n",
       " 1        We should have bought one years ago! .We bo...  build.com  \n",
       " 2        A must have. .Owned a model BB1000 since fe...  build.com  \n",
       " 3        Everyone should have one! .We've had ours i...  build.com  \n",
       " 4        Excellent product .I am a residential archi...  build.com  \n",
       " ...                                                 ...        ...  \n",
       " 1491     Excellent Washlet, confusing remote .Pros: ...  build.com  \n",
       " 1492     Great bidet seat .We highly recommend this ...  build.com  \n",
       " 1493     Why would u buy this great product .Best in...  build.com  \n",
       " 1494     Excellent quality .This is a high quality s...  build.com  \n",
       " 1495     Pleased with our Washlet+! .We are really h...  build.com  \n",
       " \n",
       " [1496 rows x 5 columns],\n",
       "            회사명        작성일  별점  \\\n",
       " 0     biobidet 2016-12-01   5   \n",
       " 1     biobidet 2016-11-06   5   \n",
       " 2     biobidet 2019-09-17   5   \n",
       " 3     biobidet 2020-10-02   4   \n",
       " 4     biobidet 2019-05-13   5   \n",
       " ...        ...        ...  ..   \n",
       " 1041  brondell 2018-12-02   5   \n",
       " 1042  brondell 2020-04-02   5   \n",
       " 1043  brondell 2021-01-04   5   \n",
       " 1044  brondell 2019-10-30   5   \n",
       " 1045  brondell 2020-11-27   5   \n",
       " \n",
       "                                                   제목_본문    채널명  \n",
       " 0     AMAZING.I couldn’t be happier!!! A must for an...  lowes  \n",
       " 1     Good Product!.It takes just minutes to install...  lowes  \n",
       " 2     Very Satisfied....Love the night glow light. V...  lowes  \n",
       " 3     Great features and easy to install.Steady hot ...  lowes  \n",
       " 4     Wonderful features.I bought 10 days ago and us...  lowes  \n",
       " ...                                                 ...    ...  \n",
       " 1041  Easy to Install.I never bought a bidet until n...  lowes  \n",
       " 1042  One of the best investments ever!.Bought the S...  lowes  \n",
       " 1043  Bidet toilet seat is amazing!!!!.this is so am...  lowes  \n",
       " 1044  Perfect wash with the Brondell Swash!.Can anyo...  lowes  \n",
       " 1045  Excellent performance, easy installation. NICE...  lowes  \n",
       " \n",
       " [1046 rows x 5 columns]]"
      ]
     },
     "execution_count": 94,
     "metadata": {},
     "output_type": "execute_result"
    }
   ],
   "source": [
    "data_frames = []\n",
    "for file_name in file_list:\n",
    "    channel = file_name.split('_')[0]\n",
    "    df = pd.read_excel(file_path + file_name)\n",
    "    df['채널명'] = channel\n",
    "    data_frames.append(df)\n",
    "data_frames[:5]"
   ]
  },
  {
   "cell_type": "code",
   "execution_count": 95,
   "id": "b6aa9950",
   "metadata": {
    "scrolled": true
   },
   "outputs": [
    {
     "data": {
      "text/html": [
       "<div>\n",
       "<style scoped>\n",
       "    .dataframe tbody tr th:only-of-type {\n",
       "        vertical-align: middle;\n",
       "    }\n",
       "\n",
       "    .dataframe tbody tr th {\n",
       "        vertical-align: top;\n",
       "    }\n",
       "\n",
       "    .dataframe thead th {\n",
       "        text-align: right;\n",
       "    }\n",
       "</style>\n",
       "<table border=\"1\" class=\"dataframe\">\n",
       "  <thead>\n",
       "    <tr style=\"text-align: right;\">\n",
       "      <th></th>\n",
       "      <th>회사명</th>\n",
       "      <th>작성일</th>\n",
       "      <th>별점</th>\n",
       "      <th>제목_본문</th>\n",
       "      <th>채널명</th>\n",
       "    </tr>\n",
       "  </thead>\n",
       "  <tbody>\n",
       "    <tr>\n",
       "      <th>0</th>\n",
       "      <td>brondell</td>\n",
       "      <td>2017-09-20</td>\n",
       "      <td>5</td>\n",
       "      <td>Best money ever spent!.Bought this with specul...</td>\n",
       "      <td>hd</td>\n",
       "    </tr>\n",
       "    <tr>\n",
       "      <th>1</th>\n",
       "      <td>brondell</td>\n",
       "      <td>2018-01-03</td>\n",
       "      <td>3</td>\n",
       "      <td>I like the fact that it has a remote. I chose ...</td>\n",
       "      <td>hd</td>\n",
       "    </tr>\n",
       "    <tr>\n",
       "      <th>2</th>\n",
       "      <td>brondell</td>\n",
       "      <td>2018-01-03</td>\n",
       "      <td>5</td>\n",
       "      <td>Amazing!.This product is amazing! I had never ...</td>\n",
       "      <td>hd</td>\n",
       "    </tr>\n",
       "    <tr>\n",
       "      <th>3</th>\n",
       "      <td>brondell</td>\n",
       "      <td>2018-01-24</td>\n",
       "      <td>5</td>\n",
       "      <td>Totally groovy.Excellent product!  Very easy i...</td>\n",
       "      <td>hd</td>\n",
       "    </tr>\n",
       "    <tr>\n",
       "      <th>4</th>\n",
       "      <td>brondell</td>\n",
       "      <td>2018-02-02</td>\n",
       "      <td>5</td>\n",
       "      <td>Brondell Se600 bidet.Excellent. Fairly priced....</td>\n",
       "      <td>hd</td>\n",
       "    </tr>\n",
       "  </tbody>\n",
       "</table>\n",
       "</div>"
      ],
      "text/plain": [
       "        회사명        작성일  별점                                              제목_본문  \\\n",
       "0  brondell 2017-09-20   5  Best money ever spent!.Bought this with specul...   \n",
       "1  brondell 2018-01-03   3  I like the fact that it has a remote. I chose ...   \n",
       "2  brondell 2018-01-03   5  Amazing!.This product is amazing! I had never ...   \n",
       "3  brondell 2018-01-24   5  Totally groovy.Excellent product!  Very easy i...   \n",
       "4  brondell 2018-02-02   5  Brondell Se600 bidet.Excellent. Fairly priced....   \n",
       "\n",
       "  채널명  \n",
       "0  hd  \n",
       "1  hd  \n",
       "2  hd  \n",
       "3  hd  \n",
       "4  hd  "
      ]
     },
     "execution_count": 95,
     "metadata": {},
     "output_type": "execute_result"
    }
   ],
   "source": [
    "df_concat = pd.concat(data_frames, ignore_index=True)\n",
    "\n",
    "# 결과 출력\n",
    "df_concat.head()"
   ]
  },
  {
   "cell_type": "code",
   "execution_count": 97,
   "id": "56579d1d",
   "metadata": {},
   "outputs": [
    {
     "data": {
      "text/plain": [
       "array(['hd', 'amazon', 'walmart', 'build.com', 'lowes', 'costco',\n",
       "       'combined'], dtype=object)"
      ]
     },
     "execution_count": 97,
     "metadata": {},
     "output_type": "execute_result"
    }
   ],
   "source": [
    "df_concat['채널명'].unique()"
   ]
  },
  {
   "cell_type": "code",
   "execution_count": 96,
   "id": "8327af6a",
   "metadata": {},
   "outputs": [
    {
     "data": {
      "text/plain": [
       "62396"
      ]
     },
     "execution_count": 96,
     "metadata": {},
     "output_type": "execute_result"
    }
   ],
   "source": [
    "len(df_concat)"
   ]
  },
  {
   "cell_type": "code",
   "execution_count": 88,
   "id": "a54005cc",
   "metadata": {},
   "outputs": [
    {
     "data": {
      "text/plain": [
       "336"
      ]
     },
     "execution_count": 88,
     "metadata": {},
     "output_type": "execute_result"
    }
   ],
   "source": [
    "df_concat.duplicated().sum()"
   ]
  },
  {
   "cell_type": "code",
   "execution_count": null,
   "id": "f485037f",
   "metadata": {},
   "outputs": [],
   "source": []
  },
  {
   "cell_type": "code",
   "execution_count": null,
   "id": "8aeeaadd",
   "metadata": {},
   "outputs": [],
   "source": []
  },
  {
   "cell_type": "code",
   "execution_count": 67,
   "id": "a3a012e0",
   "metadata": {},
   "outputs": [],
   "source": [
    "import numpy as np\n",
    "import pandas as pd"
   ]
  },
  {
   "cell_type": "code",
   "execution_count": 68,
   "id": "32dd0142",
   "metadata": {
    "scrolled": true
   },
   "outputs": [
    {
     "name": "stdout",
     "output_type": "stream",
     "text": [
      "<class 'pandas.core.frame.DataFrame'>\n",
      "RangeIndex: 8614 entries, 0 to 8613\n",
      "Data columns (total 4 columns):\n",
      " #   Column  Non-Null Count  Dtype         \n",
      "---  ------  --------------  -----         \n",
      " 0   회사명     8614 non-null   object        \n",
      " 1   작성일     8614 non-null   datetime64[ns]\n",
      " 2   별점      8614 non-null   int64         \n",
      " 3   제목_본문   8614 non-null   object        \n",
      "dtypes: datetime64[ns](1), int64(1), object(2)\n",
      "memory usage: 269.3+ KB\n"
     ]
    }
   ],
   "source": [
    "amazon_review_origin = pd.read_excel('amazon_review.xlsx')\n",
    "\n",
    "# 카피본 떠놓고 시작하기\n",
    "amazon_review = amazon_review_origin.copy()\n",
    "amazon_review.info()"
   ]
  },
  {
   "cell_type": "code",
   "execution_count": 69,
   "id": "b460eacc",
   "metadata": {},
   "outputs": [
    {
     "ename": "KeyError",
     "evalue": "'채널명'",
     "output_type": "error",
     "traceback": [
      "\u001b[1;31m---------------------------------------------------------------------------\u001b[0m",
      "\u001b[1;31mKeyError\u001b[0m                                  Traceback (most recent call last)",
      "\u001b[1;32m~\\anaconda3\\lib\\site-packages\\pandas\\core\\indexes\\base.py\u001b[0m in \u001b[0;36mget_loc\u001b[1;34m(self, key, method, tolerance)\u001b[0m\n\u001b[0;32m   3628\u001b[0m             \u001b[1;32mtry\u001b[0m\u001b[1;33m:\u001b[0m\u001b[1;33m\u001b[0m\u001b[1;33m\u001b[0m\u001b[0m\n\u001b[1;32m-> 3629\u001b[1;33m                 \u001b[1;32mreturn\u001b[0m \u001b[0mself\u001b[0m\u001b[1;33m.\u001b[0m\u001b[0m_engine\u001b[0m\u001b[1;33m.\u001b[0m\u001b[0mget_loc\u001b[0m\u001b[1;33m(\u001b[0m\u001b[0mcasted_key\u001b[0m\u001b[1;33m)\u001b[0m\u001b[1;33m\u001b[0m\u001b[1;33m\u001b[0m\u001b[0m\n\u001b[0m\u001b[0;32m   3630\u001b[0m             \u001b[1;32mexcept\u001b[0m \u001b[0mKeyError\u001b[0m \u001b[1;32mas\u001b[0m \u001b[0merr\u001b[0m\u001b[1;33m:\u001b[0m\u001b[1;33m\u001b[0m\u001b[1;33m\u001b[0m\u001b[0m\n",
      "\u001b[1;32m~\\anaconda3\\lib\\site-packages\\pandas\\_libs\\index.pyx\u001b[0m in \u001b[0;36mpandas._libs.index.IndexEngine.get_loc\u001b[1;34m()\u001b[0m\n",
      "\u001b[1;32m~\\anaconda3\\lib\\site-packages\\pandas\\_libs\\index.pyx\u001b[0m in \u001b[0;36mpandas._libs.index.IndexEngine.get_loc\u001b[1;34m()\u001b[0m\n",
      "\u001b[1;32mpandas\\_libs\\hashtable_class_helper.pxi\u001b[0m in \u001b[0;36mpandas._libs.hashtable.PyObjectHashTable.get_item\u001b[1;34m()\u001b[0m\n",
      "\u001b[1;32mpandas\\_libs\\hashtable_class_helper.pxi\u001b[0m in \u001b[0;36mpandas._libs.hashtable.PyObjectHashTable.get_item\u001b[1;34m()\u001b[0m\n",
      "\u001b[1;31mKeyError\u001b[0m: '채널명'",
      "\nThe above exception was the direct cause of the following exception:\n",
      "\u001b[1;31mKeyError\u001b[0m                                  Traceback (most recent call last)",
      "\u001b[1;32m~\\AppData\\Local\\Temp\\ipykernel_7000\\470890189.py\u001b[0m in \u001b[0;36m<module>\u001b[1;34m\u001b[0m\n\u001b[1;32m----> 1\u001b[1;33m \u001b[0mamazon_review\u001b[0m\u001b[1;33m[\u001b[0m\u001b[1;34m'채널명'\u001b[0m\u001b[1;33m]\u001b[0m \u001b[1;33m==\u001b[0m \u001b[1;34m'amazon'\u001b[0m\u001b[1;33m\u001b[0m\u001b[1;33m\u001b[0m\u001b[0m\n\u001b[0m",
      "\u001b[1;32m~\\anaconda3\\lib\\site-packages\\pandas\\core\\frame.py\u001b[0m in \u001b[0;36m__getitem__\u001b[1;34m(self, key)\u001b[0m\n\u001b[0;32m   3503\u001b[0m             \u001b[1;32mif\u001b[0m \u001b[0mself\u001b[0m\u001b[1;33m.\u001b[0m\u001b[0mcolumns\u001b[0m\u001b[1;33m.\u001b[0m\u001b[0mnlevels\u001b[0m \u001b[1;33m>\u001b[0m \u001b[1;36m1\u001b[0m\u001b[1;33m:\u001b[0m\u001b[1;33m\u001b[0m\u001b[1;33m\u001b[0m\u001b[0m\n\u001b[0;32m   3504\u001b[0m                 \u001b[1;32mreturn\u001b[0m \u001b[0mself\u001b[0m\u001b[1;33m.\u001b[0m\u001b[0m_getitem_multilevel\u001b[0m\u001b[1;33m(\u001b[0m\u001b[0mkey\u001b[0m\u001b[1;33m)\u001b[0m\u001b[1;33m\u001b[0m\u001b[1;33m\u001b[0m\u001b[0m\n\u001b[1;32m-> 3505\u001b[1;33m             \u001b[0mindexer\u001b[0m \u001b[1;33m=\u001b[0m \u001b[0mself\u001b[0m\u001b[1;33m.\u001b[0m\u001b[0mcolumns\u001b[0m\u001b[1;33m.\u001b[0m\u001b[0mget_loc\u001b[0m\u001b[1;33m(\u001b[0m\u001b[0mkey\u001b[0m\u001b[1;33m)\u001b[0m\u001b[1;33m\u001b[0m\u001b[1;33m\u001b[0m\u001b[0m\n\u001b[0m\u001b[0;32m   3506\u001b[0m             \u001b[1;32mif\u001b[0m \u001b[0mis_integer\u001b[0m\u001b[1;33m(\u001b[0m\u001b[0mindexer\u001b[0m\u001b[1;33m)\u001b[0m\u001b[1;33m:\u001b[0m\u001b[1;33m\u001b[0m\u001b[1;33m\u001b[0m\u001b[0m\n\u001b[0;32m   3507\u001b[0m                 \u001b[0mindexer\u001b[0m \u001b[1;33m=\u001b[0m \u001b[1;33m[\u001b[0m\u001b[0mindexer\u001b[0m\u001b[1;33m]\u001b[0m\u001b[1;33m\u001b[0m\u001b[1;33m\u001b[0m\u001b[0m\n",
      "\u001b[1;32m~\\anaconda3\\lib\\site-packages\\pandas\\core\\indexes\\base.py\u001b[0m in \u001b[0;36mget_loc\u001b[1;34m(self, key, method, tolerance)\u001b[0m\n\u001b[0;32m   3629\u001b[0m                 \u001b[1;32mreturn\u001b[0m \u001b[0mself\u001b[0m\u001b[1;33m.\u001b[0m\u001b[0m_engine\u001b[0m\u001b[1;33m.\u001b[0m\u001b[0mget_loc\u001b[0m\u001b[1;33m(\u001b[0m\u001b[0mcasted_key\u001b[0m\u001b[1;33m)\u001b[0m\u001b[1;33m\u001b[0m\u001b[1;33m\u001b[0m\u001b[0m\n\u001b[0;32m   3630\u001b[0m             \u001b[1;32mexcept\u001b[0m \u001b[0mKeyError\u001b[0m \u001b[1;32mas\u001b[0m \u001b[0merr\u001b[0m\u001b[1;33m:\u001b[0m\u001b[1;33m\u001b[0m\u001b[1;33m\u001b[0m\u001b[0m\n\u001b[1;32m-> 3631\u001b[1;33m                 \u001b[1;32mraise\u001b[0m \u001b[0mKeyError\u001b[0m\u001b[1;33m(\u001b[0m\u001b[0mkey\u001b[0m\u001b[1;33m)\u001b[0m \u001b[1;32mfrom\u001b[0m \u001b[0merr\u001b[0m\u001b[1;33m\u001b[0m\u001b[1;33m\u001b[0m\u001b[0m\n\u001b[0m\u001b[0;32m   3632\u001b[0m             \u001b[1;32mexcept\u001b[0m \u001b[0mTypeError\u001b[0m\u001b[1;33m:\u001b[0m\u001b[1;33m\u001b[0m\u001b[1;33m\u001b[0m\u001b[0m\n\u001b[0;32m   3633\u001b[0m                 \u001b[1;31m# If we have a listlike key, _check_indexing_error will raise\u001b[0m\u001b[1;33m\u001b[0m\u001b[1;33m\u001b[0m\u001b[0m\n",
      "\u001b[1;31mKeyError\u001b[0m: '채널명'"
     ]
    }
   ],
   "source": [
    "amazon_review['채널명'] == 'amazon'"
   ]
  },
  {
   "cell_type": "code",
   "execution_count": null,
   "id": "eb689535",
   "metadata": {},
   "outputs": [],
   "source": [
    "amazon_review.head()"
   ]
  },
  {
   "cell_type": "code",
   "execution_count": 52,
   "id": "dbbc3c19",
   "metadata": {},
   "outputs": [
    {
     "name": "stdout",
     "output_type": "stream",
     "text": [
      "<class 'pandas.core.frame.DataFrame'>\n",
      "RangeIndex: 17666 entries, 0 to 17665\n",
      "Data columns (total 4 columns):\n",
      " #   Column  Non-Null Count  Dtype         \n",
      "---  ------  --------------  -----         \n",
      " 0   회사명     17666 non-null  object        \n",
      " 1   작성일     17666 non-null  datetime64[ns]\n",
      " 2   별점      17666 non-null  int64         \n",
      " 3   제목_본문   17666 non-null  object        \n",
      "dtypes: datetime64[ns](1), int64(1), object(2)\n",
      "memory usage: 552.2+ KB\n"
     ]
    }
   ],
   "source": [
    "costco_review_origin = pd.read_excel('costco_review.xlsx')\n",
    "\n",
    "# 카피본 떠놓고 시작하기\n",
    "costco_review = costco_review_origin.copy()\n",
    "costco_review.info()"
   ]
  },
  {
   "cell_type": "code",
   "execution_count": 53,
   "id": "ce727249",
   "metadata": {},
   "outputs": [
    {
     "name": "stdout",
     "output_type": "stream",
     "text": [
      "<class 'pandas.core.frame.DataFrame'>\n",
      "RangeIndex: 1046 entries, 0 to 1045\n",
      "Data columns (total 4 columns):\n",
      " #   Column  Non-Null Count  Dtype         \n",
      "---  ------  --------------  -----         \n",
      " 0   회사명     1046 non-null   object        \n",
      " 1   작성일     1046 non-null   datetime64[ns]\n",
      " 2   별점      1046 non-null   int64         \n",
      " 3   제목_본문   1046 non-null   object        \n",
      "dtypes: datetime64[ns](1), int64(1), object(2)\n",
      "memory usage: 32.8+ KB\n"
     ]
    }
   ],
   "source": [
    "lowes_review_origin = pd.read_excel('lowes_review.xlsx')\n",
    "\n",
    "# 카피본 떠놓고 시작하기\n",
    "lowes_review = lowes_review_origin.copy()\n",
    "lowes_review.info()"
   ]
  },
  {
   "cell_type": "code",
   "execution_count": 54,
   "id": "5834dfa5",
   "metadata": {},
   "outputs": [
    {
     "name": "stdout",
     "output_type": "stream",
     "text": [
      "<class 'pandas.core.frame.DataFrame'>\n",
      "RangeIndex: 1128 entries, 0 to 1127\n",
      "Data columns (total 4 columns):\n",
      " #   Column  Non-Null Count  Dtype         \n",
      "---  ------  --------------  -----         \n",
      " 0   회사명     1128 non-null   object        \n",
      " 1   작성일     1128 non-null   datetime64[ns]\n",
      " 2   별점      1128 non-null   int64         \n",
      " 3   제목_본문   1128 non-null   object        \n",
      "dtypes: datetime64[ns](1), int64(1), object(2)\n",
      "memory usage: 35.4+ KB\n"
     ]
    }
   ],
   "source": [
    "homedepot_review_origin = pd.read_excel('hd_review.xlsx')\n",
    "\n",
    "# 카피본 떠놓고 시작하기\n",
    "homedepot_review = homedepot_review_origin.copy()\n",
    "homedepot_review.info()"
   ]
  },
  {
   "cell_type": "code",
   "execution_count": 55,
   "id": "3320f1af",
   "metadata": {},
   "outputs": [
    {
     "name": "stdout",
     "output_type": "stream",
     "text": [
      "<class 'pandas.core.frame.DataFrame'>\n",
      "RangeIndex: 1496 entries, 0 to 1495\n",
      "Data columns (total 4 columns):\n",
      " #   Column  Non-Null Count  Dtype         \n",
      "---  ------  --------------  -----         \n",
      " 0   회사명     1496 non-null   object        \n",
      " 1   작성일     1496 non-null   datetime64[ns]\n",
      " 2   별점      1496 non-null   int64         \n",
      " 3   제목_본문   1496 non-null   object        \n",
      "dtypes: datetime64[ns](1), int64(1), object(2)\n",
      "memory usage: 46.9+ KB\n"
     ]
    }
   ],
   "source": [
    "build_review_origin = pd.read_excel('build.com_review.xlsx')\n",
    "\n",
    "# 카피본 떠놓고 시작하기\n",
    "build_review = build_review_origin.copy()\n",
    "build_review.info()"
   ]
  },
  {
   "cell_type": "code",
   "execution_count": 56,
   "id": "0f12eec5",
   "metadata": {},
   "outputs": [
    {
     "name": "stdout",
     "output_type": "stream",
     "text": [
      "<class 'pandas.core.frame.DataFrame'>\n",
      "RangeIndex: 1248 entries, 0 to 1247\n",
      "Data columns (total 4 columns):\n",
      " #   Column  Non-Null Count  Dtype         \n",
      "---  ------  --------------  -----         \n",
      " 0   회사명     1248 non-null   object        \n",
      " 1   작성일     1248 non-null   datetime64[ns]\n",
      " 2   별점      1248 non-null   int64         \n",
      " 3   제목_본문   1248 non-null   object        \n",
      "dtypes: datetime64[ns](1), int64(1), object(2)\n",
      "memory usage: 39.1+ KB\n"
     ]
    }
   ],
   "source": [
    "walmart_review_origin = pd.read_excel('walmart_review.xlsx')\n",
    "\n",
    "# 카피본 떠놓고 시작하기\n",
    "walmart_review = walmart_review_origin.copy()\n",
    "walmart_review.info()"
   ]
  },
  {
   "cell_type": "markdown",
   "id": "73e1b318",
   "metadata": {},
   "source": [
    "# 데이터 통합"
   ]
  },
  {
   "cell_type": "code",
   "execution_count": 57,
   "id": "e8f25219",
   "metadata": {
    "scrolled": true
   },
   "outputs": [
    {
     "data": {
      "text/html": [
       "<div>\n",
       "<style scoped>\n",
       "    .dataframe tbody tr th:only-of-type {\n",
       "        vertical-align: middle;\n",
       "    }\n",
       "\n",
       "    .dataframe tbody tr th {\n",
       "        vertical-align: top;\n",
       "    }\n",
       "\n",
       "    .dataframe thead th {\n",
       "        text-align: right;\n",
       "    }\n",
       "</style>\n",
       "<table border=\"1\" class=\"dataframe\">\n",
       "  <thead>\n",
       "    <tr style=\"text-align: right;\">\n",
       "      <th></th>\n",
       "      <th>회사명</th>\n",
       "      <th>작성일</th>\n",
       "      <th>별점</th>\n",
       "      <th>제목_본문</th>\n",
       "    </tr>\n",
       "  </thead>\n",
       "  <tbody>\n",
       "    <tr>\n",
       "      <th>0</th>\n",
       "      <td>toto</td>\n",
       "      <td>2022-01-25</td>\n",
       "      <td>5</td>\n",
       "      <td>Amazing product.I travel a lot, and I frequent...</td>\n",
       "    </tr>\n",
       "    <tr>\n",
       "      <th>1</th>\n",
       "      <td>toto</td>\n",
       "      <td>2022-08-28</td>\n",
       "      <td>5</td>\n",
       "      <td>Husband says best gift ever!.I purchased this ...</td>\n",
       "    </tr>\n",
       "    <tr>\n",
       "      <th>2</th>\n",
       "      <td>toto</td>\n",
       "      <td>2018-07-25</td>\n",
       "      <td>3</td>\n",
       "      <td>Leakage problem fix.7/24/18First of, I did not...</td>\n",
       "    </tr>\n",
       "    <tr>\n",
       "      <th>3</th>\n",
       "      <td>biobidet</td>\n",
       "      <td>2021-12-21</td>\n",
       "      <td>3</td>\n",
       "      <td>Loved it for the few days it has worked..We bo...</td>\n",
       "    </tr>\n",
       "    <tr>\n",
       "      <th>4</th>\n",
       "      <td>biobidet</td>\n",
       "      <td>2021-03-01</td>\n",
       "      <td>5</td>\n",
       "      <td>It Works Beautifully.It does everything it say...</td>\n",
       "    </tr>\n",
       "    <tr>\n",
       "      <th>...</th>\n",
       "      <td>...</td>\n",
       "      <td>...</td>\n",
       "      <td>...</td>\n",
       "      <td>...</td>\n",
       "    </tr>\n",
       "    <tr>\n",
       "      <th>31193</th>\n",
       "      <td>biobidet</td>\n",
       "      <td>2017-09-08</td>\n",
       "      <td>5</td>\n",
       "      <td>Good product.I installed BB-2000 to replace my...</td>\n",
       "    </tr>\n",
       "    <tr>\n",
       "      <th>31194</th>\n",
       "      <td>brondell</td>\n",
       "      <td>2020-09-08</td>\n",
       "      <td>5</td>\n",
       "      <td>Fantastic product.We have had our current For ...</td>\n",
       "    </tr>\n",
       "    <tr>\n",
       "      <th>31195</th>\n",
       "      <td>biobidet</td>\n",
       "      <td>2016-09-09</td>\n",
       "      <td>5</td>\n",
       "      <td>Great product.I bought this product about two ...</td>\n",
       "    </tr>\n",
       "    <tr>\n",
       "      <th>31196</th>\n",
       "      <td>brondell</td>\n",
       "      <td>2020-09-09</td>\n",
       "      <td>5</td>\n",
       "      <td>Straight forward installation.This is  second ...</td>\n",
       "    </tr>\n",
       "    <tr>\n",
       "      <th>31197</th>\n",
       "      <td>biobidet</td>\n",
       "      <td>2021-09-09</td>\n",
       "      <td>5</td>\n",
       "      <td>Wouldn’t be without it.We just recently purcha...</td>\n",
       "    </tr>\n",
       "  </tbody>\n",
       "</table>\n",
       "<p>31198 rows × 4 columns</p>\n",
       "</div>"
      ],
      "text/plain": [
       "            회사명        작성일  별점  \\\n",
       "0          toto 2022-01-25   5   \n",
       "1          toto 2022-08-28   5   \n",
       "2          toto 2018-07-25   3   \n",
       "3      biobidet 2021-12-21   3   \n",
       "4      biobidet 2021-03-01   5   \n",
       "...         ...        ...  ..   \n",
       "31193  biobidet 2017-09-08   5   \n",
       "31194  brondell 2020-09-08   5   \n",
       "31195  biobidet 2016-09-09   5   \n",
       "31196  brondell 2020-09-09   5   \n",
       "31197  biobidet 2021-09-09   5   \n",
       "\n",
       "                                                   제목_본문  \n",
       "0      Amazing product.I travel a lot, and I frequent...  \n",
       "1      Husband says best gift ever!.I purchased this ...  \n",
       "2      Leakage problem fix.7/24/18First of, I did not...  \n",
       "3      Loved it for the few days it has worked..We bo...  \n",
       "4      It Works Beautifully.It does everything it say...  \n",
       "...                                                  ...  \n",
       "31193  Good product.I installed BB-2000 to replace my...  \n",
       "31194  Fantastic product.We have had our current For ...  \n",
       "31195  Great product.I bought this product about two ...  \n",
       "31196  Straight forward installation.This is  second ...  \n",
       "31197  Wouldn’t be without it.We just recently purcha...  \n",
       "\n",
       "[31198 rows x 4 columns]"
      ]
     },
     "execution_count": 57,
     "metadata": {},
     "output_type": "execute_result"
    }
   ],
   "source": [
    "combined_review = pd.concat([amazon_review, costco_review, lowes_review, homedepot_review, build_review, walmart_review], ignore_index=True, axis=0)\n",
    "combined_review"
   ]
  },
  {
   "cell_type": "code",
   "execution_count": 58,
   "id": "89f16f5c",
   "metadata": {},
   "outputs": [
    {
     "data": {
      "text/plain": [
       "(31198, 4)"
      ]
     },
     "execution_count": 58,
     "metadata": {},
     "output_type": "execute_result"
    }
   ],
   "source": [
    "combined_review.shape"
   ]
  },
  {
   "cell_type": "markdown",
   "id": "f74f66bf",
   "metadata": {},
   "source": [
    "# 조회"
   ]
  },
  {
   "cell_type": "code",
   "execution_count": 59,
   "id": "70f23ec4",
   "metadata": {
    "scrolled": true
   },
   "outputs": [
    {
     "data": {
      "text/plain": [
       "333"
      ]
     },
     "execution_count": 59,
     "metadata": {},
     "output_type": "execute_result"
    }
   ],
   "source": [
    "combined_review.duplicated().sum()"
   ]
  },
  {
   "cell_type": "code",
   "execution_count": 60,
   "id": "4eb2ed2a",
   "metadata": {
    "scrolled": true
   },
   "outputs": [
    {
     "ename": "NameError",
     "evalue": "name 'dd' is not defined",
     "output_type": "error",
     "traceback": [
      "\u001b[1;31m---------------------------------------------------------------------------\u001b[0m",
      "\u001b[1;31mNameError\u001b[0m                                 Traceback (most recent call last)",
      "\u001b[1;32m~\\AppData\\Local\\Temp\\ipykernel_7000\\1465270892.py\u001b[0m in \u001b[0;36m<module>\u001b[1;34m\u001b[0m\n\u001b[1;32m----> 1\u001b[1;33m \u001b[0mdd\u001b[0m\u001b[1;33m\u001b[0m\u001b[1;33m\u001b[0m\u001b[0m\n\u001b[0m",
      "\u001b[1;31mNameError\u001b[0m: name 'dd' is not defined"
     ]
    }
   ],
   "source": [
    "dd"
   ]
  },
  {
   "cell_type": "code",
   "execution_count": null,
   "id": "2d171ce6",
   "metadata": {},
   "outputs": [],
   "source": []
  },
  {
   "cell_type": "code",
   "execution_count": 66,
   "id": "444c8d16",
   "metadata": {},
   "outputs": [
    {
     "name": "stdout",
     "output_type": "stream",
     "text": [
      "Good product\n",
      "Great product\n",
      "Excellent\n",
      "swash 1000.I just received the swash 100, wow its amazing where have I been\n",
      "Satisfied customers.Meets our expectations\n",
      "Personal setting.Easy setup and being program\n",
      "My bidet.Had it installed and it’s wonderful. Works great.\n",
      "Love it!.Great features! You must read the directions in detail to get the most out of this bidet.\n",
      "works great.my but  likey\n",
      "Very complete for the product claims..This product has met every expectation I had. Well done.\n",
      "Great Features and Quality.Very well thought out design and features. Impeccable quality.\n",
      "Happy Gilmore.We are very pleased with this bidet, ordering went smooth and delivery.\n",
      "No calls to me.I would like a call !\n",
      "awesome.works better than  thought possible  super clean when done\n",
      "Much improved.We bought this unit having been without one since we moved 5 years. Wife very happy.\n",
      "Best bidet.I bought this a month ago and I love it\n",
      "Love It.This is wonderful.  My backside loves it and it is worth every penny!\n",
      "self.I Love this product\n",
      "How did I live without it!.Easy to install and luxurious features\n",
      "Second one I have bought..This was the second one I have bought. Speaks for itself.\n",
      "Happiness Is...We are enjoying our Brondell Bidet. It is a great luxury.\n",
      "Swash 1400.Absolutely love this.  Best one I have ever had.  Works so well and so sturdy etc.\n",
      " I was very please with the quality of the product and speedy delivery.\n",
      "Awesome Product.I am so happy with this purchase.  It is so easy and pleasant to use.\n",
      "Easy Installation.I am glad that I bought this. Makes everything easier. Check it out on Amazon.\n",
      "Feels good.It’s the best Christmas gift I’ve ever received! Great product. Better than I imagine!\n",
      "The warm water is Great!.I have had this for a month now. Works great, quality is top notch.\n",
      "very good.i bought it a week ago i very happy with this product\n",
      "Great Features and Quality.Very well thought out design and features. Impeccable quality.\n",
      "Works amazing.It doesn’t break, and it works fine! I love it, its worth its price.\n",
      "Great bidet.Third bidet we installed in our house, this is the best one yet! Two thumbs up!\n",
      "INSTALLATION.Easy to install, looks good, I am pleased with the overall operation\n",
      "Best bidet.I bought this a month ago and I love it\n",
      "Great features.I bought this a month ago and I’m very happy with my decision\n",
      "works very well.This is seat is very good. easy to use. works reliable.\n",
      "Love it!.I liked it so much since I bought it a few weeks ago. Feel so clean every time.\n",
      "Nice seat.its pretty good, not a bad toilet seat. good buy..\n",
      "Excellent product.Easy to install.  Works as designed.  Easy to operate.  Excellent product.\n",
      "Love it!.Great features! You must read the directions in detail to get the most out of this bidet.\n",
      "Vadim Khadorkovskiy.I could not be happier with your product and very easy to install!\n",
      "my bidet.Warm seat in the winter months is awesome.  Only problem is can crack fairly easily.\n",
      "Exellent.I bought this product 1 week ago, I really love it. Easy to use it.\n",
      "Great, Easy install, Easy to use.The installation was too easy. The usage too easy.\n"
     ]
    }
   ],
   "source": [
    "for text in combined_review[combined_review.duplicated()]['제목_본문'] :\n",
    "    if len(text) <= 100 :\n",
    "        print(text)"
   ]
  },
  {
   "cell_type": "code",
   "execution_count": null,
   "id": "583ef5e4",
   "metadata": {},
   "outputs": [],
   "source": [
    "combined_review.isna().sum()"
   ]
  },
  {
   "cell_type": "code",
   "execution_count": null,
   "id": "f578c12c",
   "metadata": {
    "scrolled": true
   },
   "outputs": [],
   "source": [
    "combined_review.pivot_table(index='회사명', values=['별점'])"
   ]
  },
  {
   "cell_type": "code",
   "execution_count": null,
   "id": "9bf866b0",
   "metadata": {},
   "outputs": [],
   "source": [
    "combined_review.pivot_table(index='회사명', columns='작성일', values=['별점'])"
   ]
  },
  {
   "cell_type": "code",
   "execution_count": null,
   "id": "22e42e57",
   "metadata": {},
   "outputs": [],
   "source": [
    "combined_review.groupby('회사명')[['별점']].mean()"
   ]
  },
  {
   "cell_type": "code",
   "execution_count": null,
   "id": "ad76b698",
   "metadata": {
    "scrolled": true
   },
   "outputs": [],
   "source": [
    "combined_review.groupby('회사명')[['제목_본문']].count()"
   ]
  },
  {
   "cell_type": "code",
   "execution_count": null,
   "id": "009be392",
   "metadata": {
    "scrolled": true
   },
   "outputs": [],
   "source": [
    "combined_review.groupby('별점')[['제목_본문']].count()"
   ]
  },
  {
   "cell_type": "code",
   "execution_count": null,
   "id": "286c3fe9",
   "metadata": {
    "scrolled": false
   },
   "outputs": [],
   "source": [
    "combined_review['회사명'].unique()"
   ]
  },
  {
   "cell_type": "code",
   "execution_count": null,
   "id": "fdd058fa",
   "metadata": {},
   "outputs": [],
   "source": [
    "combined_review"
   ]
  },
  {
   "cell_type": "markdown",
   "id": "52a4ea0e",
   "metadata": {},
   "source": [
    "# 파일 저장"
   ]
  },
  {
   "cell_type": "code",
   "execution_count": null,
   "id": "658848c3",
   "metadata": {},
   "outputs": [],
   "source": [
    "combined_review.to_excel('combined_review.xlsx', index=False)"
   ]
  },
  {
   "cell_type": "code",
   "execution_count": null,
   "id": "4c207bd2",
   "metadata": {},
   "outputs": [],
   "source": []
  }
 ],
 "metadata": {
  "kernelspec": {
   "display_name": "Python 3 (ipykernel)",
   "language": "python",
   "name": "python3"
  },
  "language_info": {
   "codemirror_mode": {
    "name": "ipython",
    "version": 3
   },
   "file_extension": ".py",
   "mimetype": "text/x-python",
   "name": "python",
   "nbconvert_exporter": "python",
   "pygments_lexer": "ipython3",
   "version": "3.9.13"
  },
  "toc": {
   "base_numbering": 1,
   "nav_menu": {},
   "number_sections": true,
   "sideBar": true,
   "skip_h1_title": false,
   "title_cell": "Table of Contents",
   "title_sidebar": "Contents",
   "toc_cell": false,
   "toc_position": {
    "height": "771.467px",
    "left": "28px",
    "top": "133px",
    "width": "409.547px"
   },
   "toc_section_display": true,
   "toc_window_display": true
  }
 },
 "nbformat": 4,
 "nbformat_minor": 5
}
