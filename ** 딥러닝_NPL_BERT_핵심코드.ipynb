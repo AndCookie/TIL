{
 "cells": [
  {
   "cell_type": "code",
   "execution_count": 81,
   "id": "-FrtgCdBrMP8",
   "metadata": {
    "colab": {
     "base_uri": "https://localhost:8080/"
    },
    "executionInfo": {
     "elapsed": 3012,
     "status": "ok",
     "timestamp": 1680493507378,
     "user": {
      "displayName": "이선재",
      "userId": "00528889732199346889"
     },
     "user_tz": -540
    },
    "id": "-FrtgCdBrMP8",
    "outputId": "5aae5051-8904-4a80-9072-c5cc8eab9629",
    "scrolled": true
   },
   "outputs": [
    {
     "name": "stdout",
     "output_type": "stream",
     "text": [
      "Drive already mounted at /content/drive; to attempt to forcibly remount, call drive.mount(\"/content/drive\", force_remount=True).\n"
     ]
    }
   ],
   "source": [
    "from google.colab import drive\n",
    "drive.mount('/content/drive')"
   ]
  },
  {
   "cell_type": "markdown",
   "id": "5edef141",
   "metadata": {
    "id": "5edef141"
   },
   "source": [
    "# 데이터 로드"
   ]
  },
  {
   "cell_type": "code",
   "execution_count": 82,
   "id": "b6317dd6",
   "metadata": {
    "colab": {
     "base_uri": "https://localhost:8080/"
    },
    "executionInfo": {
     "elapsed": 3732,
     "status": "ok",
     "timestamp": 1680493511107,
     "user": {
      "displayName": "이선재",
      "userId": "00528889732199346889"
     },
     "user_tz": -540
    },
    "id": "b6317dd6",
    "outputId": "8a5818ef-a831-4ec2-b99f-ed9888accbd5"
   },
   "outputs": [
    {
     "name": "stdout",
     "output_type": "stream",
     "text": [
      "Looking in indexes: https://pypi.org/simple, https://us-python.pkg.dev/colab-wheels/public/simple/\n",
      "Requirement already satisfied: transformers in /usr/local/lib/python3.9/dist-packages (4.27.4)\n",
      "Requirement already satisfied: numpy>=1.17 in /usr/local/lib/python3.9/dist-packages (from transformers) (1.22.4)\n",
      "Requirement already satisfied: tqdm>=4.27 in /usr/local/lib/python3.9/dist-packages (from transformers) (4.65.0)\n",
      "Requirement already satisfied: packaging>=20.0 in /usr/local/lib/python3.9/dist-packages (from transformers) (23.0)\n",
      "Requirement already satisfied: tokenizers!=0.11.3,<0.14,>=0.11.1 in /usr/local/lib/python3.9/dist-packages (from transformers) (0.13.2)\n",
      "Requirement already satisfied: regex!=2019.12.17 in /usr/local/lib/python3.9/dist-packages (from transformers) (2022.10.31)\n",
      "Requirement already satisfied: huggingface-hub<1.0,>=0.11.0 in /usr/local/lib/python3.9/dist-packages (from transformers) (0.13.3)\n",
      "Requirement already satisfied: requests in /usr/local/lib/python3.9/dist-packages (from transformers) (2.27.1)\n",
      "Requirement already satisfied: pyyaml>=5.1 in /usr/local/lib/python3.9/dist-packages (from transformers) (6.0)\n",
      "Requirement already satisfied: filelock in /usr/local/lib/python3.9/dist-packages (from transformers) (3.10.7)\n",
      "Requirement already satisfied: typing-extensions>=3.7.4.3 in /usr/local/lib/python3.9/dist-packages (from huggingface-hub<1.0,>=0.11.0->transformers) (4.5.0)\n",
      "Requirement already satisfied: certifi>=2017.4.17 in /usr/local/lib/python3.9/dist-packages (from requests->transformers) (2022.12.7)\n",
      "Requirement already satisfied: urllib3<1.27,>=1.21.1 in /usr/local/lib/python3.9/dist-packages (from requests->transformers) (1.26.15)\n",
      "Requirement already satisfied: idna<4,>=2.5 in /usr/local/lib/python3.9/dist-packages (from requests->transformers) (3.4)\n",
      "Requirement already satisfied: charset-normalizer~=2.0.0 in /usr/local/lib/python3.9/dist-packages (from requests->transformers) (2.0.12)\n"
     ]
    }
   ],
   "source": [
    "!pip install transformers"
   ]
  },
  {
   "cell_type": "code",
   "execution_count": 83,
   "id": "36e07541",
   "metadata": {
    "executionInfo": {
     "elapsed": 4,
     "status": "ok",
     "timestamp": 1680493511108,
     "user": {
      "displayName": "이선재",
      "userId": "00528889732199346889"
     },
     "user_tz": -540
    },
    "id": "36e07541"
   },
   "outputs": [],
   "source": [
    "import numpy as np\n",
    "import pandas as pd"
   ]
  },
  {
   "cell_type": "code",
   "execution_count": 84,
   "id": "a41f49c0",
   "metadata": {
    "colab": {
     "base_uri": "https://localhost:8080/",
     "height": 224
    },
    "executionInfo": {
     "elapsed": 2864,
     "status": "ok",
     "timestamp": 1680493513969,
     "user": {
      "displayName": "이선재",
      "userId": "00528889732199346889"
     },
     "user_tz": -540
    },
    "id": "a41f49c0",
    "outputId": "13ddf66b-2a26-4dc9-c639-189c95d24656"
   },
   "outputs": [
    {
     "name": "stdout",
     "output_type": "stream",
     "text": [
      "(50000, 2)\n"
     ]
    },
    {
     "data": {
      "text/html": [
       "\n",
       "  <div id=\"df-a3d152d1-3ae2-4812-9704-6e7dfa73039f\">\n",
       "    <div class=\"colab-df-container\">\n",
       "      <div>\n",
       "<style scoped>\n",
       "    .dataframe tbody tr th:only-of-type {\n",
       "        vertical-align: middle;\n",
       "    }\n",
       "\n",
       "    .dataframe tbody tr th {\n",
       "        vertical-align: top;\n",
       "    }\n",
       "\n",
       "    .dataframe thead th {\n",
       "        text-align: right;\n",
       "    }\n",
       "</style>\n",
       "<table border=\"1\" class=\"dataframe\">\n",
       "  <thead>\n",
       "    <tr style=\"text-align: right;\">\n",
       "      <th></th>\n",
       "      <th>label</th>\n",
       "      <th>text</th>\n",
       "    </tr>\n",
       "  </thead>\n",
       "  <tbody>\n",
       "    <tr>\n",
       "      <th>0</th>\n",
       "      <td>1</td>\n",
       "      <td>Almost perfect.My first bidet with bells and w...</td>\n",
       "    </tr>\n",
       "    <tr>\n",
       "      <th>1</th>\n",
       "      <td>1</td>\n",
       "      <td>Soothing: Bought this for my mom, she is Japan...</td>\n",
       "    </tr>\n",
       "    <tr>\n",
       "      <th>2</th>\n",
       "      <td>0</td>\n",
       "      <td>blond phone: nokia 8801 is a very attractive p...</td>\n",
       "    </tr>\n",
       "    <tr>\n",
       "      <th>3</th>\n",
       "      <td>0</td>\n",
       "      <td>Saw No Change - Zero - Absolutely None!: I am ...</td>\n",
       "    </tr>\n",
       "    <tr>\n",
       "      <th>4</th>\n",
       "      <td>0</td>\n",
       "      <td>catchy, true... But nothing more: There is one...</td>\n",
       "    </tr>\n",
       "  </tbody>\n",
       "</table>\n",
       "</div>\n",
       "      <button class=\"colab-df-convert\" onclick=\"convertToInteractive('df-a3d152d1-3ae2-4812-9704-6e7dfa73039f')\"\n",
       "              title=\"Convert this dataframe to an interactive table.\"\n",
       "              style=\"display:none;\">\n",
       "        \n",
       "  <svg xmlns=\"http://www.w3.org/2000/svg\" height=\"24px\"viewBox=\"0 0 24 24\"\n",
       "       width=\"24px\">\n",
       "    <path d=\"M0 0h24v24H0V0z\" fill=\"none\"/>\n",
       "    <path d=\"M18.56 5.44l.94 2.06.94-2.06 2.06-.94-2.06-.94-.94-2.06-.94 2.06-2.06.94zm-11 1L8.5 8.5l.94-2.06 2.06-.94-2.06-.94L8.5 2.5l-.94 2.06-2.06.94zm10 10l.94 2.06.94-2.06 2.06-.94-2.06-.94-.94-2.06-.94 2.06-2.06.94z\"/><path d=\"M17.41 7.96l-1.37-1.37c-.4-.4-.92-.59-1.43-.59-.52 0-1.04.2-1.43.59L10.3 9.45l-7.72 7.72c-.78.78-.78 2.05 0 2.83L4 21.41c.39.39.9.59 1.41.59.51 0 1.02-.2 1.41-.59l7.78-7.78 2.81-2.81c.8-.78.8-2.07 0-2.86zM5.41 20L4 18.59l7.72-7.72 1.47 1.35L5.41 20z\"/>\n",
       "  </svg>\n",
       "      </button>\n",
       "      \n",
       "  <style>\n",
       "    .colab-df-container {\n",
       "      display:flex;\n",
       "      flex-wrap:wrap;\n",
       "      gap: 12px;\n",
       "    }\n",
       "\n",
       "    .colab-df-convert {\n",
       "      background-color: #E8F0FE;\n",
       "      border: none;\n",
       "      border-radius: 50%;\n",
       "      cursor: pointer;\n",
       "      display: none;\n",
       "      fill: #1967D2;\n",
       "      height: 32px;\n",
       "      padding: 0 0 0 0;\n",
       "      width: 32px;\n",
       "    }\n",
       "\n",
       "    .colab-df-convert:hover {\n",
       "      background-color: #E2EBFA;\n",
       "      box-shadow: 0px 1px 2px rgba(60, 64, 67, 0.3), 0px 1px 3px 1px rgba(60, 64, 67, 0.15);\n",
       "      fill: #174EA6;\n",
       "    }\n",
       "\n",
       "    [theme=dark] .colab-df-convert {\n",
       "      background-color: #3B4455;\n",
       "      fill: #D2E3FC;\n",
       "    }\n",
       "\n",
       "    [theme=dark] .colab-df-convert:hover {\n",
       "      background-color: #434B5C;\n",
       "      box-shadow: 0px 1px 3px 1px rgba(0, 0, 0, 0.15);\n",
       "      filter: drop-shadow(0px 1px 2px rgba(0, 0, 0, 0.3));\n",
       "      fill: #FFFFFF;\n",
       "    }\n",
       "  </style>\n",
       "\n",
       "      <script>\n",
       "        const buttonEl =\n",
       "          document.querySelector('#df-a3d152d1-3ae2-4812-9704-6e7dfa73039f button.colab-df-convert');\n",
       "        buttonEl.style.display =\n",
       "          google.colab.kernel.accessAllowed ? 'block' : 'none';\n",
       "\n",
       "        async function convertToInteractive(key) {\n",
       "          const element = document.querySelector('#df-a3d152d1-3ae2-4812-9704-6e7dfa73039f');\n",
       "          const dataTable =\n",
       "            await google.colab.kernel.invokeFunction('convertToInteractive',\n",
       "                                                     [key], {});\n",
       "          if (!dataTable) return;\n",
       "\n",
       "          const docLinkHtml = 'Like what you see? Visit the ' +\n",
       "            '<a target=\"_blank\" href=https://colab.research.google.com/notebooks/data_table.ipynb>data table notebook</a>'\n",
       "            + ' to learn more about interactive tables.';\n",
       "          element.innerHTML = '';\n",
       "          dataTable['output_type'] = 'display_data';\n",
       "          await google.colab.output.renderOutput(dataTable, element);\n",
       "          const docLink = document.createElement('div');\n",
       "          docLink.innerHTML = docLinkHtml;\n",
       "          element.appendChild(docLink);\n",
       "        }\n",
       "      </script>\n",
       "    </div>\n",
       "  </div>\n",
       "  "
      ],
      "text/plain": [
       "   label                                               text\n",
       "0      1  Almost perfect.My first bidet with bells and w...\n",
       "1      1  Soothing: Bought this for my mom, she is Japan...\n",
       "2      0  blond phone: nokia 8801 is a very attractive p...\n",
       "3      0  Saw No Change - Zero - Absolutely None!: I am ...\n",
       "4      0  catchy, true... But nothing more: There is one..."
      ]
     },
     "execution_count": 84,
     "metadata": {},
     "output_type": "execute_result"
    }
   ],
   "source": [
    "train_original = pd.read_excel('/content/drive/MyDrive/데이터 분석/07. 1차 프로젝트/02. Train_Test Data/train.xlsx')\n",
    "print(train_original.shape)\n",
    "train_original.head()"
   ]
  },
  {
   "cell_type": "code",
   "execution_count": 85,
   "id": "8e8d612e",
   "metadata": {
    "colab": {
     "base_uri": "https://localhost:8080/",
     "height": 224
    },
    "executionInfo": {
     "elapsed": 628,
     "status": "ok",
     "timestamp": 1680493514593,
     "user": {
      "displayName": "이선재",
      "userId": "00528889732199346889"
     },
     "user_tz": -540
    },
    "id": "8e8d612e",
    "outputId": "b4a37a1a-5fe1-47cb-8a08-0a3e2d7e8548",
    "scrolled": true
   },
   "outputs": [
    {
     "name": "stdout",
     "output_type": "stream",
     "text": [
      "(13090, 2)\n"
     ]
    },
    {
     "data": {
      "text/html": [
       "\n",
       "  <div id=\"df-2e266bbe-ef3e-4f0f-a17d-7f96821259ad\">\n",
       "    <div class=\"colab-df-container\">\n",
       "      <div>\n",
       "<style scoped>\n",
       "    .dataframe tbody tr th:only-of-type {\n",
       "        vertical-align: middle;\n",
       "    }\n",
       "\n",
       "    .dataframe tbody tr th {\n",
       "        vertical-align: top;\n",
       "    }\n",
       "\n",
       "    .dataframe thead th {\n",
       "        text-align: right;\n",
       "    }\n",
       "</style>\n",
       "<table border=\"1\" class=\"dataframe\">\n",
       "  <thead>\n",
       "    <tr style=\"text-align: right;\">\n",
       "      <th></th>\n",
       "      <th>label</th>\n",
       "      <th>text</th>\n",
       "    </tr>\n",
       "  </thead>\n",
       "  <tbody>\n",
       "    <tr>\n",
       "      <th>0</th>\n",
       "      <td>1</td>\n",
       "      <td>Gives Toto a run for your money..Excellent sol...</td>\n",
       "    </tr>\n",
       "    <tr>\n",
       "      <th>1</th>\n",
       "      <td>1</td>\n",
       "      <td>Amazing.After owning the Bio Bidet. I can’t se...</td>\n",
       "    </tr>\n",
       "    <tr>\n",
       "      <th>2</th>\n",
       "      <td>1</td>\n",
       "      <td>Warning - looong review.Installation</td>\n",
       "    </tr>\n",
       "    <tr>\n",
       "      <th>3</th>\n",
       "      <td>1</td>\n",
       "      <td>Life changing!.We originally purchased this un...</td>\n",
       "    </tr>\n",
       "    <tr>\n",
       "      <th>4</th>\n",
       "      <td>1</td>\n",
       "      <td>A wonderful addition to our house! .I have ...</td>\n",
       "    </tr>\n",
       "  </tbody>\n",
       "</table>\n",
       "</div>\n",
       "      <button class=\"colab-df-convert\" onclick=\"convertToInteractive('df-2e266bbe-ef3e-4f0f-a17d-7f96821259ad')\"\n",
       "              title=\"Convert this dataframe to an interactive table.\"\n",
       "              style=\"display:none;\">\n",
       "        \n",
       "  <svg xmlns=\"http://www.w3.org/2000/svg\" height=\"24px\"viewBox=\"0 0 24 24\"\n",
       "       width=\"24px\">\n",
       "    <path d=\"M0 0h24v24H0V0z\" fill=\"none\"/>\n",
       "    <path d=\"M18.56 5.44l.94 2.06.94-2.06 2.06-.94-2.06-.94-.94-2.06-.94 2.06-2.06.94zm-11 1L8.5 8.5l.94-2.06 2.06-.94-2.06-.94L8.5 2.5l-.94 2.06-2.06.94zm10 10l.94 2.06.94-2.06 2.06-.94-2.06-.94-.94-2.06-.94 2.06-2.06.94z\"/><path d=\"M17.41 7.96l-1.37-1.37c-.4-.4-.92-.59-1.43-.59-.52 0-1.04.2-1.43.59L10.3 9.45l-7.72 7.72c-.78.78-.78 2.05 0 2.83L4 21.41c.39.39.9.59 1.41.59.51 0 1.02-.2 1.41-.59l7.78-7.78 2.81-2.81c.8-.78.8-2.07 0-2.86zM5.41 20L4 18.59l7.72-7.72 1.47 1.35L5.41 20z\"/>\n",
       "  </svg>\n",
       "      </button>\n",
       "      \n",
       "  <style>\n",
       "    .colab-df-container {\n",
       "      display:flex;\n",
       "      flex-wrap:wrap;\n",
       "      gap: 12px;\n",
       "    }\n",
       "\n",
       "    .colab-df-convert {\n",
       "      background-color: #E8F0FE;\n",
       "      border: none;\n",
       "      border-radius: 50%;\n",
       "      cursor: pointer;\n",
       "      display: none;\n",
       "      fill: #1967D2;\n",
       "      height: 32px;\n",
       "      padding: 0 0 0 0;\n",
       "      width: 32px;\n",
       "    }\n",
       "\n",
       "    .colab-df-convert:hover {\n",
       "      background-color: #E2EBFA;\n",
       "      box-shadow: 0px 1px 2px rgba(60, 64, 67, 0.3), 0px 1px 3px 1px rgba(60, 64, 67, 0.15);\n",
       "      fill: #174EA6;\n",
       "    }\n",
       "\n",
       "    [theme=dark] .colab-df-convert {\n",
       "      background-color: #3B4455;\n",
       "      fill: #D2E3FC;\n",
       "    }\n",
       "\n",
       "    [theme=dark] .colab-df-convert:hover {\n",
       "      background-color: #434B5C;\n",
       "      box-shadow: 0px 1px 3px 1px rgba(0, 0, 0, 0.15);\n",
       "      filter: drop-shadow(0px 1px 2px rgba(0, 0, 0, 0.3));\n",
       "      fill: #FFFFFF;\n",
       "    }\n",
       "  </style>\n",
       "\n",
       "      <script>\n",
       "        const buttonEl =\n",
       "          document.querySelector('#df-2e266bbe-ef3e-4f0f-a17d-7f96821259ad button.colab-df-convert');\n",
       "        buttonEl.style.display =\n",
       "          google.colab.kernel.accessAllowed ? 'block' : 'none';\n",
       "\n",
       "        async function convertToInteractive(key) {\n",
       "          const element = document.querySelector('#df-2e266bbe-ef3e-4f0f-a17d-7f96821259ad');\n",
       "          const dataTable =\n",
       "            await google.colab.kernel.invokeFunction('convertToInteractive',\n",
       "                                                     [key], {});\n",
       "          if (!dataTable) return;\n",
       "\n",
       "          const docLinkHtml = 'Like what you see? Visit the ' +\n",
       "            '<a target=\"_blank\" href=https://colab.research.google.com/notebooks/data_table.ipynb>data table notebook</a>'\n",
       "            + ' to learn more about interactive tables.';\n",
       "          element.innerHTML = '';\n",
       "          dataTable['output_type'] = 'display_data';\n",
       "          await google.colab.output.renderOutput(dataTable, element);\n",
       "          const docLink = document.createElement('div');\n",
       "          docLink.innerHTML = docLinkHtml;\n",
       "          element.appendChild(docLink);\n",
       "        }\n",
       "      </script>\n",
       "    </div>\n",
       "  </div>\n",
       "  "
      ],
      "text/plain": [
       "   label                                               text\n",
       "0      1  Gives Toto a run for your money..Excellent sol...\n",
       "1      1  Amazing.After owning the Bio Bidet. I can’t se...\n",
       "2      1               Warning - looong review.Installation\n",
       "3      1  Life changing!.We originally purchased this un...\n",
       "4      1     A wonderful addition to our house! .I have ..."
      ]
     },
     "execution_count": 85,
     "metadata": {},
     "output_type": "execute_result"
    }
   ],
   "source": [
    "test_original = pd.read_excel('/content/drive/MyDrive/데이터 분석/07. 1차 프로젝트/02. Train_Test Data/bidet_test_data.xlsx')\n",
    "print(test_original.shape)\n",
    "test_original.head()"
   ]
  },
  {
   "cell_type": "markdown",
   "id": "9a4f4d05",
   "metadata": {
    "id": "9a4f4d05"
   },
   "source": [
    "## 카피본"
   ]
  },
  {
   "cell_type": "code",
   "execution_count": 86,
   "id": "cbeaf773",
   "metadata": {
    "colab": {
     "base_uri": "https://localhost:8080/"
    },
    "executionInfo": {
     "elapsed": 7,
     "status": "ok",
     "timestamp": 1680493514593,
     "user": {
      "displayName": "이선재",
      "userId": "00528889732199346889"
     },
     "user_tz": -540
    },
    "id": "cbeaf773",
    "outputId": "ddafb9c2-a2ba-436c-a194-0900d97c14c9"
   },
   "outputs": [
    {
     "name": "stdout",
     "output_type": "stream",
     "text": [
      "<class 'pandas.core.frame.DataFrame'>\n",
      "RangeIndex: 50000 entries, 0 to 49999\n",
      "Data columns (total 2 columns):\n",
      " #   Column  Non-Null Count  Dtype \n",
      "---  ------  --------------  ----- \n",
      " 0   label   50000 non-null  int64 \n",
      " 1   text    50000 non-null  object\n",
      "dtypes: int64(1), object(1)\n",
      "memory usage: 781.4+ KB\n"
     ]
    }
   ],
   "source": [
    "train = train_original.copy()\n",
    "train.info()"
   ]
  },
  {
   "cell_type": "code",
   "execution_count": 87,
   "id": "238e7fc4",
   "metadata": {
    "colab": {
     "base_uri": "https://localhost:8080/"
    },
    "executionInfo": {
     "elapsed": 6,
     "status": "ok",
     "timestamp": 1680493514593,
     "user": {
      "displayName": "이선재",
      "userId": "00528889732199346889"
     },
     "user_tz": -540
    },
    "id": "238e7fc4",
    "outputId": "e701be0f-29c3-4ac1-95d9-affc13e2f036",
    "scrolled": false
   },
   "outputs": [
    {
     "name": "stdout",
     "output_type": "stream",
     "text": [
      "<class 'pandas.core.frame.DataFrame'>\n",
      "RangeIndex: 13090 entries, 0 to 13089\n",
      "Data columns (total 2 columns):\n",
      " #   Column  Non-Null Count  Dtype \n",
      "---  ------  --------------  ----- \n",
      " 0   label   13090 non-null  int64 \n",
      " 1   text    13090 non-null  object\n",
      "dtypes: int64(1), object(1)\n",
      "memory usage: 204.7+ KB\n"
     ]
    }
   ],
   "source": [
    "test = test_original.copy()\n",
    "test.info()"
   ]
  },
  {
   "cell_type": "code",
   "execution_count": 88,
   "id": "04482f8d",
   "metadata": {
    "executionInfo": {
     "elapsed": 5,
     "status": "ok",
     "timestamp": 1680493514593,
     "user": {
      "displayName": "이선재",
      "userId": "00528889732199346889"
     },
     "user_tz": -540
    },
    "id": "04482f8d"
   },
   "outputs": [],
   "source": [
    "# 데이터 로딩\n",
    "train_data = train['text']  # 훈련 데이터셋\n",
    "train_labels = train['label']  # 훈련 데이터셋 라벨\n",
    "test_data = test['text']  # 테스트 데이터셋\n",
    "test_labels = test['label']  # 테스트 데이터셋 라벨"
   ]
  },
  {
   "cell_type": "markdown",
   "id": "52677498",
   "metadata": {
    "id": "52677498"
   },
   "source": [
    "# 전처리"
   ]
  },
  {
   "cell_type": "markdown",
   "id": "39ef1365",
   "metadata": {
    "id": "39ef1365"
   },
   "source": [
    "## 소문자화, 불용어/구두점 제거"
   ]
  },
  {
   "cell_type": "code",
   "execution_count": 89,
   "id": "3u0qLwNqieFh",
   "metadata": {
    "colab": {
     "base_uri": "https://localhost:8080/"
    },
    "executionInfo": {
     "elapsed": 1924,
     "status": "ok",
     "timestamp": 1680493516512,
     "user": {
      "displayName": "이선재",
      "userId": "00528889732199346889"
     },
     "user_tz": -540
    },
    "id": "3u0qLwNqieFh",
    "outputId": "7b21ae63-b34e-4369-c046-fbbe9a645253"
   },
   "outputs": [
    {
     "name": "stderr",
     "output_type": "stream",
     "text": [
      "[nltk_data] Downloading package stopwords to /root/nltk_data...\n",
      "[nltk_data]   Package stopwords is already up-to-date!\n",
      "[nltk_data] Downloading package wordnet to /root/nltk_data...\n",
      "[nltk_data]   Package wordnet is already up-to-date!\n"
     ]
    }
   ],
   "source": [
    "train_data = [str(text) for text in train_data]\n",
    "test_data = [str(text) for text in test_data]\n",
    "\n",
    "import re\n",
    "import string\n",
    "import nltk\n",
    "from nltk.corpus import stopwords\n",
    "nltk.download('stopwords') # 불용어 사전 다운로드\n",
    "nltk.download('wordnet')\n",
    "stop_words = stopwords.words('english')\n",
    "\n",
    "\n",
    "def preprocess_text(text):  \n",
    "    # text = text.lower() # 소문자 변환\n",
    "    # text = re.sub(r'\\.+', ' ', text)  # 중복 온점 제거\n",
    "    \n",
    "    # punctuations = '\\\"#$%*+,/<=>@[\\]^_`\\\\\\\\{|}?!~:;().'\n",
    "    # for p in punctuations :\n",
    "    #     text = text.replace(p, ' ')\n",
    "    \n",
    "    # text = text.replace('&', 'and')\n",
    "    text = re.sub(r'\\d+', '', text)  # 숫자 제거\n",
    "    text = re.sub(r'\\s+', ' ', text)  # 중복 공백 제거\n",
    "#     text = re.sub(r'(\\w)(\\1{1,})', r'\\1', text) # 알파벳 3회이상 반복시 1개로\n",
    "      \n",
    "#     # 구두점 제거\n",
    "#     text = ''.join(char for char in text if char not in punctuations)\n",
    "    # 불용어 제거\n",
    "#     text = ' '.join(word for word in text.split() if word not in stop_words)\n",
    "\n",
    "\n",
    "#     return ' '.join(words)\n",
    "    return text.strip()\n",
    "\n",
    "\n",
    "# train_data와 test_data에 대해 전처리 수행\n",
    "preprocessed_train_data = [preprocess_text(text) for text in train_data]\n",
    "preprocessed_test_data = [preprocess_text(text) for text in test_data]\n",
    "total_texts = preprocessed_test_data"
   ]
  },
  {
   "cell_type": "markdown",
   "id": "e75b72c5",
   "metadata": {
    "id": "e75b72c5"
   },
   "source": [
    "## 토큰화 및 어휘집 생성"
   ]
  },
  {
   "cell_type": "markdown",
   "id": "srerQ3tXYVH5",
   "metadata": {
    "id": "srerQ3tXYVH5"
   },
   "source": [
    "- 텐서(Tensor) : 다차원 배열을 표현하는 자료형 : 벡터, 행렬, 그리고 이들의 고차원 일반화된 것\n",
    "- 텐서화 : 입력 데이터를 모델에 맞는 텐서 자료형으로 변환하는 과정 : 대부분 딥 러닝 모델에 입력 데이터로 사용하기 위해 수행\n",
    "- 텍스트 데이터의 텐서화 : \n",
    "  - 1. 텍스트 데이터를 토큰화하여 각 단어를 고유한 숫자로 맵핑 : 맵핑은 일반적으로 어휘집(vocabulary)이라고 불리는 고유한 숫자와 단어의 쌍으로 이루어진 사전을 이용\n",
    "  - 2. 각 단어를 고유한 숫자로 맵핑한 후, 이를 텐서 자료형으로 변환 : 주로 사용되는 텐서 자료형으로는 파이토치(PyTorch)의 torch.Tensor나 텐서플로(TensorFlow)의 tf.Tensor 등이 있음\n",
    "- 예시 :\n",
    "  - 파이토치 : torchtext.data.Field를 사용하여 토큰화를 수행하고, torch.utils.data.DataLoader를 사용하여 텐서로 변환\n",
    "  - 텐서플로 : tf.keras.preprocessing.text.Tokenizer를 사용하여 토큰화를 수행하고, tf.data.Dataset을 사용하여 텐서로 변환"
   ]
  },
  {
   "cell_type": "code",
   "execution_count": 90,
   "id": "b0ca0a67",
   "metadata": {
    "executionInfo": {
     "elapsed": 6,
     "status": "ok",
     "timestamp": 1680493516512,
     "user": {
      "displayName": "이선재",
      "userId": "00528889732199346889"
     },
     "user_tz": -540
    },
    "id": "b0ca0a67"
   },
   "outputs": [],
   "source": [
    "import torch # 파이토치 이용\n",
    "from torch.utils.data import DataLoader, TensorDataset\n",
    "from transformers import BertTokenizer, BertForSequenceClassification, AdamW, get_linear_schedule_with_warmup\n",
    "from sklearn.model_selection import train_test_split\n",
    "from sklearn.metrics import accuracy_score\n",
    "\n",
    "# 토큰화 및 어휘집 생성\n",
    "def tokenize_data(reviews, max_length=128):\n",
    "\n",
    "    # BERT 모델의 사전학습시 학습한 tokenizer 불러오기\n",
    "    # BERT : Bidirectional Encoder Representations from Transformers\n",
    "    # BERT : 구글에서 개발한 언어 모델로 기존 언어 모델과 달리 양방향으로 훈련하므로 문맥을 참고하여 문장 의미 이해 가능\n",
    "    # BertTokenizer : Hugging Face의 Transformers 라이브러리에서 제공하는 BERT(Bidirectional Encoder Representations from Transformers) 모델의 토큰화(tokenization) 기능을 담당하는 클래스\n",
    "    # from_pretrained() : 미리 학습된 BERT 모델을 로드 및 해당 모델의 토크나이저를 가져오는 메소드\n",
    "    # bert-base-uncased : 전체 단어를 소문자로 처리하는 uncased (대소문자를 구문하지 않는) 모델\n",
    "    tokenizer = BertTokenizer.from_pretrained(\"bert-base-uncased\")\n",
    "    input_ids, attention_masks = [], []\n",
    "\n",
    "    for review in reviews:\n",
    "        # encode_plus 메서드를 이용해 리뷰를 토큰화하고, 인코딩하여 입력 문장을 BERT 모델이 이해할 수 있는 형태의 텐서 데이터로 변환해주는 역할을 함\n",
    "        encoded_dict = tokenizer.encode_plus(\n",
    "            # encode_plus : 입력 데이터를 인코딩하는 함수 중 하나로서, 문자열로 된 문장을 입력으로 받아서 BERT 모델의 입력 형식에 맞게 인코딩된 데이터를 반환함\n",
    "            review, # 인코딩할 문자열 = 리뷰\n",
    "            add_special_tokens=True,  # CLS, SEP 토큰 추가 여부\n",
    "            max_length=max_length, # 문장의 최대 길이최대 길이\n",
    "            padding='max_length', # 길이가 부족한 경우 최대 길이로 padding\n",
    "            return_attention_mask=True, # 어텐션 마스크 리턴 여부\n",
    "            return_tensors=\"pt\", # 반환할 텐서의 타입 : 파이토치 텐서로 리턴\n",
    "            truncation=True # 길이가 너무 길면 문장을 잘라서 처리\n",
    "        )\n",
    "        \n",
    "        # encode_plus는 문장을 \"토큰 ID, 어텐션 마스크, 세그먼트 ID\" 등의 입력 데이터 형태로 변환\n",
    "        # -> encode_plus 함수의 반환 값은 input_ids, attention_mask, token_type_ids 등으로 구성\n",
    "        # input_ids : 인코딩된 토큰들을 식별하기 위한 고유한 ID 값\n",
    "        # attention_mask : 각 토큰이 패딩이 아니라 실제 입력 값인지 여부를 나타내는 마스크\n",
    "        # token_type_ids : BERT 모델이 두 개의 문장을 처리할 때 첫 번째 문장과 두 번째 문장의 경계를 나타내는 ID 값\n",
    "\n",
    "        # print(encoded_dict[\"input_ids\"].size())\n",
    "        # print(encoded_dict[\"attention_mask\"].size())\n",
    "\n",
    "        # 인코딩된 토큰과 어텐션 마스크를 각각 리스트에 저장\n",
    "        input_ids.append(encoded_dict[\"input_ids\"])\n",
    "        # input_ids : 각 리뷰를 토큰화한 결과를 숫자로 인코딩한 텐서\n",
    "        attention_masks.append(encoded_dict[\"attention_mask\"])\n",
    "        # attention_masks : 어텐션 마스크 텐서서\n",
    "\n",
    "    # 리스트의 모든 텐서를 결합(concatenate)\n",
    "    # torch.cat : PyTorch에서 tensor들을 이어붙이는 역할 : 더욱 효율적으로 모델 학습 수행 가능\n",
    "    # 첫 번째 인자 : tensor들이 저장된 리스트\n",
    "    # dim : 파라미터로 이어붙이는 방향을 설정 (0:세로 방향으로 쌓아올림)\n",
    "    input_ids = torch.cat(input_ids, dim=0)\n",
    "    attention_masks = torch.cat(attention_masks, dim=0)\n",
    "\n",
    "    return input_ids, attention_masks"
   ]
  },
  {
   "cell_type": "markdown",
   "id": "b52bee0c",
   "metadata": {
    "id": "b52bee0c"
   },
   "source": [
    "## 데이터셋 및 데이터 로더 생성"
   ]
  },
  {
   "cell_type": "code",
   "execution_count": 91,
   "id": "532f2603",
   "metadata": {
    "executionInfo": {
     "elapsed": 6,
     "status": "ok",
     "timestamp": 1680493516513,
     "user": {
      "displayName": "이선재",
      "userId": "00528889732199346889"
     },
     "user_tz": -540
    },
    "id": "532f2603"
   },
   "outputs": [],
   "source": [
    "from torch.utils.data import DataLoader, TensorDataset\n",
    "# TensorDataset : 입력과 출력 데이터를 함께 묶어 하나의 데이터셋으로 만드는 PyTorch 제공 기능\n",
    "# DataLoader : 데이터셋을 배치 크기(batch size)에 맞게 분할하여 각 배치(batch)를 반환 : 배치 단위로 데이터를 처리하면 전체 데이터를 한꺼번에 처리할 때 보다 메모리 사용량 절약 가능\n",
    "\n",
    "# 데이터셋 및 데이터 로더 생성\n",
    "def create_dataset(input_ids, attention_masks, labels, batch_size=64):\n",
    "    dataset = TensorDataset(input_ids, attention_masks, labels)\n",
    "    # 입력 데이터와 라벨을 인자로 받아, 두 개의 데이터셋을 결합해 하나의 데이터셋으로 결합\n",
    "    # 위 함수를 통해 만들어진 데이터셋은 DataLoader 클래스에 전달되어 학습, 검증, 테스트 데이터셋으로 활용\n",
    "    # input_ids: 토큰화된 입력 데이터의 인덱스를 담은 PyTorch 텐서\n",
    "    # attention_masks: 패딩된 데이터의 영역을 표시하는 토큰 마스크 텐서\n",
    "    # labels: 데이터에 대한 라벨을 포함하는 PyTorch 텐서\n",
    "    data_loader = DataLoader(dataset, batch_size=batch_size)\n",
    "    # batch_size: 데이터를 나눌 배치 크기\n",
    "\n",
    "    return data_loader"
   ]
  },
  {
   "cell_type": "markdown",
   "id": "ae7acffb",
   "metadata": {
    "id": "ae7acffb"
   },
   "source": [
    "# 모델"
   ]
  },
  {
   "cell_type": "markdown",
   "id": "6c5e3506",
   "metadata": {
    "id": "6c5e3506"
   },
   "source": [
    "## 모델 생성"
   ]
  },
  {
   "cell_type": "code",
   "execution_count": 92,
   "id": "2aKDVRSZLDVG",
   "metadata": {
    "executionInfo": {
     "elapsed": 5,
     "status": "ok",
     "timestamp": 1680493516513,
     "user": {
      "displayName": "이선재",
      "userId": "00528889732199346889"
     },
     "user_tz": -540
    },
    "id": "2aKDVRSZLDVG"
   },
   "outputs": [],
   "source": [
    "from transformers import BertTokenizer, BertForSequenceClassification, AdamW, get_linear_schedule_with_warmup\n",
    "# BertForSequenceClassification : BERT 모델을 기반으로 한 문장 분류 모델\n",
    "# 사전 훈련된 BERT 모델을 사용하여 텍스트 입력 시퀀스의 특성을 추출하고, 이를 이용하여 해당 시퀀스가 특정 클래스에 속하는지 예측하는 분류 모델을 구현\n",
    "# 이 모델은 사전 훈련된 BERT 모델을 불러와서 사용하기 때문에, 이전에 학습된 BERT 모델의 가중치를 가져와야 하므로, 모델 호출시 from_pretrained() 함수를 사용하는 것것\n",
    "\n",
    "# 모델 불러오기 및 설정\n",
    "def load_model():\n",
    "    model = BertForSequenceClassification.from_pretrained(\"bert-base-uncased\", num_labels=2)\n",
    "    # Hugging Face에서 제공하는 bert-base-uncased 모델을 불러오고\n",
    "    # 분류 문제의 라벨 개수를 num_labels 파라미터로 전달\n",
    "    # for param in model.parameters():\n",
    "    #     param.requires_grad = True # 모든 레이어를 미세 조정   \n",
    "    \n",
    "    # GPU 사용 가능 여부 확인 후 모델을 GPU로 이동\n",
    "    device = 'cuda' if torch.cuda.is_available() else 'cpu'\n",
    "    model.to(device)\n",
    "\n",
    "    return model"
   ]
  },
  {
   "cell_type": "markdown",
   "id": "a0862b56",
   "metadata": {
    "id": "a0862b56"
   },
   "source": [
    "## 모델 학습"
   ]
  },
  {
   "cell_type": "code",
   "execution_count": 93,
   "id": "987a0f8c",
   "metadata": {
    "executionInfo": {
     "elapsed": 4,
     "status": "ok",
     "timestamp": 1680493516513,
     "user": {
      "displayName": "이선재",
      "userId": "00528889732199346889"
     },
     "user_tz": -540
    },
    "id": "987a0f8c"
   },
   "outputs": [],
   "source": [
    "import torch # 파이토치 이용\n",
    "from transformers import BertTokenizer, BertForSequenceClassification, AdamW, get_linear_schedule_with_warmup\n",
    "# AdamW : Adam 옵티마이저의 변형으로, 가중치 감쇠(weight decay)를 추가하여 L2 규제를 사용하는 것과 비슷한 효과를 낼 수 있음\n",
    "# optimizer란? : 손실함수의 값을 줄여나가는 학습 방법이자 경사하강법 알고리즘\n",
    "# Adam Optimizer란 ? : RMSprop과 Momentum을 합친듯한 방법으로 방향과 학습률 모두를 잡기위한 방법\n",
    "# get_linear_schedule_with_warmup : 학습률을 처음 몇 번의 스텝에서 작은 값으로 시작하여 서서히 증가시키는 방식의 스케줄러\n",
    "# train 모드와 eval 모드 : 모델 학습 및 평가 시 모델의 동작 방식을 나타내는 모드\n",
    "# train 모드 : 학습을 위한 준비 작업 수행 : 모델은 gradient를 계산하고 역전파(backpropagation)를 수행하여 가중치를 업데이트하며 모델에서 사용하는 일부 레이어의 동작 방식이 변경될 수 있음 ex) 드롭아웃(dropout) 레이어는 train 모드에서는 일부 노드를 랜덤하게 제거하여 과적합을 방지하는 역할\n",
    "# eval 모드 : 모델의 가중치를 고정시켜 평가 수행 : 일부 레이어의 동작 방식이 train 모드와 다를 수 있음 ex) 드롭아웃 레이어는 eval 모드에서는 모든 노드를 유지하여 출력을 계산\n",
    "# Dropout과 BatchNormalization : 신경망 모델에서 Overfitting을 방지하기 위한 regularization 방법\n",
    "# Dropout : 모델을 일반화 시킴 :신경망 모델의 일부 뉴런을 무작위로 선택하여 출력을 0으로 만듬 -> 이를 통해 학습 중에 뉴런들이 서로 의존하는 경향을 줄이고, 더욱 강건한 모델을 만들어 Overfitting을 방지\n",
    "# BatchNormalization : 입력 데이터를 정규화하여 학습의 안정성 증가 : 입력 데이터의 평균과 분산을 정규화하여, 신경망 모델에서 발생하는 Internal Covariate Shift 문제를 해결 -> 이를 통해 모델의 학습 속도를 높이고, 일반화 성능을 향상시키며 Gradient vanishing 문제를 다소 완화\n",
    "# Dropout과 BatchNormalization은 학습과정에서만 적용하고, 검증과 추론과정에서는 미적용\n",
    "# 따라서 모델 검증 및 추론 단계 이전에 모델을 eval mode로 변경하여 일반화 능력을 평가해야함\n",
    "\n",
    "# 모델 학습\n",
    "def train(model, train_loader, val_loader, epochs=4, learning_rate=2e-5, patience=5):\n",
    "    # train_loader로부터 미니배치를 받아 모델 학습\n",
    "    # val_loader로부터 미니배치를 받아 모델 검증\n",
    "    optimizer = torch.optim.AdamW(model.parameters(), lr=learning_rate)\n",
    "    # AdamW optimizer 사용, learning_rate는 2e-5로 설정\n",
    "    # AdamW Optimizer의 구현이 deprecation될 예정이라는 warning massage에 따라 PyTorch에서 제공하는 torch.optim.AdamW를 사용한 것\n",
    "    total_steps = len(train_loader) * epochs\n",
    "    # 전체 학습 횟수 : train_loader 길이 * epochs로 설정\n",
    "    scheduler = get_linear_schedule_with_warmup(optimizer, num_warmup_steps=0, num_training_steps=total_steps)\n",
    "    # scheduler : 학습률을 동적으로 조절\n",
    "    # warmup_steps를 0으로 설정하고 total_steps만큼 스텝마다 학습률 lr을 감소시키도록 설정\n",
    "    # -> 처음 몇 스텝 동안은 학습률을 점진적으로 증가시켜 안정적인 학습 시작 가능\n",
    "\n",
    "    best_val_accuracy = 0  # 2. best_val_accuracy 초기화\n",
    "    no_improvement_counter = 0  # 2. no_improvement_counter 초기화\n",
    "\n",
    "    for epoch in range(epochs):\n",
    "        \n",
    "        # 1. 각 epoch마다 모델을 train mode로 설정\n",
    "        model.train() # train 모드로 설정시 train 데이터를 이용하여 학습\n",
    "        total_loss = 0\n",
    "\n",
    "        for batch in train_loader:\n",
    "            # train_loader로부터 미니배치를 받아 모델을 학습\n",
    "            input_ids, attention_masks, labels = tuple(t.to(device) for t in batch)\n",
    "            # input_ids, attention_masks, labels를 device로 보내서 계산\n",
    "            model.zero_grad() # gradient 초기화 (gradient:손실(loss)의 기울기)\n",
    "            outputs = model(input_ids, token_type_ids=None, attention_mask=attention_masks, labels=labels)\n",
    "            # outputs : model을 이용하여 input_ids, attention_masks, labels를 입력으로 하여 outputs를 계산\n",
    "            # token_type_ids : BERT 모델이 두 개의 문장을 처리할 때 첫 번째 문장과 두 번째 문장의 경계를 나타내는 ID 값\n",
    "\n",
    "            # forward 연산 수행\n",
    "            loss = outputs[0] # 각 loss 계산\n",
    "            total_loss += loss.item() # 총 loss 계산\n",
    "\n",
    "            # backward 연산 수행\n",
    "            loss.backward()\n",
    "            torch.nn.utils.clip_grad_norm_(model.parameters(), 1.0)\n",
    "            # gradient clipping을 통한 gradient exploding 방지\n",
    "            optimizer.step() # optimizer의 step 수행\n",
    "            scheduler.step() # scheduler의 step 수행\n",
    "\n",
    "        avg_train_loss = total_loss / len(train_loader)\n",
    "        # 각 epoch마다의 avg_train_loss 계산\n",
    "\n",
    "\n",
    "\n",
    "        # 2. 각 epoch마다 모델을 train mode로 설정\n",
    "        # 모델의 모드를 train -> eval로 변경하여 검증 데이터에 대한 accuracy 계산\n",
    "        # eval 모드에서는 학습을 하지 않으므로 dropout을 비롯한 regularization 기법이 적용되지 않음\n",
    "        # Dropout이나 BatchNormalization 등 학습과 검증 단계에서 다르게 적용되는 요소를 설정\n",
    "        model.eval()\n",
    "        total_eval_accuracy = 0\n",
    "\n",
    "        # validation 데이터를 이용하여 검증\n",
    "        for batch in val_loader:\n",
    "            input_ids, attention_masks, labels = tuple(t.to(device) for t in batch)\n",
    "            # input_ids, attention_masks, labels를 device로 보내서 계산\n",
    "            with torch.no_grad(): # gradient 계산 안함\n",
    "                # forward 연산 수행\n",
    "                outputs = model(input_ids, token_type_ids=None, attention_mask=attention_masks)\n",
    "            \n",
    "            # logits 계산\n",
    "            logits = outputs[0]\n",
    "            logits = logits.detach().cpu().numpy()\n",
    "             # label_ids 계산\n",
    "            label_ids = labels.to(\"cpu\").numpy()\n",
    "            # accuracy 계산\n",
    "            total_eval_accuracy += accuracy_score(label_ids, logits.argmax(axis=-1))\n",
    "\n",
    "        avg_val_accuracy = total_eval_accuracy / len(val_loader)\n",
    "        # 각 epoch마다의 검증 정확도 avg_val_accuracy 계산\n",
    "        # 이 값이 높을수록 모델이 더 잘 동작하는 것을 의미\n",
    "\n",
    "        # 각 epoch의 training loss와 validation accuracy 출력\n",
    "        print(f\"Epoch: {epoch+1}, Training Loss: {avg_train_loss:.4f}, Validation Accuracy: {avg_val_accuracy:.4f}\")\n",
    "\n",
    "\n",
    "\n",
    "        # Early Stopping을 위한 조건 검사\n",
    "        if avg_val_accuracy > best_val_accuracy:\n",
    "            best_val_accuracy = avg_val_accuracy\n",
    "            no_improvement_counter = 0\n",
    "        else:\n",
    "            no_improvement_counter += 1\n",
    "\n",
    "        # Early Stopping 조건 충족 시 학습 종료\n",
    "        if no_improvement_counter >= patience:\n",
    "            print(f\"Early stopping triggered after {epoch+1} epochs due to no improvement in validation accuracy.\")\n",
    "            break"
   ]
  },
  {
   "cell_type": "markdown",
   "id": "ac7b6c7a",
   "metadata": {
    "id": "ac7b6c7a"
   },
   "source": [
    "## 모델 평가"
   ]
  },
  {
   "cell_type": "code",
   "execution_count": 94,
   "id": "15868240",
   "metadata": {
    "executionInfo": {
     "elapsed": 4,
     "status": "ok",
     "timestamp": 1680493516513,
     "user": {
      "displayName": "이선재",
      "userId": "00528889732199346889"
     },
     "user_tz": -540
    },
    "id": "15868240"
   },
   "outputs": [],
   "source": [
    "from sklearn.metrics import accuracy_score\n",
    "import torch.nn.functional as F\n",
    "\n",
    "# 모델 평가 (test dataset에 대한 성능 평가)\n",
    "def evaluate(model, test_loader):\n",
    "    model.eval()\n",
    "    # 모델의 모드를 evaluation mode로 변경\n",
    "    total_eval_accuracy = 0\n",
    "    total_preds = []\n",
    "    total_labels = []\n",
    "    total_probs = []  # 추가\n",
    "\n",
    "    for batch in test_loader:\n",
    "        # test dataset의 미니배치를 하나씩 가져옴\n",
    "        input_ids, attention_masks, labels = tuple(t.to(device) for t in batch)\n",
    "        # 미니배치에 포함된 input_ids, attention_masks, labels를 device(GPU 또는 CPU)로 전송\n",
    "        with torch.no_grad():\n",
    "            # gradient 계산을 수행하지 않음으로서 메모리 사용을 최적화 \n",
    "            outputs = model(input_ids, token_type_ids=None, attention_mask=attention_masks)\n",
    "            # 모델의 출력값 계산\n",
    "\n",
    "        logits = outputs[0]\n",
    "        # logits : 모델이 예측한 클래스의 점수\n",
    "        probs = F.softmax(logits, dim=-1)\n",
    "        # softmax 함수를 사용하여 확률로 변환\n",
    "        logits = logits.detach().cpu().numpy()\n",
    "        probs = probs.detach().cpu().numpy()\n",
    "        # 모델의 출력값에서 gradient를 분리하고, CPU로 데이터를 전송한 후 numpy 배열로 변환\n",
    "        label_ids = labels.to(\"cpu\").numpy()\n",
    "        # label도 numpy 배열로 변환\n",
    "        total_preds.append(logits.argmax(axis=-1))\n",
    "        total_probs.append(probs[:, 1])  # 추가\n",
    "        total_labels.append(label_ids)\n",
    "\n",
    "\n",
    "        total_eval_accuracy += accuracy_score(label_ids, logits.argmax(axis=-1))\n",
    "        # accuracy_score : 각 미니배치에서 모델이 예측한 레이블과 실제 레이블(label_ids)을 비교하여 정확도를 계산\n",
    "\n",
    "    avg_test_accuracy = total_eval_accuracy / len(test_loader)\n",
    "    # 전체 테스트 데이터셋에 대한 평균 정확도를 계산\n",
    "    print(f\"Test Accuracy: {avg_test_accuracy:.4f}\")\n",
    "    # 평균 정확도 출력\n",
    "    \n",
    "\n",
    "    # 실제 레이블, 모델이 예측한 레이블, 확률, 텍스트를 모아서 표로 출력\n",
    "    preds = np.concatenate(total_preds, axis=0)\n",
    "    probs = np.concatenate(total_probs, axis=0)\n",
    "    labels = np.concatenate(total_labels, axis=0)\n",
    "    texts = total_texts\n",
    "    eval_result_df = pd.DataFrame({'Text': texts, 'Label': labels, 'Prediction': preds, 'Probability': probs})\n",
    "    print(eval_result_df.head(10))\n",
    "\n",
    "\n",
    "    return eval_result_df"
   ]
  },
  {
   "cell_type": "markdown",
   "id": "9c431284",
   "metadata": {
    "id": "9c431284"
   },
   "source": [
    "# 평가"
   ]
  },
  {
   "cell_type": "markdown",
   "id": "c9ab3774",
   "metadata": {
    "id": "c9ab3774"
   },
   "source": [
    "## 적용"
   ]
  },
  {
   "cell_type": "code",
   "execution_count": 95,
   "id": "667915a0",
   "metadata": {
    "colab": {
     "base_uri": "https://localhost:8080/"
    },
    "executionInfo": {
     "elapsed": 1092550,
     "status": "ok",
     "timestamp": 1680494609060,
     "user": {
      "displayName": "이선재",
      "userId": "00528889732199346889"
     },
     "user_tz": -540
    },
    "id": "667915a0",
    "outputId": "e094e59b-decf-44cb-c144-4b809c588b8a"
   },
   "outputs": [
    {
     "name": "stderr",
     "output_type": "stream",
     "text": [
      "Some weights of the model checkpoint at bert-base-uncased were not used when initializing BertForSequenceClassification: ['cls.predictions.decoder.weight', 'cls.predictions.transform.LayerNorm.bias', 'cls.predictions.bias', 'cls.predictions.transform.LayerNorm.weight', 'cls.seq_relationship.weight', 'cls.seq_relationship.bias', 'cls.predictions.transform.dense.bias', 'cls.predictions.transform.dense.weight']\n",
      "- This IS expected if you are initializing BertForSequenceClassification from the checkpoint of a model trained on another task or with another architecture (e.g. initializing a BertForSequenceClassification model from a BertForPreTraining model).\n",
      "- This IS NOT expected if you are initializing BertForSequenceClassification from the checkpoint of a model that you expect to be exactly identical (initializing a BertForSequenceClassification model from a BertForSequenceClassification model).\n",
      "Some weights of BertForSequenceClassification were not initialized from the model checkpoint at bert-base-uncased and are newly initialized: ['classifier.bias', 'classifier.weight']\n",
      "You should probably TRAIN this model on a down-stream task to be able to use it for predictions and inference.\n"
     ]
    },
    {
     "name": "stdout",
     "output_type": "stream",
     "text": [
      "Epoch: 1, Training Loss: 0.1671, Validation Accuracy: 0.9493\n",
      "Epoch: 2, Training Loss: 0.0854, Validation Accuracy: 0.9516\n",
      "Epoch: 3, Training Loss: 0.0469, Validation Accuracy: 0.9513\n",
      "Epoch: 4, Training Loss: 0.0285, Validation Accuracy: 0.9521\n",
      "Test Accuracy: 0.9839\n",
      "                                                Text  Label  Prediction  \\\n",
      "0  Gives Toto a run for your money..Excellent sol...      1           1   \n",
      "1  Amazing.After owning the Bio Bidet. I can’t se...      1           1   \n",
      "2               Warning - looong review.Installation      1           1   \n",
      "3  Life changing!.We originally purchased this un...      1           1   \n",
      "4  A wonderful addition to our house! .I have alw...      1           1   \n",
      "5  Great coverage and the warranty is just great!...      1           1   \n",
      "6  Great product..Great product. Easy to install....      1           1   \n",
      "7  Facile à installer, répond à tous nos besoins,...      1           1   \n",
      "8  So fresh and so clean, clean❤️.This is great. ...      1           1   \n",
      "9  As advertised.Finally decided it was time. And...      1           1   \n",
      "\n",
      "   Probability  \n",
      "0     0.999522  \n",
      "1     0.998895  \n",
      "2     0.990475  \n",
      "3     0.999522  \n",
      "4     0.999476  \n",
      "5     0.999644  \n",
      "6     0.999574  \n",
      "7     0.999475  \n",
      "8     0.999469  \n",
      "9     0.999532  \n"
     ]
    }
   ],
   "source": [
    "from sklearn.model_selection import train_test_split\n",
    "\n",
    "# train 데이터와 validation 데이터를 분리\n",
    "train_data, val_data, train_labels, val_labels = train_test_split(preprocessed_train_data, train_labels, test_size=0.2, random_state=42)\n",
    "\n",
    "# 전처리된 데이터 토큰화\n",
    "train_input_ids, train_attention_masks = tokenize_data(train_data, max_length=128)\n",
    "val_input_ids, val_attention_masks = tokenize_data(val_data, max_length=128)\n",
    "test_input_ids, test_attention_masks = tokenize_data(preprocessed_test_data)\n",
    "\n",
    "# 라벨을 텐서로 변환\n",
    "train_labels_tensor = torch.tensor(train_labels.values)\n",
    "val_labels_tensor = torch.tensor(val_labels.values)\n",
    "test_labels_tensor = torch.tensor(test_labels.values)\n",
    "\n",
    "# 데이터 로더 생성\n",
    "train_loader = create_dataset(train_input_ids, train_attention_masks, train_labels_tensor, batch_size=32)\n",
    "val_loader = create_dataset(val_input_ids, val_attention_masks, val_labels_tensor, batch_size=32)\n",
    "test_loader = create_dataset(test_input_ids, test_attention_masks, test_labels_tensor)\n",
    "\n",
    "# 모델 불러오기\n",
    "device = torch.device(\"cuda\")\n",
    "model = load_model()\n",
    "\n",
    "# 모델 학습\n",
    "train = train(model, train_loader, val_loader, epochs=4, learning_rate=2e-5)\n",
    "\n",
    "# 모델 평가\n",
    "eval_result_df = evaluate(model, test_loader)"
   ]
  },
  {
   "cell_type": "code",
   "execution_count": 106,
   "id": "66sdLjKcWVkZ",
   "metadata": {
    "colab": {
     "base_uri": "https://localhost:8080/",
     "height": 624
    },
    "executionInfo": {
     "elapsed": 630,
     "status": "ok",
     "timestamp": 1680494918639,
     "user": {
      "displayName": "이선재",
      "userId": "00528889732199346889"
     },
     "user_tz": -540
    },
    "id": "66sdLjKcWVkZ",
    "outputId": "09d6ca5d-129b-4321-a470-fb501eb4b349"
   },
   "outputs": [
    {
     "data": {
      "text/html": [
       "\n",
       "  <div id=\"df-ddd14bb4-cafa-44d1-841b-b2fb372c8d6b\">\n",
       "    <div class=\"colab-df-container\">\n",
       "      <div>\n",
       "<style scoped>\n",
       "    .dataframe tbody tr th:only-of-type {\n",
       "        vertical-align: middle;\n",
       "    }\n",
       "\n",
       "    .dataframe tbody tr th {\n",
       "        vertical-align: top;\n",
       "    }\n",
       "\n",
       "    .dataframe thead th {\n",
       "        text-align: right;\n",
       "    }\n",
       "</style>\n",
       "<table border=\"1\" class=\"dataframe\">\n",
       "  <thead>\n",
       "    <tr style=\"text-align: right;\">\n",
       "      <th></th>\n",
       "      <th>Text</th>\n",
       "      <th>Label</th>\n",
       "      <th>Prediction</th>\n",
       "      <th>Probability</th>\n",
       "    </tr>\n",
       "  </thead>\n",
       "  <tbody>\n",
       "    <tr>\n",
       "      <th>0</th>\n",
       "      <td>Gives Toto a run for your money..Excellent sol...</td>\n",
       "      <td>1</td>\n",
       "      <td>1</td>\n",
       "      <td>0.999522</td>\n",
       "    </tr>\n",
       "    <tr>\n",
       "      <th>1</th>\n",
       "      <td>Amazing.After owning the Bio Bidet. I can’t se...</td>\n",
       "      <td>1</td>\n",
       "      <td>1</td>\n",
       "      <td>0.998895</td>\n",
       "    </tr>\n",
       "    <tr>\n",
       "      <th>2</th>\n",
       "      <td>Warning - looong review.Installation</td>\n",
       "      <td>1</td>\n",
       "      <td>1</td>\n",
       "      <td>0.990475</td>\n",
       "    </tr>\n",
       "    <tr>\n",
       "      <th>3</th>\n",
       "      <td>Life changing!.We originally purchased this un...</td>\n",
       "      <td>1</td>\n",
       "      <td>1</td>\n",
       "      <td>0.999522</td>\n",
       "    </tr>\n",
       "    <tr>\n",
       "      <th>4</th>\n",
       "      <td>A wonderful addition to our house! .I have alw...</td>\n",
       "      <td>1</td>\n",
       "      <td>1</td>\n",
       "      <td>0.999476</td>\n",
       "    </tr>\n",
       "    <tr>\n",
       "      <th>...</th>\n",
       "      <td>...</td>\n",
       "      <td>...</td>\n",
       "      <td>...</td>\n",
       "      <td>...</td>\n",
       "    </tr>\n",
       "    <tr>\n",
       "      <th>13085</th>\n",
       "      <td>Great Value, Awesome Features.I bought this fo...</td>\n",
       "      <td>1</td>\n",
       "      <td>1</td>\n",
       "      <td>0.999580</td>\n",
       "    </tr>\n",
       "    <tr>\n",
       "      <th>13086</th>\n",
       "      <td>Best gift ever ! .A friend bought me a biobide...</td>\n",
       "      <td>1</td>\n",
       "      <td>1</td>\n",
       "      <td>0.999397</td>\n",
       "    </tr>\n",
       "    <tr>\n",
       "      <th>13087</th>\n",
       "      <td>Best Buy last months!.Wow, how did we even kno...</td>\n",
       "      <td>1</td>\n",
       "      <td>1</td>\n",
       "      <td>0.999456</td>\n",
       "    </tr>\n",
       "    <tr>\n",
       "      <th>13088</th>\n",
       "      <td>Excellent product.I am extremely happy with th...</td>\n",
       "      <td>1</td>\n",
       "      <td>1</td>\n",
       "      <td>0.999532</td>\n",
       "    </tr>\n",
       "    <tr>\n",
       "      <th>13089</th>\n",
       "      <td>Use wrench when installing!.Use wrench when in...</td>\n",
       "      <td>1</td>\n",
       "      <td>1</td>\n",
       "      <td>0.999637</td>\n",
       "    </tr>\n",
       "  </tbody>\n",
       "</table>\n",
       "<p>13090 rows × 4 columns</p>\n",
       "</div>\n",
       "      <button class=\"colab-df-convert\" onclick=\"convertToInteractive('df-ddd14bb4-cafa-44d1-841b-b2fb372c8d6b')\"\n",
       "              title=\"Convert this dataframe to an interactive table.\"\n",
       "              style=\"display:none;\">\n",
       "        \n",
       "  <svg xmlns=\"http://www.w3.org/2000/svg\" height=\"24px\"viewBox=\"0 0 24 24\"\n",
       "       width=\"24px\">\n",
       "    <path d=\"M0 0h24v24H0V0z\" fill=\"none\"/>\n",
       "    <path d=\"M18.56 5.44l.94 2.06.94-2.06 2.06-.94-2.06-.94-.94-2.06-.94 2.06-2.06.94zm-11 1L8.5 8.5l.94-2.06 2.06-.94-2.06-.94L8.5 2.5l-.94 2.06-2.06.94zm10 10l.94 2.06.94-2.06 2.06-.94-2.06-.94-.94-2.06-.94 2.06-2.06.94z\"/><path d=\"M17.41 7.96l-1.37-1.37c-.4-.4-.92-.59-1.43-.59-.52 0-1.04.2-1.43.59L10.3 9.45l-7.72 7.72c-.78.78-.78 2.05 0 2.83L4 21.41c.39.39.9.59 1.41.59.51 0 1.02-.2 1.41-.59l7.78-7.78 2.81-2.81c.8-.78.8-2.07 0-2.86zM5.41 20L4 18.59l7.72-7.72 1.47 1.35L5.41 20z\"/>\n",
       "  </svg>\n",
       "      </button>\n",
       "      \n",
       "  <style>\n",
       "    .colab-df-container {\n",
       "      display:flex;\n",
       "      flex-wrap:wrap;\n",
       "      gap: 12px;\n",
       "    }\n",
       "\n",
       "    .colab-df-convert {\n",
       "      background-color: #E8F0FE;\n",
       "      border: none;\n",
       "      border-radius: 50%;\n",
       "      cursor: pointer;\n",
       "      display: none;\n",
       "      fill: #1967D2;\n",
       "      height: 32px;\n",
       "      padding: 0 0 0 0;\n",
       "      width: 32px;\n",
       "    }\n",
       "\n",
       "    .colab-df-convert:hover {\n",
       "      background-color: #E2EBFA;\n",
       "      box-shadow: 0px 1px 2px rgba(60, 64, 67, 0.3), 0px 1px 3px 1px rgba(60, 64, 67, 0.15);\n",
       "      fill: #174EA6;\n",
       "    }\n",
       "\n",
       "    [theme=dark] .colab-df-convert {\n",
       "      background-color: #3B4455;\n",
       "      fill: #D2E3FC;\n",
       "    }\n",
       "\n",
       "    [theme=dark] .colab-df-convert:hover {\n",
       "      background-color: #434B5C;\n",
       "      box-shadow: 0px 1px 3px 1px rgba(0, 0, 0, 0.15);\n",
       "      filter: drop-shadow(0px 1px 2px rgba(0, 0, 0, 0.3));\n",
       "      fill: #FFFFFF;\n",
       "    }\n",
       "  </style>\n",
       "\n",
       "      <script>\n",
       "        const buttonEl =\n",
       "          document.querySelector('#df-ddd14bb4-cafa-44d1-841b-b2fb372c8d6b button.colab-df-convert');\n",
       "        buttonEl.style.display =\n",
       "          google.colab.kernel.accessAllowed ? 'block' : 'none';\n",
       "\n",
       "        async function convertToInteractive(key) {\n",
       "          const element = document.querySelector('#df-ddd14bb4-cafa-44d1-841b-b2fb372c8d6b');\n",
       "          const dataTable =\n",
       "            await google.colab.kernel.invokeFunction('convertToInteractive',\n",
       "                                                     [key], {});\n",
       "          if (!dataTable) return;\n",
       "\n",
       "          const docLinkHtml = 'Like what you see? Visit the ' +\n",
       "            '<a target=\"_blank\" href=https://colab.research.google.com/notebooks/data_table.ipynb>data table notebook</a>'\n",
       "            + ' to learn more about interactive tables.';\n",
       "          element.innerHTML = '';\n",
       "          dataTable['output_type'] = 'display_data';\n",
       "          await google.colab.output.renderOutput(dataTable, element);\n",
       "          const docLink = document.createElement('div');\n",
       "          docLink.innerHTML = docLinkHtml;\n",
       "          element.appendChild(docLink);\n",
       "        }\n",
       "      </script>\n",
       "    </div>\n",
       "  </div>\n",
       "  "
      ],
      "text/plain": [
       "                                                    Text  Label  Prediction  \\\n",
       "0      Gives Toto a run for your money..Excellent sol...      1           1   \n",
       "1      Amazing.After owning the Bio Bidet. I can’t se...      1           1   \n",
       "2                   Warning - looong review.Installation      1           1   \n",
       "3      Life changing!.We originally purchased this un...      1           1   \n",
       "4      A wonderful addition to our house! .I have alw...      1           1   \n",
       "...                                                  ...    ...         ...   \n",
       "13085  Great Value, Awesome Features.I bought this fo...      1           1   \n",
       "13086  Best gift ever ! .A friend bought me a biobide...      1           1   \n",
       "13087  Best Buy last months!.Wow, how did we even kno...      1           1   \n",
       "13088  Excellent product.I am extremely happy with th...      1           1   \n",
       "13089  Use wrench when installing!.Use wrench when in...      1           1   \n",
       "\n",
       "       Probability  \n",
       "0         0.999522  \n",
       "1         0.998895  \n",
       "2         0.990475  \n",
       "3         0.999522  \n",
       "4         0.999476  \n",
       "...            ...  \n",
       "13085     0.999580  \n",
       "13086     0.999397  \n",
       "13087     0.999456  \n",
       "13088     0.999532  \n",
       "13089     0.999637  \n",
       "\n",
       "[13090 rows x 4 columns]"
      ]
     },
     "execution_count": 106,
     "metadata": {},
     "output_type": "execute_result"
    }
   ],
   "source": [
    "eval_result_df1 = eval_result_df.copy()\n",
    "eval_result_df1"
   ]
  },
  {
   "cell_type": "code",
   "execution_count": 109,
   "id": "CTWkDBRYTdkJ",
   "metadata": {
    "colab": {
     "base_uri": "https://localhost:8080/",
     "height": 624
    },
    "executionInfo": {
     "elapsed": 478,
     "status": "ok",
     "timestamp": 1680494963645,
     "user": {
      "displayName": "이선재",
      "userId": "00528889732199346889"
     },
     "user_tz": -540
    },
    "id": "CTWkDBRYTdkJ",
    "outputId": "5b61a3f6-13e7-4911-bf35-a626289e1a02"
   },
   "outputs": [
    {
     "data": {
      "text/html": [
       "\n",
       "  <div id=\"df-969f3ca1-ebca-454d-8574-963f7d090b5f\">\n",
       "    <div class=\"colab-df-container\">\n",
       "      <div>\n",
       "<style scoped>\n",
       "    .dataframe tbody tr th:only-of-type {\n",
       "        vertical-align: middle;\n",
       "    }\n",
       "\n",
       "    .dataframe tbody tr th {\n",
       "        vertical-align: top;\n",
       "    }\n",
       "\n",
       "    .dataframe thead th {\n",
       "        text-align: right;\n",
       "    }\n",
       "</style>\n",
       "<table border=\"1\" class=\"dataframe\">\n",
       "  <thead>\n",
       "    <tr style=\"text-align: right;\">\n",
       "      <th></th>\n",
       "      <th>Text</th>\n",
       "      <th>Label</th>\n",
       "      <th>Prediction</th>\n",
       "      <th>Probability</th>\n",
       "    </tr>\n",
       "  </thead>\n",
       "  <tbody>\n",
       "    <tr>\n",
       "      <th>0</th>\n",
       "      <td>Gives Toto a run for your money..Excellent sol...</td>\n",
       "      <td>1</td>\n",
       "      <td>1</td>\n",
       "      <td>0.999522</td>\n",
       "    </tr>\n",
       "    <tr>\n",
       "      <th>1</th>\n",
       "      <td>Amazing.After owning the Bio Bidet. I can’t se...</td>\n",
       "      <td>1</td>\n",
       "      <td>1</td>\n",
       "      <td>0.998895</td>\n",
       "    </tr>\n",
       "    <tr>\n",
       "      <th>2</th>\n",
       "      <td>Warning - looong review.Installation</td>\n",
       "      <td>1</td>\n",
       "      <td>1</td>\n",
       "      <td>0.990475</td>\n",
       "    </tr>\n",
       "    <tr>\n",
       "      <th>3</th>\n",
       "      <td>Life changing!.We originally purchased this un...</td>\n",
       "      <td>1</td>\n",
       "      <td>1</td>\n",
       "      <td>0.999522</td>\n",
       "    </tr>\n",
       "    <tr>\n",
       "      <th>4</th>\n",
       "      <td>A wonderful addition to our house! .I have alw...</td>\n",
       "      <td>1</td>\n",
       "      <td>1</td>\n",
       "      <td>0.999476</td>\n",
       "    </tr>\n",
       "    <tr>\n",
       "      <th>...</th>\n",
       "      <td>...</td>\n",
       "      <td>...</td>\n",
       "      <td>...</td>\n",
       "      <td>...</td>\n",
       "    </tr>\n",
       "    <tr>\n",
       "      <th>13085</th>\n",
       "      <td>Great Value, Awesome Features.I bought this fo...</td>\n",
       "      <td>1</td>\n",
       "      <td>1</td>\n",
       "      <td>0.999580</td>\n",
       "    </tr>\n",
       "    <tr>\n",
       "      <th>13086</th>\n",
       "      <td>Best gift ever ! .A friend bought me a biobide...</td>\n",
       "      <td>1</td>\n",
       "      <td>1</td>\n",
       "      <td>0.999397</td>\n",
       "    </tr>\n",
       "    <tr>\n",
       "      <th>13087</th>\n",
       "      <td>Best Buy last months!.Wow, how did we even kno...</td>\n",
       "      <td>1</td>\n",
       "      <td>1</td>\n",
       "      <td>0.999456</td>\n",
       "    </tr>\n",
       "    <tr>\n",
       "      <th>13088</th>\n",
       "      <td>Excellent product.I am extremely happy with th...</td>\n",
       "      <td>1</td>\n",
       "      <td>1</td>\n",
       "      <td>0.999532</td>\n",
       "    </tr>\n",
       "    <tr>\n",
       "      <th>13089</th>\n",
       "      <td>Use wrench when installing!.Use wrench when in...</td>\n",
       "      <td>1</td>\n",
       "      <td>1</td>\n",
       "      <td>0.999637</td>\n",
       "    </tr>\n",
       "  </tbody>\n",
       "</table>\n",
       "<p>13090 rows × 4 columns</p>\n",
       "</div>\n",
       "      <button class=\"colab-df-convert\" onclick=\"convertToInteractive('df-969f3ca1-ebca-454d-8574-963f7d090b5f')\"\n",
       "              title=\"Convert this dataframe to an interactive table.\"\n",
       "              style=\"display:none;\">\n",
       "        \n",
       "  <svg xmlns=\"http://www.w3.org/2000/svg\" height=\"24px\"viewBox=\"0 0 24 24\"\n",
       "       width=\"24px\">\n",
       "    <path d=\"M0 0h24v24H0V0z\" fill=\"none\"/>\n",
       "    <path d=\"M18.56 5.44l.94 2.06.94-2.06 2.06-.94-2.06-.94-.94-2.06-.94 2.06-2.06.94zm-11 1L8.5 8.5l.94-2.06 2.06-.94-2.06-.94L8.5 2.5l-.94 2.06-2.06.94zm10 10l.94 2.06.94-2.06 2.06-.94-2.06-.94-.94-2.06-.94 2.06-2.06.94z\"/><path d=\"M17.41 7.96l-1.37-1.37c-.4-.4-.92-.59-1.43-.59-.52 0-1.04.2-1.43.59L10.3 9.45l-7.72 7.72c-.78.78-.78 2.05 0 2.83L4 21.41c.39.39.9.59 1.41.59.51 0 1.02-.2 1.41-.59l7.78-7.78 2.81-2.81c.8-.78.8-2.07 0-2.86zM5.41 20L4 18.59l7.72-7.72 1.47 1.35L5.41 20z\"/>\n",
       "  </svg>\n",
       "      </button>\n",
       "      \n",
       "  <style>\n",
       "    .colab-df-container {\n",
       "      display:flex;\n",
       "      flex-wrap:wrap;\n",
       "      gap: 12px;\n",
       "    }\n",
       "\n",
       "    .colab-df-convert {\n",
       "      background-color: #E8F0FE;\n",
       "      border: none;\n",
       "      border-radius: 50%;\n",
       "      cursor: pointer;\n",
       "      display: none;\n",
       "      fill: #1967D2;\n",
       "      height: 32px;\n",
       "      padding: 0 0 0 0;\n",
       "      width: 32px;\n",
       "    }\n",
       "\n",
       "    .colab-df-convert:hover {\n",
       "      background-color: #E2EBFA;\n",
       "      box-shadow: 0px 1px 2px rgba(60, 64, 67, 0.3), 0px 1px 3px 1px rgba(60, 64, 67, 0.15);\n",
       "      fill: #174EA6;\n",
       "    }\n",
       "\n",
       "    [theme=dark] .colab-df-convert {\n",
       "      background-color: #3B4455;\n",
       "      fill: #D2E3FC;\n",
       "    }\n",
       "\n",
       "    [theme=dark] .colab-df-convert:hover {\n",
       "      background-color: #434B5C;\n",
       "      box-shadow: 0px 1px 3px 1px rgba(0, 0, 0, 0.15);\n",
       "      filter: drop-shadow(0px 1px 2px rgba(0, 0, 0, 0.3));\n",
       "      fill: #FFFFFF;\n",
       "    }\n",
       "  </style>\n",
       "\n",
       "      <script>\n",
       "        const buttonEl =\n",
       "          document.querySelector('#df-969f3ca1-ebca-454d-8574-963f7d090b5f button.colab-df-convert');\n",
       "        buttonEl.style.display =\n",
       "          google.colab.kernel.accessAllowed ? 'block' : 'none';\n",
       "\n",
       "        async function convertToInteractive(key) {\n",
       "          const element = document.querySelector('#df-969f3ca1-ebca-454d-8574-963f7d090b5f');\n",
       "          const dataTable =\n",
       "            await google.colab.kernel.invokeFunction('convertToInteractive',\n",
       "                                                     [key], {});\n",
       "          if (!dataTable) return;\n",
       "\n",
       "          const docLinkHtml = 'Like what you see? Visit the ' +\n",
       "            '<a target=\"_blank\" href=https://colab.research.google.com/notebooks/data_table.ipynb>data table notebook</a>'\n",
       "            + ' to learn more about interactive tables.';\n",
       "          element.innerHTML = '';\n",
       "          dataTable['output_type'] = 'display_data';\n",
       "          await google.colab.output.renderOutput(dataTable, element);\n",
       "          const docLink = document.createElement('div');\n",
       "          docLink.innerHTML = docLinkHtml;\n",
       "          element.appendChild(docLink);\n",
       "        }\n",
       "      </script>\n",
       "    </div>\n",
       "  </div>\n",
       "  "
      ],
      "text/plain": [
       "                                                    Text  Label  Prediction  \\\n",
       "0      Gives Toto a run for your money..Excellent sol...      1           1   \n",
       "1      Amazing.After owning the Bio Bidet. I can’t se...      1           1   \n",
       "2                   Warning - looong review.Installation      1           1   \n",
       "3      Life changing!.We originally purchased this un...      1           1   \n",
       "4      A wonderful addition to our house! .I have alw...      1           1   \n",
       "...                                                  ...    ...         ...   \n",
       "13085  Great Value, Awesome Features.I bought this fo...      1           1   \n",
       "13086  Best gift ever ! .A friend bought me a biobide...      1           1   \n",
       "13087  Best Buy last months!.Wow, how did we even kno...      1           1   \n",
       "13088  Excellent product.I am extremely happy with th...      1           1   \n",
       "13089  Use wrench when installing!.Use wrench when in...      1           1   \n",
       "\n",
       "       Probability  \n",
       "0         0.999522  \n",
       "1         0.998895  \n",
       "2         0.990475  \n",
       "3         0.999522  \n",
       "4         0.999476  \n",
       "...            ...  \n",
       "13085     0.999580  \n",
       "13086     0.999397  \n",
       "13087     0.999456  \n",
       "13088     0.999532  \n",
       "13089     0.999637  \n",
       "\n",
       "[13090 rows x 4 columns]"
      ]
     },
     "execution_count": 109,
     "metadata": {},
     "output_type": "execute_result"
    }
   ],
   "source": [
    "eval_result_df1 = pd.DataFrame(eval_result_df1)\n",
    "eval_result_df1"
   ]
  },
  {
   "cell_type": "code",
   "execution_count": 116,
   "id": "cDkwrp0USgGH",
   "metadata": {
    "executionInfo": {
     "elapsed": 2634,
     "status": "ok",
     "timestamp": 1680495225589,
     "user": {
      "displayName": "이선재",
      "userId": "00528889732199346889"
     },
     "user_tz": -540
    },
    "id": "cDkwrp0USgGH"
   },
   "outputs": [],
   "source": [
    "eval_result_df1.to_excel('/content/drive/MyDrive/데이터 분석/07. 1차 프로젝트/03. 머신러닝_딥러닝/sentiment.xlsx')"
   ]
  },
  {
   "cell_type": "markdown",
   "id": "cc4799f4",
   "metadata": {
    "id": "cc4799f4"
   },
   "source": [
    "## 모델 저장 "
   ]
  },
  {
   "cell_type": "code",
   "execution_count": 97,
   "id": "b23ad060",
   "metadata": {
    "executionInfo": {
     "elapsed": 750,
     "status": "ok",
     "timestamp": 1680494609804,
     "user": {
      "displayName": "이선재",
      "userId": "00528889732199346889"
     },
     "user_tz": -540
    },
    "id": "b23ad060"
   },
   "outputs": [],
   "source": [
    "model.save_pretrained('./model')"
   ]
  },
  {
   "cell_type": "markdown",
   "id": "ced944fc",
   "metadata": {
    "id": "ced944fc"
   },
   "source": [
    "## 이미지 저장"
   ]
  },
  {
   "cell_type": "code",
   "execution_count": 98,
   "id": "faaeab63",
   "metadata": {
    "colab": {
     "base_uri": "https://localhost:8080/",
     "height": 192
    },
    "executionInfo": {
     "elapsed": 18,
     "status": "error",
     "timestamp": 1680494609805,
     "user": {
      "displayName": "이선재",
      "userId": "00528889732199346889"
     },
     "user_tz": -540
    },
    "id": "faaeab63",
    "outputId": "7df8e56a-17b9-4813-c13b-93e9ce36c221"
   },
   "outputs": [
    {
     "ename": "NameError",
     "evalue": "ignored",
     "output_type": "error",
     "traceback": [
      "\u001b[0;31m---------------------------------------------------------------------------\u001b[0m",
      "\u001b[0;31mNameError\u001b[0m                                 Traceback (most recent call last)",
      "\u001b[0;32m<ipython-input-98-65e3a435c3ab>\u001b[0m in \u001b[0;36m<cell line: 2>\u001b[0;34m()\u001b[0m\n\u001b[1;32m      1\u001b[0m \u001b[0;32mfrom\u001b[0m \u001b[0mIPython\u001b[0m\u001b[0;34m.\u001b[0m\u001b[0mdisplay\u001b[0m \u001b[0;32mimport\u001b[0m \u001b[0mImage\u001b[0m\u001b[0;34m\u001b[0m\u001b[0;34m\u001b[0m\u001b[0m\n\u001b[0;32m----> 2\u001b[0;31m \u001b[0mImage\u001b[0m\u001b[0;34m(\u001b[0m\u001b[0mfilename\u001b[0m\u001b[0;34m=\u001b[0m\u001b[0mfilename\u001b[0m\u001b[0;34m)\u001b[0m\u001b[0;34m\u001b[0m\u001b[0;34m\u001b[0m\u001b[0m\n\u001b[0m",
      "\u001b[0;31mNameError\u001b[0m: name 'filename' is not defined"
     ]
    }
   ],
   "source": [
    "from IPython.display import Image\n",
    "Image(filename=filename)"
   ]
  },
  {
   "cell_type": "code",
   "execution_count": null,
   "id": "30f8f4cb",
   "metadata": {
    "executionInfo": {
     "elapsed": 16,
     "status": "aborted",
     "timestamp": 1680494609806,
     "user": {
      "displayName": "이선재",
      "userId": "00528889732199346889"
     },
     "user_tz": -540
    },
    "id": "30f8f4cb"
   },
   "outputs": [],
   "source": []
  },
  {
   "cell_type": "code",
   "execution_count": null,
   "id": "796b6a7c",
   "metadata": {
    "executionInfo": {
     "elapsed": 16,
     "status": "aborted",
     "timestamp": 1680494609807,
     "user": {
      "displayName": "이선재",
      "userId": "00528889732199346889"
     },
     "user_tz": -540
    },
    "id": "796b6a7c"
   },
   "outputs": [],
   "source": []
  }
 ],
 "metadata": {
  "accelerator": "GPU",
  "colab": {
   "machine_shape": "hm",
   "provenance": [],
   "toc_visible": true
  },
  "gpuClass": "premium",
  "kernelspec": {
   "display_name": "Python 3 (ipykernel)",
   "language": "python",
   "name": "python3"
  },
  "language_info": {
   "codemirror_mode": {
    "name": "ipython",
    "version": 3
   },
   "file_extension": ".py",
   "mimetype": "text/x-python",
   "name": "python",
   "nbconvert_exporter": "python",
   "pygments_lexer": "ipython3",
   "version": "3.9.13"
  },
  "toc": {
   "base_numbering": 1,
   "nav_menu": {},
   "number_sections": true,
   "sideBar": true,
   "skip_h1_title": false,
   "title_cell": "Table of Contents",
   "title_sidebar": "Contents",
   "toc_cell": false,
   "toc_position": {
    "height": "771.467px",
    "left": "147px",
    "top": "159.067px",
    "width": "286.6px"
   },
   "toc_section_display": true,
   "toc_window_display": true
  }
 },
 "nbformat": 4,
 "nbformat_minor": 5
}
